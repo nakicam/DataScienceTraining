{
 "cells": [
  {
   "cell_type": "code",
   "execution_count": 1,
   "metadata": {
    "collapsed": false
   },
   "outputs": [
    {
     "name": "stdout",
     "output_type": "stream",
     "text": [
      "Working directory is set to /Users/rwk7t/Development/dst/courses/coursera_bigdata/course2\n"
     ]
    }
   ],
   "source": [
    "# %matplotlib inline\n",
    "# import matplotlib.pylab as plt\n",
    "import pandas as pd\n",
    "import numpy as np\n",
    "import os\n",
    "\n",
    "pd.set_option('display.max_rows', 500)\n",
    "pd.set_option('display.max_columns', 500)\n",
    "pd.set_option('precision', 6)\n",
    "\n",
    "# from pylab import rcParams\n",
    "# import matplotlib\n",
    "# matplotlib.style.use('ggplot')\n",
    "# rcParams['figure.figsize'] = 8,6\n",
    "\n",
    "# Autoreload modules after editing\n",
    "%load_ext autoreload\n",
    "%autoreload 2\n",
    "\n",
    "# set the notebook's working \n",
    "working_directory = '/Users/rwk7t/Development/dst/courses/coursera_bigdata/course2'\n",
    "os.chdir(working_directory)  \n",
    "print('Working directory is set to %s' %os.getcwd())"
   ]
  },
  {
   "cell_type": "markdown",
   "metadata": {},
   "source": [
    "## get program count"
   ]
  },
  {
   "cell_type": "code",
   "execution_count": 2,
   "metadata": {
    "collapsed": true
   },
   "outputs": [],
   "source": [
    "program_count = {}\n",
    "program_count['A'] = pd.read_csv('join2_gennumA.txt', header = None, names = ['program', 'count'])\n",
    "program_count['B'] = pd.read_csv('join2_gennumB.txt', header = None, names = ['program', 'count'])\n",
    "program_count['C'] = pd.read_csv('join2_gennumC.txt', header = None, names = ['program', 'count'])"
   ]
  },
  {
   "cell_type": "code",
   "execution_count": 3,
   "metadata": {
    "collapsed": false
   },
   "outputs": [
    {
     "data": {
      "text/html": [
       "<div>\n",
       "<table border=\"1\" class=\"dataframe\">\n",
       "  <thead>\n",
       "    <tr style=\"text-align: right;\">\n",
       "      <th></th>\n",
       "      <th>program</th>\n",
       "      <th>count</th>\n",
       "    </tr>\n",
       "  </thead>\n",
       "  <tbody>\n",
       "    <tr>\n",
       "      <th>0</th>\n",
       "      <td>Hourly_Sports</td>\n",
       "      <td>21</td>\n",
       "    </tr>\n",
       "    <tr>\n",
       "      <th>1</th>\n",
       "      <td>PostModern_Show</td>\n",
       "      <td>38</td>\n",
       "    </tr>\n",
       "    <tr>\n",
       "      <th>2</th>\n",
       "      <td>Surreal_News</td>\n",
       "      <td>73</td>\n",
       "    </tr>\n",
       "  </tbody>\n",
       "</table>\n",
       "</div>"
      ],
      "text/plain": [
       "           program  count\n",
       "0    Hourly_Sports     21\n",
       "1  PostModern_Show     38\n",
       "2     Surreal_News     73"
      ]
     },
     "execution_count": 3,
     "metadata": {},
     "output_type": "execute_result"
    }
   ],
   "source": [
    "program_count['A'].head(3)"
   ]
  },
  {
   "cell_type": "code",
   "execution_count": 4,
   "metadata": {
    "collapsed": false
   },
   "outputs": [
    {
     "data": {
      "text/html": [
       "<div>\n",
       "<table border=\"1\" class=\"dataframe\">\n",
       "  <thead>\n",
       "    <tr style=\"text-align: right;\">\n",
       "      <th></th>\n",
       "      <th>program</th>\n",
       "      <th>count</th>\n",
       "    </tr>\n",
       "  </thead>\n",
       "  <tbody>\n",
       "    <tr>\n",
       "      <th>0</th>\n",
       "      <td>Almost_Cooking</td>\n",
       "      <td>49501</td>\n",
       "    </tr>\n",
       "    <tr>\n",
       "      <th>1</th>\n",
       "      <td>Almost_Games</td>\n",
       "      <td>49237</td>\n",
       "    </tr>\n",
       "    <tr>\n",
       "      <th>2</th>\n",
       "      <td>Almost_News</td>\n",
       "      <td>46592</td>\n",
       "    </tr>\n",
       "  </tbody>\n",
       "</table>\n",
       "</div>"
      ],
      "text/plain": [
       "          program  count\n",
       "0  Almost_Cooking  49501\n",
       "1    Almost_Games  49237\n",
       "2     Almost_News  46592"
      ]
     },
     "execution_count": 4,
     "metadata": {},
     "output_type": "execute_result"
    }
   ],
   "source": [
    "# concat\n",
    "program_count_full = pd.concat([program_count['A'],program_count['B'], program_count['C']])\n",
    "program_count_full = program_count_full.groupby('program', as_index = False).sum()\n",
    "program_count_full.head(3)"
   ]
  },
  {
   "cell_type": "markdown",
   "metadata": {},
   "source": [
    "## get program channels"
   ]
  },
  {
   "cell_type": "code",
   "execution_count": 5,
   "metadata": {
    "collapsed": false
   },
   "outputs": [
    {
     "data": {
      "text/html": [
       "<div>\n",
       "<table border=\"1\" class=\"dataframe\">\n",
       "  <thead>\n",
       "    <tr style=\"text-align: right;\">\n",
       "      <th></th>\n",
       "      <th>program</th>\n",
       "      <th>channel</th>\n",
       "    </tr>\n",
       "  </thead>\n",
       "  <tbody>\n",
       "    <tr>\n",
       "      <th>0</th>\n",
       "      <td>Hourly_Sports</td>\n",
       "      <td>DEF</td>\n",
       "    </tr>\n",
       "    <tr>\n",
       "      <th>1</th>\n",
       "      <td>Baked_News</td>\n",
       "      <td>BAT</td>\n",
       "    </tr>\n",
       "    <tr>\n",
       "      <th>2</th>\n",
       "      <td>PostModern_Talking</td>\n",
       "      <td>XYZ</td>\n",
       "    </tr>\n",
       "  </tbody>\n",
       "</table>\n",
       "</div>"
      ],
      "text/plain": [
       "              program channel\n",
       "0       Hourly_Sports     DEF\n",
       "1          Baked_News     BAT\n",
       "2  PostModern_Talking     XYZ"
      ]
     },
     "execution_count": 5,
     "metadata": {},
     "output_type": "execute_result"
    }
   ],
   "source": [
    "program_channel = {}\n",
    "program_channel['A'] = pd.read_csv('join2_genchanA.txt', header = None, names = ['program', 'channel'])\n",
    "program_channel['B'] = pd.read_csv('join2_genchanB.txt', header = None, names = ['program', 'channel'])\n",
    "program_channel['C'] = pd.read_csv('join2_genchanC.txt', header = None, names = ['program', 'channel'])\n",
    "\n",
    "\n",
    "# concat\n",
    "program_channel_full = pd.concat([program_channel['A'],program_channel['B'], program_channel['C']])\n",
    "program_channel_full.head(3)"
   ]
  },
  {
   "cell_type": "code",
   "execution_count": 6,
   "metadata": {
    "collapsed": false
   },
   "outputs": [],
   "source": [
    "program_df = program_count_full.merge(program_channel_full, how = 'inner', on = 'program')"
   ]
  },
  {
   "cell_type": "markdown",
   "metadata": {},
   "source": [
    "## find ABC program"
   ]
  },
  {
   "cell_type": "code",
   "execution_count": 7,
   "metadata": {
    "collapsed": false
   },
   "outputs": [
    {
     "data": {
      "text/html": [
       "<div>\n",
       "<table border=\"1\" class=\"dataframe\">\n",
       "  <thead>\n",
       "    <tr style=\"text-align: right;\">\n",
       "      <th></th>\n",
       "      <th>program</th>\n",
       "      <th>count</th>\n",
       "      <th>channel</th>\n",
       "    </tr>\n",
       "  </thead>\n",
       "  <tbody>\n",
       "    <tr>\n",
       "      <th>10</th>\n",
       "      <td>Almost_Games</td>\n",
       "      <td>49237</td>\n",
       "      <td>ABC</td>\n",
       "    </tr>\n",
       "    <tr>\n",
       "      <th>19</th>\n",
       "      <td>Almost_News</td>\n",
       "      <td>46592</td>\n",
       "      <td>ABC</td>\n",
       "    </tr>\n",
       "    <tr>\n",
       "      <th>28</th>\n",
       "      <td>Almost_Show</td>\n",
       "      <td>50202</td>\n",
       "      <td>ABC</td>\n",
       "    </tr>\n",
       "    <tr>\n",
       "      <th>76</th>\n",
       "      <td>Baked_Games</td>\n",
       "      <td>51604</td>\n",
       "      <td>ABC</td>\n",
       "    </tr>\n",
       "    <tr>\n",
       "      <th>87</th>\n",
       "      <td>Baked_News</td>\n",
       "      <td>47211</td>\n",
       "      <td>ABC</td>\n",
       "    </tr>\n",
       "    <tr>\n",
       "      <th>151</th>\n",
       "      <td>Cold_News</td>\n",
       "      <td>47924</td>\n",
       "      <td>ABC</td>\n",
       "    </tr>\n",
       "    <tr>\n",
       "      <th>171</th>\n",
       "      <td>Cold_Sports</td>\n",
       "      <td>52005</td>\n",
       "      <td>ABC</td>\n",
       "    </tr>\n",
       "    <tr>\n",
       "      <th>228</th>\n",
       "      <td>Dumb_Show</td>\n",
       "      <td>53824</td>\n",
       "      <td>ABC</td>\n",
       "    </tr>\n",
       "    <tr>\n",
       "      <th>246</th>\n",
       "      <td>Dumb_Talking</td>\n",
       "      <td>103894</td>\n",
       "      <td>ABC</td>\n",
       "    </tr>\n",
       "    <tr>\n",
       "      <th>274</th>\n",
       "      <td>Hot_Games</td>\n",
       "      <td>50228</td>\n",
       "      <td>ABC</td>\n",
       "    </tr>\n",
       "    <tr>\n",
       "      <th>292</th>\n",
       "      <td>Hot_Show</td>\n",
       "      <td>54378</td>\n",
       "      <td>ABC</td>\n",
       "    </tr>\n",
       "    <tr>\n",
       "      <th>333</th>\n",
       "      <td>Hourly_Cooking</td>\n",
       "      <td>54208</td>\n",
       "      <td>ABC</td>\n",
       "    </tr>\n",
       "    <tr>\n",
       "      <th>362</th>\n",
       "      <td>Hourly_Show</td>\n",
       "      <td>48283</td>\n",
       "      <td>ABC</td>\n",
       "    </tr>\n",
       "    <tr>\n",
       "      <th>384</th>\n",
       "      <td>Hourly_Talking</td>\n",
       "      <td>108163</td>\n",
       "      <td>ABC</td>\n",
       "    </tr>\n",
       "    <tr>\n",
       "      <th>413</th>\n",
       "      <td>Loud_Games</td>\n",
       "      <td>49482</td>\n",
       "      <td>ABC</td>\n",
       "    </tr>\n",
       "    <tr>\n",
       "      <th>432</th>\n",
       "      <td>Loud_Show</td>\n",
       "      <td>50820</td>\n",
       "      <td>ABC</td>\n",
       "    </tr>\n",
       "    <tr>\n",
       "      <th>478</th>\n",
       "      <td>PostModern_Games</td>\n",
       "      <td>50644</td>\n",
       "      <td>ABC</td>\n",
       "    </tr>\n",
       "    <tr>\n",
       "      <th>489</th>\n",
       "      <td>PostModern_News</td>\n",
       "      <td>50021</td>\n",
       "      <td>ABC</td>\n",
       "    </tr>\n",
       "    <tr>\n",
       "      <th>552</th>\n",
       "      <td>Surreal_News</td>\n",
       "      <td>50420</td>\n",
       "      <td>ABC</td>\n",
       "    </tr>\n",
       "    <tr>\n",
       "      <th>572</th>\n",
       "      <td>Surreal_Sports</td>\n",
       "      <td>46834</td>\n",
       "      <td>ABC</td>\n",
       "    </tr>\n",
       "  </tbody>\n",
       "</table>\n",
       "</div>"
      ],
      "text/plain": [
       "              program   count channel\n",
       "10       Almost_Games   49237     ABC\n",
       "19        Almost_News   46592     ABC\n",
       "28        Almost_Show   50202     ABC\n",
       "76        Baked_Games   51604     ABC\n",
       "87         Baked_News   47211     ABC\n",
       "151         Cold_News   47924     ABC\n",
       "171       Cold_Sports   52005     ABC\n",
       "228         Dumb_Show   53824     ABC\n",
       "246      Dumb_Talking  103894     ABC\n",
       "274         Hot_Games   50228     ABC\n",
       "292          Hot_Show   54378     ABC\n",
       "333    Hourly_Cooking   54208     ABC\n",
       "362       Hourly_Show   48283     ABC\n",
       "384    Hourly_Talking  108163     ABC\n",
       "413        Loud_Games   49482     ABC\n",
       "432         Loud_Show   50820     ABC\n",
       "478  PostModern_Games   50644     ABC\n",
       "489   PostModern_News   50021     ABC\n",
       "552      Surreal_News   50420     ABC\n",
       "572    Surreal_Sports   46834     ABC"
      ]
     },
     "execution_count": 7,
     "metadata": {},
     "output_type": "execute_result"
    }
   ],
   "source": [
    "abc_df = program_df.query(\"channel == 'ABC'\")\n",
    "abc_df"
   ]
  },
  {
   "cell_type": "code",
   "execution_count": 8,
   "metadata": {
    "collapsed": true
   },
   "outputs": [],
   "source": [
    "abc_df[['program', 'count']].to_csv('part2_output.txt', sep = ' ', index = False, header = None)"
   ]
  }
 ],
 "metadata": {
  "kernelspec": {
   "display_name": "Python 2",
   "language": "python",
   "name": "python2"
  },
  "language_info": {
   "codemirror_mode": {
    "name": "ipython",
    "version": 2
   },
   "file_extension": ".py",
   "mimetype": "text/x-python",
   "name": "python",
   "nbconvert_exporter": "python",
   "pygments_lexer": "ipython2",
   "version": "2.7.10"
  }
 },
 "nbformat": 4,
 "nbformat_minor": 0
}
