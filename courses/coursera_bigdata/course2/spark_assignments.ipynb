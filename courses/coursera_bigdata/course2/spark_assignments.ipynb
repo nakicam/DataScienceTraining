{
 "cells": [
  {
   "cell_type": "markdown",
   "metadata": {},
   "source": [
    "# Spark Homework Assignments"
   ]
  },
  {
   "cell_type": "code",
   "execution_count": 1,
   "metadata": {
    "collapsed": false
   },
   "outputs": [
    {
     "name": "stdout",
     "output_type": "stream",
     "text": [
      "/Users/rwk7t/Development/dst/courses/coursera_bigdata/course2\n"
     ]
    }
   ],
   "source": [
    "import itertools as it\n",
    "import numpy as np\n",
    "import pandas as pd\n",
    "import matplotlib.pyplot as plt\n",
    "# import scipy.stats as st\n",
    "# import scipy.misc\n",
    "# import scipy.optimize as op\n",
    "# import scipy.io\n",
    "import random\n",
    "from IPython.display import display, Math, Latex\n",
    "import os\n",
    "os.chdir('%s/courses/coursera_bigdata/course2' % os.getenv('DST'))\n",
    "pwd = os.getcwd()\n",
    "print(pwd)\n",
    "\n",
    "# plotting options\n",
    "%matplotlib inline\n",
    "np.set_printoptions(linewidth=250)\n",
    "plt.rc('font'  , size=18)\n",
    "plt.rc('figure', figsize=(10, 8))\n",
    "plt.rc('axes'  , labelsize=22)\n",
    "plt.rc('legend', fontsize=16)\n",
    "\n",
    "np.set_printoptions(precision=3)\n",
    "plt.rc('figure', figsize=(10, 8))"
   ]
  },
  {
   "cell_type": "code",
   "execution_count": 2,
   "metadata": {
    "collapsed": false
   },
   "outputs": [
    {
     "name": "stdout",
     "output_type": "stream",
     "text": [
      "Welcome to\n",
      "      ____              __\n",
      "     / __/__  ___ _____/ /__\n",
      "    _\\ \\/ _ \\/ _ `/ __/  '_/\n",
      "   /__ / .__/\\_,_/_/ /_/\\_\\   version 1.5.2\n",
      "      /_/\n",
      "\n",
      "Using Python version 2.7.10 (default, Jul 13 2015 12:18:59)\n",
      "SparkContext available as sc, HiveContext available as sqlContext.\n"
     ]
    }
   ],
   "source": [
    "execfile('%s/python/pyspark/shell.py'%os.environ['SPARK_HOME'])"
   ]
  },
  {
   "cell_type": "markdown",
   "metadata": {},
   "source": [
    "## Assignment 1\n",
    "\n",
    "join data from two different file types"
   ]
  },
  {
   "cell_type": "markdown",
   "metadata": {},
   "source": [
    "### load datasets"
   ]
  },
  {
   "cell_type": "code",
   "execution_count": 3,
   "metadata": {
    "collapsed": false
   },
   "outputs": [
    {
     "data": {
      "text/plain": [
       "[u'able,991', u'about,11', u'burger,15', u'actor,22']"
      ]
     },
     "execution_count": 3,
     "metadata": {},
     "output_type": "execute_result"
    }
   ],
   "source": [
    "file1 = sc.textFile(\"file:%s/join1_file1.txt\"%pwd)\n",
    "file1.collect()"
   ]
  },
  {
   "cell_type": "code",
   "execution_count": 4,
   "metadata": {
    "collapsed": false
   },
   "outputs": [
    {
     "data": {
      "text/plain": [
       "[u'Jan-01 able,5',\n",
       " u'Feb-02 about,3',\n",
       " u'Mar-03 about,8',\n",
       " u'Apr-04 able,13',\n",
       " u'Feb-22 actor,3',\n",
       " u'Feb-23 burger,5',\n",
       " u'Mar-08 burger,2',\n",
       " u'Dec-15 able,100']"
      ]
     },
     "execution_count": 4,
     "metadata": {},
     "output_type": "execute_result"
    }
   ],
   "source": [
    "file2 = sc.textFile(\"file:%s/join1_file2.txt\"%pwd)\n",
    "file2.collect()"
   ]
  },
  {
   "cell_type": "markdown",
   "metadata": {
    "collapsed": true
   },
   "source": [
    "### mapper for file 1"
   ]
  },
  {
   "cell_type": "code",
   "execution_count": 5,
   "metadata": {
    "collapsed": true
   },
   "outputs": [],
   "source": [
    "def split_file1(line):\n",
    "    # split the input line in word and count on the comma\n",
    "    word, count = line.strip().split(',', 1)\n",
    "    count = int(count)\n",
    "    return (word, count)"
   ]
  },
  {
   "cell_type": "code",
   "execution_count": 6,
   "metadata": {
    "collapsed": false
   },
   "outputs": [
    {
     "data": {
      "text/plain": [
       "('ryan', 7777)"
      ]
     },
     "execution_count": 6,
     "metadata": {},
     "output_type": "execute_result"
    }
   ],
   "source": [
    "split_file1('ryan,7777')"
   ]
  },
  {
   "cell_type": "code",
   "execution_count": 7,
   "metadata": {
    "collapsed": false
   },
   "outputs": [
    {
     "data": {
      "text/plain": [
       "PythonRDD[4] at RDD at PythonRDD.scala:43"
      ]
     },
     "execution_count": 7,
     "metadata": {},
     "output_type": "execute_result"
    }
   ],
   "source": [
    "file1_data = file1.map(split_file1)\n",
    "file1_data"
   ]
  },
  {
   "cell_type": "code",
   "execution_count": 8,
   "metadata": {
    "collapsed": false
   },
   "outputs": [
    {
     "data": {
      "text/plain": [
       "[(u'able', 991), (u'about', 11), (u'burger', 15), (u'actor', 22)]"
      ]
     },
     "execution_count": 8,
     "metadata": {},
     "output_type": "execute_result"
    }
   ],
   "source": [
    "file1_data.collect()"
   ]
  },
  {
   "cell_type": "markdown",
   "metadata": {},
   "source": [
    "### mapper for file 2"
   ]
  },
  {
   "cell_type": "code",
   "execution_count": 9,
   "metadata": {
    "collapsed": true
   },
   "outputs": [],
   "source": [
    "def split_file2(line):\n",
    "    date, other = line.split(' ', 1)\n",
    "    word, count = line[len(date):].strip().split(',', 1)\n",
    "    return (word, '%s %s'%(date, count))"
   ]
  },
  {
   "cell_type": "code",
   "execution_count": 10,
   "metadata": {
    "collapsed": false
   },
   "outputs": [
    {
     "data": {
      "text/plain": [
       "('Ryan', 'Apr-17 38')"
      ]
     },
     "execution_count": 10,
     "metadata": {},
     "output_type": "execute_result"
    }
   ],
   "source": [
    "split_file2('Apr-17 Ryan,38')"
   ]
  },
  {
   "cell_type": "code",
   "execution_count": 11,
   "metadata": {
    "collapsed": false
   },
   "outputs": [
    {
     "data": {
      "text/plain": [
       "PythonRDD[5] at RDD at PythonRDD.scala:43"
      ]
     },
     "execution_count": 11,
     "metadata": {},
     "output_type": "execute_result"
    }
   ],
   "source": [
    "file2_data = file2.map(split_file2)\n",
    "file2_data"
   ]
  },
  {
   "cell_type": "code",
   "execution_count": 12,
   "metadata": {
    "collapsed": false
   },
   "outputs": [
    {
     "data": {
      "text/plain": [
       "[(u'able', u'Jan-01 5'),\n",
       " (u'about', u'Feb-02 3'),\n",
       " (u'about', u'Mar-03 8'),\n",
       " (u'able', u'Apr-04 13'),\n",
       " (u'actor', u'Feb-22 3'),\n",
       " (u'burger', u'Feb-23 5'),\n",
       " (u'burger', u'Mar-08 2'),\n",
       " (u'able', u'Dec-15 100')]"
      ]
     },
     "execution_count": 12,
     "metadata": {},
     "output_type": "execute_result"
    }
   ],
   "source": [
    "file2_data.collect()"
   ]
  },
  {
   "cell_type": "markdown",
   "metadata": {},
   "source": [
    "### run join"
   ]
  },
  {
   "cell_type": "code",
   "execution_count": 13,
   "metadata": {
    "collapsed": false
   },
   "outputs": [
    {
     "data": {
      "text/plain": [
       "PythonRDD[13] at RDD at PythonRDD.scala:43"
      ]
     },
     "execution_count": 13,
     "metadata": {},
     "output_type": "execute_result"
    }
   ],
   "source": [
    "file2_joined_file1 = file2_data.join(file1_data)\n",
    "file2_joined_file1"
   ]
  },
  {
   "cell_type": "code",
   "execution_count": 14,
   "metadata": {
    "collapsed": false
   },
   "outputs": [
    {
     "data": {
      "text/plain": [
       "[(u'able', (u'Jan-01 5', 991)),\n",
       " (u'able', (u'Apr-04 13', 991)),\n",
       " (u'able', (u'Dec-15 100', 991)),\n",
       " (u'burger', (u'Feb-23 5', 15)),\n",
       " (u'burger', (u'Mar-08 2', 15)),\n",
       " (u'about', (u'Feb-02 3', 11)),\n",
       " (u'about', (u'Mar-03 8', 11)),\n",
       " (u'actor', (u'Feb-22 3', 22))]"
      ]
     },
     "execution_count": 14,
     "metadata": {},
     "output_type": "execute_result"
    }
   ],
   "source": [
    "file2_joined_file1.collect()"
   ]
  },
  {
   "cell_type": "raw",
   "metadata": {},
   "source": [
    "(u'actor', (u'Feb-22 3', 22))"
   ]
  },
  {
   "cell_type": "markdown",
   "metadata": {},
   "source": [
    "## Quiz 3"
   ]
  },
  {
   "cell_type": "code",
   "execution_count": 15,
   "metadata": {
    "collapsed": true
   },
   "outputs": [],
   "source": [
    "invalid = sc.accumulator(0)\n",
    "def count_invalid(element):\n",
    "    try:\n",
    "        int(element)\n",
    "    except:\n",
    "        invalid.add(1)"
   ]
  },
  {
   "cell_type": "code",
   "execution_count": 16,
   "metadata": {
    "collapsed": false
   },
   "outputs": [],
   "source": [
    "d = sc.parallelize([\"3\", \"23\", \"S\", \"99\", \"TT\"]).foreach(count_invalid)"
   ]
  },
  {
   "cell_type": "code",
   "execution_count": 17,
   "metadata": {
    "collapsed": false
   },
   "outputs": [
    {
     "data": {
      "text/plain": [
       "2"
      ]
     },
     "execution_count": 17,
     "metadata": {},
     "output_type": "execute_result"
    }
   ],
   "source": [
    "invalid.value"
   ]
  },
  {
   "cell_type": "markdown",
   "metadata": {},
   "source": [
    "## Assignment 2"
   ]
  },
  {
   "cell_type": "markdown",
   "metadata": {},
   "source": [
    "### do it with Dataframes first"
   ]
  },
  {
   "cell_type": "code",
   "execution_count": 18,
   "metadata": {
    "collapsed": false
   },
   "outputs": [
    {
     "data": {
      "text/html": [
       "<div>\n",
       "<table border=\"1\" class=\"dataframe\">\n",
       "  <thead>\n",
       "    <tr style=\"text-align: right;\">\n",
       "      <th></th>\n",
       "      <th>show</th>\n",
       "      <th>views</th>\n",
       "    </tr>\n",
       "  </thead>\n",
       "  <tbody>\n",
       "    <tr>\n",
       "      <th>0</th>\n",
       "      <td>Hourly_Sports</td>\n",
       "      <td>21</td>\n",
       "    </tr>\n",
       "    <tr>\n",
       "      <th>1</th>\n",
       "      <td>PostModern_Show</td>\n",
       "      <td>38</td>\n",
       "    </tr>\n",
       "    <tr>\n",
       "      <th>2</th>\n",
       "      <td>Surreal_News</td>\n",
       "      <td>73</td>\n",
       "    </tr>\n",
       "  </tbody>\n",
       "</table>\n",
       "</div>"
      ],
      "text/plain": [
       "              show  views\n",
       "0    Hourly_Sports     21\n",
       "1  PostModern_Show     38\n",
       "2     Surreal_News     73"
      ]
     },
     "execution_count": 18,
     "metadata": {},
     "output_type": "execute_result"
    }
   ],
   "source": [
    "df_gennumA = pd.read_csv('join2_gennumA.txt', header=None, names=['show', 'views'])\n",
    "df_gennumB = pd.read_csv('join2_gennumB.txt', header=None, names=['show', 'views'])\n",
    "df_gennumC = pd.read_csv('join2_gennumC.txt', header=None, names=['show', 'views'])\n",
    "df_gennum  = pd.concat([df_gennumA, df_gennumB, df_gennumC], copy=True)\n",
    "for df in [df_gennumA, df_gennumB, df_gennumC]:\n",
    "    del(df)\n",
    "df_gennum.head(3)"
   ]
  },
  {
   "cell_type": "code",
   "execution_count": 19,
   "metadata": {
    "collapsed": false
   },
   "outputs": [
    {
     "data": {
      "text/html": [
       "<div>\n",
       "<table border=\"1\" class=\"dataframe\">\n",
       "  <thead>\n",
       "    <tr style=\"text-align: right;\">\n",
       "      <th></th>\n",
       "      <th>show</th>\n",
       "      <th>views</th>\n",
       "    </tr>\n",
       "  </thead>\n",
       "  <tbody>\n",
       "    <tr>\n",
       "      <th>0</th>\n",
       "      <td>Almost_Cooking</td>\n",
       "      <td>49501</td>\n",
       "    </tr>\n",
       "    <tr>\n",
       "      <th>1</th>\n",
       "      <td>Almost_Games</td>\n",
       "      <td>49237</td>\n",
       "    </tr>\n",
       "    <tr>\n",
       "      <th>2</th>\n",
       "      <td>Almost_News</td>\n",
       "      <td>46592</td>\n",
       "    </tr>\n",
       "  </tbody>\n",
       "</table>\n",
       "</div>"
      ],
      "text/plain": [
       "             show  views\n",
       "0  Almost_Cooking  49501\n",
       "1    Almost_Games  49237\n",
       "2     Almost_News  46592"
      ]
     },
     "execution_count": 19,
     "metadata": {},
     "output_type": "execute_result"
    }
   ],
   "source": [
    "df_views = df_gennum.groupby('show', as_index = False).sum()\n",
    "del(df_gennum)\n",
    "df_views.head(3)"
   ]
  },
  {
   "cell_type": "code",
   "execution_count": 20,
   "metadata": {
    "collapsed": false
   },
   "outputs": [
    {
     "data": {
      "text/html": [
       "<div>\n",
       "<table border=\"1\" class=\"dataframe\">\n",
       "  <thead>\n",
       "    <tr style=\"text-align: right;\">\n",
       "      <th></th>\n",
       "      <th>show</th>\n",
       "      <th>chan</th>\n",
       "    </tr>\n",
       "  </thead>\n",
       "  <tbody>\n",
       "    <tr>\n",
       "      <th>0</th>\n",
       "      <td>Hourly_Sports</td>\n",
       "      <td>DEF</td>\n",
       "    </tr>\n",
       "    <tr>\n",
       "      <th>1</th>\n",
       "      <td>Baked_News</td>\n",
       "      <td>BAT</td>\n",
       "    </tr>\n",
       "    <tr>\n",
       "      <th>2</th>\n",
       "      <td>PostModern_Talking</td>\n",
       "      <td>XYZ</td>\n",
       "    </tr>\n",
       "  </tbody>\n",
       "</table>\n",
       "</div>"
      ],
      "text/plain": [
       "                 show chan\n",
       "0       Hourly_Sports  DEF\n",
       "1          Baked_News  BAT\n",
       "2  PostModern_Talking  XYZ"
      ]
     },
     "execution_count": 20,
     "metadata": {},
     "output_type": "execute_result"
    }
   ],
   "source": [
    "df_genchanA = pd.read_csv('join2_genchanA.txt', header=None, names=['show', 'chan'])\n",
    "df_genchanB = pd.read_csv('join2_genchanB.txt', header=None, names=['show', 'chan'])\n",
    "df_genchanC = pd.read_csv('join2_genchanC.txt', header=None, names=['show', 'chan'])\n",
    "df_genchan  = pd.concat([df_genchanA, df_genchanB, df_genchanC], copy=True)\n",
    "for df in [df_genchanA, df_genchanB, df_genchanC]:\n",
    "    del(df)\n",
    "df_genchan.head(3)"
   ]
  },
  {
   "cell_type": "markdown",
   "metadata": {},
   "source": [
    "#### join"
   ]
  },
  {
   "cell_type": "code",
   "execution_count": 21,
   "metadata": {
    "collapsed": false
   },
   "outputs": [
    {
     "data": {
      "text/html": [
       "<div>\n",
       "<table border=\"1\" class=\"dataframe\">\n",
       "  <thead>\n",
       "    <tr style=\"text-align: right;\">\n",
       "      <th></th>\n",
       "      <th>show</th>\n",
       "      <th>chan</th>\n",
       "      <th>views</th>\n",
       "    </tr>\n",
       "  </thead>\n",
       "  <tbody>\n",
       "    <tr>\n",
       "      <th>0</th>\n",
       "      <td>Hourly_Sports</td>\n",
       "      <td>DEF</td>\n",
       "      <td>54050</td>\n",
       "    </tr>\n",
       "    <tr>\n",
       "      <th>1</th>\n",
       "      <td>Hourly_Sports</td>\n",
       "      <td>DEF</td>\n",
       "      <td>54050</td>\n",
       "    </tr>\n",
       "    <tr>\n",
       "      <th>2</th>\n",
       "      <td>Hourly_Sports</td>\n",
       "      <td>DEF</td>\n",
       "      <td>54050</td>\n",
       "    </tr>\n",
       "  </tbody>\n",
       "</table>\n",
       "</div>"
      ],
      "text/plain": [
       "            show chan  views\n",
       "0  Hourly_Sports  DEF  54050\n",
       "1  Hourly_Sports  DEF  54050\n",
       "2  Hourly_Sports  DEF  54050"
      ]
     },
     "execution_count": 21,
     "metadata": {},
     "output_type": "execute_result"
    }
   ],
   "source": [
    "df_join = df_genchan.merge(df_views, on='show', how='inner')\n",
    "df_join.head(3)"
   ]
  },
  {
   "cell_type": "markdown",
   "metadata": {},
   "source": [
    "### filter for ABC"
   ]
  },
  {
   "cell_type": "code",
   "execution_count": 22,
   "metadata": {
    "collapsed": false
   },
   "outputs": [
    {
     "data": {
      "text/html": [
       "<div>\n",
       "<table border=\"1\" class=\"dataframe\">\n",
       "  <thead>\n",
       "    <tr style=\"text-align: right;\">\n",
       "      <th></th>\n",
       "      <th>show</th>\n",
       "      <th>chan</th>\n",
       "      <th>views</th>\n",
       "    </tr>\n",
       "  </thead>\n",
       "  <tbody>\n",
       "    <tr>\n",
       "      <th>13</th>\n",
       "      <td>Baked_News</td>\n",
       "      <td>ABC</td>\n",
       "      <td>47211</td>\n",
       "    </tr>\n",
       "    <tr>\n",
       "      <th>50</th>\n",
       "      <td>Almost_Show</td>\n",
       "      <td>ABC</td>\n",
       "      <td>50202</td>\n",
       "    </tr>\n",
       "    <tr>\n",
       "      <th>82</th>\n",
       "      <td>Dumb_Show</td>\n",
       "      <td>ABC</td>\n",
       "      <td>53824</td>\n",
       "    </tr>\n",
       "    <tr>\n",
       "      <th>121</th>\n",
       "      <td>Hourly_Cooking</td>\n",
       "      <td>ABC</td>\n",
       "      <td>54208</td>\n",
       "    </tr>\n",
       "    <tr>\n",
       "      <th>141</th>\n",
       "      <td>PostModern_News</td>\n",
       "      <td>ABC</td>\n",
       "      <td>50021</td>\n",
       "    </tr>\n",
       "    <tr>\n",
       "      <th>170</th>\n",
       "      <td>Hot_Show</td>\n",
       "      <td>ABC</td>\n",
       "      <td>54378</td>\n",
       "    </tr>\n",
       "    <tr>\n",
       "      <th>190</th>\n",
       "      <td>Surreal_Sports</td>\n",
       "      <td>ABC</td>\n",
       "      <td>46834</td>\n",
       "    </tr>\n",
       "    <tr>\n",
       "      <th>219</th>\n",
       "      <td>Baked_Games</td>\n",
       "      <td>ABC</td>\n",
       "      <td>51604</td>\n",
       "    </tr>\n",
       "    <tr>\n",
       "      <th>240</th>\n",
       "      <td>Loud_Games</td>\n",
       "      <td>ABC</td>\n",
       "      <td>49482</td>\n",
       "    </tr>\n",
       "    <tr>\n",
       "      <th>278</th>\n",
       "      <td>Dumb_Talking</td>\n",
       "      <td>ABC</td>\n",
       "      <td>103894</td>\n",
       "    </tr>\n",
       "    <tr>\n",
       "      <th>317</th>\n",
       "      <td>Cold_Sports</td>\n",
       "      <td>ABC</td>\n",
       "      <td>52005</td>\n",
       "    </tr>\n",
       "    <tr>\n",
       "      <th>326</th>\n",
       "      <td>Hourly_Talking</td>\n",
       "      <td>ABC</td>\n",
       "      <td>108163</td>\n",
       "    </tr>\n",
       "    <tr>\n",
       "      <th>363</th>\n",
       "      <td>PostModern_Games</td>\n",
       "      <td>ABC</td>\n",
       "      <td>50644</td>\n",
       "    </tr>\n",
       "    <tr>\n",
       "      <th>393</th>\n",
       "      <td>Almost_News</td>\n",
       "      <td>ABC</td>\n",
       "      <td>46592</td>\n",
       "    </tr>\n",
       "    <tr>\n",
       "      <th>412</th>\n",
       "      <td>Surreal_News</td>\n",
       "      <td>ABC</td>\n",
       "      <td>50420</td>\n",
       "    </tr>\n",
       "    <tr>\n",
       "      <th>422</th>\n",
       "      <td>Hourly_Show</td>\n",
       "      <td>ABC</td>\n",
       "      <td>48283</td>\n",
       "    </tr>\n",
       "    <tr>\n",
       "      <th>440</th>\n",
       "      <td>Loud_Show</td>\n",
       "      <td>ABC</td>\n",
       "      <td>50820</td>\n",
       "    </tr>\n",
       "    <tr>\n",
       "      <th>485</th>\n",
       "      <td>Cold_News</td>\n",
       "      <td>ABC</td>\n",
       "      <td>47924</td>\n",
       "    </tr>\n",
       "    <tr>\n",
       "      <th>521</th>\n",
       "      <td>Almost_Games</td>\n",
       "      <td>ABC</td>\n",
       "      <td>49237</td>\n",
       "    </tr>\n",
       "    <tr>\n",
       "      <th>574</th>\n",
       "      <td>Hot_Games</td>\n",
       "      <td>ABC</td>\n",
       "      <td>50228</td>\n",
       "    </tr>\n",
       "  </tbody>\n",
       "</table>\n",
       "</div>"
      ],
      "text/plain": [
       "                 show chan   views\n",
       "13         Baked_News  ABC   47211\n",
       "50        Almost_Show  ABC   50202\n",
       "82          Dumb_Show  ABC   53824\n",
       "121    Hourly_Cooking  ABC   54208\n",
       "141   PostModern_News  ABC   50021\n",
       "170          Hot_Show  ABC   54378\n",
       "190    Surreal_Sports  ABC   46834\n",
       "219       Baked_Games  ABC   51604\n",
       "240        Loud_Games  ABC   49482\n",
       "278      Dumb_Talking  ABC  103894\n",
       "317       Cold_Sports  ABC   52005\n",
       "326    Hourly_Talking  ABC  108163\n",
       "363  PostModern_Games  ABC   50644\n",
       "393       Almost_News  ABC   46592\n",
       "412      Surreal_News  ABC   50420\n",
       "422       Hourly_Show  ABC   48283\n",
       "440         Loud_Show  ABC   50820\n",
       "485         Cold_News  ABC   47924\n",
       "521      Almost_Games  ABC   49237\n",
       "574         Hot_Games  ABC   50228"
      ]
     },
     "execution_count": 22,
     "metadata": {},
     "output_type": "execute_result"
    }
   ],
   "source": [
    "df_abc = df_join.query(\"chan=='ABC'\")\n",
    "df_abc"
   ]
  },
  {
   "cell_type": "code",
   "execution_count": 23,
   "metadata": {
    "collapsed": false
   },
   "outputs": [
    {
     "data": {
      "text/html": [
       "<div>\n",
       "<table border=\"1\" class=\"dataframe\">\n",
       "  <thead>\n",
       "    <tr style=\"text-align: right;\">\n",
       "      <th></th>\n",
       "      <th>show</th>\n",
       "      <th>chan</th>\n",
       "      <th>views</th>\n",
       "    </tr>\n",
       "  </thead>\n",
       "  <tbody>\n",
       "    <tr>\n",
       "      <th>13</th>\n",
       "      <td>Baked_News</td>\n",
       "      <td>ABC</td>\n",
       "      <td>47211</td>\n",
       "    </tr>\n",
       "    <tr>\n",
       "      <th>50</th>\n",
       "      <td>Almost_Show</td>\n",
       "      <td>ABC</td>\n",
       "      <td>50202</td>\n",
       "    </tr>\n",
       "    <tr>\n",
       "      <th>82</th>\n",
       "      <td>Dumb_Show</td>\n",
       "      <td>ABC</td>\n",
       "      <td>53824</td>\n",
       "    </tr>\n",
       "    <tr>\n",
       "      <th>121</th>\n",
       "      <td>Hourly_Cooking</td>\n",
       "      <td>ABC</td>\n",
       "      <td>54208</td>\n",
       "    </tr>\n",
       "    <tr>\n",
       "      <th>141</th>\n",
       "      <td>PostModern_News</td>\n",
       "      <td>ABC</td>\n",
       "      <td>50021</td>\n",
       "    </tr>\n",
       "    <tr>\n",
       "      <th>170</th>\n",
       "      <td>Hot_Show</td>\n",
       "      <td>ABC</td>\n",
       "      <td>54378</td>\n",
       "    </tr>\n",
       "    <tr>\n",
       "      <th>190</th>\n",
       "      <td>Surreal_Sports</td>\n",
       "      <td>ABC</td>\n",
       "      <td>46834</td>\n",
       "    </tr>\n",
       "    <tr>\n",
       "      <th>219</th>\n",
       "      <td>Baked_Games</td>\n",
       "      <td>ABC</td>\n",
       "      <td>51604</td>\n",
       "    </tr>\n",
       "    <tr>\n",
       "      <th>240</th>\n",
       "      <td>Loud_Games</td>\n",
       "      <td>ABC</td>\n",
       "      <td>49482</td>\n",
       "    </tr>\n",
       "    <tr>\n",
       "      <th>278</th>\n",
       "      <td>Dumb_Talking</td>\n",
       "      <td>ABC</td>\n",
       "      <td>103894</td>\n",
       "    </tr>\n",
       "    <tr>\n",
       "      <th>317</th>\n",
       "      <td>Cold_Sports</td>\n",
       "      <td>ABC</td>\n",
       "      <td>52005</td>\n",
       "    </tr>\n",
       "    <tr>\n",
       "      <th>326</th>\n",
       "      <td>Hourly_Talking</td>\n",
       "      <td>ABC</td>\n",
       "      <td>108163</td>\n",
       "    </tr>\n",
       "    <tr>\n",
       "      <th>363</th>\n",
       "      <td>PostModern_Games</td>\n",
       "      <td>ABC</td>\n",
       "      <td>50644</td>\n",
       "    </tr>\n",
       "    <tr>\n",
       "      <th>393</th>\n",
       "      <td>Almost_News</td>\n",
       "      <td>ABC</td>\n",
       "      <td>46592</td>\n",
       "    </tr>\n",
       "    <tr>\n",
       "      <th>412</th>\n",
       "      <td>Surreal_News</td>\n",
       "      <td>ABC</td>\n",
       "      <td>50420</td>\n",
       "    </tr>\n",
       "    <tr>\n",
       "      <th>422</th>\n",
       "      <td>Hourly_Show</td>\n",
       "      <td>ABC</td>\n",
       "      <td>48283</td>\n",
       "    </tr>\n",
       "    <tr>\n",
       "      <th>440</th>\n",
       "      <td>Loud_Show</td>\n",
       "      <td>ABC</td>\n",
       "      <td>50820</td>\n",
       "    </tr>\n",
       "    <tr>\n",
       "      <th>485</th>\n",
       "      <td>Cold_News</td>\n",
       "      <td>ABC</td>\n",
       "      <td>47924</td>\n",
       "    </tr>\n",
       "    <tr>\n",
       "      <th>521</th>\n",
       "      <td>Almost_Games</td>\n",
       "      <td>ABC</td>\n",
       "      <td>49237</td>\n",
       "    </tr>\n",
       "    <tr>\n",
       "      <th>574</th>\n",
       "      <td>Hot_Games</td>\n",
       "      <td>ABC</td>\n",
       "      <td>50228</td>\n",
       "    </tr>\n",
       "  </tbody>\n",
       "</table>\n",
       "</div>"
      ],
      "text/plain": [
       "                 show chan   views\n",
       "13         Baked_News  ABC   47211\n",
       "50        Almost_Show  ABC   50202\n",
       "82          Dumb_Show  ABC   53824\n",
       "121    Hourly_Cooking  ABC   54208\n",
       "141   PostModern_News  ABC   50021\n",
       "170          Hot_Show  ABC   54378\n",
       "190    Surreal_Sports  ABC   46834\n",
       "219       Baked_Games  ABC   51604\n",
       "240        Loud_Games  ABC   49482\n",
       "278      Dumb_Talking  ABC  103894\n",
       "317       Cold_Sports  ABC   52005\n",
       "326    Hourly_Talking  ABC  108163\n",
       "363  PostModern_Games  ABC   50644\n",
       "393       Almost_News  ABC   46592\n",
       "412      Surreal_News  ABC   50420\n",
       "422       Hourly_Show  ABC   48283\n",
       "440         Loud_Show  ABC   50820\n",
       "485         Cold_News  ABC   47924\n",
       "521      Almost_Games  ABC   49237\n",
       "574         Hot_Games  ABC   50228"
      ]
     },
     "execution_count": 23,
     "metadata": {},
     "output_type": "execute_result"
    }
   ],
   "source": [
    "df_abc = df_join[df_join.chan=='ABC']\n",
    "df_abc"
   ]
  },
  {
   "cell_type": "markdown",
   "metadata": {},
   "source": [
    "### filter for BAT"
   ]
  },
  {
   "cell_type": "code",
   "execution_count": 24,
   "metadata": {
    "collapsed": false
   },
   "outputs": [
    {
     "data": {
      "text/html": [
       "<div>\n",
       "<table border=\"1\" class=\"dataframe\">\n",
       "  <thead>\n",
       "    <tr style=\"text-align: right;\">\n",
       "      <th></th>\n",
       "      <th>show</th>\n",
       "      <th>chan</th>\n",
       "      <th>views</th>\n",
       "    </tr>\n",
       "  </thead>\n",
       "  <tbody>\n",
       "    <tr>\n",
       "      <th>10</th>\n",
       "      <td>Hourly_Sports</td>\n",
       "      <td>BAT</td>\n",
       "      <td>54050</td>\n",
       "    </tr>\n",
       "    <tr>\n",
       "      <th>12</th>\n",
       "      <td>Baked_News</td>\n",
       "      <td>BAT</td>\n",
       "      <td>47211</td>\n",
       "    </tr>\n",
       "    <tr>\n",
       "      <th>21</th>\n",
       "      <td>Baked_News</td>\n",
       "      <td>BAT</td>\n",
       "      <td>47211</td>\n",
       "    </tr>\n",
       "  </tbody>\n",
       "</table>\n",
       "</div>"
      ],
      "text/plain": [
       "             show chan  views\n",
       "10  Hourly_Sports  BAT  54050\n",
       "12     Baked_News  BAT  47211\n",
       "21     Baked_News  BAT  47211"
      ]
     },
     "execution_count": 24,
     "metadata": {},
     "output_type": "execute_result"
    }
   ],
   "source": [
    "df_bat = df_join[df_join.chan=='BAT']\n",
    "df_bat.head(3)"
   ]
  },
  {
   "cell_type": "code",
   "execution_count": 25,
   "metadata": {
    "collapsed": false
   },
   "outputs": [
    {
     "data": {
      "text/html": [
       "<div>\n",
       "<table border=\"1\" class=\"dataframe\">\n",
       "  <thead>\n",
       "    <tr style=\"text-align: right;\">\n",
       "      <th></th>\n",
       "      <th>show</th>\n",
       "      <th>chan</th>\n",
       "      <th>views</th>\n",
       "    </tr>\n",
       "  </thead>\n",
       "  <tbody>\n",
       "    <tr>\n",
       "      <th>10</th>\n",
       "      <td>Hourly_Sports</td>\n",
       "      <td>BAT</td>\n",
       "      <td>54050</td>\n",
       "    </tr>\n",
       "    <tr>\n",
       "      <th>12</th>\n",
       "      <td>Baked_News</td>\n",
       "      <td>BAT</td>\n",
       "      <td>47211</td>\n",
       "    </tr>\n",
       "    <tr>\n",
       "      <th>21</th>\n",
       "      <td>Baked_News</td>\n",
       "      <td>BAT</td>\n",
       "      <td>47211</td>\n",
       "    </tr>\n",
       "  </tbody>\n",
       "</table>\n",
       "</div>"
      ],
      "text/plain": [
       "             show chan  views\n",
       "10  Hourly_Sports  BAT  54050\n",
       "12     Baked_News  BAT  47211\n",
       "21     Baked_News  BAT  47211"
      ]
     },
     "execution_count": 25,
     "metadata": {},
     "output_type": "execute_result"
    }
   ],
   "source": [
    "df_bat = df_join.query(\"chan=='BAT'\")\n",
    "df_bat.head(3)"
   ]
  },
  {
   "cell_type": "code",
   "execution_count": 26,
   "metadata": {
    "collapsed": false
   },
   "outputs": [
    {
     "data": {
      "text/html": [
       "<div>\n",
       "<table border=\"1\" class=\"dataframe\">\n",
       "  <thead>\n",
       "    <tr style=\"text-align: right;\">\n",
       "      <th></th>\n",
       "      <th>views</th>\n",
       "    </tr>\n",
       "    <tr>\n",
       "      <th>chan</th>\n",
       "      <th></th>\n",
       "    </tr>\n",
       "  </thead>\n",
       "  <tbody>\n",
       "    <tr>\n",
       "      <th>ABC</th>\n",
       "      <td>1115974</td>\n",
       "    </tr>\n",
       "    <tr>\n",
       "      <th>BAT</th>\n",
       "      <td>5099141</td>\n",
       "    </tr>\n",
       "    <tr>\n",
       "      <th>BOB</th>\n",
       "      <td>2591062</td>\n",
       "    </tr>\n",
       "    <tr>\n",
       "      <th>CAB</th>\n",
       "      <td>3940862</td>\n",
       "    </tr>\n",
       "    <tr>\n",
       "      <th>CNO</th>\n",
       "      <td>3941177</td>\n",
       "    </tr>\n",
       "    <tr>\n",
       "      <th>DEF</th>\n",
       "      <td>8032799</td>\n",
       "    </tr>\n",
       "    <tr>\n",
       "      <th>MAN</th>\n",
       "      <td>6566187</td>\n",
       "    </tr>\n",
       "    <tr>\n",
       "      <th>NOX</th>\n",
       "      <td>2583583</td>\n",
       "    </tr>\n",
       "    <tr>\n",
       "      <th>XYZ</th>\n",
       "      <td>5208016</td>\n",
       "    </tr>\n",
       "  </tbody>\n",
       "</table>\n",
       "</div>"
      ],
      "text/plain": [
       "        views\n",
       "chan         \n",
       "ABC   1115974\n",
       "BAT   5099141\n",
       "BOB   2591062\n",
       "CAB   3940862\n",
       "CNO   3941177\n",
       "DEF   8032799\n",
       "MAN   6566187\n",
       "NOX   2583583\n",
       "XYZ   5208016"
      ]
     },
     "execution_count": 26,
     "metadata": {},
     "output_type": "execute_result"
    }
   ],
   "source": [
    "df_join.groupby('chan').sum()"
   ]
  },
  {
   "cell_type": "markdown",
   "metadata": {},
   "source": [
    "### Now try spark\n",
    "\n",
    "#### read the views files"
   ]
  },
  {
   "cell_type": "code",
   "execution_count": 31,
   "metadata": {
    "collapsed": false
   },
   "outputs": [
    {
     "data": {
      "text/plain": [
       "[u'Hourly_Sports,21', u'PostModern_Show,38', u'Surreal_News,73']"
      ]
     },
     "execution_count": 31,
     "metadata": {},
     "output_type": "execute_result"
    }
   ],
   "source": [
    "show_views_file = sc.textFile(\"file:%s/join2_gennumA.txt\"%os.getcwd())\n",
    "show_views_file.take(3)"
   ]
  },
  {
   "cell_type": "code",
   "execution_count": 32,
   "metadata": {
    "collapsed": true
   },
   "outputs": [],
   "source": [
    "def split_show_views(line):\n",
    "    shows, views = line.strip().split(',',1)\n",
    "    views = int(views)\n",
    "    return (shows, views)"
   ]
  },
  {
   "cell_type": "code",
   "execution_count": 33,
   "metadata": {
    "collapsed": false
   },
   "outputs": [
    {
     "data": {
      "text/plain": [
       "[(u'Hourly_Sports', 21), (u'PostModern_Show', 38), (u'Surreal_News', 73)]"
      ]
     },
     "execution_count": 33,
     "metadata": {},
     "output_type": "execute_result"
    }
   ],
   "source": [
    "show_views = show_views_file.map(split_show_views)\n",
    "show_views.take(3)"
   ]
  },
  {
   "cell_type": "markdown",
   "metadata": {},
   "source": [
    "#### read the channel files"
   ]
  },
  {
   "cell_type": "code",
   "execution_count": 35,
   "metadata": {
    "collapsed": false
   },
   "outputs": [
    {
     "data": {
      "text/plain": [
       "[u'Hourly_Sports,DEF', u'Baked_News,BAT', u'PostModern_Talking,XYZ']"
      ]
     },
     "execution_count": 35,
     "metadata": {},
     "output_type": "execute_result"
    }
   ],
   "source": [
    "show_channel_file = sc.textFile(\"file:%s/join2_genchanA.txt\"%os.getcwd())\n",
    "show_channel_file.take(3)"
   ]
  },
  {
   "cell_type": "code",
   "execution_count": 36,
   "metadata": {
    "collapsed": true
   },
   "outputs": [],
   "source": [
    "def split_show_channel(line):\n",
    "    show, channel = line.strip().split(',',1)\n",
    "    return (show, channel)"
   ]
  },
  {
   "cell_type": "code",
   "execution_count": 37,
   "metadata": {
    "collapsed": false
   },
   "outputs": [
    {
     "data": {
      "text/plain": [
       "[(u'Hourly_Sports', u'DEF'),\n",
       " (u'Baked_News', u'BAT'),\n",
       " (u'PostModern_Talking', u'XYZ')]"
      ]
     },
     "execution_count": 37,
     "metadata": {},
     "output_type": "execute_result"
    }
   ],
   "source": [
    "show_channel = show_channel_file.map(split_show_channel)\n",
    "show_channel.take(3)"
   ]
  },
  {
   "cell_type": "markdown",
   "metadata": {},
   "source": [
    "#### join the data"
   ]
  },
  {
   "cell_type": "code",
   "execution_count": 38,
   "metadata": {
    "collapsed": false
   },
   "outputs": [
    {
     "data": {
      "text/plain": [
       "[(u'Surreal_Cooking', (596, u'CNO')),\n",
       " (u'Surreal_Cooking', (1037, u'CNO')),\n",
       " (u'Surreal_Cooking', (890, u'CNO'))]"
      ]
     },
     "execution_count": 38,
     "metadata": {},
     "output_type": "execute_result"
    }
   ],
   "source": [
    "views_join_channel = show_views.join(show_channel)\n",
    "views_join_channel.take(3)"
   ]
  },
  {
   "cell_type": "markdown",
   "metadata": {},
   "source": [
    "#### extract channel as key"
   ]
  },
  {
   "cell_type": "code",
   "execution_count": 39,
   "metadata": {
    "collapsed": true
   },
   "outputs": [],
   "source": [
    "def extract_channel_views(show_view_channel):\n",
    "    show, other = show_view_channel\n",
    "    views, channel = other\n",
    "    return (channel, views)"
   ]
  },
  {
   "cell_type": "code",
   "execution_count": 40,
   "metadata": {
    "collapsed": false
   },
   "outputs": [
    {
     "data": {
      "text/plain": [
       "[(u'CNO', 596), (u'CNO', 1037), (u'CNO', 890)]"
      ]
     },
     "execution_count": 40,
     "metadata": {},
     "output_type": "execute_result"
    }
   ],
   "source": [
    "channel_views = views_join_channel.map(extract_channel_views)\n",
    "channel_views.take(3)"
   ]
  },
  {
   "cell_type": "markdown",
   "metadata": {},
   "source": [
    "#### sum accross all channels"
   ]
  },
  {
   "cell_type": "code",
   "execution_count": 41,
   "metadata": {
    "collapsed": true
   },
   "outputs": [],
   "source": [
    "def sum_views(v1, v2):\n",
    "    return (v1+v2)"
   ]
  },
  {
   "cell_type": "code",
   "execution_count": 42,
   "metadata": {
    "collapsed": false
   },
   "outputs": [],
   "source": [
    "total_views = channel_views.reduceByKey(sum_views)"
   ]
  },
  {
   "cell_type": "code",
   "execution_count": 43,
   "metadata": {
    "collapsed": false
   },
   "outputs": [
    {
     "data": {
      "text/plain": [
       "[(u'CNO', 233893), (u'XYZ', 224945), (u'BAT', 195990)]"
      ]
     },
     "execution_count": 43,
     "metadata": {},
     "output_type": "execute_result"
    }
   ],
   "source": [
    "total_views.take(3)"
   ]
  },
  {
   "cell_type": "markdown",
   "metadata": {},
   "source": [
    "#### filter for 'BAT'"
   ]
  },
  {
   "cell_type": "code",
   "execution_count": 44,
   "metadata": {
    "collapsed": false
   },
   "outputs": [
    {
     "data": {
      "text/plain": [
       "[(u'BAT', 195990)]"
      ]
     },
     "execution_count": 44,
     "metadata": {},
     "output_type": "execute_result"
    }
   ],
   "source": [
    "bat_viewers = total_views.filter(lambda r : r[0]=='BAT').collect()\n",
    "bat_viewers"
   ]
  },
  {
   "cell_type": "code",
   "execution_count": 45,
   "metadata": {
    "collapsed": false
   },
   "outputs": [
    {
     "data": {
      "text/html": [
       "<div>\n",
       "<table border=\"1\" class=\"dataframe\">\n",
       "  <thead>\n",
       "    <tr style=\"text-align: right;\">\n",
       "      <th></th>\n",
       "      <th>chan</th>\n",
       "      <th>views</th>\n",
       "    </tr>\n",
       "  </thead>\n",
       "  <tbody>\n",
       "    <tr>\n",
       "      <th>0</th>\n",
       "      <td>BAT</td>\n",
       "      <td>195990</td>\n",
       "    </tr>\n",
       "  </tbody>\n",
       "</table>\n",
       "</div>"
      ],
      "text/plain": [
       "  chan   views\n",
       "0  BAT  195990"
      ]
     },
     "execution_count": 45,
     "metadata": {},
     "output_type": "execute_result"
    }
   ],
   "source": [
    "df = pd.DataFrame(data=bat_viewers, columns=['chan', 'views'])\n",
    "df"
   ]
  },
  {
   "cell_type": "code",
   "execution_count": 46,
   "metadata": {
    "collapsed": false
   },
   "outputs": [],
   "source": [
    "df.views.to_csv('bat_viewers.txt', sep = ' ', index = False, header = None)"
   ]
  },
  {
   "cell_type": "code",
   "execution_count": null,
   "metadata": {
    "collapsed": true
   },
   "outputs": [],
   "source": []
  }
 ],
 "metadata": {
  "kernelspec": {
   "display_name": "Python 2",
   "language": "python",
   "name": "python2"
  },
  "language_info": {
   "codemirror_mode": {
    "name": "ipython",
    "version": 2
   },
   "file_extension": ".py",
   "mimetype": "text/x-python",
   "name": "python",
   "nbconvert_exporter": "python",
   "pygments_lexer": "ipython2",
   "version": "2.7.10"
  }
 },
 "nbformat": 4,
 "nbformat_minor": 0
}
