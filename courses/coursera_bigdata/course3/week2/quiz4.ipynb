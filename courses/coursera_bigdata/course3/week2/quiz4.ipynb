{
 "cells": [
  {
   "cell_type": "code",
   "execution_count": 1,
   "metadata": {
    "collapsed": false
   },
   "outputs": [
    {
     "name": "stdout",
     "output_type": "stream",
     "text": [
      "/Users/rwk7t/Development/dst/courses/coursera_bigdata/course3/week2\n"
     ]
    }
   ],
   "source": [
    "import itertools as it\n",
    "import numpy as np\n",
    "import pandas as pd\n",
    "import matplotlib.pyplot as plt\n",
    "import scipy.stats as st\n",
    "import scipy.misc\n",
    "import scipy.optimize as op\n",
    "import scipy.io\n",
    "import random\n",
    "from IPython.display import display, Math, Latex\n",
    "\n",
    "# set path\n",
    "import os\n",
    "os.chdir('%s/courses/coursera_bigdata/course3/week2' % os.getenv('DST'))\n",
    "print(os.getcwd())\n",
    "\n",
    "# printing options \n",
    "np.set_printoptions(linewidth=250)\n",
    "np.set_printoptions(precision=3)\n",
    "\n",
    "%matplotlib inline\n",
    "# plotting options\n",
    "plt.rc('font'  , size=18)\n",
    "plt.rc('figure', figsize=(10, 8))\n",
    "plt.rc('axes'  , labelsize=22)\n",
    "plt.rc('legend', fontsize=16)\n",
    "plt.rc('figure', figsize=(10, 8))"
   ]
  },
  {
   "cell_type": "markdown",
   "metadata": {},
   "source": [
    "# Import data"
   ]
  },
  {
   "cell_type": "code",
   "execution_count": 2,
   "metadata": {
    "collapsed": true
   },
   "outputs": [],
   "source": [
    "def lower_column_names(df):\n",
    "    df.columns = [c.replace(' ', '_').lower() for c in df.columns]\n",
    "    return "
   ]
  },
  {
   "cell_type": "code",
   "execution_count": 3,
   "metadata": {
    "collapsed": false
   },
   "outputs": [],
   "source": [
    "df1 = pd.read_csv('bike_data/201402_trip_data.csv'); lower_column_names(df1)\n",
    "df2 = pd.read_csv('bike_data/201408_trip_data.csv'); lower_column_names(df2)\n",
    "df3 = pd.read_csv('bike_data/201508_trip_data.csv'); lower_column_names(df3)"
   ]
  },
  {
   "cell_type": "code",
   "execution_count": 4,
   "metadata": {
    "collapsed": false
   },
   "outputs": [
    {
     "data": {
      "text/plain": [
       "('1/1/2014 0:21', '3/1/2014 0:17', '1/1/2015 0:30')"
      ]
     },
     "execution_count": 4,
     "metadata": {},
     "output_type": "execute_result"
    }
   ],
   "source": [
    "min(df1.end_date), min(df2.end_date), min(df3.end_date)"
   ]
  },
  {
   "cell_type": "code",
   "execution_count": 5,
   "metadata": {
    "collapsed": false
   },
   "outputs": [
    {
     "data": {
      "text/plain": [
       "('9/9/2013 9:57', '9/1/2014 8:08', '9/9/2014 9:59')"
      ]
     },
     "execution_count": 5,
     "metadata": {},
     "output_type": "execute_result"
    }
   ],
   "source": [
    "max(df1.end_date), max(df2.end_date), max(df3.end_date)"
   ]
  },
  {
   "cell_type": "code",
   "execution_count": 6,
   "metadata": {
    "collapsed": false
   },
   "outputs": [
    {
     "data": {
      "text/html": [
       "<div>\n",
       "<table border=\"1\" class=\"dataframe\">\n",
       "  <thead>\n",
       "    <tr style=\"text-align: right;\">\n",
       "      <th></th>\n",
       "      <th>bike_#</th>\n",
       "      <th>duration</th>\n",
       "      <th>end_date</th>\n",
       "      <th>end_station</th>\n",
       "      <th>end_terminal</th>\n",
       "      <th>start_date</th>\n",
       "      <th>start_station</th>\n",
       "      <th>start_terminal</th>\n",
       "      <th>subscriber_type</th>\n",
       "      <th>subscription_type</th>\n",
       "      <th>trip_id</th>\n",
       "      <th>zip_code</th>\n",
       "    </tr>\n",
       "  </thead>\n",
       "  <tbody>\n",
       "    <tr>\n",
       "      <th>0</th>\n",
       "      <td>520</td>\n",
       "      <td>63</td>\n",
       "      <td>8/29/2013 14:14</td>\n",
       "      <td>South Van Ness at Market</td>\n",
       "      <td>66</td>\n",
       "      <td>8/29/2013 14:13</td>\n",
       "      <td>South Van Ness at Market</td>\n",
       "      <td>66</td>\n",
       "      <td>NaN</td>\n",
       "      <td>Subscriber</td>\n",
       "      <td>4576</td>\n",
       "      <td>94127</td>\n",
       "    </tr>\n",
       "    <tr>\n",
       "      <th>1</th>\n",
       "      <td>661</td>\n",
       "      <td>70</td>\n",
       "      <td>8/29/2013 14:43</td>\n",
       "      <td>San Jose City Hall</td>\n",
       "      <td>10</td>\n",
       "      <td>8/29/2013 14:42</td>\n",
       "      <td>San Jose City Hall</td>\n",
       "      <td>10</td>\n",
       "      <td>NaN</td>\n",
       "      <td>Subscriber</td>\n",
       "      <td>4607</td>\n",
       "      <td>95138</td>\n",
       "    </tr>\n",
       "    <tr>\n",
       "      <th>2</th>\n",
       "      <td>48</td>\n",
       "      <td>71</td>\n",
       "      <td>8/29/2013 10:17</td>\n",
       "      <td>Mountain View City Hall</td>\n",
       "      <td>27</td>\n",
       "      <td>8/29/2013 10:16</td>\n",
       "      <td>Mountain View City Hall</td>\n",
       "      <td>27</td>\n",
       "      <td>NaN</td>\n",
       "      <td>Subscriber</td>\n",
       "      <td>4130</td>\n",
       "      <td>97214</td>\n",
       "    </tr>\n",
       "  </tbody>\n",
       "</table>\n",
       "</div>"
      ],
      "text/plain": [
       "   bike_#  duration         end_date               end_station  end_terminal  \\\n",
       "0     520        63  8/29/2013 14:14  South Van Ness at Market            66   \n",
       "1     661        70  8/29/2013 14:43        San Jose City Hall            10   \n",
       "2      48        71  8/29/2013 10:17   Mountain View City Hall            27   \n",
       "\n",
       "        start_date             start_station  start_terminal subscriber_type  \\\n",
       "0  8/29/2013 14:13  South Van Ness at Market              66             NaN   \n",
       "1  8/29/2013 14:42        San Jose City Hall              10             NaN   \n",
       "2  8/29/2013 10:16   Mountain View City Hall              27             NaN   \n",
       "\n",
       "  subscription_type  trip_id zip_code  \n",
       "0        Subscriber     4576    94127  \n",
       "1        Subscriber     4607    95138  \n",
       "2        Subscriber     4130    97214  "
      ]
     },
     "execution_count": 6,
     "metadata": {},
     "output_type": "execute_result"
    }
   ],
   "source": [
    "df = pd.concat([df1, df2, df3])\n",
    "df.head(3)"
   ]
  },
  {
   "cell_type": "code",
   "execution_count": 7,
   "metadata": {
    "collapsed": true
   },
   "outputs": [],
   "source": [
    "# clean up\n",
    "\n",
    "del(df1)\n",
    "del(df2)\n",
    "del(df3)"
   ]
  },
  {
   "cell_type": "markdown",
   "metadata": {},
   "source": [
    "# quesiton 1:\n",
    "\n",
    "Utilizing the Bay Area Bike Share database - what is the most popular start station based on trip data?\n"
   ]
  },
  {
   "cell_type": "code",
   "execution_count": 8,
   "metadata": {
    "collapsed": false,
    "scrolled": false
   },
   "outputs": [
    {
     "data": {
      "text/html": [
       "<div>\n",
       "<table border=\"1\" class=\"dataframe\">\n",
       "  <thead>\n",
       "    <tr style=\"text-align: right;\">\n",
       "      <th></th>\n",
       "      <th>bike_#</th>\n",
       "      <th>duration</th>\n",
       "      <th>end_date</th>\n",
       "      <th>end_station</th>\n",
       "      <th>end_terminal</th>\n",
       "      <th>start_date</th>\n",
       "      <th>start_terminal</th>\n",
       "      <th>subscriber_type</th>\n",
       "      <th>subscription_type</th>\n",
       "      <th>trip_id</th>\n",
       "      <th>zip_code</th>\n",
       "    </tr>\n",
       "    <tr>\n",
       "      <th>start_station</th>\n",
       "      <th></th>\n",
       "      <th></th>\n",
       "      <th></th>\n",
       "      <th></th>\n",
       "      <th></th>\n",
       "      <th></th>\n",
       "      <th></th>\n",
       "      <th></th>\n",
       "      <th></th>\n",
       "      <th></th>\n",
       "      <th></th>\n",
       "    </tr>\n",
       "  </thead>\n",
       "  <tbody>\n",
       "    <tr>\n",
       "      <th>San Francisco Caltrain (Townsend at 4th)</th>\n",
       "      <td>49092</td>\n",
       "      <td>49092</td>\n",
       "      <td>49092</td>\n",
       "      <td>49092</td>\n",
       "      <td>49092</td>\n",
       "      <td>49092</td>\n",
       "      <td>49092</td>\n",
       "      <td>39254</td>\n",
       "      <td>9838</td>\n",
       "      <td>49092</td>\n",
       "      <td>48916</td>\n",
       "    </tr>\n",
       "    <tr>\n",
       "      <th>San Francisco Caltrain 2 (330 Townsend)</th>\n",
       "      <td>33742</td>\n",
       "      <td>33742</td>\n",
       "      <td>33742</td>\n",
       "      <td>33742</td>\n",
       "      <td>33742</td>\n",
       "      <td>33742</td>\n",
       "      <td>33742</td>\n",
       "      <td>28766</td>\n",
       "      <td>4976</td>\n",
       "      <td>33742</td>\n",
       "      <td>33658</td>\n",
       "    </tr>\n",
       "    <tr>\n",
       "      <th>Harry Bridges Plaza (Ferry Building)</th>\n",
       "      <td>32934</td>\n",
       "      <td>32934</td>\n",
       "      <td>32934</td>\n",
       "      <td>32934</td>\n",
       "      <td>32934</td>\n",
       "      <td>32934</td>\n",
       "      <td>32934</td>\n",
       "      <td>25591</td>\n",
       "      <td>7343</td>\n",
       "      <td>32934</td>\n",
       "      <td>32312</td>\n",
       "    </tr>\n",
       "  </tbody>\n",
       "</table>\n",
       "</div>"
      ],
      "text/plain": [
       "                                          bike_#  duration  end_date  \\\n",
       "start_station                                                          \n",
       "San Francisco Caltrain (Townsend at 4th)   49092     49092     49092   \n",
       "San Francisco Caltrain 2 (330 Townsend)    33742     33742     33742   \n",
       "Harry Bridges Plaza (Ferry Building)       32934     32934     32934   \n",
       "\n",
       "                                          end_station  end_terminal  \\\n",
       "start_station                                                         \n",
       "San Francisco Caltrain (Townsend at 4th)        49092         49092   \n",
       "San Francisco Caltrain 2 (330 Townsend)         33742         33742   \n",
       "Harry Bridges Plaza (Ferry Building)            32934         32934   \n",
       "\n",
       "                                          start_date  start_terminal  \\\n",
       "start_station                                                          \n",
       "San Francisco Caltrain (Townsend at 4th)       49092           49092   \n",
       "San Francisco Caltrain 2 (330 Townsend)        33742           33742   \n",
       "Harry Bridges Plaza (Ferry Building)           32934           32934   \n",
       "\n",
       "                                          subscriber_type  subscription_type  \\\n",
       "start_station                                                                  \n",
       "San Francisco Caltrain (Townsend at 4th)            39254               9838   \n",
       "San Francisco Caltrain 2 (330 Townsend)             28766               4976   \n",
       "Harry Bridges Plaza (Ferry Building)                25591               7343   \n",
       "\n",
       "                                          trip_id  zip_code  \n",
       "start_station                                                \n",
       "San Francisco Caltrain (Townsend at 4th)    49092     48916  \n",
       "San Francisco Caltrain 2 (330 Townsend)     33742     33658  \n",
       "Harry Bridges Plaza (Ferry Building)        32934     32312  "
      ]
     },
     "execution_count": 8,
     "metadata": {},
     "output_type": "execute_result"
    }
   ],
   "source": [
    "g = df.groupby('start_station', sort=True).count().sort('duration', ascending=False)\n",
    "g.head(3)"
   ]
  },
  {
   "cell_type": "code",
   "execution_count": 9,
   "metadata": {
    "collapsed": false
   },
   "outputs": [
    {
     "data": {
      "text/plain": [
       "'San Francisco Caltrain (Townsend at 4th)'"
      ]
     },
     "execution_count": 9,
     "metadata": {},
     "output_type": "execute_result"
    }
   ],
   "source": [
    "g.head(1).index.values[0]"
   ]
  },
  {
   "cell_type": "markdown",
   "metadata": {},
   "source": [
    "# Question 2:\n",
    "\n",
    "Which start station has the longest trip duration?"
   ]
  },
  {
   "cell_type": "code",
   "execution_count": 10,
   "metadata": {
    "collapsed": false
   },
   "outputs": [
    {
     "data": {
      "text/html": [
       "<div>\n",
       "<table border=\"1\" class=\"dataframe\">\n",
       "  <thead>\n",
       "    <tr style=\"text-align: right;\">\n",
       "      <th></th>\n",
       "      <th>bike_#</th>\n",
       "      <th>duration</th>\n",
       "      <th>end_date</th>\n",
       "      <th>end_station</th>\n",
       "      <th>end_terminal</th>\n",
       "      <th>start_date</th>\n",
       "      <th>start_station</th>\n",
       "      <th>start_terminal</th>\n",
       "      <th>subscriber_type</th>\n",
       "      <th>subscription_type</th>\n",
       "      <th>trip_id</th>\n",
       "      <th>zip_code</th>\n",
       "    </tr>\n",
       "  </thead>\n",
       "  <tbody>\n",
       "    <tr>\n",
       "      <th>257759</th>\n",
       "      <td>535</td>\n",
       "      <td>17270400</td>\n",
       "      <td>6/24/2015 20:18</td>\n",
       "      <td>2nd at Folsom</td>\n",
       "      <td>62</td>\n",
       "      <td>12/6/2014 21:59</td>\n",
       "      <td>South Van Ness at Market</td>\n",
       "      <td>66</td>\n",
       "      <td>Customer</td>\n",
       "      <td>NaN</td>\n",
       "      <td>568474</td>\n",
       "      <td>95531</td>\n",
       "    </tr>\n",
       "    <tr>\n",
       "      <th>66911</th>\n",
       "      <td>466</td>\n",
       "      <td>2137000</td>\n",
       "      <td>7/23/2015 15:27</td>\n",
       "      <td>Yerba Buena Center of the Arts (3rd @ Howard)</td>\n",
       "      <td>68</td>\n",
       "      <td>6/28/2015 21:50</td>\n",
       "      <td>Market at Sansome</td>\n",
       "      <td>77</td>\n",
       "      <td>Customer</td>\n",
       "      <td>NaN</td>\n",
       "      <td>825850</td>\n",
       "      <td>97213</td>\n",
       "    </tr>\n",
       "    <tr>\n",
       "      <th>124532</th>\n",
       "      <td>680</td>\n",
       "      <td>1852590</td>\n",
       "      <td>5/23/2015 16:53</td>\n",
       "      <td>Castro Street and El Camino Real</td>\n",
       "      <td>32</td>\n",
       "      <td>5/2/2015 6:17</td>\n",
       "      <td>San Antonio Shopping Center</td>\n",
       "      <td>31</td>\n",
       "      <td>Subscriber</td>\n",
       "      <td>NaN</td>\n",
       "      <td>750192</td>\n",
       "      <td>94024</td>\n",
       "    </tr>\n",
       "  </tbody>\n",
       "</table>\n",
       "</div>"
      ],
      "text/plain": [
       "        bike_#  duration         end_date  \\\n",
       "257759     535  17270400  6/24/2015 20:18   \n",
       "66911      466   2137000  7/23/2015 15:27   \n",
       "124532     680   1852590  5/23/2015 16:53   \n",
       "\n",
       "                                          end_station  end_terminal  \\\n",
       "257759                                  2nd at Folsom            62   \n",
       "66911   Yerba Buena Center of the Arts (3rd @ Howard)            68   \n",
       "124532               Castro Street and El Camino Real            32   \n",
       "\n",
       "             start_date                start_station  start_terminal  \\\n",
       "257759  12/6/2014 21:59     South Van Ness at Market              66   \n",
       "66911   6/28/2015 21:50            Market at Sansome              77   \n",
       "124532    5/2/2015 6:17  San Antonio Shopping Center              31   \n",
       "\n",
       "       subscriber_type subscription_type  trip_id zip_code  \n",
       "257759        Customer               NaN   568474    95531  \n",
       "66911         Customer               NaN   825850    97213  \n",
       "124532      Subscriber               NaN   750192    94024  "
      ]
     },
     "execution_count": 10,
     "metadata": {},
     "output_type": "execute_result"
    }
   ],
   "source": [
    "q2 = df.sort('duration', ascending=False).head(3)"
   ]
  },
  {
   "cell_type": "markdown",
   "metadata": {},
   "source": [
    "# Question 3:\n",
    "\n",
    "Utilizing the Bay Area Bike Share database Year 1 - what is the Second most popular end station based on trip data ?"
   ]
  },
  {
   "cell_type": "code",
   "execution_count": 11,
   "metadata": {
    "collapsed": false
   },
   "outputs": [
    {
     "data": {
      "text/html": [
       "<div>\n",
       "<table border=\"1\" class=\"dataframe\">\n",
       "  <thead>\n",
       "    <tr style=\"text-align: right;\">\n",
       "      <th></th>\n",
       "      <th>bike_#</th>\n",
       "      <th>duration</th>\n",
       "      <th>end_date</th>\n",
       "      <th>end_station</th>\n",
       "      <th>end_terminal</th>\n",
       "      <th>start_date</th>\n",
       "      <th>start_station</th>\n",
       "      <th>start_terminal</th>\n",
       "      <th>subscriber_type</th>\n",
       "      <th>subscription_type</th>\n",
       "      <th>trip_id</th>\n",
       "      <th>zip_code</th>\n",
       "    </tr>\n",
       "  </thead>\n",
       "  <tbody>\n",
       "    <tr>\n",
       "      <th>0</th>\n",
       "      <td>520</td>\n",
       "      <td>63</td>\n",
       "      <td>8/29/2013 14:14</td>\n",
       "      <td>South Van Ness at Market</td>\n",
       "      <td>66</td>\n",
       "      <td>8/29/2013 14:13</td>\n",
       "      <td>South Van Ness at Market</td>\n",
       "      <td>66</td>\n",
       "      <td>NaN</td>\n",
       "      <td>Subscriber</td>\n",
       "      <td>4576</td>\n",
       "      <td>94127</td>\n",
       "    </tr>\n",
       "    <tr>\n",
       "      <th>1</th>\n",
       "      <td>661</td>\n",
       "      <td>70</td>\n",
       "      <td>8/29/2013 14:43</td>\n",
       "      <td>San Jose City Hall</td>\n",
       "      <td>10</td>\n",
       "      <td>8/29/2013 14:42</td>\n",
       "      <td>San Jose City Hall</td>\n",
       "      <td>10</td>\n",
       "      <td>NaN</td>\n",
       "      <td>Subscriber</td>\n",
       "      <td>4607</td>\n",
       "      <td>95138</td>\n",
       "    </tr>\n",
       "    <tr>\n",
       "      <th>2</th>\n",
       "      <td>48</td>\n",
       "      <td>71</td>\n",
       "      <td>8/29/2013 10:17</td>\n",
       "      <td>Mountain View City Hall</td>\n",
       "      <td>27</td>\n",
       "      <td>8/29/2013 10:16</td>\n",
       "      <td>Mountain View City Hall</td>\n",
       "      <td>27</td>\n",
       "      <td>NaN</td>\n",
       "      <td>Subscriber</td>\n",
       "      <td>4130</td>\n",
       "      <td>97214</td>\n",
       "    </tr>\n",
       "  </tbody>\n",
       "</table>\n",
       "</div>"
      ],
      "text/plain": [
       "   bike_#  duration         end_date               end_station  end_terminal  \\\n",
       "0     520        63  8/29/2013 14:14  South Van Ness at Market            66   \n",
       "1     661        70  8/29/2013 14:43        San Jose City Hall            10   \n",
       "2      48        71  8/29/2013 10:17   Mountain View City Hall            27   \n",
       "\n",
       "        start_date             start_station  start_terminal subscriber_type  \\\n",
       "0  8/29/2013 14:13  South Van Ness at Market              66             NaN   \n",
       "1  8/29/2013 14:42        San Jose City Hall              10             NaN   \n",
       "2  8/29/2013 10:16   Mountain View City Hall              27             NaN   \n",
       "\n",
       "  subscription_type  trip_id zip_code  \n",
       "0        Subscriber     4576    94127  \n",
       "1        Subscriber     4607    95138  \n",
       "2        Subscriber     4130    97214  "
      ]
     },
     "execution_count": 11,
     "metadata": {},
     "output_type": "execute_result"
    }
   ],
   "source": [
    "# just load year 1 data\n",
    "df1 = pd.read_csv('bike_data/201402_trip_data.csv'); lower_column_names(df1)\n",
    "df2 = pd.read_csv('bike_data/201408_trip_data.csv'); lower_column_names(df2)\n",
    "df = pd.concat([df1, df2])\n",
    "df.head(3)"
   ]
  },
  {
   "cell_type": "code",
   "execution_count": 12,
   "metadata": {
    "collapsed": true
   },
   "outputs": [],
   "source": [
    "del(df1)\n",
    "del(df2)"
   ]
  },
  {
   "cell_type": "code",
   "execution_count": 13,
   "metadata": {
    "collapsed": false
   },
   "outputs": [
    {
     "data": {
      "text/html": [
       "<div>\n",
       "<table border=\"1\" class=\"dataframe\">\n",
       "  <thead>\n",
       "    <tr style=\"text-align: right;\">\n",
       "      <th></th>\n",
       "      <th>bike_#</th>\n",
       "      <th>duration</th>\n",
       "      <th>end_date</th>\n",
       "      <th>end_terminal</th>\n",
       "      <th>start_date</th>\n",
       "      <th>start_station</th>\n",
       "      <th>start_terminal</th>\n",
       "      <th>subscriber_type</th>\n",
       "      <th>subscription_type</th>\n",
       "      <th>trip_id</th>\n",
       "      <th>zip_code</th>\n",
       "    </tr>\n",
       "    <tr>\n",
       "      <th>end_station</th>\n",
       "      <th></th>\n",
       "      <th></th>\n",
       "      <th></th>\n",
       "      <th></th>\n",
       "      <th></th>\n",
       "      <th></th>\n",
       "      <th></th>\n",
       "      <th></th>\n",
       "      <th></th>\n",
       "      <th></th>\n",
       "      <th></th>\n",
       "    </tr>\n",
       "  </thead>\n",
       "  <tbody>\n",
       "    <tr>\n",
       "      <th>San Francisco Caltrain (Townsend at 4th)</th>\n",
       "      <td>28369</td>\n",
       "      <td>28369</td>\n",
       "      <td>28369</td>\n",
       "      <td>28369</td>\n",
       "      <td>28369</td>\n",
       "      <td>28369</td>\n",
       "      <td>28369</td>\n",
       "      <td>16732</td>\n",
       "      <td>11637</td>\n",
       "      <td>28369</td>\n",
       "      <td>28190</td>\n",
       "    </tr>\n",
       "    <tr>\n",
       "      <th>Embarcadero at Sansome</th>\n",
       "      <td>15731</td>\n",
       "      <td>15731</td>\n",
       "      <td>15731</td>\n",
       "      <td>15731</td>\n",
       "      <td>15731</td>\n",
       "      <td>15731</td>\n",
       "      <td>15731</td>\n",
       "      <td>8141</td>\n",
       "      <td>7590</td>\n",
       "      <td>15731</td>\n",
       "      <td>14764</td>\n",
       "    </tr>\n",
       "    <tr>\n",
       "      <th>Harry Bridges Plaza (Ferry Building)</th>\n",
       "      <td>15383</td>\n",
       "      <td>15383</td>\n",
       "      <td>15383</td>\n",
       "      <td>15383</td>\n",
       "      <td>15383</td>\n",
       "      <td>15383</td>\n",
       "      <td>15383</td>\n",
       "      <td>7908</td>\n",
       "      <td>7475</td>\n",
       "      <td>15383</td>\n",
       "      <td>14882</td>\n",
       "    </tr>\n",
       "  </tbody>\n",
       "</table>\n",
       "</div>"
      ],
      "text/plain": [
       "                                          bike_#  duration  end_date  \\\n",
       "end_station                                                            \n",
       "San Francisco Caltrain (Townsend at 4th)   28369     28369     28369   \n",
       "Embarcadero at Sansome                     15731     15731     15731   \n",
       "Harry Bridges Plaza (Ferry Building)       15383     15383     15383   \n",
       "\n",
       "                                          end_terminal  start_date  \\\n",
       "end_station                                                          \n",
       "San Francisco Caltrain (Townsend at 4th)         28369       28369   \n",
       "Embarcadero at Sansome                           15731       15731   \n",
       "Harry Bridges Plaza (Ferry Building)             15383       15383   \n",
       "\n",
       "                                          start_station  start_terminal  \\\n",
       "end_station                                                               \n",
       "San Francisco Caltrain (Townsend at 4th)          28369           28369   \n",
       "Embarcadero at Sansome                            15731           15731   \n",
       "Harry Bridges Plaza (Ferry Building)              15383           15383   \n",
       "\n",
       "                                          subscriber_type  subscription_type  \\\n",
       "end_station                                                                    \n",
       "San Francisco Caltrain (Townsend at 4th)            16732              11637   \n",
       "Embarcadero at Sansome                               8141               7590   \n",
       "Harry Bridges Plaza (Ferry Building)                 7908               7475   \n",
       "\n",
       "                                          trip_id  zip_code  \n",
       "end_station                                                  \n",
       "San Francisco Caltrain (Townsend at 4th)    28369     28190  \n",
       "Embarcadero at Sansome                      15731     14764  \n",
       "Harry Bridges Plaza (Ferry Building)        15383     14882  "
      ]
     },
     "execution_count": 13,
     "metadata": {},
     "output_type": "execute_result"
    }
   ],
   "source": [
    "g = df.groupby('end_station', sort=True).count().sort('duration', ascending=False)\n",
    "g.head(3)"
   ]
  }
 ],
 "metadata": {
  "kernelspec": {
   "display_name": "Python 2",
   "language": "python",
   "name": "python2"
  },
  "language_info": {
   "codemirror_mode": {
    "name": "ipython",
    "version": 2
   },
   "file_extension": ".py",
   "mimetype": "text/x-python",
   "name": "python",
   "nbconvert_exporter": "python",
   "pygments_lexer": "ipython2",
   "version": "2.7.10"
  }
 },
 "nbformat": 4,
 "nbformat_minor": 0
}
