{
 "cells": [
  {
   "cell_type": "code",
   "execution_count": 1,
   "metadata": {
    "collapsed": false
   },
   "outputs": [
    {
     "name": "stdout",
     "output_type": "stream",
     "text": [
      "/Users/rwk7t/Development/dst/courses/coursera_bigdata/course3/week2\n"
     ]
    }
   ],
   "source": [
    "import itertools as it\n",
    "import numpy as np\n",
    "import pandas as pd\n",
    "import matplotlib.pyplot as plt\n",
    "import scipy.stats as st\n",
    "import scipy.misc\n",
    "import scipy.optimize as op\n",
    "import scipy.io\n",
    "import random\n",
    "from IPython.display import display, Math, Latex\n",
    "\n",
    "# set path\n",
    "import os\n",
    "os.chdir('%s/courses/coursera_bigdata/course3/week2' % os.getenv('DST'))\n",
    "print(os.getcwd())\n",
    "\n",
    "# printing options \n",
    "np.set_printoptions(linewidth=250)\n",
    "np.set_printoptions(precision=3)\n",
    "\n",
    "%matplotlib inline\n",
    "# plotting options\n",
    "plt.rc('font'  , size=18)\n",
    "plt.rc('figure', figsize=(10, 8))\n",
    "plt.rc('axes'  , labelsize=22)\n",
    "plt.rc('legend', fontsize=16)\n",
    "plt.rc('figure', figsize=(10, 8))"
   ]
  },
  {
   "cell_type": "markdown",
   "metadata": {},
   "source": [
    "# Import data"
   ]
  },
  {
   "cell_type": "code",
   "execution_count": 2,
   "metadata": {
    "collapsed": true
   },
   "outputs": [],
   "source": [
    "def munge(df):\n",
    "    df.columns    = [c.replace(' ', '_').lower() for c in df.columns]\n",
    "    df.start_date = pd.to_datetime(df['start_date'])\n",
    "    df.end_date   = pd.to_datetime(df['end_date'  ])\n",
    "    return "
   ]
  },
  {
   "cell_type": "code",
   "execution_count": 3,
   "metadata": {
    "collapsed": false
   },
   "outputs": [],
   "source": [
    "df1 = pd.read_csv('bike_data/201402_trip_data.csv'); munge(df1)\n",
    "df2 = pd.read_csv('bike_data/201408_trip_data.csv'); munge(df2)\n",
    "df3 = pd.read_csv('bike_data/201508_trip_data.csv'); munge(df3)"
   ]
  },
  {
   "cell_type": "code",
   "execution_count": 4,
   "metadata": {
    "collapsed": false
   },
   "outputs": [
    {
     "name": "stdout",
     "output_type": "stream",
     "text": [
      "<class 'pandas.core.frame.DataFrame'>\n",
      "Int64Index: 144015 entries, 0 to 144014\n",
      "Data columns (total 11 columns):\n",
      "trip_id              144015 non-null int64\n",
      "duration             144015 non-null int64\n",
      "start_date           144015 non-null datetime64[ns]\n",
      "start_station        144015 non-null object\n",
      "start_terminal       144015 non-null int64\n",
      "end_date             144015 non-null datetime64[ns]\n",
      "end_station          144015 non-null object\n",
      "end_terminal         144015 non-null int64\n",
      "bike_#               144015 non-null int64\n",
      "subscription_type    144015 non-null object\n",
      "zip_code             137885 non-null object\n",
      "dtypes: datetime64[ns](2), int64(5), object(4)\n",
      "memory usage: 13.2+ MB\n"
     ]
    }
   ],
   "source": [
    "df1.info()"
   ]
  },
  {
   "cell_type": "code",
   "execution_count": 5,
   "metadata": {
    "collapsed": false
   },
   "outputs": [
    {
     "data": {
      "text/plain": [
       "0   2013-08-29 14:13:00\n",
       "1   2013-08-29 14:42:00\n",
       "2   2013-08-29 10:16:00\n",
       "3   2013-08-29 11:29:00\n",
       "Name: start_date, dtype: datetime64[ns]"
      ]
     },
     "execution_count": 5,
     "metadata": {},
     "output_type": "execute_result"
    }
   ],
   "source": [
    "pd.to_datetime(df1.head(4)['start_date'])"
   ]
  },
  {
   "cell_type": "code",
   "execution_count": 6,
   "metadata": {
    "collapsed": false
   },
   "outputs": [
    {
     "data": {
      "text/plain": [
       "(Timestamp('2013-08-29 09:08:00'),\n",
       " Timestamp('2014-03-01 00:14:00'),\n",
       " Timestamp('2014-09-01 00:05:00'))"
      ]
     },
     "execution_count": 6,
     "metadata": {},
     "output_type": "execute_result"
    }
   ],
   "source": [
    "min(df1.start_date), min(df2.start_date), min(df3.start_date)"
   ]
  },
  {
   "cell_type": "code",
   "execution_count": 7,
   "metadata": {
    "collapsed": false
   },
   "outputs": [
    {
     "data": {
      "text/plain": [
       "(Timestamp('2013-08-29 09:11:00'),\n",
       " Timestamp('2014-03-01 00:17:00'),\n",
       " Timestamp('2014-09-01 00:14:00'))"
      ]
     },
     "execution_count": 7,
     "metadata": {},
     "output_type": "execute_result"
    }
   ],
   "source": [
    "min(df1.end_date), min(df2.end_date), min(df3.end_date)"
   ]
  },
  {
   "cell_type": "code",
   "execution_count": 8,
   "metadata": {
    "collapsed": false
   },
   "outputs": [
    {
     "data": {
      "text/plain": [
       "(Timestamp('2014-02-28 23:20:00'),\n",
       " Timestamp('2014-08-31 22:31:00'),\n",
       " Timestamp('2015-08-31 23:26:00'))"
      ]
     },
     "execution_count": 8,
     "metadata": {},
     "output_type": "execute_result"
    }
   ],
   "source": [
    "max(df1.start_date), max(df2.start_date), max(df3.start_date)"
   ]
  },
  {
   "cell_type": "code",
   "execution_count": 9,
   "metadata": {
    "collapsed": false
   },
   "outputs": [
    {
     "data": {
      "text/plain": [
       "(Timestamp('2014-03-02 16:52:00'),\n",
       " Timestamp('2014-09-01 16:09:00'),\n",
       " Timestamp('2015-08-31 23:39:00'))"
      ]
     },
     "execution_count": 9,
     "metadata": {},
     "output_type": "execute_result"
    }
   ],
   "source": [
    "max(df1.end_date), max(df2.end_date), max(df3.end_date)"
   ]
  },
  {
   "cell_type": "code",
   "execution_count": 10,
   "metadata": {
    "collapsed": false
   },
   "outputs": [
    {
     "data": {
      "text/html": [
       "<div>\n",
       "<table border=\"1\" class=\"dataframe\">\n",
       "  <thead>\n",
       "    <tr style=\"text-align: right;\">\n",
       "      <th></th>\n",
       "      <th>bike_#</th>\n",
       "      <th>duration</th>\n",
       "      <th>end_date</th>\n",
       "      <th>end_station</th>\n",
       "      <th>end_terminal</th>\n",
       "      <th>start_date</th>\n",
       "      <th>start_station</th>\n",
       "      <th>start_terminal</th>\n",
       "      <th>subscriber_type</th>\n",
       "      <th>subscription_type</th>\n",
       "      <th>trip_id</th>\n",
       "      <th>zip_code</th>\n",
       "    </tr>\n",
       "  </thead>\n",
       "  <tbody>\n",
       "    <tr>\n",
       "      <th>0</th>\n",
       "      <td>520</td>\n",
       "      <td>63</td>\n",
       "      <td>2013-08-29 14:14:00</td>\n",
       "      <td>South Van Ness at Market</td>\n",
       "      <td>66</td>\n",
       "      <td>2013-08-29 14:13:00</td>\n",
       "      <td>South Van Ness at Market</td>\n",
       "      <td>66</td>\n",
       "      <td>NaN</td>\n",
       "      <td>Subscriber</td>\n",
       "      <td>4576</td>\n",
       "      <td>94127</td>\n",
       "    </tr>\n",
       "    <tr>\n",
       "      <th>1</th>\n",
       "      <td>661</td>\n",
       "      <td>70</td>\n",
       "      <td>2013-08-29 14:43:00</td>\n",
       "      <td>San Jose City Hall</td>\n",
       "      <td>10</td>\n",
       "      <td>2013-08-29 14:42:00</td>\n",
       "      <td>San Jose City Hall</td>\n",
       "      <td>10</td>\n",
       "      <td>NaN</td>\n",
       "      <td>Subscriber</td>\n",
       "      <td>4607</td>\n",
       "      <td>95138</td>\n",
       "    </tr>\n",
       "    <tr>\n",
       "      <th>2</th>\n",
       "      <td>48</td>\n",
       "      <td>71</td>\n",
       "      <td>2013-08-29 10:17:00</td>\n",
       "      <td>Mountain View City Hall</td>\n",
       "      <td>27</td>\n",
       "      <td>2013-08-29 10:16:00</td>\n",
       "      <td>Mountain View City Hall</td>\n",
       "      <td>27</td>\n",
       "      <td>NaN</td>\n",
       "      <td>Subscriber</td>\n",
       "      <td>4130</td>\n",
       "      <td>97214</td>\n",
       "    </tr>\n",
       "  </tbody>\n",
       "</table>\n",
       "</div>"
      ],
      "text/plain": [
       "   bike_#  duration            end_date               end_station  \\\n",
       "0     520        63 2013-08-29 14:14:00  South Van Ness at Market   \n",
       "1     661        70 2013-08-29 14:43:00        San Jose City Hall   \n",
       "2      48        71 2013-08-29 10:17:00   Mountain View City Hall   \n",
       "\n",
       "   end_terminal          start_date             start_station  start_terminal  \\\n",
       "0            66 2013-08-29 14:13:00  South Van Ness at Market              66   \n",
       "1            10 2013-08-29 14:42:00        San Jose City Hall              10   \n",
       "2            27 2013-08-29 10:16:00   Mountain View City Hall              27   \n",
       "\n",
       "  subscriber_type subscription_type  trip_id zip_code  \n",
       "0             NaN        Subscriber     4576    94127  \n",
       "1             NaN        Subscriber     4607    95138  \n",
       "2             NaN        Subscriber     4130    97214  "
      ]
     },
     "execution_count": 10,
     "metadata": {},
     "output_type": "execute_result"
    }
   ],
   "source": [
    "df = pd.concat([df1, df2, df3])\n",
    "df.head(3)"
   ]
  },
  {
   "cell_type": "code",
   "execution_count": 11,
   "metadata": {
    "collapsed": true
   },
   "outputs": [],
   "source": [
    "del(df1)\n",
    "del(df2)\n",
    "del(df3)"
   ]
  },
  {
   "cell_type": "markdown",
   "metadata": {},
   "source": [
    "# Quesiton 1:\n",
    "\n",
    "Utilizing the Bay Area Bike Share database - what is the most popular start station based on trip data?"
   ]
  },
  {
   "cell_type": "code",
   "execution_count": 12,
   "metadata": {
    "collapsed": false,
    "scrolled": false
   },
   "outputs": [
    {
     "data": {
      "text/html": [
       "<div>\n",
       "<table border=\"1\" class=\"dataframe\">\n",
       "  <thead>\n",
       "    <tr style=\"text-align: right;\">\n",
       "      <th></th>\n",
       "      <th>bike_#</th>\n",
       "      <th>duration</th>\n",
       "      <th>end_date</th>\n",
       "      <th>end_station</th>\n",
       "      <th>end_terminal</th>\n",
       "      <th>start_date</th>\n",
       "      <th>start_terminal</th>\n",
       "      <th>subscriber_type</th>\n",
       "      <th>subscription_type</th>\n",
       "      <th>trip_id</th>\n",
       "      <th>zip_code</th>\n",
       "    </tr>\n",
       "    <tr>\n",
       "      <th>start_station</th>\n",
       "      <th></th>\n",
       "      <th></th>\n",
       "      <th></th>\n",
       "      <th></th>\n",
       "      <th></th>\n",
       "      <th></th>\n",
       "      <th></th>\n",
       "      <th></th>\n",
       "      <th></th>\n",
       "      <th></th>\n",
       "      <th></th>\n",
       "    </tr>\n",
       "  </thead>\n",
       "  <tbody>\n",
       "    <tr>\n",
       "      <th>San Francisco Caltrain (Townsend at 4th)</th>\n",
       "      <td>49092</td>\n",
       "      <td>49092</td>\n",
       "      <td>49092</td>\n",
       "      <td>49092</td>\n",
       "      <td>49092</td>\n",
       "      <td>49092</td>\n",
       "      <td>49092</td>\n",
       "      <td>39254</td>\n",
       "      <td>9838</td>\n",
       "      <td>49092</td>\n",
       "      <td>48916</td>\n",
       "    </tr>\n",
       "    <tr>\n",
       "      <th>San Francisco Caltrain 2 (330 Townsend)</th>\n",
       "      <td>33742</td>\n",
       "      <td>33742</td>\n",
       "      <td>33742</td>\n",
       "      <td>33742</td>\n",
       "      <td>33742</td>\n",
       "      <td>33742</td>\n",
       "      <td>33742</td>\n",
       "      <td>28766</td>\n",
       "      <td>4976</td>\n",
       "      <td>33742</td>\n",
       "      <td>33658</td>\n",
       "    </tr>\n",
       "    <tr>\n",
       "      <th>Harry Bridges Plaza (Ferry Building)</th>\n",
       "      <td>32934</td>\n",
       "      <td>32934</td>\n",
       "      <td>32934</td>\n",
       "      <td>32934</td>\n",
       "      <td>32934</td>\n",
       "      <td>32934</td>\n",
       "      <td>32934</td>\n",
       "      <td>25591</td>\n",
       "      <td>7343</td>\n",
       "      <td>32934</td>\n",
       "      <td>32312</td>\n",
       "    </tr>\n",
       "  </tbody>\n",
       "</table>\n",
       "</div>"
      ],
      "text/plain": [
       "                                          bike_#  duration  end_date  \\\n",
       "start_station                                                          \n",
       "San Francisco Caltrain (Townsend at 4th)   49092     49092     49092   \n",
       "San Francisco Caltrain 2 (330 Townsend)    33742     33742     33742   \n",
       "Harry Bridges Plaza (Ferry Building)       32934     32934     32934   \n",
       "\n",
       "                                          end_station  end_terminal  \\\n",
       "start_station                                                         \n",
       "San Francisco Caltrain (Townsend at 4th)        49092         49092   \n",
       "San Francisco Caltrain 2 (330 Townsend)         33742         33742   \n",
       "Harry Bridges Plaza (Ferry Building)            32934         32934   \n",
       "\n",
       "                                          start_date  start_terminal  \\\n",
       "start_station                                                          \n",
       "San Francisco Caltrain (Townsend at 4th)       49092           49092   \n",
       "San Francisco Caltrain 2 (330 Townsend)        33742           33742   \n",
       "Harry Bridges Plaza (Ferry Building)           32934           32934   \n",
       "\n",
       "                                          subscriber_type  subscription_type  \\\n",
       "start_station                                                                  \n",
       "San Francisco Caltrain (Townsend at 4th)            39254               9838   \n",
       "San Francisco Caltrain 2 (330 Townsend)             28766               4976   \n",
       "Harry Bridges Plaza (Ferry Building)                25591               7343   \n",
       "\n",
       "                                          trip_id  zip_code  \n",
       "start_station                                                \n",
       "San Francisco Caltrain (Townsend at 4th)    49092     48916  \n",
       "San Francisco Caltrain 2 (330 Townsend)     33742     33658  \n",
       "Harry Bridges Plaza (Ferry Building)        32934     32312  "
      ]
     },
     "execution_count": 12,
     "metadata": {},
     "output_type": "execute_result"
    }
   ],
   "source": [
    "q1 = df.groupby('start_station', sort=True).count().sort('duration', ascending=False)\n",
    "q1.head(3)"
   ]
  },
  {
   "cell_type": "code",
   "execution_count": 13,
   "metadata": {
    "collapsed": false
   },
   "outputs": [
    {
     "data": {
      "text/plain": [
       "'San Francisco Caltrain (Townsend at 4th)'"
      ]
     },
     "execution_count": 13,
     "metadata": {},
     "output_type": "execute_result"
    }
   ],
   "source": [
    "q1.head(1).index.values[0]"
   ]
  },
  {
   "cell_type": "markdown",
   "metadata": {},
   "source": [
    "# Question 2:\n",
    "\n",
    "Utilizing the Bay Area Bike Share database (Year 1 only, Aug. 2013- Feb 1, 2014) - Which is the least popular(least used) start station in the Bike share trips data?\n",
    "\n",
    "(Hint: Use the count of start station, group and order in ascending order)"
   ]
  },
  {
   "cell_type": "code",
   "execution_count": 14,
   "metadata": {
    "collapsed": false
   },
   "outputs": [
    {
     "data": {
      "text/html": [
       "<div>\n",
       "<table border=\"1\" class=\"dataframe\">\n",
       "  <thead>\n",
       "    <tr style=\"text-align: right;\">\n",
       "      <th></th>\n",
       "      <th>bike_#</th>\n",
       "      <th>duration</th>\n",
       "      <th>end_date</th>\n",
       "      <th>end_station</th>\n",
       "      <th>end_terminal</th>\n",
       "      <th>start_date</th>\n",
       "      <th>start_terminal</th>\n",
       "      <th>subscriber_type</th>\n",
       "      <th>subscription_type</th>\n",
       "      <th>trip_id</th>\n",
       "      <th>zip_code</th>\n",
       "    </tr>\n",
       "    <tr>\n",
       "      <th>start_station</th>\n",
       "      <th></th>\n",
       "      <th></th>\n",
       "      <th></th>\n",
       "      <th></th>\n",
       "      <th></th>\n",
       "      <th></th>\n",
       "      <th></th>\n",
       "      <th></th>\n",
       "      <th></th>\n",
       "      <th></th>\n",
       "      <th></th>\n",
       "    </tr>\n",
       "  </thead>\n",
       "  <tbody>\n",
       "    <tr>\n",
       "      <th>Mezes Park</th>\n",
       "      <td>3</td>\n",
       "      <td>3</td>\n",
       "      <td>3</td>\n",
       "      <td>3</td>\n",
       "      <td>3</td>\n",
       "      <td>3</td>\n",
       "      <td>3</td>\n",
       "      <td>0</td>\n",
       "      <td>3</td>\n",
       "      <td>3</td>\n",
       "      <td>3</td>\n",
       "    </tr>\n",
       "    <tr>\n",
       "      <th>San Jose Government Center</th>\n",
       "      <td>23</td>\n",
       "      <td>23</td>\n",
       "      <td>23</td>\n",
       "      <td>23</td>\n",
       "      <td>23</td>\n",
       "      <td>23</td>\n",
       "      <td>23</td>\n",
       "      <td>0</td>\n",
       "      <td>23</td>\n",
       "      <td>23</td>\n",
       "      <td>22</td>\n",
       "    </tr>\n",
       "    <tr>\n",
       "      <th>Redwood City Public Library</th>\n",
       "      <td>44</td>\n",
       "      <td>44</td>\n",
       "      <td>44</td>\n",
       "      <td>44</td>\n",
       "      <td>44</td>\n",
       "      <td>44</td>\n",
       "      <td>44</td>\n",
       "      <td>0</td>\n",
       "      <td>44</td>\n",
       "      <td>44</td>\n",
       "      <td>41</td>\n",
       "    </tr>\n",
       "  </tbody>\n",
       "</table>\n",
       "</div>"
      ],
      "text/plain": [
       "                             bike_#  duration  end_date  end_station  \\\n",
       "start_station                                                          \n",
       "Mezes Park                        3         3         3            3   \n",
       "San Jose Government Center       23        23        23           23   \n",
       "Redwood City Public Library      44        44        44           44   \n",
       "\n",
       "                             end_terminal  start_date  start_terminal  \\\n",
       "start_station                                                           \n",
       "Mezes Park                              3           3               3   \n",
       "San Jose Government Center             23          23              23   \n",
       "Redwood City Public Library            44          44              44   \n",
       "\n",
       "                             subscriber_type  subscription_type  trip_id  \\\n",
       "start_station                                                              \n",
       "Mezes Park                                 0                  3        3   \n",
       "San Jose Government Center                 0                 23       23   \n",
       "Redwood City Public Library                0                 44       44   \n",
       "\n",
       "                             zip_code  \n",
       "start_station                          \n",
       "Mezes Park                          3  \n",
       "San Jose Government Center         22  \n",
       "Redwood City Public Library        41  "
      ]
     },
     "execution_count": 14,
     "metadata": {},
     "output_type": "execute_result"
    }
   ],
   "source": [
    "q2 = df.query('start_date < \"3/1/2014\"').groupby('start_station', sort=True).count().sort('duration', ascending=True)\n",
    "q2.head(3)"
   ]
  },
  {
   "cell_type": "markdown",
   "metadata": {},
   "source": [
    "# Question 3:\n",
    "\n",
    "Utilizing the Bay Area Bike Share database Year 1 - what is the Second most popular end station based on trip data ?"
   ]
  },
  {
   "cell_type": "code",
   "execution_count": 15,
   "metadata": {
    "collapsed": false
   },
   "outputs": [
    {
     "data": {
      "text/html": [
       "<div>\n",
       "<table border=\"1\" class=\"dataframe\">\n",
       "  <thead>\n",
       "    <tr style=\"text-align: right;\">\n",
       "      <th></th>\n",
       "      <th>bike_#</th>\n",
       "      <th>duration</th>\n",
       "      <th>end_date</th>\n",
       "      <th>end_terminal</th>\n",
       "      <th>start_date</th>\n",
       "      <th>start_station</th>\n",
       "      <th>start_terminal</th>\n",
       "      <th>subscriber_type</th>\n",
       "      <th>subscription_type</th>\n",
       "      <th>trip_id</th>\n",
       "      <th>zip_code</th>\n",
       "    </tr>\n",
       "    <tr>\n",
       "      <th>end_station</th>\n",
       "      <th></th>\n",
       "      <th></th>\n",
       "      <th></th>\n",
       "      <th></th>\n",
       "      <th></th>\n",
       "      <th></th>\n",
       "      <th></th>\n",
       "      <th></th>\n",
       "      <th></th>\n",
       "      <th></th>\n",
       "      <th></th>\n",
       "    </tr>\n",
       "  </thead>\n",
       "  <tbody>\n",
       "    <tr>\n",
       "      <th>San Francisco Caltrain (Townsend at 4th)</th>\n",
       "      <td>11637</td>\n",
       "      <td>11637</td>\n",
       "      <td>11637</td>\n",
       "      <td>11637</td>\n",
       "      <td>11637</td>\n",
       "      <td>11637</td>\n",
       "      <td>11637</td>\n",
       "      <td>0</td>\n",
       "      <td>11637</td>\n",
       "      <td>11637</td>\n",
       "      <td>11466</td>\n",
       "    </tr>\n",
       "    <tr>\n",
       "      <th>Embarcadero at Sansome</th>\n",
       "      <td>7590</td>\n",
       "      <td>7590</td>\n",
       "      <td>7590</td>\n",
       "      <td>7590</td>\n",
       "      <td>7590</td>\n",
       "      <td>7590</td>\n",
       "      <td>7590</td>\n",
       "      <td>0</td>\n",
       "      <td>7590</td>\n",
       "      <td>7590</td>\n",
       "      <td>6659</td>\n",
       "    </tr>\n",
       "    <tr>\n",
       "      <th>Harry Bridges Plaza (Ferry Building)</th>\n",
       "      <td>7475</td>\n",
       "      <td>7475</td>\n",
       "      <td>7475</td>\n",
       "      <td>7475</td>\n",
       "      <td>7475</td>\n",
       "      <td>7475</td>\n",
       "      <td>7475</td>\n",
       "      <td>0</td>\n",
       "      <td>7475</td>\n",
       "      <td>7475</td>\n",
       "      <td>6991</td>\n",
       "    </tr>\n",
       "  </tbody>\n",
       "</table>\n",
       "</div>"
      ],
      "text/plain": [
       "                                          bike_#  duration  end_date  \\\n",
       "end_station                                                            \n",
       "San Francisco Caltrain (Townsend at 4th)   11637     11637     11637   \n",
       "Embarcadero at Sansome                      7590      7590      7590   \n",
       "Harry Bridges Plaza (Ferry Building)        7475      7475      7475   \n",
       "\n",
       "                                          end_terminal  start_date  \\\n",
       "end_station                                                          \n",
       "San Francisco Caltrain (Townsend at 4th)         11637       11637   \n",
       "Embarcadero at Sansome                            7590        7590   \n",
       "Harry Bridges Plaza (Ferry Building)              7475        7475   \n",
       "\n",
       "                                          start_station  start_terminal  \\\n",
       "end_station                                                               \n",
       "San Francisco Caltrain (Townsend at 4th)          11637           11637   \n",
       "Embarcadero at Sansome                             7590            7590   \n",
       "Harry Bridges Plaza (Ferry Building)               7475            7475   \n",
       "\n",
       "                                          subscriber_type  subscription_type  \\\n",
       "end_station                                                                    \n",
       "San Francisco Caltrain (Townsend at 4th)                0              11637   \n",
       "Embarcadero at Sansome                                  0               7590   \n",
       "Harry Bridges Plaza (Ferry Building)                    0               7475   \n",
       "\n",
       "                                          trip_id  zip_code  \n",
       "end_station                                                  \n",
       "San Francisco Caltrain (Townsend at 4th)    11637     11466  \n",
       "Embarcadero at Sansome                       7590      6659  \n",
       "Harry Bridges Plaza (Ferry Building)         7475      6991  "
      ]
     },
     "execution_count": 15,
     "metadata": {},
     "output_type": "execute_result"
    }
   ],
   "source": [
    "q3 = df.query('start_date < \"3/1/2014 00:00\"').groupby('end_station', sort=True).count().sort('duration', ascending=False)\n",
    "q3.head(3)"
   ]
  },
  {
   "cell_type": "code",
   "execution_count": 16,
   "metadata": {
    "collapsed": false
   },
   "outputs": [
    {
     "data": {
      "text/plain": [
       "bike_#               7590\n",
       "duration             7590\n",
       "end_date             7590\n",
       "end_terminal         7590\n",
       "start_date           7590\n",
       "start_station        7590\n",
       "start_terminal       7590\n",
       "subscriber_type         0\n",
       "subscription_type    7590\n",
       "trip_id              7590\n",
       "zip_code             6659\n",
       "Name: Embarcadero at Sansome, dtype: int64"
      ]
     },
     "execution_count": 16,
     "metadata": {},
     "output_type": "execute_result"
    }
   ],
   "source": [
    "q3.iloc[1]"
   ]
  }
 ],
 "metadata": {
  "kernelspec": {
   "display_name": "Python 2",
   "language": "python",
   "name": "python2"
  },
  "language_info": {
   "codemirror_mode": {
    "name": "ipython",
    "version": 2
   },
   "file_extension": ".py",
   "mimetype": "text/x-python",
   "name": "python",
   "nbconvert_exporter": "python",
   "pygments_lexer": "ipython2",
   "version": "2.7.10"
  }
 },
 "nbformat": 4,
 "nbformat_minor": 0
}
