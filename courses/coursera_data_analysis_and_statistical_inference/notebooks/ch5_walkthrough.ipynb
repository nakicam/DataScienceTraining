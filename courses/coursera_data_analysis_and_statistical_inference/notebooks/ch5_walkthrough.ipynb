{
 "metadata": {
  "name": "ch5_walkthrough.ipynb"
 },
 "nbformat": 3,
 "nbformat_minor": 0,
 "worksheets": [
  {
   "cells": [
    {
     "cell_type": "heading",
     "level": 1,
     "metadata": {},
     "source": [
      "Chapter 5: Inference for Numerical Data"
     ]
    },
    {
     "cell_type": "heading",
     "level": 3,
     "metadata": {},
     "source": [
      "setup"
     ]
    },
    {
     "cell_type": "code",
     "collapsed": false,
     "input": [
      "# setup notebook\n",
      "import numpy as np\n",
      "import pandas as pd\n",
      "import matplotlib.pyplot as plt\n",
      "import scipy.stats as st\n",
      "from IPython.display import display, Math, Latex\n",
      "import os\n",
      "os.chdir('%s/courses/coursera_data_analysis_and_statistical_inference' % os.getenv('DST'))\n",
      "print(os.getcwd())\n",
      "\n",
      "np.set_printoptions(precision=4)\n",
      "plt.rc('figure', figsize=(10, 8))"
     ],
     "language": "python",
     "metadata": {},
     "outputs": [
      {
       "output_type": "stream",
       "stream": "stdout",
       "text": [
        "/Users/rwk7t/Development/dst/courses/coursera_data_analysis_and_statistical_inference\n"
       ]
      }
     ],
     "prompt_number": 1
    },
    {
     "cell_type": "heading",
     "level": 3,
     "metadata": {},
     "source": [
      "resuable functions:"
     ]
    },
    {
     "cell_type": "code",
     "collapsed": false,
     "input": [
      "def hyp_test(obs, alpha=0.05, two_sided=False, rv=st.norm):\n",
      "    obs = -1.0*abs(obs)\n",
      "    p = rv.cdf(obs)\n",
      "    if (two_sided):\n",
      "        p = 2*p\n",
      "    cl = 100*(1.0-alpha)\n",
      "    if (p < alpha):    \n",
      "        print(\"Reject H0 at %1.0f%% CL with p = %1.2e\" % (cl, p))\n",
      "    else:\n",
      "        print(\"Fail to reject H0 at %1.0f%% CL with p = %1.2e\" % (cl, p))"
     ],
     "language": "python",
     "metadata": {},
     "outputs": [],
     "prompt_number": 2
    },
    {
     "cell_type": "code",
     "collapsed": false,
     "input": [
      "def rv_star(cl, rv=st.norm):\n",
      "    return rv.ppf(0.5+cl/2.0)\n",
      "\n",
      "display(Latex(r\"$z^*_{95} = %1.2f$\" % rv_star(0.95)))\n",
      "display(Latex(r\"$z^*_{90} = %1.2f$\" % rv_star(0.90)))\n",
      "display(Latex(r\"$z^*_{99} = %1.2f$\" % rv_star(0.99)))"
     ],
     "language": "python",
     "metadata": {},
     "outputs": [
      {
       "latex": [
        "$z^*_{95} = 1.96$"
       ],
       "metadata": {},
       "output_type": "display_data",
       "text": [
        "<IPython.core.display.Latex at 0x10fe31350>"
       ]
      },
      {
       "latex": [
        "$z^*_{90} = 1.64$"
       ],
       "metadata": {},
       "output_type": "display_data",
       "text": [
        "<IPython.core.display.Latex at 0x10fe311d0>"
       ]
      },
      {
       "latex": [
        "$z^*_{99} = 2.58$"
       ],
       "metadata": {},
       "output_type": "display_data",
       "text": [
        "<IPython.core.display.Latex at 0x10d391390>"
       ]
      }
     ],
     "prompt_number": 3
    },
    {
     "cell_type": "heading",
     "level": 3,
     "metadata": {},
     "source": [
      "5.1 Paired Data"
     ]
    },
    {
     "cell_type": "code",
     "collapsed": false,
     "input": [
      "df = pd.read_table('data/textbooks.txt')\n",
      "df.head()"
     ],
     "language": "python",
     "metadata": {},
     "outputs": [
      {
       "html": [
        "<div style=\"max-height:1000px;max-width:1500px;overflow:auto;\">\n",
        "<table border=\"1\" class=\"dataframe\">\n",
        "  <thead>\n",
        "    <tr style=\"text-align: right;\">\n",
        "      <th></th>\n",
        "      <th>deptAbbr</th>\n",
        "      <th>course</th>\n",
        "      <th>ibsn</th>\n",
        "      <th>uclaNew</th>\n",
        "      <th>amazNew</th>\n",
        "      <th>more</th>\n",
        "      <th>diff</th>\n",
        "    </tr>\n",
        "  </thead>\n",
        "  <tbody>\n",
        "    <tr>\n",
        "      <th>0</th>\n",
        "      <td>  Am Ind</td>\n",
        "      <td>  C170</td>\n",
        "      <td> 978-0803272620</td>\n",
        "      <td> 27.67</td>\n",
        "      <td> 27.95</td>\n",
        "      <td> Y</td>\n",
        "      <td>-0.28</td>\n",
        "    </tr>\n",
        "    <tr>\n",
        "      <th>1</th>\n",
        "      <td>  Anthro</td>\n",
        "      <td>     9</td>\n",
        "      <td> 978-0030119194</td>\n",
        "      <td> 40.59</td>\n",
        "      <td> 31.14</td>\n",
        "      <td> Y</td>\n",
        "      <td> 9.45</td>\n",
        "    </tr>\n",
        "    <tr>\n",
        "      <th>2</th>\n",
        "      <td>  Anthro</td>\n",
        "      <td>  135T</td>\n",
        "      <td> 978-0300080643</td>\n",
        "      <td> 31.68</td>\n",
        "      <td> 32.00</td>\n",
        "      <td> Y</td>\n",
        "      <td>-0.32</td>\n",
        "    </tr>\n",
        "    <tr>\n",
        "      <th>3</th>\n",
        "      <td>  Anthro</td>\n",
        "      <td> 191HB</td>\n",
        "      <td> 978-0226206813</td>\n",
        "      <td> 16.00</td>\n",
        "      <td> 11.52</td>\n",
        "      <td> Y</td>\n",
        "      <td> 4.48</td>\n",
        "    </tr>\n",
        "    <tr>\n",
        "      <th>4</th>\n",
        "      <td> Art His</td>\n",
        "      <td> M102K</td>\n",
        "      <td> 978-0892365999</td>\n",
        "      <td> 18.95</td>\n",
        "      <td> 14.21</td>\n",
        "      <td> Y</td>\n",
        "      <td> 4.74</td>\n",
        "    </tr>\n",
        "  </tbody>\n",
        "</table>\n",
        "</div>"
       ],
       "metadata": {},
       "output_type": "pyout",
       "prompt_number": 4,
       "text": [
        "  deptAbbr course            ibsn  uclaNew  amazNew more  diff\n",
        "0   Am Ind   C170  978-0803272620    27.67    27.95    Y -0.28\n",
        "1   Anthro      9  978-0030119194    40.59    31.14    Y  9.45\n",
        "2   Anthro   135T  978-0300080643    31.68    32.00    Y -0.32\n",
        "3   Anthro  191HB  978-0226206813    16.00    11.52    Y  4.48\n",
        "4  Art His  M102K  978-0892365999    18.95    14.21    Y  4.74"
       ]
      }
     ],
     "prompt_number": 4
    },
    {
     "cell_type": "code",
     "collapsed": false,
     "input": [
      "df.tail()"
     ],
     "language": "python",
     "metadata": {},
     "outputs": [
      {
       "html": [
        "<div style=\"max-height:1000px;max-width:1500px;overflow:auto;\">\n",
        "<table border=\"1\" class=\"dataframe\">\n",
        "  <thead>\n",
        "    <tr style=\"text-align: right;\">\n",
        "      <th></th>\n",
        "      <th>deptAbbr</th>\n",
        "      <th>course</th>\n",
        "      <th>ibsn</th>\n",
        "      <th>uclaNew</th>\n",
        "      <th>amazNew</th>\n",
        "      <th>more</th>\n",
        "      <th>diff</th>\n",
        "    </tr>\n",
        "  </thead>\n",
        "  <tbody>\n",
        "    <tr>\n",
        "      <th>68</th>\n",
        "      <td> Wld Art</td>\n",
        "      <td>  C180</td>\n",
        "      <td> 978-1412923484</td>\n",
        "      <td> 48.46</td>\n",
        "      <td> 39.34</td>\n",
        "      <td> N</td>\n",
        "      <td>  9.12</td>\n",
        "    </tr>\n",
        "    <tr>\n",
        "      <th>69</th>\n",
        "      <td> Wld Art</td>\n",
        "      <td> C409A</td>\n",
        "      <td> 978-0195390827</td>\n",
        "      <td> 39.55</td>\n",
        "      <td> 26.37</td>\n",
        "      <td> N</td>\n",
        "      <td> 13.18</td>\n",
        "    </tr>\n",
        "    <tr>\n",
        "      <th>70</th>\n",
        "      <td> Wld Art</td>\n",
        "      <td>   495</td>\n",
        "      <td> 978-0820474151</td>\n",
        "      <td> 29.65</td>\n",
        "      <td> 24.19</td>\n",
        "      <td> Y</td>\n",
        "      <td>  5.46</td>\n",
        "    </tr>\n",
        "    <tr>\n",
        "      <th>71</th>\n",
        "      <td> Wom Std</td>\n",
        "      <td>  M144</td>\n",
        "      <td> 978-1570755637</td>\n",
        "      <td> 23.76</td>\n",
        "      <td> 18.72</td>\n",
        "      <td> Y</td>\n",
        "      <td>  5.04</td>\n",
        "    </tr>\n",
        "    <tr>\n",
        "      <th>72</th>\n",
        "      <td> Wom Std</td>\n",
        "      <td>   285</td>\n",
        "      <td> 978-0822341147</td>\n",
        "      <td> 27.70</td>\n",
        "      <td> 18.22</td>\n",
        "      <td> Y</td>\n",
        "      <td>  9.48</td>\n",
        "    </tr>\n",
        "  </tbody>\n",
        "</table>\n",
        "</div>"
       ],
       "metadata": {},
       "output_type": "pyout",
       "prompt_number": 5,
       "text": [
        "   deptAbbr course            ibsn  uclaNew  amazNew more   diff\n",
        "68  Wld Art   C180  978-1412923484    48.46    39.34    N   9.12\n",
        "69  Wld Art  C409A  978-0195390827    39.55    26.37    N  13.18\n",
        "70  Wld Art    495  978-0820474151    29.65    24.19    Y   5.46\n",
        "71  Wom Std   M144  978-1570755637    23.76    18.72    Y   5.04\n",
        "72  Wom Std    285  978-0822341147    27.70    18.22    Y   9.48"
       ]
      }
     ],
     "prompt_number": 5
    },
    {
     "cell_type": "code",
     "collapsed": false,
     "input": [
      "# figure 5.2\n",
      "diff = df['diff']\n",
      "diff.hist(bins=np.linspace(-20,80,11))"
     ],
     "language": "python",
     "metadata": {},
     "outputs": [
      {
       "metadata": {},
       "output_type": "pyout",
       "prompt_number": 6,
       "text": [
        "<matplotlib.axes._subplots.AxesSubplot at 0x10fe31910>"
       ]
      },
      {
       "metadata": {},
       "output_type": "display_data",
       "png": "[encoded data removed]",
       "text": [
        "<matplotlib.figure.Figure at 0x10fe31d10>"
       ]
      }
     ],
     "prompt_number": 6
    },
    {
     "cell_type": "code",
     "collapsed": false,
     "input": [
      "# ex 5.1\n",
      "r = df.ix[1]; print(r.uclaNew - r.amazNew)\n",
      "r = df.ix[2]; print(r.uclaNew - r.amazNew)"
     ],
     "language": "python",
     "metadata": {},
     "outputs": [
      {
       "output_type": "stream",
       "stream": "stdout",
       "text": [
        "9.45\n",
        "-0.32\n"
       ]
      }
     ],
     "prompt_number": 7
    },
    {
     "cell_type": "markdown",
     "metadata": {},
     "source": [
      "**Example 5.2**\n",
      "\n",
      "let d = $p_{UCLA}$ - $p_{amazon}$\n",
      "\n",
      "* hypethesis\n",
      "    - *H<sub>0</sub>*: Book prices are the same $\\to d = 0$\n",
      "    - *H<sub>1</sub>*: Book prices are different $\\to d \\neq 0$"
     ]
    },
    {
     "cell_type": "code",
     "collapsed": false,
     "input": [
      "# example 5.2\n",
      "\n",
      "# H0: Book prices are the same --> d = 0\n",
      "# H1: Book prices are different --> d != 0\n",
      "# two sided test\n",
      "\n",
      "alpha      = 0.05\n",
      "mu         = 0.0\n",
      "n          = len(diff)\n",
      "xbar       = diff.mean()\n",
      "sigma_xbar = diff.std()\n",
      "se_xbar    = sigma_xbar/sqrt(n)\n",
      "z_xbar     = (xbar - mu)/se_xbar\n",
      "hyp_test(z_xbar, alpha, two_sided=True)\n",
      "print((n, xbar, se_xbar, z_xbar))"
     ],
     "language": "python",
     "metadata": {},
     "outputs": [
      {
       "output_type": "stream",
       "stream": "stdout",
       "text": [
        "Reject H0 at 95% CL with p = 2.03e-14\n",
        "(73, 12.761643835616441, 1.6684567557257028, 7.6487711124797517)\n"
       ]
      }
     ],
     "prompt_number": 8
    },
    {
     "cell_type": "code",
     "collapsed": false,
     "input": [
      "# ex 5.3\n",
      "z95 = st.norm.ppf(0.95*0.5 + 0.5)\n",
      "xbar + np.array([-z95,z95])*se_xbar"
     ],
     "language": "python",
     "metadata": {},
     "outputs": [
      {
       "metadata": {},
       "output_type": "pyout",
       "prompt_number": 9,
       "text": [
        "array([  9.4915,  16.0318])"
       ]
      }
     ],
     "prompt_number": 9
    },
    {
     "cell_type": "heading",
     "level": 3,
     "metadata": {},
     "source": [
      "5.2 Difference of Two Means"
     ]
    },
    {
     "cell_type": "code",
     "collapsed": false,
     "input": [
      "df = pd.read_table('data/run10Samp.txt')\n",
      "df.head()"
     ],
     "language": "python",
     "metadata": {},
     "outputs": [
      {
       "html": [
        "<div style=\"max-height:1000px;max-width:1500px;overflow:auto;\">\n",
        "<table border=\"1\" class=\"dataframe\">\n",
        "  <thead>\n",
        "    <tr style=\"text-align: right;\">\n",
        "      <th></th>\n",
        "      <th>time</th>\n",
        "      <th>age</th>\n",
        "      <th>gender</th>\n",
        "      <th>state</th>\n",
        "    </tr>\n",
        "  </thead>\n",
        "  <tbody>\n",
        "    <tr>\n",
        "      <th>0</th>\n",
        "      <td>  88.31</td>\n",
        "      <td> 59</td>\n",
        "      <td> M</td>\n",
        "      <td> MD</td>\n",
        "    </tr>\n",
        "    <tr>\n",
        "      <th>1</th>\n",
        "      <td> 100.67</td>\n",
        "      <td> 32</td>\n",
        "      <td> M</td>\n",
        "      <td> VA</td>\n",
        "    </tr>\n",
        "    <tr>\n",
        "      <th>2</th>\n",
        "      <td> 109.52</td>\n",
        "      <td> 33</td>\n",
        "      <td> F</td>\n",
        "      <td> VA</td>\n",
        "    </tr>\n",
        "    <tr>\n",
        "      <th>3</th>\n",
        "      <td>  87.11</td>\n",
        "      <td> 52</td>\n",
        "      <td> M</td>\n",
        "      <td> PA</td>\n",
        "    </tr>\n",
        "    <tr>\n",
        "      <th>4</th>\n",
        "      <td>  73.02</td>\n",
        "      <td> 40</td>\n",
        "      <td> M</td>\n",
        "      <td> DC</td>\n",
        "    </tr>\n",
        "  </tbody>\n",
        "</table>\n",
        "</div>"
       ],
       "metadata": {},
       "output_type": "pyout",
       "prompt_number": 10,
       "text": [
        "     time  age gender state\n",
        "0   88.31   59      M    MD\n",
        "1  100.67   32      M    VA\n",
        "2  109.52   33      F    VA\n",
        "3   87.11   52      M    PA\n",
        "4   73.02   40      M    DC"
       ]
      }
     ],
     "prompt_number": 10
    },
    {
     "cell_type": "code",
     "collapsed": false,
     "input": [
      "len(df)"
     ],
     "language": "python",
     "metadata": {},
     "outputs": [
      {
       "metadata": {},
       "output_type": "pyout",
       "prompt_number": 11,
       "text": [
        "100"
       ]
      }
     ],
     "prompt_number": 11
    },
    {
     "cell_type": "markdown",
     "metadata": {},
     "source": [
      "The  point estimate of a difference of means is:\n",
      "\\begin{align}\n",
      "    \\bar{d} = \\bar{x}_w-\\bar{x}_m\n",
      "\\end{align}"
     ]
    },
    {
     "cell_type": "code",
     "collapsed": false,
     "input": [
      "m = df[df.gender == 'M'].time\n",
      "w = df[df.gender == 'F'].time\n",
      "\n",
      "xbar_m = m.mean()\n",
      "xbar_w = w.mean()\n",
      "dbar   = xbar_w - xbar_m\n",
      "display(Latex(r\"$\\bar{x}_m = %1.2f$\" % xbar_m))\n",
      "display(Latex(r\"$\\bar{x}_w = %1.2f$\" % xbar_w))\n",
      "display(Latex(r\"$\\bar{d} = \\bar{x}_{w} - \\bar{x}_{m} = %1.2f - %1.2f = %1.2f$\" % \n",
      "              (xbar_w, xbar_m, xbar_w - xbar_m)))"
     ],
     "language": "python",
     "metadata": {},
     "outputs": [
      {
       "latex": [
        "$\\bar{x}_m = 87.65$"
       ],
       "metadata": {},
       "output_type": "display_data",
       "text": [
        "<IPython.core.display.Latex at 0x10d3914d0>"
       ]
      },
      {
       "latex": [
        "$\\bar{x}_w = 102.13$"
       ],
       "metadata": {},
       "output_type": "display_data",
       "text": [
        "<IPython.core.display.Latex at 0x10fe42990>"
       ]
      },
      {
       "latex": [
        "$\\bar{d} = \\bar{x}_{w} - \\bar{x}_{m} = 102.13 - 87.65 = 14.49$"
       ],
       "metadata": {},
       "output_type": "display_data",
       "text": [
        "<IPython.core.display.Latex at 0x10d391f10>"
       ]
      }
     ],
     "prompt_number": 12
    },
    {
     "cell_type": "markdown",
     "metadata": {},
     "source": [
      "The standard error of the point estimate of a difference of means is:\n",
      "\\begin{align}\n",
      "    SE_{\\bar{x}_w-\\bar{x}_m} &= \\sqrt{\\frac{\\sigma^2_w}{n_w} + \\frac{\\sigma^2_m}{n_m} } \\\\\n",
      "    & \\approx \\sqrt{\\frac{s^2_w}{n_w} + \\frac{s^2_m}{n_m}}\n",
      "\\end{align}"
     ]
    },
    {
     "cell_type": "code",
     "collapsed": false,
     "input": [
      "sigma_xbar_m = m.std()\n",
      "sigma_xbar_w = w.std()\n",
      "n_m          = len(m)\n",
      "n_w          = len(w)\n",
      "se_dbar      = sqrt(sigma_xbar_m**2/n_m + sigma_xbar_w**2/n_w)\n",
      "display(Latex(r\"$SE_{\\bar{d}} = %1.2f$\" % se_dbar))"
     ],
     "language": "python",
     "metadata": {},
     "outputs": [
      {
       "latex": [
        "$SE_{\\bar{d}} = 2.78$"
       ],
       "metadata": {},
       "output_type": "display_data",
       "text": [
        "<IPython.core.display.Latex at 0x10fe444d0>"
       ]
      }
     ],
     "prompt_number": 13
    },
    {
     "cell_type": "code",
     "collapsed": false,
     "input": [
      "z95 = st.norm.ppf(0.95*0.5 + 0.5)\n",
      "dbar + np.array([-z95,z95])*se_dbar"
     ],
     "language": "python",
     "metadata": {},
     "outputs": [
      {
       "metadata": {},
       "output_type": "pyout",
       "prompt_number": 14,
       "text": [
        "array([  9.0471,  19.9321])"
       ]
      }
     ],
     "prompt_number": 14
    },
    {
     "cell_type": "code",
     "collapsed": false,
     "input": [
      "# not quite data in book\n",
      "df = pd.read_table('data/ncbirths.txt')\n",
      "df.head()"
     ],
     "language": "python",
     "metadata": {},
     "outputs": [
      {
       "html": [
        "<div style=\"max-height:1000px;max-width:1500px;overflow:auto;\">\n",
        "<table border=\"1\" class=\"dataframe\">\n",
        "  <thead>\n",
        "    <tr style=\"text-align: right;\">\n",
        "      <th></th>\n",
        "      <th>fage</th>\n",
        "      <th>mage</th>\n",
        "      <th>mature</th>\n",
        "      <th>weeks</th>\n",
        "      <th>premie</th>\n",
        "      <th>visits</th>\n",
        "      <th>marital</th>\n",
        "      <th>gained</th>\n",
        "      <th>weight</th>\n",
        "      <th>lowbirthweight</th>\n",
        "      <th>gender</th>\n",
        "      <th>habit</th>\n",
        "      <th>whitemom</th>\n",
        "    </tr>\n",
        "  </thead>\n",
        "  <tbody>\n",
        "    <tr>\n",
        "      <th>0</th>\n",
        "      <td>NaN</td>\n",
        "      <td> 13</td>\n",
        "      <td> younger mom</td>\n",
        "      <td> 39</td>\n",
        "      <td> full term</td>\n",
        "      <td> 10</td>\n",
        "      <td> married</td>\n",
        "      <td> 38</td>\n",
        "      <td> 7.63</td>\n",
        "      <td> not low</td>\n",
        "      <td>   male</td>\n",
        "      <td> nonsmoker</td>\n",
        "      <td> not white</td>\n",
        "    </tr>\n",
        "    <tr>\n",
        "      <th>1</th>\n",
        "      <td>NaN</td>\n",
        "      <td> 14</td>\n",
        "      <td> younger mom</td>\n",
        "      <td> 42</td>\n",
        "      <td> full term</td>\n",
        "      <td> 15</td>\n",
        "      <td> married</td>\n",
        "      <td> 20</td>\n",
        "      <td> 7.88</td>\n",
        "      <td> not low</td>\n",
        "      <td>   male</td>\n",
        "      <td> nonsmoker</td>\n",
        "      <td> not white</td>\n",
        "    </tr>\n",
        "    <tr>\n",
        "      <th>2</th>\n",
        "      <td> 19</td>\n",
        "      <td> 15</td>\n",
        "      <td> younger mom</td>\n",
        "      <td> 37</td>\n",
        "      <td> full term</td>\n",
        "      <td> 11</td>\n",
        "      <td> married</td>\n",
        "      <td> 38</td>\n",
        "      <td> 6.63</td>\n",
        "      <td> not low</td>\n",
        "      <td> female</td>\n",
        "      <td> nonsmoker</td>\n",
        "      <td>     white</td>\n",
        "    </tr>\n",
        "    <tr>\n",
        "      <th>3</th>\n",
        "      <td> 21</td>\n",
        "      <td> 15</td>\n",
        "      <td> younger mom</td>\n",
        "      <td> 41</td>\n",
        "      <td> full term</td>\n",
        "      <td>  6</td>\n",
        "      <td> married</td>\n",
        "      <td> 34</td>\n",
        "      <td> 8.00</td>\n",
        "      <td> not low</td>\n",
        "      <td>   male</td>\n",
        "      <td> nonsmoker</td>\n",
        "      <td>     white</td>\n",
        "    </tr>\n",
        "    <tr>\n",
        "      <th>4</th>\n",
        "      <td>NaN</td>\n",
        "      <td> 15</td>\n",
        "      <td> younger mom</td>\n",
        "      <td> 39</td>\n",
        "      <td> full term</td>\n",
        "      <td>  9</td>\n",
        "      <td> married</td>\n",
        "      <td> 27</td>\n",
        "      <td> 6.38</td>\n",
        "      <td> not low</td>\n",
        "      <td> female</td>\n",
        "      <td> nonsmoker</td>\n",
        "      <td> not white</td>\n",
        "    </tr>\n",
        "  </tbody>\n",
        "</table>\n",
        "</div>"
       ],
       "metadata": {},
       "output_type": "pyout",
       "prompt_number": 15,
       "text": [
        "   fage  mage       mature  weeks     premie  visits  marital  gained  weight  \\\n",
        "0   NaN    13  younger mom     39  full term      10  married      38    7.63   \n",
        "1   NaN    14  younger mom     42  full term      15  married      20    7.88   \n",
        "2    19    15  younger mom     37  full term      11  married      38    6.63   \n",
        "3    21    15  younger mom     41  full term       6  married      34    8.00   \n",
        "4   NaN    15  younger mom     39  full term       9  married      27    6.38   \n",
        "\n",
        "  lowbirthweight  gender      habit   whitemom  \n",
        "0        not low    male  nonsmoker  not white  \n",
        "1        not low    male  nonsmoker  not white  \n",
        "2        not low  female  nonsmoker      white  \n",
        "3        not low    male  nonsmoker      white  \n",
        "4        not low  female  nonsmoker  not white  "
       ]
      }
     ],
     "prompt_number": 15
    },
    {
     "cell_type": "code",
     "collapsed": false,
     "input": [
      "len(df)"
     ],
     "language": "python",
     "metadata": {},
     "outputs": [
      {
       "metadata": {},
       "output_type": "pyout",
       "prompt_number": 16,
       "text": [
        "1000"
       ]
      }
     ],
     "prompt_number": 16
    },
    {
     "cell_type": "code",
     "collapsed": false,
     "input": [
      "ns = df[df.habit == 'nonsmoker'].weight\n",
      "sm = df[df.habit == 'smoker'   ].weight\n",
      "\n",
      "# point estimate mean\n",
      "mu      = 0.0\n",
      "ns_xbar = ns.mean()\n",
      "sm_xbar = sm.mean()\n",
      "dbar    = ns_xbar - sm_xbar\n",
      "display(Latex(r\"$\\bar{x}_{ns} = %1.2f$\" % ns_xbar))\n",
      "display(Latex(r\"$\\bar{x}_{sm} = %1.2f$\" % sm_xbar))\n",
      "display(Latex(r\"$\\bar{d} = \\bar{x}_{ns} - \\bar{x}_{sm} = %1.2f - %1.2f = %1.2f$\" % \n",
      "              (ns_xbar, sm_xbar, dbar)))"
     ],
     "language": "python",
     "metadata": {},
     "outputs": [
      {
       "latex": [
        "$\\bar{x}_{ns} = 7.14$"
       ],
       "metadata": {},
       "output_type": "display_data",
       "text": [
        "<IPython.core.display.Latex at 0x10fe7e490>"
       ]
      },
      {
       "latex": [
        "$\\bar{x}_{sm} = 6.83$"
       ],
       "metadata": {},
       "output_type": "display_data",
       "text": [
        "<IPython.core.display.Latex at 0x10fe6f1d0>"
       ]
      },
      {
       "latex": [
        "$\\bar{d} = \\bar{x}_{ns} - \\bar{x}_{sm} = 7.14 - 6.83 = 0.32$"
       ],
       "metadata": {},
       "output_type": "display_data",
       "text": [
        "<IPython.core.display.Latex at 0x10fe31a10>"
       ]
      }
     ],
     "prompt_number": 17
    },
    {
     "cell_type": "code",
     "collapsed": false,
     "input": [
      "# point estimate std\n",
      "sigma_ns_xbar = ns.std()\n",
      "sigma_sm_xbar = sm.std()\n",
      "n_ns           = len(ns)\n",
      "n_sm          = len(sm)\n",
      "se_dbar       = sqrt(sigma_ns_xbar**2/n_ns + sigma_sm_xbar**2/n_sm)\n",
      "display(Latex(r\"$SE_{\\bar{d}} = %1.2f$\" % se_dbar))\n",
      "(n_ns, sigma_ns_xbar, n_sm, sigma_sm_xbar)"
     ],
     "language": "python",
     "metadata": {},
     "outputs": [
      {
       "latex": [
        "$SE_{\\bar{d}} = 0.13$"
       ],
       "metadata": {},
       "output_type": "display_data",
       "text": [
        "<IPython.core.display.Latex at 0x10d391450>"
       ]
      },
      {
       "metadata": {},
       "output_type": "pyout",
       "prompt_number": 18,
       "text": [
        "(873, 1.5186806061147569, 126, 1.3861797771585016)"
       ]
      }
     ],
     "prompt_number": 18
    },
    {
     "cell_type": "code",
     "collapsed": false,
     "input": [
      "z95 = st.norm.ppf(0.95*0.5 + 0.5)\n",
      "dbar + np.array([-z95,z95])*se_dbar"
     ],
     "language": "python",
     "metadata": {},
     "outputs": [
      {
       "metadata": {},
       "output_type": "pyout",
       "prompt_number": 19,
       "text": [
        "array([ 0.0534,  0.5777])"
       ]
      }
     ],
     "prompt_number": 19
    },
    {
     "cell_type": "code",
     "collapsed": false,
     "input": [
      "z_dbar = (dbar - mu)/se_dbar\n",
      "hyp_test(z_dbar, 0.95, two_sided=True)"
     ],
     "language": "python",
     "metadata": {},
     "outputs": [
      {
       "output_type": "stream",
       "stream": "stdout",
       "text": [
        "Reject H0 at 5% CL with p = 1.83e-02\n"
       ]
      }
     ],
     "prompt_number": 20
    },
    {
     "cell_type": "code",
     "collapsed": false,
     "input": [
      "ns.hist(bins=np.linspace(0,11,12))"
     ],
     "language": "python",
     "metadata": {},
     "outputs": [
      {
       "metadata": {},
       "output_type": "pyout",
       "prompt_number": 21,
       "text": [
        "<matplotlib.axes._subplots.AxesSubplot at 0x10fe4d990>"
       ]
      },
      {
       "metadata": {},
       "output_type": "display_data",
       "png": "[encoded data removed]",
       "text": [
        "<matplotlib.figure.Figure at 0x10fe76390>"
       ]
      }
     ],
     "prompt_number": 21
    },
    {
     "cell_type": "code",
     "collapsed": false,
     "input": [
      "sm.hist(bins=np.linspace(0,11,12))"
     ],
     "language": "python",
     "metadata": {},
     "outputs": [
      {
       "metadata": {},
       "output_type": "pyout",
       "prompt_number": 22,
       "text": [
        "<matplotlib.axes._subplots.AxesSubplot at 0x10fec2810>"
       ]
      },
      {
       "metadata": {},
       "output_type": "display_data",
       "png": "[encoded data removed]",
       "text": [
        "<matplotlib.figure.Figure at 0x10fecac50>"
       ]
      }
     ],
     "prompt_number": 22
    },
    {
     "cell_type": "markdown",
     "metadata": {},
     "source": [
      "### 5.3 One-sample means with the T distribution\n",
      "\n",
      "Student's t-distribution (or simply the t-distribution) is a family of continuous probability distributions that arise when estimating the mean of a normally distributed population in situations where the sample size is small and population standard deviation is unknown.\n",
      "\n",
      "The pdf for the Student's T distribution with \\# degrees of freedeom ($\\nu$)\n",
      "\\begin{align}\n",
      "    t(x | df) = \\frac{\\Gamma(\\frac{\\nu+1}{2})}{\\sqrt{\\pi\\nu}\\Gamma(\\frac{\\nu}{2})}\n",
      "    \\left(1 + \\frac{x^2}{\\nu}\\right)^{-\\frac{\\nu+1}{2}}\n",
      "\\end{align}"
     ]
    },
    {
     "cell_type": "code",
     "collapsed": false,
     "input": [
      "# compare pdf shapes\n",
      "x = np.linspace(-5, 5, 100)\n",
      "plt.plot(x, st.norm.pdf(x)   , 'r--', label=r\"normal\"      )\n",
      "plt.plot(x, st.t(df=3).pdf(x), 'b-' , label=r\"t($\\nu$ = 3)\")\n",
      "plt.legend(loc='best', fontsize=20)"
     ],
     "language": "python",
     "metadata": {},
     "outputs": [
      {
       "metadata": {},
       "output_type": "pyout",
       "prompt_number": 23,
       "text": [
        "<matplotlib.legend.Legend at 0x11071b610>"
       ]
      },
      {
       "metadata": {},
       "output_type": "display_data",
       "png": "[encoded data removed]",
       "text": [
        "<matplotlib.figure.Figure at 0x10fedbf90>"
       ]
      }
     ],
     "prompt_number": 23
    },
    {
     "cell_type": "markdown",
     "metadata": {},
     "source": [
      "#### Exercise 5.15\n",
      "\n",
      "What proportion of the t distribution with 18 df falls below -2.10\n",
      "\n",
      "\\begin{align}\n",
      "    p(x \\leq -2.10) = \\int_{-\\infty}^{-2.10}dx\\ p_{t}(x | \\nu=18) = 0.025\n",
      "\\end{align}"
     ]
    },
    {
     "cell_type": "code",
     "collapsed": false,
     "input": [
      "# ex 5.15\n",
      "st.t(df=18).cdf(-2.10)"
     ],
     "language": "python",
     "metadata": {},
     "outputs": [
      {
       "metadata": {},
       "output_type": "pyout",
       "prompt_number": 24,
       "text": [
        "0.025045202854784173"
       ]
      }
     ],
     "prompt_number": 24
    },
    {
     "cell_type": "markdown",
     "metadata": {},
     "source": [
      "#### Example 5.16\n",
      "\n",
      "What proportion of the t distribution with 20 df falls above 1.65\n",
      "\n",
      "\\begin{align}\n",
      "    p(x \\geq 1.65) &= \\int_{1.65}^{\\infty}dx\\ p_{t}(x | \\nu=20) \\\\\n",
      "    &= 1 - F_{t}(1.65 | \\nu=20) \\\\\n",
      "    &= 0.0573\n",
      "\\end{align}"
     ]
    },
    {
     "cell_type": "code",
     "collapsed": false,
     "input": [
      "# ex 5.16\n",
      "1.0 - st.t(df=20).cdf(1.65)"
     ],
     "language": "python",
     "metadata": {},
     "outputs": [
      {
       "metadata": {},
       "output_type": "pyout",
       "prompt_number": 25,
       "text": [
        "0.057280412268939651"
       ]
      }
     ],
     "prompt_number": 25
    },
    {
     "cell_type": "markdown",
     "metadata": {},
     "source": [
      "#### Example 5.17\n",
      "\n",
      "What proportion of the t distribution with 2 df falls more than 3 units from the mean.\n",
      "\n",
      "\\begin{align}\n",
      "    p(|x| \\lt 3) &= \\int_{-infty}^{-3}dx\\ p_{t}(x | \\nu=2) + \\int_{3}^{infty}dx\\ p_{t}(x | \\nu=2) \\\\\n",
      "    &= 1 - \\left[F_{t}(3 | \\nu=3) - F_{t}(-3 | \\nu=2)\\right] \\\\\n",
      "    &= 0.0955\n",
      "\\end{align}"
     ]
    },
    {
     "cell_type": "code",
     "collapsed": false,
     "input": [
      "1.0 - (st.t(df=2).cdf(3) - st.t(df=2).cdf(-3))"
     ],
     "language": "python",
     "metadata": {},
     "outputs": [
      {
       "metadata": {},
       "output_type": "pyout",
       "prompt_number": 26,
       "text": [
        "0.095465966266709223"
       ]
      }
     ],
     "prompt_number": 26
    },
    {
     "cell_type": "markdown",
     "metadata": {},
     "source": [
      "#### Confidence intervals with t\n",
      "\n",
      "$\\bar{x} \\pm t^*_{\\nu} \\times SE_{\\bar{x}}$"
     ]
    },
    {
     "cell_type": "code",
     "collapsed": false,
     "input": [
      "# inputs\n",
      "n      = 19\n",
      "xbar   = 4.4\n",
      "s_xbar = 2.3\n",
      "xmin   = 1.7\n",
      "xmax   = 9.2"
     ],
     "language": "python",
     "metadata": {},
     "outputs": [],
     "prompt_number": 27
    },
    {
     "cell_type": "code",
     "collapsed": false,
     "input": [
      "# conf limit\n",
      "nu      = n - 1\n",
      "tstar   = rv_star(0.95, rv=st.t(df=nu))\n",
      "se_xbar = s_xbar/sqrt(n)\n",
      "display(Latex(r\"\"\"\n",
      "\\begin{align}\n",
      "\\bar{x} \\pm t^*_{\\nu} \\times SE_{\\bar{x}} &= %1.2f \\pm %1.2f \\times %1.2f \\\\\n",
      "&= (%1.2f, %1.2f)\n",
      "\\end{align}\n",
      "\"\"\" % (xbar, tstar, se_xbar, xbar-(tstar*se_xbar), xbar+(tstar*se_xbar))))"
     ],
     "language": "python",
     "metadata": {},
     "outputs": [
      {
       "latex": [
        "\n",
        "\\begin{align}\n",
        "\\bar{x} \\pm t^*_{\\nu} \\times SE_{\\bar{x}} &= 4.40 \\pm 2.10 \\times 0.53 \\\\\n",
        "&= (3.29, 5.51)\n",
        "\\end{align}\n"
       ],
       "metadata": {},
       "output_type": "display_data",
       "text": [
        "<IPython.core.display.Latex at 0x110727ad0>"
       ]
      }
     ],
     "prompt_number": 28
    },
    {
     "cell_type": "markdown",
     "metadata": {},
     "source": [
      "#### 5.3.5 One sample t-test\n",
      "\n",
      "consider following:\n",
      "\n",
      "$d$ = difference in SAT scores before and after taking course\n",
      "\n",
      "*H<sub>0</sub>*: $\\mu_d = 100$\n",
      "\n",
      "*H<sub>1</sub>*: $\\mu_d \\ge 100$"
     ]
    },
    {
     "cell_type": "code",
     "collapsed": false,
     "input": [
      "df = pd.read_table('data/sat_improve.txt')\n",
      "df.head()"
     ],
     "language": "python",
     "metadata": {},
     "outputs": [
      {
       "html": [
        "<div style=\"max-height:1000px;max-width:1500px;overflow:auto;\">\n",
        "<table border=\"1\" class=\"dataframe\">\n",
        "  <thead>\n",
        "    <tr style=\"text-align: right;\">\n",
        "      <th></th>\n",
        "      <th>sat_improve</th>\n",
        "    </tr>\n",
        "  </thead>\n",
        "  <tbody>\n",
        "    <tr>\n",
        "      <th>0</th>\n",
        "      <td>  57</td>\n",
        "    </tr>\n",
        "    <tr>\n",
        "      <th>1</th>\n",
        "      <td> 133</td>\n",
        "    </tr>\n",
        "    <tr>\n",
        "      <th>2</th>\n",
        "      <td> 231</td>\n",
        "    </tr>\n",
        "    <tr>\n",
        "      <th>3</th>\n",
        "      <td>  41</td>\n",
        "    </tr>\n",
        "    <tr>\n",
        "      <th>4</th>\n",
        "      <td> 114</td>\n",
        "    </tr>\n",
        "  </tbody>\n",
        "</table>\n",
        "</div>"
       ],
       "metadata": {},
       "output_type": "pyout",
       "prompt_number": 29,
       "text": [
        "   sat_improve\n",
        "0           57\n",
        "1          133\n",
        "2          231\n",
        "3           41\n",
        "4          114"
       ]
      }
     ],
     "prompt_number": 29
    },
    {
     "cell_type": "code",
     "collapsed": false,
     "input": [
      "df.hist(bins=np.linspace(-100,300,8))"
     ],
     "language": "python",
     "metadata": {},
     "outputs": [
      {
       "metadata": {},
       "output_type": "pyout",
       "prompt_number": 30,
       "text": [
        "array([[<matplotlib.axes._subplots.AxesSubplot object at 0x10fedf290>]], dtype=object)"
       ]
      },
      {
       "metadata": {},
       "output_type": "display_data",
       "png": "[encoded data removed]",
       "text": [
        "<matplotlib.figure.Figure at 0x10fe73310>"
       ]
      }
     ],
     "prompt_number": 30
    },
    {
     "cell_type": "code",
     "collapsed": false,
     "input": [
      "# inputs\n",
      "mu   = 100.0\n",
      "n    = df.count()\n",
      "nu   = n - 1\n",
      "dbar = df.sat_improve.mean()\n",
      "std  = df.sat_improve.std()\n",
      "(mu, n, nu, dbar, std)"
     ],
     "language": "python",
     "metadata": {},
     "outputs": [
      {
       "metadata": {},
       "output_type": "pyout",
       "prompt_number": 31,
       "text": [
        "(100.0,\n",
        " sat_improve    30\n",
        "dtype: int64,\n",
        " sat_improve    29\n",
        "dtype: int64,\n",
        " 135.93333333333334,\n",
        " 82.222965720983481)"
       ]
      }
     ],
     "prompt_number": 31
    },
    {
     "cell_type": "code",
     "collapsed": false,
     "input": [
      "t = (dbar - mu)/(std/sqrt(n))\n",
      "t"
     ],
     "language": "python",
     "metadata": {},
     "outputs": [
      {
       "metadata": {},
       "output_type": "pyout",
       "prompt_number": 32,
       "text": [
        "sat_improve    2.393674\n",
        "dtype: float64"
       ]
      }
     ],
     "prompt_number": 32
    },
    {
     "cell_type": "code",
     "collapsed": false,
     "input": [
      "hyp_test(t, alpha=0.05, two_sided=False, rv=st.t(df=nu))"
     ],
     "language": "python",
     "metadata": {},
     "outputs": [
      {
       "output_type": "stream",
       "stream": "stdout",
       "text": [
        "Reject H0 at 95% CL with p = 1.17e-02\n"
       ]
      }
     ],
     "prompt_number": 33
    },
    {
     "cell_type": "markdown",
     "metadata": {},
     "source": [
      "#### The t distribution for the difference of two means\n",
      "\n",
      "It is useful to apply the t distribution method to apply to the difference of two means:\n",
      "\n",
      "$\\bar{x}_1 - \\bar{x}_2$ as a point estimate for $\\mu_1 - \\mu_2$\n",
      "\n",
      "* This applies when:\n",
      "    - each sample can be used with a t distribution\n",
      "    - the two samples are independent\n",
      "    \n",
      "Estimate the standard error using:\n",
      "\\begin{align}\n",
      "    SE_{\\bar{x}_w-\\bar{x}_m} &= \\sqrt{SE_{\\bar{x}_1}^2 + SE_{\\bar{x}_2}^2} \\\\\n",
      "                             &= \\sqrt{\\frac{s^2_1}{n_1} + \\frac{s^2_2}{n_2}}\n",
      "\\end{align}\n",
      "\n",
      "Also, the degrees of freedom ($\\nu$) is defined by:\n",
      "\\begin{align}\n",
      "    \\nu = \\frac{\\left(s_1^2/n_1 + s_2^2/n_2\\right)^2}{\\left(s_1^2/n_1\\right)^2/(n_1-1) + \\left(s_2^2/n_2\\right)^2/(n_2-1)}\n",
      "\\end{align}\n",
      "\n"
     ]
    },
    {
     "cell_type": "code",
     "collapsed": false,
     "input": [
      "def ndof(s1, n1, s2, n2):\n",
      "    n1 = float(n1)\n",
      "    n2 = float(n2)\n",
      "    v1 = s1**2/n1\n",
      "    v2 = s2**2/n2\n",
      "    return (v1 + v2)**2/(v1**2/(n1-1) + (v2**2/(n2-1)))\n",
      "\n",
      "ndof(20, 27, 14, 30)"
     ],
     "language": "python",
     "metadata": {},
     "outputs": [
      {
       "metadata": {},
       "output_type": "pyout",
       "prompt_number": 34,
       "text": [
        "45.97261603994256"
       ]
      }
     ],
     "prompt_number": 34
    },
    {
     "cell_type": "markdown",
     "metadata": {},
     "source": [
      "#### example two sample t test (page 231)\n",
      "\n",
      "$d$ = difference in test scores between exams A and B\n",
      "\n",
      "*H<sub>0</sub>*: $\\mu_d = 0$\n",
      "\n",
      "*H<sub>1</sub>*: $\\mu_d \\neq 0$"
     ]
    },
    {
     "cell_type": "code",
     "collapsed": false,
     "input": [
      "# inputs\n",
      "mu     = 0\n",
      "n_a    = 30\n",
      "n_b    = 27\n",
      "xbar_a = 79.4\n",
      "xbar_b = 74.1\n",
      "s_a    = 14\n",
      "s_b    = 20\n",
      "min_a  = 45\n",
      "min_b  = 32\n",
      "max_a  = 100\n",
      "max_b  = 100\n",
      "(s_b, n_b, s_a, n_a)"
     ],
     "language": "python",
     "metadata": {},
     "outputs": [
      {
       "metadata": {},
       "output_type": "pyout",
       "prompt_number": 35,
       "text": [
        "(20, 27, 14, 30)"
       ]
      }
     ],
     "prompt_number": 35
    },
    {
     "cell_type": "code",
     "collapsed": false,
     "input": [
      "dbar = xbar_a - xbar_b\n",
      "se   = sqrt(s_b**2/float(n_b) + s_a**2/float(n_a))\n",
      "t    = (dbar - mu)/se\n",
      "df   = ndof(s_a, n_a, s_b, n_b)\n",
      "(dbar, se, t, df)"
     ],
     "language": "python",
     "metadata": {},
     "outputs": [
      {
       "metadata": {},
       "output_type": "pyout",
       "prompt_number": 36,
       "text": [
        "(5.300000000000011, 4.6204056259324409, 1.1470854355845483, 45.97261603994256)"
       ]
      }
     ],
     "prompt_number": 36
    },
    {
     "cell_type": "code",
     "collapsed": false,
     "input": [
      "hyp_test(t, alpha=0.05, two_sided=True, rv=st.t(df=df))"
     ],
     "language": "python",
     "metadata": {},
     "outputs": [
      {
       "output_type": "stream",
       "stream": "stdout",
       "text": [
        "Fail to reject H0 at 95% CL with p = 2.57e-01\n"
       ]
      }
     ],
     "prompt_number": 37
    },
    {
     "cell_type": "markdown",
     "metadata": {},
     "source": [
      "#### Execise 5.31\n",
      "\n",
      "Do embryonic stem cells help imporove heart function following a heart attack?\n",
      "\n",
      "let d = difference in heart function\n",
      "\n",
      "H0: $\\mu_d = 0$\n",
      "\n",
      "H1: $\\mu_d \\gt 0$ $\\to$ one sided test"
     ]
    },
    {
     "cell_type": "code",
     "collapsed": false,
     "input": [
      "df = pd.read_table('data/stemCell.txt')\n",
      "df.head()"
     ],
     "language": "python",
     "metadata": {},
     "outputs": [
      {
       "html": [
        "<div style=\"max-height:1000px;max-width:1500px;overflow:auto;\">\n",
        "<table border=\"1\" class=\"dataframe\">\n",
        "  <thead>\n",
        "    <tr style=\"text-align: right;\">\n",
        "      <th></th>\n",
        "      <th>trmt</th>\n",
        "      <th>before</th>\n",
        "      <th>after</th>\n",
        "    </tr>\n",
        "  </thead>\n",
        "  <tbody>\n",
        "    <tr>\n",
        "      <th>0</th>\n",
        "      <td> ctrl</td>\n",
        "      <td> 35.25</td>\n",
        "      <td> 29.50</td>\n",
        "    </tr>\n",
        "    <tr>\n",
        "      <th>1</th>\n",
        "      <td> ctrl</td>\n",
        "      <td> 36.50</td>\n",
        "      <td> 29.50</td>\n",
        "    </tr>\n",
        "    <tr>\n",
        "      <th>2</th>\n",
        "      <td> ctrl</td>\n",
        "      <td> 39.75</td>\n",
        "      <td> 36.25</td>\n",
        "    </tr>\n",
        "    <tr>\n",
        "      <th>3</th>\n",
        "      <td> ctrl</td>\n",
        "      <td> 39.75</td>\n",
        "      <td> 38.00</td>\n",
        "    </tr>\n",
        "    <tr>\n",
        "      <th>4</th>\n",
        "      <td> ctrl</td>\n",
        "      <td> 41.75</td>\n",
        "      <td> 37.50</td>\n",
        "    </tr>\n",
        "  </tbody>\n",
        "</table>\n",
        "</div>"
       ],
       "metadata": {},
       "output_type": "pyout",
       "prompt_number": 38,
       "text": [
        "   trmt  before  after\n",
        "0  ctrl   35.25  29.50\n",
        "1  ctrl   36.50  29.50\n",
        "2  ctrl   39.75  36.25\n",
        "3  ctrl   39.75  38.00\n",
        "4  ctrl   41.75  37.50"
       ]
      }
     ],
     "prompt_number": 38
    },
    {
     "cell_type": "markdown",
     "metadata": {},
     "source": [
      "This is paired data for a control and response group"
     ]
    },
    {
     "cell_type": "code",
     "collapsed": false,
     "input": [
      "# extract data from df\n",
      "df_ctrl = df.ix[df.trmt=='ctrl']\n",
      "df_esc  = df.ix[df.trmt=='esc' ]\n",
      "d_ctrl = df_ctrl.before - df_ctrl.after\n",
      "n_ctrl = len(df_ctrl)\n",
      "d_esc  = df_esc.before - df_esc.after\n",
      "n_esc = len(df_ctrl)"
     ],
     "language": "python",
     "metadata": {},
     "outputs": [],
     "prompt_number": 39
    },
    {
     "cell_type": "code",
     "collapsed": false,
     "input": [
      "# means and SE\n",
      "dbar_ctrl = d_ctrl.mean()\n",
      "se_ctrl   = d_ctrl.std()/sqrt(n_ctrl)\n",
      "dbar_esc  = d_esc.mean()\n",
      "se_esc    = d_esc.std()/sqrt(n_esc)"
     ],
     "language": "python",
     "metadata": {},
     "outputs": [],
     "prompt_number": 40
    },
    {
     "cell_type": "code",
     "collapsed": false,
     "input": [
      "# hyp test\n",
      "mu  = 0\n",
      "dbar = dbar_ctrl - dbar_esc\n",
      "se   = sqrt(se_ctrl**2 + se_esc**2)\n",
      "df   = min(n_ctrl, n_esc)-1\n",
      "t    = (dbar - mu)/se\n",
      "print(dbar, se, t, df)\n",
      "hyp_test(t, alpha=0.05, two_sided=False, rv=st.t(df=df))"
     ],
     "language": "python",
     "metadata": {},
     "outputs": [
      {
       "output_type": "stream",
       "stream": "stdout",
       "text": [
        "(7.833333333333333, 1.9547840176233169, 4.0072628294031825, 8)\n",
        "Reject H0 at 95% CL with p = 1.95e-03\n"
       ]
      }
     ],
     "prompt_number": 41
    },
    {
     "cell_type": "markdown",
     "metadata": {},
     "source": [
      "#### Exercise 5.33"
     ]
    },
    {
     "cell_type": "code",
     "collapsed": false,
     "input": [
      "tstar = rv_star(0.99, rv=st.t(df=df))\n",
      "print(tstar)\n",
      "print(\"(%1.3f, %1.3f)\" % (dbar-(tstar*se), dbar+(tstar*se)))"
     ],
     "language": "python",
     "metadata": {},
     "outputs": [
      {
       "output_type": "stream",
       "stream": "stdout",
       "text": [
        "3.35538733133\n",
        "(1.274, 14.392)\n"
       ]
      }
     ],
     "prompt_number": 42
    },
    {
     "cell_type": "markdown",
     "metadata": {},
     "source": [
      "### 5.5 Comparing many means with ANOVA\n",
      "\n",
      "ANOVA -- Analysis of Variance\n",
      "\n",
      "* H0: all the means are the same\n",
      "* H1: at least one mean is different"
     ]
    },
    {
     "cell_type": "code",
     "collapsed": false,
     "input": [
      "df = pd.read_table('data/mlbBat10.txt')\n",
      "df = df.ix[0:326] # take subset to match the dataset from textbook\n",
      "print(len(df))\n",
      "df.head()"
     ],
     "language": "python",
     "metadata": {},
     "outputs": [
      {
       "output_type": "stream",
       "stream": "stdout",
       "text": [
        "327\n"
       ]
      },
      {
       "html": [
        "<div style=\"max-height:1000px;max-width:1500px;overflow:auto;\">\n",
        "<table border=\"1\" class=\"dataframe\">\n",
        "  <thead>\n",
        "    <tr style=\"text-align: right;\">\n",
        "      <th></th>\n",
        "      <th>name</th>\n",
        "      <th>team</th>\n",
        "      <th>position</th>\n",
        "      <th>G</th>\n",
        "      <th>AB</th>\n",
        "      <th>R</th>\n",
        "      <th>H</th>\n",
        "      <th>2B</th>\n",
        "      <th>3B</th>\n",
        "      <th>HR</th>\n",
        "      <th>RBI</th>\n",
        "      <th>TB</th>\n",
        "      <th>BB</th>\n",
        "      <th>SO</th>\n",
        "      <th>SB</th>\n",
        "      <th>CS</th>\n",
        "      <th>OBP</th>\n",
        "      <th>SLG</th>\n",
        "      <th>AVG</th>\n",
        "    </tr>\n",
        "  </thead>\n",
        "  <tbody>\n",
        "    <tr>\n",
        "      <th>0</th>\n",
        "      <td> I Suzuki</td>\n",
        "      <td> SEA</td>\n",
        "      <td> OF</td>\n",
        "      <td> 162</td>\n",
        "      <td> 680</td>\n",
        "      <td>  74</td>\n",
        "      <td> 214</td>\n",
        "      <td> 30</td>\n",
        "      <td> 3</td>\n",
        "      <td>  6</td>\n",
        "      <td> 43</td>\n",
        "      <td> 268</td>\n",
        "      <td> 45</td>\n",
        "      <td>  86</td>\n",
        "      <td> 42</td>\n",
        "      <td>  9</td>\n",
        "      <td> 0.359</td>\n",
        "      <td> 0.394</td>\n",
        "      <td> 0.315</td>\n",
        "    </tr>\n",
        "    <tr>\n",
        "      <th>1</th>\n",
        "      <td>  D Jeter</td>\n",
        "      <td> NYY</td>\n",
        "      <td> SS</td>\n",
        "      <td> 157</td>\n",
        "      <td> 663</td>\n",
        "      <td> 111</td>\n",
        "      <td> 179</td>\n",
        "      <td> 30</td>\n",
        "      <td> 3</td>\n",
        "      <td> 10</td>\n",
        "      <td> 67</td>\n",
        "      <td> 245</td>\n",
        "      <td> 63</td>\n",
        "      <td> 106</td>\n",
        "      <td> 18</td>\n",
        "      <td>  5</td>\n",
        "      <td> 0.340</td>\n",
        "      <td> 0.370</td>\n",
        "      <td> 0.270</td>\n",
        "    </tr>\n",
        "    <tr>\n",
        "      <th>2</th>\n",
        "      <td>  M Young</td>\n",
        "      <td> TEX</td>\n",
        "      <td> 3B</td>\n",
        "      <td> 157</td>\n",
        "      <td> 656</td>\n",
        "      <td>  99</td>\n",
        "      <td> 186</td>\n",
        "      <td> 36</td>\n",
        "      <td> 3</td>\n",
        "      <td> 21</td>\n",
        "      <td> 91</td>\n",
        "      <td> 291</td>\n",
        "      <td> 50</td>\n",
        "      <td> 115</td>\n",
        "      <td>  4</td>\n",
        "      <td>  2</td>\n",
        "      <td> 0.330</td>\n",
        "      <td> 0.444</td>\n",
        "      <td> 0.284</td>\n",
        "    </tr>\n",
        "    <tr>\n",
        "      <th>3</th>\n",
        "      <td> J Pierre</td>\n",
        "      <td> CWS</td>\n",
        "      <td> OF</td>\n",
        "      <td> 160</td>\n",
        "      <td> 651</td>\n",
        "      <td>  96</td>\n",
        "      <td> 179</td>\n",
        "      <td> 18</td>\n",
        "      <td> 3</td>\n",
        "      <td>  1</td>\n",
        "      <td> 47</td>\n",
        "      <td> 206</td>\n",
        "      <td> 45</td>\n",
        "      <td>  47</td>\n",
        "      <td> 68</td>\n",
        "      <td> 18</td>\n",
        "      <td> 0.341</td>\n",
        "      <td> 0.316</td>\n",
        "      <td> 0.275</td>\n",
        "    </tr>\n",
        "    <tr>\n",
        "      <th>4</th>\n",
        "      <td>  R Weeks</td>\n",
        "      <td> MIL</td>\n",
        "      <td> 2B</td>\n",
        "      <td> 160</td>\n",
        "      <td> 651</td>\n",
        "      <td> 112</td>\n",
        "      <td> 175</td>\n",
        "      <td> 32</td>\n",
        "      <td> 4</td>\n",
        "      <td> 29</td>\n",
        "      <td> 83</td>\n",
        "      <td> 302</td>\n",
        "      <td> 76</td>\n",
        "      <td> 184</td>\n",
        "      <td> 11</td>\n",
        "      <td>  4</td>\n",
        "      <td> 0.366</td>\n",
        "      <td> 0.464</td>\n",
        "      <td> 0.269</td>\n",
        "    </tr>\n",
        "  </tbody>\n",
        "</table>\n",
        "</div>"
       ],
       "metadata": {},
       "output_type": "pyout",
       "prompt_number": 79,
       "text": [
        "       name team position    G   AB    R    H  2B  3B  HR  RBI   TB  BB   SO  \\\n",
        "0  I Suzuki  SEA       OF  162  680   74  214  30   3   6   43  268  45   86   \n",
        "1   D Jeter  NYY       SS  157  663  111  179  30   3  10   67  245  63  106   \n",
        "2   M Young  TEX       3B  157  656   99  186  36   3  21   91  291  50  115   \n",
        "3  J Pierre  CWS       OF  160  651   96  179  18   3   1   47  206  45   47   \n",
        "4   R Weeks  MIL       2B  160  651  112  175  32   4  29   83  302  76  184   \n",
        "\n",
        "   SB  CS    OBP    SLG    AVG  \n",
        "0  42   9  0.359  0.394  0.315  \n",
        "1  18   5  0.340  0.370  0.270  \n",
        "2   4   2  0.330  0.444  0.284  \n",
        "3  68  18  0.341  0.316  0.275  \n",
        "4  11   4  0.366  0.464  0.269  "
       ]
      }
     ],
     "prompt_number": 79
    },
    {
     "cell_type": "code",
     "collapsed": false,
     "input": [
      "df.position.value_counts()"
     ],
     "language": "python",
     "metadata": {},
     "outputs": [
      {
       "metadata": {},
       "output_type": "pyout",
       "prompt_number": 80,
       "text": [
        "OF    120\n",
        "SS     42\n",
        "3B     40\n",
        "2B     39\n",
        "C      39\n",
        "1B     33\n",
        "DH     14\n",
        "dtype: int64"
       ]
      }
     ],
     "prompt_number": 80
    },
    {
     "cell_type": "code",
     "collapsed": false,
     "input": [
      "infielders = df.ix[df.position.str.contains('^[1-3]B$|^SS$|^P$')]"
     ],
     "language": "python",
     "metadata": {},
     "outputs": [],
     "prompt_number": 81
    },
    {
     "cell_type": "code",
     "collapsed": false,
     "input": [
      "infielders.position.value_counts()"
     ],
     "language": "python",
     "metadata": {},
     "outputs": [
      {
       "metadata": {},
       "output_type": "pyout",
       "prompt_number": 82,
       "text": [
        "SS    42\n",
        "3B    40\n",
        "2B    39\n",
        "1B    33\n",
        "dtype: int64"
       ]
      }
     ],
     "prompt_number": 82
    },
    {
     "cell_type": "code",
     "collapsed": false,
     "input": [
      "infielders.OBP.dtype"
     ],
     "language": "python",
     "metadata": {},
     "outputs": [
      {
       "metadata": {},
       "output_type": "pyout",
       "prompt_number": 83,
       "text": [
        "dtype('float64')"
       ]
      }
     ],
     "prompt_number": 83
    },
    {
     "cell_type": "markdown",
     "metadata": {},
     "source": [
      "#### Table 5.27"
     ]
    },
    {
     "cell_type": "code",
     "collapsed": false,
     "input": [
      "class OBP:\n",
      "    def __init__(self, df):\n",
      "        self.xbar   = df.OBP.mean().round(decimals=3).astype(np.float64)\n",
      "        self.std    = df.OBP.std().round(decimals=3).astype(np.float64)\n",
      "        self.n      = len(df)\n",
      "        self.values = df.OBP.values.astype(np.float64)\n",
      "    \n",
      "    def __repr__(self):\n",
      "        return \"(n = %d, xbar = %1.3f, std = %1.3f)\" % (self.n, self.xbar, self.std)\n",
      "        \n",
      "    def SE(self):\n",
      "        return self.std/sqrt(float(self.n)).round(decimals=3)\n",
      "    \n",
      "    def var(self):\n",
      "        return self.values.round(decimals=3).var()\n",
      "    \n",
      "    def res(self):\n",
      "        return self.values - self.xbar\n",
      "    \n",
      "if_obp = OBP(df.ix[df.position.str.contains('^[1-3]B$|^SS$|^P$')])\n",
      "of_obp = OBP(df.ix[df.position.str.contains('^OF$')             ])\n",
      "ct_obp = OBP(df.ix[df.position.str.contains('^C$')              ])\n",
      "dh_obp = OBP(df.ix[df.position.str.contains('^DH$')             ])\n",
      "obps   = [of_obp, if_obp, dh_obp, ct_obp]\n",
      "\n",
      "print(\"of = %s\" % of_obp)\n",
      "print(\"if = %s\" % if_obp)\n",
      "print(\"dh = %s\" % dh_obp)\n",
      "print(\"ct = %s\" % ct_obp)"
     ],
     "language": "python",
     "metadata": {},
     "outputs": [
      {
       "output_type": "stream",
       "stream": "stdout",
       "text": [
        "of = (n = 120, xbar = 0.334, std = 0.029)\n",
        "if = (n = 154, xbar = 0.332, std = 0.037)\n",
        "dh = (n = 14, xbar = 0.348, std = 0.036)\n",
        "ct = (n = 39, xbar = 0.323, std = 0.045)\n"
       ]
      }
     ],
     "prompt_number": 84
    },
    {
     "cell_type": "markdown",
     "metadata": {},
     "source": [
      "#### figure 5.28"
     ]
    },
    {
     "cell_type": "code",
     "collapsed": false,
     "input": [
      "data = [obp.values for obp in obps]\n",
      "plt.boxplot(data, labels=[\"OF\", \"IF\", \"DH\", \"C\"]);"
     ],
     "language": "python",
     "metadata": {},
     "outputs": [
      {
       "metadata": {},
       "output_type": "display_data",
       "png": "[encoded data removed]",
       "text": [
        "<matplotlib.figure.Figure at 0x1112d5d90>"
       ]
      }
     ],
     "prompt_number": 85
    },
    {
     "cell_type": "markdown",
     "metadata": {},
     "source": [
      "#### exercise 5.40"
     ]
    },
    {
     "cell_type": "markdown",
     "metadata": {},
     "source": [
      "let $df_G$ = k - 1 where k is the number of groups\n",
      "\n",
      "then\n",
      "\n",
      "\\begin{align}\n",
      "    MSG &= \\frac{1}{df_G} SSG \\\\\n",
      "        &= \\frac{1}{k-1}\\sum_{i=1}^{k}n_i \\left(\\bar{x}_i - \\bar{x}\\right)^2\n",
      "\\end{align}"
     ]
    },
    {
     "cell_type": "code",
     "collapsed": false,
     "input": [
      "# MSG \n",
      "k    = len(obps)\n",
      "dfg  = k - 1\n",
      "xbar = df.OBP.mean()\n",
      "ssg  = np.sum([obp.n*(obp.xbar - xbar)**2 for obp in obps], dtype=float64)\n",
      "msg  = ssg/dfg\n",
      "(k, dfg, xbar, ssg, msg)"
     ],
     "language": "python",
     "metadata": {},
     "outputs": [
      {
       "metadata": {},
       "output_type": "pyout",
       "prompt_number": 113,
       "text": [
        "(4, 3, 0.33215902140672798, 0.0071953302752293287, 0.0023984434250764429)"
       ]
      }
     ],
     "prompt_number": 113
    },
    {
     "cell_type": "code",
     "collapsed": false,
     "input": [
      "ss = np.float64(0.0)\n",
      "for obp in obps:\n",
      "    v = obp.values\n",
      "    n = len(v)\n",
      "    x = v.mean().round(decimals=3)\n",
      "    s  =  n*(x - xbar)**2\n",
      "    print(n, x, xbar, s)\n",
      "    ss += n*(x - xbar)**2\n",
      "ss"
     ],
     "language": "python",
     "metadata": {},
     "outputs": [
      {
       "output_type": "stream",
       "stream": "stdout",
       "text": [
        "(120, 0.33400000000000002, 0.33215902140672798, 0.00040670426170630601)\n",
        "(154, 0.33200000000000002, 0.33215902140672798, 3.8943224008521457e-06)\n",
        "(14, 0.34799999999999998, 0.33215902140672798, 0.0035131124390950213)\n",
        "(39, 0.32300000000000001, 0.33215902140672798, 0.0032716192520271495)\n"
       ]
      },
      {
       "metadata": {},
       "output_type": "pyout",
       "prompt_number": 114,
       "text": [
        "0.0071953302752293287"
       ]
      }
     ],
     "prompt_number": 114
    },
    {
     "cell_type": "code",
     "collapsed": false,
     "input": [
      "[(obp.n, obp.xbar, obp.n*(obp.xbar - xbar)**2) for obp in obps]"
     ],
     "language": "python",
     "metadata": {},
     "outputs": [
      {
       "metadata": {},
       "output_type": "pyout",
       "prompt_number": 115,
       "text": [
        "[(120, 0.33400000000000002, 0.00040670426170630601),\n",
        " (154, 0.33200000000000002, 3.8943224008521457e-06),\n",
        " (14, 0.34799999999999998, 0.0035131124390950213),\n",
        " (39, 0.32300000000000001, 0.0032716192520271495)]"
       ]
      }
     ],
     "prompt_number": 115
    },
    {
     "cell_type": "code",
     "collapsed": false,
     "input": [
      "# check mean manually\n",
      "xbar_prime = (120*0.334 + 154*0.332 + 14*0.348 + 39*0.323)/327\n",
      "xbar_prime"
     ],
     "language": "python",
     "metadata": {},
     "outputs": [
      {
       "metadata": {},
       "output_type": "pyout",
       "prompt_number": 116,
       "text": [
        "0.33234556574923546"
       ]
      }
     ],
     "prompt_number": 116
    },
    {
     "cell_type": "code",
     "collapsed": false,
     "input": [
      "ssg = 120*(0.334 - xbar)**2 + 154*(0.332 - xbar)**2 + 14*(0.348 - xbar)**2 + 39*(0.323 - xbar)**2\n",
      "msg = ssg/dfg\n",
      "msg"
     ],
     "language": "python",
     "metadata": {},
     "outputs": [
      {
       "metadata": {},
       "output_type": "pyout",
       "prompt_number": 117,
       "text": [
        "0.0023984434250764429"
       ]
      }
     ],
     "prompt_number": 117
    },
    {
     "cell_type": "markdown",
     "metadata": {},
     "source": [
      "let $df_E$ = n - k where k is the number of groups and n is toal number of trials\n",
      "\n",
      "then\n",
      "\n",
      "\\begin{align}\n",
      "    MSE &= \\frac{1}{df_E} SSE \\\\\n",
      "        &= \\frac{1}{n-k}\\sum_{i=1}^{k}(n_i - 1)s_i^2\n",
      "\\end{align}"
     ]
    },
    {
     "cell_type": "code",
     "collapsed": false,
     "input": [
      "# MSE\n",
      "n   = len(df)\n",
      "dfe = n - k\n",
      "sst = np.sum([(x - xbar)**2 for x in df.OBP.values])\n",
      "sse = sst - ssg\n",
      "mse = sse/float(dfe)\n",
      "(mse,sse,dfe)"
     ],
     "language": "python",
     "metadata": {},
     "outputs": [
      {
       "metadata": {},
       "output_type": "pyout",
       "prompt_number": 97,
       "text": [
        "(0.0012642303424508395, 0.40834640061162114, 323)"
       ]
      }
     ],
     "prompt_number": 97
    },
    {
     "cell_type": "markdown",
     "metadata": {},
     "source": [
      "The F statistic is\n",
      "\n",
      "\\begin{align}\n",
      "    F = \\frac{MSG}{MSE}\n",
      "\\end{align}"
     ]
    },
    {
     "cell_type": "code",
     "collapsed": false,
     "input": [
      "# F statistic\n",
      "F = msg/mse\n",
      "F"
     ],
     "language": "python",
     "metadata": {},
     "outputs": [
      {
       "metadata": {},
       "output_type": "pyout",
       "prompt_number": 98,
       "text": [
        "1.8971569851952894"
       ]
      }
     ],
     "prompt_number": 98
    },
    {
     "cell_type": "markdown",
     "metadata": {},
     "source": [
      "#### figure 5.29"
     ]
    },
    {
     "cell_type": "code",
     "collapsed": false,
     "input": [
      "x = np.linspace(0,6,100)\n",
      "plt.plot(x, st.f(dfg, dfe).pdf(x), 'k-')\n",
      "plt.xlabel(\"F distribution\")"
     ],
     "language": "python",
     "metadata": {},
     "outputs": [
      {
       "metadata": {},
       "output_type": "pyout",
       "prompt_number": 58,
       "text": [
        "<matplotlib.text.Text at 0x11072e050>"
       ]
      },
      {
       "metadata": {},
       "output_type": "display_data",
       "png": "[encoded data removed]",
       "text": [
        "<matplotlib.figure.Figure at 0x10fe442d0>"
       ]
      }
     ],
     "prompt_number": 58
    },
    {
     "cell_type": "markdown",
     "metadata": {},
     "source": [
      "#### exercise 4.42"
     ]
    },
    {
     "cell_type": "code",
     "collapsed": false,
     "input": [
      "pvalue = 1.0 - st.f(dfg, dfe).cdf(F)\n",
      "pvalue"
     ],
     "language": "python",
     "metadata": {},
     "outputs": [
      {
       "metadata": {},
       "output_type": "pyout",
       "prompt_number": 59,
       "text": [
        "0.087337612947817389"
       ]
      }
     ],
     "prompt_number": 59
    },
    {
     "cell_type": "code",
     "collapsed": false,
     "input": [
      "print(\"reject H0\" if pvalue < 0.05 else \"don't reject H0\")"
     ],
     "language": "python",
     "metadata": {},
     "outputs": [
      {
       "output_type": "stream",
       "stream": "stdout",
       "text": [
        "don't reject H0\n"
       ]
      }
     ],
     "prompt_number": 60
    },
    {
     "cell_type": "markdown",
     "metadata": {},
     "source": [
      "Using statard tool from: http://docs.scipy.org/doc/scipy-0.13.0/reference/generated/scipy.stats.f_oneway.html#scipy.stats.f_oneway"
     ]
    },
    {
     "cell_type": "code",
     "collapsed": false,
     "input": [
      "f_val, p_val = st.f_oneway(of_obp.values, if_obp.values, dh_obp.values, ct_obp.values) \n",
      "print(\"One-way ANOVA P = %1.3f, F = %1.3f\" % (p_val, f_val))\n",
      "print(\"reject H0\" if p_val < 0.05 else \"don't reject H0\")"
     ],
     "language": "python",
     "metadata": {},
     "outputs": [
      {
       "output_type": "stream",
       "stream": "stdout",
       "text": [
        "One-way ANOVA P = 0.115, F = 1.994\n",
        "don't reject H0\n"
       ]
      }
     ],
     "prompt_number": 61
    },
    {
     "cell_type": "markdown",
     "metadata": {},
     "source": [
      "#### figure 5.31"
     ]
    },
    {
     "cell_type": "code",
     "collapsed": false,
     "input": [
      "fig, axes = plt.subplots(2,2)\n",
      "st.probplot(of_obp.values, plot=axes[0,0]); axes[0,0].set_title(\"outfielders\");\n",
      "st.probplot(if_obp.values, plot=axes[0,1]); axes[0,0].set_title(\"infielders\" );\n",
      "st.probplot(dh_obp.values, plot=axes[1,0]); axes[0,0].set_title(\"DHs\"        );\n",
      "st.probplot(ct_obp.values, plot=axes[1,1]); axes[0,0].set_title(\"cachters\"   );"
     ],
     "language": "python",
     "metadata": {},
     "outputs": [
      {
       "metadata": {},
       "output_type": "display_data",
       "png": "[encoded data removed]",
       "text": [
        "<matplotlib.figure.Figure at 0x110b4ced0>"
       ]
      }
     ],
     "prompt_number": 62
    },
    {
     "cell_type": "markdown",
     "metadata": {},
     "source": [
      "### One-Way ANOVA exampe\n",
      "\n",
      "from Wikipedia: http://en.wikipedia.org/wiki/F-test#One-way_ANOVA_example"
     ]
    },
    {
     "cell_type": "code",
     "collapsed": false,
     "input": [
      "data = np.array([[6,8,4,5,3,4],[8,12,9,11,6,8],[13,9,11,8,7,12]]).T\n",
      "df = pd.DataFrame(data=data, columns=[\"a1\", \"a2\", \"a3\"])\n",
      "df"
     ],
     "language": "python",
     "metadata": {},
     "outputs": [
      {
       "html": [
        "<div style=\"max-height:1000px;max-width:1500px;overflow:auto;\">\n",
        "<table border=\"1\" class=\"dataframe\">\n",
        "  <thead>\n",
        "    <tr style=\"text-align: right;\">\n",
        "      <th></th>\n",
        "      <th>a1</th>\n",
        "      <th>a2</th>\n",
        "      <th>a3</th>\n",
        "    </tr>\n",
        "  </thead>\n",
        "  <tbody>\n",
        "    <tr>\n",
        "      <th>0</th>\n",
        "      <td> 6</td>\n",
        "      <td>  8</td>\n",
        "      <td> 13</td>\n",
        "    </tr>\n",
        "    <tr>\n",
        "      <th>1</th>\n",
        "      <td> 8</td>\n",
        "      <td> 12</td>\n",
        "      <td>  9</td>\n",
        "    </tr>\n",
        "    <tr>\n",
        "      <th>2</th>\n",
        "      <td> 4</td>\n",
        "      <td>  9</td>\n",
        "      <td> 11</td>\n",
        "    </tr>\n",
        "    <tr>\n",
        "      <th>3</th>\n",
        "      <td> 5</td>\n",
        "      <td> 11</td>\n",
        "      <td>  8</td>\n",
        "    </tr>\n",
        "    <tr>\n",
        "      <th>4</th>\n",
        "      <td> 3</td>\n",
        "      <td>  6</td>\n",
        "      <td>  7</td>\n",
        "    </tr>\n",
        "    <tr>\n",
        "      <th>5</th>\n",
        "      <td> 4</td>\n",
        "      <td>  8</td>\n",
        "      <td> 12</td>\n",
        "    </tr>\n",
        "  </tbody>\n",
        "</table>\n",
        "</div>"
       ],
       "metadata": {},
       "output_type": "pyout",
       "prompt_number": 63,
       "text": [
        "   a1  a2  a3\n",
        "0   6   8  13\n",
        "1   8  12   9\n",
        "2   4   9  11\n",
        "3   5  11   8\n",
        "4   3   6   7\n",
        "5   4   8  12"
       ]
      }
     ],
     "prompt_number": 63
    },
    {
     "cell_type": "markdown",
     "metadata": {},
     "source": [
      "**step 1:** Calculate the mean within each group."
     ]
    },
    {
     "cell_type": "code",
     "collapsed": false,
     "input": [
      "ybars = df.mean(axis=0)\n",
      "ybars"
     ],
     "language": "python",
     "metadata": {},
     "outputs": [
      {
       "metadata": {},
       "output_type": "pyout",
       "prompt_number": 64,
       "text": [
        "a1     5\n",
        "a2     9\n",
        "a3    10\n",
        "dtype: float64"
       ]
      }
     ],
     "prompt_number": 64
    },
    {
     "cell_type": "markdown",
     "metadata": {},
     "source": [
      "**step 2:** calculate the overal mean:"
     ]
    },
    {
     "cell_type": "code",
     "collapsed": false,
     "input": [
      "ybar = ybars.mean()\n",
      "ybar"
     ],
     "language": "python",
     "metadata": {},
     "outputs": [
      {
       "metadata": {},
       "output_type": "pyout",
       "prompt_number": 65,
       "text": [
        "8.0"
       ]
      }
     ],
     "prompt_number": 65
    },
    {
     "cell_type": "markdown",
     "metadata": {},
     "source": [
      "**step 3:** caculate the \"btween group\" sum of squares"
     ]
    },
    {
     "cell_type": "code",
     "collapsed": false,
     "input": [
      "k   = len(df.columns)\n",
      "na1 = len(df.a1)\n",
      "na2 = len(df.a1)\n",
      "na3 = len(df.a1)\n",
      "ssg = na1*(ybars.a1.mean() - ybar)**2 + na2*(ybars.a2.mean() - ybar)**2 + na3*(ybars.a3.mean() - ybar)**2\n",
      "ssg"
     ],
     "language": "python",
     "metadata": {},
     "outputs": [
      {
       "metadata": {},
       "output_type": "pyout",
       "prompt_number": 66,
       "text": [
        "84.0"
       ]
      }
     ],
     "prompt_number": 66
    },
    {
     "cell_type": "code",
     "collapsed": false,
     "input": [
      "dfg = len(df.columns) - 1\n",
      "dfg"
     ],
     "language": "python",
     "metadata": {},
     "outputs": [
      {
       "metadata": {},
       "output_type": "pyout",
       "prompt_number": 67,
       "text": [
        "2"
       ]
      }
     ],
     "prompt_number": 67
    },
    {
     "cell_type": "code",
     "collapsed": false,
     "input": [
      "msg = ssg/dfg\n",
      "msg"
     ],
     "language": "python",
     "metadata": {},
     "outputs": [
      {
       "metadata": {},
       "output_type": "pyout",
       "prompt_number": 68,
       "text": [
        "42.0"
       ]
      }
     ],
     "prompt_number": 68
    },
    {
     "cell_type": "markdown",
     "metadata": {},
     "source": [
      "**step 4:** calculate the \"within-group\" sum of squares.  First we need the residuals."
     ]
    },
    {
     "cell_type": "code",
     "collapsed": false,
     "input": [
      "res = df - ybars\n",
      "res"
     ],
     "language": "python",
     "metadata": {},
     "outputs": [
      {
       "html": [
        "<div style=\"max-height:1000px;max-width:1500px;overflow:auto;\">\n",
        "<table border=\"1\" class=\"dataframe\">\n",
        "  <thead>\n",
        "    <tr style=\"text-align: right;\">\n",
        "      <th></th>\n",
        "      <th>a1</th>\n",
        "      <th>a2</th>\n",
        "      <th>a3</th>\n",
        "    </tr>\n",
        "  </thead>\n",
        "  <tbody>\n",
        "    <tr>\n",
        "      <th>0</th>\n",
        "      <td> 1</td>\n",
        "      <td>-1</td>\n",
        "      <td> 3</td>\n",
        "    </tr>\n",
        "    <tr>\n",
        "      <th>1</th>\n",
        "      <td> 3</td>\n",
        "      <td> 3</td>\n",
        "      <td>-1</td>\n",
        "    </tr>\n",
        "    <tr>\n",
        "      <th>2</th>\n",
        "      <td>-1</td>\n",
        "      <td> 0</td>\n",
        "      <td> 1</td>\n",
        "    </tr>\n",
        "    <tr>\n",
        "      <th>3</th>\n",
        "      <td> 0</td>\n",
        "      <td> 2</td>\n",
        "      <td>-2</td>\n",
        "    </tr>\n",
        "    <tr>\n",
        "      <th>4</th>\n",
        "      <td>-2</td>\n",
        "      <td>-3</td>\n",
        "      <td>-3</td>\n",
        "    </tr>\n",
        "    <tr>\n",
        "      <th>5</th>\n",
        "      <td>-1</td>\n",
        "      <td>-1</td>\n",
        "      <td> 2</td>\n",
        "    </tr>\n",
        "  </tbody>\n",
        "</table>\n",
        "</div>"
       ],
       "metadata": {},
       "output_type": "pyout",
       "prompt_number": 69,
       "text": [
        "   a1  a2  a3\n",
        "0   1  -1   3\n",
        "1   3   3  -1\n",
        "2  -1   0   1\n",
        "3   0   2  -2\n",
        "4  -2  -3  -3\n",
        "5  -1  -1   2"
       ]
      }
     ],
     "prompt_number": 69
    },
    {
     "cell_type": "markdown",
     "metadata": {},
     "source": [
      "The within-group sum of squares is the sum of squares of all the residuals:"
     ]
    },
    {
     "cell_type": "code",
     "collapsed": false,
     "input": [
      "sw = np.sum(np.sum(res*res))\n",
      "sw"
     ],
     "language": "python",
     "metadata": {},
     "outputs": [
      {
       "metadata": {},
       "output_type": "pyout",
       "prompt_number": 70,
       "text": [
        "68.0"
       ]
      }
     ],
     "prompt_number": 70
    },
    {
     "cell_type": "code",
     "collapsed": false,
     "input": [
      "dfw = k*(na1 - 1)\n",
      "dfw"
     ],
     "language": "python",
     "metadata": {},
     "outputs": [
      {
       "metadata": {},
       "output_type": "pyout",
       "prompt_number": 71,
       "text": [
        "15"
       ]
      }
     ],
     "prompt_number": 71
    },
    {
     "cell_type": "code",
     "collapsed": false,
     "input": [
      "msw = sw/dfw \n",
      "msw"
     ],
     "language": "python",
     "metadata": {},
     "outputs": [
      {
       "metadata": {},
       "output_type": "pyout",
       "prompt_number": 72,
       "text": [
        "4.5333333333333332"
       ]
      }
     ],
     "prompt_number": 72
    },
    {
     "cell_type": "markdown",
     "metadata": {},
     "source": [
      "**step 5:** the f-value is:"
     ]
    },
    {
     "cell_type": "code",
     "collapsed": false,
     "input": [
      "f = msg/msw\n",
      "f"
     ],
     "language": "python",
     "metadata": {},
     "outputs": [
      {
       "metadata": {},
       "output_type": "pyout",
       "prompt_number": 73,
       "text": [
        "9.264705882352942"
       ]
      }
     ],
     "prompt_number": 73
    },
    {
     "cell_type": "code",
     "collapsed": false,
     "input": [
      "fcrit = st.f(dfg, dfw).ppf(0.95)\n",
      "fcrit"
     ],
     "language": "python",
     "metadata": {},
     "outputs": [
      {
       "metadata": {},
       "output_type": "pyout",
       "prompt_number": 74,
       "text": [
        "3.6823203436732412"
       ]
      }
     ],
     "prompt_number": 74
    },
    {
     "cell_type": "code",
     "collapsed": false,
     "input": [
      "print(\"reject H0\" if f > fcrit else \"do not reject H0\")"
     ],
     "language": "python",
     "metadata": {},
     "outputs": [
      {
       "output_type": "stream",
       "stream": "stdout",
       "text": [
        "reject H0\n"
       ]
      }
     ],
     "prompt_number": 75
    },
    {
     "cell_type": "code",
     "collapsed": false,
     "input": [
      "pvalue = 1.0 - st.f(dfg, dfw).cdf(f)\n",
      "pvalue"
     ],
     "language": "python",
     "metadata": {},
     "outputs": [
      {
       "metadata": {},
       "output_type": "pyout",
       "prompt_number": 76,
       "text": [
        "0.0023987773293928649"
       ]
      }
     ],
     "prompt_number": 76
    },
    {
     "cell_type": "markdown",
     "metadata": {},
     "source": [
      "#### use build in tools"
     ]
    },
    {
     "cell_type": "code",
     "collapsed": false,
     "input": [
      "f_val, p_val = st.f_oneway(data[:,0], data[:,1], data[:,2])\n",
      "print(\"One-way ANOVA P = %1.3f, F = %1.3f\" % (p_val, f_val))\n",
      "print(\"reject H0\" if p_val < 0.05 else \"don't reject H0\")"
     ],
     "language": "python",
     "metadata": {},
     "outputs": [
      {
       "output_type": "stream",
       "stream": "stdout",
       "text": [
        "One-way ANOVA P = 0.002, F = 9.265\n",
        "reject H0\n"
       ]
      }
     ],
     "prompt_number": 77
    }
   ],
   "metadata": {}
  }
 ]
}