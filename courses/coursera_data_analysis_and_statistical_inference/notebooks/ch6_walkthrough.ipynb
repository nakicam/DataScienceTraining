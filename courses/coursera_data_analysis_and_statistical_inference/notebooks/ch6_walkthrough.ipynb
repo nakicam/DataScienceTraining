{
 "metadata": {
  "name": "ch6_walkthrough.ipynb"
 },
 "nbformat": 3,
 "nbformat_minor": 0,
 "worksheets": [
  {
   "cells": [
    {
     "cell_type": "markdown",
     "metadata": {},
     "source": [
      "# Ch6: Inference for Categorical Variables"
     ]
    },
    {
     "cell_type": "markdown",
     "metadata": {},
     "source": [
      "### Setup"
     ]
    },
    {
     "cell_type": "code",
     "collapsed": false,
     "input": [
      "# setup notebook\n",
      "import numpy as np\n",
      "import pandas as pd\n",
      "import matplotlib.pyplot as plt\n",
      "import scipy.stats as st\n",
      "from IPython.display import display, Math, Latex\n",
      "import os\n",
      "os.chdir('%s/courses/coursera_data_analysis_and_statistical_inference' % os.getenv('DST'))\n",
      "print(os.getcwd())\n",
      "\n",
      "np.set_printoptions(precision=4)\n",
      "plt.rc('figure', figsize=(10, 8))"
     ],
     "language": "python",
     "metadata": {},
     "outputs": [
      {
       "output_type": "stream",
       "stream": "stdout",
       "text": [
        "C:\\Users\\J28976\\Documents\\Development\\dst\\courses\\coursera_data_analysis_and_statistical_inference\n"
       ]
      }
     ],
     "prompt_number": 20
    },
    {
     "cell_type": "markdown",
     "metadata": {},
     "source": [
      "#### helper functions"
     ]
    },
    {
     "cell_type": "code",
     "collapsed": false,
     "input": [
      "def hyp_test(obs, alpha=0.05, two_sided=False, rv=st.norm):\n",
      "    obs = -1.0*abs(obs)\n",
      "    p = rv.cdf(obs)\n",
      "    if (two_sided):\n",
      "        p = 2*p\n",
      "    cl = 100*(1.0-alpha)\n",
      "    if (p < alpha):    \n",
      "        print(\"Reject H0 at %1.0f%% CL with p = %1.2e\" % (cl, p))\n",
      "    else:\n",
      "        print(\"Fail to reject H0 at %1.0f%% CL with p = %1.2e\" % (cl, p))"
     ],
     "language": "python",
     "metadata": {},
     "outputs": [],
     "prompt_number": 2
    },
    {
     "cell_type": "code",
     "collapsed": false,
     "input": [
      "def rv_star(cl, rv=st.norm):\n",
      "    return rv.ppf(0.5+cl/2.0)\n",
      "\n",
      "display(Latex(r\"$z^*_{95} = %1.2f$\" % rv_star(0.95)))\n",
      "display(Latex(r\"$z^*_{90} = %1.2f$\" % rv_star(0.90)))\n",
      "display(Latex(r\"$z^*_{99} = %1.2f$\" % rv_star(0.99)))"
     ],
     "language": "python",
     "metadata": {},
     "outputs": [
      {
       "latex": [
        "$z^*_{95} = 1.96$"
       ],
       "metadata": {},
       "output_type": "display_data",
       "text": [
        "<IPython.core.display.Latex at 0xa5819b0>"
       ]
      },
      {
       "latex": [
        "$z^*_{90} = 1.64$"
       ],
       "metadata": {},
       "output_type": "display_data",
       "text": [
        "<IPython.core.display.Latex at 0xa572c50>"
       ]
      },
      {
       "latex": [
        "$z^*_{99} = 2.58$"
       ],
       "metadata": {},
       "output_type": "display_data",
       "text": [
        "<IPython.core.display.Latex at 0xa581908>"
       ]
      }
     ],
     "prompt_number": 3
    },
    {
     "cell_type": "markdown",
     "metadata": {},
     "source": [
      "### 6.1 Inference for a single proportion"
     ]
    },
    {
     "cell_type": "markdown",
     "metadata": {},
     "source": [
      "*conditions for the sampling distribution of $\\hat{p}$ behing nearly normal*\n",
      "\n",
      "When sampleing distribution for $\\hat{p} = \\frac{\\# success}{n}$ for a sample of size *n* from a population with a true proportion of $p$, is nearly normal when:\n",
      "\n",
      "* the sample observations are independent\n",
      "* we expect to see $n_{success} \\geq 10$ and $n_{failure} \\geq 10$\n",
      "\n",
      "If the above is met, then $\\hat{p} \\sim N(p, SE_{\\hat{p}})$ s.t.\n",
      "\\begin{align}\n",
      "    SE_{\\hat{p}} = \\sqrt{\\frac{p(1-p)}{n}}\n",
      "\\end{align}"
     ]
    },
    {
     "cell_type": "markdown",
     "metadata": {},
     "source": [
      "### example 6.3\n",
      "\n",
      "Construct a 95% Confidence Limit for supreme court approval data"
     ]
    },
    {
     "cell_type": "code",
     "collapsed": false,
     "input": [
      "phat = 0.44\n",
      "n    = 976\n",
      "se   = sqrt(phat*(1-phat)/n)\n",
      "(n, phat, se)"
     ],
     "language": "python",
     "metadata": {},
     "outputs": [
      {
       "metadata": {},
       "output_type": "pyout",
       "prompt_number": 4,
       "text": [
        "(976, 0.44, 0.015888958946181548)"
       ]
      }
     ],
     "prompt_number": 4
    },
    {
     "cell_type": "code",
     "collapsed": false,
     "input": [
      "zstar = rv_star(0.95)\n",
      "zstar"
     ],
     "language": "python",
     "metadata": {},
     "outputs": [
      {
       "metadata": {},
       "output_type": "pyout",
       "prompt_number": 5,
       "text": [
        "1.959963984540054"
       ]
      }
     ],
     "prompt_number": 5
    },
    {
     "cell_type": "code",
     "collapsed": false,
     "input": [
      "print(\"(%1.3f, %1.3f)\" % (phat - zstar*se, phat + zstar*se))"
     ],
     "language": "python",
     "metadata": {},
     "outputs": [
      {
       "output_type": "stream",
       "stream": "stdout",
       "text": [
        "(0.409, 0.471)\n"
       ]
      }
     ],
     "prompt_number": 6
    },
    {
     "cell_type": "markdown",
     "metadata": {},
     "source": [
      "#### hyp test\n",
      "\n",
      "* H0: p = 0.5\n",
      "* H1: p > 0.5"
     ]
    },
    {
     "cell_type": "code",
     "collapsed": false,
     "input": [
      "n    = 500\n",
      "p    = 0.50\n",
      "phat = 0.52\n",
      "se   = sqrt(p*(1-p)/n)\n",
      "z    = (phat - p)/se\n",
      "(z, se)"
     ],
     "language": "python",
     "metadata": {},
     "outputs": [
      {
       "metadata": {},
       "output_type": "pyout",
       "prompt_number": 7,
       "text": [
        "(0.89442719099991663, 0.022360679774997897)"
       ]
      }
     ],
     "prompt_number": 7
    },
    {
     "cell_type": "code",
     "collapsed": false,
     "input": [
      "hyp_test(z, alpha=0.05, two_sided=False, rv=st.norm)"
     ],
     "language": "python",
     "metadata": {},
     "outputs": [
      {
       "output_type": "stream",
       "stream": "stdout",
       "text": [
        "Fail to reject H0 at 95% CL with p = 1.86e-01\n"
       ]
      }
     ],
     "prompt_number": 8
    },
    {
     "cell_type": "markdown",
     "metadata": {},
     "source": [
      "#### choosing a sample size to estimate a proporition\n",
      "\n",
      "How large must the sample size *n* be in order to get your point estimate within the margin of error *m*?  For example, the *m* for a CL = 95% = $1.96 \\times SE$.\n",
      "\n",
      "In general:\n",
      "\n",
      "\\begin{align}\n",
      "    ME = z^* \\times SE \\leq m\n",
      "\\end{align}\n",
      "\n",
      "so for estimating the mean of proportions, we have\n",
      "\n",
      "\\begin{align}\n",
      "    ME = z^* \\times \\sqrt{\\frac{p(1-p)}{n}} \\leq m\n",
      "\\end{align}\n",
      "\n",
      "sovling for n gives us\n",
      "\n",
      "\\begin{align}\n",
      "    n \\geq \\frac{z^{*2}p(1-p)}{m^2}\n",
      "\\end{align}\n"
     ]
    },
    {
     "cell_type": "markdown",
     "metadata": {},
     "source": [
      "#### example 6.6\n",
      "\n",
      "Find the smallest n st. m = 0.4 on the point estimate of p, $\\hat{p} = 0.5$."
     ]
    },
    {
     "cell_type": "code",
     "collapsed": false,
     "input": [
      "m     = 0.04\n",
      "zstar = rv_star(0.95)\n",
      "phat  = 0.5\n",
      "n     = zstar**2*phat*(1-phat)/m**2\n",
      "np.ceil(n)"
     ],
     "language": "python",
     "metadata": {},
     "outputs": [
      {
       "metadata": {},
       "output_type": "pyout",
       "prompt_number": 9,
       "text": [
        "601.0"
       ]
      }
     ],
     "prompt_number": 9
    },
    {
     "cell_type": "markdown",
     "metadata": {},
     "source": [
      "so $n \\geq 601$ is required"
     ]
    },
    {
     "cell_type": "markdown",
     "metadata": {},
     "source": [
      "#### exercise 6.8"
     ]
    },
    {
     "cell_type": "code",
     "collapsed": false,
     "input": [
      "m     = 0.04\n",
      "zstar = rv_star(0.95)\n",
      "phat  = 0.17\n",
      "n     = zstar**2*phat*(1-phat)/m**2\n",
      "np.ceil(n)"
     ],
     "language": "python",
     "metadata": {},
     "outputs": [
      {
       "metadata": {},
       "output_type": "pyout",
       "prompt_number": 10,
       "text": [
        "339.0"
       ]
      }
     ],
     "prompt_number": 10
    },
    {
     "cell_type": "markdown",
     "metadata": {},
     "source": [
      "### 6.2 Difference of Two Proportions\n",
      "\n",
      "Whan to estimate difference in two different population proportions, $p_1 - p_2$.\n",
      "\n",
      "Use the point estimate: $\\hat{p}_1 - \\hat{p}_2$ which tends to follow a normal model when\n",
      "\n",
      "* each proportion itself is normal\n",
      "* the two samples are independent of each other\n",
      "\n",
      "the *SE* becomes:\n",
      "\n",
      "\\begin{align}\n",
      "    SE_{\\hat{p}_1 - \\hat{p}_2} &= \\sqrt{SE_{\\hat{p}_1}^2 - SE_{\\hat{p}_2}^2} \\\\\n",
      "    &= \\sqrt{\\frac{p_1(1 - p_1)}{n_1} + \\frac{p_2(1 - p_2)}{n_2}}\n",
      "\\end{align}"
     ]
    },
    {
     "cell_type": "markdown",
     "metadata": {},
     "source": [
      "### example 6.10"
     ]
    },
    {
     "cell_type": "code",
     "collapsed": false,
     "input": [
      "# table 6.2\n",
      "df = pd.DataFrame(data=np.array([[771, 0.47, 0.49, 3],[732, 0.34, 0.63, 3]]),\n",
      "                  columns=[\"n\", \"approve\", \"disapprove\", \"other\"], \n",
      "                  index=[\"afford\", \"penalty\"])\n",
      "df"
     ],
     "language": "python",
     "metadata": {},
     "outputs": [
      {
       "html": [
        "<div style=\"max-height:1000px;max-width:1500px;overflow:auto;\">\n",
        "<table border=\"1\" class=\"dataframe\">\n",
        "  <thead>\n",
        "    <tr style=\"text-align: right;\">\n",
        "      <th></th>\n",
        "      <th>n</th>\n",
        "      <th>approve</th>\n",
        "      <th>disapprove</th>\n",
        "      <th>other</th>\n",
        "    </tr>\n",
        "  </thead>\n",
        "  <tbody>\n",
        "    <tr>\n",
        "      <th>afford</th>\n",
        "      <td> 771</td>\n",
        "      <td> 0.47</td>\n",
        "      <td> 0.49</td>\n",
        "      <td> 3</td>\n",
        "    </tr>\n",
        "    <tr>\n",
        "      <th>penalty</th>\n",
        "      <td> 732</td>\n",
        "      <td> 0.34</td>\n",
        "      <td> 0.63</td>\n",
        "      <td> 3</td>\n",
        "    </tr>\n",
        "  </tbody>\n",
        "</table>\n",
        "</div>"
       ],
       "metadata": {},
       "output_type": "pyout",
       "prompt_number": 11,
       "text": [
        "           n  approve  disapprove  other\n",
        "afford   771     0.47        0.49      3\n",
        "penalty  732     0.34        0.63      3"
       ]
      }
     ],
     "prompt_number": 11
    },
    {
     "cell_type": "code",
     "collapsed": false,
     "input": [
      "phat1 = df.ix['afford'].approve\n",
      "phat2 = df.ix['penalty'].approve\n",
      "phat  = phat1 - phat2\n",
      "n1    = df.ix['afford'].n\n",
      "n2    = df.ix['penalty'].n\n",
      "phat"
     ],
     "language": "python",
     "metadata": {},
     "outputs": [
      {
       "metadata": {},
       "output_type": "pyout",
       "prompt_number": 12,
       "text": [
        "0.12999999999999995"
       ]
      }
     ],
     "prompt_number": 12
    },
    {
     "cell_type": "code",
     "collapsed": false,
     "input": [
      "se = sqrt(phat1*(1-phat1)/n1 + phat2*(1-phat2)/n2)\n",
      "se"
     ],
     "language": "python",
     "metadata": {},
     "outputs": [
      {
       "metadata": {},
       "output_type": "pyout",
       "prompt_number": 13,
       "text": [
        "0.025092713627244106"
       ]
      }
     ],
     "prompt_number": 13
    },
    {
     "cell_type": "code",
     "collapsed": false,
     "input": [
      "zstar = rv_star(0.90)\n",
      "print(\"(%1.3f, %1.3f)\" % (phat - zstar*se, phat + zstar*se))"
     ],
     "language": "python",
     "metadata": {},
     "outputs": [
      {
       "output_type": "stream",
       "stream": "stdout",
       "text": [
        "(0.089, 0.171)\n"
       ]
      }
     ],
     "prompt_number": 14
    },
    {
     "cell_type": "markdown",
     "metadata": {},
     "source": [
      "### exercise 6.11-12\n",
      "\n",
      "If there is a 3% increase in the percentange in gears that pass inspection, then switch providers.\n",
      "\n",
      "* H0: $d = p_2 - p_1 = 0.03$\n",
      "* H1: $d = p_2 - p_1 > 0.03$\n",
      "\n"
     ]
    },
    {
     "cell_type": "code",
     "collapsed": false,
     "input": [
      "p0    = 0.03\n",
      "n1    = 1000\n",
      "phat1 = 0.899\n",
      "n2    = 1000\n",
      "phat2 = 0.958\n",
      "phat  = phat2 - phat1\n",
      "phat"
     ],
     "language": "python",
     "metadata": {},
     "outputs": [
      {
       "metadata": {},
       "output_type": "pyout",
       "prompt_number": 15,
       "text": [
        "0.05899999999999994"
       ]
      }
     ],
     "prompt_number": 15
    },
    {
     "cell_type": "code",
     "collapsed": false,
     "input": [
      "se = sqrt(phat1*(1-phat1)/n1 + phat2*(1-phat2)/n2)\n",
      "se"
     ],
     "language": "python",
     "metadata": {},
     "outputs": [
      {
       "metadata": {},
       "output_type": "pyout",
       "prompt_number": 16,
       "text": [
        "0.011447052022245729"
       ]
      }
     ],
     "prompt_number": 16
    },
    {
     "cell_type": "code",
     "collapsed": false,
     "input": [
      "zstar = rv_star(0.90)\n",
      "print(\"(%1.3f, %1.3f)\" % (phat - zstar*se, phat + zstar*se))"
     ],
     "language": "python",
     "metadata": {},
     "outputs": [
      {
       "output_type": "stream",
       "stream": "stdout",
       "text": [
        "(0.040, 0.078)\n"
       ]
      }
     ],
     "prompt_number": 17
    },
    {
     "cell_type": "code",
     "collapsed": false,
     "input": [
      "z = (phat - p0)/se\n",
      "z"
     ],
     "language": "python",
     "metadata": {},
     "outputs": [
      {
       "metadata": {},
       "output_type": "pyout",
       "prompt_number": 18,
       "text": [
        "2.5334033551732391"
       ]
      }
     ],
     "prompt_number": 18
    },
    {
     "cell_type": "code",
     "collapsed": false,
     "input": [
      "hyp_test(z, alpha=0.05, two_sided=False, rv=st.norm)"
     ],
     "language": "python",
     "metadata": {},
     "outputs": [
      {
       "output_type": "stream",
       "stream": "stdout",
       "text": [
        "Reject H0 at 95% CL with p = 5.65e-03\n"
       ]
      }
     ],
     "prompt_number": 19
    },
    {
     "cell_type": "markdown",
     "metadata": {},
     "source": [
      "#### exercise 6.13-15\n",
      "\n",
      "Is there an increased risk of cancer for dogs exposed to herbicide?\n",
      "\n",
      "* H0: $d = p_{hb} = p_{no}$\n",
      "* H1: $d = p_{hb} \\neq p_{no}$\n",
      "\n",
      "This is an \"experiment\" since we have a control and response group."
     ]
    },
    {
     "cell_type": "code",
     "collapsed": false,
     "input": [
      "# table 6.4\n",
      "# seems like there is an error in the table --> fixed to match answers\n",
      "df = pd.DataFrame(data=np.array([[191, 300],[304, 641]]),\n",
      "                  columns=[\"cancer\", \"no_cancer\"], \n",
      "                  index=[\"hb\", \"no\"])\n",
      "df"
     ],
     "language": "python",
     "metadata": {},
     "outputs": [
      {
       "html": [
        "<div style=\"max-height:1000px;max-width:1500px;overflow:auto;\">\n",
        "<table border=\"1\" class=\"dataframe\">\n",
        "  <thead>\n",
        "    <tr style=\"text-align: right;\">\n",
        "      <th></th>\n",
        "      <th>cancer</th>\n",
        "      <th>no_cancer</th>\n",
        "    </tr>\n",
        "  </thead>\n",
        "  <tbody>\n",
        "    <tr>\n",
        "      <th>hb</th>\n",
        "      <td> 191</td>\n",
        "      <td> 300</td>\n",
        "    </tr>\n",
        "    <tr>\n",
        "      <th>no</th>\n",
        "      <td> 304</td>\n",
        "      <td> 641</td>\n",
        "    </tr>\n",
        "  </tbody>\n",
        "</table>\n",
        "</div>"
       ],
       "metadata": {},
       "output_type": "pyout",
       "prompt_number": 73,
       "text": [
        "    cancer  no_cancer\n",
        "hb     191        300\n",
        "no     304        641"
       ]
      }
     ],
     "prompt_number": 73
    },
    {
     "cell_type": "code",
     "collapsed": false,
     "input": [
      "n1    = df.ix['hb'].sum().astype(float64)\n",
      "n2    = df.ix['no'].sum().astype(float64)\n",
      "n     = np.sum(df.sum())\n",
      "phat1 = df.cancer.ix['hb']/np.float64(n1)\n",
      "phat2 = df.cancer.ix['no']/np.float64(n2)\n",
      "phat  = phat1 - phat2\n",
      "p0    = (n1*phat1 + n2*phat2)/(n1 + n2)\n",
      "(phat, p0, phat1, phat2, n, n1, n2)"
     ],
     "language": "python",
     "metadata": {},
     "outputs": [
      {
       "metadata": {},
       "output_type": "pyout",
       "prompt_number": 74,
       "text": [
        "(0.067308914966756117,\n",
        " 0.34470752089136492,\n",
        " 0.38900203665987781,\n",
        " 0.3216931216931217,\n",
        " 1436,\n",
        " 491.0,\n",
        " 945.0)"
       ]
      }
     ],
     "prompt_number": 74
    },
    {
     "cell_type": "code",
     "collapsed": false,
     "input": [
      "se = sqrt(phat1*(1-phat1)/n1 + phat2*(1-phat2)/n2)\n",
      "se"
     ],
     "language": "python",
     "metadata": {},
     "outputs": [
      {
       "metadata": {},
       "output_type": "pyout",
       "prompt_number": 75,
       "text": [
        "0.026739085987382109"
       ]
      }
     ],
     "prompt_number": 75
    },
    {
     "cell_type": "code",
     "collapsed": false,
     "input": [
      "# confidence interval\n",
      "zstar = rv_star(0.90)\n",
      "print(\"(%1.3f, %1.3f)\" % (phat - zstar*se, phat + zstar*se))"
     ],
     "language": "python",
     "metadata": {},
     "outputs": [
      {
       "output_type": "stream",
       "stream": "stdout",
       "text": [
        "(0.023, 0.111)\n"
       ]
      }
     ],
     "prompt_number": 76
    },
    {
     "cell_type": "markdown",
     "metadata": {},
     "source": [
      "In a hyp test, the test statistic is always examined as though the H0 were true.  In this case, $p_{hb} = p_{nb}$.  When computing SE,  you should use the full *p* to represent the common rate."
     ]
    },
    {
     "cell_type": "code",
     "collapsed": false,
     "input": [
      "se = sqrt(p0*(1-p0)/n1 + p0*(1-p0)/n2)\n",
      "se"
     ],
     "language": "python",
     "metadata": {},
     "outputs": [
      {
       "metadata": {},
       "output_type": "pyout",
       "prompt_number": 77,
       "text": [
        "0.026440127246176504"
       ]
      }
     ],
     "prompt_number": 77
    },
    {
     "cell_type": "code",
     "collapsed": false,
     "input": [
      "z = (phat - p0)/se\n",
      "z"
     ],
     "language": "python",
     "metadata": {},
     "outputs": [
      {
       "metadata": {},
       "output_type": "pyout",
       "prompt_number": 78,
       "text": [
        "-10.491576055660749"
       ]
      }
     ],
     "prompt_number": 78
    },
    {
     "cell_type": "code",
     "collapsed": false,
     "input": [
      "hyp_test(z, alpha=0.05, two_sided=False, rv=st.norm)"
     ],
     "language": "python",
     "metadata": {},
     "outputs": [
      {
       "output_type": "stream",
       "stream": "stdout",
       "text": [
        "Reject H0 at 95% CL with p = 4.72e-26\n"
       ]
      }
     ],
     "prompt_number": 79
    },
    {
     "cell_type": "code",
     "collapsed": false,
     "input": [],
     "language": "python",
     "metadata": {},
     "outputs": []
    }
   ],
   "metadata": {}
  }
 ]
}