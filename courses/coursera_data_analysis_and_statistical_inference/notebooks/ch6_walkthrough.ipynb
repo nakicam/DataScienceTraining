{
 "metadata": {
  "name": "ch6_walkthrough.ipynb"
 },
 "nbformat": 3,
 "nbformat_minor": 0,
 "worksheets": [
  {
   "cells": [
    {
     "cell_type": "markdown",
     "metadata": {},
     "source": [
      "# Ch6: Inference for Categorical Variables"
     ]
    },
    {
     "cell_type": "markdown",
     "metadata": {},
     "source": [
      "### Setup"
     ]
    },
    {
     "cell_type": "code",
     "collapsed": false,
     "input": [
      "# setup notebook\n",
      "import numpy as np\n",
      "import pandas as pd\n",
      "import matplotlib.pyplot as plt\n",
      "import scipy.stats as st\n",
      "from IPython.display import display, Math, Latex\n",
      "import os\n",
      "os.chdir('%s/courses/coursera_data_analysis_and_statistical_inference' % os.getenv('DST'))\n",
      "print(os.getcwd())\n",
      "\n",
      "np.set_printoptions(precision=4)\n",
      "plt.rc('figure', figsize=(10, 8))"
     ],
     "language": "python",
     "metadata": {},
     "outputs": [
      {
       "output_type": "stream",
       "stream": "stdout",
       "text": [
        "C:\\Users\\J28976\\Documents\\Development\\dst\\courses\\coursera_data_analysis_and_statistical_inference\n"
       ]
      }
     ],
     "prompt_number": 4
    },
    {
     "cell_type": "markdown",
     "metadata": {},
     "source": [
      "#### helper functions"
     ]
    },
    {
     "cell_type": "code",
     "collapsed": false,
     "input": [
      "def hyp_test(obs, alpha=0.05, two_sided=False, rv=st.norm):\n",
      "    obs = -1.0*abs(obs)\n",
      "    p = rv.cdf(obs)\n",
      "    if (two_sided):\n",
      "        p = 2*p\n",
      "    cl = 100*(1.0-alpha)\n",
      "    if (p < alpha):    \n",
      "        print(\"Reject H0 at %1.0f%% CL with p = %1.2e\" % (cl, p))\n",
      "    else:\n",
      "        print(\"Fail to reject H0 at %1.0f%% CL with p = %1.2e\" % (cl, p))"
     ],
     "language": "python",
     "metadata": {},
     "outputs": [],
     "prompt_number": 5
    },
    {
     "cell_type": "code",
     "collapsed": false,
     "input": [
      "def rv_star(cl, rv=st.norm):\n",
      "    return rv.ppf(0.5+cl/2.0)\n",
      "\n",
      "display(Latex(r\"$z^*_{95} = %1.2f$\" % rv_star(0.95)))\n",
      "display(Latex(r\"$z^*_{90} = %1.2f$\" % rv_star(0.90)))\n",
      "display(Latex(r\"$z^*_{99} = %1.2f$\" % rv_star(0.99)))"
     ],
     "language": "python",
     "metadata": {},
     "outputs": [
      {
       "latex": [
        "$z^*_{95} = 1.96$"
       ],
       "metadata": {},
       "output_type": "display_data",
       "text": [
        "<IPython.core.display.Latex at 0x9cf5048>"
       ]
      },
      {
       "latex": [
        "$z^*_{90} = 1.64$"
       ],
       "metadata": {},
       "output_type": "display_data",
       "text": [
        "<IPython.core.display.Latex at 0x9cf5048>"
       ]
      },
      {
       "latex": [
        "$z^*_{99} = 2.58$"
       ],
       "metadata": {},
       "output_type": "display_data",
       "text": [
        "<IPython.core.display.Latex at 0x9cf5048>"
       ]
      }
     ],
     "prompt_number": 6
    },
    {
     "cell_type": "markdown",
     "metadata": {},
     "source": [
      "### 6.1 Inference for a single proportion"
     ]
    },
    {
     "cell_type": "markdown",
     "metadata": {},
     "source": [
      "*conditions for the sampling distribution of $\\hat{p}$ behing nearly normal*\n",
      "\n",
      "When sampleing distribution for $\\hat{p} = \\frac{\\# success}{n}$ for a sample of size *n* from a population with a true proportion of $p$, is nearly normal when:\n",
      "\n",
      "* the sample observations are independent\n",
      "* we expect to see $n_{success} \\geq 10$ and $n_{failure} \\geq 10$\n",
      "\n",
      "If the above is met, then $\\hat{p} \\sim N(p, SE_{\\hat{p}})$ s.t.\n",
      "\\begin{align}\n",
      "    SE_{\\hat{p}} = \\sqrt{\\frac{p(1-p)}{n}}\n",
      "\\end{align}"
     ]
    },
    {
     "cell_type": "markdown",
     "metadata": {},
     "source": [
      "### example 6.3\n",
      "\n",
      "Construct a 95% Confidence Limit for supreme court approval data"
     ]
    },
    {
     "cell_type": "code",
     "collapsed": false,
     "input": [
      "phat = 0.44\n",
      "n    = 976\n",
      "se   = sqrt(phat*(1-phat)/n)\n",
      "(n, phat, se)"
     ],
     "language": "python",
     "metadata": {},
     "outputs": [
      {
       "metadata": {},
       "output_type": "pyout",
       "prompt_number": 7,
       "text": [
        "(976, 0.44, 0.015888958946181548)"
       ]
      }
     ],
     "prompt_number": 7
    },
    {
     "cell_type": "code",
     "collapsed": false,
     "input": [
      "zstar = rv_star(0.95)\n",
      "zstar"
     ],
     "language": "python",
     "metadata": {},
     "outputs": [
      {
       "metadata": {},
       "output_type": "pyout",
       "prompt_number": 8,
       "text": [
        "1.959963984540054"
       ]
      }
     ],
     "prompt_number": 8
    },
    {
     "cell_type": "code",
     "collapsed": false,
     "input": [
      "print(\"(%1.3f, %1.3f)\" % (phat - zstar*se, phat + zstar*se))"
     ],
     "language": "python",
     "metadata": {},
     "outputs": [
      {
       "output_type": "stream",
       "stream": "stdout",
       "text": [
        "(0.409, 0.471)\n"
       ]
      }
     ],
     "prompt_number": 9
    },
    {
     "cell_type": "markdown",
     "metadata": {},
     "source": [
      "#### hyp test\n",
      "\n",
      "* H0: p = 0.5\n",
      "* H1: p > 0.5"
     ]
    },
    {
     "cell_type": "code",
     "collapsed": false,
     "input": [
      "n    = 500\n",
      "p    = 0.50\n",
      "phat = 0.52\n",
      "se   = sqrt(p*(1-p)/n)\n",
      "z    = (phat - p)/se\n",
      "(z, se)"
     ],
     "language": "python",
     "metadata": {},
     "outputs": [
      {
       "metadata": {},
       "output_type": "pyout",
       "prompt_number": 10,
       "text": [
        "(0.89442719099991663, 0.022360679774997897)"
       ]
      }
     ],
     "prompt_number": 10
    },
    {
     "cell_type": "code",
     "collapsed": false,
     "input": [
      "hyp_test(z, alpha=0.05, two_sided=False, rv=st.norm)"
     ],
     "language": "python",
     "metadata": {},
     "outputs": [
      {
       "output_type": "stream",
       "stream": "stdout",
       "text": [
        "Fail to reject H0 at 95% CL with p = 1.86e-01\n"
       ]
      }
     ],
     "prompt_number": 12
    },
    {
     "cell_type": "markdown",
     "metadata": {},
     "source": [
      "#### choosing a sample size to estimate a proporition\n",
      "\n",
      "How large must the sample size *n* be in order to get your point estimate within the margin of error *m*?  For example, the *m* for a CL = 95% = $1.96 \\times SE$.\n",
      "\n",
      "In general:\n",
      "\n",
      "\\begin{align}\n",
      "    ME = z^* \\times SE \\leq m\n",
      "\\end{align}\n",
      "\n",
      "so for estimating the mean of proportions, we have\n",
      "\n",
      "\\begin{align}\n",
      "    ME = z^* \\times \\sqrt{\\frac{p(1-p)}{n}} \\leq m\n",
      "\\end{align}\n",
      "\n",
      "sovling for n gives us\n",
      "\n",
      "\\begin{align}\n",
      "    n \\geq \\frac{z^{*2}p(1-p)}{m^2}\n",
      "\\end{align}\n"
     ]
    },
    {
     "cell_type": "markdown",
     "metadata": {},
     "source": [
      "#### example 6.6\n",
      "\n",
      "Find the smallest n st. m = 0.4 on the point estimate of p, $\\hat{p} = 0.5$."
     ]
    },
    {
     "cell_type": "code",
     "collapsed": false,
     "input": [
      "m     = 0.04\n",
      "zstar = rv_star(0.95)\n",
      "phat  = 0.5\n",
      "n     = zstar**2*phat*(1-phat)/m**2\n",
      "np.ceil(n)"
     ],
     "language": "python",
     "metadata": {},
     "outputs": [
      {
       "metadata": {},
       "output_type": "pyout",
       "prompt_number": 17,
       "text": [
        "601.0"
       ]
      }
     ],
     "prompt_number": 17
    },
    {
     "cell_type": "markdown",
     "metadata": {},
     "source": [
      "so $n \\geq 601$ is required"
     ]
    },
    {
     "cell_type": "markdown",
     "metadata": {},
     "source": [
      "#### exercise 6.8"
     ]
    },
    {
     "cell_type": "code",
     "collapsed": false,
     "input": [
      "m     = 0.04\n",
      "zstar = rv_star(0.95)\n",
      "phat  = 0.17\n",
      "n     = zstar**2*phat*(1-phat)/m**2\n",
      "np.ceil(n)"
     ],
     "language": "python",
     "metadata": {},
     "outputs": [
      {
       "metadata": {},
       "output_type": "pyout",
       "prompt_number": 16,
       "text": [
        "339.0"
       ]
      }
     ],
     "prompt_number": 16
    },
    {
     "cell_type": "markdown",
     "metadata": {},
     "source": [
      "### 6.2 Difference of Proportions"
     ]
    },
    {
     "cell_type": "code",
     "collapsed": false,
     "input": [],
     "language": "python",
     "metadata": {},
     "outputs": []
    }
   ],
   "metadata": {}
  }
 ]
}