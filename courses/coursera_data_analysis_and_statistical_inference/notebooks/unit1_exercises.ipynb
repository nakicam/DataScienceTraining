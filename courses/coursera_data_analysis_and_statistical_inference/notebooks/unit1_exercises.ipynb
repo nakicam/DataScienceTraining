{
 "metadata": {
  "name": "unit1_exercises.ipynb"
 },
 "nbformat": 3,
 "nbformat_minor": 0,
 "worksheets": [
  {
   "cells": [
    {
     "cell_type": "heading",
     "level": 1,
     "metadata": {},
     "source": [
      "Unit 1 Suggested Exercises"
     ]
    },
    {
     "cell_type": "code",
     "collapsed": false,
     "input": [
      "# setup notebook\n",
      "import numpy as np\n",
      "import pandas as pd\n",
      "import matplotlib.pyplot as plt\n",
      "import os\n",
      "os.chdir('%s/courses/coursera_data_analysis_and_statistical_inference' % os.getenv('DST'))\n",
      "print(os.getcwd())\n",
      "\n",
      "np.set_printoptions(precision=4)\n",
      "plt.rc('figure', figsize=(10, 8))"
     ],
     "language": "python",
     "metadata": {},
     "outputs": [
      {
       "output_type": "stream",
       "stream": "stdout",
       "text": [
        "/Users/rwk7t/Development/dst/courses/coursera_data_analysis_and_statistical_inference\n"
       ]
      }
     ],
     "prompt_number": 1
    },
    {
     "cell_type": "heading",
     "level": 4,
     "metadata": {},
     "source": [
      "1.1 Migraine and acupuncture"
     ]
    },
    {
     "cell_type": "code",
     "collapsed": false,
     "input": [
      "df = pd.DataFrame(np.array([[10, 33],[2, 44]]), index=[\"treatment\", \"control\"], columns=[\"yes\", \"no\"])\n",
      "df"
     ],
     "language": "python",
     "metadata": {},
     "outputs": [
      {
       "html": [
        "<div style=\"max-height:1000px;max-width:1500px;overflow:auto;\">\n",
        "<table border=\"1\" class=\"dataframe\">\n",
        "  <thead>\n",
        "    <tr style=\"text-align: right;\">\n",
        "      <th></th>\n",
        "      <th>yes</th>\n",
        "      <th>no</th>\n",
        "    </tr>\n",
        "  </thead>\n",
        "  <tbody>\n",
        "    <tr>\n",
        "      <th>treatment</th>\n",
        "      <td> 10</td>\n",
        "      <td> 33</td>\n",
        "    </tr>\n",
        "    <tr>\n",
        "      <th>control</th>\n",
        "      <td>  2</td>\n",
        "      <td> 44</td>\n",
        "    </tr>\n",
        "  </tbody>\n",
        "</table>\n",
        "</div>"
       ],
       "metadata": {},
       "output_type": "pyout",
       "prompt_number": 2,
       "text": [
        "           yes  no\n",
        "treatment   10  33\n",
        "control      2  44"
       ]
      }
     ],
     "prompt_number": 2
    },
    {
     "cell_type": "code",
     "collapsed": false,
     "input": [
      "# part a\n",
      "print \"%2.1f%% pain free in 'treatment' group\" % (100.0*df.yes['treatment']/df.ix['treatment'].sum())\n",
      "print \"%2.1f%% pain free in 'control'   group\" % (100.0*df.yes['control'  ]/df.ix['control'  ].sum())"
     ],
     "language": "python",
     "metadata": {},
     "outputs": [
      {
       "output_type": "stream",
       "stream": "stdout",
       "text": [
        "23.3% pain free in 'treatment' group\n",
        "4.3% pain free in 'control'   group\n"
       ]
      }
     ],
     "prompt_number": 3
    },
    {
     "cell_type": "raw",
     "metadata": {},
     "source": [
      "# part b\n",
      "yes, the treatment group has a higher percentage of pain free\n",
      "\n",
      "# part c\n",
      "This is hard to say.  We need to do a more rigorous test -- hopefully we'll learn that."
     ]
    },
    {
     "cell_type": "heading",
     "level": 4,
     "metadata": {},
     "source": [
      "1.3 Indentify study components"
     ]
    },
    {
     "cell_type": "raw",
     "metadata": {},
     "source": [
      "# part a)\n",
      "(i) cases: 143,196 births (1989-1993)\n",
      "\n",
      "(ii) variables: CO, O_3, PM_10, gestation length (all continuous)\n",
      "\n",
      "(iii) relationsthip between exposure to pollutants gestation lengths? "
     ]
    },
    {
     "cell_type": "raw",
     "metadata": {},
     "source": [
      "# part b)\n",
      "(i) cases: 600 asthma patients aged 18-69 who used asthma meds\n",
      "\n",
      "(ii) variables: control and treament groups (categorical), quality of life, symptom, and meds (ordinal or discrete)\n",
      "\n",
      "(iii) is there a relationship between buteyko method and reduced asthma symptoms"
     ]
    },
    {
     "cell_type": "heading",
     "level": 4,
     "metadata": {},
     "source": [
      "1.7 Generlization and causality"
     ]
    },
    {
     "cell_type": "raw",
     "metadata": {},
     "source": [
      "a) \n",
      "population: all birth in socal\n",
      "sample: births from 1989-1993    \n",
      "can be generalized but not causality\n",
      "\n",
      "b)\n",
      "popluation: patients aged 18-69 who used asthma meds\n",
      "sample: 600 volunteers\n",
      "casality but not generalizable"
     ]
    },
    {
     "cell_type": "heading",
     "level": 4,
     "metadata": {},
     "source": [
      "1.15 Family size"
     ]
    },
    {
     "cell_type": "raw",
     "metadata": {},
     "source": [
      "yes, it will be biased because it depends on the location of the school and whether its private/public.  socio-economic factors are confounding the study.\n",
      "\n",
      "Another source of bias is that family with larger size will be picked more often."
     ]
    },
    {
     "cell_type": "heading",
     "level": 4,
     "metadata": {},
     "source": [
      "1.17 Reading the paper"
     ]
    },
    {
     "cell_type": "raw",
     "metadata": {},
     "source": [
      "part a) no -- observational study.  show's a correlation but not causation.\n",
      "part b) no -- observational study.  also, there are probably many confounding factors not considered."
     ]
    },
    {
     "cell_type": "heading",
     "level": 4,
     "metadata": {},
     "source": [
      "1.21 exercise and mental health"
     ]
    },
    {
     "cell_type": "raw",
     "metadata": {},
     "source": [
      "a) experiment\n",
      "b) exercise and no exercise groups\n",
      "c) yes -- blocking to account for age\n",
      "d) no\n",
      "e) yes, can determine casality.  it can be generalized to all 18-55 year olds but there may be a placebo.\n",
      "f) yes, you cannot tell people to exercise or not (ethical constraint)"
     ]
    },
    {
     "cell_type": "heading",
     "level": 4,
     "metadata": {},
     "source": [
      "1.27 Make-up exam"
     ]
    },
    {
     "cell_type": "raw",
     "metadata": {},
     "source": [
      "a) decrease"
     ]
    },
    {
     "cell_type": "code",
     "collapsed": false,
     "input": [
      "# b) new average\n",
      "(74*24 + 64)/25.0\n",
      "\n",
      "# decrease the average"
     ],
     "language": "python",
     "metadata": {},
     "outputs": [
      {
       "metadata": {},
       "output_type": "pyout",
       "prompt_number": 4,
       "text": [
        "73.6"
       ]
      }
     ],
     "prompt_number": 4
    },
    {
     "cell_type": "code",
     "collapsed": false,
     "input": [
      "# c) new sd\n",
      "sqrt((8.9*8.9 * (24+1) + (64-73.6)**2)/(25+1))\n",
      "\n",
      "# slight increase (or same if you ignore 2nd decimal place)"
     ],
     "language": "python",
     "metadata": {},
     "outputs": [
      {
       "metadata": {},
       "output_type": "pyout",
       "prompt_number": 5,
       "text": [
        "8.9279379995090089"
       ]
      }
     ],
     "prompt_number": 5
    },
    {
     "cell_type": "heading",
     "level": 4,
     "metadata": {},
     "source": [
      "1.39 histograms and box plots"
     ]
    },
    {
     "cell_type": "raw",
     "metadata": {},
     "source": [
      "bimodal"
     ]
    },
    {
     "cell_type": "heading",
     "level": 4,
     "metadata": {},
     "source": [
      "1.41 Robust statistics"
     ]
    },
    {
     "cell_type": "raw",
     "metadata": {},
     "source": [
      "a) median more robust.  the mean is not as robust in data with large outliers"
     ]
    },
    {
     "cell_type": "raw",
     "metadata": {},
     "source": [
      "b) IQR is more robust.  the SD is greatly affected by the two outliers"
     ]
    },
    {
     "cell_type": "heading",
     "level": 4,
     "metadata": {},
     "source": [
      "1.45 comminting time, part 2"
     ]
    },
    {
     "cell_type": "raw",
     "metadata": {},
     "source": [
      "a) evenly spread\n",
      "b) bigger cities tend to have higher commutes"
     ]
    },
    {
     "cell_type": "heading",
     "level": 4,
     "metadata": {},
     "source": [
      "1.49 Views on the dream act."
     ]
    },
    {
     "cell_type": "raw",
     "metadata": {},
     "source": [
      "difficult to determine -- possible dependence.  depends on spread."
     ]
    },
    {
     "cell_type": "heading",
     "level": 4,
     "metadata": {},
     "source": [
      "1.51 Side effect of Avandia, part 1"
     ]
    },
    {
     "cell_type": "code",
     "collapsed": false,
     "input": [],
     "language": "python",
     "metadata": {},
     "outputs": [],
     "prompt_number": 5
    },
    {
     "cell_type": "heading",
     "level": 4,
     "metadata": {},
     "source": [
      "1.53 Side effect of Avandia, part 2"
     ]
    },
    {
     "cell_type": "code",
     "collapsed": false,
     "input": [],
     "language": "python",
     "metadata": {},
     "outputs": [],
     "prompt_number": 5
    }
   ],
   "metadata": {}
  }
 ]
}