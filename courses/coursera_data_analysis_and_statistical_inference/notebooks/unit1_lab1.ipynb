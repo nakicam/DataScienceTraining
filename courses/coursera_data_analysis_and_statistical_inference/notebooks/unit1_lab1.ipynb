{
 "metadata": {
  "name": "unit1_lab1.ipynb"
 },
 "nbformat": 3,
 "nbformat_minor": 0,
 "worksheets": [
  {
   "cells": [
    {
     "cell_type": "heading",
     "level": 1,
     "metadata": {},
     "source": [
      "Unit 1 Lab 0"
     ]
    },
    {
     "cell_type": "code",
     "collapsed": false,
     "input": [
      "# setup notebook\n",
      "import numpy as np\n",
      "import pandas as pd\n",
      "import matplotlib.pyplot as plt\n",
      "import os\n",
      "os.chdir('%s/courses/coursera_data_analysis_and_statistical_inference' % os.getenv('DST'))\n",
      "print(os.getcwd())\n",
      "\n",
      "np.set_printoptions(precision=4)\n",
      "plt.rc('figure', figsize=(10, 8))"
     ],
     "language": "python",
     "metadata": {},
     "outputs": [
      {
       "output_type": "stream",
       "stream": "stdout",
       "text": [
        "/Users/rwk7t/Development/dst/courses/coursera_data_analysis_and_statistical_inference\n"
       ]
      }
     ],
     "prompt_number": 1
    },
    {
     "cell_type": "heading",
     "level": 2,
     "metadata": {},
     "source": [
      "Present Data"
     ]
    },
    {
     "cell_type": "code",
     "collapsed": false,
     "input": [
      "df = pd.read_csv('unit1/cdc.csv', index_col=0)\n",
      "df.ix[1]"
     ],
     "language": "python",
     "metadata": {},
     "outputs": [
      {
       "metadata": {},
       "output_type": "pyout",
       "prompt_number": 4,
       "text": [
        "genhlth     good\n",
        "exerany        0\n",
        "hlthplan       1\n",
        "smoke100       0\n",
        "height        70\n",
        "weight       175\n",
        "wtdesire     175\n",
        "age           77\n",
        "gender         m\n",
        "Name: 1, dtype: object"
       ]
      }
     ],
     "prompt_number": 4
    },
    {
     "cell_type": "code",
     "collapsed": false,
     "input": [
      "# Q1\n",
      "df.info()"
     ],
     "language": "python",
     "metadata": {},
     "outputs": [
      {
       "output_type": "stream",
       "stream": "stdout",
       "text": [
        "<class 'pandas.core.frame.DataFrame'>\n",
        "Int64Index: 20000 entries, 1 to 20000\n",
        "Data columns (total 9 columns):\n",
        "genhlth     20000 non-null object\n",
        "exerany     20000 non-null int64\n",
        "hlthplan    20000 non-null int64\n",
        "smoke100    20000 non-null int64\n",
        "height      20000 non-null int64\n",
        "weight      20000 non-null int64\n",
        "wtdesire    20000 non-null int64\n",
        "age         20000 non-null int64\n",
        "gender      20000 non-null object\n",
        "dtypes: int64(7), object(2)"
       ]
      }
     ],
     "prompt_number": 5
    },
    {
     "cell_type": "code",
     "collapsed": false,
     "input": [
      "# Q2 -4\n",
      "df.head()"
     ],
     "language": "python",
     "metadata": {},
     "outputs": [
      {
       "html": [
        "<div style=\"max-height:1000px;max-width:1500px;overflow:auto;\">\n",
        "<table border=\"1\" class=\"dataframe\">\n",
        "  <thead>\n",
        "    <tr style=\"text-align: right;\">\n",
        "      <th></th>\n",
        "      <th>genhlth</th>\n",
        "      <th>exerany</th>\n",
        "      <th>hlthplan</th>\n",
        "      <th>smoke100</th>\n",
        "      <th>height</th>\n",
        "      <th>weight</th>\n",
        "      <th>wtdesire</th>\n",
        "      <th>age</th>\n",
        "      <th>gender</th>\n",
        "    </tr>\n",
        "    <tr>\n",
        "      <th>index</th>\n",
        "      <th></th>\n",
        "      <th></th>\n",
        "      <th></th>\n",
        "      <th></th>\n",
        "      <th></th>\n",
        "      <th></th>\n",
        "      <th></th>\n",
        "      <th></th>\n",
        "      <th></th>\n",
        "    </tr>\n",
        "  </thead>\n",
        "  <tbody>\n",
        "    <tr>\n",
        "      <th>1</th>\n",
        "      <td>      good</td>\n",
        "      <td> 0</td>\n",
        "      <td> 1</td>\n",
        "      <td> 0</td>\n",
        "      <td> 70</td>\n",
        "      <td> 175</td>\n",
        "      <td> 175</td>\n",
        "      <td> 77</td>\n",
        "      <td> m</td>\n",
        "    </tr>\n",
        "    <tr>\n",
        "      <th>2</th>\n",
        "      <td>      good</td>\n",
        "      <td> 0</td>\n",
        "      <td> 1</td>\n",
        "      <td> 1</td>\n",
        "      <td> 64</td>\n",
        "      <td> 125</td>\n",
        "      <td> 115</td>\n",
        "      <td> 33</td>\n",
        "      <td> f</td>\n",
        "    </tr>\n",
        "    <tr>\n",
        "      <th>3</th>\n",
        "      <td>      good</td>\n",
        "      <td> 1</td>\n",
        "      <td> 1</td>\n",
        "      <td> 1</td>\n",
        "      <td> 60</td>\n",
        "      <td> 105</td>\n",
        "      <td> 105</td>\n",
        "      <td> 49</td>\n",
        "      <td> f</td>\n",
        "    </tr>\n",
        "    <tr>\n",
        "      <th>4</th>\n",
        "      <td>      good</td>\n",
        "      <td> 1</td>\n",
        "      <td> 1</td>\n",
        "      <td> 0</td>\n",
        "      <td> 66</td>\n",
        "      <td> 132</td>\n",
        "      <td> 124</td>\n",
        "      <td> 42</td>\n",
        "      <td> f</td>\n",
        "    </tr>\n",
        "    <tr>\n",
        "      <th>5</th>\n",
        "      <td> very good</td>\n",
        "      <td> 0</td>\n",
        "      <td> 1</td>\n",
        "      <td> 0</td>\n",
        "      <td> 61</td>\n",
        "      <td> 150</td>\n",
        "      <td> 130</td>\n",
        "      <td> 55</td>\n",
        "      <td> f</td>\n",
        "    </tr>\n",
        "  </tbody>\n",
        "</table>\n",
        "</div>"
       ],
       "metadata": {},
       "output_type": "pyout",
       "prompt_number": 6,
       "text": [
        "         genhlth  exerany  hlthplan  smoke100  height  weight  wtdesire  age  \\\n",
        "index                                                                          \n",
        "1           good        0         1         0      70     175       175   77   \n",
        "2           good        0         1         1      64     125       115   33   \n",
        "3           good        1         1         1      60     105       105   49   \n",
        "4           good        1         1         0      66     132       124   42   \n",
        "5      very good        0         1         0      61     150       130   55   \n",
        "\n",
        "      gender  \n",
        "index         \n",
        "1          m  \n",
        "2          f  \n",
        "3          f  \n",
        "4          f  \n",
        "5          f  "
       ]
      }
     ],
     "prompt_number": 6
    },
    {
     "cell_type": "code",
     "collapsed": false,
     "input": [
      "df.weight.describe()"
     ],
     "language": "python",
     "metadata": {},
     "outputs": [
      {
       "metadata": {},
       "output_type": "pyout",
       "prompt_number": 7,
       "text": [
        "count    20000.00000\n",
        "mean       169.68295\n",
        "std         40.08097\n",
        "min         68.00000\n",
        "25%        140.00000\n",
        "50%        165.00000\n",
        "75%        190.00000\n",
        "max        500.00000\n",
        "dtype: float64"
       ]
      }
     ],
     "prompt_number": 7
    },
    {
     "cell_type": "code",
     "collapsed": false,
     "input": [
      "df.weight.mean()"
     ],
     "language": "python",
     "metadata": {},
     "outputs": [
      {
       "metadata": {},
       "output_type": "pyout",
       "prompt_number": 8,
       "text": [
        "169.68295000000001"
       ]
      }
     ],
     "prompt_number": 8
    },
    {
     "cell_type": "code",
     "collapsed": false,
     "input": [
      "df.weight.std()"
     ],
     "language": "python",
     "metadata": {},
     "outputs": [
      {
       "metadata": {},
       "output_type": "pyout",
       "prompt_number": 9,
       "text": [
        "40.080969967120012"
       ]
      }
     ],
     "prompt_number": 9
    },
    {
     "cell_type": "code",
     "collapsed": false,
     "input": [
      "df.weight.var()"
     ],
     "language": "python",
     "metadata": {},
     "outputs": [
      {
       "metadata": {},
       "output_type": "pyout",
       "prompt_number": 10,
       "text": [
        "1606.4841535051762"
       ]
      }
     ],
     "prompt_number": 10
    },
    {
     "cell_type": "code",
     "collapsed": false,
     "input": [
      "df.weight.median()"
     ],
     "language": "python",
     "metadata": {},
     "outputs": [
      {
       "metadata": {},
       "output_type": "pyout",
       "prompt_number": 11,
       "text": [
        "165.0"
       ]
      }
     ],
     "prompt_number": 11
    },
    {
     "cell_type": "code",
     "collapsed": false,
     "input": [
      "vc = df.genhlth.value_counts(normalize=True)\n",
      "vc.plot(kind='bar')\n",
      "print(vc)\n",
      "print(vc.sum())"
     ],
     "language": "python",
     "metadata": {},
     "outputs": [
      {
       "output_type": "stream",
       "stream": "stdout",
       "text": [
        "very good    0.34860\n",
        "good         0.28375\n",
        "excellent    0.23285\n",
        "fair         0.10095\n",
        "poor         0.03385\n",
        "dtype: float64\n",
        "1.0\n"
       ]
      },
      {
       "metadata": {},
       "output_type": "display_data",
       "png": "[encoded data removed]",
       "text": [
        "<matplotlib.figure.Figure at 0x10eab3a10>"
       ]
      }
     ],
     "prompt_number": 12
    }
   ],
   "metadata": {}
  }
 ]
}