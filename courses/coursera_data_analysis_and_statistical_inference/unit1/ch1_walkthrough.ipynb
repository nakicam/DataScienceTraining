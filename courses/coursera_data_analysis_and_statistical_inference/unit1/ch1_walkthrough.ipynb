{
 "metadata": {
  "name": "ch1_walkthrough.ipynb"
 },
 "nbformat": 3,
 "nbformat_minor": 0,
 "worksheets": [
  {
   "cells": [
    {
     "cell_type": "heading",
     "level": 1,
     "metadata": {},
     "source": [
      "Open Intro Stats -- Chapter 1: Intro to data"
     ]
    },
    {
     "cell_type": "code",
     "collapsed": false,
     "input": [
      "# setup notebook\n",
      "import os\n",
      "os.chdir('%s\\Documents\\courses\\stats_course' % os.getenv('HOME'))\n",
      "os.getcwd()"
     ],
     "language": "python",
     "metadata": {},
     "outputs": [
      {
       "metadata": {},
       "output_type": "pyout",
       "prompt_number": 6,
       "text": [
        "'C:\\\\Users\\\\J28976\\\\Documents\\\\courses\\\\stats_course'"
       ]
      }
     ],
     "prompt_number": 6
    },
    {
     "cell_type": "code",
     "collapsed": false,
     "input": [
      "import numpy as np\n",
      "import pandas as pd\n",
      "import matplotlib.pyplot as plt"
     ],
     "language": "python",
     "metadata": {},
     "outputs": [],
     "prompt_number": 7
    },
    {
     "cell_type": "heading",
     "level": 3,
     "metadata": {},
     "source": [
      "1.1 Case study"
     ]
    },
    {
     "cell_type": "code",
     "collapsed": false,
     "input": [
      "# ex 1.1\n",
      "n_treat = 224.0\n",
      "n_stroke = 45.0\n",
      "print \"percentage patients who stroke within first year = %1.0f%%\" % (100.0*(n_stroke/n_treat))\n"
     ],
     "language": "python",
     "metadata": {},
     "outputs": [
      {
       "output_type": "stream",
       "stream": "stdout",
       "text": [
        "percentage patients who stroke within first year = 20%\n"
       ]
      }
     ],
     "prompt_number": 8
    },
    {
     "cell_type": "heading",
     "level": 3,
     "metadata": {},
     "source": [
      "1.2: Data Basics"
     ]
    },
    {
     "cell_type": "code",
     "collapsed": false,
     "input": [
      "# table 1.3\n",
      "df = pd.read_table('data\\email50.txt')\n",
      "df = df.drop([u'to_multiple', u'from', u'cc', u'sent_email', u'time', u'image', u'attach', u'dollar', u'winner', u'inherit', u'viagra', u'password', u're_subj', u'exclaim_subj', u'urgent_subj', u'exclaim_mess'], axis=1) \n",
      "print df[0:3]\n",
      "print df[49:]"
     ],
     "language": "python",
     "metadata": {},
     "outputs": [
      {
       "output_type": "stream",
       "stream": "stdout",
       "text": [
        "   spam  num_char  line_breaks  format number\n",
        "0     0    21.705          551       1  small\n",
        "1     0     7.011          183       1    big\n",
        "2     1     0.631           28       0   none\n",
        "    spam  num_char  line_breaks  format number\n",
        "49     0    15.829          242       1  small\n"
       ]
      }
     ],
     "prompt_number": 9
    },
    {
     "cell_type": "code",
     "collapsed": false,
     "input": [
      "# ex 1.2\n",
      "df = pd.DataFrame(columns=['name', 'state', 'pop2000', 'pop2010'])\n",
      "df"
     ],
     "language": "python",
     "metadata": {},
     "outputs": [
      {
       "html": [
        "<div style=\"max-height:1000px;max-width:1500px;overflow:auto;\">\n",
        "<table border=\"1\" class=\"dataframe\">\n",
        "  <thead>\n",
        "    <tr style=\"text-align: right;\">\n",
        "      <th></th>\n",
        "      <th>name</th>\n",
        "      <th>state</th>\n",
        "      <th>pop2000</th>\n",
        "      <th>pop2010</th>\n",
        "    </tr>\n",
        "  </thead>\n",
        "  <tbody>\n",
        "  </tbody>\n",
        "</table>\n",
        "</div>"
       ],
       "metadata": {},
       "output_type": "pyout",
       "prompt_number": 10,
       "text": [
        "Empty DataFrame\n",
        "Columns: [name, state, pop2000, pop2010]\n",
        "Index: []"
       ]
      }
     ],
     "prompt_number": 10
    },
    {
     "cell_type": "raw",
     "metadata": {},
     "source": [
      "df.plot(frame=None, x=None, y=None, subplots=False, sharex=True, sharey=False, use_index=True, figsize=None, grid=None, legend=True, rot=None, ax=None, style=None, title=None, xlim=None, ylim=None, logx=False, logy=False, xticks=None, yticks=None, kind='line', sort_columns=False, fontsize=None, secondary_y=False, **kwds)\n",
      "Make line, bar, or scatter plots of DataFrame series with the index on the x-axis\n",
      "using matplotlib / pylab."
     ]
    },
    {
     "cell_type": "code",
     "collapsed": false,
     "input": [
      "## figure 1.8\n",
      "df = pd.read_table('data\\county.txt')\n",
      "print df.columns\n",
      "fig, ax = plt.subplots()\n",
      "ax.scatter(df['poverty'], df['fed_spend'], s=2, color='b')\n",
      "ax.set_xlim([-2, 55]); ax.set_xlabel('Poverty Rate (%)')\n",
      "ax.set_ylim([-1, 32]); ax.set_ylabel('Federal Spending per Capita')\n",
      "plt.show()"
     ],
     "language": "python",
     "metadata": {},
     "outputs": [
      {
       "output_type": "stream",
       "stream": "stdout",
       "text": [
        "Index([u'name', u'state', u'pop2000', u'pop2010', u'fed_spend', u'poverty', u'homeownership', u'multiunit', u'income', u'med_income'], dtype='object')\n"
       ]
      },
      {
       "metadata": {},
       "output_type": "display_data",
       "png": "[encoded data removed]",
       "text": [
        "<matplotlib.figure.Figure at 0x949e6a0>"
       ]
      }
     ],
     "prompt_number": 11
    },
    {
     "cell_type": "code",
     "collapsed": false,
     "input": [
      "ax = df.plot(kind='scatter', color='b', s=2,\n",
      "              x='poverty'  , xlim=[-2,55], \n",
      "              y='fed_spend', ylim=[-1,32]\n",
      "            )\n",
      "ax.set_xlabel('Poverty Rate (%)')\n",
      "ax.set_ylabel('Federal Spending per Capita')"
     ],
     "language": "python",
     "metadata": {},
     "outputs": [
      {
       "metadata": {},
       "output_type": "pyout",
       "prompt_number": 12,
       "text": [
        "<matplotlib.text.Text at 0x9495550>"
       ]
      },
      {
       "metadata": {},
       "output_type": "display_data",
       "png": "[encoded data removed]",
       "text": [
        "<matplotlib.figure.Figure at 0x95662e8>"
       ]
      }
     ],
     "prompt_number": 12
    },
    {
     "cell_type": "code",
     "collapsed": false,
     "input": [
      "ax = df.plot(kind='scatter', color='b', s=2,\n",
      "              x='multiunit'  , xlim=[-2,100], \n",
      "              y='homeownership', ylim=[-2,100]\n",
      "            )\n",
      "ax.set_xlabel('Mulit-Unit structures (%)')\n",
      "ax.set_ylabel('Home ownership (%)')"
     ],
     "language": "python",
     "metadata": {},
     "outputs": [
      {
       "metadata": {},
       "output_type": "pyout",
       "prompt_number": 13,
       "text": [
        "<matplotlib.text.Text at 0x986fc18>"
       ]
      },
      {
       "metadata": {},
       "output_type": "display_data",
       "png": "[encoded data removed]",
       "text": [
        "<matplotlib.figure.Figure at 0x987b128>"
       ]
      }
     ],
     "prompt_number": 13
    },
    {
     "cell_type": "heading",
     "level": 3,
     "metadata": {},
     "source": [
      "1.6 Examining numerical data"
     ]
    },
    {
     "cell_type": "code",
     "collapsed": false,
     "input": [
      "%reset\n",
      "import numpy as np\n",
      "import pandas as pd\n",
      "import matplotlib.pyplot as plt"
     ],
     "language": "python",
     "metadata": {},
     "outputs": [
      {
       "name": "stdout",
       "output_type": "stream",
       "stream": "stdout",
       "text": [
        "Once deleted, variables cannot be recovered. Proceed (y/[n])? y\n"
       ]
      }
     ],
     "prompt_number": 14
    },
    {
     "cell_type": "code",
     "collapsed": false,
     "input": [
      "df_county = pd.read_table('data\\county.txt')\n",
      "print df_county.head()\n",
      "df_email  = pd.read_table('data\\email50.txt')\n",
      "print df_email.head()"
     ],
     "language": "python",
     "metadata": {},
     "outputs": [
      {
       "output_type": "stream",
       "stream": "stdout",
       "text": [
        "             name    state  pop2000  pop2010  fed_spend  poverty  \\\n",
        "0  Autauga County  Alabama    43671    54571   6.068095     10.6   \n",
        "1  Baldwin County  Alabama   140415   182265   6.139862     12.2   \n",
        "2  Barbour County  Alabama    29038    27457   8.752158     25.0   \n",
        "3     Bibb County  Alabama    20826    22915   7.122016     12.6   \n",
        "4   Blount County  Alabama    51024    57322   5.130910     13.4   \n",
        "\n",
        "   homeownership  multiunit  income  med_income  \n",
        "0           77.5        7.2   24568       53255  \n",
        "1           76.7       22.6   26469       50147  \n",
        "2           68.0       11.1   15875       33219  \n",
        "3           82.9        6.6   19918       41770  \n",
        "4           82.0        3.7   21070       45549  \n",
        "   spam  to_multiple  from  cc  sent_email                 time  image  \\\n",
        "0     0            0     1   0           1  2012-01-04 05:19:16      0   \n",
        "1     0            0     1   0           0  2012-02-16 12:10:06      0   \n",
        "2     1            0     1   4           0  2012-01-04 07:36:23      0   \n",
        "3     0            0     1   0           0  2012-01-04 09:49:52      0   \n",
        "4     0            0     1   0           0  2012-01-27 01:34:45      0   \n",
        "\n",
        "   attach  dollar winner  ...    viagra  password  num_char  line_breaks  \\\n",
        "0       0       0     no  ...         0         0    21.705          551   \n",
        "1       0       0     no  ...         0         0     7.011          183   \n",
        "2       2       0     no  ...         0         0     0.631           28   \n",
        "3       0       0     no  ...         0         0     2.454           61   \n",
        "4       0       9     no  ...         0         1    41.623         1088   \n",
        "\n",
        "   format  re_subj  exclaim_subj  urgent_subj  exclaim_mess  number  \n",
        "0       1        1             0            0             8   small  \n",
        "1       1        0             0            0             1     big  \n",
        "2       0        0             0            0             2    none  \n",
        "3       0        0             0            0             1   small  \n",
        "4       1        0             0            0            43   small  \n",
        "\n",
        "[5 rows x 21 columns]\n"
       ]
      }
     ],
     "prompt_number": 15
    },
    {
     "cell_type": "code",
     "collapsed": false,
     "input": [
      "df_email.columns"
     ],
     "language": "python",
     "metadata": {},
     "outputs": [
      {
       "metadata": {},
       "output_type": "pyout",
       "prompt_number": 16,
       "text": [
        "Index([u'spam', u'to_multiple', u'from', u'cc', u'sent_email', u'time', u'image', u'attach', u'dollar', u'winner', u'inherit', u'viagra', u'password', u'num_char', u'line_breaks', u'format', u're_subj', u'exclaim_subj', u'urgent_subj', u'exclaim_mess', u'number'], dtype='object')"
       ]
      }
     ],
     "prompt_number": 16
    },
    {
     "cell_type": "code",
     "collapsed": false,
     "input": [
      "p = df_email.plot(kind='scatter', x='num_char', y='line_breaks')\n",
      "p.set_xlabel('# of characters (in thousands)')\n",
      "p.set_ylabel('# of lines')\n"
     ],
     "language": "python",
     "metadata": {},
     "outputs": [
      {
       "metadata": {},
       "output_type": "pyout",
       "prompt_number": 17,
       "text": [
        "<matplotlib.text.Text at 0x9867438>"
       ]
      },
      {
       "metadata": {},
       "output_type": "display_data",
       "png": "[encoded data removed]",
       "text": [
        "<matplotlib.figure.Figure at 0x955d320>"
       ]
      }
     ],
     "prompt_number": 17
    },
    {
     "cell_type": "code",
     "collapsed": false,
     "input": [
      "600/20.0"
     ],
     "language": "python",
     "metadata": {},
     "outputs": [
      {
       "metadata": {},
       "output_type": "pyout",
       "prompt_number": 18,
       "text": [
        "30.0"
       ]
      }
     ],
     "prompt_number": 18
    },
    {
     "cell_type": "code",
     "collapsed": false,
     "input": [
      "df_cars = pd.read_table('data\\cars.txt')\n",
      "df_cars.head()"
     ],
     "language": "python",
     "metadata": {},
     "outputs": [
      {
       "html": [
        "<div style=\"max-height:1000px;max-width:1500px;overflow:auto;\">\n",
        "<table border=\"1\" class=\"dataframe\">\n",
        "  <thead>\n",
        "    <tr style=\"text-align: right;\">\n",
        "      <th></th>\n",
        "      <th>type</th>\n",
        "      <th>price</th>\n",
        "      <th>mpgCity</th>\n",
        "      <th>driveTrain</th>\n",
        "      <th>passengers</th>\n",
        "      <th>weight</th>\n",
        "    </tr>\n",
        "  </thead>\n",
        "  <tbody>\n",
        "    <tr>\n",
        "      <th>0</th>\n",
        "      <td>   small</td>\n",
        "      <td> 15.9</td>\n",
        "      <td> 25</td>\n",
        "      <td> front</td>\n",
        "      <td> 5</td>\n",
        "      <td> 2705</td>\n",
        "    </tr>\n",
        "    <tr>\n",
        "      <th>1</th>\n",
        "      <td> midsize</td>\n",
        "      <td> 33.9</td>\n",
        "      <td> 18</td>\n",
        "      <td> front</td>\n",
        "      <td> 5</td>\n",
        "      <td> 3560</td>\n",
        "    </tr>\n",
        "    <tr>\n",
        "      <th>2</th>\n",
        "      <td> midsize</td>\n",
        "      <td> 37.7</td>\n",
        "      <td> 19</td>\n",
        "      <td> front</td>\n",
        "      <td> 6</td>\n",
        "      <td> 3405</td>\n",
        "    </tr>\n",
        "    <tr>\n",
        "      <th>3</th>\n",
        "      <td> midsize</td>\n",
        "      <td> 30.0</td>\n",
        "      <td> 22</td>\n",
        "      <td>  rear</td>\n",
        "      <td> 4</td>\n",
        "      <td> 3640</td>\n",
        "    </tr>\n",
        "    <tr>\n",
        "      <th>4</th>\n",
        "      <td> midsize</td>\n",
        "      <td> 15.7</td>\n",
        "      <td> 22</td>\n",
        "      <td> front</td>\n",
        "      <td> 6</td>\n",
        "      <td> 2880</td>\n",
        "    </tr>\n",
        "  </tbody>\n",
        "</table>\n",
        "</div>"
       ],
       "metadata": {},
       "output_type": "pyout",
       "prompt_number": 19,
       "text": [
        "      type  price  mpgCity driveTrain  passengers  weight\n",
        "0    small   15.9       25      front           5    2705\n",
        "1  midsize   33.9       18      front           5    3560\n",
        "2  midsize   37.7       19      front           6    3405\n",
        "3  midsize   30.0       22       rear           4    3640\n",
        "4  midsize   15.7       22      front           6    2880"
       ]
      }
     ],
     "prompt_number": 19
    },
    {
     "cell_type": "code",
     "collapsed": false,
     "input": [
      "p = df_cars.plot(kind='scatter', x='weight', y='price')"
     ],
     "language": "python",
     "metadata": {},
     "outputs": [
      {
       "metadata": {},
       "output_type": "display_data",
       "png": "[encoded data removed]",
       "text": [
        "<matplotlib.figure.Figure at 0x9876400>"
       ]
      }
     ],
     "prompt_number": 20
    },
    {
     "cell_type": "code",
     "collapsed": false,
     "input": [
      "import os\n",
      "df_cars = pd.read_table('%s\\Documents\\courses\\stats_course\\data\\cars.txt'% os.getenv('HOME'))\n",
      "p = df_cars.plot(kind='scatter', x='weight', y='price')"
     ],
     "language": "python",
     "metadata": {},
     "outputs": [
      {
       "metadata": {},
       "output_type": "display_data",
       "png": "[encoded data removed]",
       "text": [
        "<matplotlib.figure.Figure at 0x9b25898>"
       ]
      }
     ],
     "prompt_number": 23
    },
    {
     "cell_type": "code",
     "collapsed": false,
     "input": [
      "# perform fit\n",
      "coeff = np.polyfit(df_cars.weight, df_cars.price, 2)\n",
      "poly  = np.poly1d(coeff)\n",
      "\n",
      "# generate fitted points\n",
      "x_fit = np.linspace(1500, 4500, 100)\n",
      "y_fit = poly(x_fit)\n",
      "\n",
      "# visualize\n",
      "fig = plt.figure(1)\n",
      "fig.clf()\n",
      "ax = fig.add_subplot(1,1,1)\n",
      "ax.plot( df_cars.weight, df_cars.price, 'b. ', markersize = 10)\n",
      "ax.plot(x_fit, y_fit, 'r', lw = 2)\n",
      "ax.set_xlabel('Weight [lb]', fontsize = 20)\n",
      "ax.set_ylabel('Price [$]', fontsize = 20)"
     ],
     "language": "python",
     "metadata": {},
     "outputs": [
      {
       "metadata": {},
       "output_type": "pyout",
       "prompt_number": 24,
       "text": [
        "<matplotlib.text.Text at 0x9cfbbe0>"
       ]
      },
      {
       "metadata": {},
       "output_type": "display_data",
       "png": "[encoded data removed]",
       "text": [
        "<matplotlib.figure.Figure at 0x99fe0b8>"
       ]
      }
     ],
     "prompt_number": 24
    },
    {
     "cell_type": "code",
     "collapsed": false,
     "input": [
      "y = np.zeros_like(df_email.num_char)\n",
      "ax = plt.plot(df_email.num_char, y, 'bo')\n",
      "plt.show()"
     ],
     "language": "python",
     "metadata": {},
     "outputs": [
      {
       "metadata": {},
       "output_type": "display_data",
       "png": "[encoded data removed]",
       "text": [
        "<matplotlib.figure.Figure at 0x9a20400>"
       ]
      }
     ],
     "prompt_number": 25
    },
    {
     "cell_type": "code",
     "collapsed": false,
     "input": [
      "# by hand\n",
      "x = df_email.num_char\n",
      "x_bar = x.sum()/x.size\n",
      "print x_bar\n",
      "\n",
      "# build in\n",
      "print x.mean()"
     ],
     "language": "python",
     "metadata": {},
     "outputs": [
      {
       "output_type": "stream",
       "stream": "stdout",
       "text": [
        "11.59822\n",
        "11.59822\n"
       ]
      }
     ],
     "prompt_number": 26
    },
    {
     "cell_type": "code",
     "collapsed": false,
     "input": [
      "# weighted mean\n",
      "income = (df_county.income * df_county.pop2010).sum()\n",
      "pop    = float(df_county.pop2010.sum())\n",
      "avg_income = income/pop\n",
      "print \"%1.2f\" % avg_income\n",
      "\n",
      "# niiave mean\n",
      "print \"%1.2f\" % df_county.income.mean()"
     ],
     "language": "python",
     "metadata": {},
     "outputs": [
      {
       "output_type": "stream",
       "stream": "stdout",
       "text": [
        "27348.43\n",
        "22504.70\n"
       ]
      }
     ],
     "prompt_number": 27
    },
    {
     "cell_type": "code",
     "collapsed": false,
     "input": [
      "df_email.num_char.hist(bins=13)"
     ],
     "language": "python",
     "metadata": {},
     "outputs": [
      {
       "metadata": {},
       "output_type": "pyout",
       "prompt_number": 28,
       "text": [
        "<matplotlib.axes._subplots.AxesSubplot at 0x9cfbe10>"
       ]
      },
      {
       "metadata": {},
       "output_type": "display_data",
       "png": "[encoded data removed]",
       "text": [
        "<matplotlib.figure.Figure at 0x9b27f60>"
       ]
      }
     ],
     "prompt_number": 28
    },
    {
     "cell_type": "code",
     "collapsed": false,
     "input": [
      "# deviations\n",
      "dev = df_email.num_char - df_email.num_char.mean()\n",
      "for (i, d) in enumerate(dev):\n",
      "    print \"x_%-2d - xbar = %3.1f - %3.1f = %-3.1f\" % (i, df_email.num_char[i], df_email.num_char.mean(), d)"
     ],
     "language": "python",
     "metadata": {},
     "outputs": [
      {
       "output_type": "stream",
       "stream": "stdout",
       "text": [
        "x_0  - xbar = 21.7 - 11.6 = 10.1\n",
        "x_1  - xbar = 7.0 - 11.6 = -4.6\n",
        "x_2  - xbar = 0.6 - 11.6 = -11.0\n",
        "x_3  - xbar = 2.5 - 11.6 = -9.1\n",
        "x_4  - xbar = 41.6 - 11.6 = 30.0\n",
        "x_5  - xbar = 0.1 - 11.6 = -11.5\n",
        "x_6  - xbar = 0.8 - 11.6 = -10.8\n",
        "x_7  - xbar = 5.2 - 11.6 = -6.4\n",
        "x_8  - xbar = 9.3 - 11.6 = -2.3\n",
        "x_9  - xbar = 17.2 - 11.6 = 5.6\n",
        "x_10 - xbar = 64.4 - 11.6 = 52.8\n",
        "x_11 - xbar = 10.4 - 11.6 = -1.2\n",
        "x_12 - xbar = 42.8 - 11.6 = 31.2\n",
        "x_13 - xbar = 0.5 - 11.6 = -11.1\n",
        "x_14 - xbar = 29.2 - 11.6 = 17.6\n",
        "x_15 - xbar = 9.8 - 11.6 = -1.8\n",
        "x_16 - xbar = 2.1 - 11.6 = -9.5\n",
        "x_17 - xbar = 0.1 - 11.6 = -11.5\n",
        "x_18 - xbar = 4.9 - 11.6 = -6.7\n",
        "x_19 - xbar = 11.5 - 11.6 = -0.1\n",
        "x_20 - xbar = 5.7 - 11.6 = -5.9\n",
        "x_21 - xbar = 6.8 - 11.6 = -4.8\n",
        "x_22 - xbar = 0.1 - 11.6 = -11.5\n",
        "x_23 - xbar = 3.1 - 11.6 = -8.5\n",
        "x_24 - xbar = 26.5 - 11.6 = 14.9\n",
        "x_25 - xbar = 26.3 - 11.6 = 14.7\n",
        "x_26 - xbar = 5.3 - 11.6 = -6.3\n",
        "x_27 - xbar = 2.8 - 11.6 = -8.8\n",
        "x_28 - xbar = 5.9 - 11.6 = -5.7\n",
        "x_29 - xbar = 9.9 - 11.6 = -1.7\n",
        "x_30 - xbar = 25.2 - 11.6 = 13.6\n",
        "x_31 - xbar = 6.6 - 11.6 = -5.0\n",
        "x_32 - xbar = 24.6 - 11.6 = 13.0\n",
        "x_33 - xbar = 25.8 - 11.6 = 14.2\n",
        "x_34 - xbar = 0.4 - 11.6 = -11.2\n",
        "x_35 - xbar = 11.2 - 11.6 = -0.4\n",
        "x_36 - xbar = 3.8 - 11.6 = -7.8\n",
        "x_37 - xbar = 1.5 - 11.6 = -10.1\n",
        "x_38 - xbar = 10.6 - 11.6 = -1.0\n",
        "x_39 - xbar = 0.5 - 11.6 = -11.1\n",
        "x_40 - xbar = 4.4 - 11.6 = -7.2\n",
        "x_41 - xbar = 14.2 - 11.6 = 2.6\n",
        "x_42 - xbar = 9.5 - 11.6 = -2.1\n",
        "x_43 - xbar = 24.8 - 11.6 = 13.2\n",
        "x_44 - xbar = 0.7 - 11.6 = -10.9\n",
        "x_45 - xbar = 13.5 - 11.6 = 1.9\n",
        "x_46 - xbar = 2.8 - 11.6 = -8.8\n",
        "x_47 - xbar = 1.2 - 11.6 = -10.4\n",
        "x_48 - xbar = 8.9 - 11.6 = -2.7\n",
        "x_49 - xbar = 15.8 - 11.6 = 4.2\n"
       ]
      }
     ],
     "prompt_number": 29
    },
    {
     "cell_type": "code",
     "collapsed": false,
     "input": [
      "df_email.num_char.var()"
     ],
     "language": "python",
     "metadata": {},
     "outputs": [
      {
       "metadata": {},
       "output_type": "pyout",
       "prompt_number": 30,
       "text": [
        "172.27247719551036"
       ]
      }
     ],
     "prompt_number": 30
    },
    {
     "cell_type": "code",
     "collapsed": false,
     "input": [
      "df_email.num_char.std()"
     ],
     "language": "python",
     "metadata": {},
     "outputs": [
      {
       "metadata": {},
       "output_type": "pyout",
       "prompt_number": 31,
       "text": [
        "13.125261033423692"
       ]
      }
     ],
     "prompt_number": 31
    },
    {
     "cell_type": "code",
     "collapsed": false,
     "input": [
      "plt.figure\n",
      "plt.boxplot(df_email.num_char, False, 'gD')"
     ],
     "language": "python",
     "metadata": {},
     "outputs": [
      {
       "metadata": {},
       "output_type": "pyout",
       "prompt_number": 32,
       "text": [
        "{'boxes': [<matplotlib.lines.Line2D at 0xa0c35f8>],\n",
        " 'caps': [<matplotlib.lines.Line2D at 0xa0c72b0>,\n",
        "  <matplotlib.lines.Line2D at 0xa0c7828>],\n",
        " 'fliers': [<matplotlib.lines.Line2D at 0xa0c9358>],\n",
        " 'means': [],\n",
        " 'medians': [<matplotlib.lines.Line2D at 0xa0c7da0>],\n",
        " 'whiskers': [<matplotlib.lines.Line2D at 0x9a209e8>,\n",
        "  <matplotlib.lines.Line2D at 0xa0c3cf8>]}"
       ]
      },
      {
       "metadata": {},
       "output_type": "display_data",
       "png": "[encoded data removed]",
       "text": [
        "<matplotlib.figure.Figure at 0x985d550>"
       ]
      }
     ],
     "prompt_number": 32
    },
    {
     "cell_type": "heading",
     "level": 3,
     "metadata": {},
     "source": [
      "1.7 Considering categorical data"
     ]
    },
    {
     "cell_type": "code",
     "collapsed": false,
     "input": [
      "%reset\n",
      "import numpy as np\n",
      "import pandas as pd\n",
      "import matplotlib.pyplot as plt"
     ],
     "language": "python",
     "metadata": {},
     "outputs": [
      {
       "name": "stdout",
       "output_type": "stream",
       "stream": "stdout",
       "text": [
        "Once deleted, variables cannot be recovered. Proceed (y/[n])? y\n"
       ]
      }
     ],
     "prompt_number": 33
    },
    {
     "cell_type": "code",
     "collapsed": false,
     "input": [
      "numbers = ['none', 'small', 'big']\n",
      "indices = ['spam', 'not_spam']\n",
      "data    = np.array([[149, 168, 50], [400, 2659, 495]])\n",
      "df      = pd.DataFrame(data, index=indices, columns=numbers)\n",
      "\n",
      "# total accross columns\n",
      "df.ix['total'] = df.sum()\n",
      "\n",
      "# total accross rows\n",
      "df['total'] = df.apply(sum, axis=1)\n",
      "\n",
      "# display table 1.32\n",
      "df"
     ],
     "language": "python",
     "metadata": {},
     "outputs": [
      {
       "html": [
        "<div style=\"max-height:1000px;max-width:1500px;overflow:auto;\">\n",
        "<table border=\"1\" class=\"dataframe\">\n",
        "  <thead>\n",
        "    <tr style=\"text-align: right;\">\n",
        "      <th></th>\n",
        "      <th>none</th>\n",
        "      <th>small</th>\n",
        "      <th>big</th>\n",
        "      <th>total</th>\n",
        "    </tr>\n",
        "  </thead>\n",
        "  <tbody>\n",
        "    <tr>\n",
        "      <th>spam</th>\n",
        "      <td> 149</td>\n",
        "      <td>  168</td>\n",
        "      <td>  50</td>\n",
        "      <td>  367</td>\n",
        "    </tr>\n",
        "    <tr>\n",
        "      <th>not_spam</th>\n",
        "      <td> 400</td>\n",
        "      <td> 2659</td>\n",
        "      <td> 495</td>\n",
        "      <td> 3554</td>\n",
        "    </tr>\n",
        "    <tr>\n",
        "      <th>total</th>\n",
        "      <td> 549</td>\n",
        "      <td> 2827</td>\n",
        "      <td> 545</td>\n",
        "      <td> 3921</td>\n",
        "    </tr>\n",
        "  </tbody>\n",
        "</table>\n",
        "</div>"
       ],
       "metadata": {},
       "output_type": "pyout",
       "prompt_number": 34,
       "text": [
        "          none  small  big  total\n",
        "spam       149    168   50    367\n",
        "not_spam   400   2659  495   3554\n",
        "total      549   2827  545   3921"
       ]
      }
     ],
     "prompt_number": 34
    },
    {
     "cell_type": "code",
     "collapsed": false,
     "input": [
      "# display table 1.33\n",
      "df_totals = pd.DataFrame(df.ix['total'])\n",
      "df_totals\n"
     ],
     "language": "python",
     "metadata": {},
     "outputs": [
      {
       "html": [
        "<div style=\"max-height:1000px;max-width:1500px;overflow:auto;\">\n",
        "<table border=\"1\" class=\"dataframe\">\n",
        "  <thead>\n",
        "    <tr style=\"text-align: right;\">\n",
        "      <th></th>\n",
        "      <th>total</th>\n",
        "    </tr>\n",
        "  </thead>\n",
        "  <tbody>\n",
        "    <tr>\n",
        "      <th>none</th>\n",
        "      <td>  549</td>\n",
        "    </tr>\n",
        "    <tr>\n",
        "      <th>small</th>\n",
        "      <td> 2827</td>\n",
        "    </tr>\n",
        "    <tr>\n",
        "      <th>big</th>\n",
        "      <td>  545</td>\n",
        "    </tr>\n",
        "    <tr>\n",
        "      <th>total</th>\n",
        "      <td> 3921</td>\n",
        "    </tr>\n",
        "  </tbody>\n",
        "</table>\n",
        "</div>"
       ],
       "metadata": {},
       "output_type": "pyout",
       "prompt_number": 35,
       "text": [
        "       total\n",
        "none     549\n",
        "small   2827\n",
        "big      545\n",
        "total   3921"
       ]
      }
     ],
     "prompt_number": 35
    },
    {
     "cell_type": "code",
     "collapsed": false,
     "input": [
      "# table 1.34 (left)\n",
      "df_totals.ix[df.columns != 'total'].plot(kind='bar')"
     ],
     "language": "python",
     "metadata": {},
     "outputs": [
      {
       "metadata": {},
       "output_type": "pyout",
       "prompt_number": 36,
       "text": [
        "<matplotlib.axes._subplots.AxesSubplot at 0x9cddd68>"
       ]
      },
      {
       "metadata": {},
       "output_type": "display_data",
       "png": "[encoded data removed]",
       "text": [
        "<matplotlib.figure.Figure at 0x9cdd9e8>"
       ]
      }
     ],
     "prompt_number": 36
    },
    {
     "cell_type": "code",
     "collapsed": false,
     "input": [
      "# table 1.34 (right)\n",
      "(df_totals.ix[df.columns != 'total']/df_totals.ix['total']).plot(kind='bar')"
     ],
     "language": "python",
     "metadata": {},
     "outputs": [
      {
       "metadata": {},
       "output_type": "pyout",
       "prompt_number": 37,
       "text": [
        "<matplotlib.axes._subplots.AxesSubplot at 0x9b110b8>"
       ]
      },
      {
       "metadata": {},
       "output_type": "display_data",
       "png": "[encoded data removed]",
       "text": [
        "<matplotlib.figure.Figure at 0x9b11eb8>"
       ]
      }
     ],
     "prompt_number": 37
    },
    {
     "cell_type": "code",
     "collapsed": false,
     "input": [
      "# table 1.35 -- row porportions\n",
      "df.apply(lambda r: r/r['total'], axis=1)"
     ],
     "language": "python",
     "metadata": {},
     "outputs": [
      {
       "html": [
        "<div style=\"max-height:1000px;max-width:1500px;overflow:auto;\">\n",
        "<table border=\"1\" class=\"dataframe\">\n",
        "  <thead>\n",
        "    <tr style=\"text-align: right;\">\n",
        "      <th></th>\n",
        "      <th>none</th>\n",
        "      <th>small</th>\n",
        "      <th>big</th>\n",
        "      <th>total</th>\n",
        "    </tr>\n",
        "  </thead>\n",
        "  <tbody>\n",
        "    <tr>\n",
        "      <th>spam</th>\n",
        "      <td> 0.405995</td>\n",
        "      <td> 0.457766</td>\n",
        "      <td> 0.136240</td>\n",
        "      <td> 1</td>\n",
        "    </tr>\n",
        "    <tr>\n",
        "      <th>not_spam</th>\n",
        "      <td> 0.112549</td>\n",
        "      <td> 0.748171</td>\n",
        "      <td> 0.139280</td>\n",
        "      <td> 1</td>\n",
        "    </tr>\n",
        "    <tr>\n",
        "      <th>total</th>\n",
        "      <td> 0.140015</td>\n",
        "      <td> 0.720990</td>\n",
        "      <td> 0.138995</td>\n",
        "      <td> 1</td>\n",
        "    </tr>\n",
        "  </tbody>\n",
        "</table>\n",
        "</div>"
       ],
       "metadata": {},
       "output_type": "pyout",
       "prompt_number": 38,
       "text": [
        "              none     small       big  total\n",
        "spam      0.405995  0.457766  0.136240      1\n",
        "not_spam  0.112549  0.748171  0.139280      1\n",
        "total     0.140015  0.720990  0.138995      1"
       ]
      }
     ],
     "prompt_number": 38
    },
    {
     "cell_type": "code",
     "collapsed": false,
     "input": [
      "# table 1.36 -- column proportions\n",
      "df/df.ix['total']"
     ],
     "language": "python",
     "metadata": {},
     "outputs": [
      {
       "html": [
        "<div style=\"max-height:1000px;max-width:1500px;overflow:auto;\">\n",
        "<table border=\"1\" class=\"dataframe\">\n",
        "  <thead>\n",
        "    <tr style=\"text-align: right;\">\n",
        "      <th></th>\n",
        "      <th>none</th>\n",
        "      <th>small</th>\n",
        "      <th>big</th>\n",
        "      <th>total</th>\n",
        "    </tr>\n",
        "  </thead>\n",
        "  <tbody>\n",
        "    <tr>\n",
        "      <th>spam</th>\n",
        "      <td> 0.271403</td>\n",
        "      <td> 0.059427</td>\n",
        "      <td> 0.091743</td>\n",
        "      <td> 0.093599</td>\n",
        "    </tr>\n",
        "    <tr>\n",
        "      <th>not_spam</th>\n",
        "      <td> 0.728597</td>\n",
        "      <td> 0.940573</td>\n",
        "      <td> 0.908257</td>\n",
        "      <td> 0.906401</td>\n",
        "    </tr>\n",
        "    <tr>\n",
        "      <th>total</th>\n",
        "      <td> 1.000000</td>\n",
        "      <td> 1.000000</td>\n",
        "      <td> 1.000000</td>\n",
        "      <td> 1.000000</td>\n",
        "    </tr>\n",
        "  </tbody>\n",
        "</table>\n",
        "</div>"
       ],
       "metadata": {},
       "output_type": "pyout",
       "prompt_number": 39,
       "text": [
        "              none     small       big     total\n",
        "spam      0.271403  0.059427  0.091743  0.093599\n",
        "not_spam  0.728597  0.940573  0.908257  0.906401\n",
        "total     1.000000  1.000000  1.000000  1.000000"
       ]
      }
     ],
     "prompt_number": 39
    },
    {
     "cell_type": "code",
     "collapsed": false,
     "input": [
      "# table 1.38a\n",
      "# orig df\n",
      "print df\n",
      "\n",
      "# make the plot\n",
      "df_plot = df\n",
      "df_plot = df_plot.drop('total', axis=0)\n",
      "df_plot = df_plot.drop('total', axis=1).T\n",
      "df_plot.plot(kind='bar', stacked=True)"
     ],
     "language": "python",
     "metadata": {},
     "outputs": [
      {
       "output_type": "stream",
       "stream": "stdout",
       "text": [
        "          none  small  big  total\n",
        "spam       149    168   50    367\n",
        "not_spam   400   2659  495   3554\n",
        "total      549   2827  545   3921\n"
       ]
      },
      {
       "metadata": {},
       "output_type": "pyout",
       "prompt_number": 40,
       "text": [
        "<matplotlib.axes._subplots.AxesSubplot at 0x9b13748>"
       ]
      },
      {
       "metadata": {},
       "output_type": "display_data",
       "png": "[encoded data removed]",
       "text": [
        "<matplotlib.figure.Figure at 0x9877dd8>"
       ]
      }
     ],
     "prompt_number": 40
    },
    {
     "cell_type": "code",
     "collapsed": false,
     "input": [
      "# table 1.38b\n",
      "df_plot = df/df.ix['total']\n",
      "df_plot = df_plot.drop('total', axis=0)\n",
      "df_plot = df_plot.drop('total', axis=1).T\n",
      "df_plot.plot(kind='bar', stacked=True)"
     ],
     "language": "python",
     "metadata": {},
     "outputs": [
      {
       "metadata": {},
       "output_type": "pyout",
       "prompt_number": 41,
       "text": [
        "<matplotlib.axes._subplots.AxesSubplot at 0x9562470>"
       ]
      },
      {
       "metadata": {},
       "output_type": "display_data",
       "png": "[encoded data removed]",
       "text": [
        "<matplotlib.figure.Figure at 0x9cf3390>"
       ]
      }
     ],
     "prompt_number": 41
    },
    {
     "cell_type": "code",
     "collapsed": false,
     "input": [
      "# figure 1.43\n",
      "df = pd.read_table('data/county.txt')\n",
      "df = df[['med_income', 'pop2000', 'pop2010']]\n",
      "df_gain   = df.ix[df.pop2000 >  df.pop2010]\n",
      "df_nogain = df.ix[df.pop2000 <= df.pop2010]\n",
      " \n",
      "np.random.seed(1)\n",
      "df_gain   = df_gain.ix  [np.random.choice(df_gain.index  , 100)]\n",
      "df_nogain = df_nogain.ix[np.random.choice(df_nogain.index, 100)]\n",
      " \n",
      "gain   = df_gain.med_income\n",
      "nogain = df_nogain.med_income/1000.0\n",
      "df_plot = pd.DataFrame(data=None, columns=['gain', 'nogain'])\n",
      "df_plot.gain = df_gain.med_income.values/1000.0\n",
      "df_plot.nogain = df_nogain.med_income.values/1000.0\n",
      " \n",
      "# box plot\n",
      "df_plot.boxplot()\n",
      "plt.show()\n",
      " \n",
      "# hist overlay\n",
      "#bins = np.linspace(0, 100, 101)\n",
      "df_plot.hist(bins=10, sharex=True, histtype='step')\n",
      "\n",
      "\n",
      "#plt.hist(df_plot.gain, bins, label='gain', edgecolor='red', histtype='step')\n",
      "#plt.hist(df_plot.nogain, bins, label='nogain',edgecolor='blue', histtype='step')"
     ],
     "language": "python",
     "metadata": {},
     "outputs": [
      {
       "output_type": "stream",
       "stream": "stderr",
       "text": [
        "C:\\Users\\J28976\\AppData\\Local\\Enthought\\Canopy\\User\\lib\\site-packages\\pandas\\tools\\plotting.py:2380: FutureWarning: \n",
        "The default value for 'return_type' will change to 'axes' in a future release.\n",
        " To use the future behavior now, set return_type='axes'.\n",
        " To keep the previous behavior and silence this warning, set return_type='dict'.\n",
        "  warnings.warn(msg, FutureWarning)\n"
       ]
      },
      {
       "metadata": {},
       "output_type": "display_data",
       "png": "[encoded data removed]",
       "text": [
        "<matplotlib.figure.Figure at 0xa0a9f28>"
       ]
      },
      {
       "metadata": {},
       "output_type": "pyout",
       "prompt_number": 42,
       "text": [
        "array([[<matplotlib.axes._subplots.AxesSubplot object at 0x0000000009A16F60>,\n",
        "        <matplotlib.axes._subplots.AxesSubplot object at 0x0000000009DE8400>]], dtype=object)"
       ]
      },
      {
       "metadata": {},
       "output_type": "display_data",
       "png": "[encoded data removed]",
       "text": [
        "<matplotlib.figure.Figure at 0xa0dd978>"
       ]
      }
     ],
     "prompt_number": 42
    },
    {
     "cell_type": "heading",
     "level": 3,
     "metadata": {},
     "source": [
      "1.8 Case Study: gender discrimination"
     ]
    },
    {
     "cell_type": "code",
     "collapsed": false,
     "input": [
      "df_raw = pd.read_table('data/genderDiscrimination.txt')\n",
      "df_raw.head()"
     ],
     "language": "python",
     "metadata": {},
     "outputs": [
      {
       "html": [
        "<div style=\"max-height:1000px;max-width:1500px;overflow:auto;\">\n",
        "<table border=\"1\" class=\"dataframe\">\n",
        "  <thead>\n",
        "    <tr style=\"text-align: right;\">\n",
        "      <th></th>\n",
        "      <th>gender</th>\n",
        "      <th>decision</th>\n",
        "    </tr>\n",
        "  </thead>\n",
        "  <tbody>\n",
        "    <tr>\n",
        "      <th>0</th>\n",
        "      <td> male</td>\n",
        "      <td> promoted</td>\n",
        "    </tr>\n",
        "    <tr>\n",
        "      <th>1</th>\n",
        "      <td> male</td>\n",
        "      <td> promoted</td>\n",
        "    </tr>\n",
        "    <tr>\n",
        "      <th>2</th>\n",
        "      <td> male</td>\n",
        "      <td> promoted</td>\n",
        "    </tr>\n",
        "    <tr>\n",
        "      <th>3</th>\n",
        "      <td> male</td>\n",
        "      <td> promoted</td>\n",
        "    </tr>\n",
        "    <tr>\n",
        "      <th>4</th>\n",
        "      <td> male</td>\n",
        "      <td> promoted</td>\n",
        "    </tr>\n",
        "  </tbody>\n",
        "</table>\n",
        "</div>"
       ],
       "metadata": {},
       "output_type": "pyout",
       "prompt_number": 43,
       "text": [
        "  gender  decision\n",
        "0   male  promoted\n",
        "1   male  promoted\n",
        "2   male  promoted\n",
        "3   male  promoted\n",
        "4   male  promoted"
       ]
      }
     ],
     "prompt_number": 43
    },
    {
     "cell_type": "code",
     "collapsed": false,
     "input": [
      "pd.crosstab(index=df_raw.gender, columns=df_raw.decision, margins=True)"
     ],
     "language": "python",
     "metadata": {},
     "outputs": [
      {
       "html": [
        "<div style=\"max-height:1000px;max-width:1500px;overflow:auto;\">\n",
        "<table border=\"1\" class=\"dataframe\">\n",
        "  <thead>\n",
        "    <tr style=\"text-align: right;\">\n",
        "      <th>decision</th>\n",
        "      <th>not</th>\n",
        "      <th>promoted</th>\n",
        "      <th>All</th>\n",
        "    </tr>\n",
        "    <tr>\n",
        "      <th>gender</th>\n",
        "      <th></th>\n",
        "      <th></th>\n",
        "      <th></th>\n",
        "    </tr>\n",
        "  </thead>\n",
        "  <tbody>\n",
        "    <tr>\n",
        "      <th>female</th>\n",
        "      <td> 10</td>\n",
        "      <td> 14</td>\n",
        "      <td> 24</td>\n",
        "    </tr>\n",
        "    <tr>\n",
        "      <th>male</th>\n",
        "      <td>  3</td>\n",
        "      <td> 21</td>\n",
        "      <td> 24</td>\n",
        "    </tr>\n",
        "    <tr>\n",
        "      <th>All</th>\n",
        "      <td> 13</td>\n",
        "      <td> 35</td>\n",
        "      <td> 48</td>\n",
        "    </tr>\n",
        "  </tbody>\n",
        "</table>\n",
        "</div>"
       ],
       "metadata": {},
       "output_type": "pyout",
       "prompt_number": 51,
       "text": [
        "decision  not  promoted  All\n",
        "gender                      \n",
        "female     10        14   24\n",
        "male        3        21   24\n",
        "All        13        35   48"
       ]
      }
     ],
     "prompt_number": 51
    },
    {
     "cell_type": "code",
     "collapsed": false,
     "input": [
      "# TODO -- find better way\n",
      "data = np.array([[sum((df_raw.gender=='male'  ) & (df_raw.decision=='promoted')), \n",
      "                  sum((df_raw.gender=='male'  ) & (df_raw.decision=='not'     ))], \n",
      "                 [sum((df_raw.gender=='female') & (df_raw.decision=='promoted')), \n",
      "                  sum((df_raw.gender=='female') & (df_raw.decision=='not'     ))]])\n",
      "data"
     ],
     "language": "python",
     "metadata": {},
     "outputs": [
      {
       "metadata": {},
       "output_type": "pyout",
       "prompt_number": 44,
       "text": [
        "array([[21,  3],\n",
        "       [14, 10]])"
       ]
      }
     ],
     "prompt_number": 44
    },
    {
     "cell_type": "code",
     "collapsed": false,
     "input": [
      "df = pd.DataFrame(data, columns=['promoted', 'not'], index=['male', 'female'])\n",
      "df['total'] = df.apply(sum, axis=1)\n",
      "df.ix['total'] = df.sum()\n",
      "df"
     ],
     "language": "python",
     "metadata": {},
     "outputs": [
      {
       "html": [
        "<div style=\"max-height:1000px;max-width:1500px;overflow:auto;\">\n",
        "<table border=\"1\" class=\"dataframe\">\n",
        "  <thead>\n",
        "    <tr style=\"text-align: right;\">\n",
        "      <th></th>\n",
        "      <th>promoted</th>\n",
        "      <th>not</th>\n",
        "      <th>total</th>\n",
        "    </tr>\n",
        "  </thead>\n",
        "  <tbody>\n",
        "    <tr>\n",
        "      <th>male</th>\n",
        "      <td> 21</td>\n",
        "      <td>  3</td>\n",
        "      <td> 24</td>\n",
        "    </tr>\n",
        "    <tr>\n",
        "      <th>female</th>\n",
        "      <td> 14</td>\n",
        "      <td> 10</td>\n",
        "      <td> 24</td>\n",
        "    </tr>\n",
        "    <tr>\n",
        "      <th>total</th>\n",
        "      <td> 35</td>\n",
        "      <td> 13</td>\n",
        "      <td> 48</td>\n",
        "    </tr>\n",
        "  </tbody>\n",
        "</table>\n",
        "</div>"
       ],
       "metadata": {},
       "output_type": "pyout",
       "prompt_number": 45,
       "text": [
        "        promoted  not  total\n",
        "male          21    3     24\n",
        "female        14   10     24\n",
        "total         35   13     48"
       ]
      }
     ],
     "prompt_number": 45
    },
    {
     "cell_type": "code",
     "collapsed": false,
     "input": [
      "# percents\n",
      "df_perc = df.apply(lambda r: 100.0*r/r['total'], axis=1)\n",
      "df_perc"
     ],
     "language": "python",
     "metadata": {},
     "outputs": [
      {
       "html": [
        "<div style=\"max-height:1000px;max-width:1500px;overflow:auto;\">\n",
        "<table border=\"1\" class=\"dataframe\">\n",
        "  <thead>\n",
        "    <tr style=\"text-align: right;\">\n",
        "      <th></th>\n",
        "      <th>promoted</th>\n",
        "      <th>not</th>\n",
        "      <th>total</th>\n",
        "    </tr>\n",
        "  </thead>\n",
        "  <tbody>\n",
        "    <tr>\n",
        "      <th>male</th>\n",
        "      <td> 87.500000</td>\n",
        "      <td> 12.500000</td>\n",
        "      <td> 100</td>\n",
        "    </tr>\n",
        "    <tr>\n",
        "      <th>female</th>\n",
        "      <td> 58.333333</td>\n",
        "      <td> 41.666667</td>\n",
        "      <td> 100</td>\n",
        "    </tr>\n",
        "    <tr>\n",
        "      <th>total</th>\n",
        "      <td> 72.916667</td>\n",
        "      <td> 27.083333</td>\n",
        "      <td> 100</td>\n",
        "    </tr>\n",
        "  </tbody>\n",
        "</table>\n",
        "</div>"
       ],
       "metadata": {},
       "output_type": "pyout",
       "prompt_number": 46,
       "text": [
        "         promoted        not  total\n",
        "male    87.500000  12.500000    100\n",
        "female  58.333333  41.666667    100\n",
        "total   72.916667  27.083333    100"
       ]
      }
     ],
     "prompt_number": 46
    },
    {
     "cell_type": "code",
     "collapsed": false,
     "input": [
      "data_diff = df_perc.promoted.ix['male'] - df_perc.promoted.ix['female']\n",
      "data_diff"
     ],
     "language": "python",
     "metadata": {},
     "outputs": [
      {
       "metadata": {},
       "output_type": "pyout",
       "prompt_number": 47,
       "text": [
        "29.166666666666664"
       ]
      }
     ],
     "prompt_number": 47
    },
    {
     "cell_type": "code",
     "collapsed": false,
     "input": [
      "# simulation\n",
      "files = np.repeat(['male'], 24)\n",
      "files = np.append(files, np.repeat(['female'], 24))\n",
      "\n",
      "# randomly assign\n",
      "np.random.seed(5) # seed 5 reproduces table 1.45\n",
      "np.random.shuffle(files)\n",
      "promoted     = files[0:35]\n",
      "not_promoted = files[35:]\n",
      "\n",
      "# data frame\n",
      "sim = np.array([[sum(promoted == 'male'  ), sum(not_promoted=='male'  )],\n",
      "                [sum(promoted == 'female'), sum(not_promoted=='female')]])\n",
      "\n",
      "df_sim = pd.DataFrame(sim, \n",
      "                      columns=['promoted', 'not'], \n",
      "                      index=['male', 'female'])\n",
      "df_sim['total'] = df_sim.apply(sum, axis=1)\n",
      "df_sim.ix['total'] = df_sim.sum()\n",
      "df_sim"
     ],
     "language": "python",
     "metadata": {},
     "outputs": [
      {
       "html": [
        "<div style=\"max-height:1000px;max-width:1500px;overflow:auto;\">\n",
        "<table border=\"1\" class=\"dataframe\">\n",
        "  <thead>\n",
        "    <tr style=\"text-align: right;\">\n",
        "      <th></th>\n",
        "      <th>promoted</th>\n",
        "      <th>not</th>\n",
        "      <th>total</th>\n",
        "    </tr>\n",
        "  </thead>\n",
        "  <tbody>\n",
        "    <tr>\n",
        "      <th>male</th>\n",
        "      <td> 18</td>\n",
        "      <td>  6</td>\n",
        "      <td> 24</td>\n",
        "    </tr>\n",
        "    <tr>\n",
        "      <th>female</th>\n",
        "      <td> 17</td>\n",
        "      <td>  7</td>\n",
        "      <td> 24</td>\n",
        "    </tr>\n",
        "    <tr>\n",
        "      <th>total</th>\n",
        "      <td> 35</td>\n",
        "      <td> 13</td>\n",
        "      <td> 48</td>\n",
        "    </tr>\n",
        "  </tbody>\n",
        "</table>\n",
        "</div>"
       ],
       "metadata": {},
       "output_type": "pyout",
       "prompt_number": 48,
       "text": [
        "        promoted  not  total\n",
        "male          18    6     24\n",
        "female        17    7     24\n",
        "total         35   13     48"
       ]
      }
     ],
     "prompt_number": 48
    },
    {
     "cell_type": "code",
     "collapsed": false,
     "input": [
      "# percents\n",
      "df_sim_perc = df_sim.apply(lambda r: 100.0*r/r['total'], axis=1)\n",
      "df_sim_perc"
     ],
     "language": "python",
     "metadata": {},
     "outputs": []
    },
    {
     "cell_type": "code",
     "collapsed": false,
     "input": [
      "# ex 1.5\n",
      "sim_diff = df_sim_perc.promoted.ix['male'] - df_sim_perc.promoted.ix['female']\n",
      "sim_diff"
     ],
     "language": "python",
     "metadata": {},
     "outputs": []
    },
    {
     "cell_type": "code",
     "collapsed": false,
     "input": [
      "# automate the difference\n",
      "def compute_diff(seed):\n",
      "    \n",
      "    # simulation\n",
      "    files = np.repeat(['male'], 24)\n",
      "    files = np.append(files, np.repeat(['female'], 24))\n",
      "\n",
      "    # randomly assign\n",
      "    np.random.seed(seed) # seed 5 reproduces table 1.45\n",
      "    np.random.shuffle(files)\n",
      "    promoted = files[0:35]\n",
      "    diff = sum(promoted=='male') - sum(promoted == 'female')\n",
      "   \n",
      "    return 100*diff/24.0\n",
      "\n",
      "# test it\n",
      "print compute_diff(5) - sim_diff\n",
      "    "
     ],
     "language": "python",
     "metadata": {},
     "outputs": []
    },
    {
     "cell_type": "code",
     "collapsed": false,
     "input": [
      "sim100 = [compute_diff(seed) for seed in range(100)]\n",
      "len(sim100)\n",
      "plt.hist(sim100, bins=10)"
     ],
     "language": "python",
     "metadata": {},
     "outputs": []
    },
    {
     "cell_type": "code",
     "collapsed": false,
     "input": [
      "# example 1.51\n",
      "integral = sum(sim100 > data_diff)/100.0\n",
      "integral*100"
     ],
     "language": "python",
     "metadata": {},
     "outputs": []
    },
    {
     "cell_type": "code",
     "collapsed": false,
     "input": [],
     "language": "python",
     "metadata": {},
     "outputs": []
    }
   ],
   "metadata": {}
  }
 ]
}