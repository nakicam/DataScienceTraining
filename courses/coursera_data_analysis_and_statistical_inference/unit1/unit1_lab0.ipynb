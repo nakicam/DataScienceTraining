{
 "metadata": {
  "name": "unit1_lab0.ipynb"
 },
 "nbformat": 3,
 "nbformat_minor": 0,
 "worksheets": [
  {
   "cells": [
    {
     "cell_type": "heading",
     "level": 1,
     "metadata": {},
     "source": [
      "Unit 1 Lab 0"
     ]
    },
    {
     "cell_type": "code",
     "collapsed": false,
     "input": [
      "# setup notebook\n",
      "import os\n",
      "os.chdir('%s\\Documents\\statistics\\stats_course' % os.getenv('HOME'))\n",
      "os.getcwd()"
     ],
     "language": "python",
     "metadata": {},
     "outputs": [
      {
       "metadata": {},
       "output_type": "pyout",
       "prompt_number": 1,
       "text": [
        "'C:\\\\Users\\\\J28976\\\\Documents\\\\statistics\\\\stats_course'"
       ]
      }
     ],
     "prompt_number": 1
    },
    {
     "cell_type": "code",
     "collapsed": false,
     "input": [
      "import numpy as np\n",
      "import pandas as pd\n",
      "import matplotlib.pyplot as plt"
     ],
     "language": "python",
     "metadata": {},
     "outputs": [],
     "prompt_number": 2
    },
    {
     "cell_type": "heading",
     "level": 2,
     "metadata": {},
     "source": [
      "Present Data"
     ]
    },
    {
     "cell_type": "code",
     "collapsed": false,
     "input": [
      "df = pd.read_csv('unit1\\lab0_present.csv')\n",
      "df.columns = ['year', 'boys', 'girls']"
     ],
     "language": "python",
     "metadata": {},
     "outputs": [],
     "prompt_number": 3
    },
    {
     "cell_type": "code",
     "collapsed": false,
     "input": [
      "df.head()"
     ],
     "language": "python",
     "metadata": {},
     "outputs": [
      {
       "html": [
        "<div style=\"max-height:1000px;max-width:1500px;overflow:auto;\">\n",
        "<table border=\"1\" class=\"dataframe\">\n",
        "  <thead>\n",
        "    <tr style=\"text-align: right;\">\n",
        "      <th></th>\n",
        "      <th>year</th>\n",
        "      <th>boys</th>\n",
        "      <th>girls</th>\n",
        "    </tr>\n",
        "  </thead>\n",
        "  <tbody>\n",
        "    <tr>\n",
        "      <th>0</th>\n",
        "      <td> 1940</td>\n",
        "      <td> 1211684</td>\n",
        "      <td> 1148715</td>\n",
        "    </tr>\n",
        "    <tr>\n",
        "      <th>1</th>\n",
        "      <td> 1941</td>\n",
        "      <td> 1289734</td>\n",
        "      <td> 1223693</td>\n",
        "    </tr>\n",
        "    <tr>\n",
        "      <th>2</th>\n",
        "      <td> 1942</td>\n",
        "      <td> 1444365</td>\n",
        "      <td> 1364631</td>\n",
        "    </tr>\n",
        "    <tr>\n",
        "      <th>3</th>\n",
        "      <td> 1943</td>\n",
        "      <td> 1508959</td>\n",
        "      <td> 1427901</td>\n",
        "    </tr>\n",
        "    <tr>\n",
        "      <th>4</th>\n",
        "      <td> 1944</td>\n",
        "      <td> 1435301</td>\n",
        "      <td> 1359499</td>\n",
        "    </tr>\n",
        "  </tbody>\n",
        "</table>\n",
        "</div>"
       ],
       "metadata": {},
       "output_type": "pyout",
       "prompt_number": 4,
       "text": [
        "   year     boys    girls\n",
        "0  1940  1211684  1148715\n",
        "1  1941  1289734  1223693\n",
        "2  1942  1444365  1364631\n",
        "3  1943  1508959  1427901\n",
        "4  1944  1435301  1359499"
       ]
      }
     ],
     "prompt_number": 4
    },
    {
     "cell_type": "code",
     "collapsed": false,
     "input": [
      "# Q1\n",
      "print \"number of variables in data = %d\" % len(df.columns)"
     ],
     "language": "python",
     "metadata": {},
     "outputs": [
      {
       "output_type": "stream",
       "stream": "stdout",
       "text": [
        "number of variables in data = 3\n"
       ]
      }
     ],
     "prompt_number": 5
    },
    {
     "cell_type": "code",
     "collapsed": false,
     "input": [
      "# Q2\n",
      "df.head().girls"
     ],
     "language": "python",
     "metadata": {},
     "outputs": [
      {
       "metadata": {},
       "output_type": "pyout",
       "prompt_number": 6,
       "text": [
        "0    1148715\n",
        "1    1223693\n",
        "2    1364631\n",
        "3    1427901\n",
        "4    1359499\n",
        "Name: girls, dtype: int64"
       ]
      }
     ],
     "prompt_number": 6
    },
    {
     "cell_type": "code",
     "collapsed": false,
     "input": [
      "# Q3\n",
      "df.plot(x='year', y='girls')"
     ],
     "language": "python",
     "metadata": {},
     "outputs": [
      {
       "metadata": {},
       "output_type": "pyout",
       "prompt_number": 7,
       "text": [
        "<matplotlib.axes.AxesSubplot at 0x8b8b128>"
       ]
      },
      {
       "metadata": {},
       "output_type": "display_data",
       "png": "[encoded data removed]",
       "text": [
        "<matplotlib.figure.Figure at 0x825d358>"
       ]
      }
     ],
     "prompt_number": 7
    },
    {
     "cell_type": "code",
     "collapsed": false,
     "input": [
      "# Q4\n",
      "df['total'] = df.apply(lambda r: r.girls + r.boys, axis=1)\n",
      "df.ix[df.total.idxmax()]"
     ],
     "language": "python",
     "metadata": {},
     "outputs": [
      {
       "metadata": {},
       "output_type": "pyout",
       "prompt_number": 8,
       "text": [
        "year        1961\n",
        "boys     2186274\n",
        "girls    2082052\n",
        "total    4268326\n",
        "Name: 21, dtype: int64"
       ]
      }
     ],
     "prompt_number": 8
    },
    {
     "cell_type": "code",
     "collapsed": false,
     "input": [
      "# Q5 and Q6\n",
      "df['boys_prop'] = df.apply(lambda r: r.boys/float(r.total), axis=1)\n",
      "df.plot(x='year', y='boys_prop')#, ylim=[0,1])\n",
      "df.head()"
     ],
     "language": "python",
     "metadata": {},
     "outputs": [
      {
       "html": [
        "<div style=\"max-height:1000px;max-width:1500px;overflow:auto;\">\n",
        "<table border=\"1\" class=\"dataframe\">\n",
        "  <thead>\n",
        "    <tr style=\"text-align: right;\">\n",
        "      <th></th>\n",
        "      <th>year</th>\n",
        "      <th>boys</th>\n",
        "      <th>girls</th>\n",
        "      <th>total</th>\n",
        "      <th>boys_prop</th>\n",
        "    </tr>\n",
        "  </thead>\n",
        "  <tbody>\n",
        "    <tr>\n",
        "      <th>0</th>\n",
        "      <td> 1940</td>\n",
        "      <td> 1211684</td>\n",
        "      <td> 1148715</td>\n",
        "      <td> 2360399</td>\n",
        "      <td> 0.513339</td>\n",
        "    </tr>\n",
        "    <tr>\n",
        "      <th>1</th>\n",
        "      <td> 1941</td>\n",
        "      <td> 1289734</td>\n",
        "      <td> 1223693</td>\n",
        "      <td> 2513427</td>\n",
        "      <td> 0.513138</td>\n",
        "    </tr>\n",
        "    <tr>\n",
        "      <th>2</th>\n",
        "      <td> 1942</td>\n",
        "      <td> 1444365</td>\n",
        "      <td> 1364631</td>\n",
        "      <td> 2808996</td>\n",
        "      <td> 0.514193</td>\n",
        "    </tr>\n",
        "    <tr>\n",
        "      <th>3</th>\n",
        "      <td> 1943</td>\n",
        "      <td> 1508959</td>\n",
        "      <td> 1427901</td>\n",
        "      <td> 2936860</td>\n",
        "      <td> 0.513800</td>\n",
        "    </tr>\n",
        "    <tr>\n",
        "      <th>4</th>\n",
        "      <td> 1944</td>\n",
        "      <td> 1435301</td>\n",
        "      <td> 1359499</td>\n",
        "      <td> 2794800</td>\n",
        "      <td> 0.513561</td>\n",
        "    </tr>\n",
        "  </tbody>\n",
        "</table>\n",
        "</div>"
       ],
       "metadata": {},
       "output_type": "pyout",
       "prompt_number": 9,
       "text": [
        "   year     boys    girls    total  boys_prop\n",
        "0  1940  1211684  1148715  2360399   0.513339\n",
        "1  1941  1289734  1223693  2513427   0.513138\n",
        "2  1942  1444365  1364631  2808996   0.514193\n",
        "3  1943  1508959  1427901  2936860   0.513800\n",
        "4  1944  1435301  1359499  2794800   0.513561"
       ]
      },
      {
       "metadata": {},
       "output_type": "display_data",
       "png": "[encoded data removed]",
       "text": [
        "<matplotlib.figure.Figure at 0x8c5da58>"
       ]
      }
     ],
     "prompt_number": 9
    },
    {
     "cell_type": "code",
     "collapsed": false,
     "input": [
      "# Q7\n",
      "df['prop'] = df.apply(lambda r: r.boys/float(r.girls), axis=1)\n",
      "df.plot(x='year', y='prop')\n",
      "df.head()"
     ],
     "language": "python",
     "metadata": {},
     "outputs": [
      {
       "html": [
        "<div style=\"max-height:1000px;max-width:1500px;overflow:auto;\">\n",
        "<table border=\"1\" class=\"dataframe\">\n",
        "  <thead>\n",
        "    <tr style=\"text-align: right;\">\n",
        "      <th></th>\n",
        "      <th>year</th>\n",
        "      <th>boys</th>\n",
        "      <th>girls</th>\n",
        "      <th>total</th>\n",
        "      <th>boys_prop</th>\n",
        "      <th>prop</th>\n",
        "    </tr>\n",
        "  </thead>\n",
        "  <tbody>\n",
        "    <tr>\n",
        "      <th>0</th>\n",
        "      <td> 1940</td>\n",
        "      <td> 1211684</td>\n",
        "      <td> 1148715</td>\n",
        "      <td> 2360399</td>\n",
        "      <td> 0.513339</td>\n",
        "      <td> 1.054817</td>\n",
        "    </tr>\n",
        "    <tr>\n",
        "      <th>1</th>\n",
        "      <td> 1941</td>\n",
        "      <td> 1289734</td>\n",
        "      <td> 1223693</td>\n",
        "      <td> 2513427</td>\n",
        "      <td> 0.513138</td>\n",
        "      <td> 1.053969</td>\n",
        "    </tr>\n",
        "    <tr>\n",
        "      <th>2</th>\n",
        "      <td> 1942</td>\n",
        "      <td> 1444365</td>\n",
        "      <td> 1364631</td>\n",
        "      <td> 2808996</td>\n",
        "      <td> 0.514193</td>\n",
        "      <td> 1.058429</td>\n",
        "    </tr>\n",
        "    <tr>\n",
        "      <th>3</th>\n",
        "      <td> 1943</td>\n",
        "      <td> 1508959</td>\n",
        "      <td> 1427901</td>\n",
        "      <td> 2936860</td>\n",
        "      <td> 0.513800</td>\n",
        "      <td> 1.056767</td>\n",
        "    </tr>\n",
        "    <tr>\n",
        "      <th>4</th>\n",
        "      <td> 1944</td>\n",
        "      <td> 1435301</td>\n",
        "      <td> 1359499</td>\n",
        "      <td> 2794800</td>\n",
        "      <td> 0.513561</td>\n",
        "      <td> 1.055757</td>\n",
        "    </tr>\n",
        "  </tbody>\n",
        "</table>\n",
        "</div>"
       ],
       "metadata": {},
       "output_type": "pyout",
       "prompt_number": 10,
       "text": [
        "   year     boys    girls    total  boys_prop      prop\n",
        "0  1940  1211684  1148715  2360399   0.513339  1.054817\n",
        "1  1941  1289734  1223693  2513427   0.513138  1.053969\n",
        "2  1942  1444365  1364631  2808996   0.514193  1.058429\n",
        "3  1943  1508959  1427901  2936860   0.513800  1.056767\n",
        "4  1944  1435301  1359499  2794800   0.513561  1.055757"
       ]
      },
      {
       "metadata": {},
       "output_type": "display_data",
       "png": "[encoded data removed]",
       "text": [
        "<matplotlib.figure.Figure at 0xafb1c50>"
       ]
      }
     ],
     "prompt_number": 10
    },
    {
     "cell_type": "code",
     "collapsed": false,
     "input": [
      "# Q8\n",
      "df['diff'] = df.apply(lambda r: r.boys - r.girls, axis=1)\n",
      "df.ix[df['diff'].idxmax()]\n"
     ],
     "language": "python",
     "metadata": {},
     "outputs": [
      {
       "metadata": {},
       "output_type": "pyout",
       "prompt_number": 11,
       "text": [
        "year            1963.000000\n",
        "boys         2101632.000000\n",
        "girls        1996388.000000\n",
        "total        4098020.000000\n",
        "boys_prop          0.512841\n",
        "prop               1.052717\n",
        "diff          105244.000000\n",
        "Name: 23, dtype: float64"
       ]
      }
     ],
     "prompt_number": 11
    }
   ],
   "metadata": {}
  }
 ]
}