{
 "metadata": {
  "name": "ch2_walkthrough.ipynb"
 },
 "nbformat": 3,
 "nbformat_minor": 0,
 "worksheets": [
  {
   "cells": [
    {
     "cell_type": "heading",
     "level": 1,
     "metadata": {},
     "source": [
      "Chapter 2: Probability"
     ]
    },
    {
     "cell_type": "heading",
     "level": 3,
     "metadata": {},
     "source": [
      "setup"
     ]
    },
    {
     "cell_type": "code",
     "collapsed": false,
     "input": [
      "# setup notebook\n",
      "import numpy as np\n",
      "import pandas as pd\n",
      "import matplotlib.pyplot as plt\n",
      "import os\n",
      "os.chdir('%s/courses/coursera_data_analysis_and_statistical_inference' % os.getenv('DST'))\n",
      "print(os.getcwd())\n",
      "\n",
      "np.set_printoptions(precision=4)\n",
      "plt.rc('figure', figsize=(10, 8))"
     ],
     "language": "python",
     "metadata": {},
     "outputs": [
      {
       "output_type": "stream",
       "stream": "stdout",
       "text": [
        "C:\\Users\\J28976\\Documents\\Development\\dst\\courses\\coursera_data_analysis_and_statistical_inference\n"
       ]
      }
     ],
     "prompt_number": 2
    },
    {
     "cell_type": "heading",
     "level": 3,
     "metadata": {},
     "source": [
      "2.1 Defining Probablity"
     ]
    },
    {
     "cell_type": "code",
     "collapsed": false,
     "input": [
      "# exercise 2.32 -- choose three people at random\n",
      "\n",
      "p_rh     = 0.91\n",
      "p_lh     = 1.0 - p_rh\n",
      "p_male   = 0.5\n",
      "p_female = 1.0 - p_male\n",
      "\n",
      "print \"a) P(MR)      = %1.3f\" % (p_rh * p_male)\n",
      "print \"b) p({MR,MR}) = %1.3f\" % (p_rh * p_male)**2\n",
      "print \"c) p(FL}      = %1.3f\" % (p_lh * p_female)\n",
      "print \"d) p({MR, MR, FL}) = p(MR)^2 + p(FL) = %1.4f\" % (((p_rh *p_male)**2) * (p_lh * p_female))\n",
      " "
     ],
     "language": "python",
     "metadata": {},
     "outputs": [
      {
       "output_type": "stream",
       "stream": "stdout",
       "text": [
        "a) P(MR)      = 0.455\n",
        "b) p({MR,MR}) = 0.207\n",
        "c) p(FL}      = 0.045\n",
        "d) p({MR, MR, FL}) = p(MR)^2 + p(FL) = 0.0093\n"
       ]
      }
     ],
     "prompt_number": 3
    },
    {
     "cell_type": "heading",
     "level": 3,
     "metadata": {},
     "source": [
      "2.2 Conditional Probability"
     ]
    },
    {
     "cell_type": "code",
     "collapsed": false,
     "input": [
      "# example 2.34\n",
      "df      = pd.read_table('data/drug_use.txt')\n",
      "n_pu    = len(df.ix[df.parents == 'used'])\n",
      "n_su_pu = len(df.ix[(df.parents == 'used') & (df.student == 'uses')])\n",
      "p_su_given_pu = n_su_pu / float(n_pu)\n",
      "print \"P(student uses given parent used) = %d/%d = %1.2f\" % (n_su_pu, n_pu, p_su_given_pu)"
     ],
     "language": "python",
     "metadata": {},
     "outputs": [
      {
       "output_type": "stream",
       "stream": "stdout",
       "text": [
        "P(student uses given parent used) = 125/210 = 0.60\n"
       ]
      }
     ],
     "prompt_number": 4
    },
    {
     "cell_type": "code",
     "collapsed": false,
     "input": [
      "# example 2.35\n",
      "n_sn    = len(df.ix[df.student == 'not'])\n",
      "n_sn_pu = len(df.ix[(df.parents == 'used') & (df.student == 'not')])\n",
      "p_pu_given_sn = n_sn_pu / float(n_sn)\n",
      "print \"P(parent used given students not) = %d/%d = %1.2f\" % (n_sn_pu, n_sn, p_pu_given_sn)"
     ],
     "language": "python",
     "metadata": {},
     "outputs": [
      {
       "output_type": "stream",
       "stream": "stdout",
       "text": [
        "P(parent used given students not) = 85/226 = 0.38\n"
       ]
      }
     ],
     "prompt_number": 5
    },
    {
     "cell_type": "code",
     "collapsed": false,
     "input": [
      "df.describe()"
     ],
     "language": "python",
     "metadata": {},
     "outputs": [
      {
       "html": [
        "<div style=\"max-height:1000px;max-width:1500px;overflow:auto;\">\n",
        "<table border=\"1\" class=\"dataframe\">\n",
        "  <thead>\n",
        "    <tr style=\"text-align: right;\">\n",
        "      <th></th>\n",
        "      <th>student</th>\n",
        "      <th>parents</th>\n",
        "    </tr>\n",
        "  </thead>\n",
        "  <tbody>\n",
        "    <tr>\n",
        "      <th>count</th>\n",
        "      <td> 445</td>\n",
        "      <td> 445</td>\n",
        "    </tr>\n",
        "    <tr>\n",
        "      <th>unique</th>\n",
        "      <td>   2</td>\n",
        "      <td>   2</td>\n",
        "    </tr>\n",
        "    <tr>\n",
        "      <th>top</th>\n",
        "      <td> not</td>\n",
        "      <td> not</td>\n",
        "    </tr>\n",
        "    <tr>\n",
        "      <th>freq</th>\n",
        "      <td> 226</td>\n",
        "      <td> 235</td>\n",
        "    </tr>\n",
        "  </tbody>\n",
        "</table>\n",
        "</div>"
       ],
       "metadata": {},
       "output_type": "pyout",
       "prompt_number": 6,
       "text": [
        "       student parents\n",
        "count      445     445\n",
        "unique       2       2\n",
        "top        not     not\n",
        "freq       226     235"
       ]
      }
     ],
     "prompt_number": 6
    },
    {
     "cell_type": "code",
     "collapsed": false,
     "input": [
      "# create table 2.15\n",
      "import stat_tools as st\n",
      "df = pd.read_table('data/smallpox.txt')\n",
      "df_2p15 = st.two_column_summary(df, index='result', column='inoculated')\n",
      "df_2p15"
     ],
     "language": "python",
     "metadata": {},
     "outputs": [
      {
       "html": [
        "<div style=\"max-height:1000px;max-width:1500px;overflow:auto;\">\n",
        "<table border=\"1\" class=\"dataframe\">\n",
        "  <thead>\n",
        "    <tr style=\"text-align: right;\">\n",
        "      <th></th>\n",
        "      <th>yes</th>\n",
        "      <th>no</th>\n",
        "      <th>total</th>\n",
        "    </tr>\n",
        "    <tr>\n",
        "      <th>result</th>\n",
        "      <th></th>\n",
        "      <th></th>\n",
        "      <th></th>\n",
        "    </tr>\n",
        "  </thead>\n",
        "  <tbody>\n",
        "    <tr>\n",
        "      <th>died</th>\n",
        "      <td>   6</td>\n",
        "      <td>  844</td>\n",
        "      <td>  850</td>\n",
        "    </tr>\n",
        "    <tr>\n",
        "      <th>lived</th>\n",
        "      <td> 238</td>\n",
        "      <td> 5136</td>\n",
        "      <td> 5374</td>\n",
        "    </tr>\n",
        "    <tr>\n",
        "      <th>total</th>\n",
        "      <td> 244</td>\n",
        "      <td> 5980</td>\n",
        "      <td> 6224</td>\n",
        "    </tr>\n",
        "  </tbody>\n",
        "</table>\n",
        "</div>"
       ],
       "metadata": {},
       "output_type": "pyout",
       "prompt_number": 7,
       "text": [
        "        yes    no  total\n",
        "result                  \n",
        "died      6   844    850\n",
        "lived   238  5136   5374\n",
        "total   244  5980   6224"
       ]
      }
     ],
     "prompt_number": 7
    },
    {
     "cell_type": "code",
     "collapsed": false,
     "input": [
      "# create table 2.16\n",
      "df_2p16 = df_2p15/df_2p15.ix['total']['total']\n",
      "df_2p16"
     ],
     "language": "python",
     "metadata": {},
     "outputs": [
      {
       "html": [
        "<div style=\"max-height:1000px;max-width:1500px;overflow:auto;\">\n",
        "<table border=\"1\" class=\"dataframe\">\n",
        "  <thead>\n",
        "    <tr style=\"text-align: right;\">\n",
        "      <th></th>\n",
        "      <th>yes</th>\n",
        "      <th>no</th>\n",
        "      <th>total</th>\n",
        "    </tr>\n",
        "    <tr>\n",
        "      <th>result</th>\n",
        "      <th></th>\n",
        "      <th></th>\n",
        "      <th></th>\n",
        "    </tr>\n",
        "  </thead>\n",
        "  <tbody>\n",
        "    <tr>\n",
        "      <th>died</th>\n",
        "      <td> 0.000964</td>\n",
        "      <td> 0.135604</td>\n",
        "      <td> 0.136568</td>\n",
        "    </tr>\n",
        "    <tr>\n",
        "      <th>lived</th>\n",
        "      <td> 0.038239</td>\n",
        "      <td> 0.825193</td>\n",
        "      <td> 0.863432</td>\n",
        "    </tr>\n",
        "    <tr>\n",
        "      <th>total</th>\n",
        "      <td> 0.039203</td>\n",
        "      <td> 0.960797</td>\n",
        "      <td> 1.000000</td>\n",
        "    </tr>\n",
        "  </tbody>\n",
        "</table>\n",
        "</div>"
       ],
       "metadata": {},
       "output_type": "pyout",
       "prompt_number": 8,
       "text": [
        "             yes        no     total\n",
        "result                              \n",
        "died    0.000964  0.135604  0.136568\n",
        "lived   0.038239  0.825193  0.863432\n",
        "total   0.039203  0.960797  1.000000"
       ]
      }
     ],
     "prompt_number": 8
    },
    {
     "cell_type": "code",
     "collapsed": false,
     "input": [
      "# ex 2.57\n",
      "0.7*0.2 / (0.7*0.2 + 0.25*0.35 + 0.45*0.05)"
     ],
     "language": "python",
     "metadata": {},
     "outputs": [
      {
       "metadata": {},
       "output_type": "pyout",
       "prompt_number": 9,
       "text": [
        "0.56"
       ]
      }
     ],
     "prompt_number": 9
    },
    {
     "cell_type": "code",
     "collapsed": false,
     "input": [
      "# ex 2.60\n",
      "0.45*0.05 / (0.7*0.2 + 0.25*0.35 + 0.45*0.05)"
     ],
     "language": "python",
     "metadata": {},
     "outputs": [
      {
       "metadata": {},
       "output_type": "pyout",
       "prompt_number": 10,
       "text": [
        "0.09000000000000002"
       ]
      }
     ],
     "prompt_number": 10
    },
    {
     "cell_type": "heading",
     "level": 3,
     "metadata": {},
     "source": [
      "2.3 Sampling from small populations"
     ]
    },
    {
     "cell_type": "code",
     "collapsed": false,
     "input": [
      "# ex 2.66a\n",
      "n_priz = 7\n",
      "n_tix  = 30\n",
      "p_win = 1 - product([(x-1)/float(x) for x in arange(n_tix, n_tix - n_priz, -1)])\n",
      "print \"prob winning a prize = %1.3f\" % p_win"
     ],
     "language": "python",
     "metadata": {},
     "outputs": [
      {
       "output_type": "stream",
       "stream": "stdout",
       "text": [
        "prob winning a prize = 0.233\n"
       ]
      }
     ],
     "prompt_number": 11
    },
    {
     "cell_type": "code",
     "collapsed": false,
     "input": [
      "# ex 2.66b\n",
      "n_priz = 7\n",
      "n_tix  = 30\n",
      "p_win = 1 - ((n_tix-1)/float(n_tix))**n_priz\n",
      "print \"prob winning a prize = %1.3f\" % p_win"
     ],
     "language": "python",
     "metadata": {},
     "outputs": [
      {
       "output_type": "stream",
       "stream": "stdout",
       "text": [
        "prob winning a prize = 0.211\n"
       ]
      }
     ],
     "prompt_number": 12
    },
    {
     "cell_type": "heading",
     "level": 3,
     "metadata": {},
     "source": [
      "2.4 Random Variables"
     ]
    },
    {
     "cell_type": "code",
     "collapsed": false,
     "input": [
      "# example 2.74\n",
      "from scipy.stats import rv_discrete\n",
      "p = rv_discrete(values=([0, 137, 170],[0.2, 0.55, 0.25]))\n",
      "print \"mean  = %1.2f\" % p.mean()\n",
      "print \"var   = %1.2f\" % p.var()\n",
      "print \"stdev = %1.2f\" % p.std()"
     ],
     "language": "python",
     "metadata": {},
     "outputs": [
      {
       "output_type": "stream",
       "stream": "stdout",
       "text": [
        "mean  = 117.85\n",
        "var   = 3659.33\n",
        "stdev = 60.49\n"
       ]
      }
     ],
     "prompt_number": 13
    },
    {
     "cell_type": "code",
     "collapsed": false,
     "input": [
      "# exercise 2.75\n",
      "from scipy.stats import rv_discrete\n",
      "p = rv_discrete(values=([0, 159, 159+41],[0.15, 0.25, 0.60]))\n",
      "print \"mean  = %1.2f\" % p.mean()\n",
      "print \"var   = %1.2f\" % p.var()\n",
      "print \"stdev = %1.2f\" % p.std()"
     ],
     "language": "python",
     "metadata": {},
     "outputs": [
      {
       "output_type": "stream",
       "stream": "stdout",
       "text": [
        "mean  = 159.75\n",
        "var   = 4800.19\n",
        "stdev = 69.28\n"
       ]
      }
     ],
     "prompt_number": 14
    },
    {
     "cell_type": "code",
     "collapsed": false,
     "input": [
      "print \"a) proportion of students who didn't by any book: P(X=0) = %1.2f\" % p.P[0]"
     ],
     "language": "python",
     "metadata": {},
     "outputs": [
      {
       "output_type": "stream",
       "stream": "stdout",
       "text": [
        "a) proportion of students who didn't by any book: P(X=0) = 0.15\n"
       ]
      }
     ],
     "prompt_number": 15
    },
    {
     "cell_type": "code",
     "collapsed": false,
     "input": [
      "print \"b) table:\", p.P"
     ],
     "language": "python",
     "metadata": {},
     "outputs": [
      {
       "output_type": "stream",
       "stream": "stdout",
       "text": [
        "b) table: {0: 0.14999999999999999, 200: 0.59999999999999998, 159: 0.25}\n"
       ]
      }
     ],
     "prompt_number": 16
    },
    {
     "cell_type": "code",
     "collapsed": false,
     "input": [
      "p.P"
     ],
     "language": "python",
     "metadata": {},
     "outputs": [
      {
       "metadata": {},
       "output_type": "pyout",
       "prompt_number": 17,
       "text": [
        "{0: 0.14999999999999999, 159: 0.25, 200: 0.59999999999999998}"
       ]
      }
     ],
     "prompt_number": 17
    },
    {
     "cell_type": "code",
     "collapsed": false,
     "input": [
      "%matplotlib inline\n",
      "import numpy as np\n",
      "import pandas as pd\n",
      "from IPython.display import display, Math, Latex\n",
      "\n",
      "# probabilities\n",
      "p_book = .25\n",
      "p_book_supp = .60\n",
      "p_supp = 0\n",
      "p_none = 1-p_book-p_book_supp\n",
      "part_a = Latex(r\"$P_{\\rm none} = %1.2f$\" % p_none)\n",
      "\n",
      "# expectation value\n",
      "E_Y = 159.0*p_book + (200)*p_book_supp+0.0*p_none\n",
      "part_c = Latex(r\"$E_{Y} = %1.2f$\" % E_Y)\n",
      "\n",
      "# standard deviation\n",
      "STD_Y = np.sqrt((159.0-E_Y)**2*p_book + (200-E_Y)**2*p_book_supp+(0.0-E_Y)**2*p_none)\n",
      "part_d =Latex(r\"$\\sigma_{Y} = %1.2f$\" % STD_Y)\n",
      "\n",
      "# display results\n",
      "display(part_a)\n",
      "display(part_c)\n",
      "display(part_d)"
     ],
     "language": "python",
     "metadata": {},
     "outputs": [
      {
       "latex": [
        "$P_{\\rm none} = 0.15$"
       ],
       "metadata": {},
       "output_type": "display_data",
       "text": [
        "<IPython.core.display.Latex at 0x9672f28>"
       ]
      },
      {
       "latex": [
        "$E_{Y} = 159.75$"
       ],
       "metadata": {},
       "output_type": "display_data",
       "text": [
        "<IPython.core.display.Latex at 0x9685630>"
       ]
      },
      {
       "latex": [
        "$\\sigma_{Y} = 69.28$"
       ],
       "metadata": {},
       "output_type": "display_data",
       "text": [
        "<IPython.core.display.Latex at 0x9d5cdd8>"
       ]
      }
     ],
     "prompt_number": 18
    },
    {
     "cell_type": "code",
     "collapsed": false,
     "input": [
      "from scipy.stats import rv_discrete\n",
      "\n",
      "p = rv_discrete(values=([0, 159, 159+41],[0.15, 0.25, 0.60]))\n",
      "part_a = Latex(r\"$P_{\\rm none} = %1.2f$\" % p.P[0])\n",
      "part_c = Latex(r\"$E_{Y} = %1.2f$\"        % p.mean())\n",
      "part_d =Latex(r\"$\\sigma_{Y} = %1.2f$\"    % p.std())\n",
      "\n",
      "# display results\n",
      "display(part_a)\n",
      "display(part_c)\n",
      "display(part_d)"
     ],
     "language": "python",
     "metadata": {},
     "outputs": [
      {
       "latex": [
        "$P_{\\rm none} = 0.15$"
       ],
       "metadata": {},
       "output_type": "display_data",
       "text": [
        "<IPython.core.display.Latex at 0x9d6df98>"
       ]
      },
      {
       "latex": [
        "$E_{Y} = 159.75$"
       ],
       "metadata": {},
       "output_type": "display_data",
       "text": [
        "<IPython.core.display.Latex at 0x9672d30>"
       ]
      },
      {
       "latex": [
        "$\\sigma_{Y} = 69.28$"
       ],
       "metadata": {},
       "output_type": "display_data",
       "text": [
        "<IPython.core.display.Latex at 0x9672b00>"
       ]
      }
     ],
     "prompt_number": 19
    },
    {
     "cell_type": "heading",
     "level": 3,
     "metadata": {},
     "source": [
      "2.5 Continous Distributions"
     ]
    },
    {
     "cell_type": "code",
     "collapsed": false,
     "input": [
      "df = pd.read_table('data/fcid.txt', index_col='height', )\n",
      "df.head()"
     ],
     "language": "python",
     "metadata": {},
     "outputs": [
      {
       "html": [
        "<div style=\"max-height:1000px;max-width:1500px;overflow:auto;\">\n",
        "<table border=\"1\" class=\"dataframe\">\n",
        "  <thead>\n",
        "    <tr style=\"text-align: right;\">\n",
        "      <th></th>\n",
        "      <th>num_of_adults</th>\n",
        "    </tr>\n",
        "    <tr>\n",
        "      <th>height</th>\n",
        "      <th></th>\n",
        "    </tr>\n",
        "  </thead>\n",
        "  <tbody>\n",
        "    <tr>\n",
        "      <th>110.5</th>\n",
        "      <td> 0</td>\n",
        "    </tr>\n",
        "    <tr>\n",
        "      <th>111.5</th>\n",
        "      <td> 0</td>\n",
        "    </tr>\n",
        "    <tr>\n",
        "      <th>112.5</th>\n",
        "      <td> 0</td>\n",
        "    </tr>\n",
        "    <tr>\n",
        "      <th>113.5</th>\n",
        "      <td> 0</td>\n",
        "    </tr>\n",
        "    <tr>\n",
        "      <th>114.5</th>\n",
        "      <td> 0</td>\n",
        "    </tr>\n",
        "  </tbody>\n",
        "</table>\n",
        "</div>"
       ],
       "metadata": {},
       "output_type": "pyout",
       "prompt_number": 20,
       "text": [
        "        num_of_adults\n",
        "height               \n",
        "110.5               0\n",
        "111.5               0\n",
        "112.5               0\n",
        "113.5               0\n",
        "114.5               0"
       ]
      }
     ],
     "prompt_number": 20
    },
    {
     "cell_type": "code",
     "collapsed": false,
     "input": [
      "df[(df.index >= 140) & (df.index <= 200)].count()"
     ],
     "language": "python",
     "metadata": {},
     "outputs": [
      {
       "metadata": {},
       "output_type": "pyout",
       "prompt_number": 21,
       "text": [
        "num_of_adults    60\n",
        "dtype: int64"
       ]
      }
     ],
     "prompt_number": 21
    },
    {
     "cell_type": "code",
     "collapsed": false,
     "input": [
      "heights = df.index.to_series()"
     ],
     "language": "python",
     "metadata": {},
     "outputs": [],
     "prompt_number": 26
    },
    {
     "cell_type": "code",
     "collapsed": false,
     "input": [
      "# reproduce figure 2.26 (page 104)\n",
      "fig, axes = plt.subplots(2, 2, sharex=True, figsize=[8,8])\n",
      "axes[0,0].hist(x=df.index.values, weights=df.num_of_adults.values, bins=np.linspace(140, 200, 7 ), histtype='step')\n",
      "axes[0,1].hist(x=df.index.values, weights=df.num_of_adults.values, bins=np.linspace(140, 200, 13), histtype='step')\n",
      "axes[1,0].hist(x=df.index.values, weights=df.num_of_adults.values, bins=np.linspace(140, 200, 31), histtype='step')\n",
      "axes[1,1].hist(x=df.index.values, weights=df.num_of_adults.values, bins=np.linspace(140, 200, 61), histtype='step')\n",
      "plt.show()"
     ],
     "language": "python",
     "metadata": {},
     "outputs": [
      {
       "metadata": {},
       "output_type": "display_data",
       "png": "[encoded data removed]",
       "text": [
        "<matplotlib.figure.Figure at 0x9def860>"
       ]
      }
     ],
     "prompt_number": 24
    },
    {
     "cell_type": "code",
     "collapsed": false,
     "input": [
      "mask = (heights >= 180) & (heights <= 185)\n",
      "df.num_of_adults[mask].sum()/float(df.num_of_adults.sum())"
     ],
     "language": "python",
     "metadata": {},
     "outputs": [
      {
       "metadata": {},
       "output_type": "pyout",
       "prompt_number": 27,
       "text": [
        "0.11718199999999999"
       ]
      }
     ],
     "prompt_number": 27
    },
    {
     "cell_type": "code",
     "collapsed": false,
     "input": [
      "# reproduce figure 2.28 (page 105)\n",
      "bins=np.linspace(140, 200, 61)\n",
      "plt.hist(x=df.index.values, weights=df.num_of_adults.values, bins=bins, normed=True, histtype='step')\n",
      "plt.plot(df.index.to_series(), df.num_of_adults/df.num_of_adults.sum(), \"r--\")\n",
      "plt.xlim([140,200])\n",
      "plt.show()"
     ],
     "language": "python",
     "metadata": {},
     "outputs": [
      {
       "metadata": {},
       "output_type": "display_data",
       "png": "[encoded data removed]",
       "text": [
        "<matplotlib.figure.Figure at 0xa5c5588>"
       ]
      }
     ],
     "prompt_number": 28
    },
    {
     "cell_type": "code",
     "collapsed": false,
     "input": [],
     "language": "python",
     "metadata": {},
     "outputs": []
    }
   ],
   "metadata": {}
  }
 ]
}