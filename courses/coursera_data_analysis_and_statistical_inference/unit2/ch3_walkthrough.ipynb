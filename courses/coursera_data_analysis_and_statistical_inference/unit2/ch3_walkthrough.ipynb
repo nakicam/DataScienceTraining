{
 "metadata": {
  "name": "ch3_walkthrough.ipynb"
 },
 "nbformat": 3,
 "nbformat_minor": 0,
 "worksheets": [
  {
   "cells": [
    {
     "cell_type": "heading",
     "level": 1,
     "metadata": {},
     "source": [
      "Chapter 3: Distributions of random variables"
     ]
    },
    {
     "cell_type": "heading",
     "level": 3,
     "metadata": {},
     "source": [
      "setup"
     ]
    },
    {
     "cell_type": "code",
     "collapsed": false,
     "input": [
      "# setup notebook\n",
      "import numpy as np\n",
      "import pandas as pd\n",
      "import matplotlib.pyplot as plt\n",
      "import os\n",
      "os.chdir('%s/courses/coursera_data_analysis_and_statistical_inference' % os.getenv('DST'))\n",
      "print(os.getcwd())\n",
      "\n",
      "np.set_printoptions(precision=4)\n",
      "plt.rc('figure', figsize=(10, 8))"
     ],
     "language": "python",
     "metadata": {},
     "outputs": [
      {
       "output_type": "stream",
       "stream": "stdout",
       "text": [
        "/Users/rwk7t/Development/dst/courses/coursera_data_analysis_and_statistical_inference\n"
       ]
      }
     ],
     "prompt_number": 1
    },
    {
     "cell_type": "heading",
     "level": 3,
     "metadata": {},
     "source": [
      "3.1 Normal Distribution"
     ]
    },
    {
     "cell_type": "code",
     "collapsed": false,
     "input": [
      "# exercise 3.7\n",
      "import scipy.stats\n",
      "score=1800\n",
      "rv = scipy.stats.norm(loc=1500, scale=300)\n",
      "x = np.linspace(400, 2400, 100)\n",
      "\n",
      "f = plt.figure()\n",
      "a = f.add_subplot(1,1,1)\n",
      "a.plot(x, rv.pdf(x))\n",
      "a.set_xlim([500,2500])\n",
      "\n",
      "print(\"Ann's percentile = %1.2f\" % rv.cdf(score))"
     ],
     "language": "python",
     "metadata": {},
     "outputs": [
      {
       "output_type": "stream",
       "stream": "stdout",
       "text": [
        "Ann's percentile = 0.84\n"
       ]
      },
      {
       "metadata": {},
       "output_type": "display_data",
       "png": "[encoded data removed]",
       "text": [
        "<matplotlib.figure.Figure at 0x10fcd0950>"
       ]
      }
     ],
     "prompt_number": 2
    },
    {
     "cell_type": "code",
     "collapsed": false,
     "input": [
      "# example 3.11\n",
      "print(\"Edward's percentile = %1.2f\" % rv.cdf(1400))"
     ],
     "language": "python",
     "metadata": {},
     "outputs": [
      {
       "output_type": "stream",
       "stream": "stdout",
       "text": [
        "Edward's percentile = 0.37\n"
       ]
      }
     ],
     "prompt_number": 3
    },
    {
     "cell_type": "code",
     "collapsed": false,
     "input": [
      "# ex 3.12\n",
      "print(\"Proportion that did better than Edward = %1.2f\" % (1.0 - rv.cdf(1400)))"
     ],
     "language": "python",
     "metadata": {},
     "outputs": [
      {
       "output_type": "stream",
       "stream": "stdout",
       "text": [
        "Proportion that did better than Edward = 0.63\n"
       ]
      }
     ],
     "prompt_number": 4
    },
    {
     "cell_type": "code",
     "collapsed": false,
     "input": [
      "np.math.pi"
     ],
     "language": "python",
     "metadata": {},
     "outputs": [
      {
       "metadata": {},
       "output_type": "pyout",
       "prompt_number": 5,
       "text": [
        "3.141592653589793"
       ]
      }
     ],
     "prompt_number": 5
    },
    {
     "cell_type": "code",
     "collapsed": false,
     "input": [
      "from scipy.stats import norm\n",
      "from matplotlib.patches import Polygon\n",
      "\n",
      "# input and normal RV\n",
      "mu, sigma, score = 1500, 300, 1400\n",
      "perc = rv.cdf(score)\n",
      "rv   = norm(loc=mu, scale=sigma)\n",
      "x    = np.linspace(rv.ppf(0.001), rv.ppf(0.999), 100)\n",
      "\n",
      "# plot normal pdf\n",
      "fig, ax = plt.subplots(1, 1)\n",
      "ax.plot(x, rv.pdf(x), 'k-', lw=2, label='normal distribution')\n",
      "\n",
      "# Make the shaded region\n",
      "a, b = rv.ppf(0.001), rv.ppf(perc)\n",
      "ix = np.linspace(a, b)\n",
      "iy = rv.pdf(ix)\n",
      "verts = [(a, 0)] + list(zip(ix, iy)) + [(b, 0)]\n",
      "poly = Polygon(verts, facecolor='0.9', edgecolor='0.5')\n",
      "ax.add_patch(poly)\n",
      "\n",
      "# labels\n",
      "plt.text(b, 0.0004, r\"$%1.0f^{th}$ percentile\" % (100.0*perc), horizontalalignment='center', fontsize=15)\n",
      "plt.figtext(0.9, 0.05, 'score')\n",
      "ax.spines['right'].set_visible(False)\n",
      "ax.spines['top'  ].set_visible(False)\n",
      "ax.spines['left' ].set_visible(False)\n",
      "ax.xaxis.set_ticks_position('bottom')\n",
      "ax.set_xticks((mu-sigma, mu, mu+sigma))\n",
      "ax.set_xticklabels(('$\\mu-\\sigma$', '$\\mu$', '$\\mu+\\sigma$'), size=20)\n",
      "ax.set_yticks([])\n",
      "plt.show()"
     ],
     "language": "python",
     "metadata": {},
     "outputs": [
      {
       "metadata": {},
       "output_type": "display_data",
       "png": "[encoded data removed]",
       "text": [
        "<matplotlib.figure.Figure at 0x10eb48ad0>"
       ]
      }
     ],
     "prompt_number": 6
    },
    {
     "cell_type": "code",
     "collapsed": false,
     "input": [
      "# ex 3.14\n",
      "rv = norm(loc=70, scale=3.3)\n",
      "print(\"Mike's percentile = %1.2f\" % rv.cdf(5*12+7))\n",
      "print(\"Jim's  percentile = %1.2f\" % rv.cdf(6*12+4))"
     ],
     "language": "python",
     "metadata": {},
     "outputs": [
      {
       "output_type": "stream",
       "stream": "stdout",
       "text": [
        "Mike's percentile = 0.18\n",
        "Jim's  percentile = 0.97\n"
       ]
      }
     ],
     "prompt_number": 7
    },
    {
     "cell_type": "code",
     "collapsed": false,
     "input": [
      "# example 3.15\n",
      "h = rv.ppf(0.40)\n",
      "print(\"Erik's hieght = %1.0f\\\" (or %d'%d\\\")\" % (h, h/12, h%12))"
     ],
     "language": "python",
     "metadata": {},
     "outputs": [
      {
       "output_type": "stream",
       "stream": "stdout",
       "text": [
        "Erik's hieght = 69\" (or 5'9\")\n"
       ]
      }
     ],
     "prompt_number": 8
    },
    {
     "cell_type": "code",
     "collapsed": false,
     "input": [
      "# example 3.19\n",
      "rv = norm(loc=70, scale=3.3)\n",
      "p = np.diff(rv.cdf([69,74]))\n",
      "print(\"P(5'9\\\" to 6'2\\\") = %1.3f\" % p)"
     ],
     "language": "python",
     "metadata": {},
     "outputs": [
      {
       "output_type": "stream",
       "stream": "stdout",
       "text": [
        "P(5'9\" to 6'2\") = 0.506\n"
       ]
      }
     ],
     "prompt_number": 9
    },
    {
     "cell_type": "code",
     "collapsed": false,
     "input": [
      "p,e = scipy.integrate.quad(lambda x: rv.pdf(x), 69, 74)\n",
      "print(\"P(5'9\\\" to 6'2\\\") = %1.3f\" % p)"
     ],
     "language": "python",
     "metadata": {},
     "outputs": [
      {
       "output_type": "stream",
       "stream": "stdout",
       "text": [
        "P(5'9\" to 6'2\") = 0.506\n"
       ]
      }
     ],
     "prompt_number": 10
    },
    {
     "cell_type": "heading",
     "level": 3,
     "metadata": {},
     "source": [
      "3.3 Evaluating the Normal Distribution"
     ]
    },
    {
     "cell_type": "code",
     "collapsed": false,
     "input": [
      "# figure 3.10"
     ],
     "language": "python",
     "metadata": {},
     "outputs": [],
     "prompt_number": 11
    },
    {
     "cell_type": "code",
     "collapsed": false,
     "input": [
      "df = pd.read_table('data/fcid.txt', index_col='height')\n",
      "df.head()"
     ],
     "language": "python",
     "metadata": {},
     "outputs": [
      {
       "html": [
        "<div style=\"max-height:1000px;max-width:1500px;overflow:auto;\">\n",
        "<table border=\"1\" class=\"dataframe\">\n",
        "  <thead>\n",
        "    <tr style=\"text-align: right;\">\n",
        "      <th></th>\n",
        "      <th>num_of_adults</th>\n",
        "    </tr>\n",
        "    <tr>\n",
        "      <th>height</th>\n",
        "      <th></th>\n",
        "    </tr>\n",
        "  </thead>\n",
        "  <tbody>\n",
        "    <tr>\n",
        "      <th>110.5</th>\n",
        "      <td> 0</td>\n",
        "    </tr>\n",
        "    <tr>\n",
        "      <th>111.5</th>\n",
        "      <td> 0</td>\n",
        "    </tr>\n",
        "    <tr>\n",
        "      <th>112.5</th>\n",
        "      <td> 0</td>\n",
        "    </tr>\n",
        "    <tr>\n",
        "      <th>113.5</th>\n",
        "      <td> 0</td>\n",
        "    </tr>\n",
        "    <tr>\n",
        "      <th>114.5</th>\n",
        "      <td> 0</td>\n",
        "    </tr>\n",
        "  </tbody>\n",
        "</table>\n",
        "</div>"
       ],
       "metadata": {},
       "output_type": "pyout",
       "prompt_number": 12,
       "text": [
        "        num_of_adults\n",
        "height               \n",
        "110.5               0\n",
        "111.5               0\n",
        "112.5               0\n",
        "113.5               0\n",
        "114.5               0"
       ]
      }
     ],
     "prompt_number": 12
    },
    {
     "cell_type": "code",
     "collapsed": false,
     "input": [
      "np.random.seed(1)\n",
      "rv   = norm(loc=70, scale=3.3)\n",
      "N    = 100\n",
      "x    = np.linspace(60, 80, N)\n",
      "bins = np.linspace(60, 80, 11)\n",
      "h    = rv.rvs(size=N)\n",
      "g    = rv.pdf(x)\n",
      "\n",
      "fig, axes = plt.subplots(1, 2, figsize=(10,6))\n",
      "axes[0].hist(h, bins=bins, histtype='step', normed=True)\n",
      "axes[0].plot(x, g, 'r')\n",
      "scipy.stats.probplot(h, plot=axes[1])\n",
      "plt.show()"
     ],
     "language": "python",
     "metadata": {},
     "outputs": [
      {
       "metadata": {},
       "output_type": "display_data",
       "png": "[encoded data removed]",
       "text": [
        "<matplotlib.figure.Figure at 0x10ff3c750>"
       ]
      }
     ],
     "prompt_number": 13
    },
    {
     "cell_type": "code",
     "collapsed": false,
     "input": [
      "# construct by hand (page 132)\n",
      "\n",
      "# (1)\n",
      "h.sort()\n",
      "\n",
      "# (2)\n",
      "perc = (np.arange(0, len(h), dtype=np.float32)/len(h))\n",
      "\n",
      "# (3)\n",
      "z = scipy.stats.norm.ppf(perc)\n",
      "\n",
      "# (4)\n",
      "plt.scatter(z, h)"
     ],
     "language": "python",
     "metadata": {},
     "outputs": [
      {
       "metadata": {},
       "output_type": "pyout",
       "prompt_number": 14,
       "text": [
        "<matplotlib.collections.PathCollection at 0x1105a7450>"
       ]
      },
      {
       "metadata": {},
       "output_type": "display_data",
       "png": "[encoded data removed]",
       "text": [
        "<matplotlib.figure.Figure at 0x10eb3c950>"
       ]
      }
     ],
     "prompt_number": 14
    },
    {
     "cell_type": "heading",
     "level": 3,
     "metadata": {},
     "source": [
      "3.4 Binomial Distibution"
     ]
    },
    {
     "cell_type": "code",
     "collapsed": false,
     "input": [
      "# ex 3.42\n",
      "p = 0.35\n",
      "n = 8\n",
      "k = 3\n",
      "print(\"P(3 of 8 will refuse) = %1.2f\" % (scipy.misc.comb(n,k) * p**k * (1-p)**(n-k)))"
     ],
     "language": "python",
     "metadata": {},
     "outputs": [
      {
       "output_type": "stream",
       "stream": "stdout",
       "text": [
        "P(3 of 8 will refuse) = 0.28\n"
       ]
      }
     ],
     "prompt_number": 15
    },
    {
     "cell_type": "code",
     "collapsed": false,
     "input": [
      "# ex 3.42 using scipy.binom\n",
      "rv = scipy.stats.binom(n, p)\n",
      "print(\"P(3 of 8 will refuse) = %1.2f\" % rv.pmf(3))"
     ],
     "language": "python",
     "metadata": {},
     "outputs": [
      {
       "output_type": "stream",
       "stream": "stdout",
       "text": [
        "P(3 of 8 will refuse) = 0.28\n"
       ]
      }
     ],
     "prompt_number": 16
    },
    {
     "cell_type": "code",
     "collapsed": false,
     "input": [
      "# ex 3.43\n",
      "from IPython.display import display, Math, Latex\n",
      "\n",
      "n = 40\n",
      "rv = scipy.stats.binom(n, p)\n",
      "display(Latex(\"$E(X) = %1.2f$\"      % rv.mean()), fontsize=18)\n",
      "display(Latex(\"$\\sigma(X) = %1.2f$\" % rv.std()) )"
     ],
     "language": "python",
     "metadata": {},
     "outputs": [
      {
       "latex": [
        "$E(X) = 14.00$"
       ],
       "metadata": {},
       "output_type": "display_data",
       "text": [
        "<IPython.core.display.Latex at 0x11058b150>"
       ]
      },
      {
       "latex": [
        "$\\sigma(X) = 3.02$"
       ],
       "metadata": {},
       "output_type": "display_data",
       "text": [
        "<IPython.core.display.Latex at 0x10ff42a10>"
       ]
      }
     ],
     "prompt_number": 17
    },
    {
     "cell_type": "code",
     "collapsed": false,
     "input": [
      "# ex 3.5\n",
      "p = 0.3\n",
      "n = 4\n",
      "rv = scipy.stats.binom(n, p)\n",
      "print(\"yes, binomial is appropriate\")\n",
      "print(\"(a) P(0 w/cancer) = %1.2f\" % rv.pmf(0))\n",
      "print(\"(b) P(1 w/cancer) = %1.2f\" % rv.pmf(1))\n",
      "print(\"(c) P(<= one)     = %1.2f\" % rv.cdf(1))\n"
     ],
     "language": "python",
     "metadata": {},
     "outputs": [
      {
       "output_type": "stream",
       "stream": "stdout",
       "text": [
        "yes, binomial is appropriate\n",
        "(a) P(0 w/cancer) = 0.24\n",
        "(b) P(1 w/cancer) = 0.41\n",
        "(c) P(<= one)     = 0.65\n"
       ]
      }
     ],
     "prompt_number": 18
    },
    {
     "cell_type": "code",
     "collapsed": false,
     "input": [
      "# ex 3.46\n",
      "print(\"P(>= 2) = %1.2f\" % (1.0 - rv.cdf(1)))\n",
      "print(\"P(>= 2) = %1.2f\" % rv.sf(1)) # survival function = 1 - cdf"
     ],
     "language": "python",
     "metadata": {},
     "outputs": [
      {
       "output_type": "stream",
       "stream": "stdout",
       "text": [
        "P(>= 2) = 0.35\n",
        "P(>= 2) = 0.35\n"
       ]
      }
     ],
     "prompt_number": 19
    },
    {
     "cell_type": "code",
     "collapsed": false,
     "input": [
      "# ex 3.50\n",
      "p = 0.2\n",
      "n = 400\n",
      "rv = scipy.stats.binom(n, p)\n",
      "print(\"P(k<=59 smoke) = %1.5f\" % rv.cdf(59))"
     ],
     "language": "python",
     "metadata": {},
     "outputs": [
      {
       "output_type": "stream",
       "stream": "stdout",
       "text": [
        "P(k<=59 smoke) = 0.00411\n"
       ]
      }
     ],
     "prompt_number": 20
    },
    {
     "cell_type": "code",
     "collapsed": false,
     "input": [
      "# ex 3.53\n",
      "p = 0.2\n",
      "n = 400\n",
      "rv = scipy.stats.norm(loc=n*p, scale=sqrt(n*p*(1-p)))\n",
      "print(\"P(k<=59 smoke) = %1.5f\" % rv.cdf(59))"
     ],
     "language": "python",
     "metadata": {},
     "outputs": [
      {
       "output_type": "stream",
       "stream": "stdout",
       "text": [
        "P(k<=59 smoke) = 0.00433\n"
       ]
      }
     ],
     "prompt_number": 21
    }
   ],
   "metadata": {}
  }
 ]
}