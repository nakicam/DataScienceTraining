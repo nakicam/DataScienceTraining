{
 "metadata": {
  "name": "ch4_walkthrough.ipynb"
 },
 "nbformat": 3,
 "nbformat_minor": 0,
 "worksheets": [
  {
   "cells": [
    {
     "cell_type": "heading",
     "level": 1,
     "metadata": {},
     "source": [
      "Chapter 4: Foundations of Inference"
     ]
    },
    {
     "cell_type": "heading",
     "level": 3,
     "metadata": {},
     "source": [
      "setup"
     ]
    },
    {
     "cell_type": "code",
     "collapsed": false,
     "input": [
      "# setup notebook\n",
      "import numpy as np\n",
      "import pandas as pd\n",
      "import matplotlib.pyplot as plt\n",
      "from IPython.display import display, Math, Latex\n",
      "import os\n",
      "os.chdir('%s/courses/coursera_data_analysis_and_statistical_inference' % os.getenv('DST'))\n",
      "print(os.getcwd())\n",
      "\n",
      "\n",
      "np.set_printoptions(precision=4)\n",
      "plt.rc('figure', figsize=(10, 8))"
     ],
     "language": "python",
     "metadata": {},
     "outputs": [
      {
       "output_type": "stream",
       "stream": "stdout",
       "text": [
        "C:\\Users\\J28976\\Documents\\Development\\dst\\courses\\coursera_data_analysis_and_statistical_inference\n"
       ]
      }
     ],
     "prompt_number": 21
    },
    {
     "cell_type": "heading",
     "level": 3,
     "metadata": {},
     "source": [
      "4.1 Variability of Estimates"
     ]
    },
    {
     "cell_type": "code",
     "collapsed": false,
     "input": [
      "df = pd.read_table('data/run10.txt')\n",
      "df.head()"
     ],
     "language": "python",
     "metadata": {},
     "outputs": [
      {
       "html": [
        "<div style=\"max-height:1000px;max-width:1500px;overflow:auto;\">\n",
        "<table border=\"1\" class=\"dataframe\">\n",
        "  <thead>\n",
        "    <tr style=\"text-align: right;\">\n",
        "      <th></th>\n",
        "      <th>place</th>\n",
        "      <th>time</th>\n",
        "      <th>pace</th>\n",
        "      <th>age</th>\n",
        "      <th>gender</th>\n",
        "      <th>location</th>\n",
        "      <th>state</th>\n",
        "      <th>divPlace</th>\n",
        "      <th>divTot</th>\n",
        "    </tr>\n",
        "  </thead>\n",
        "  <tbody>\n",
        "    <tr>\n",
        "      <th>0</th>\n",
        "      <td> 4494</td>\n",
        "      <td>  92.25</td>\n",
        "      <td>  9.225</td>\n",
        "      <td> 38</td>\n",
        "      <td> M</td>\n",
        "      <td> Chesapeake Beach MD</td>\n",
        "      <td> MD</td>\n",
        "      <td>  690</td>\n",
        "      <td> 1093</td>\n",
        "    </tr>\n",
        "    <tr>\n",
        "      <th>1</th>\n",
        "      <td> 6298</td>\n",
        "      <td> 106.35</td>\n",
        "      <td> 10.635</td>\n",
        "      <td> 33</td>\n",
        "      <td> M</td>\n",
        "      <td>       Washington DC</td>\n",
        "      <td> DC</td>\n",
        "      <td> 1322</td>\n",
        "      <td> 1490</td>\n",
        "    </tr>\n",
        "    <tr>\n",
        "      <th>2</th>\n",
        "      <td> 2502</td>\n",
        "      <td>  89.33</td>\n",
        "      <td>  8.933</td>\n",
        "      <td> 55</td>\n",
        "      <td> F</td>\n",
        "      <td>           McLean VA</td>\n",
        "      <td> VA</td>\n",
        "      <td>   37</td>\n",
        "      <td>  236</td>\n",
        "    </tr>\n",
        "    <tr>\n",
        "      <th>3</th>\n",
        "      <td> 8176</td>\n",
        "      <td> 113.50</td>\n",
        "      <td> 11.350</td>\n",
        "      <td> 24</td>\n",
        "      <td> F</td>\n",
        "      <td>       Alexandria VA</td>\n",
        "      <td> VA</td>\n",
        "      <td>  878</td>\n",
        "      <td>  974</td>\n",
        "    </tr>\n",
        "    <tr>\n",
        "      <th>4</th>\n",
        "      <td> 3413</td>\n",
        "      <td>  86.52</td>\n",
        "      <td>  8.652</td>\n",
        "      <td> 54</td>\n",
        "      <td> M</td>\n",
        "      <td>    San Francisco CA</td>\n",
        "      <td> CA</td>\n",
        "      <td>  213</td>\n",
        "      <td>  483</td>\n",
        "    </tr>\n",
        "  </tbody>\n",
        "</table>\n",
        "</div>"
       ],
       "metadata": {},
       "output_type": "pyout",
       "prompt_number": 6,
       "text": [
        "   place    time    pace  age gender             location state  divPlace  \\\n",
        "0   4494   92.25   9.225   38      M  Chesapeake Beach MD    MD       690   \n",
        "1   6298  106.35  10.635   33      M        Washington DC    DC      1322   \n",
        "2   2502   89.33   8.933   55      F            McLean VA    VA        37   \n",
        "3   8176  113.50  11.350   24      F        Alexandria VA    VA       878   \n",
        "4   3413   86.52   8.652   54      M     San Francisco CA    CA       213   \n",
        "\n",
        "   divTot  \n",
        "0    1093  \n",
        "1    1490  \n",
        "2     236  \n",
        "3     974  \n",
        "4     483  "
       ]
      }
     ],
     "prompt_number": 6
    },
    {
     "cell_type": "code",
     "collapsed": false,
     "input": [
      "df_sample = pd.read_table('data/run10Samp.txt')\n",
      "df_sample.head()"
     ],
     "language": "python",
     "metadata": {},
     "outputs": [
      {
       "html": [
        "<div style=\"max-height:1000px;max-width:1500px;overflow:auto;\">\n",
        "<table border=\"1\" class=\"dataframe\">\n",
        "  <thead>\n",
        "    <tr style=\"text-align: right;\">\n",
        "      <th></th>\n",
        "      <th>time</th>\n",
        "      <th>age</th>\n",
        "      <th>gender</th>\n",
        "      <th>state</th>\n",
        "    </tr>\n",
        "  </thead>\n",
        "  <tbody>\n",
        "    <tr>\n",
        "      <th>0</th>\n",
        "      <td>  88.31</td>\n",
        "      <td> 59</td>\n",
        "      <td> M</td>\n",
        "      <td> MD</td>\n",
        "    </tr>\n",
        "    <tr>\n",
        "      <th>1</th>\n",
        "      <td> 100.67</td>\n",
        "      <td> 32</td>\n",
        "      <td> M</td>\n",
        "      <td> VA</td>\n",
        "    </tr>\n",
        "    <tr>\n",
        "      <th>2</th>\n",
        "      <td> 109.52</td>\n",
        "      <td> 33</td>\n",
        "      <td> F</td>\n",
        "      <td> VA</td>\n",
        "    </tr>\n",
        "    <tr>\n",
        "      <th>3</th>\n",
        "      <td>  87.11</td>\n",
        "      <td> 52</td>\n",
        "      <td> M</td>\n",
        "      <td> PA</td>\n",
        "    </tr>\n",
        "    <tr>\n",
        "      <th>4</th>\n",
        "      <td>  73.02</td>\n",
        "      <td> 40</td>\n",
        "      <td> M</td>\n",
        "      <td> DC</td>\n",
        "    </tr>\n",
        "  </tbody>\n",
        "</table>\n",
        "</div>"
       ],
       "metadata": {},
       "output_type": "pyout",
       "prompt_number": 7,
       "text": [
        "     time  age gender state\n",
        "0   88.31   59      M    MD\n",
        "1  100.67   32      M    VA\n",
        "2  109.52   33      F    VA\n",
        "3   87.11   52      M    PA\n",
        "4   73.02   40      M    DC"
       ]
      }
     ],
     "prompt_number": 7
    },
    {
     "cell_type": "code",
     "collapsed": false,
     "input": [
      "df_sample.time.hist(bins=np.arange(50,150,10))"
     ],
     "language": "python",
     "metadata": {},
     "outputs": [
      {
       "metadata": {},
       "output_type": "pyout",
       "prompt_number": 18,
       "text": [
        "<matplotlib.axes._subplots.AxesSubplot at 0xc7997b8>"
       ]
      },
      {
       "metadata": {},
       "output_type": "display_data",
       "png": "[encoded data removed]",
       "text": [
        "<matplotlib.figure.Figure at 0xc79c550>"
       ]
      }
     ],
     "prompt_number": 18
    },
    {
     "cell_type": "code",
     "collapsed": false,
     "input": [
      "df_sample.age.hist(bins=np.arange(20,70,5))"
     ],
     "language": "python",
     "metadata": {},
     "outputs": [
      {
       "metadata": {},
       "output_type": "pyout",
       "prompt_number": 17,
       "text": [
        "<matplotlib.axes._subplots.AxesSubplot at 0x92ccda0>"
       ]
      },
      {
       "metadata": {},
       "output_type": "display_data",
       "png": "[encoded data removed]",
       "text": [
        "<matplotlib.figure.Figure at 0x92d6198>"
       ]
      }
     ],
     "prompt_number": 17
    },
    {
     "cell_type": "code",
     "collapsed": false,
     "input": [
      "x_bar = df_sample.time.mean()\n",
      "y_bar = df_sample.age.mean()\n",
      "display(Latex(r\"$\\bar{x} = %1.2f$\" % x_bar))\n",
      "display(Latex(r\"$\\bar{y} = %1.2f$\" % y_bar))"
     ],
     "language": "python",
     "metadata": {},
     "outputs": [
      {
       "latex": [
        "$\\bar{x} = 95.61$"
       ],
       "metadata": {},
       "output_type": "display_data",
       "text": [
        "<IPython.core.display.Latex at 0xc73c8d0>"
       ]
      },
      {
       "latex": [
        "$\\bar{y} = 35.05$"
       ],
       "metadata": {},
       "output_type": "display_data",
       "text": [
        "<IPython.core.display.Latex at 0xc73c8d0>"
       ]
      }
     ],
     "prompt_number": 27
    },
    {
     "cell_type": "code",
     "collapsed": false,
     "input": [],
     "language": "python",
     "metadata": {},
     "outputs": [
      {
       "metadata": {},
       "output_type": "pyout",
       "prompt_number": 31,
       "text": [
        "87.645333333333326"
       ]
      }
     ],
     "prompt_number": 31
    },
    {
     "cell_type": "code",
     "collapsed": false,
     "input": [
      "# ex 4.1\n",
      "x_bar_m = df_sample[df_sample.gender == 'M'].time.mean()\n",
      "x_bar_w = df_sample[df_sample.gender == 'F'].time.mean()\n",
      "display(Latex(r\"$\\bar{d} = \\bar{x}_{men} - \\bar{y}_{women} = %1.2f - %1.2f = %1.2f$\" % \n",
      "              (x_bar_m, x_bar_w, x_bar_m - x_bar_w)))"
     ],
     "language": "python",
     "metadata": {},
     "outputs": [
      {
       "latex": [
        "$\\bar{d} = \\bar{x}_{men} - \\bar{y}_{women} = 87.65 - 102.13 = -14.49$"
       ],
       "metadata": {},
       "output_type": "display_data",
       "text": [
        "<IPython.core.display.Latex at 0x92643c8>"
       ]
      }
     ],
     "prompt_number": 34
    },
    {
     "cell_type": "code",
     "collapsed": false,
     "input": [
      "# figure 4.6\n",
      "means = pd.Series([df_sample[0:n].time.mean() for n in df_sample.index], index=df_sample.index)\n",
      "means.plot()"
     ],
     "language": "python",
     "metadata": {},
     "outputs": [
      {
       "metadata": {},
       "output_type": "pyout",
       "prompt_number": 43,
       "text": [
        "<matplotlib.axes._subplots.AxesSubplot at 0xccf96a0>"
       ]
      },
      {
       "metadata": {},
       "output_type": "display_data",
       "png": "[encoded data removed]",
       "text": [
        "<matplotlib.figure.Figure at 0xcd127f0>"
       ]
      }
     ],
     "prompt_number": 43
    },
    {
     "cell_type": "code",
     "collapsed": false,
     "input": [],
     "language": "python",
     "metadata": {},
     "outputs": []
    }
   ],
   "metadata": {}
  }
 ]
}