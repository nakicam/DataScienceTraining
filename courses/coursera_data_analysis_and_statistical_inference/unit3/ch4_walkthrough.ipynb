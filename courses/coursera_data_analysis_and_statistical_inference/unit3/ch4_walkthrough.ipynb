{
 "metadata": {
  "name": "ch4_walkthrough.ipynb"
 },
 "nbformat": 3,
 "nbformat_minor": 0,
 "worksheets": [
  {
   "cells": [
    {
     "cell_type": "heading",
     "level": 1,
     "metadata": {},
     "source": [
      "Chapter 4: Foundations of Inference"
     ]
    },
    {
     "cell_type": "heading",
     "level": 3,
     "metadata": {},
     "source": [
      "setup"
     ]
    },
    {
     "cell_type": "code",
     "collapsed": false,
     "input": [
      "# setup notebook\n",
      "import numpy as np\n",
      "import pandas as pd\n",
      "import matplotlib.pyplot as plt\n",
      "from IPython.display import display, Math, Latex\n",
      "import os\n",
      "os.chdir('%s/courses/coursera_data_analysis_and_statistical_inference' % os.getenv('DST'))\n",
      "print(os.getcwd())\n",
      "\n",
      "\n",
      "np.set_printoptions(precision=4)\n",
      "plt.rc('figure', figsize=(10, 8))"
     ],
     "language": "python",
     "metadata": {},
     "outputs": [
      {
       "output_type": "stream",
       "stream": "stdout",
       "text": [
        "C:\\Users\\J28976\\Documents\\Development\\dst\\courses\\coursera_data_analysis_and_statistical_inference\n"
       ]
      }
     ],
     "prompt_number": 30
    },
    {
     "cell_type": "heading",
     "level": 3,
     "metadata": {},
     "source": [
      "4.1 Variability of Estimates"
     ]
    },
    {
     "cell_type": "code",
     "collapsed": false,
     "input": [
      "df = pd.read_table('data/run10.txt')\n",
      "df.head()"
     ],
     "language": "python",
     "metadata": {},
     "outputs": [
      {
       "html": [
        "<div style=\"max-height:1000px;max-width:1500px;overflow:auto;\">\n",
        "<table border=\"1\" class=\"dataframe\">\n",
        "  <thead>\n",
        "    <tr style=\"text-align: right;\">\n",
        "      <th></th>\n",
        "      <th>place</th>\n",
        "      <th>time</th>\n",
        "      <th>pace</th>\n",
        "      <th>age</th>\n",
        "      <th>gender</th>\n",
        "      <th>location</th>\n",
        "      <th>state</th>\n",
        "      <th>divPlace</th>\n",
        "      <th>divTot</th>\n",
        "    </tr>\n",
        "  </thead>\n",
        "  <tbody>\n",
        "    <tr>\n",
        "      <th>0</th>\n",
        "      <td> 4494</td>\n",
        "      <td>  92.25</td>\n",
        "      <td>  9.225</td>\n",
        "      <td> 38</td>\n",
        "      <td> M</td>\n",
        "      <td> Chesapeake Beach MD</td>\n",
        "      <td> MD</td>\n",
        "      <td>  690</td>\n",
        "      <td> 1093</td>\n",
        "    </tr>\n",
        "    <tr>\n",
        "      <th>1</th>\n",
        "      <td> 6298</td>\n",
        "      <td> 106.35</td>\n",
        "      <td> 10.635</td>\n",
        "      <td> 33</td>\n",
        "      <td> M</td>\n",
        "      <td>       Washington DC</td>\n",
        "      <td> DC</td>\n",
        "      <td> 1322</td>\n",
        "      <td> 1490</td>\n",
        "    </tr>\n",
        "    <tr>\n",
        "      <th>2</th>\n",
        "      <td> 2502</td>\n",
        "      <td>  89.33</td>\n",
        "      <td>  8.933</td>\n",
        "      <td> 55</td>\n",
        "      <td> F</td>\n",
        "      <td>           McLean VA</td>\n",
        "      <td> VA</td>\n",
        "      <td>   37</td>\n",
        "      <td>  236</td>\n",
        "    </tr>\n",
        "    <tr>\n",
        "      <th>3</th>\n",
        "      <td> 8176</td>\n",
        "      <td> 113.50</td>\n",
        "      <td> 11.350</td>\n",
        "      <td> 24</td>\n",
        "      <td> F</td>\n",
        "      <td>       Alexandria VA</td>\n",
        "      <td> VA</td>\n",
        "      <td>  878</td>\n",
        "      <td>  974</td>\n",
        "    </tr>\n",
        "    <tr>\n",
        "      <th>4</th>\n",
        "      <td> 3413</td>\n",
        "      <td>  86.52</td>\n",
        "      <td>  8.652</td>\n",
        "      <td> 54</td>\n",
        "      <td> M</td>\n",
        "      <td>    San Francisco CA</td>\n",
        "      <td> CA</td>\n",
        "      <td>  213</td>\n",
        "      <td>  483</td>\n",
        "    </tr>\n",
        "  </tbody>\n",
        "</table>\n",
        "</div>"
       ],
       "metadata": {},
       "output_type": "pyout",
       "prompt_number": 59,
       "text": [
        "   place    time    pace  age gender             location state  divPlace  \\\n",
        "0   4494   92.25   9.225   38      M  Chesapeake Beach MD    MD       690   \n",
        "1   6298  106.35  10.635   33      M        Washington DC    DC      1322   \n",
        "2   2502   89.33   8.933   55      F            McLean VA    VA        37   \n",
        "3   8176  113.50  11.350   24      F        Alexandria VA    VA       878   \n",
        "4   3413   86.52   8.652   54      M     San Francisco CA    CA       213   \n",
        "\n",
        "   divTot  \n",
        "0    1093  \n",
        "1    1490  \n",
        "2     236  \n",
        "3     974  \n",
        "4     483  "
       ]
      }
     ],
     "prompt_number": 59
    },
    {
     "cell_type": "code",
     "collapsed": false,
     "input": [
      "df_sample = pd.read_table('data/run10Samp.txt')\n",
      "df_sample.head()"
     ],
     "language": "python",
     "metadata": {},
     "outputs": [
      {
       "html": [
        "<div style=\"max-height:1000px;max-width:1500px;overflow:auto;\">\n",
        "<table border=\"1\" class=\"dataframe\">\n",
        "  <thead>\n",
        "    <tr style=\"text-align: right;\">\n",
        "      <th></th>\n",
        "      <th>time</th>\n",
        "      <th>age</th>\n",
        "      <th>gender</th>\n",
        "      <th>state</th>\n",
        "    </tr>\n",
        "  </thead>\n",
        "  <tbody>\n",
        "    <tr>\n",
        "      <th>0</th>\n",
        "      <td>  88.31</td>\n",
        "      <td> 59</td>\n",
        "      <td> M</td>\n",
        "      <td> MD</td>\n",
        "    </tr>\n",
        "    <tr>\n",
        "      <th>1</th>\n",
        "      <td> 100.67</td>\n",
        "      <td> 32</td>\n",
        "      <td> M</td>\n",
        "      <td> VA</td>\n",
        "    </tr>\n",
        "    <tr>\n",
        "      <th>2</th>\n",
        "      <td> 109.52</td>\n",
        "      <td> 33</td>\n",
        "      <td> F</td>\n",
        "      <td> VA</td>\n",
        "    </tr>\n",
        "    <tr>\n",
        "      <th>3</th>\n",
        "      <td>  87.11</td>\n",
        "      <td> 52</td>\n",
        "      <td> M</td>\n",
        "      <td> PA</td>\n",
        "    </tr>\n",
        "    <tr>\n",
        "      <th>4</th>\n",
        "      <td>  73.02</td>\n",
        "      <td> 40</td>\n",
        "      <td> M</td>\n",
        "      <td> DC</td>\n",
        "    </tr>\n",
        "  </tbody>\n",
        "</table>\n",
        "</div>"
       ],
       "metadata": {},
       "output_type": "pyout",
       "prompt_number": 60,
       "text": [
        "     time  age gender state\n",
        "0   88.31   59      M    MD\n",
        "1  100.67   32      M    VA\n",
        "2  109.52   33      F    VA\n",
        "3   87.11   52      M    PA\n",
        "4   73.02   40      M    DC"
       ]
      }
     ],
     "prompt_number": 60
    },
    {
     "cell_type": "code",
     "collapsed": false,
     "input": [
      "df_sample.time.hist(bins=np.arange(50,150,10))"
     ],
     "language": "python",
     "metadata": {},
     "outputs": [
      {
       "metadata": {},
       "output_type": "pyout",
       "prompt_number": 33,
       "text": [
        "<matplotlib.axes._subplots.AxesSubplot at 0xc33bd30>"
       ]
      },
      {
       "metadata": {},
       "output_type": "display_data",
       "png": "[encoded data removed]",
       "text": [
        "<matplotlib.figure.Figure at 0xc33b748>"
       ]
      }
     ],
     "prompt_number": 33
    },
    {
     "cell_type": "code",
     "collapsed": false,
     "input": [
      "df_sample.age.hist(bins=np.arange(20,70,5))"
     ],
     "language": "python",
     "metadata": {},
     "outputs": [
      {
       "metadata": {},
       "output_type": "pyout",
       "prompt_number": 34,
       "text": [
        "<matplotlib.axes._subplots.AxesSubplot at 0xc36b208>"
       ]
      },
      {
       "metadata": {},
       "output_type": "display_data",
       "png": "[encoded data removed]",
       "text": [
        "<matplotlib.figure.Figure at 0xc36bd68>"
       ]
      }
     ],
     "prompt_number": 34
    },
    {
     "cell_type": "code",
     "collapsed": false,
     "input": [
      "x_bar = df_sample.time.mean()\n",
      "y_bar = df_sample.age.mean()\n",
      "display(Latex(r\"$\\bar{x} = %1.2f$\" % x_bar))\n",
      "display(Latex(r\"$\\bar{y} = %1.2f$\" % y_bar))"
     ],
     "language": "python",
     "metadata": {},
     "outputs": [
      {
       "latex": [
        "$\\bar{x} = 95.61$"
       ],
       "metadata": {},
       "output_type": "display_data",
       "text": [
        "<IPython.core.display.Latex at 0x9689550>"
       ]
      },
      {
       "latex": [
        "$\\bar{y} = 35.05$"
       ],
       "metadata": {},
       "output_type": "display_data",
       "text": [
        "<IPython.core.display.Latex at 0x9689518>"
       ]
      }
     ],
     "prompt_number": 35
    },
    {
     "cell_type": "code",
     "collapsed": false,
     "input": [
      "# ex 4.1\n",
      "x_bar_m = df_sample[df_sample.gender == 'M'].time.mean()\n",
      "x_bar_w = df_sample[df_sample.gender == 'F'].time.mean()\n",
      "display(Latex(r\"$\\bar{d} = \\bar{x}_{men} - \\bar{y}_{women} = %1.2f - %1.2f = %1.2f$\" % \n",
      "              (x_bar_m, x_bar_w, x_bar_m - x_bar_w)))"
     ],
     "language": "python",
     "metadata": {},
     "outputs": [
      {
       "latex": [
        "$\\bar{d} = \\bar{x}_{men} - \\bar{y}_{women} = 87.65 - 102.13 = -14.49$"
       ],
       "metadata": {},
       "output_type": "display_data",
       "text": [
        "<IPython.core.display.Latex at 0x9b46f60>"
       ]
      }
     ],
     "prompt_number": 36
    },
    {
     "cell_type": "code",
     "collapsed": false,
     "input": [
      "# figure 4.6\n",
      "means = pd.Series([df_sample[0:n].time.mean() for n in df_sample.index], index=df_sample.index)\n",
      "means.plot()"
     ],
     "language": "python",
     "metadata": {},
     "outputs": [
      {
       "metadata": {},
       "output_type": "pyout",
       "prompt_number": 37,
       "text": [
        "<matplotlib.axes._subplots.AxesSubplot at 0x99b5a20>"
       ]
      },
      {
       "metadata": {},
       "output_type": "display_data",
       "png": "[encoded data removed]",
       "text": [
        "<matplotlib.figure.Figure at 0x9b465c0>"
       ]
      }
     ],
     "prompt_number": 37
    },
    {
     "cell_type": "code",
     "collapsed": false,
     "input": [
      "# sampling mean\n",
      "N = 10000\n",
      "n = 100\n",
      "means  = np.empty(N)\n",
      "for idx in np.arange(N):\n",
      "    np.random.seed(idx)\n",
      "    rows = np.random.choice(df.index, n)\n",
      "    means [idx] = df.time.ix[rows].mean()\n",
      "\n",
      "plt.hist(means, bins=np.arange(90,100,0.5))\n",
      "plt.show()"
     ],
     "language": "python",
     "metadata": {},
     "outputs": [
      {
       "metadata": {},
       "output_type": "display_data",
       "png": "[encoded data removed]",
       "text": [
        "<matplotlib.figure.Figure at 0xc6ec518>"
       ]
      }
     ],
     "prompt_number": 61
    },
    {
     "cell_type": "code",
     "collapsed": false,
     "input": [
      "print (\"mu_xbar    = %1.2f\" % means.mean())\n",
      "print (\"sigma_xbar = %1.2f\" % means.std() )"
     ],
     "language": "python",
     "metadata": {},
     "outputs": [
      {
       "output_type": "stream",
       "stream": "stdout",
       "text": [
        "mu_xbar    = 94.53\n",
        "sigma_xbar = 1.60\n"
       ]
      }
     ],
     "prompt_number": 62
    },
    {
     "cell_type": "heading",
     "level": 3,
     "metadata": {},
     "source": [
      "4.2 Confidence Intervals"
     ]
    },
    {
     "cell_type": "code",
     "collapsed": false,
     "input": [
      "plt.errorbar(means[0:25], np.arange(0,25), xerr=2*means.std(), yerr=0, fmt='o')\n",
      "plt.show()"
     ],
     "language": "python",
     "metadata": {},
     "outputs": [
      {
       "metadata": {},
       "output_type": "display_data",
       "png": "[encoded data removed]",
       "text": [
        "<matplotlib.figure.Figure at 0xc14b8d0>"
       ]
      }
     ],
     "prompt_number": 40
    },
    {
     "cell_type": "code",
     "collapsed": false,
     "input": [
      "# figure 4.9\n",
      "N = 100000\n",
      "n = 100\n",
      "means  = np.empty(N, dtype=np.float32)\n",
      "for idx in np.arange(N):\n",
      "    np.random.seed(idx)\n",
      "    rows = np.random.choice(df.index, n)\n",
      "    means [idx] = df.time.ix[rows].mean()"
     ],
     "language": "python",
     "metadata": {},
     "outputs": [],
     "prompt_number": 63
    },
    {
     "cell_type": "code",
     "collapsed": false,
     "input": [
      "plt.hist(means, bins=50)\n",
      "plt.show()"
     ],
     "language": "python",
     "metadata": {},
     "outputs": [
      {
       "metadata": {},
       "output_type": "display_data",
       "png": "[encoded data removed]",
       "text": [
        "<matplotlib.figure.Figure at 0xc708240>"
       ]
      }
     ],
     "prompt_number": 64
    },
    {
     "cell_type": "code",
     "collapsed": false,
     "input": [
      "import scipy.stats\n",
      "scipy.stats.probplot(means, plot=plt)\n",
      "plt.show()"
     ],
     "language": "python",
     "metadata": {},
     "outputs": [
      {
       "metadata": {},
       "output_type": "display_data",
       "png": "[encoded data removed]",
       "text": [
        "<matplotlib.figure.Figure at 0xc35ef98>"
       ]
      }
     ],
     "prompt_number": 43
    },
    {
     "cell_type": "code",
     "collapsed": false,
     "input": [
      "# exercise 4.14\n",
      "a = scipy.stats.norm.cdf([-2.58, 2.58])\n",
      "a"
     ],
     "language": "python",
     "metadata": {},
     "outputs": [
      {
       "metadata": {},
       "output_type": "pyout",
       "prompt_number": 44,
       "text": [
        "array([ 0.0049,  0.9951])"
       ]
      }
     ],
     "prompt_number": 44
    },
    {
     "cell_type": "code",
     "collapsed": false,
     "input": [
      "diff(a)"
     ],
     "language": "python",
     "metadata": {},
     "outputs": [
      {
       "metadata": {},
       "output_type": "pyout",
       "prompt_number": 45,
       "text": [
        "array([ 0.9901])"
       ]
      }
     ],
     "prompt_number": 45
    },
    {
     "cell_type": "code",
     "collapsed": false,
     "input": [
      "scipy.stats.norm.ppf(0.90*0.5 + 0.5)"
     ],
     "language": "python",
     "metadata": {},
     "outputs": [
      {
       "metadata": {},
       "output_type": "pyout",
       "prompt_number": 46,
       "text": [
        "1.6448536269514722"
       ]
      }
     ],
     "prompt_number": 46
    },
    {
     "cell_type": "code",
     "collapsed": false,
     "input": [
      "scipy.stats.norm.ppf(0.95*0.5 + 0.5)"
     ],
     "language": "python",
     "metadata": {},
     "outputs": [
      {
       "metadata": {},
       "output_type": "pyout",
       "prompt_number": 47,
       "text": [
        "1.959963984540054"
       ]
      }
     ],
     "prompt_number": 47
    },
    {
     "cell_type": "code",
     "collapsed": false,
     "input": [
      "scipy.stats.norm.ppf(0.99*0.5 + 0.5)"
     ],
     "language": "python",
     "metadata": {},
     "outputs": [
      {
       "metadata": {},
       "output_type": "pyout",
       "prompt_number": 48,
       "text": [
        "2.5758293035489004"
       ]
      }
     ],
     "prompt_number": 48
    },
    {
     "cell_type": "code",
     "collapsed": false,
     "input": [
      "# ex 4.17 (page 170)\n",
      "y_bar       = 35.05\n",
      "sigma_y_bar = 0.90\n",
      "z = np.array(scipy.stats.norm.interval(0.90))\n",
      "y_bar + z*sigma_y_bar"
     ],
     "language": "python",
     "metadata": {},
     "outputs": [
      {
       "metadata": {},
       "output_type": "pyout",
       "prompt_number": 49,
       "text": [
        "array([ 33.5696,  36.5304])"
       ]
      }
     ],
     "prompt_number": 49
    },
    {
     "cell_type": "heading",
     "level": 3,
     "metadata": {},
     "source": [
      "4.3 Hypothesis Testing"
     ]
    },
    {
     "cell_type": "code",
     "collapsed": false,
     "input": [
      "df.head()"
     ],
     "language": "python",
     "metadata": {},
     "outputs": [
      {
       "html": [
        "<div style=\"max-height:1000px;max-width:1500px;overflow:auto;\">\n",
        "<table border=\"1\" class=\"dataframe\">\n",
        "  <thead>\n",
        "    <tr style=\"text-align: right;\">\n",
        "      <th></th>\n",
        "      <th>place</th>\n",
        "      <th>time</th>\n",
        "      <th>pace</th>\n",
        "      <th>age</th>\n",
        "      <th>gender</th>\n",
        "      <th>location</th>\n",
        "      <th>state</th>\n",
        "      <th>divPlace</th>\n",
        "      <th>divTot</th>\n",
        "    </tr>\n",
        "  </thead>\n",
        "  <tbody>\n",
        "    <tr>\n",
        "      <th>0</th>\n",
        "      <td> 4494</td>\n",
        "      <td>  92.25</td>\n",
        "      <td>  9.225</td>\n",
        "      <td> 38</td>\n",
        "      <td> M</td>\n",
        "      <td> Chesapeake Beach MD</td>\n",
        "      <td> MD</td>\n",
        "      <td>  690</td>\n",
        "      <td> 1093</td>\n",
        "    </tr>\n",
        "    <tr>\n",
        "      <th>1</th>\n",
        "      <td> 6298</td>\n",
        "      <td> 106.35</td>\n",
        "      <td> 10.635</td>\n",
        "      <td> 33</td>\n",
        "      <td> M</td>\n",
        "      <td>       Washington DC</td>\n",
        "      <td> DC</td>\n",
        "      <td> 1322</td>\n",
        "      <td> 1490</td>\n",
        "    </tr>\n",
        "    <tr>\n",
        "      <th>2</th>\n",
        "      <td> 2502</td>\n",
        "      <td>  89.33</td>\n",
        "      <td>  8.933</td>\n",
        "      <td> 55</td>\n",
        "      <td> F</td>\n",
        "      <td>           McLean VA</td>\n",
        "      <td> VA</td>\n",
        "      <td>   37</td>\n",
        "      <td>  236</td>\n",
        "    </tr>\n",
        "    <tr>\n",
        "      <th>3</th>\n",
        "      <td> 8176</td>\n",
        "      <td> 113.50</td>\n",
        "      <td> 11.350</td>\n",
        "      <td> 24</td>\n",
        "      <td> F</td>\n",
        "      <td>       Alexandria VA</td>\n",
        "      <td> VA</td>\n",
        "      <td>  878</td>\n",
        "      <td>  974</td>\n",
        "    </tr>\n",
        "    <tr>\n",
        "      <th>4</th>\n",
        "      <td> 3413</td>\n",
        "      <td>  86.52</td>\n",
        "      <td>  8.652</td>\n",
        "      <td> 54</td>\n",
        "      <td> M</td>\n",
        "      <td>    San Francisco CA</td>\n",
        "      <td> CA</td>\n",
        "      <td>  213</td>\n",
        "      <td>  483</td>\n",
        "    </tr>\n",
        "  </tbody>\n",
        "</table>\n",
        "</div>"
       ],
       "metadata": {},
       "output_type": "pyout",
       "prompt_number": 50,
       "text": [
        "   place    time    pace  age gender             location state  divPlace  \\\n",
        "0   4494   92.25   9.225   38      M  Chesapeake Beach MD    MD       690   \n",
        "1   6298  106.35  10.635   33      M        Washington DC    DC      1322   \n",
        "2   2502   89.33   8.933   55      F            McLean VA    VA        37   \n",
        "3   8176  113.50  11.350   24      F        Alexandria VA    VA       878   \n",
        "4   3413   86.52   8.652   54      M     San Francisco CA    CA       213   \n",
        "\n",
        "   divTot  \n",
        "0    1093  \n",
        "1    1490  \n",
        "2     236  \n",
        "3     974  \n",
        "4     483  "
       ]
      }
     ],
     "prompt_number": 50
    },
    {
     "cell_type": "raw",
     "metadata": {},
     "source": [
      "H0: The average 10 mile run time was the same in 2006 and 2012\n",
      "H1: The average 10 mile run time were different in 2006 and 2012"
     ]
    },
    {
     "cell_type": "code",
     "collapsed": false,
     "input": [
      "df_sample.head()"
     ],
     "language": "python",
     "metadata": {},
     "outputs": [
      {
       "html": [
        "<div style=\"max-height:1000px;max-width:1500px;overflow:auto;\">\n",
        "<table border=\"1\" class=\"dataframe\">\n",
        "  <thead>\n",
        "    <tr style=\"text-align: right;\">\n",
        "      <th></th>\n",
        "      <th>time</th>\n",
        "      <th>age</th>\n",
        "      <th>gender</th>\n",
        "      <th>state</th>\n",
        "    </tr>\n",
        "  </thead>\n",
        "  <tbody>\n",
        "    <tr>\n",
        "      <th>0</th>\n",
        "      <td>  88.31</td>\n",
        "      <td> 59</td>\n",
        "      <td> M</td>\n",
        "      <td> MD</td>\n",
        "    </tr>\n",
        "    <tr>\n",
        "      <th>1</th>\n",
        "      <td> 100.67</td>\n",
        "      <td> 32</td>\n",
        "      <td> M</td>\n",
        "      <td> VA</td>\n",
        "    </tr>\n",
        "    <tr>\n",
        "      <th>2</th>\n",
        "      <td> 109.52</td>\n",
        "      <td> 33</td>\n",
        "      <td> F</td>\n",
        "      <td> VA</td>\n",
        "    </tr>\n",
        "    <tr>\n",
        "      <th>3</th>\n",
        "      <td>  87.11</td>\n",
        "      <td> 52</td>\n",
        "      <td> M</td>\n",
        "      <td> PA</td>\n",
        "    </tr>\n",
        "    <tr>\n",
        "      <th>4</th>\n",
        "      <td>  73.02</td>\n",
        "      <td> 40</td>\n",
        "      <td> M</td>\n",
        "      <td> DC</td>\n",
        "    </tr>\n",
        "  </tbody>\n",
        "</table>\n",
        "</div>"
       ],
       "metadata": {},
       "output_type": "pyout",
       "prompt_number": 51,
       "text": [
        "     time  age gender state\n",
        "0   88.31   59      M    MD\n",
        "1  100.67   32      M    VA\n",
        "2  109.52   33      F    VA\n",
        "3   87.11   52      M    PA\n",
        "4   73.02   40      M    DC"
       ]
      }
     ],
     "prompt_number": 51
    },
    {
     "cell_type": "code",
     "collapsed": false,
     "input": [
      "mu_2006 = 93.29"
     ],
     "language": "python",
     "metadata": {},
     "outputs": [],
     "prompt_number": 52
    },
    {
     "cell_type": "code",
     "collapsed": false,
     "input": [
      "x_bar_2012       = df_sample.time.mean()\n",
      "sigma_x_bar_2012 = df_sample.time.std()\n",
      "stderr_2012      = sigma_x_bar_2012/sqrt(len(df_sample))\n",
      "x_2012_est       = x_bar_2012 + stderr_2012*np.array([-1.96, 1.96])\n",
      "x_2012_est"
     ],
     "language": "python",
     "metadata": {},
     "outputs": [
      {
       "metadata": {},
       "output_type": "pyout",
       "prompt_number": 53,
       "text": [
        "array([ 92.5223,  98.7069])"
       ]
      }
     ],
     "prompt_number": 53
    },
    {
     "cell_type": "code",
     "collapsed": false,
     "input": [
      "from interval import Interval\n",
      "\n",
      "# if mu_2006 lies within interval, then we fail to reject H0\n",
      "if mu_2006 in Interval(x_2012_est[0], x_2012_est[1]):\n",
      "    print(\"Fail to reject H0 at 95% CL\")\n",
      "else:\n",
      "    print(\"Reject H0 at 95% CL\")"
     ],
     "language": "python",
     "metadata": {},
     "outputs": [
      {
       "output_type": "stream",
       "stream": "stdout",
       "text": [
        "Fail to reject H0 at 95% CL\n"
       ]
      }
     ],
     "prompt_number": 54
    },
    {
     "cell_type": "code",
     "collapsed": false,
     "input": [
      "# ex 4.21\n",
      "\n",
      "# H0: ages between 2006 and 2012 are the same\n",
      "# H1: ages between 2006 and 2012 have changed\n",
      "\n",
      "# 2006 mean is given\n",
      "mu_2006 = 36.13\n",
      "\n",
      "# 2012 is estimated from 100 samples\n",
      "N                = len(df_sample)\n",
      "x_bar_2012       = df_sample.age.mean()\n",
      "sigma_x_bar_2012 = df_sample.age.std()\n",
      "stderr_2012      = sigma_x_bar_2012/sqrt(N)\n",
      "x_2012_est       = x_bar_2012 + stderr_2012*np.array([-1.96, 1.96])\n",
      "\n",
      "# test\n",
      "if mu_2006 in Interval(x_2012_est[0], x_2012_est[1]):\n",
      "    print(\"Fail to reject H0 at 95% CL\")\n",
      "else:\n",
      "    print(\"Reject H0 at 95% CL\")"
     ],
     "language": "python",
     "metadata": {},
     "outputs": [
      {
       "output_type": "stream",
       "stream": "stdout",
       "text": [
        "Fail to reject H0 at 95% CL\n"
       ]
      }
     ],
     "prompt_number": 55
    },
    {
     "cell_type": "code",
     "collapsed": false,
     "input": [
      "display(Latex(r\"$\\mu_{2006}     = %1.2f$\"          % mu_2006))\n",
      "display(Latex(r\"$\\bar{x}_{2012} = (%1.2f, %1.2f)$\" % (x_2012_est[0],x_2012_est[1])))"
     ],
     "language": "python",
     "metadata": {},
     "outputs": [
      {
       "latex": [
        "$\\mu_{2006}     = 36.13$"
       ],
       "metadata": {},
       "output_type": "display_data",
       "text": [
        "<IPython.core.display.Latex at 0xc126908>"
       ]
      },
      {
       "latex": [
        "$\\bar{x}_{2012} = (33.29, 36.81)$"
       ],
       "metadata": {},
       "output_type": "display_data",
       "text": [
        "<IPython.core.display.Latex at 0xc1260b8>"
       ]
      }
     ],
     "prompt_number": 56
    },
    {
     "cell_type": "code",
     "collapsed": false,
     "input": [
      "# ex 4.22\n",
      "\n",
      "# H0: mu = 650\n",
      "# H1: mu != 650\n",
      "\n",
      "# mu\n",
      "mu = 650\n",
      "\n",
      "# data\n",
      "df      = pd.read_table('data/housing.txt')\n",
      "n       = len(df)\n",
      "xbar    = df.cost.mean()\n",
      "se_xbar = df.cost.std()/sqrt(n)\n",
      "x_est   = Interval(xbar -1.96*se_xbar, xbar + 1.96*se_xbar)\n",
      "\n",
      "# test\n",
      "if mu in x_est:\n",
      "    print(\"Fail to reject H0 at 95% CL\")\n",
      "else:\n",
      "    print(\"Reject H0 at 95% CL\")\n",
      "    \n",
      "x_est    "
     ],
     "language": "python",
     "metadata": {},
     "outputs": [
      {
       "output_type": "stream",
       "stream": "stdout",
       "text": [
        "Reject H0 at 95% CL\n"
       ]
      },
      {
       "metadata": {},
       "output_type": "pyout",
       "prompt_number": 112,
       "text": [
        "Interval(581.56182850882942, 641.69665980035847, lower_closed=True, upper_closed=True)"
       ]
      }
     ],
     "prompt_number": 112
    },
    {
     "cell_type": "code",
     "collapsed": false,
     "input": [
      "# section 4.3.4\n",
      "\n",
      "# H0: mu = 7\n",
      "# H1: Mu > 7\n",
      "\n",
      "alpha      = 0.05\n",
      "mu         = 7\n",
      "n          = 110\n",
      "xbar       = 7.42\n",
      "sigma_xbar = 1.75\n",
      "se_xbar    = sigma_xbar/sqrt(n)\n",
      "\n",
      "# ex 4.29\n",
      "se_xbar"
     ],
     "language": "python",
     "metadata": {},
     "outputs": [
      {
       "metadata": {},
       "output_type": "pyout",
       "prompt_number": 143,
       "text": [
        "0.16685595311797866"
       ]
      }
     ],
     "prompt_number": 143
    },
    {
     "cell_type": "code",
     "collapsed": false,
     "input": [
      "# test\n",
      "x_est = Interval(xbar -1.96*se_xbar, xbar + 1.96*se_xbar)\n",
      "if mu in x_est:\n",
      "    print(\"Fail to reject H0 at 95% CL\")\n",
      "else:\n",
      "    print(\"Reject H0 at 95% CL\")\n",
      "    \n",
      "x_est   "
     ],
     "language": "python",
     "metadata": {},
     "outputs": [
      {
       "output_type": "stream",
       "stream": "stdout",
       "text": [
        "Reject H0 at 95% CL\n"
       ]
      },
      {
       "metadata": {},
       "output_type": "pyout",
       "prompt_number": 144,
       "text": [
        "Interval(7.0929623318887618, 7.7470376681112381, lower_closed=True, upper_closed=True)"
       ]
      }
     ],
     "prompt_number": 144
    },
    {
     "cell_type": "code",
     "collapsed": false,
     "input": [
      "z_xbar = (xbar - mu)/se_xbar\n",
      "z_xbar"
     ],
     "language": "python",
     "metadata": {},
     "outputs": [
      {
       "metadata": {},
       "output_type": "pyout",
       "prompt_number": 145,
       "text": [
        "2.5171412356083631"
       ]
      }
     ],
     "prompt_number": 145
    },
    {
     "cell_type": "code",
     "collapsed": false,
     "input": [
      "p_value = 1 - scipy.stats.norm.cdf(z_xbar) # right sided\n",
      "p_value"
     ],
     "language": "python",
     "metadata": {},
     "outputs": [
      {
       "metadata": {},
       "output_type": "pyout",
       "prompt_number": 146,
       "text": [
        "0.0059155696122799029"
       ]
      }
     ],
     "prompt_number": 146
    },
    {
     "cell_type": "code",
     "collapsed": false,
     "input": [
      "def hyp_test(z, alpha=0.05, two_sided=False):\n",
      "    z = -1.0*abs(z)\n",
      "    p = scipy.stats.norm.cdf(z)\n",
      "    if (two_sided):\n",
      "        p = 2*p\n",
      "    cl = 100*(1.0-alpha)\n",
      "    if (p < alpha):    \n",
      "        print(\"Reject H0 at %1.0f%% CL with p = %1.2e\" % (cl, p))\n",
      "    else:\n",
      "        print(\"Fail to reject H0 at %1.0f%% CL with p = %1.2e\" % (cl, p))\n",
      "    \n",
      "hyp_test(z_xbar, alpha)"
     ],
     "language": "python",
     "metadata": {},
     "outputs": [
      {
       "output_type": "stream",
       "stream": "stdout",
       "text": [
        "Reject H0 at 95% CL with p = 5.92e-03\n"
       ]
      }
     ],
     "prompt_number": 147
    },
    {
     "cell_type": "code",
     "collapsed": false,
     "input": [
      "z_xbar"
     ],
     "language": "python",
     "metadata": {},
     "outputs": [
      {
       "metadata": {},
       "output_type": "pyout",
       "prompt_number": 148,
       "text": [
        "2.5171412356083631"
       ]
      }
     ],
     "prompt_number": 148
    },
    {
     "cell_type": "code",
     "collapsed": false,
     "input": [
      "# ex 4.31\n",
      "hyp_test(z_xbar, alpha=0.01 )\n",
      "hyp_test(z_xbar, alpha=0.001)"
     ],
     "language": "python",
     "metadata": {},
     "outputs": [
      {
       "output_type": "stream",
       "stream": "stdout",
       "text": [
        "Reject H0 at 99% CL with p = 5.92e-03\n",
        "Fail to reject H0 at 100% CL with p = 5.92e-03\n"
       ]
      }
     ],
     "prompt_number": 149
    },
    {
     "cell_type": "code",
     "collapsed": false,
     "input": [
      "# ex 4.32-4.34\n",
      "\n",
      "# H0: mu = 46.99\n",
      "# H1: mu < 46.99\n",
      "\n",
      "alpha      = 0.01\n",
      "mu         = 46.99\n",
      "n          = 52\n",
      "xbar       = 44.17\n",
      "sigma_xbar = 4.15\n",
      "se_xbar    = sigma_xbar/sqrt(n)\n",
      "z_xbar     = (xbar - mu)/se_xbar\n",
      "p_value    = scipy.stats.norm.cdf(z_xbar) # left sided\n",
      "hyp_test(z_xbar, alpha)\n",
      "p_value"
     ],
     "language": "python",
     "metadata": {},
     "outputs": [
      {
       "output_type": "stream",
       "stream": "stdout",
       "text": [
        "Reject H0 at 99% CL with p = 4.79e-07\n"
       ]
      },
      {
       "metadata": {},
       "output_type": "pyout",
       "prompt_number": 152,
       "text": [
        "4.790015962389614e-07"
       ]
      }
     ],
     "prompt_number": 152
    },
    {
     "cell_type": "code",
     "collapsed": false,
     "input": [
      "# ex 4.6\n",
      "\n",
      "# H0: mu = 7\n",
      "# H1: Mu != 7\n",
      "# two sided test\n",
      "\n",
      "alpha      = 0.05\n",
      "mu         = 7\n",
      "n          = 72\n",
      "xbar       = 6.83\n",
      "sigma_xbar = 1.8\n",
      "se_xbar    = sigma_xbar/sqrt(n)\n",
      "z_xbar     = (xbar - mu)/se_xbar\n",
      "\n",
      "hyp_test(z_xbar, alpha, two_sided=True)"
     ],
     "language": "python",
     "metadata": {},
     "outputs": [
      {
       "output_type": "stream",
       "stream": "stdout",
       "text": [
        "Fail to reject H0 at 95% CL with p = 4.23e-01\n"
       ]
      }
     ],
     "prompt_number": 153
    },
    {
     "cell_type": "heading",
     "level": 3,
     "metadata": {},
     "source": [
      "4.4 Examining the central limit theorem"
     ]
    },
    {
     "cell_type": "code",
     "collapsed": false,
     "input": [
      "# plot a uniform RV pdf\n",
      "X = scipy.stats.uniform()\n",
      "x = np.linspace(-3,3,1000)\n",
      "h = plt.plot(x,X.pdf(x))\n",
      "plt.axis([-3,3,0,1.5])\n"
     ],
     "language": "python",
     "metadata": {},
     "outputs": [
      {
       "metadata": {},
       "output_type": "pyout",
       "prompt_number": 185,
       "text": [
        "[-3, 3, 0, 1.5]"
       ]
      },
      {
       "metadata": {},
       "output_type": "display_data",
       "png": "[encoded data removed]",
       "text": [
        "<matplotlib.figure.Figure at 0xee821d0>"
       ]
      }
     ],
     "prompt_number": 185
    },
    {
     "cell_type": "code",
     "collapsed": false,
     "input": [
      "# generate data\n",
      "np.random.seed(1)\n",
      "M = 1000000\n",
      "N = 2\n",
      "m = X.rvs((M,N))\n",
      "\n",
      "# sampling distibutions mean\n",
      "mu = m.mean(axis=1)\n",
      "\n",
      "# point estimate of sampling distiburions mean: xbar\n",
      "random_row = np.random.choice(np.arange(0,M))\n",
      "xbar       = m[random_row,:].mean()\n",
      "se_xbar    = m[random_row,:].std()/sqrt(n)\n",
      "\n",
      "# display\n",
      "plt.hist(mu, histtype='step', normed=True, bins=np.linspace(-3,3,100))\n",
      "plt.plot(x, scipy.stats.norm.pdf(x), 'r-')\n",
      "plt.show()\n",
      "(mu.mean(), xbar, se_xbar)"
     ],
     "language": "python",
     "metadata": {},
     "outputs": [
      {
       "metadata": {},
       "output_type": "display_data",
       "png": "[encoded data removed]",
       "text": [
        "<matplotlib.figure.Figure at 0x13d03400>"
       ]
      },
      {
       "metadata": {},
       "output_type": "pyout",
       "prompt_number": 218,
       "text": [
        "(0.49984644139191692, 0.38223686118979749, 0.089299006268323058)"
       ]
      }
     ],
     "prompt_number": 218
    },
    {
     "cell_type": "code",
     "collapsed": false,
     "input": [],
     "language": "python",
     "metadata": {},
     "outputs": []
    }
   ],
   "metadata": {}
  }
 ]
}