{
 "metadata": {
  "name": "ch5_walkthrough.ipynb"
 },
 "nbformat": 3,
 "nbformat_minor": 0,
 "worksheets": [
  {
   "cells": [
    {
     "cell_type": "heading",
     "level": 1,
     "metadata": {},
     "source": [
      "Chapter 5: Inference for Numerical Data"
     ]
    },
    {
     "cell_type": "heading",
     "level": 3,
     "metadata": {},
     "source": [
      "setup"
     ]
    },
    {
     "cell_type": "code",
     "collapsed": false,
     "input": [
      "# setup notebook\n",
      "import numpy as np\n",
      "import pandas as pd\n",
      "import matplotlib.pyplot as plt\n",
      "import scipy.stats as st\n",
      "from IPython.display import display, Math, Latex\n",
      "import os\n",
      "os.chdir('%s/courses/coursera_data_analysis_and_statistical_inference' % os.getenv('DST'))\n",
      "print(os.getcwd())\n",
      "\n",
      "np.set_printoptions(precision=4)\n",
      "plt.rc('figure', figsize=(10, 8))"
     ],
     "language": "python",
     "metadata": {},
     "outputs": [
      {
       "output_type": "stream",
       "stream": "stdout",
       "text": [
        "C:\\Users\\J28976\\Documents\\Development\\dst\\courses\\coursera_data_analysis_and_statistical_inference\n"
       ]
      }
     ],
     "prompt_number": 3
    },
    {
     "cell_type": "heading",
     "level": 3,
     "metadata": {},
     "source": [
      "resuable functions:"
     ]
    },
    {
     "cell_type": "code",
     "collapsed": false,
     "input": [
      "def hyp_test(z, alpha=0.05, two_sided=False):\n",
      "    z = -1.0*abs(z)\n",
      "    p = st.norm.cdf(z)\n",
      "    if (two_sided):\n",
      "        p = 2*p\n",
      "    cl = 100*(1.0-alpha)\n",
      "    if (p < alpha):    \n",
      "        print(\"Reject H0 at %1.0f%% CL with p = %1.2e\" % (cl, p))\n",
      "    else:\n",
      "        print(\"Fail to reject H0 at %1.0f%% CL with p = %1.2e\" % (cl, p))"
     ],
     "language": "python",
     "metadata": {},
     "outputs": [],
     "prompt_number": 88
    },
    {
     "cell_type": "code",
     "collapsed": false,
     "input": [
      "def rv_star(cl, rv=st.norm):\n",
      "    return rv.ppf(0.5+cl/2.0)\n",
      "\n",
      "display(Latex(r\"$z^*_{95} = %1.2f$\" % rv_star(0.95)))\n",
      "display(Latex(r\"$z^*_{90} = %1.2f$\" % rv_star(0.90)))\n",
      "display(Latex(r\"$z^*_{99} = %1.2f$\" % rv_star(0.99)))"
     ],
     "language": "python",
     "metadata": {},
     "outputs": [
      {
       "latex": [
        "$z^*_{95} = 1.96$"
       ],
       "metadata": {},
       "output_type": "display_data",
       "text": [
        "<IPython.core.display.Latex at 0x109dc8d0>"
       ]
      },
      {
       "latex": [
        "$z^*_{90} = 1.64$"
       ],
       "metadata": {},
       "output_type": "display_data",
       "text": [
        "<IPython.core.display.Latex at 0x109dc8d0>"
       ]
      },
      {
       "latex": [
        "$z^*_{99} = 2.58$"
       ],
       "metadata": {},
       "output_type": "display_data",
       "text": [
        "<IPython.core.display.Latex at 0x109dc898>"
       ]
      }
     ],
     "prompt_number": 97
    },
    {
     "cell_type": "heading",
     "level": 3,
     "metadata": {},
     "source": [
      "5.1 Paired Data"
     ]
    },
    {
     "cell_type": "code",
     "collapsed": false,
     "input": [
      "df = pd.read_table('data/textbooks.txt')\n",
      "df.head()"
     ],
     "language": "python",
     "metadata": {},
     "outputs": [
      {
       "html": [
        "<div style=\"max-height:1000px;max-width:1500px;overflow:auto;\">\n",
        "<table border=\"1\" class=\"dataframe\">\n",
        "  <thead>\n",
        "    <tr style=\"text-align: right;\">\n",
        "      <th></th>\n",
        "      <th>deptAbbr</th>\n",
        "      <th>course</th>\n",
        "      <th>ibsn</th>\n",
        "      <th>uclaNew</th>\n",
        "      <th>amazNew</th>\n",
        "      <th>more</th>\n",
        "      <th>diff</th>\n",
        "    </tr>\n",
        "  </thead>\n",
        "  <tbody>\n",
        "    <tr>\n",
        "      <th>0</th>\n",
        "      <td>  Am Ind</td>\n",
        "      <td>  C170</td>\n",
        "      <td> 978-0803272620</td>\n",
        "      <td> 27.67</td>\n",
        "      <td> 27.95</td>\n",
        "      <td> Y</td>\n",
        "      <td>-0.28</td>\n",
        "    </tr>\n",
        "    <tr>\n",
        "      <th>1</th>\n",
        "      <td>  Anthro</td>\n",
        "      <td>     9</td>\n",
        "      <td> 978-0030119194</td>\n",
        "      <td> 40.59</td>\n",
        "      <td> 31.14</td>\n",
        "      <td> Y</td>\n",
        "      <td> 9.45</td>\n",
        "    </tr>\n",
        "    <tr>\n",
        "      <th>2</th>\n",
        "      <td>  Anthro</td>\n",
        "      <td>  135T</td>\n",
        "      <td> 978-0300080643</td>\n",
        "      <td> 31.68</td>\n",
        "      <td> 32.00</td>\n",
        "      <td> Y</td>\n",
        "      <td>-0.32</td>\n",
        "    </tr>\n",
        "    <tr>\n",
        "      <th>3</th>\n",
        "      <td>  Anthro</td>\n",
        "      <td> 191HB</td>\n",
        "      <td> 978-0226206813</td>\n",
        "      <td> 16.00</td>\n",
        "      <td> 11.52</td>\n",
        "      <td> Y</td>\n",
        "      <td> 4.48</td>\n",
        "    </tr>\n",
        "    <tr>\n",
        "      <th>4</th>\n",
        "      <td> Art His</td>\n",
        "      <td> M102K</td>\n",
        "      <td> 978-0892365999</td>\n",
        "      <td> 18.95</td>\n",
        "      <td> 14.21</td>\n",
        "      <td> Y</td>\n",
        "      <td> 4.74</td>\n",
        "    </tr>\n",
        "  </tbody>\n",
        "</table>\n",
        "</div>"
       ],
       "metadata": {},
       "output_type": "pyout",
       "prompt_number": 12,
       "text": [
        "  deptAbbr course            ibsn  uclaNew  amazNew more  diff\n",
        "0   Am Ind   C170  978-0803272620    27.67    27.95    Y -0.28\n",
        "1   Anthro      9  978-0030119194    40.59    31.14    Y  9.45\n",
        "2   Anthro   135T  978-0300080643    31.68    32.00    Y -0.32\n",
        "3   Anthro  191HB  978-0226206813    16.00    11.52    Y  4.48\n",
        "4  Art His  M102K  978-0892365999    18.95    14.21    Y  4.74"
       ]
      }
     ],
     "prompt_number": 12
    },
    {
     "cell_type": "code",
     "collapsed": false,
     "input": [
      "df.tail()"
     ],
     "language": "python",
     "metadata": {},
     "outputs": [
      {
       "html": [
        "<div style=\"max-height:1000px;max-width:1500px;overflow:auto;\">\n",
        "<table border=\"1\" class=\"dataframe\">\n",
        "  <thead>\n",
        "    <tr style=\"text-align: right;\">\n",
        "      <th></th>\n",
        "      <th>deptAbbr</th>\n",
        "      <th>course</th>\n",
        "      <th>ibsn</th>\n",
        "      <th>uclaNew</th>\n",
        "      <th>amazNew</th>\n",
        "      <th>more</th>\n",
        "      <th>diff</th>\n",
        "    </tr>\n",
        "  </thead>\n",
        "  <tbody>\n",
        "    <tr>\n",
        "      <th>68</th>\n",
        "      <td> Wld Art</td>\n",
        "      <td>  C180</td>\n",
        "      <td> 978-1412923484</td>\n",
        "      <td> 48.46</td>\n",
        "      <td> 39.34</td>\n",
        "      <td> N</td>\n",
        "      <td>  9.12</td>\n",
        "    </tr>\n",
        "    <tr>\n",
        "      <th>69</th>\n",
        "      <td> Wld Art</td>\n",
        "      <td> C409A</td>\n",
        "      <td> 978-0195390827</td>\n",
        "      <td> 39.55</td>\n",
        "      <td> 26.37</td>\n",
        "      <td> N</td>\n",
        "      <td> 13.18</td>\n",
        "    </tr>\n",
        "    <tr>\n",
        "      <th>70</th>\n",
        "      <td> Wld Art</td>\n",
        "      <td>   495</td>\n",
        "      <td> 978-0820474151</td>\n",
        "      <td> 29.65</td>\n",
        "      <td> 24.19</td>\n",
        "      <td> Y</td>\n",
        "      <td>  5.46</td>\n",
        "    </tr>\n",
        "    <tr>\n",
        "      <th>71</th>\n",
        "      <td> Wom Std</td>\n",
        "      <td>  M144</td>\n",
        "      <td> 978-1570755637</td>\n",
        "      <td> 23.76</td>\n",
        "      <td> 18.72</td>\n",
        "      <td> Y</td>\n",
        "      <td>  5.04</td>\n",
        "    </tr>\n",
        "    <tr>\n",
        "      <th>72</th>\n",
        "      <td> Wom Std</td>\n",
        "      <td>   285</td>\n",
        "      <td> 978-0822341147</td>\n",
        "      <td> 27.70</td>\n",
        "      <td> 18.22</td>\n",
        "      <td> Y</td>\n",
        "      <td>  9.48</td>\n",
        "    </tr>\n",
        "  </tbody>\n",
        "</table>\n",
        "</div>"
       ],
       "metadata": {},
       "output_type": "pyout",
       "prompt_number": 13,
       "text": [
        "   deptAbbr course            ibsn  uclaNew  amazNew more   diff\n",
        "68  Wld Art   C180  978-1412923484    48.46    39.34    N   9.12\n",
        "69  Wld Art  C409A  978-0195390827    39.55    26.37    N  13.18\n",
        "70  Wld Art    495  978-0820474151    29.65    24.19    Y   5.46\n",
        "71  Wom Std   M144  978-1570755637    23.76    18.72    Y   5.04\n",
        "72  Wom Std    285  978-0822341147    27.70    18.22    Y   9.48"
       ]
      }
     ],
     "prompt_number": 13
    },
    {
     "cell_type": "code",
     "collapsed": false,
     "input": [
      "# figure 5.2\n",
      "diff = df['diff']\n",
      "diff.hist(bins=np.linspace(-20,80,11))"
     ],
     "language": "python",
     "metadata": {},
     "outputs": [
      {
       "metadata": {},
       "output_type": "pyout",
       "prompt_number": 14,
       "text": [
        "<matplotlib.axes._subplots.AxesSubplot at 0x8325a20>"
       ]
      },
      {
       "metadata": {},
       "output_type": "display_data",
       "png": "[encoded data removed]",
       "text": [
        "<matplotlib.figure.Figure at 0x9b998d0>"
       ]
      }
     ],
     "prompt_number": 14
    },
    {
     "cell_type": "code",
     "collapsed": false,
     "input": [
      "# ex 5.1\n",
      "r = df.ix[1]; print(r.uclaNew - r.amazNew)\n",
      "r = df.ix[2]; print(r.uclaNew - r.amazNew)"
     ],
     "language": "python",
     "metadata": {},
     "outputs": [
      {
       "output_type": "stream",
       "stream": "stdout",
       "text": [
        "9.45\n",
        "-0.32\n"
       ]
      }
     ],
     "prompt_number": 15
    },
    {
     "cell_type": "markdown",
     "metadata": {},
     "source": [
      "**Example 5.2**\n",
      "\n",
      "let d = $p_{UCLA}$ - $p_{amazon}$\n",
      "\n",
      "* hypethesis\n",
      "    - *H<sub>0</sub>*: Book prices are the same $\\to d = 0$\n",
      "    - *H<sub>1</sub>*: Book prices are different $\\to d \\neq 0$"
     ]
    },
    {
     "cell_type": "code",
     "collapsed": false,
     "input": [
      "# example 5.2\n",
      "\n",
      "# H0: Book prices are the same --> d = 0\n",
      "# H1: Book prices are different --> d != 0\n",
      "# two sided test\n",
      "\n",
      "alpha      = 0.05\n",
      "mu         = 0.0\n",
      "n          = len(diff)\n",
      "xbar       = diff.mean()\n",
      "sigma_xbar = diff.std()\n",
      "se_xbar    = sigma_xbar/sqrt(n)\n",
      "z_xbar     = (xbar - mu)/se_xbar\n",
      "hyp_test(z_xbar, alpha, two_sided=True)\n",
      "print((n, xbar, se_xbar, z_xbar))"
     ],
     "language": "python",
     "metadata": {},
     "outputs": [
      {
       "output_type": "stream",
       "stream": "stdout",
       "text": [
        "Reject H0 at 95% CL with p = 2.03e-14\n",
        "(73, 12.761643835616441, 1.6684567557257028, 7.6487711124797517)\n"
       ]
      }
     ],
     "prompt_number": 16
    },
    {
     "cell_type": "code",
     "collapsed": false,
     "input": [
      "# ex 5.3\n",
      "z95 = st.norm.ppf(0.95*0.5 + 0.5)\n",
      "xbar + np.array([-z95,z95])*se_xbar"
     ],
     "language": "python",
     "metadata": {},
     "outputs": [
      {
       "metadata": {},
       "output_type": "pyout",
       "prompt_number": 18,
       "text": [
        "array([  9.4915,  16.0318])"
       ]
      }
     ],
     "prompt_number": 18
    },
    {
     "cell_type": "heading",
     "level": 3,
     "metadata": {},
     "source": [
      "5.2 Difference of Two Means"
     ]
    },
    {
     "cell_type": "code",
     "collapsed": false,
     "input": [
      "df = pd.read_table('data/run10Samp.txt')\n",
      "df.head()"
     ],
     "language": "python",
     "metadata": {},
     "outputs": [
      {
       "html": [
        "<div style=\"max-height:1000px;max-width:1500px;overflow:auto;\">\n",
        "<table border=\"1\" class=\"dataframe\">\n",
        "  <thead>\n",
        "    <tr style=\"text-align: right;\">\n",
        "      <th></th>\n",
        "      <th>time</th>\n",
        "      <th>age</th>\n",
        "      <th>gender</th>\n",
        "      <th>state</th>\n",
        "    </tr>\n",
        "  </thead>\n",
        "  <tbody>\n",
        "    <tr>\n",
        "      <th>0</th>\n",
        "      <td>  88.31</td>\n",
        "      <td> 59</td>\n",
        "      <td> M</td>\n",
        "      <td> MD</td>\n",
        "    </tr>\n",
        "    <tr>\n",
        "      <th>1</th>\n",
        "      <td> 100.67</td>\n",
        "      <td> 32</td>\n",
        "      <td> M</td>\n",
        "      <td> VA</td>\n",
        "    </tr>\n",
        "    <tr>\n",
        "      <th>2</th>\n",
        "      <td> 109.52</td>\n",
        "      <td> 33</td>\n",
        "      <td> F</td>\n",
        "      <td> VA</td>\n",
        "    </tr>\n",
        "    <tr>\n",
        "      <th>3</th>\n",
        "      <td>  87.11</td>\n",
        "      <td> 52</td>\n",
        "      <td> M</td>\n",
        "      <td> PA</td>\n",
        "    </tr>\n",
        "    <tr>\n",
        "      <th>4</th>\n",
        "      <td>  73.02</td>\n",
        "      <td> 40</td>\n",
        "      <td> M</td>\n",
        "      <td> DC</td>\n",
        "    </tr>\n",
        "  </tbody>\n",
        "</table>\n",
        "</div>"
       ],
       "metadata": {},
       "output_type": "pyout",
       "prompt_number": 19,
       "text": [
        "     time  age gender state\n",
        "0   88.31   59      M    MD\n",
        "1  100.67   32      M    VA\n",
        "2  109.52   33      F    VA\n",
        "3   87.11   52      M    PA\n",
        "4   73.02   40      M    DC"
       ]
      }
     ],
     "prompt_number": 19
    },
    {
     "cell_type": "code",
     "collapsed": false,
     "input": [
      "len(df)"
     ],
     "language": "python",
     "metadata": {},
     "outputs": [
      {
       "metadata": {},
       "output_type": "pyout",
       "prompt_number": 20,
       "text": [
        "100"
       ]
      }
     ],
     "prompt_number": 20
    },
    {
     "cell_type": "markdown",
     "metadata": {},
     "source": [
      "The  point estimate of a difference of means is:\n",
      "\\begin{align}\n",
      "    \\bar{d} = \\bar{x}_w-\\bar{x}_m\n",
      "\\end{align}"
     ]
    },
    {
     "cell_type": "code",
     "collapsed": false,
     "input": [
      "m = df[df.gender == 'M'].time\n",
      "w = df[df.gender == 'F'].time\n",
      "\n",
      "xbar_m = m.mean()\n",
      "xbar_w = w.mean()\n",
      "dbar   = xbar_w - xbar_m\n",
      "display(Latex(r\"$\\bar{x}_m = %1.2f$\" % xbar_m))\n",
      "display(Latex(r\"$\\bar{x}_w = %1.2f$\" % xbar_w))\n",
      "display(Latex(r\"$\\bar{d} = \\bar{x}_{w} - \\bar{x}_{m} = %1.2f - %1.2f = %1.2f$\" % \n",
      "              (xbar_w, xbar_m, xbar_w - xbar_m)))"
     ],
     "language": "python",
     "metadata": {},
     "outputs": [
      {
       "latex": [
        "$\\bar{x}_m = 87.65$"
       ],
       "metadata": {},
       "output_type": "display_data",
       "text": [
        "<IPython.core.display.Latex at 0x9ceee48>"
       ]
      },
      {
       "latex": [
        "$\\bar{x}_w = 102.13$"
       ],
       "metadata": {},
       "output_type": "display_data",
       "text": [
        "<IPython.core.display.Latex at 0x9ceee48>"
       ]
      },
      {
       "latex": [
        "$\\bar{d} = \\bar{x}_{w} - \\bar{x}_{m} = 102.13 - 87.65 = 14.49$"
       ],
       "metadata": {},
       "output_type": "display_data",
       "text": [
        "<IPython.core.display.Latex at 0x9ac7860>"
       ]
      }
     ],
     "prompt_number": 21
    },
    {
     "cell_type": "markdown",
     "metadata": {},
     "source": [
      "The standard error of the point estimate of a difference of means is:\n",
      "\\begin{align}\n",
      "    SE_{\\bar{x}_w-\\bar{x}_m} &= \\sqrt{\\frac{\\sigma^2_w}{n_w} + \\frac{\\sigma^2_m}{n_m} } \\\\\n",
      "    & \\approx \\sqrt{\\frac{s^2_w}{n_w} + \\frac{s^2_m}{n_m}}\n",
      "\\end{align}"
     ]
    },
    {
     "cell_type": "code",
     "collapsed": false,
     "input": [
      "sigma_xbar_m = m.std()\n",
      "sigma_xbar_w = w.std()\n",
      "n_m          = len(m)\n",
      "n_w          = len(w)\n",
      "se_dbar      = sqrt(sigma_xbar_m**2/n_m + sigma_xbar_w**2/n_w)\n",
      "display(Latex(r\"$SE_{\\bar{d}} = %1.2f$\" % se_dbar))"
     ],
     "language": "python",
     "metadata": {},
     "outputs": [
      {
       "latex": [
        "$SE_{\\bar{d}} = 2.78$"
       ],
       "metadata": {},
       "output_type": "display_data",
       "text": [
        "<IPython.core.display.Latex at 0x9b6f400>"
       ]
      }
     ],
     "prompt_number": 22
    },
    {
     "cell_type": "code",
     "collapsed": false,
     "input": [
      "z95 = st.norm.ppf(0.95*0.5 + 0.5)\n",
      "dbar + np.array([-z95,z95])*se_dbar"
     ],
     "language": "python",
     "metadata": {},
     "outputs": [
      {
       "metadata": {},
       "output_type": "pyout",
       "prompt_number": 25,
       "text": [
        "array([  9.0471,  19.9321])"
       ]
      }
     ],
     "prompt_number": 25
    },
    {
     "cell_type": "code",
     "collapsed": false,
     "input": [
      "# not quite data in book\n",
      "df = pd.read_table('data/ncbirths.txt')\n",
      "df.head()"
     ],
     "language": "python",
     "metadata": {},
     "outputs": [
      {
       "html": [
        "<div style=\"max-height:1000px;max-width:1500px;overflow:auto;\">\n",
        "<table border=\"1\" class=\"dataframe\">\n",
        "  <thead>\n",
        "    <tr style=\"text-align: right;\">\n",
        "      <th></th>\n",
        "      <th>fage</th>\n",
        "      <th>mage</th>\n",
        "      <th>mature</th>\n",
        "      <th>weeks</th>\n",
        "      <th>premie</th>\n",
        "      <th>visits</th>\n",
        "      <th>marital</th>\n",
        "      <th>gained</th>\n",
        "      <th>weight</th>\n",
        "      <th>lowbirthweight</th>\n",
        "      <th>gender</th>\n",
        "      <th>habit</th>\n",
        "      <th>whitemom</th>\n",
        "    </tr>\n",
        "  </thead>\n",
        "  <tbody>\n",
        "    <tr>\n",
        "      <th>0</th>\n",
        "      <td>NaN</td>\n",
        "      <td> 13</td>\n",
        "      <td> younger mom</td>\n",
        "      <td> 39</td>\n",
        "      <td> full term</td>\n",
        "      <td> 10</td>\n",
        "      <td> married</td>\n",
        "      <td> 38</td>\n",
        "      <td> 7.63</td>\n",
        "      <td> not low</td>\n",
        "      <td>   male</td>\n",
        "      <td> nonsmoker</td>\n",
        "      <td> not white</td>\n",
        "    </tr>\n",
        "    <tr>\n",
        "      <th>1</th>\n",
        "      <td>NaN</td>\n",
        "      <td> 14</td>\n",
        "      <td> younger mom</td>\n",
        "      <td> 42</td>\n",
        "      <td> full term</td>\n",
        "      <td> 15</td>\n",
        "      <td> married</td>\n",
        "      <td> 20</td>\n",
        "      <td> 7.88</td>\n",
        "      <td> not low</td>\n",
        "      <td>   male</td>\n",
        "      <td> nonsmoker</td>\n",
        "      <td> not white</td>\n",
        "    </tr>\n",
        "    <tr>\n",
        "      <th>2</th>\n",
        "      <td> 19</td>\n",
        "      <td> 15</td>\n",
        "      <td> younger mom</td>\n",
        "      <td> 37</td>\n",
        "      <td> full term</td>\n",
        "      <td> 11</td>\n",
        "      <td> married</td>\n",
        "      <td> 38</td>\n",
        "      <td> 6.63</td>\n",
        "      <td> not low</td>\n",
        "      <td> female</td>\n",
        "      <td> nonsmoker</td>\n",
        "      <td>     white</td>\n",
        "    </tr>\n",
        "    <tr>\n",
        "      <th>3</th>\n",
        "      <td> 21</td>\n",
        "      <td> 15</td>\n",
        "      <td> younger mom</td>\n",
        "      <td> 41</td>\n",
        "      <td> full term</td>\n",
        "      <td>  6</td>\n",
        "      <td> married</td>\n",
        "      <td> 34</td>\n",
        "      <td> 8.00</td>\n",
        "      <td> not low</td>\n",
        "      <td>   male</td>\n",
        "      <td> nonsmoker</td>\n",
        "      <td>     white</td>\n",
        "    </tr>\n",
        "    <tr>\n",
        "      <th>4</th>\n",
        "      <td>NaN</td>\n",
        "      <td> 15</td>\n",
        "      <td> younger mom</td>\n",
        "      <td> 39</td>\n",
        "      <td> full term</td>\n",
        "      <td>  9</td>\n",
        "      <td> married</td>\n",
        "      <td> 27</td>\n",
        "      <td> 6.38</td>\n",
        "      <td> not low</td>\n",
        "      <td> female</td>\n",
        "      <td> nonsmoker</td>\n",
        "      <td> not white</td>\n",
        "    </tr>\n",
        "  </tbody>\n",
        "</table>\n",
        "</div>"
       ],
       "metadata": {},
       "output_type": "pyout",
       "prompt_number": 26,
       "text": [
        "   fage  mage       mature  weeks     premie  visits  marital  gained  weight  \\\n",
        "0   NaN    13  younger mom     39  full term      10  married      38    7.63   \n",
        "1   NaN    14  younger mom     42  full term      15  married      20    7.88   \n",
        "2    19    15  younger mom     37  full term      11  married      38    6.63   \n",
        "3    21    15  younger mom     41  full term       6  married      34    8.00   \n",
        "4   NaN    15  younger mom     39  full term       9  married      27    6.38   \n",
        "\n",
        "  lowbirthweight  gender      habit   whitemom  \n",
        "0        not low    male  nonsmoker  not white  \n",
        "1        not low    male  nonsmoker  not white  \n",
        "2        not low  female  nonsmoker      white  \n",
        "3        not low    male  nonsmoker      white  \n",
        "4        not low  female  nonsmoker  not white  "
       ]
      }
     ],
     "prompt_number": 26
    },
    {
     "cell_type": "code",
     "collapsed": false,
     "input": [
      "len(df)"
     ],
     "language": "python",
     "metadata": {},
     "outputs": [
      {
       "metadata": {},
       "output_type": "pyout",
       "prompt_number": 27,
       "text": [
        "1000"
       ]
      }
     ],
     "prompt_number": 27
    },
    {
     "cell_type": "code",
     "collapsed": false,
     "input": [
      "ns = df[df.habit == 'nonsmoker'].weight\n",
      "sm = df[df.habit == 'smoker'   ].weight\n",
      "\n",
      "# point estimate mean\n",
      "mu      = 0.0\n",
      "ns_xbar = ns.mean()\n",
      "sm_xbar = sm.mean()\n",
      "dbar    = ns_xbar - sm_xbar\n",
      "display(Latex(r\"$\\bar{x}_{ns} = %1.2f$\" % ns_xbar))\n",
      "display(Latex(r\"$\\bar{x}_{sm} = %1.2f$\" % sm_xbar))\n",
      "display(Latex(r\"$\\bar{d} = \\bar{x}_{ns} - \\bar{x}_{sm} = %1.2f - %1.2f = %1.2f$\" % \n",
      "              (ns_xbar, sm_xbar, dbar)))"
     ],
     "language": "python",
     "metadata": {},
     "outputs": [
      {
       "latex": [
        "$\\bar{x}_{ns} = 7.14$"
       ],
       "metadata": {},
       "output_type": "display_data",
       "text": [
        "<IPython.core.display.Latex at 0x9cd17f0>"
       ]
      },
      {
       "latex": [
        "$\\bar{x}_{sm} = 6.83$"
       ],
       "metadata": {},
       "output_type": "display_data",
       "text": [
        "<IPython.core.display.Latex at 0x80f2320>"
       ]
      },
      {
       "latex": [
        "$\\bar{d} = \\bar{x}_{ns} - \\bar{x}_{sm} = 7.14 - 6.83 = 0.32$"
       ],
       "metadata": {},
       "output_type": "display_data",
       "text": [
        "<IPython.core.display.Latex at 0x435f7b8>"
       ]
      }
     ],
     "prompt_number": 28
    },
    {
     "cell_type": "code",
     "collapsed": false,
     "input": [
      "# point estimate std\n",
      "sigma_ns_xbar = ns.std()\n",
      "sigma_sm_xbar = sm.std()\n",
      "n_ns           = len(ns)\n",
      "n_sm          = len(sm)\n",
      "se_dbar       = sqrt(sigma_ns_xbar**2/n_ns + sigma_sm_xbar**2/n_sm)\n",
      "display(Latex(r\"$SE_{\\bar{d}} = %1.2f$\" % se_dbar))\n",
      "(n_ns, sigma_ns_xbar, n_sm, sigma_sm_xbar)"
     ],
     "language": "python",
     "metadata": {},
     "outputs": [
      {
       "latex": [
        "$SE_{\\bar{d}} = 0.13$"
       ],
       "metadata": {},
       "output_type": "display_data",
       "text": [
        "<IPython.core.display.Latex at 0x9b6d0f0>"
       ]
      },
      {
       "metadata": {},
       "output_type": "pyout",
       "prompt_number": 29,
       "text": [
        "(873, 1.5186806061147569, 126, 1.3861797771585016)"
       ]
      }
     ],
     "prompt_number": 29
    },
    {
     "cell_type": "code",
     "collapsed": false,
     "input": [
      "z95 = st.norm.ppf(0.95*0.5 + 0.5)\n",
      "dbar + np.array([-z95,z95])*se_dbar"
     ],
     "language": "python",
     "metadata": {},
     "outputs": [
      {
       "metadata": {},
       "output_type": "pyout",
       "prompt_number": 31,
       "text": [
        "array([ 0.0534,  0.5777])"
       ]
      }
     ],
     "prompt_number": 31
    },
    {
     "cell_type": "code",
     "collapsed": false,
     "input": [
      "z_dbar = (dbar - mu)/se_dbar\n",
      "hyp_test(z_dbar, 0.95, two_sided=True)"
     ],
     "language": "python",
     "metadata": {},
     "outputs": [
      {
       "output_type": "stream",
       "stream": "stdout",
       "text": [
        "Reject H0 at 5% CL with p = 1.83e-02\n"
       ]
      }
     ],
     "prompt_number": 32
    },
    {
     "cell_type": "code",
     "collapsed": false,
     "input": [
      "ns.hist(bins=np.linspace(0,11,12))"
     ],
     "language": "python",
     "metadata": {},
     "outputs": [
      {
       "metadata": {},
       "output_type": "pyout",
       "prompt_number": 33,
       "text": [
        "<matplotlib.axes._subplots.AxesSubplot at 0x9b6f6d8>"
       ]
      },
      {
       "metadata": {},
       "output_type": "display_data",
       "png": "[encoded data removed]",
       "text": [
        "<matplotlib.figure.Figure at 0x9b8c128>"
       ]
      }
     ],
     "prompt_number": 33
    },
    {
     "cell_type": "code",
     "collapsed": false,
     "input": [
      "sm.hist(bins=np.linspace(0,11,12))"
     ],
     "language": "python",
     "metadata": {},
     "outputs": [
      {
       "metadata": {},
       "output_type": "pyout",
       "prompt_number": 34,
       "text": [
        "<matplotlib.axes._subplots.AxesSubplot at 0xa0c10b8>"
       ]
      },
      {
       "metadata": {},
       "output_type": "display_data",
       "png": "[encoded data removed]",
       "text": [
        "<matplotlib.figure.Figure at 0xa0ad8d0>"
       ]
      }
     ],
     "prompt_number": 34
    },
    {
     "cell_type": "heading",
     "level": 3,
     "metadata": {},
     "source": [
      "5.3 One-sample means with the T distribution"
     ]
    },
    {
     "cell_type": "markdown",
     "metadata": {},
     "source": [
      "Student's t-distribution (or simply the t-distribution) is a family of continuous probability distributions that arise when estimating the mean of a normally distributed population in situations where the sample size is small and population standard deviation is unknown.\n",
      "\n",
      "The pdf for the Student's T distribution with \\# degrees of freedeom ($\\nu$)\n",
      "\\begin{align}\n",
      "    t(x | df) = \\frac{\\Gamma(\\frac{\\nu+1}{2})}{\\sqrt{\\pi\\nu}\\Gamma(\\frac{\\nu}{2})}\n",
      "    \\left(1 + \\frac{x^2}{\\nu}\\right)^{-\\frac{\\nu+1}{2}}\n",
      "\\end{align}"
     ]
    },
    {
     "cell_type": "code",
     "collapsed": false,
     "input": [
      "# compare pdf shapes\n",
      "x = np.linspace(-5, 5, 100)\n",
      "plt.plot(x, st.norm.pdf(x)   , 'r--', label=r\"normal\"      )\n",
      "plt.plot(x, st.t(df=3).pdf(x), 'b-' , label=r\"t($\\nu$ = 3)\")\n",
      "plt.legend(loc='best', fontsize=20)"
     ],
     "language": "python",
     "metadata": {},
     "outputs": [
      {
       "metadata": {},
       "output_type": "pyout",
       "prompt_number": 54,
       "text": [
        "<matplotlib.legend.Legend at 0xdcb2860>"
       ]
      },
      {
       "metadata": {},
       "output_type": "display_data",
       "png": "[encoded data removed]",
       "text": [
        "<matplotlib.figure.Figure at 0x105ee0f0>"
       ]
      }
     ],
     "prompt_number": 54
    },
    {
     "cell_type": "markdown",
     "metadata": {},
     "source": [
      "**Exercise 5.15**\n",
      "\n",
      "What proportion of the t distribution with 18 df falls below -2.10\n",
      "\n",
      "\\begin{align}\n",
      "    p(x \\leq -2.10) = \\int_{-\\infty}^{-2.10}dx\\ p_{t}(x | \\nu=18) = 0.025\n",
      "\\end{align}"
     ]
    },
    {
     "cell_type": "code",
     "collapsed": false,
     "input": [
      "# ex 5.15\n",
      "st.t(df=18).cdf(-2.10)"
     ],
     "language": "python",
     "metadata": {},
     "outputs": [
      {
       "metadata": {},
       "output_type": "pyout",
       "prompt_number": 61,
       "text": [
        "0.025045202854784173"
       ]
      }
     ],
     "prompt_number": 61
    },
    {
     "cell_type": "markdown",
     "metadata": {},
     "source": [
      "**Example 5.16**\n",
      "\n",
      "What proportion of the t distribution with 20 df falls above 1.65\n",
      "\n",
      "\\begin{align}\n",
      "    p(x \\geq 1.65) &= \\int_{1.65}^{\\infty}dx\\ p_{t}(x | \\nu=20) \\\\\n",
      "    &= 1 - F_{t}(1.65 | \\nu=20) \\\\\n",
      "    &= 0.0573\n",
      "\\end{align}"
     ]
    },
    {
     "cell_type": "code",
     "collapsed": false,
     "input": [
      "# ex 5.16\n",
      "1.0 - st.t(df=20).cdf(1.65)"
     ],
     "language": "python",
     "metadata": {},
     "outputs": [
      {
       "metadata": {},
       "output_type": "pyout",
       "prompt_number": 68,
       "text": [
        "0.057280412268939651"
       ]
      }
     ],
     "prompt_number": 68
    },
    {
     "cell_type": "markdown",
     "metadata": {},
     "source": [
      "**Example 5.17**\n",
      "\n",
      "What proportion of the t distribution with 2 df falls more than 3 units from the mean.\n",
      "\n",
      "\\begin{align}\n",
      "    p(|x| \\lt 3) &= \\int_{-infty}^{-3}dx\\ p_{t}(x | \\nu=2) + \\int_{3}^{infty}dx\\ p_{t}(x | \\nu=2) \\\\\n",
      "    &= 1 - \\left[F_{t}(3 | \\nu=3) - F_{t}(-3 | \\nu=2)\\right] \\\\\n",
      "    &= 0.0955\n",
      "\\end{align}"
     ]
    },
    {
     "cell_type": "code",
     "collapsed": false,
     "input": [
      "1.0 - (st.t(df=2).cdf(3) - st.t(df=2).cdf(-3))"
     ],
     "language": "python",
     "metadata": {},
     "outputs": [
      {
       "metadata": {},
       "output_type": "pyout",
       "prompt_number": 76,
       "text": [
        "0.095465966266709223"
       ]
      }
     ],
     "prompt_number": 76
    },
    {
     "cell_type": "markdown",
     "metadata": {},
     "source": [
      "**Confidence intervals with t**\n",
      "\n",
      "$\\bar{x} \\pm t^*_{\\nu} \\times SE_{\\bar{x}}$"
     ]
    },
    {
     "cell_type": "code",
     "collapsed": false,
     "input": [
      "# inputs\n",
      "n      = 19\n",
      "xbar   = 4.4\n",
      "s_xbar = 2.3\n",
      "xmin   = 1.7\n",
      "xmax   = 9.2"
     ],
     "language": "python",
     "metadata": {},
     "outputs": [],
     "prompt_number": 104
    },
    {
     "cell_type": "code",
     "collapsed": false,
     "input": [
      "# conf limit\n",
      "nu      = n - 1\n",
      "tstar   = rv_star(0.95, rv=st.t(df=nu))\n",
      "se_xbar = s_xbar/sqrt(n)\n",
      "display(Latex(r\"\"\"\n",
      "\\begin{align}\n",
      "\\bar{x} \\pm t^*_{\\nu} \\times SE_{\\bar{x}} &= %1.2f \\pm %1.2f \\times %1.2f \\\\\n",
      "&= (%1.2f, %1.2f)\n",
      "\\end{align}\n",
      "\"\"\" % (xbar, tstar, se_xbar, xbar-(tstar*se_xbar), xbar+(tstar*se_xbar))))"
     ],
     "language": "python",
     "metadata": {},
     "outputs": [
      {
       "latex": [
        "\n",
        "\\begin{align}\n",
        "\\bar{x} \\pm t^*_{\\nu} \\times SE_{\\bar{x}} &= 4.40 \\pm 2.10 \\times 0.53 \\\\\n",
        "&= (3.29, 5.51)\n",
        "\\end{align}\n"
       ],
       "metadata": {},
       "output_type": "display_data",
       "text": [
        "<IPython.core.display.Latex at 0x109dcdd8>"
       ]
      }
     ],
     "prompt_number": 105
    },
    {
     "cell_type": "code",
     "collapsed": false,
     "input": [],
     "language": "python",
     "metadata": {},
     "outputs": []
    }
   ],
   "metadata": {}
  }
 ]
}