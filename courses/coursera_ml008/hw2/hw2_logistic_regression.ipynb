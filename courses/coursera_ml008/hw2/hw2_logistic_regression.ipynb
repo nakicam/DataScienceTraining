{
 "cells": [
  {
   "cell_type": "markdown",
   "metadata": {},
   "source": [
    "# HW2: Logistic Regression"
   ]
  },
  {
   "cell_type": "markdown",
   "metadata": {},
   "source": [
    "In this exercise, we build a logistic regression model to predict whether a student gets admitted into a university.\n",
    "\n",
    "Assume that you are a admissions officer and you are building your model based on two exam scores.  You have historical data (training) data with the results of the two exams and whether the applicant was admitted.  The task is build a classifier to detemine whether an applicant should be admitted."
   ]
  },
  {
   "cell_type": "markdown",
   "metadata": {},
   "source": [
    "### Notebook Setup"
   ]
  },
  {
   "cell_type": "code",
   "execution_count": 1,
   "metadata": {
    "collapsed": false
   },
   "outputs": [
    {
     "name": "stdout",
     "output_type": "stream",
     "text": [
      "C:\\Users\\J28976\\Documents\\Development\\dst\\courses\\coursera_ml008\\hw2\n"
     ]
    }
   ],
   "source": [
    "import itertools as it\n",
    "import numpy as np\n",
    "import pandas as pd\n",
    "import matplotlib.pyplot as plt\n",
    "import scipy.stats as st\n",
    "import scipy.misc\n",
    "import scipy.optimize as op\n",
    "from IPython.display import display, Math, Latex\n",
    "import os\n",
    "os.chdir('%s/courses/coursera_ml008/hw2' % os.getenv('DST'))\n",
    "print(os.getcwd())\n",
    "\n",
    "# plotting options\n",
    "%matplotlib inline\n",
    "np.set_printoptions(precision=4)\n",
    "plt.rc('font'  , size=18)\n",
    "plt.rc('figure', figsize=(10, 8))\n",
    "plt.rc('axes'  , labelsize=22)\n",
    "plt.rc('legend', fontsize=16)\n",
    "\n",
    "np.set_printoptions(precision=4)\n",
    "plt.rc('figure', figsize=(10, 8))"
   ]
  },
  {
   "cell_type": "markdown",
   "metadata": {},
   "source": [
    "### Visualize the data\n",
    "\n",
    "First let's visualze the training data so get a feel for what we're looking at."
   ]
  },
  {
   "cell_type": "markdown",
   "metadata": {},
   "source": [
    "#### load input data"
   ]
  },
  {
   "cell_type": "code",
   "execution_count": 2,
   "metadata": {
    "collapsed": false
   },
   "outputs": [
    {
     "data": {
      "text/html": [
       "<div>\n",
       "<table border=\"1\" class=\"dataframe\">\n",
       "  <thead>\n",
       "    <tr style=\"text-align: right;\">\n",
       "      <th></th>\n",
       "      <th>exam1</th>\n",
       "      <th>exam2</th>\n",
       "      <th>admit</th>\n",
       "    </tr>\n",
       "  </thead>\n",
       "  <tbody>\n",
       "    <tr>\n",
       "      <th>0</th>\n",
       "      <td>34.623660</td>\n",
       "      <td>78.024693</td>\n",
       "      <td>0</td>\n",
       "    </tr>\n",
       "    <tr>\n",
       "      <th>1</th>\n",
       "      <td>30.286711</td>\n",
       "      <td>43.894998</td>\n",
       "      <td>0</td>\n",
       "    </tr>\n",
       "    <tr>\n",
       "      <th>2</th>\n",
       "      <td>35.847409</td>\n",
       "      <td>72.902198</td>\n",
       "      <td>0</td>\n",
       "    </tr>\n",
       "    <tr>\n",
       "      <th>3</th>\n",
       "      <td>60.182599</td>\n",
       "      <td>86.308552</td>\n",
       "      <td>1</td>\n",
       "    </tr>\n",
       "    <tr>\n",
       "      <th>4</th>\n",
       "      <td>79.032736</td>\n",
       "      <td>75.344376</td>\n",
       "      <td>1</td>\n",
       "    </tr>\n",
       "  </tbody>\n",
       "</table>\n",
       "</div>"
      ],
      "text/plain": [
       "       exam1      exam2  admit\n",
       "0  34.623660  78.024693      0\n",
       "1  30.286711  43.894998      0\n",
       "2  35.847409  72.902198      0\n",
       "3  60.182599  86.308552      1\n",
       "4  79.032736  75.344376      1"
      ]
     },
     "execution_count": 2,
     "metadata": {},
     "output_type": "execute_result"
    }
   ],
   "source": [
    "df = pd.read_csv('ex2data1.txt', names=['exam1', 'exam2', 'admit'])\n",
    "df.head()"
   ]
  },
  {
   "cell_type": "code",
   "execution_count": 3,
   "metadata": {
    "collapsed": false
   },
   "outputs": [
    {
     "data": {
      "image/png": "[encoded data removed]",
      "text/plain": [
       "<matplotlib.figure.Figure at 0x17cc4048>"
      ]
     },
     "metadata": {},
     "output_type": "display_data"
    }
   ],
   "source": [
    "colors  = np.where(df.admit==1, 'black', 'yellow')\n",
    "markers = np.where(df.admit==1, '+', 'O')\n",
    "df_pass = df[df.admit==1]\n",
    "df_fail = df[df.admit==0]\n",
    "plt.scatter(df_pass.exam1, df_pass.exam2, c='k', marker='+', s=50)\n",
    "plt.scatter(df_fail.exam1, df_fail.exam2, c='y', marker='o', s=50)\n",
    "plt.axis([30, 100, 30, 100])\n",
    "plt.xlabel('exam 1 score')\n",
    "plt.ylabel('exam 2 score')\n",
    "plt.legend(['admitted', 'not admitted'])\n",
    "plt.show()"
   ]
  },
  {
   "cell_type": "markdown",
   "metadata": {},
   "source": [
    "#### prepare inputs\n",
    "\n",
    "**recall:** \n",
    "* rows $\\rightarrow$ training dimension\n",
    "* cols $\\rightarrow$ feature dimension"
   ]
  },
  {
   "cell_type": "code",
   "execution_count": 4,
   "metadata": {
    "collapsed": false
   },
   "outputs": [
    {
     "data": {
      "text/plain": [
       "(100L, matrix([[0],\n",
       "         [0],\n",
       "         [0],\n",
       "         [1],\n",
       "         [1]], dtype=int64))"
      ]
     },
     "execution_count": 4,
     "metadata": {},
     "output_type": "execute_result"
    }
   ],
   "source": [
    "y = np.asmatrix(df.admit.values).T\n",
    "m = y.shape[0]\n",
    "m, y[0:5,:]"
   ]
  },
  {
   "cell_type": "code",
   "execution_count": 5,
   "metadata": {
    "collapsed": false
   },
   "outputs": [
    {
     "data": {
      "text/plain": [
       "(3L, matrix([[  1.    ,  34.6237,  78.0247],\n",
       "         [  1.    ,  30.2867,  43.895 ],\n",
       "         [  1.    ,  35.8474,  72.9022],\n",
       "         [  1.    ,  60.1826,  86.3086],\n",
       "         [  1.    ,  79.0327,  75.3444]]))"
      ]
     },
     "execution_count": 5,
     "metadata": {},
     "output_type": "execute_result"
    }
   ],
   "source": [
    "X = np.append(np.ones_like(y), np.asmatrix(df[['exam1', 'exam2']]), axis=1)\n",
    "n = X.shape[1]\n",
    "n, X[0:5, :]"
   ]
  },
  {
   "cell_type": "code",
   "execution_count": 6,
   "metadata": {
    "collapsed": false
   },
   "outputs": [
    {
     "data": {
      "text/plain": [
       "matrix([[ 0.,  0.,  0.]])"
      ]
     },
     "execution_count": 6,
     "metadata": {},
     "output_type": "execute_result"
    }
   ],
   "source": [
    "theta0 = np.matrix(np.zeros((1,n)))\n",
    "theta0"
   ]
  },
  {
   "cell_type": "markdown",
   "metadata": {},
   "source": [
    "## sigmoid function\n",
    "\n",
    "Recall that the hypothesis for logicstic regress is defined as\n",
    "\n",
    "\\begin{align}\n",
    "    h_{\\theta} = g\\left({\\bf \\theta}^T {\\bf x}\\right)\n",
    "\\end{align}\n",
    "\n",
    "where the function g is the sigmoid function:\n",
    "\n",
    "\\begin{align}\n",
    "    g(z) = \\frac{1}{1 + e^{-z}}\n",
    "\\end{align}"
   ]
  },
  {
   "cell_type": "code",
   "execution_count": 7,
   "metadata": {
    "collapsed": false
   },
   "outputs": [],
   "source": [
    "def g(z):\n",
    "    return 1.0/(1 + np.exp(-z))"
   ]
  },
  {
   "cell_type": "code",
   "execution_count": 8,
   "metadata": {
    "collapsed": false
   },
   "outputs": [
    {
     "data": {
      "text/plain": [
       "(3.7200759760208356e-44, 0.5, 1.0)"
      ]
     },
     "execution_count": 8,
     "metadata": {},
     "output_type": "execute_result"
    }
   ],
   "source": [
    "g(-100), g(0), g(100)"
   ]
  },
  {
   "cell_type": "code",
   "execution_count": 9,
   "metadata": {
    "collapsed": false
   },
   "outputs": [
    {
     "data": {
      "text/plain": [
       "<matplotlib.text.Text at 0x17d06898>"
      ]
     },
     "execution_count": 9,
     "metadata": {},
     "output_type": "execute_result"
    },
    {
     "data": {
      "image/png": "[encoded data removed]",
      "text/plain": [
       "<matplotlib.figure.Figure at 0xccd9748>"
      ]
     },
     "metadata": {},
     "output_type": "display_data"
    }
   ],
   "source": [
    "z = np.linspace(-50,50, 1000)\n",
    "plt.plot(z, g(z))\n",
    "plt.axis([-50, 50, -0.5, 1.5])\n",
    "plt.xlabel(\"z\")\n",
    "plt.ylabel(\"g(z)\")"
   ]
  },
  {
   "cell_type": "markdown",
   "metadata": {},
   "source": [
    "## cost function\n",
    "\n",
    "Recall the cost function for logistic regression is given by:\n",
    "\n",
    "\\begin{align}\n",
    "    J(\\theta) &= \\frac{1}{2m} \\sum_{i=1}^{m} \\left( h_{\\theta}(x^{(i)}) - y^{(i)} \\right)^2 \\\\\n",
    "              &= \\frac{1}{2m} \\sum_{i=1}^{m} \\left( \\frac{1}{1 + e^{{\\bf \\theta}^T{\\bf x}^{(i)}}} - y^{(i)} \\right)^2\n",
    "\\end{align}\n",
    "\n",
    "which can be rewritten as:\n",
    "\n",
    "\\begin{align}\n",
    "    J(\\theta) &= \\frac{1}{m} \\sum_{i=1}^{m} \\left[-y^{(i)}\\log\\left\\{h_{\\theta}(x^{(i)})\\right\\} - (1 - y^{(i)})\\log\\left\\{1 - h_{\\theta}(x^{(i)})\\right\\} \\right]\n",
    "\\end{align}\n",
    "\n",
    "When implementing the cost function, we also evaluate the gradient in oder to update theta for each iteration:\n",
    "\n",
    "\\begin{align}\n",
    "    {\\bf \\theta} &\\leftarrow {\\bf \\theta} - \\alpha \\nabla_{\\theta} J(\\theta) \\\\\n",
    "\\end{align}\n",
    "\n",
    "To evaluate $\\nabla_{\\theta} J(\\theta)$ and simplify the calculation:\n",
    "\n",
    "let $z = {\\bf \\theta}^T {\\bf x}$\n",
    "\n",
    "Also, \n",
    "\n",
    "\\begin{align}\n",
    "    \\frac{d}{dz}g(z) \n",
    "    &= \\frac{d}{dz}\\left\\{\\frac{1}{1 + e^{-z}}\\right\\} \\\\\n",
    "    &= \\frac{e^{-z}}{(1 + e^{-z})^2} \\\\\n",
    "    &= g^2(e^{-z}) \\\\\n",
    "    &= g^2(1 - 1 + e^{-z}) \\\\\n",
    "    &= g^2(\\frac{1}{g} - 1) \\\\\n",
    "    &= g(z)(1 - g(z)) \\\\\n",
    "\\end{align}\n",
    "\n",
    "so,\n",
    "\n",
    "\\begin{align}\n",
    "    \\frac{\\partial}{\\partial \\theta_f} J(\\theta)\n",
    "    &= \\frac{\\partial}{\\partial \\theta_f} \\frac{1}{m} \\sum_{i=1}^{m} \\left[-y^{(i)}\\log\\left\\{g(z^{(i)})\\right\\} - (1 - y^{(i)})\\log\\left\\{1 - g(z^{(i)})\\right\\} \\right] \\\\\n",
    "    &= \\frac{1}{m} \\sum_{i=1}^{m} \\frac{\\partial}{\\partial \\theta_f} \\left[-y^{(i)}\\log\\left\\{g(z^{(i)})\\right\\} - (1 - y^{(i)})\\log\\left\\{1 - g(z^{(i)})\\right\\} \\right] \\\\\n",
    "\\end{align}\n",
    "\n",
    "suppressing the superscript $i$ for the moment, consider the argument of the summation over $i$:\n",
    "\n",
    "\\begin{align}\n",
    "    &= \\frac{\\partial}{\\partial \\theta_f} \\left[-y\\log\\left\\{g(z))\\right\\} - (1 - y)\\log\\left\\{1 - g(z)\\right\\} \\right] \\\\\n",
    "    &= -y \\frac{1}{g} \\frac{dg}{dz}\\frac{\\partial z}{\\partial \\theta_j} - (1 - y)\\left\\{\\frac{1}{1-g}\\right\\}(-1)\\frac{\\partial z}{\\partial \\theta_j}\\frac{\\partial z}{\\partial \\theta_j} \\\\\n",
    "    &= (-y (1 - g) + (1 - y)g) \\left\\{\\frac{1}{g(1-g)}\\right\\} \\frac{dg}{dz}\\frac{\\partial z}{\\partial \\theta_j} \\\\\n",
    "    &= (-y (1 - g) + (1 - y)g) \\left\\{\\frac{1}{g(1-g)}\\right\\} \\left\\{g(1-g)\\right\\}\\sum_{k}\\frac{\\partial}{\\partial \\theta_k}{\\theta_f x_f} \\\\ \n",
    "    &= (g - y)x_f\n",
    "\\end{align}\n",
    "\n",
    "Returning to full equation, we get:\n",
    "\n",
    "\\begin{align}\n",
    "    \\frac{\\partial}{\\partial \\theta_f} J(\\theta)\n",
    "    &= \\frac{1}{m} \\sum_{i=1}^{m} \\left( h_{\\theta}({\\bf x}^{(i)}) - y^{(i)} \\right) x_{f}^{(i)} \\\\\n",
    "\\end{align}"
   ]
  },
  {
   "cell_type": "code",
   "execution_count": 10,
   "metadata": {
    "collapsed": false
   },
   "outputs": [],
   "source": [
    "def h(theta, X):\n",
    "    X = np.asmatrix(X)\n",
    "    theta = np.asmatrix(theta)\n",
    "    return g(X*theta.T)"
   ]
  },
  {
   "cell_type": "code",
   "execution_count": 11,
   "metadata": {
    "collapsed": false
   },
   "outputs": [],
   "source": [
    "def cost(theta, X, y):\n",
    "    m = len(y) # size of training set\n",
    "    X      = np.asmatrix(X)\n",
    "    y      = np.asmatrix(y)\n",
    "    theta  = np.asmatrix(theta)\n",
    "    assert(X.shape[0]==y.shape[0])\n",
    "    assert(X.shape[1]==theta.shape[1])\n",
    "    theta = np.asmatrix(theta)\n",
    "    return (1.0/m) * np.sum(-y.T * np.log(h(theta, X)) - (1-y).T*np.log(1 - h(theta,X)))"
   ]
  },
  {
   "cell_type": "code",
   "execution_count": 12,
   "metadata": {
    "collapsed": false
   },
   "outputs": [],
   "source": [
    "def grad(theta, X, y):\n",
    "    m      = len(y) # size of training set\n",
    "    X      = np.asmatrix(X)\n",
    "    y      = np.asmatrix(y)\n",
    "    theta  = np.asmatrix(theta)\n",
    "    assert(X.shape[0]==y.shape[0])\n",
    "    assert(X.shape[1]==theta.shape[1])\n",
    "    beta   = h(theta, X) - y\n",
    "    result = (1.0/m)*beta.T*X\n",
    "    return result"
   ]
  },
  {
   "cell_type": "code",
   "execution_count": 13,
   "metadata": {
    "collapsed": false
   },
   "outputs": [
    {
     "data": {
      "text/plain": [
       "(0.69314718055994529, matrix([[ -0.1   , -12.0092, -11.2628]]))"
      ]
     },
     "execution_count": 13,
     "metadata": {},
     "output_type": "execute_result"
    }
   ],
   "source": [
    "cost(theta0, X, y), grad(theta0, X, y)"
   ]
  },
  {
   "cell_type": "code",
   "execution_count": 14,
   "metadata": {
    "collapsed": false
   },
   "outputs": [],
   "source": [
    "# grad_wrap = lambda theta : grad(theta, X, y)\n",
    "# cost_wrap = lambda theta : cost(theta, X, y)\n",
    "# op.check_grad(cost_wrap, grad_wrap, theta0)"
   ]
  },
  {
   "cell_type": "markdown",
   "metadata": {},
   "source": [
    "## Learning the parameters using scipy.optimize\n",
    "\n",
    "The octave function to use is **fminunc**.  We'll use the scipy equivelant **scipy.optimize.fmin**."
   ]
  },
  {
   "cell_type": "code",
   "execution_count": 15,
   "metadata": {
    "collapsed": false
   },
   "outputs": [
    {
     "data": {
      "text/plain": [
       "array([-25.8737,   0.2119,   0.2072])"
      ]
     },
     "execution_count": 15,
     "metadata": {},
     "output_type": "execute_result"
    }
   ],
   "source": [
    "result = op.minimize(fun=cost, x0=theta0, args=(X,y), method='TNC', jac=grad)\n",
    "theta_fit = result.x\n",
    "theta_fit "
   ]
  },
  {
   "cell_type": "code",
   "execution_count": 16,
   "metadata": {
    "collapsed": false
   },
   "outputs": [
    {
     "data": {
      "text/plain": [
       "0.2035713794701724"
      ]
     },
     "execution_count": 16,
     "metadata": {},
     "output_type": "execute_result"
    }
   ],
   "source": [
    "cost_fit = cost(theta_fit, X, y)\n",
    "cost_fit"
   ]
  },
  {
   "cell_type": "markdown",
   "metadata": {},
   "source": [
    "The value of 0.203 is the correct answer"
   ]
  },
  {
   "cell_type": "markdown",
   "metadata": {},
   "source": [
    "## Evaluating the logistic regression"
   ]
  },
  {
   "cell_type": "code",
   "execution_count": 17,
   "metadata": {
    "collapsed": false
   },
   "outputs": [],
   "source": [
    "def predict(theta, X, threshold=0.5):\n",
    "    p = h(theta, X)\n",
    "    return np.where(p > threshold, 1, 0)    "
   ]
  },
  {
   "cell_type": "code",
   "execution_count": 18,
   "metadata": {
    "collapsed": false
   },
   "outputs": [
    {
     "data": {
      "text/plain": [
       "1"
      ]
     },
     "execution_count": 18,
     "metadata": {},
     "output_type": "execute_result"
    }
   ],
   "source": [
    "# test single point\n",
    "predict(theta_fit, np.matrix([1.0, 45, 85]))[0,0]"
   ]
  },
  {
   "cell_type": "code",
   "execution_count": 19,
   "metadata": {
    "collapsed": false
   },
   "outputs": [
    {
     "data": {
      "image/png": "[encoded data removed]",
      "text/plain": [
       "<matplotlib.figure.Figure at 0xccf5f60>"
      ]
     },
     "metadata": {},
     "output_type": "display_data"
    }
   ],
   "source": [
    "# plot fit\n",
    "plot_x = np.array([np.min(X[:,1]), np.max(X[:,1])])\n",
    "t0     = theta_fit[0]\n",
    "t1     = theta_fit[1]\n",
    "t2     = theta_fit[2]\n",
    "plot_y = (-1.0/t2)*(t1*plot_x + t0)\n",
    "plot_x, plot_y\n",
    "\n",
    "colors  = np.where(df.admit==1, 'black', 'yellow')\n",
    "markers = np.where(df.admit==1, '+', 'O')\n",
    "df_pass = df[df.admit==1]\n",
    "df_fail = df[df.admit==0]\n",
    "plt.scatter(df_pass.exam1, df_pass.exam2, c='k', marker='+', s=50)\n",
    "plt.scatter(df_fail.exam1, df_fail.exam2, c='y', marker='o', s=50)\n",
    "plt.plot(plot_x, plot_y, 'b')\n",
    "plt.axis([30, 100, 30, 100])\n",
    "plt.xlabel('exam 1 score')\n",
    "plt.ylabel('exam 2 score')\n",
    "plt.legend(['decision boundary', 'admitted', 'not admitted'], loc='lower left')\n",
    "plt.show()"
   ]
  },
  {
   "cell_type": "markdown",
   "metadata": {},
   "source": [
    "The accuracy of our prediction on the training set (the in sample error) is:"
   ]
  },
  {
   "cell_type": "code",
   "execution_count": 20,
   "metadata": {
    "collapsed": false
   },
   "outputs": [
    {
     "name": "stdout",
     "output_type": "stream",
     "text": [
      "Training accuracy = 89.00\n"
     ]
    }
   ],
   "source": [
    "p   = predict(theta_fit, X)\n",
    "acc = np.mean(p==y)*100\n",
    "print('Training accuracy = %1.2f' % acc)"
   ]
  },
  {
   "cell_type": "markdown",
   "metadata": {},
   "source": [
    "## Regularized Logistic Regression"
   ]
  },
  {
   "cell_type": "markdown",
   "metadata": {},
   "source": [
    "In this part of the exercise, you will implement regularized logistic regression to predict whether microchips from a fabrication plan passes quality assurance standards (QA).  During QA, each microchip goes through various tests to ensure it is functioning correcty.\n",
    "\n",
    "Suppose you are the product manager of the factory and you have the test results for some microchips on two different tests.  From those two tests, you would like to dtermine whether the microchips should be accepted or rejected."
   ]
  },
  {
   "cell_type": "markdown",
   "metadata": {},
   "source": [
    "### visualize the data"
   ]
  },
  {
   "cell_type": "markdown",
   "metadata": {},
   "source": [
    "#### load the data"
   ]
  },
  {
   "cell_type": "code",
   "execution_count": 21,
   "metadata": {
    "collapsed": false
   },
   "outputs": [
    {
     "data": {
      "text/html": [
       "<div>\n",
       "<table border=\"1\" class=\"dataframe\">\n",
       "  <thead>\n",
       "    <tr style=\"text-align: right;\">\n",
       "      <th></th>\n",
       "      <th>test1</th>\n",
       "      <th>test2</th>\n",
       "      <th>accepted</th>\n",
       "    </tr>\n",
       "  </thead>\n",
       "  <tbody>\n",
       "    <tr>\n",
       "      <th>0</th>\n",
       "      <td>0.051267</td>\n",
       "      <td>0.69956</td>\n",
       "      <td>1</td>\n",
       "    </tr>\n",
       "    <tr>\n",
       "      <th>1</th>\n",
       "      <td>-0.092742</td>\n",
       "      <td>0.68494</td>\n",
       "      <td>1</td>\n",
       "    </tr>\n",
       "    <tr>\n",
       "      <th>2</th>\n",
       "      <td>-0.213710</td>\n",
       "      <td>0.69225</td>\n",
       "      <td>1</td>\n",
       "    </tr>\n",
       "    <tr>\n",
       "      <th>3</th>\n",
       "      <td>-0.375000</td>\n",
       "      <td>0.50219</td>\n",
       "      <td>1</td>\n",
       "    </tr>\n",
       "    <tr>\n",
       "      <th>4</th>\n",
       "      <td>-0.513250</td>\n",
       "      <td>0.46564</td>\n",
       "      <td>1</td>\n",
       "    </tr>\n",
       "  </tbody>\n",
       "</table>\n",
       "</div>"
      ],
      "text/plain": [
       "      test1    test2  accepted\n",
       "0  0.051267  0.69956         1\n",
       "1 -0.092742  0.68494         1\n",
       "2 -0.213710  0.69225         1\n",
       "3 -0.375000  0.50219         1\n",
       "4 -0.513250  0.46564         1"
      ]
     },
     "execution_count": 21,
     "metadata": {},
     "output_type": "execute_result"
    }
   ],
   "source": [
    "df = pd.read_csv('ex2data2.txt', names=['test1', 'test2', 'accepted'])\n",
    "df.head()"
   ]
  },
  {
   "cell_type": "code",
   "execution_count": 22,
   "metadata": {
    "collapsed": false
   },
   "outputs": [
    {
     "data": {
      "image/png": "[encoded data removed]",
      "text/plain": [
       "<matplotlib.figure.Figure at 0x17d66b38>"
      ]
     },
     "metadata": {},
     "output_type": "display_data"
    }
   ],
   "source": [
    "df_pass = df[df.accepted==1]\n",
    "df_fail = df[df.accepted==0]\n",
    "plt.scatter(df_pass.test1, df_pass.test2, c='k', marker='+', s=50)\n",
    "plt.scatter(df_fail.test1, df_fail.test2, c='y', marker='o', s=50)\n",
    "plt.axis([-1, 1.5, -0.8, 1.2])\n",
    "plt.xlabel('test 1 score')\n",
    "plt.ylabel('test 2 score')\n",
    "plt.legend(['accepted', 'rejected'])\n",
    "plt.show()"
   ]
  },
  {
   "cell_type": "markdown",
   "metadata": {},
   "source": [
    "### Feature mapping\n",
    "\n",
    "This dataset cannot be classified by a linear function (not linearly seperable).  Linear logistic regression will not work.  We will need to create more features form each data point.\n",
    "\n",
    "Let us construct a feature map of all polynomials of $x_1$ and $x_2$ up the sixth power:\n",
    "\n",
    "\\begin{align}\n",
    "{\\rm map}({\\bf x}) = \n",
    "\\left[\n",
    "\\begin{array}{c}\n",
    "1 \\\\\n",
    "x_1 \\\\\n",
    "x_2 \\\\\n",
    "x_1^2 \\\\\n",
    "x_1x_2 \\\\\n",
    "x_2^2 \\\\\n",
    "x_1^3 \\\\\n",
    "\\vdots \\\\\n",
    "x_1x_2^4 \\\\\n",
    "x_2^6 \\\\\n",
    "\\end{array} \n",
    "\\right]\n",
    "\\end{align}"
   ]
  },
  {
   "cell_type": "code",
   "execution_count": 23,
   "metadata": {
    "collapsed": false
   },
   "outputs": [],
   "source": [
    "def map_features(x1, x2, degree=6):\n",
    "    assert(x1.shape == x2.shape)\n",
    "    #assert(x1.shape[1]==1)\n",
    "    \n",
    "    result = np.matrix(np.empty((x1.shape[0], np.sum(np.arange(degree+1)+1))))\n",
    "\n",
    "    col = 0\n",
    "    for order in np.arange(degree+1):\n",
    "        for i in np.arange(order+1):\n",
    "            j = order-i\n",
    "            result[:,col] = np.multiply(np.power(x1, i), np.power(x2, j))\n",
    "            col += 1\n",
    "    return result"
   ]
  },
  {
   "cell_type": "code",
   "execution_count": 24,
   "metadata": {
    "collapsed": false
   },
   "outputs": [
    {
     "data": {
      "text/plain": [
       "matrix([[  1.0000e+00,   2.0000e+00,   2.0000e+00,   4.0000e+00,\n",
       "           4.0000e+00,   4.0000e+00,   8.0000e+00,   8.0000e+00,\n",
       "           8.0000e+00,   8.0000e+00,   1.6000e+01,   1.6000e+01,\n",
       "           1.6000e+01,   1.6000e+01,   1.6000e+01,   3.2000e+01,\n",
       "           3.2000e+01,   3.2000e+01,   3.2000e+01,   3.2000e+01,\n",
       "           3.2000e+01,   6.4000e+01,   6.4000e+01,   6.4000e+01,\n",
       "           6.4000e+01,   6.4000e+01,   6.4000e+01,   6.4000e+01],\n",
       "        [  1.0000e+00,   4.0000e+00,   3.0000e+00,   1.6000e+01,\n",
       "           1.2000e+01,   9.0000e+00,   6.4000e+01,   4.8000e+01,\n",
       "           3.6000e+01,   2.7000e+01,   2.5600e+02,   1.9200e+02,\n",
       "           1.4400e+02,   1.0800e+02,   8.1000e+01,   1.0240e+03,\n",
       "           7.6800e+02,   5.7600e+02,   4.3200e+02,   3.2400e+02,\n",
       "           2.4300e+02,   4.0960e+03,   3.0720e+03,   2.3040e+03,\n",
       "           1.7280e+03,   1.2960e+03,   9.7200e+02,   7.2900e+02]])"
      ]
     },
     "execution_count": 24,
     "metadata": {},
     "output_type": "execute_result"
    }
   ],
   "source": [
    "x1 = np.matrix([[2],[3]])\n",
    "x2 = np.matrix([[2],[4]])\n",
    "r = map_features(x1, x2)\n",
    "r"
   ]
  },
  {
   "cell_type": "markdown",
   "metadata": {},
   "source": [
    "### cost function and gradient\n",
    "\n",
    "Now implement the cost function and gradient for the regularized logistic regression.  Recall that a quadratic term in $\\theta_j$ is used to \"penalize\" features -- almost like a damping term in the gradient descent.  The cost function becomes:\n",
    "\n",
    "\\begin{align}\n",
    "    J(\\theta) &= \\frac{1}{m} \\sum_{i=1}^{m} \\left[-y^{(i)}\\log\\left\\{h_{\\theta}(x^{(i)})\\right\\} - (1 - y^{(i)})\\log\\left\\{1 - h_{\\theta}(x^{(i)})\\right\\} \\right] + \\frac{\\lambda}{2m}\\sum_{f=1}^{n}\\theta_f^2\n",
    "\\end{align}\n",
    "\n",
    "and the gradient is now:\n",
    "\n",
    "\\begin{align}\n",
    "\\begin{array}{cc}\n",
    "    \\frac{\\partial}{\\partial \\theta_0} J(\\theta)\n",
    "    = \\frac{1}{m} \\sum_{i=1}^{m} \\left( h_{\\theta}({\\bf x}^{(i)}) - y^{(i)} \\right) x_{f}^{(i)} & {\\text,\\ for\\ }f = 0 \\\\\n",
    "    \\frac{\\partial}{\\partial \\theta_f} J(\\theta)\n",
    "    = \\frac{1}{m} \\sum_{i=1}^{m} \\left( h_{\\theta}({\\bf x}^{(i)}) - y^{(i)} \\right) x_{f}^{(i)} + \\frac{\\lambda}{m}\\theta_j & {\\text,\\ for\\ }f \\neq 0 \\\\\n",
    "\\end{array}\n",
    "\\end{align}"
   ]
  },
  {
   "cell_type": "code",
   "execution_count": 25,
   "metadata": {
    "collapsed": false
   },
   "outputs": [],
   "source": [
    "def cost(theta, X, y, lambda_param):  \n",
    "    m       = len(y)\n",
    "    X      = np.asmatrix(X)\n",
    "    y      = np.asmatrix(y)\n",
    "    theta  = np.asmatrix(theta)\n",
    "    \n",
    "    assert(X.shape[0]==y.shape[0])\n",
    "    assert(X.shape[1]==theta.shape[1])\n",
    "  \n",
    "    result  = (1.0/m) * np.sum(-y.T * np.log(h(theta, X)) - (1-y).T*np.log(1 - h(theta,X)))\n",
    "    result += (lambda_param/(2*m))*np.sum(np.power(theta[1:],2)) # regularization\n",
    "    return result"
   ]
  },
  {
   "cell_type": "code",
   "execution_count": 26,
   "metadata": {
    "collapsed": true
   },
   "outputs": [],
   "source": [
    "def grad(theta, X, y, lambda_param):\n",
    "    m      = len(y) # size of training set\n",
    "    X      = np.asmatrix(X)\n",
    "    y      = np.asmatrix(y)\n",
    "    theta  = np.asmatrix(theta)\n",
    "    beta   = h(theta, X) - y\n",
    "    \n",
    "    assert(X.shape[0]==y.shape[0])\n",
    "    assert(X.shape[1]==theta.shape[1])\n",
    "    \n",
    "    reg    = (lambda_param/(m))*np.concatenate((np.zeros_like(theta[:,0]),theta[:,1:]), axis=1)\n",
    "    result = (1.0/m)*beta.T*X + reg\n",
    "    return result"
   ]
  },
  {
   "cell_type": "code",
   "execution_count": 27,
   "metadata": {
    "collapsed": false
   },
   "outputs": [
    {
     "data": {
      "text/plain": [
       "((100L, 1L), (100L, 3L), (3L, 100L), (1L, 3L), (3L, 1L))"
      ]
     },
     "execution_count": 27,
     "metadata": {},
     "output_type": "execute_result"
    }
   ],
   "source": [
    "m       = len(y)\n",
    "X      = np.asmatrix(X)\n",
    "y      = np.asmatrix(y)\n",
    "theta  = np.asmatrix(theta0)\n",
    "beta   = (h(theta, X) - y)\n",
    "beta.shape, X.shape, X.T.shape, theta0.shape, (X.T*beta).shape"
   ]
  },
  {
   "cell_type": "markdown",
   "metadata": {},
   "source": [
    "### prepare inputs"
   ]
  },
  {
   "cell_type": "code",
   "execution_count": 28,
   "metadata": {
    "collapsed": false
   },
   "outputs": [
    {
     "data": {
      "text/plain": [
       "(118L, matrix([[1],\n",
       "         [1],\n",
       "         [1],\n",
       "         [1],\n",
       "         [1]], dtype=int64))"
      ]
     },
     "execution_count": 28,
     "metadata": {},
     "output_type": "execute_result"
    }
   ],
   "source": [
    "y = np.asmatrix(df.accepted.values).T\n",
    "m = y.shape[0]\n",
    "m, y[0:5,:]"
   ]
  },
  {
   "cell_type": "code",
   "execution_count": 29,
   "metadata": {
    "collapsed": false
   },
   "outputs": [
    {
     "data": {
      "text/plain": [
       "(28L, matrix([[  1.0000e+00,   6.9956e-01,   5.1267e-02,   4.8938e-01,\n",
       "            3.5864e-02,   2.6283e-03,   3.4235e-01,   2.5089e-02,\n",
       "            1.8387e-03,   1.3475e-04,   2.3950e-01,   1.7551e-02,\n",
       "            1.2863e-03,   9.4262e-05,   6.9080e-06,   1.6754e-01,\n",
       "            1.2278e-02,   8.9981e-04,   6.5942e-05,   4.8326e-06,\n",
       "            3.5415e-07,   1.1721e-01,   8.5894e-03,   6.2947e-04,\n",
       "            4.6131e-05,   3.3807e-06,   2.4775e-07,   1.8156e-08],\n",
       "         [  1.0000e+00,   6.8494e-01,  -9.2742e-02,   4.6914e-01,\n",
       "           -6.3523e-02,   8.6011e-03,   3.2133e-01,  -4.3509e-02,\n",
       "            5.8912e-03,  -7.9768e-04,   2.2009e-01,  -2.9801e-02,\n",
       "            4.0351e-03,  -5.4636e-04,   7.3979e-05,   1.5075e-01,\n",
       "           -2.0412e-02,   2.7638e-03,  -3.7423e-04,   5.0671e-05,\n",
       "           -6.8609e-06,   1.0326e-01,  -1.3981e-02,   1.8931e-03,\n",
       "           -2.5632e-04,   3.4707e-05,  -4.6993e-06,   6.3630e-07]]))"
      ]
     },
     "execution_count": 29,
     "metadata": {},
     "output_type": "execute_result"
    }
   ],
   "source": [
    "x1 = np.asmatrix(df.test1.values).T\n",
    "x2 = np.asmatrix(df.test2.values).T\n",
    "X = map_features(x1, x2)\n",
    "n = X.shape[1]\n",
    "n, X[0:2, :]"
   ]
  },
  {
   "cell_type": "code",
   "execution_count": 30,
   "metadata": {
    "collapsed": false
   },
   "outputs": [
    {
     "data": {
      "text/plain": [
       "(1L, 28L)"
      ]
     },
     "execution_count": 30,
     "metadata": {},
     "output_type": "execute_result"
    }
   ],
   "source": [
    "theta0 = np.asmatrix(np.zeros((1,n)))\n",
    "theta0.shape"
   ]
  },
  {
   "cell_type": "markdown",
   "metadata": {},
   "source": [
    "#### test cost and grad on one point"
   ]
  },
  {
   "cell_type": "code",
   "execution_count": 31,
   "metadata": {
    "collapsed": false
   },
   "outputs": [
    {
     "data": {
      "text/plain": [
       "(0.6931471805599454,\n",
       " matrix([[  8.4746e-03,   7.7771e-05,   1.8788e-02,   3.7665e-02,\n",
       "            1.1501e-02,   5.0345e-02,   2.3476e-02,   8.1924e-03,\n",
       "            7.3239e-03,   1.8356e-02,   3.9303e-02,   3.0959e-03,\n",
       "            1.2860e-02,   2.2392e-03,   3.9349e-02,   3.1008e-02,\n",
       "            4.4763e-03,   5.8382e-03,   3.3864e-03,   4.3298e-03,\n",
       "            1.9971e-02,   3.8794e-02,   1.3765e-03,   7.2650e-03,\n",
       "            4.0850e-04,   6.3157e-03,   1.0974e-03,   3.1031e-02]]))"
      ]
     },
     "execution_count": 31,
     "metadata": {},
     "output_type": "execute_result"
    }
   ],
   "source": [
    "cost(theta0, X, y, 1.0), grad(theta0, X, y, 1.0)"
   ]
  },
  {
   "cell_type": "markdown",
   "metadata": {},
   "source": [
    "### optimize "
   ]
  },
  {
   "cell_type": "code",
   "execution_count": 32,
   "metadata": {
    "collapsed": false
   },
   "outputs": [],
   "source": [
    "result_l1   = op.minimize(fun=cost, x0=theta0, args=(X,y,1.0  ), method='TNC', jac=grad)\n",
    "result_l0   = op.minimize(fun=cost, x0=theta0, args=(X,y,0.0  ), method='TNC', jac=grad)\n",
    "result_l100 = op.minimize(fun=cost, x0=theta0, args=(X,y,100.0), method='TNC', jac=grad)"
   ]
  },
  {
   "cell_type": "code",
   "execution_count": 33,
   "metadata": {
    "collapsed": false
   },
   "outputs": [
    {
     "data": {
      "text/plain": [
       "array([ 1.2742,  1.1859,  0.6248, -1.4132, -0.9171, -2.0217, -0.1807,\n",
       "       -0.3646, -0.3677,  0.1244, -1.2013, -0.2717, -0.62  , -0.0629,\n",
       "       -1.4651, -0.4679, -0.2928, -0.278 , -0.0549, -0.209 , -0.2366,\n",
       "       -0.9355, -0.138 , -0.3292,  0.0096, -0.2964,  0.0208, -1.044 ])"
      ]
     },
     "execution_count": 33,
     "metadata": {},
     "output_type": "execute_result"
    }
   ],
   "source": [
    "theta_l1_fit   = result_l1.x\n",
    "theta_l0_fit   = result_l0.x\n",
    "theta_l100_fit = result_l100.x\n",
    "theta_l1_fit"
   ]
  },
  {
   "cell_type": "code",
   "execution_count": 34,
   "metadata": {
    "collapsed": false
   },
   "outputs": [],
   "source": [
    "# contour of decision boundary\n",
    "u = np.linspace(-1, 1.5, 50)\n",
    "v = u.copy()\n",
    "z_l1   = np.zeros((len(u), len(v)))\n",
    "z_l0   = np.zeros((len(u), len(v)))\n",
    "z_l100 = np.zeros((len(u), len(v)))\n",
    "\n",
    "for i, u_value in enumerate(u):\n",
    "    for j, v_value in enumerate(v):\n",
    "        u_value = np.asmatrix(u_value).T\n",
    "        v_value = np.asmatrix(v_value).T\n",
    "        z_l1  [i, j] = theta_l1_fit*map_features(u_value, v_value).T\n",
    "        z_l0  [i, j] = theta_l0_fit*map_features(u_value, v_value).T\n",
    "        z_l100[i, j] = theta_l100_fit*map_features(u_value, v_value).T\n",
    "z_l1 = z_l1.T\n",
    "z_l0 = z_l0.T\n",
    "z_l100 = z_l100.T"
   ]
  },
  {
   "cell_type": "code",
   "execution_count": 35,
   "metadata": {
    "collapsed": false
   },
   "outputs": [
    {
     "data": {
      "image/png": "[encoded data removed]",
      "text/plain": [
       "<matplotlib.figure.Figure at 0xccf5f98>"
      ]
     },
     "metadata": {},
     "output_type": "display_data"
    }
   ],
   "source": [
    "df_pass = df[df.accepted==1]\n",
    "df_fail = df[df.accepted==0]\n",
    "plt.scatter(df_pass.test1, df_pass.test2, c='k', marker='+', s=50)\n",
    "plt.scatter(df_fail.test1, df_fail.test2, c='y', marker='o', s=50)\n",
    "plt.contour(u, v, z_l1  , colors=['darkgreen'], levels=[0,0], linewidths=[2])\n",
    "plt.contour(u, v, z_l0  , colors=['darkblue' ], levels=[0,0], linewidths=[2])\n",
    "plt.contour(u, v, z_l100, colors=['red'      ], levels=[0,0], linewidths=[2])\n",
    "plt.axis([-1, 1.5, -0.8, 1.2])\n",
    "plt.xlabel('test 1 score')\n",
    "plt.ylabel('test 2 score')\n",
    "plt.legend(['accepted', 'rejected', '$\\\\lambda$ = 1', '$\\\\lambda$ = 0', '$\\\\lambda$ = 100'],scatterpoints=1)\n",
    "plt.show()"
   ]
  }
 ],
 "metadata": {
  "kernelspec": {
   "display_name": "Python 2",
   "language": "python",
   "name": "python2"
  },
  "language_info": {
   "codemirror_mode": {
    "name": "ipython",
    "version": 2
   },
   "file_extension": ".py",
   "mimetype": "text/x-python",
   "name": "python",
   "nbconvert_exporter": "python",
   "pygments_lexer": "ipython2",
   "version": "2.7.10"
  }
 },
 "nbformat": 4,
 "nbformat_minor": 0
}
