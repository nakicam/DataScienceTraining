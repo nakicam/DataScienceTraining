{
 "cells": [
  {
   "cell_type": "markdown",
   "metadata": {},
   "source": [
    "# HW3: Multi-class Classification and Neural Networks\n",
    "\n",
    "In this exercise, we will implement a one-vs-all logistic regression and neural networks to recognize hand-written digits.    "
   ]
  },
  {
   "cell_type": "markdown",
   "metadata": {},
   "source": [
    "#### Notebook setup"
   ]
  },
  {
   "cell_type": "code",
   "execution_count": 3,
   "metadata": {
    "collapsed": false
   },
   "outputs": [
    {
     "name": "stdout",
     "output_type": "stream",
     "text": [
      "/Users/rwk7t/Development/dst/courses/coursera_ml008/hw3\n"
     ]
    }
   ],
   "source": [
    "import itertools as it\n",
    "import numpy as np\n",
    "import pandas as pd\n",
    "import matplotlib.pyplot as plt\n",
    "import scipy.stats as st\n",
    "import scipy.misc\n",
    "import scipy.optimize as op\n",
    "import random\n",
    "from IPython.display import display, Math, Latex\n",
    "import os\n",
    "os.chdir('%s/courses/coursera_ml008/hw3' % os.getenv('DST'))\n",
    "print(os.getcwd())\n",
    "\n",
    "# plotting options\n",
    "%matplotlib inline\n",
    "np.set_printoptions(precision=4, linewidth=120)\n",
    "plt.rc('font'  , size=18)\n",
    "plt.rc('figure', figsize=(10, 8))\n",
    "plt.rc('axes'  , labelsize=22)\n",
    "plt.rc('legend', fontsize=16)\n",
    "\n",
    "np.set_printoptions(precision=4)\n",
    "plt.rc('figure', figsize=(10, 8))"
   ]
  },
  {
   "cell_type": "markdown",
   "metadata": {},
   "source": [
    "#### tex setup\n",
    "$ \\newcommand{\\prob}{\\mathbb{P}} $"
   ]
  },
  {
   "cell_type": "markdown",
   "metadata": {},
   "source": [
    "## Multi-class Classification\n",
    "\n",
    "For this exercise, you will use logistic regression and neural networks to recognize handwritten digits (from 0 to 9).  In this part of the exercise, you will extend logistic regression and apply it to one-vs-all classification. "
   ]
  },
  {
   "cell_type": "markdown",
   "metadata": {},
   "source": [
    "#### load the data"
   ]
  },
  {
   "cell_type": "code",
   "execution_count": 4,
   "metadata": {
    "collapsed": false
   },
   "outputs": [
    {
     "data": {
      "text/plain": [
       "{'X': array([[ 0.,  0.,  0., ...,  0.,  0.,  0.],\n",
       "        [ 0.,  0.,  0., ...,  0.,  0.,  0.],\n",
       "        [ 0.,  0.,  0., ...,  0.,  0.,  0.],\n",
       "        ..., \n",
       "        [ 0.,  0.,  0., ...,  0.,  0.,  0.],\n",
       "        [ 0.,  0.,  0., ...,  0.,  0.,  0.],\n",
       "        [ 0.,  0.,  0., ...,  0.,  0.,  0.]]),\n",
       " '__globals__': [],\n",
       " '__header__': 'MATLAB 5.0 MAT-file, Platform: GLNXA64, Created on: Sun Oct 16 13:09:09 2011',\n",
       " '__version__': '1.0',\n",
       " 'y': array([[10],\n",
       "        [10],\n",
       "        [10],\n",
       "        ..., \n",
       "        [ 9],\n",
       "        [ 9],\n",
       "        [ 9]], dtype=uint8)}"
      ]
     },
     "execution_count": 4,
     "metadata": {},
     "output_type": "execute_result"
    }
   ],
   "source": [
    "import scipy.io\n",
    "data = scipy.io.loadmat('ex3data1.mat')\n",
    "data"
   ]
  },
  {
   "cell_type": "code",
   "execution_count": 5,
   "metadata": {
    "collapsed": false
   },
   "outputs": [
    {
     "data": {
      "text/plain": [
       "((5000, 400), (5000, 1))"
      ]
     },
     "execution_count": 5,
     "metadata": {},
     "output_type": "execute_result"
    }
   ],
   "source": [
    "X = data['X']\n",
    "y = data['y']\n",
    "X.shape, y.shape"
   ]
  },
  {
   "cell_type": "markdown",
   "metadata": {},
   "source": [
    "There are 5000 Training examples in the file, where each training example is a 20x20 pixel of grayscale intensity at that location.  The 20x20 grid is \"unrolled\" into a 400 dimensional vector.  Each of the training examples becomes a single row in our data matrix ${\\bf X}$.  This gives us a 5000 by 400 matrix.\n",
    "\n",
    "\\begin{align}\n",
    "{\\bf X} = \n",
    "\\left( \n",
    "\\begin{array}{c}\n",
    "-\\ {{\\bf x}^{(1)} }^T - \\\\\n",
    "-\\ {{\\bf x}^{(2)} }^T - \\\\\n",
    "\\vdots  \\\\\n",
    "-\\ {{\\bf x}^{(m)} }^T - \\\\\n",
    "\\end{array} \n",
    "\\right)\n",
    "\\end{align}\n",
    "\n",
    "The second part of the training set is a 5000-dimensional vector ${\\bf y}$ that contains labels for the training set.  To make things easier in Octave/Matlab, the \"0\" digit is represented by \"10\".  Let us remap this since we are using python."
   ]
  },
  {
   "cell_type": "code",
   "execution_count": 6,
   "metadata": {
    "collapsed": false
   },
   "outputs": [
    {
     "data": {
      "text/plain": [
       "array([[0],\n",
       "       [0],\n",
       "       [0],\n",
       "       [0],\n",
       "       [0]], dtype=uint8)"
      ]
     },
     "execution_count": 6,
     "metadata": {},
     "output_type": "execute_result"
    }
   ],
   "source": [
    "y = np.where(y==10, 0, y)\n",
    "y[0:5]"
   ]
  },
  {
   "cell_type": "markdown",
   "metadata": {},
   "source": [
    "### visualize the data"
   ]
  },
  {
   "cell_type": "code",
   "execution_count": 7,
   "metadata": {
    "collapsed": false
   },
   "outputs": [
    {
     "data": {
      "text/plain": [
       "(5000, 400)"
      ]
     },
     "execution_count": 7,
     "metadata": {},
     "output_type": "execute_result"
    }
   ],
   "source": [
    "# m is # training set, n is the number of features (pixels)\n",
    "m, n = X.shape\n",
    "m, n"
   ]
  },
  {
   "cell_type": "code",
   "execution_count": 8,
   "metadata": {
    "collapsed": false
   },
   "outputs": [
    {
     "name": "stderr",
     "output_type": "stream",
     "text": [
      "/usr/local/lib/python2.7/site-packages/ipykernel/__main__.py:11: DeprecationWarning: using a non-integer number instead of an integer will result in an error in the future\n"
     ]
    }
   ],
   "source": [
    "image = np.zeros((10*20, 10*20))\n",
    "random.seed(1)\n",
    "for i in np.arange(100):\n",
    "    row       = i/10\n",
    "    col       = i%10\n",
    "    row_begin = row*20\n",
    "    row_end   = (row+1)*20\n",
    "    col_begin = col*20\n",
    "    col_end   = (col+1)*20\n",
    "    idx       = random.uniform(0,5000)\n",
    "    image[row_begin:row_end,:][:,col_begin:col_end] = X[idx].reshape(20,20)"
   ]
  },
  {
   "cell_type": "code",
   "execution_count": 9,
   "metadata": {
    "collapsed": false
   },
   "outputs": [
    {
     "data": {
      "image/png": "[encoded data removed]",
      "text/plain": [
       "<matplotlib.figure.Figure at 0x1149785d0>"
      ]
     },
     "metadata": {},
     "output_type": "display_data"
    }
   ],
   "source": [
    "plt.imshow(image, cmap='Greys')\n",
    "plt.axis('off')\n",
    "plt.show()"
   ]
  },
  {
   "cell_type": "markdown",
   "metadata": {},
   "source": [
    "## Vectorize Logistic Regressions\n",
    "\n",
    "We will be using a mutiple one-vs-all logistic regression model to build a multi-class classifer.  Since there are 10 classes, we need to train 10 separate logistic regression classifiers. To make this training efficient, it is important to ensure that your code is well vectorized.  In this section, you will implement a vectorized version of logistic regression that does not emply any **for** loops."
   ]
  },
  {
   "cell_type": "markdown",
   "metadata": {},
   "source": [
    "### vectorized cost function\n",
    "\n",
    "First write a vectorized version of the cost function.  Recall that the unregularized logistic regression has a cost function of\n",
    "\n",
    "\\begin{align}\n",
    "    J(\\theta) &= \\frac{1}{m} \\sum_{i=1}^{m} \\left[-y^{(i)}\\log\\left\\{h_{\\theta}(x^{(i)})\\right\\} - (1 - y^{(i)})\\log\\left\\{1 - h_{\\theta}(x^{(i)})\\right\\} \\right]\n",
    "\\end{align}\n",
    "\n",
    "To compute each element in the summation, we have to compute $h_{\\theta}(x^{(i)})$ for every sample $i$, where $h_{\\theta}(x^{(i)}) = g({\\bf \\theta}^T x^{(i)})$ and $g(z) = \\frac{1}{1 + e^{-z}}$ is the sigmoid function.  It turns out that we can compute this quickly for all our examples by using matrix multiplication where a row represent a element in the training set and a column represents a feature.  As before, define\n",
    "\n",
    "\\begin{align}\n",
    "{\\bf X} = \n",
    "\\left( \n",
    "\\begin{array}{c}\n",
    "-\\ {{\\bf x}^{(1)} }^T - \\\\\n",
    "-\\ {{\\bf x}^{(2)} }^T - \\\\\n",
    "\\vdots  \\\\\n",
    "-\\ {{\\bf x}^{(m)} }^T - \\\\\n",
    "\\end{array} \n",
    "\\right)\n",
    "\\end{align}\n",
    "\n",
    "and \n",
    "\n",
    "\\begin{align}\n",
    "{\\bf \\theta} = \n",
    "\\left( \n",
    "\\begin{array}{ccc}\n",
    "\\theta_0 & \\dots & \\theta_n \\\\\n",
    "\\end{array} \n",
    "\\right) \\\\\n",
    "\\end{align}\n",
    "\n",
    "Thus, we can compute the product:\n",
    "\n",
    "\n",
    "\\begin{align}\n",
    "\\left( \n",
    "\\begin{array}{ccc}\n",
    "x_0^{(1)} & \\dots  & x_n^{(1)} \\\\\n",
    "x_0^{(2)} & \\dots  & x_n^{(2)} \\\\\n",
    "          & \\vdots &           \\\\\n",
    "x_0^{(m)} & \\dots  & x_n^{(m)} \\\\\n",
    "\\end{array}\n",
    "\\right)\n",
    "\\left( \n",
    "\\begin{array}{ccc}\n",
    "\\theta_0 & \\dots & \\theta_n \\\\\n",
    "\\end{array} \n",
    "\\right)^T\n",
    "&= \\left( \n",
    "\\begin{array}{ccc}\n",
    "x_0^{(1)} & \\dots  & x_n^{(1)} \\\\\n",
    "x_0^{(2)} & \\dots  & x_n^{(2)} \\\\\n",
    "          & \\vdots &           \\\\\n",
    "x_0^{(m)} & \\dots  & x_n^{(m)} \\\\\n",
    "\\end{array}\n",
    "\\right)\n",
    "\\left( \n",
    "\\begin{array}{c}\n",
    "\\theta_0\\\\\n",
    "\\theta_1\\\\\n",
    "\\vdots \\\\\n",
    "\\theta_n\\\\\n",
    "\\end{array}\n",
    "\\right)\n",
    "&= {\\bf X}\\ {\\bf \\theta}^T\n",
    "\\end{align}"
   ]
  },
  {
   "cell_type": "markdown",
   "metadata": {},
   "source": [
    "#### logistic function"
   ]
  },
  {
   "cell_type": "code",
   "execution_count": 10,
   "metadata": {
    "collapsed": false
   },
   "outputs": [],
   "source": [
    "def g(z):\n",
    "    return 1.0/(1 + np.exp(-z))"
   ]
  },
  {
   "cell_type": "code",
   "execution_count": 11,
   "metadata": {
    "collapsed": false
   },
   "outputs": [
    {
     "data": {
      "text/plain": [
       "<matplotlib.text.Text at 0x1100211d0>"
      ]
     },
     "execution_count": 11,
     "metadata": {},
     "output_type": "execute_result"
    },
    {
     "data": {
      "image/png": "[encoded data removed]",
      "text/plain": [
       "<matplotlib.figure.Figure at 0x1149787d0>"
      ]
     },
     "metadata": {},
     "output_type": "display_data"
    }
   ],
   "source": [
    "z = np.linspace(-50,50, 1000)\n",
    "plt.plot(z, g(z))\n",
    "plt.axis([-50, 50, -0.5, 1.5])\n",
    "plt.xlabel(\"z\")\n",
    "plt.ylabel(\"g(z)\")"
   ]
  },
  {
   "cell_type": "markdown",
   "metadata": {},
   "source": [
    "#### hypothesis function"
   ]
  },
  {
   "cell_type": "code",
   "execution_count": 12,
   "metadata": {
    "collapsed": true
   },
   "outputs": [],
   "source": [
    "def h(theta, X):\n",
    "    X     = np.asmatrix(X)\n",
    "    theta = np.asmatrix(theta)\n",
    "    return g(X*theta.T)"
   ]
  },
  {
   "cell_type": "markdown",
   "metadata": {},
   "source": [
    "### vectorized gradient\n",
    "\n",
    "Recall that the gradient of the unregularized regression cost is a vector where the $j^{th}$ elemtn is defined as:\n",
    "\n",
    "\\begin{align}\n",
    "    \\frac{\\partial J}{\\partial \\theta_f} \n",
    "    &= \\frac{1}{m} \\sum_{i=1}^{m} \\left( h_{\\theta}({\\bf x}^{(i)}) - y^{(i)} \\right) x_{f}^{(i)} \\\\\n",
    "\\end{align}\n",
    "\n",
    "To vectorize this operation over the dataset, we start by writing out all partial derivatives:\n",
    "\n",
    "\\begin{align}\n",
    "\\left[ \n",
    "\\begin{array}{c}\n",
    "    \\frac{\\partial J}{\\partial \\theta_0} \\\\ \n",
    "    \\frac{\\partial J}{\\partial \\theta_1} \\\\ \n",
    "    \\frac{\\partial J}{\\partial \\theta_2} \\\\ \n",
    "    \\vdots                               \\\\ \n",
    "    \\frac{\\partial J}{\\partial \\theta_n} \\\\ \n",
    "\\end{array}\n",
    "\\right]\n",
    "&= \\frac{1}{m}\n",
    "\\left[\n",
    "\\begin{array}{c}\n",
    "     \\sum_{i=1}^{m} \\left( h_{\\theta}({\\bf x}^{(i)}) - y^{(i)} \\right) x_{0}^{(i)} \\\\\n",
    "     \\sum_{i=1}^{m} \\left( h_{\\theta}({\\bf x}^{(i)}) - y^{(i)} \\right) x_{1}^{(i)} \\\\\n",
    "     \\sum_{i=1}^{m} \\left( h_{\\theta}({\\bf x}^{(i)}) - y^{(i)} \\right) x_{2}^{(i)} \\\\\n",
    "     \\vdots \\\\\n",
    "     \\sum_{i=1}^{m} \\left( h_{\\theta}({\\bf x}^{(i)}) - y^{(i)} \\right) x_{n}^{(i)} \\\\\n",
    "\\end{array}\n",
    "\\right] \\\\\n",
    "&= \\frac{1}{m}\\sum_{i=1}^{m} \\left( h_{\\theta}({\\bf x}^{(i)}) - y^{(i)} \\right) {\\bf x^{(i)}} \\\\\n",
    "&= \\frac{1}{m} {\\bf X}^T\\left( h_{\\theta}(x) - y \\right) \\\\\n",
    "\\end{align}\n",
    "\n",
    "where\n",
    "\n",
    "\\begin{align}\n",
    "\\left( h_{\\theta}(x) - y \\right) =\n",
    "\\left[\n",
    "\\begin{array}{c}\n",
    "     h_{\\theta}({\\bf x}^{(1)}) - y^{(1)} \\\\\n",
    "     h_{\\theta}({\\bf x}^{(2)}) - y^{(2)} \\\\\n",
    "     h_{\\theta}({\\bf x}^{(3)}) - y^{(3)} \\\\\n",
    "     \\vdots \\\\\n",
    "     h_{\\theta}({\\bf x}^{(m)}) - y^{(m)} \\\\\n",
    "\\end{array}\n",
    "\\right]\n",
    "\\end{align}\n",
    "\n",
    "Note that ${\\bf x}^{(i)}$ is a vector in feature space, while $\\left(h_{\\theta}({\\bf x}^{(i)}) - y^{(i)}\\right)$ is a scalar. To understand the last step of the derivation, let $\\beta_i = \\left(h_{\\theta}({\\bf x}^{(i)}) - y^{(i)}\\right)$ and observe that:\n",
    "\n",
    "\\begin{align}\n",
    "\\sum_i \\beta_i {\\bf x}^{(i)} = \n",
    "\\left[\n",
    "\\begin{array}{ccc}\n",
    "| & | & & | \\\\\n",
    "{\\bf x}^{(1)} & {\\bf x}^{(2)} & \\dots &  {\\bf x}^{(m)} \\\\\n",
    "| & | & & | \\\\\n",
    "\\end{array}\n",
    "\\right]\n",
    "\\left[\n",
    "\\begin{array}{c}\n",
    "\\beta_1 \\\\\n",
    "\\beta_2 \\\\\n",
    "\\vdots  \\\\\n",
    "\\beta_m \\\\\n",
    "\\end{array}\n",
    "\\right]\n",
    "= {\\bf X}^T{\\bf \\beta}\n",
    "\\end{align}\n",
    "\n",
    "\n",
    "\n",
    "\n",
    "\n"
   ]
  },
  {
   "cell_type": "markdown",
   "metadata": {},
   "source": [
    "### Regularization"
   ]
  },
  {
   "cell_type": "markdown",
   "metadata": {},
   "source": [
    "Now implement the cost function and gradient for the regularized logistic regression.  Recall that a quadratic term in $\\theta_j$ is used to \"penalize\" features -- almost like a damping term in the gradient descent.  The cost function becomes:\n",
    "\n",
    "\\begin{align}\n",
    "    J(\\theta) &= \\frac{1}{m} \\sum_{i=1}^{m} \\left[-y^{(i)}\\log\\left\\{h_{\\theta}(x^{(i)})\\right\\} - (1 - y^{(i)})\\log\\left\\{1 - h_{\\theta}(x^{(i)})\\right\\} \\right] + \\frac{\\lambda}{2m}\\sum_{f=1}^{n}\\theta_f^2\n",
    "\\end{align}\n",
    "\n",
    "and the gradient is now:\n",
    "\n",
    "\\begin{align}\n",
    "\\begin{array}{cc}\n",
    "    \\frac{\\partial}{\\partial \\theta_0} J(\\theta)\n",
    "    = \\frac{1}{m} \\sum_{i=1}^{m} \\left( h_{\\theta}({\\bf x}^{(i)}) - y^{(i)} \\right) x_{f}^{(i)} & {\\text,\\ for\\ }f = 0 \\\\\n",
    "    \\frac{\\partial}{\\partial \\theta_f} J(\\theta)\n",
    "    = \\frac{1}{m} \\sum_{i=1}^{m} \\left( h_{\\theta}({\\bf x}^{(i)}) - y^{(i)} \\right) x_{f}^{(i)} + \\frac{\\lambda}{m}\\theta_j & {\\text,\\ for\\ }f \\neq 0 \\\\\n",
    "\\end{array}\n",
    "\\end{align}"
   ]
  },
  {
   "cell_type": "markdown",
   "metadata": {},
   "source": [
    "#### cost function (regulated)"
   ]
  },
  {
   "cell_type": "code",
   "execution_count": 42,
   "metadata": {
    "collapsed": false
   },
   "outputs": [],
   "source": [
    "def cost(theta, X, y, lambda_param=0.0):  \n",
    "    m, n  = X.shape # m = # training, n = # of features + 1\n",
    "    X     = np.asmatrix(X)\n",
    "    y     = np.asmatrix(y)\n",
    "    theta = np.asmatrix(theta)\n",
    "    beta  = h(theta, X) - y\n",
    "    #print(X.shape, y.shape, theta.shape, beta.shape, beta.T.shape)\n",
    "    \n",
    "    assert(X.shape[0]==y.shape[0])\n",
    "    assert(y.shape[1]==1)\n",
    "    assert(theta.shape==(1,n))\n",
    "    \n",
    "    h_value = h(theta, X)\n",
    "#     h_value = np.where(np.isclose(h_value, 1.0), 0.9999999, h_value)\n",
    "#     h_value = np.where(np.isclose(h_value,   0), 0.0000001, h_value)\n",
    "  \n",
    "    result  = (1.0/m)*np.sum(-y.T*np.log(h_value) - (1-y).T*np.log(1-h_value))\n",
    "    result += (lambda_param/(2*m))*np.sum(np.power(theta[1:],2)) # regularization\n",
    "    return result"
   ]
  },
  {
   "cell_type": "markdown",
   "metadata": {},
   "source": [
    "#### gradient function (regulated)"
   ]
  },
  {
   "cell_type": "code",
   "execution_count": 14,
   "metadata": {
    "collapsed": true
   },
   "outputs": [],
   "source": [
    "def grad(theta, X, y, lambda_param=0.0):\n",
    "    m, n  = X.shape # m = # training, n = # of features + 1\n",
    "    X     = np.asmatrix(X)\n",
    "    y     = np.asmatrix(y)\n",
    "    theta = np.asmatrix(theta)\n",
    "    beta  = h(theta, X) - y\n",
    "    #print(X.shape, y.shape, theta.shape, beta.shape, beta.T.shape)\n",
    "    \n",
    "    assert(X.shape[0]==y.shape[0])\n",
    "    assert(y.shape[1]==1)\n",
    "    assert(theta.shape==(1,n))\n",
    "        \n",
    "    reg    = (lambda_param/float(m))*np.concatenate((np.zeros_like(theta[:,0]),theta[:,1:]), axis=1)\n",
    "    result = (1.0/m)*beta.T*X + reg\n",
    "    result = np.asarray(result).reshape(n)\n",
    "    return result"
   ]
  },
  {
   "cell_type": "markdown",
   "metadata": {},
   "source": [
    "### Compute One vs. All Classifier"
   ]
  },
  {
   "cell_type": "markdown",
   "metadata": {},
   "source": [
    "#### setup the data"
   ]
  },
  {
   "cell_type": "code",
   "execution_count": 15,
   "metadata": {
    "collapsed": false
   },
   "outputs": [
    {
     "data": {
      "text/plain": [
       "((5000, 401), (5000, 1))"
      ]
     },
     "execution_count": 15,
     "metadata": {},
     "output_type": "execute_result"
    }
   ],
   "source": [
    "# reset the data\n",
    "X      = data['X']\n",
    "y_true = data['y']\n",
    "y_true = np.where(y_true==10, 0, y_true)\n",
    "X      = np.concatenate((np.ones((m,1)), X), axis=1)\n",
    "X.shape, y_true.shape"
   ]
  },
  {
   "cell_type": "code",
   "execution_count": 16,
   "metadata": {
    "collapsed": false
   },
   "outputs": [
    {
     "data": {
      "text/plain": [
       "(5000, 1)"
      ]
     },
     "execution_count": 16,
     "metadata": {},
     "output_type": "execute_result"
    }
   ],
   "source": [
    "# parameters\n",
    "lambda_param = 0.0\n",
    "num_labels   = 10 # number of classification labels (0-9)\n",
    "c            = 7  # current character to match\n",
    "y            = np.matrix(y_true==c, dtype=np.int)\n",
    "y.shape"
   ]
  },
  {
   "cell_type": "code",
   "execution_count": 17,
   "metadata": {
    "collapsed": false
   },
   "outputs": [
    {
     "data": {
      "text/plain": [
       "(5000, 401)"
      ]
     },
     "execution_count": 17,
     "metadata": {},
     "output_type": "execute_result"
    }
   ],
   "source": [
    "# local variables (m --> # training, n --> # of features)\n",
    "m, n = X.shape\n",
    "m, n"
   ]
  },
  {
   "cell_type": "code",
   "execution_count": 20,
   "metadata": {
    "collapsed": false
   },
   "outputs": [
    {
     "data": {
      "text/plain": [
       "(1, 401)"
      ]
     },
     "execution_count": 20,
     "metadata": {},
     "output_type": "execute_result"
    }
   ],
   "source": [
    "theta0 = np.asmatrix(np.zeros((1, n)))\n",
    "# theta0 = np.asmatrix(np.random.rand(1, n))\n",
    "theta0.shape"
   ]
  },
  {
   "cell_type": "markdown",
   "metadata": {},
   "source": [
    "#### check it"
   ]
  },
  {
   "cell_type": "code",
   "execution_count": 21,
   "metadata": {
    "collapsed": false
   },
   "outputs": [
    {
     "data": {
      "text/plain": [
       "(0.69314718055994673, (401,))"
      ]
     },
     "execution_count": 21,
     "metadata": {},
     "output_type": "execute_result"
    }
   ],
   "source": [
    "cost(theta0, X, y, lambda_param=0.0), grad(theta0, X, y, lambda_param=0.0).shape"
   ]
  },
  {
   "cell_type": "code",
   "execution_count": 43,
   "metadata": {
    "collapsed": false
   },
   "outputs": [
    {
     "data": {
      "text/plain": [
       "440.77397572568492"
      ]
     },
     "execution_count": 43,
     "metadata": {},
     "output_type": "execute_result"
    }
   ],
   "source": [
    "grad_wrap = lambda theta : grad(theta, X, y, 0.00)\n",
    "cost_wrap = lambda theta : cost(theta, X, y, 0.00)\n",
    "op.check_grad(cost_wrap, grad_wrap, theta0)"
   ]
  },
  {
   "cell_type": "markdown",
   "metadata": {},
   "source": [
    "#### optimize"
   ]
  },
  {
   "cell_type": "code",
   "execution_count": 23,
   "metadata": {
    "collapsed": false
   },
   "outputs": [
    {
     "name": "stdout",
     "output_type": "stream",
     "text": [
      "Iteration limit exceeded    (Exit mode 9)\n",
      "            Current function value: 0.0429575455564\n",
      "            Iterations: 51\n",
      "            Function evaluations: 20555\n",
      "            Gradient evaluations: 51\n"
     ]
    },
    {
     "data": {
      "text/plain": [
       "  status: 9\n",
       " success: False\n",
       "    njev: 51\n",
       "    nfev: 20555\n",
       "     fun: 0.042957545556384778\n",
       "       x: array([ -1.7027e+00,   0.0000e+00,   0.0000e+00,  -2.0491e-05,   1.6515e-04,   3.0552e-04,   3.2235e-03,   1.1362e-02,\n",
       "        -1.6913e-04,  -1.6110e-03,  -3.9137e-03,  -1.2756e-03,   4.2331e-05,   5.3303e-05,  -3.0556e-03,  -1.0225e-03,\n",
       "         2.4065e-04,   3.7716e-05,   2.8383e-06,  -5.2830e-07,   0.0000e+00,  -2.9184e-09,  -3.0619e-07,   2.1372e-04,\n",
       "        -1.7312e-03,  -4.1288e-03,  -2.3711e-02,   5.0592e-02,   1.3914e-01,   8.7242e-02,   5.1756e-02,   3.6613e-03,\n",
       "        -1.3771e-02,  -1.5614e-02,   3.3079e-02,   1.7108e-02,   1.8034e-03,   3.6971e-03,   2.6709e-03,  -8.0062e-04,\n",
       "        -8.8597e-05,   3.1916e-07,  -1.3041e-06,   1.9200e-04,  -1.5570e-03,  -1.3708e-02,   5.3341e-02,   1.8739e-01,\n",
       "         8.0252e-01,   9.9658e-01,   5.7959e-01,   2.7523e-01,   3.1135e-01,   1.3227e-01,  -1.3579e-02,  -3.5772e-02,\n",
       "        -4.4882e-02,  -5.4156e-02,  -6.1370e-02,  -8.8257e-03,  -1.2435e-03,   1.5278e-06,   3.8287e-05,   2.6234e-03,\n",
       "        -2.5816e-02,  -1.1411e-01,   1.4443e-01,   3.8713e-01,   7.6356e-01,   4.7951e-01,   3.1108e-01,   2.3772e-01,\n",
       "         4.9425e-01,   6.2889e-01,  -6.7002e-02,  -4.8976e-01,  -3.4265e-01,  -1.9398e-01,  -2.8694e-02,   1.5431e-01,\n",
       "         2.2160e-02,   4.1270e-06,   4.4190e-04,   9.3480e-03,  -1.5248e-01,  -1.3579e-01,   5.6080e-01,   5.9742e-01,\n",
       "        -1.6465e-03,  -6.9523e-01,  -7.1950e-01,  -1.9402e-01,   2.1948e-01,   6.7457e-02,  -9.2165e-01,  -1.1267e+00,\n",
       "        -8.2346e-01,  -2.1792e-01,   4.1062e-01,   4.6037e-01,  -1.3239e-02,  -9.2135e-05,   9.8785e-04,  -5.4717e-03,\n",
       "        -2.0766e-01,  -5.4217e-02,   5.2772e-01,   7.9226e-01,   2.6477e-01,  -2.8416e-01,  -1.0501e+00,  -5.0244e-01,\n",
       "        -4.7143e-02,  -1.4239e-01,  -1.2182e+00,  -1.2499e+00,  -7.7155e-01,   6.8874e-02,   1.0971e+00,   8.0624e-01,\n",
       "        -3.8300e-02,  -1.2516e-04,  -8.6768e-04,  -2.1257e-02,  -1.6761e-01,  -1.6562e-01,  -9.1565e-02,   6.6131e-01,\n",
       "         1.4131e-01,  -2.6973e-01,  -5.6871e-01,  -9.1900e-03,  -2.3017e-01,  -4.2830e-01,  -1.2085e+00,  -7.2835e-01,\n",
       "        -1.4360e-02,  -1.9276e-01,   5.0807e-01,   5.9517e-01,  -3.2826e-02,  -2.1620e-05,  -8.5585e-04,  -5.4577e-02,\n",
       "        -2.4657e-01,  -3.4402e-01,   3.1252e-02,   3.6699e-01,  -2.6707e-01,  -6.9162e-01,  -7.9020e-01,  -6.0629e-01,\n",
       "        -7.1830e-01,  -7.3118e-01,  -5.7493e-01,  -1.3383e-01,  -4.7968e-01,  -9.6756e-01,   1.4721e-01,   9.1939e-01,\n",
       "         5.8867e-02,   3.4957e-04,  -3.1818e-03,  -9.8962e-02,  -4.7749e-01,  -3.7063e-01,   3.1006e-01,   4.7623e-01,\n",
       "         4.0085e-01,  -2.5479e-01,  -1.4538e+00,  -1.1952e+00,  -9.1828e-01,  -3.8751e-01,  -5.4206e-02,   3.1825e-02,\n",
       "         5.2989e-02,  -2.4821e-01,   5.2514e-01,   4.7316e-01,  -8.2407e-02,   1.2692e-03,  -9.0715e-03,  -1.8005e-01,\n",
       "        -7.3041e-01,  -3.2300e-01,   3.0817e-01,   1.2593e-02,   8.6710e-01,   1.4908e-01,  -1.7751e+00,  -1.4239e+00,\n",
       "        -1.1168e+00,  -1.3248e-01,   1.3925e-01,  -2.1165e-02,   7.5596e-02,  -3.9073e-01,  -3.2878e-01,  -6.4825e-02,\n",
       "        -3.8278e-02,   2.3600e-04,  -1.5173e-02,  -2.5806e-01,  -7.3667e-01,  -1.5612e-01,  -3.6450e-02,   3.5454e-01,\n",
       "         5.3523e-01,   8.4419e-02,  -1.2487e+00,  -8.5611e-01,  -6.7884e-01,   6.7580e-01,  -5.0831e-02,  -6.6417e-01,\n",
       "        -4.5250e-01,  -4.5934e-01,   6.6542e-01,   1.3843e-01,  -1.2693e-01,   1.4388e-04,  -1.8264e-02,  -2.1841e-01,\n",
       "        -1.0613e+00,   3.4552e-02,   2.9051e-01,   4.2124e-01,   1.2023e+00,   1.4186e+00,   5.1892e-01,   3.7297e-02,\n",
       "        -2.1076e-01,   5.4460e-02,  -7.2766e-01,  -2.6608e-01,  -2.4844e-01,  -1.2518e-01,   2.6028e-01,   1.0276e-01,\n",
       "         9.5641e-03,   2.0178e-03,  -1.5286e-02,  -1.2683e-01,  -1.4694e+00,  -6.5173e-01,   2.9824e-01,  -6.3772e-02,\n",
       "         9.9591e-01,   1.7510e+00,   2.5134e-02,  -1.4929e-01,   5.4164e-01,  -2.6474e-01,  -1.1092e-01,  -4.0081e-02,\n",
       "        -5.4120e-01,  -7.9417e-01,  -1.1049e-01,   4.4514e-01,   1.5849e-01,   1.5004e-03,  -7.2472e-03,  -8.6115e-02,\n",
       "        -1.2803e+00,  -1.4835e+00,  -1.8027e-01,   2.9319e-02,   8.5027e-01,   8.1756e-01,  -6.8899e-01,   8.8105e-02,\n",
       "         1.0566e+00,   5.4127e-01,  -4.2782e-01,  -1.0190e+00,  -1.2737e+00,  -1.1552e+00,  -6.9275e-01,   8.4047e-02,\n",
       "         1.0367e-01,   5.7678e-04,  -6.0023e-04,  -4.7509e-02,  -7.2286e-01,  -1.0534e+00,  -7.4315e-02,   3.4231e-01,\n",
       "         7.3061e-01,   2.8891e-01,   1.4401e-01,   9.4000e-01,   1.3606e+00,   9.9450e-02,  -9.9401e-01,  -9.4486e-01,\n",
       "        -8.8104e-01,  -8.9806e-01,  -7.7335e-01,  -1.6825e-01,   4.5843e-02,   4.1021e-05,   5.0707e-04,  -1.0913e-02,\n",
       "        -2.8666e-01,  -4.1139e-01,  -1.8470e-01,   2.0147e-01,   4.4520e-01,   4.1047e-01,   7.5679e-01,   8.2285e-01,\n",
       "         6.4320e-01,  -6.5065e-01,  -8.4230e-01,  -6.5590e-01,  -3.6903e-01,  -5.3203e-01,  -3.5416e-01,  -3.5568e-02,\n",
       "         2.0751e-01,   5.1953e-06,   6.1350e-04,   7.0163e-04,  -1.4179e-01,  -3.0722e-01,  -3.8198e-01,   1.8556e-01,\n",
       "         5.8052e-01,   1.9813e-01,  -3.5763e-02,   1.9850e-03,   1.3102e-01,  -6.6087e-01,  -7.5395e-01,  -6.2480e-01,\n",
       "        -5.3384e-01,  -5.5173e-01,  -2.9071e-01,  -1.0871e-01,   4.1387e-02,   1.4927e-05,   2.3820e-04,   2.0638e-03,\n",
       "        -4.7688e-02,  -2.8446e-01,  -5.0611e-01,  -2.5005e-01,   4.2428e-03,  -2.4753e-01,  -4.3976e-01,  -1.5899e-01,\n",
       "        -1.0270e-01,  -2.7544e-01,  -4.5640e-02,  -1.2100e-01,  -8.7181e-02,  -5.8381e-02,  -2.5081e-02,  -1.0559e-02,\n",
       "        -9.1264e-03,  -4.9648e-07,   1.0097e-05,   4.2377e-04,   2.9851e-04,  -6.8988e-02,  -2.0142e-01,  -1.7322e-01,\n",
       "        -5.6494e-02,  -1.6019e-02,  -6.1841e-03,   8.6854e-02,   6.2628e-03,  -2.7933e-02,  -5.9609e-04,   4.5502e-03,\n",
       "         1.9569e-04,   2.5120e-03,   3.7174e-03,   1.7683e-03,   3.1813e-04,   0.0000e+00,  -1.8324e-06,  -9.1032e-06,\n",
       "         8.8929e-04,  -9.1251e-03,  -1.8732e-02,  -2.4213e-02,  -8.1009e-04,  -2.6306e-03,  -1.9898e-03,  -8.2914e-03,\n",
       "        -2.4751e-03,  -3.4150e-03,  -3.8552e-03,  -2.8712e-04,  -3.7648e-04,  -1.6729e-03,  -4.2840e-04,   4.9491e-05,\n",
       "         0.0000e+00])\n",
       " message: 'Iteration limit exceeded'\n",
       "     jac: array([  3.3464e-04,   0.0000e+00,   0.0000e+00,   2.3283e-09,  -1.1642e-08,  -7.9628e-08,  -1.9651e-07,  -4.9896e-06,\n",
       "        -4.8056e-07,   2.0908e-07,   6.0722e-07,   2.1700e-07,  -2.7940e-09,  -2.8871e-08,   4.6613e-07,   1.8161e-07,\n",
       "        -2.4680e-08,   4.6566e-10,   0.0000e+00,   0.0000e+00,   0.0000e+00,   0.0000e+00,   0.0000e+00,  -2.0489e-08,\n",
       "         1.0384e-07,   1.1609e-06,   1.1663e-05,  -9.5535e-06,  -2.1360e-05,  -1.3981e-05,  -8.6268e-06,  -1.6973e-06,\n",
       "         1.0408e-06,   3.0515e-06,  -5.6229e-06,  -4.3167e-06,  -1.9395e-06,  -2.9234e-06,  -1.8952e-06,   8.5216e-08,\n",
       "        -3.8650e-08,   0.0000e+00,   2.3283e-09,   4.5169e-08,  -3.1944e-07,  -3.0794e-06,  -4.3617e-05,  -5.3542e-06,\n",
       "        -1.9043e-04,  -3.2948e-04,  -2.3564e-04,  -1.2114e-04,  -9.8682e-05,  -3.0499e-05,   2.6724e-05,   3.0944e-05,\n",
       "         3.9233e-05,   3.9562e-05,   2.9088e-05,   1.6303e-06,   5.1688e-08,   0.0000e+00,  -4.6566e-09,  -6.9989e-07,\n",
       "         4.4014e-06,   5.0534e-05,  -4.3900e-05,   1.1596e-04,   8.2053e-05,   6.4457e-05,   3.9884e-06,   7.3410e-05,\n",
       "         1.0855e-04,  -4.8288e-05,   5.1833e-05,   1.8158e-04,   1.4451e-04,   1.3972e-04,   6.3270e-05,  -2.6519e-05,\n",
       "         2.3441e-06,   9.3132e-10,  -2.1607e-07,  -2.3516e-06,   4.7804e-05,   4.9480e-05,  -1.4127e-04,   1.5609e-04,\n",
       "         4.5070e-04,   3.6645e-04,   1.7370e-04,   2.0022e-04,   3.3663e-04,   2.4707e-04,   3.6037e-04,   3.3473e-04,\n",
       "         2.7505e-04,   2.1832e-04,   7.8021e-05,   1.7463e-05,   3.9124e-05,   1.5367e-08,  -6.5006e-07,   7.9260e-06,\n",
       "         3.0314e-05,  -7.5958e-05,   2.4687e-05,   2.5160e-04,   1.2547e-04,  -4.1602e-04,  -1.7460e-04,   6.7526e-05,\n",
       "         2.6343e-04,   2.7936e-04,   5.1743e-04,   3.2055e-04,   1.5228e-04,   1.2551e-04,   1.0893e-04,   1.2077e-04,\n",
       "         5.2291e-05,  -2.6077e-07,   2.5388e-06,   1.6748e-05,  -3.4803e-05,  -1.8162e-04,   1.8293e-04,   1.5233e-04,\n",
       "        -2.1944e-04,  -5.9787e-04,  -2.5183e-04,  -3.0719e-04,  -9.0629e-05,   1.6952e-04,   5.0098e-04,   1.7988e-04,\n",
       "        -5.3238e-05,   3.1235e-04,   4.3434e-04,   2.5941e-04,   5.7032e-05,  -1.7229e-07,   1.3411e-06,   2.6323e-05,\n",
       "        -1.0263e-04,  -2.3325e-04,   2.0135e-04,   1.5932e-04,   4.1537e-06,  -4.2520e-05,  -6.0430e-05,  -2.2843e-04,\n",
       "        -7.7948e-05,  -2.2758e-05,   2.7422e-04,   2.1993e-04,   3.1260e-04,   5.7787e-04,   5.4260e-04,   1.6141e-04,\n",
       "         1.7583e-05,  -2.7101e-07,   2.4904e-06,   4.0097e-05,  -9.7125e-05,  -1.9923e-04,   1.2981e-04,   2.0874e-04,\n",
       "         1.2119e-04,   3.5870e-04,   5.1201e-04,   3.4445e-05,  -1.7795e-04,  -4.2707e-04,   1.5172e-04,   4.8311e-04,\n",
       "         3.6087e-04,   2.5990e-04,  -6.7875e-06,  -1.0378e-04,   3.1556e-05,  -7.1805e-07,   7.2401e-06,   7.0740e-05,\n",
       "        -8.4418e-05,  -1.8734e-04,   3.1003e-04,   4.9437e-04,   5.5797e-05,   1.9980e-04,   5.5471e-04,  -1.0992e-04,\n",
       "        -2.5222e-04,  -1.1611e-04,   4.8992e-04,   4.7600e-04,  -2.1306e-04,  -4.1992e-04,  -1.9781e-04,  -9.4671e-05,\n",
       "         3.1732e-05,   1.7462e-07,   1.9497e-06,   7.0665e-05,  -1.3575e-04,  -3.6601e-05,   5.2966e-04,   8.6107e-05,\n",
       "        -4.1840e-06,   2.6573e-05,   3.1717e-04,   1.0681e-04,   3.8241e-04,   8.8374e-05,  -7.6285e-05,  -5.2103e-04,\n",
       "        -9.1590e-04,  -7.4862e-04,  -7.1363e-04,  -1.0990e-04,   6.9791e-05,   3.0594e-07,   3.6787e-08,   2.9858e-05,\n",
       "         7.8866e-05,  -1.6482e-05,   3.3924e-04,  -2.3583e-04,  -1.8762e-04,   2.6470e-04,   5.1642e-04,   3.6312e-04,\n",
       "         1.9622e-04,  -5.3199e-04,  -6.2136e-04,  -7.4796e-04,  -4.8214e-04,  -3.3727e-04,  -2.6822e-04,  -5.5241e-06,\n",
       "         1.5067e-05,  -1.8300e-07,   1.0948e-06,  -1.0845e-05,   2.9879e-04,  -1.3887e-04,  -1.5548e-04,  -2.9949e-04,\n",
       "         2.6190e-04,   2.9206e-04,   2.3805e-04,  -2.7088e-04,  -4.6247e-04,  -1.6432e-04,   2.3585e-05,   9.2810e-05,\n",
       "         1.5166e-04,   1.5949e-04,   4.4075e-06,  -7.1744e-05,  -2.4932e-05,  -2.7148e-07,   2.5956e-06,  -4.5188e-06,\n",
       "         1.7947e-04,  -1.0639e-04,  -3.1736e-04,  -1.7723e-04,   1.8681e-04,  -1.4058e-04,  -1.1372e-04,   2.2638e-05,\n",
       "         4.0911e-04,   6.2380e-04,   5.4392e-04,   2.8338e-04,   1.0720e-04,   7.3028e-05,  -9.6615e-06,  -1.3046e-04,\n",
       "        -5.0509e-05,  -4.2841e-08,   1.1222e-07,  -3.1642e-06,   8.8802e-05,  -4.7803e-05,  -3.3511e-04,  -1.1694e-04,\n",
       "         1.4131e-04,   2.3217e-04,   3.7460e-04,   6.7163e-04,   8.0454e-04,   6.6704e-04,   3.9331e-04,   9.5261e-05,\n",
       "         6.4752e-05,   1.0259e-04,   8.3823e-05,  -1.0138e-04,  -5.5464e-05,   6.0536e-09,  -3.2736e-07,  -3.8408e-06,\n",
       "         7.3696e-05,  -6.8213e-05,  -2.3956e-04,   3.7574e-05,   4.4947e-04,   5.8661e-04,   5.5696e-04,   6.6216e-04,\n",
       "         5.7342e-04,   5.3391e-04,   1.8851e-04,   1.1518e-04,   5.4908e-05,   1.4969e-04,   9.9642e-05,  -2.2759e-05,\n",
       "        -1.1496e-04,   0.0000e+00,  -1.3178e-07,  -2.2384e-06,   3.9293e-05,  -1.9507e-05,  -1.0241e-04,   6.7521e-08,\n",
       "         2.4706e-04,   4.7473e-04,   5.5807e-04,   5.0596e-04,   3.4291e-04,   3.2484e-04,   1.8210e-04,   2.0208e-04,\n",
       "         2.4691e-04,   2.3217e-04,   1.2516e-04,   1.0301e-04,  -6.4340e-06,   0.0000e+00,  -4.2841e-08,  -3.6648e-07,\n",
       "         6.4881e-06,   3.9371e-05,   3.9591e-05,   1.2094e-05,   7.0495e-05,   1.7891e-04,   3.0165e-04,   2.0427e-04,\n",
       "         1.2866e-04,   6.9845e-05,  -8.3292e-05,  -6.6613e-06,   2.6108e-05,   1.8007e-05,   5.0133e-06,   8.1360e-06,\n",
       "         6.3493e-06,   0.0000e+00,   1.3970e-09,   4.1910e-09,  -5.1036e-07,   3.4301e-06,   2.4220e-05,   3.0900e-05,\n",
       "         1.3934e-05,   6.1467e-07,   4.7050e-06,  -4.5178e-05,  -6.9472e-06,   8.0923e-06,   2.4680e-08,  -1.6717e-06,\n",
       "        -2.9085e-06,  -3.1036e-06,  -1.4659e-06,  -1.5143e-06,  -4.1304e-07,   0.0000e+00,   0.0000e+00,   9.3132e-10,\n",
       "        -6.3330e-08,   8.4704e-07,   1.7378e-06,   3.8329e-06,  -1.2107e-08,   1.1916e-06,   8.8103e-07,   3.6904e-06,\n",
       "         1.1185e-06,   2.0768e-07,   1.1567e-06,   2.6030e-07,   2.9802e-07,   1.3737e-07,   1.2107e-08,  -2.3283e-09,\n",
       "         0.0000e+00,   0.0000e+00])\n",
       "     nit: 51"
      ]
     },
     "execution_count": 23,
     "metadata": {},
     "output_type": "execute_result"
    }
   ],
   "source": [
    "op_result_nograd = op.minimize(\n",
    "    fun=cost, \n",
    "    x0=theta0, \n",
    "    args=(X, y, lambda_param), \n",
    "    method='SLSQP', \n",
    "    options={'maxiter': 50, 'disp':True}\n",
    ")\n",
    "op_result_nograd"
   ]
  },
  {
   "cell_type": "code",
   "execution_count": 24,
   "metadata": {
    "collapsed": false,
    "scrolled": false
   },
   "outputs": [
    {
     "name": "stdout",
     "output_type": "stream",
     "text": [
      "Iteration limit exceeded    (Exit mode 9)\n",
      "            Current function value: 0.0429575439621\n",
      "            Iterations: 51\n",
      "            Function evaluations: 53\n",
      "            Gradient evaluations: 51\n"
     ]
    },
    {
     "data": {
      "text/plain": [
       "  status: 9\n",
       " success: False\n",
       "    njev: 51\n",
       "    nfev: 53\n",
       "     fun: 0.042957543962079944\n",
       "       x: array([ -1.7027e+00,   0.0000e+00,   0.0000e+00,  -2.0409e-05,   1.6506e-04,   3.0533e-04,   3.2234e-03,   1.1362e-02,\n",
       "        -1.6919e-04,  -1.6110e-03,  -3.9139e-03,  -1.2757e-03,   4.2269e-05,   5.3155e-05,  -3.0558e-03,  -1.0226e-03,\n",
       "         2.4038e-04,   3.7692e-05,   2.8043e-06,  -5.9389e-07,   0.0000e+00,  -3.1634e-08,  -2.9702e-07,   2.1377e-04,\n",
       "        -1.7314e-03,  -4.1288e-03,  -2.3711e-02,   5.0592e-02,   1.3914e-01,   8.7242e-02,   5.1756e-02,   3.6614e-03,\n",
       "        -1.3772e-02,  -1.5615e-02,   3.3078e-02,   1.7108e-02,   1.8032e-03,   3.6969e-03,   2.6707e-03,  -8.0104e-04,\n",
       "        -8.8939e-05,   2.6211e-07,  -1.3255e-06,   1.9179e-04,  -1.5572e-03,  -1.3708e-02,   5.3341e-02,   1.8739e-01,\n",
       "         8.0253e-01,   9.9658e-01,   5.7959e-01,   2.7523e-01,   3.1135e-01,   1.3227e-01,  -1.3579e-02,  -3.5772e-02,\n",
       "        -4.4883e-02,  -5.4156e-02,  -6.1370e-02,  -8.8258e-03,  -1.2437e-03,   1.4564e-06,   3.8309e-05,   2.6233e-03,\n",
       "        -2.5816e-02,  -1.1411e-01,   1.4443e-01,   3.8714e-01,   7.6356e-01,   4.7951e-01,   3.1108e-01,   2.3772e-01,\n",
       "         4.9425e-01,   6.2889e-01,  -6.7002e-02,  -4.8976e-01,  -3.4265e-01,  -1.9398e-01,  -2.8694e-02,   1.5431e-01,\n",
       "         2.2160e-02,   4.1471e-06,   4.4194e-04,   9.3479e-03,  -1.5248e-01,  -1.3579e-01,   5.6080e-01,   5.9742e-01,\n",
       "        -1.6459e-03,  -6.9523e-01,  -7.1951e-01,  -1.9402e-01,   2.1948e-01,   6.7457e-02,  -9.2165e-01,  -1.1267e+00,\n",
       "        -8.2346e-01,  -2.1792e-01,   4.1062e-01,   4.6037e-01,  -1.3239e-02,  -9.2362e-05,   9.8788e-04,  -5.4720e-03,\n",
       "        -2.0766e-01,  -5.4217e-02,   5.2772e-01,   7.9226e-01,   2.6477e-01,  -2.8416e-01,  -1.0501e+00,  -5.0244e-01,\n",
       "        -4.7144e-02,  -1.4239e-01,  -1.2182e+00,  -1.2500e+00,  -7.7156e-01,   6.8874e-02,   1.0971e+00,   8.0624e-01,\n",
       "        -3.8301e-02,  -1.2508e-04,  -8.6764e-04,  -2.1257e-02,  -1.6761e-01,  -1.6562e-01,  -9.1565e-02,   6.6131e-01,\n",
       "         1.4131e-01,  -2.6973e-01,  -5.6872e-01,  -9.1893e-03,  -2.3017e-01,  -4.2830e-01,  -1.2085e+00,  -7.2835e-01,\n",
       "        -1.4360e-02,  -1.9276e-01,   5.0807e-01,   5.9517e-01,  -3.2826e-02,  -2.1639e-05,  -8.5604e-04,  -5.4578e-02,\n",
       "        -2.4657e-01,  -3.4402e-01,   3.1252e-02,   3.6699e-01,  -2.6707e-01,  -6.9162e-01,  -7.9020e-01,  -6.0629e-01,\n",
       "        -7.1830e-01,  -7.3118e-01,  -5.7493e-01,  -1.3383e-01,  -4.7968e-01,  -9.6756e-01,   1.4721e-01,   9.1939e-01,\n",
       "         5.8868e-02,   3.4948e-04,  -3.1818e-03,  -9.8962e-02,  -4.7750e-01,  -3.7063e-01,   3.1006e-01,   4.7623e-01,\n",
       "         4.0085e-01,  -2.5479e-01,  -1.4538e+00,  -1.1952e+00,  -9.1828e-01,  -3.8751e-01,  -5.4206e-02,   3.1825e-02,\n",
       "         5.2990e-02,  -2.4821e-01,   5.2515e-01,   4.7316e-01,  -8.2407e-02,   1.2692e-03,  -9.0718e-03,  -1.8005e-01,\n",
       "        -7.3041e-01,  -3.2301e-01,   3.0817e-01,   1.2593e-02,   8.6710e-01,   1.4908e-01,  -1.7751e+00,  -1.4239e+00,\n",
       "        -1.1168e+00,  -1.3248e-01,   1.3925e-01,  -2.1166e-02,   7.5596e-02,  -3.9073e-01,  -3.2878e-01,  -6.4826e-02,\n",
       "        -3.8278e-02,   2.3591e-04,  -1.5173e-02,  -2.5806e-01,  -7.3667e-01,  -1.5612e-01,  -3.6451e-02,   3.5454e-01,\n",
       "         5.3523e-01,   8.4419e-02,  -1.2487e+00,  -8.5611e-01,  -6.7884e-01,   6.7580e-01,  -5.0831e-02,  -6.6417e-01,\n",
       "        -4.5250e-01,  -4.5935e-01,   6.6542e-01,   1.3843e-01,  -1.2693e-01,   1.4392e-04,  -1.8265e-02,  -2.1841e-01,\n",
       "        -1.0613e+00,   3.4553e-02,   2.9051e-01,   4.2124e-01,   1.2023e+00,   1.4186e+00,   5.1892e-01,   3.7297e-02,\n",
       "        -2.1077e-01,   5.4460e-02,  -7.2766e-01,  -2.6608e-01,  -2.4844e-01,  -1.2518e-01,   2.6028e-01,   1.0276e-01,\n",
       "         9.5639e-03,   2.0178e-03,  -1.5286e-02,  -1.2683e-01,  -1.4694e+00,  -6.5174e-01,   2.9824e-01,  -6.3773e-02,\n",
       "         9.9591e-01,   1.7510e+00,   2.5134e-02,  -1.4929e-01,   5.4164e-01,  -2.6474e-01,  -1.1092e-01,  -4.0081e-02,\n",
       "        -5.4120e-01,  -7.9418e-01,  -1.1049e-01,   4.4514e-01,   1.5849e-01,   1.5003e-03,  -7.2473e-03,  -8.6116e-02,\n",
       "        -1.2803e+00,  -1.4835e+00,  -1.8027e-01,   2.9319e-02,   8.5027e-01,   8.1757e-01,  -6.8899e-01,   8.8105e-02,\n",
       "         1.0566e+00,   5.4128e-01,  -4.2782e-01,  -1.0190e+00,  -1.2737e+00,  -1.1552e+00,  -6.9275e-01,   8.4047e-02,\n",
       "         1.0367e-01,   5.7671e-04,  -6.0027e-04,  -4.7509e-02,  -7.2287e-01,  -1.0534e+00,  -7.4315e-02,   3.4231e-01,\n",
       "         7.3061e-01,   2.8891e-01,   1.4401e-01,   9.4001e-01,   1.3606e+00,   9.9450e-02,  -9.9401e-01,  -9.4487e-01,\n",
       "        -8.8104e-01,  -8.9806e-01,  -7.7335e-01,  -1.6825e-01,   4.5843e-02,   4.0914e-05,   5.0705e-04,  -1.0913e-02,\n",
       "        -2.8666e-01,  -4.1139e-01,  -1.8470e-01,   2.0147e-01,   4.4520e-01,   4.1047e-01,   7.5679e-01,   8.2285e-01,\n",
       "         6.4320e-01,  -6.5065e-01,  -8.4230e-01,  -6.5590e-01,  -3.6903e-01,  -5.3203e-01,  -3.5416e-01,  -3.5568e-02,\n",
       "         2.0751e-01,   5.1040e-06,   6.1342e-04,   7.0145e-04,  -1.4179e-01,  -3.0722e-01,  -3.8198e-01,   1.8556e-01,\n",
       "         5.8052e-01,   1.9813e-01,  -3.5763e-02,   1.9849e-03,   1.3102e-01,  -6.6087e-01,  -7.5395e-01,  -6.2481e-01,\n",
       "        -5.3385e-01,  -5.5173e-01,  -2.9072e-01,  -1.0871e-01,   4.1387e-02,   1.4997e-05,   2.3807e-04,   2.0636e-03,\n",
       "        -4.7688e-02,  -2.8446e-01,  -5.0611e-01,  -2.5005e-01,   4.2426e-03,  -2.4753e-01,  -4.3976e-01,  -1.5899e-01,\n",
       "        -1.0270e-01,  -2.7544e-01,  -4.5640e-02,  -1.2100e-01,  -8.7181e-02,  -5.8381e-02,  -2.5081e-02,  -1.0559e-02,\n",
       "        -9.1265e-03,  -5.7356e-07,   1.0042e-05,   4.2388e-04,   2.9841e-04,  -6.8988e-02,  -2.0142e-01,  -1.7322e-01,\n",
       "        -5.6494e-02,  -1.6019e-02,  -6.1843e-03,   8.6854e-02,   6.2625e-03,  -2.7933e-02,  -5.9620e-04,   4.5500e-03,\n",
       "         1.9541e-04,   2.5119e-03,   3.7174e-03,   1.7683e-03,   3.1801e-04,   0.0000e+00,  -1.7449e-06,  -9.1302e-06,\n",
       "         8.8898e-04,  -9.1251e-03,  -1.8732e-02,  -2.4213e-02,  -8.1028e-04,  -2.6306e-03,  -1.9900e-03,  -8.2914e-03,\n",
       "        -2.4751e-03,  -3.4151e-03,  -3.8554e-03,  -2.8714e-04,  -3.7665e-04,  -1.6730e-03,  -4.2831e-04,   4.9405e-05,\n",
       "         0.0000e+00])\n",
       " message: 'Iteration limit exceeded'\n",
       "     jac: array([  3.3463e-04,   0.0000e+00,   0.0000e+00,   1.9116e-09,  -1.1904e-08,  -7.9647e-08,  -1.9663e-07,  -4.9898e-06,\n",
       "        -4.8095e-07,   2.0857e-07,   6.0674e-07,   2.1665e-07,  -3.2102e-09,  -2.9581e-08,   4.6586e-07,   1.8140e-07,\n",
       "        -2.4711e-08,   7.3441e-11,  -4.6491e-12,   7.5949e-13,   0.0000e+00,   9.5847e-15,   9.6616e-12,  -2.0863e-08,\n",
       "         1.0351e-07,   1.1605e-06,   1.1663e-05,  -9.5540e-06,  -2.1361e-05,  -1.3982e-05,  -8.6272e-06,  -1.6976e-06,\n",
       "         1.0401e-06,   3.0511e-06,  -5.6232e-06,  -4.3170e-06,  -1.9400e-06,  -2.9243e-06,  -1.8960e-06,   8.5042e-08,\n",
       "        -3.8767e-08,  -8.6565e-14,   1.7104e-09,   4.5243e-08,  -3.1975e-07,  -3.0798e-06,  -4.3618e-05,  -5.3555e-06,\n",
       "        -1.9043e-04,  -3.2948e-04,  -2.3564e-04,  -1.2114e-04,  -9.8682e-05,  -3.0499e-05,   2.6724e-05,   3.0943e-05,\n",
       "         3.9233e-05,   3.9561e-05,   2.9087e-05,   1.6299e-06,   5.1497e-08,  -3.0102e-13,  -4.8960e-09,  -7.0035e-07,\n",
       "         4.4007e-06,   5.0533e-05,  -4.3899e-05,   1.1596e-04,   8.2052e-05,   6.4456e-05,   3.9883e-06,   7.3411e-05,\n",
       "         1.0856e-04,  -4.8287e-05,   5.1833e-05,   1.8158e-04,   1.4451e-04,   1.3972e-04,   6.3269e-05,  -2.6519e-05,\n",
       "         2.3435e-06,   8.1009e-10,  -2.1618e-07,  -2.3518e-06,   4.7804e-05,   4.9480e-05,  -1.4127e-04,   1.5609e-04,\n",
       "         4.5070e-04,   3.6645e-04,   1.7370e-04,   2.0022e-04,   3.3663e-04,   2.4707e-04,   3.6037e-04,   3.3473e-04,\n",
       "         2.7505e-04,   2.1832e-04,   7.8019e-05,   1.7462e-05,   3.9123e-05,   1.5031e-08,  -6.5046e-07,   7.9257e-06,\n",
       "         3.0313e-05,  -7.5957e-05,   2.4686e-05,   2.5160e-04,   1.2546e-04,  -4.1602e-04,  -1.7460e-04,   6.7526e-05,\n",
       "         2.6343e-04,   2.7936e-04,   5.1743e-04,   3.2054e-04,   1.5228e-04,   1.2551e-04,   1.0892e-04,   1.2077e-04,\n",
       "         5.2289e-05,  -2.6142e-07,   2.5386e-06,   1.6748e-05,  -3.4803e-05,  -1.8162e-04,   1.8293e-04,   1.5233e-04,\n",
       "        -2.1944e-04,  -5.9788e-04,  -2.5183e-04,  -3.0719e-04,  -9.0631e-05,   1.6952e-04,   5.0097e-04,   1.7988e-04,\n",
       "        -5.3240e-05,   3.1235e-04,   4.3434e-04,   2.5941e-04,   5.7030e-05,  -1.7280e-07,   1.3406e-06,   2.6323e-05,\n",
       "        -1.0263e-04,  -2.3325e-04,   2.0135e-04,   1.5932e-04,   4.1503e-06,  -4.2520e-05,  -6.0429e-05,  -2.2844e-04,\n",
       "        -7.7951e-05,  -2.2762e-05,   2.7422e-04,   2.1993e-04,   3.1260e-04,   5.7787e-04,   5.4259e-04,   1.6141e-04,\n",
       "         1.7582e-05,  -2.7108e-07,   2.4902e-06,   4.0097e-05,  -9.7126e-05,  -1.9923e-04,   1.2980e-04,   2.0873e-04,\n",
       "         1.2119e-04,   3.5871e-04,   5.1201e-04,   3.4445e-05,  -1.7795e-04,  -4.2707e-04,   1.5171e-04,   4.8311e-04,\n",
       "         3.6087e-04,   2.5990e-04,  -6.7904e-06,  -1.0378e-04,   3.1555e-05,  -7.1836e-07,   7.2399e-06,   7.0740e-05,\n",
       "        -8.4419e-05,  -1.8734e-04,   3.1002e-04,   4.9436e-04,   5.5799e-05,   1.9981e-04,   5.5471e-04,  -1.0993e-04,\n",
       "        -2.5223e-04,  -1.1612e-04,   4.8992e-04,   4.7600e-04,  -2.1306e-04,  -4.1993e-04,  -1.9781e-04,  -9.4671e-05,\n",
       "         3.1731e-05,   1.7458e-07,   1.9495e-06,   7.0664e-05,  -1.3575e-04,  -3.6606e-05,   5.2965e-04,   8.6104e-05,\n",
       "        -4.1841e-06,   2.6574e-05,   3.1717e-04,   1.0681e-04,   3.8241e-04,   8.8371e-05,  -7.6287e-05,  -5.2104e-04,\n",
       "        -9.1591e-04,  -7.4862e-04,  -7.1363e-04,  -1.0990e-04,   6.9791e-05,   3.0584e-07,   3.6198e-08,   2.9858e-05,\n",
       "         7.8865e-05,  -1.6486e-05,   3.3923e-04,  -2.3583e-04,  -1.8762e-04,   2.6469e-04,   5.1642e-04,   3.6312e-04,\n",
       "         1.9622e-04,  -5.3199e-04,  -6.2136e-04,  -7.4796e-04,  -4.8214e-04,  -3.3728e-04,  -2.6822e-04,  -5.5251e-06,\n",
       "         1.5067e-05,  -1.8369e-07,   1.0945e-06,  -1.0846e-05,   2.9879e-04,  -1.3887e-04,  -1.5548e-04,  -2.9950e-04,\n",
       "         2.6189e-04,   2.9205e-04,   2.3805e-04,  -2.7088e-04,  -4.6247e-04,  -1.6433e-04,   2.3582e-05,   9.2807e-05,\n",
       "         1.5166e-04,   1.5949e-04,   4.4062e-06,  -7.1744e-05,  -2.4933e-05,  -2.7197e-07,   2.5951e-06,  -4.5194e-06,\n",
       "         1.7947e-04,  -1.0639e-04,  -3.1736e-04,  -1.7723e-04,   1.8681e-04,  -1.4058e-04,  -1.1373e-04,   2.2636e-05,\n",
       "         4.0911e-04,   6.2379e-04,   5.4392e-04,   2.8337e-04,   1.0720e-04,   7.3026e-05,  -9.6626e-06,  -1.3046e-04,\n",
       "        -5.0509e-05,  -4.2632e-08,   1.1169e-07,  -3.1645e-06,   8.8801e-05,  -4.7804e-05,  -3.3512e-04,  -1.1694e-04,\n",
       "         1.4131e-04,   2.3217e-04,   3.7460e-04,   6.7162e-04,   8.0453e-04,   6.6704e-04,   3.9331e-04,   9.5261e-05,\n",
       "         6.4751e-05,   1.0259e-04,   8.3822e-05,  -1.0138e-04,  -5.5465e-05,   5.6711e-09,  -3.2751e-07,  -3.8409e-06,\n",
       "         7.3696e-05,  -6.8214e-05,  -2.3957e-04,   3.7573e-05,   4.4947e-04,   5.8660e-04,   5.5696e-04,   6.6216e-04,\n",
       "         5.7342e-04,   5.3391e-04,   1.8851e-04,   1.1518e-04,   5.4907e-05,   1.4969e-04,   9.9641e-05,  -2.2760e-05,\n",
       "        -1.1496e-04,  -1.9169e-11,  -1.3190e-07,  -2.2388e-06,   3.9293e-05,  -1.9509e-05,  -1.0241e-04,   6.7773e-08,\n",
       "         2.4706e-04,   4.7473e-04,   5.5807e-04,   5.0596e-04,   3.4291e-04,   3.2484e-04,   1.8210e-04,   2.0208e-04,\n",
       "         2.4691e-04,   2.3217e-04,   1.2516e-04,   1.0301e-04,  -6.4342e-06,  -6.5719e-11,  -4.2818e-08,  -3.6670e-07,\n",
       "         6.4876e-06,   3.9370e-05,   3.9591e-05,   1.2093e-05,   7.0494e-05,   1.7891e-04,   3.0165e-04,   2.0427e-04,\n",
       "         1.2866e-04,   6.9845e-05,  -8.3292e-05,  -6.6615e-06,   2.6107e-05,   1.8006e-05,   5.0125e-06,   8.1354e-06,\n",
       "         6.3490e-06,   2.6163e-12,   1.4151e-09,   3.9066e-09,  -5.1120e-07,   3.4296e-06,   2.4220e-05,   3.0900e-05,\n",
       "         1.3933e-05,   6.1411e-07,   4.7044e-06,  -4.5179e-05,  -6.9476e-06,   8.0918e-06,   2.4789e-08,  -1.6717e-06,\n",
       "        -2.9085e-06,  -3.1038e-06,  -1.4663e-06,  -1.5144e-06,  -4.1344e-07,   0.0000e+00,   4.2486e-12,   6.6976e-10,\n",
       "        -6.3455e-08,   8.4662e-07,   1.7378e-06,   3.8326e-06,  -1.2466e-08,   1.1914e-06,   8.8093e-07,   3.6901e-06,\n",
       "         1.1178e-06,   2.0667e-07,   1.1563e-06,   2.6021e-07,   2.9789e-07,   1.3670e-07,   1.1921e-08,  -2.2756e-09,\n",
       "         0.0000e+00,   0.0000e+00])\n",
       "     nit: 51"
      ]
     },
     "execution_count": 24,
     "metadata": {},
     "output_type": "execute_result"
    }
   ],
   "source": [
    "op_result = op.minimize(\n",
    "    fun=cost, \n",
    "    jac=grad, \n",
    "    x0=theta0, \n",
    "    args=(X, y, lambda_param), \n",
    "    method='SLSQP', \n",
    "    options={'maxiter': 50, 'disp':True}\n",
    ")\n",
    "op_result"
   ]
  },
  {
   "cell_type": "code",
   "execution_count": 25,
   "metadata": {
    "collapsed": false
   },
   "outputs": [
    {
     "data": {
      "text/plain": [
       "-1.5943048339850385e-09"
      ]
     },
     "execution_count": 25,
     "metadata": {},
     "output_type": "execute_result"
    }
   ],
   "source": [
    "op_result.fun - op_result_nograd.fun"
   ]
  },
  {
   "cell_type": "code",
   "execution_count": 26,
   "metadata": {
    "collapsed": false
   },
   "outputs": [
    {
     "data": {
      "text/plain": [
       "(1, 401)"
      ]
     },
     "execution_count": 26,
     "metadata": {},
     "output_type": "execute_result"
    }
   ],
   "source": [
    "theta_fit = np.asmatrix(op_result.x)\n",
    "theta_fit.shape"
   ]
  },
  {
   "cell_type": "code",
   "execution_count": 27,
   "metadata": {
    "collapsed": false
   },
   "outputs": [
    {
     "data": {
      "text/plain": [
       "((5000, 1), matrix([[  5.5536e-05],\n",
       "         [  3.6358e-05],\n",
       "         [  4.1227e-07],\n",
       "         ..., \n",
       "         [  1.7964e-05],\n",
       "         [  1.7382e-04],\n",
       "         [  4.0461e-01]]))"
      ]
     },
     "execution_count": 27,
     "metadata": {},
     "output_type": "execute_result"
    }
   ],
   "source": [
    "p = h(theta_fit, X)\n",
    "p.shape, p"
   ]
  },
  {
   "cell_type": "code",
   "execution_count": 28,
   "metadata": {
    "collapsed": false
   },
   "outputs": [
    {
     "data": {
      "image/png": "[encoded data removed]",
      "text/plain": [
       "<matplotlib.figure.Figure at 0x1149c2310>"
      ]
     },
     "metadata": {},
     "output_type": "display_data"
    }
   ],
   "source": [
    "plt.hist(p)\n",
    "plt.show()"
   ]
  },
  {
   "cell_type": "code",
   "execution_count": 29,
   "metadata": {
    "collapsed": false
   },
   "outputs": [
    {
     "data": {
      "text/plain": [
       "(5000, 1)"
      ]
     },
     "execution_count": 29,
     "metadata": {},
     "output_type": "execute_result"
    }
   ],
   "source": [
    "pred = (p > 0.50)\n",
    "pred.shape"
   ]
  },
  {
   "cell_type": "code",
   "execution_count": 30,
   "metadata": {
    "collapsed": false
   },
   "outputs": [
    {
     "data": {
      "image/png": "[encoded data removed]",
      "text/plain": [
       "<matplotlib.figure.Figure at 0x1149c2250>"
      ]
     },
     "metadata": {},
     "output_type": "display_data"
    }
   ],
   "source": [
    "plt.hist(pred)\n",
    "plt.show()"
   ]
  },
  {
   "cell_type": "code",
   "execution_count": 31,
   "metadata": {
    "collapsed": false
   },
   "outputs": [
    {
     "data": {
      "text/plain": [
       "0.98560000000000003"
      ]
     },
     "execution_count": 31,
     "metadata": {},
     "output_type": "execute_result"
    }
   ],
   "source": [
    "np.sum(pred==y)/float(len(y))"
   ]
  },
  {
   "cell_type": "code",
   "execution_count": 32,
   "metadata": {
    "collapsed": false
   },
   "outputs": [
    {
     "data": {
      "image/png": "[encoded data removed]",
      "text/plain": [
       "<matplotlib.figure.Figure at 0x115ce8790>"
      ]
     },
     "metadata": {},
     "output_type": "display_data"
    }
   ],
   "source": [
    "plt.hist(pred==y)\n",
    "plt.show()"
   ]
  },
  {
   "cell_type": "code",
   "execution_count": 65,
   "metadata": {
    "collapsed": true
   },
   "outputs": [],
   "source": [
    "def theta_fit_character(char, X, y_true, lambda_param = 0.0):\n",
    "    \"\"\"Returns the optimized theta for the given character\"\"\"\n",
    "    \n",
    "    valid_characters = np.arange(0,10)\n",
    "    assert(char in valid_characters)\n",
    "      \n",
    "    # local variables \n",
    "    y      = np.matrix(y_true==char, dtype=np.int)  # y-value for this character\n",
    "    m, n   = X.shape                             # (m --> # training, n --> # of features + 1)\n",
    "    theta0 = np.asmatrix(np.zeros((1, n)))       # intial value of theta\n",
    "    \n",
    "    # optimize\n",
    "    op_result = op.minimize(\n",
    "        fun=cost, \n",
    "        jac=grad, \n",
    "        x0=theta0, \n",
    "        args=(X, y, lambda_param), \n",
    "        method='SLSQP', \n",
    "        options={'maxiter': 50, 'disp':True}\n",
    "    )\n",
    "    theta_fit = op_result.x    \n",
    "    return theta_fit"
   ]
  },
  {
   "cell_type": "code",
   "execution_count": 66,
   "metadata": {
    "collapsed": false
   },
   "outputs": [
    {
     "name": "stdout",
     "output_type": "stream",
     "text": [
      "Iteration limit exceeded    (Exit mode 9)\n",
      "            Current function value: 0.0430358423102\n",
      "            Iterations: 51\n",
      "            Function evaluations: 53\n",
      "            Gradient evaluations: 51\n"
     ]
    },
    {
     "data": {
      "text/plain": [
       "(401,)"
      ]
     },
     "execution_count": 66,
     "metadata": {},
     "output_type": "execute_result"
    }
   ],
   "source": [
    "theta_fit_func = theta_fit_character(char=7, X=X, y_true=y_true, lambda_param=0.1)\n",
    "theta_fit_func.shape"
   ]
  },
  {
   "cell_type": "code",
   "execution_count": 67,
   "metadata": {
    "collapsed": false
   },
   "outputs": [
    {
     "data": {
      "text/plain": [
       "0.98560000000000003"
      ]
     },
     "execution_count": 67,
     "metadata": {},
     "output_type": "execute_result"
    }
   ],
   "source": [
    "pred = (h(theta_fit, X) > 0.50)\n",
    "np.sum(pred==y)/float(len(y))"
   ]
  },
  {
   "cell_type": "code",
   "execution_count": 117,
   "metadata": {
    "collapsed": true
   },
   "outputs": [],
   "source": [
    "def theta_fit_all(X, y_true, lambda_param = 0.0):\n",
    "    m, n      = X.shape           # (m --> # training, n --> # of features + 1)\n",
    "    all_theta = np.empty((10, n)) # initalize all_theta\n",
    "    \n",
    "    for char in np.arange(0, 10):   \n",
    "        all_theta[char, ...] = theta_fit_character(char, X, y_true, lambda_param)\n",
    "\n",
    "    return all_theta"
   ]
  },
  {
   "cell_type": "code",
   "execution_count": 133,
   "metadata": {
    "collapsed": true
   },
   "outputs": [],
   "source": [
    "def pred_all(X, y_true, lambda_param = 0.1):\n",
    "    all_theta = theta_fit_all(X, y_true, lambda_param)\n",
    "    pred_all  = np.array([np.asarray(h(all_theta[char,:], X)).reshape(y_true.shape[0]) for char in np.arange(10)])\n",
    "    return pred_all"
   ]
  },
  {
   "cell_type": "code",
   "execution_count": 134,
   "metadata": {
    "collapsed": false
   },
   "outputs": [
    {
     "name": "stdout",
     "output_type": "stream",
     "text": [
      "Iteration limit exceeded    (Exit mode 9)\n",
      "            Current function value: 0.0150103014368\n",
      "            Iterations: 51\n",
      "            Function evaluations: 53\n",
      "            Gradient evaluations: 51\n",
      "Iteration limit exceeded    (Exit mode 9)\n",
      "            Current function value: 0.0214465240837\n",
      "            Iterations: 51\n",
      "            Function evaluations: 52\n",
      "            Gradient evaluations: 51\n",
      "Iteration limit exceeded    (Exit mode 9)\n",
      "            Current function value: 0.0670197456736\n",
      "            Iterations: 51\n",
      "            Function evaluations: 53\n",
      "            Gradient evaluations: 51\n",
      "Iteration limit exceeded    (Exit mode 9)\n",
      "            Current function value: 0.0705637032986\n",
      "            Iterations: 51\n",
      "            Function evaluations: 53\n",
      "            Gradient evaluations: 51\n",
      "Iteration limit exceeded    (Exit mode 9)\n",
      "            Current function value: 0.0483992434972\n",
      "            Iterations: 51\n",
      "            Function evaluations: 53\n",
      "            Gradient evaluations: 51\n",
      "Iteration limit exceeded    (Exit mode 9)\n",
      "            Current function value: 0.0735466692225\n",
      "            Iterations: 51\n",
      "            Function evaluations: 53\n",
      "            Gradient evaluations: 51\n",
      "Iteration limit exceeded    (Exit mode 9)\n",
      "            Current function value: 0.0308424703737\n",
      "            Iterations: 51\n",
      "            Function evaluations: 53\n",
      "            Gradient evaluations: 51\n",
      "Iteration limit exceeded    (Exit mode 9)\n",
      "            Current function value: 0.0429575386073\n",
      "            Iterations: 51\n",
      "            Function evaluations: 53\n",
      "            Gradient evaluations: 51\n",
      "Iteration limit exceeded    (Exit mode 9)\n",
      "            Current function value: 0.0924394218177\n",
      "            Iterations: 51\n",
      "            Function evaluations: 53\n",
      "            Gradient evaluations: 51\n",
      "Iteration limit exceeded    (Exit mode 9)\n",
      "            Current function value: 0.0867974573526\n",
      "            Iterations: 51\n",
      "            Function evaluations: 53\n",
      "            Gradient evaluations: 51\n"
     ]
    }
   ],
   "source": [
    "probs = pred_all(X, y_true, lambda_param=0.0)"
   ]
  },
  {
   "cell_type": "code",
   "execution_count": 139,
   "metadata": {
    "collapsed": false
   },
   "outputs": [
    {
     "data": {
      "text/plain": [
       "(10, 5000)"
      ]
     },
     "execution_count": 139,
     "metadata": {},
     "output_type": "execute_result"
    }
   ],
   "source": [
    "probs.shape"
   ]
  },
  {
   "cell_type": "code",
   "execution_count": 140,
   "metadata": {
    "collapsed": false
   },
   "outputs": [
    {
     "data": {
      "text/plain": [
       "((5000,), (5000, 1))"
      ]
     },
     "execution_count": 140,
     "metadata": {},
     "output_type": "execute_result"
    }
   ],
   "source": [
    "preds = np.argmax(probs, axis=0)\n",
    "preds.shape, y_true.shape"
   ]
  },
  {
   "cell_type": "code",
   "execution_count": 141,
   "metadata": {
    "collapsed": false
   },
   "outputs": [
    {
     "data": {
      "image/png": "[encoded data removed]",
      "text/plain": [
       "<matplotlib.figure.Figure at 0x1184ffa90>"
      ]
     },
     "metadata": {},
     "output_type": "display_data"
    }
   ],
   "source": [
    "plt.hist(preds)\n",
    "plt.show()"
   ]
  },
  {
   "cell_type": "code",
   "execution_count": 142,
   "metadata": {
    "collapsed": false
   },
   "outputs": [
    {
     "data": {
      "text/plain": [
       "0.93440000000000001"
      ]
     },
     "execution_count": 142,
     "metadata": {},
     "output_type": "execute_result"
    }
   ],
   "source": [
    "success_rate = np.sum(preds==y_true.ravel())/float(len(y_true))\n",
    "success_rate"
   ]
  },
  {
   "cell_type": "code",
   "execution_count": null,
   "metadata": {
    "collapsed": true
   },
   "outputs": [],
   "source": []
  }
 ],
 "metadata": {
  "kernelspec": {
   "display_name": "Python 2",
   "language": "python",
   "name": "python2"
  },
  "language_info": {
   "codemirror_mode": {
    "name": "ipython",
    "version": 2
   },
   "file_extension": ".py",
   "mimetype": "text/x-python",
   "name": "python",
   "nbconvert_exporter": "python",
   "pygments_lexer": "ipython2",
   "version": "2.7.10"
  }
 },
 "nbformat": 4,
 "nbformat_minor": 0
}
