{
 "metadata": {
  "name": "",
  "signature": "sha256:3caaa74d43209a7eddcb49e9fa627fc66f91e55be7af1fc42fdd3330a774d4c1"
 },
 "nbformat": 3,
 "nbformat_minor": 0,
 "worksheets": [
  {
   "cells": [
    {
     "cell_type": "markdown",
     "metadata": {},
     "source": [
      "# HW3: Multi-class Classification and Neural Networks\n",
      "\n",
      "In this exercise, we will implement a one-vs-all logistic regression and neural networks to recognize hand-written digits.    "
     ]
    },
    {
     "cell_type": "markdown",
     "metadata": {},
     "source": [
      "### Notebook setup"
     ]
    },
    {
     "cell_type": "code",
     "collapsed": false,
     "input": [
      "import itertools as it\n",
      "import numpy as np\n",
      "import pandas as pd\n",
      "import matplotlib.pyplot as plt\n",
      "import scipy.stats as st\n",
      "import scipy.misc\n",
      "import scipy.optimize as op\n",
      "from IPython.display import display, Math, Latex\n",
      "import os\n",
      "os.chdir('%s/courses/coursera_ml008/hw3' % os.getenv('DST'))\n",
      "print(os.getcwd())\n",
      "\n",
      "# plotting options\n",
      "np.set_printoptions(precision=4, linewidth=120)\n",
      "plt.rc('font'  , size=18)\n",
      "plt.rc('figure', figsize=(10, 8))\n",
      "plt.rc('axes'  , labelsize=22)\n",
      "plt.rc('legend', fontsize=16)\n",
      "\n",
      "np.set_printoptions(precision=4)\n",
      "plt.rc('figure', figsize=(10, 8))"
     ],
     "language": "python",
     "metadata": {},
     "outputs": [
      {
       "output_type": "stream",
       "stream": "stdout",
       "text": [
        "/Users/rwk7t/Development/dst/courses/coursera_ml008/hw3\n"
       ]
      }
     ],
     "prompt_number": 77
    },
    {
     "cell_type": "markdown",
     "metadata": {},
     "source": [
      "## Multi-class Classification\n",
      "\n",
      "For this exercise, you will use logistic regression and neural networks to recognize handwritten digits (from 0 to 9).  In this part of the exercise, you will extend logistic regression and apply it to one-vs-all classification. "
     ]
    },
    {
     "cell_type": "markdown",
     "metadata": {},
     "source": [
      "#### load the data"
     ]
    },
    {
     "cell_type": "code",
     "collapsed": false,
     "input": [
      "import scipy.io\n",
      "data = scipy.io.loadmat('ex3data1.mat')\n",
      "data"
     ],
     "language": "python",
     "metadata": {},
     "outputs": [
      {
       "metadata": {},
       "output_type": "pyout",
       "prompt_number": 72,
       "text": [
        "{'X': array([[ 0.,  0.,  0., ...,  0.,  0.,  0.],\n",
        "        [ 0.,  0.,  0., ...,  0.,  0.,  0.],\n",
        "        [ 0.,  0.,  0., ...,  0.,  0.,  0.],\n",
        "        ..., \n",
        "        [ 0.,  0.,  0., ...,  0.,  0.,  0.],\n",
        "        [ 0.,  0.,  0., ...,  0.,  0.,  0.],\n",
        "        [ 0.,  0.,  0., ...,  0.,  0.,  0.]]),\n",
        " '__globals__': [],\n",
        " '__header__': 'MATLAB 5.0 MAT-file, Platform: GLNXA64, Created on: Sun Oct 16 13:09:09 2011',\n",
        " '__version__': '1.0',\n",
        " 'y': array([[10],\n",
        "        [10],\n",
        "        [10],\n",
        "        ..., \n",
        "        [ 9],\n",
        "        [ 9],\n",
        "        [ 9]], dtype=uint8)}"
       ]
      }
     ],
     "prompt_number": 72
    },
    {
     "cell_type": "code",
     "collapsed": false,
     "input": [
      "X = data['X']\n",
      "y = data['y']\n",
      "X.shape, y.shape"
     ],
     "language": "python",
     "metadata": {},
     "outputs": [
      {
       "metadata": {},
       "output_type": "pyout",
       "prompt_number": 5,
       "text": [
        "((5000, 400), (5000, 1))"
       ]
      }
     ],
     "prompt_number": 5
    },
    {
     "cell_type": "markdown",
     "metadata": {},
     "source": [
      "There are 5000 Training examples in the file, where each training example is a 20x20 pixel of grayscale intensity at that location.  The 20x20 grid is \"unrolled\" into a 400 dimensional vector.  Each of the training examples becomes a single row in our data matrix ${\\bf X}$.  This gives us a 5000 by 400 matrix.\n",
      "\n",
      "\\begin{align}\n",
      "{\\bf X} = \n",
      "\\left( \n",
      "\\begin{array}{c}\n",
      "-\\ {{\\bf x}^{(1)} }^T - \\\\\n",
      "-\\ {{\\bf x}^{(2)} }^T - \\\\\n",
      "\\vdots  \\\\\n",
      "-\\ {{\\bf x}^{(m)} }^T - \\\\\n",
      "\\end{array} \n",
      "\\right)\n",
      "\\end{align}\n",
      "\n",
      "The second part of the training set is a 5000-dimensional vector ${\\bf y}$ that contains labels for the training set.  To make things easier in Octave/Matlab, the \"0\" digit is represented by \"10\".  Let us remap this since we are using python."
     ]
    },
    {
     "cell_type": "code",
     "collapsed": false,
     "input": [
      "y = np.where(y==10, 0, y)\n",
      "y[0:5]"
     ],
     "language": "python",
     "metadata": {},
     "outputs": [
      {
       "metadata": {},
       "output_type": "pyout",
       "prompt_number": 8,
       "text": [
        "array([[0],\n",
        "       [0],\n",
        "       [0],\n",
        "       [0],\n",
        "       [0]], dtype=uint8)"
       ]
      }
     ],
     "prompt_number": 8
    },
    {
     "cell_type": "markdown",
     "metadata": {},
     "source": [
      "### visualize the data"
     ]
    },
    {
     "cell_type": "code",
     "collapsed": false,
     "input": [
      "# m is # training set, n is the number of features (pixels)\n",
      "m, n = X.shape\n",
      "m, n"
     ],
     "language": "python",
     "metadata": {},
     "outputs": [
      {
       "metadata": {},
       "output_type": "pyout",
       "prompt_number": 14,
       "text": [
        "(5000, 400)"
       ]
      }
     ],
     "prompt_number": 14
    },
    {
     "cell_type": "code",
     "collapsed": false,
     "input": [
      "# size of the display\n",
      "example_width  = int(np.round(np.sqrt(n)))\n",
      "example_height = int(n/example_width)\n",
      "example_width, example_height"
     ],
     "language": "python",
     "metadata": {},
     "outputs": [
      {
       "metadata": {},
       "output_type": "pyout",
       "prompt_number": 38,
       "text": [
        "(20, 20)"
       ]
      }
     ],
     "prompt_number": 38
    },
    {
     "cell_type": "code",
     "collapsed": false,
     "input": [
      "# compute number of rows to display\n",
      "display_rows = 1\n",
      "display_cols = 1\n",
      "\n",
      "# display_rows = int(np.floor(np.sqrt(m)))\n",
      "# display_cols = int(np.ceil(m/float(display_rows)))\n",
      "display_rows, display_cols"
     ],
     "language": "python",
     "metadata": {},
     "outputs": [
      {
       "metadata": {},
       "output_type": "pyout",
       "prompt_number": 58,
       "text": [
        "(1, 1)"
       ]
      }
     ],
     "prompt_number": 58
    },
    {
     "cell_type": "code",
     "collapsed": false,
     "input": [
      "# pading between images\n",
      "pad = 1\n",
      "\n",
      "# blank display\n",
      "display_xsize = (pad + display_rows*(example_height+pad))\n",
      "display_ysize = (pad + display_rows*(example_width +pad))                \n",
      "display_array = - np.ones((display_xsize, display_ysize))\n",
      "display_array.shape"
     ],
     "language": "python",
     "metadata": {},
     "outputs": [
      {
       "metadata": {},
       "output_type": "pyout",
       "prompt_number": 65,
       "text": [
        "(22, 22)"
       ]
      }
     ],
     "prompt_number": 65
    },
    {
     "cell_type": "code",
     "collapsed": false,
     "input": [
      "# loop and copy each example into a patch on the display array\n",
      "curr_ex = 1\n",
      "for j in np.arange(display_rows):\n",
      "    for i in np.arange(display_cols):\n",
      "        if curr_ex >= m: break\n",
      "            \n",
      "        max_val = np.max(np.abs(X[curr_ex, :]))\n",
      "        rows    = pad + (j)*(example_height+pad) + range(example_height) - 1\n",
      "        cols    = pad + (i)*(example_width +pad) + range(example_width ) - 1\n",
      "        print(i, j, rows, cols)\n",
      "        display_array.take(rows, axis=0).take(cols, axis=1) = X[curr_ex,:].reshape(example_height, example_width)\n",
      "        curr_ex += 1\n",
      "    if curr_ex >= m: break"
     ],
     "language": "python",
     "metadata": {},
     "outputs": [
      {
       "ename": "SyntaxError",
       "evalue": "can't assign to function call (<ipython-input-97-a0c10d303aa0>, line 11)",
       "output_type": "pyerr",
       "traceback": [
        "\u001b[0;36m  File \u001b[0;32m\"<ipython-input-97-a0c10d303aa0>\"\u001b[0;36m, line \u001b[0;32m11\u001b[0m\n\u001b[0;31m    display_array.take(rows, axis=0).take(cols, axis=1) = X[curr_ex,:].reshape(example_height, example_width)\u001b[0m\n\u001b[0;31mSyntaxError\u001b[0m\u001b[0;31m:\u001b[0m can't assign to function call\n"
       ]
      }
     ],
     "prompt_number": 97
    },
    {
     "cell_type": "code",
     "collapsed": false,
     "input": [
      "ax = array([ 0,  1,  2,  3,  4,  5,  6,  7,  8,  9, 10, 11, 12, 13, 14, 15, 16, 17, 18, 19])\n",
      "ay = array([ 0,  1,  2,  3,  4,  5,  6,  7,  8,  9, 10, 11, 12, 13, 14, 15, 16, 17, 18, 19])\n",
      "ref = display_array.take(ax, axis=0).take(ay, axis=1) \n",
      "ref = 7\n",
      "ref"
     ],
     "language": "python",
     "metadata": {},
     "outputs": [
      {
       "metadata": {},
       "output_type": "pyout",
       "prompt_number": 96,
       "text": [
        "7"
       ]
      }
     ],
     "prompt_number": 96
    },
    {
     "cell_type": "code",
     "collapsed": false,
     "input": [],
     "language": "python",
     "metadata": {},
     "outputs": []
    }
   ],
   "metadata": {}
  }
 ]
}