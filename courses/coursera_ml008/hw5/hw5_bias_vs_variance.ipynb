{
 "cells": [
  {
   "cell_type": "markdown",
   "metadata": {},
   "source": [
    "# HW5: Regularized Linear Regression and Bias v.s. Variance\n",
    "\n",
    "In this exercise, you will implement regularized linear regression and use it to study models with di\u000b",
    "erent bias-variance properties. Before starting on the programming exercise, we strongly recommend watching the video lectures and completing the review questions for the associated topics. \n",
    "\n",
    "To get started with the exercise, you will need to download the starter code and unzip its contents to the directory where you wish to complete the exercise. If needed, use the cd command in Octave/MATLAB to change to this directory before starting this exercise.\n",
    "\n",
    "You can also finnd instructions for installing Octave/MATLAB in the \"Environment Setup Instructions\" of the course website."
   ]
  },
  {
   "cell_type": "code",
   "execution_count": 1,
   "metadata": {
    "collapsed": false
   },
   "outputs": [
    {
     "name": "stdout",
     "output_type": "stream",
     "text": [
      "/Users/rwk7t/Development/dst/courses/coursera_ml008/hw5\n"
     ]
    }
   ],
   "source": [
    "import itertools as it\n",
    "import numpy as np\n",
    "import pandas as pd\n",
    "import matplotlib.pyplot as plt\n",
    "import scipy.stats as st\n",
    "import scipy.misc\n",
    "import scipy.optimize as op\n",
    "import scipy.io\n",
    "import random\n",
    "from IPython.display import display, Math, Latex\n",
    "\n",
    "# set path\n",
    "import os\n",
    "os.chdir('%s/courses/coursera_ml008/hw5' % os.getenv('DST'))\n",
    "print(os.getcwd())\n",
    "\n",
    "# printing options \n",
    "np.set_printoptions(linewidth=250)\n",
    "np.set_printoptions(precision=3)\n",
    "\n",
    "# plotting options\n",
    "%matplotlib inline\n",
    "plt.rc('font'  , size=18)\n",
    "plt.rc('figure', figsize=(10, 8))\n",
    "plt.rc('axes'  , labelsize=22)\n",
    "plt.rc('legend', fontsize=16)\n",
    "plt.rc('figure', figsize=(10, 8))"
   ]
  },
  {
   "cell_type": "markdown",
   "metadata": {},
   "source": [
    "## 1 Regularized Linear Regression\n",
    "\n",
    "In the first half of the exercise, you will implement regularized linear regression to predict the amount of water \n",
    "flowing out of a dam using the change of water level in a reservoir. In the next half, you will go through some diagnostics of debugging learning algorithms and examine the effects of bias v.s. variance."
   ]
  },
  {
   "cell_type": "markdown",
   "metadata": {},
   "source": [
    "### 1.1 Visualing the dataset\n",
    "\n",
    "We will begin by visualizing the dataset containing historical records on the change in the water level, $x$, and the amount of water flowing out of the dam, $y$.\n",
    "\n",
    "This dataset is divided into three parts:\n",
    " * A training set that your model will learn on: $X$, $y$\n",
    " * A cross validation set for determining the regularization parameter: `Xval`, `yval`\n",
    " * A test set for evaluating performance. These are \"unseen\" examples which your model did not see during training: `Xtest`, `ytest`\n",
    " \n",
    "The next step of ex5.m will plot the training data (Figure 1). In the following parts, you will implement linear regression and use that to fit a straight line to the data and plot learning curves. Following that, you will\n",
    "implement polynomial regression to find a better fit to the data.\n",
    "\n",
    "<img src=\"fig1.png\" width=500/>"
   ]
  },
  {
   "cell_type": "code",
   "execution_count": 2,
   "metadata": {
    "collapsed": true
   },
   "outputs": [],
   "source": [
    "ex5data1 = scipy.io.loadmat('ex5data1.mat')\n",
    "X_train = ex5data1['X'   ]\n",
    "X_val   = ex5data1['Xval']\n",
    "X_test  = ex5data1['Xtest']\n",
    "\n",
    "y_train = ex5data1['y'   ]\n",
    "y_val   = ex5data1['yval']\n",
    "y_test  = ex5data1['ytest']"
   ]
  },
  {
   "cell_type": "code",
   "execution_count": 3,
   "metadata": {
    "collapsed": false
   },
   "outputs": [
    {
     "data": {
      "text/plain": [
       "((12, 1), (21, 1), (21, 1))"
      ]
     },
     "execution_count": 3,
     "metadata": {},
     "output_type": "execute_result"
    }
   ],
   "source": [
    "X_train.shape, X_val.shape, X_test.shape"
   ]
  },
  {
   "cell_type": "code",
   "execution_count": 4,
   "metadata": {
    "collapsed": false
   },
   "outputs": [
    {
     "data": {
      "text/plain": [
       "((12, 1), (21, 1), (21, 1))"
      ]
     },
     "execution_count": 4,
     "metadata": {},
     "output_type": "execute_result"
    }
   ],
   "source": [
    "y_train.shape, y_val.shape, y_test.shape"
   ]
  },
  {
   "cell_type": "code",
   "execution_count": 5,
   "metadata": {
    "collapsed": false
   },
   "outputs": [
    {
     "data": {
      "image/png": "[encoded data removed]",
      "text/plain": [
       "<matplotlib.figure.Figure at 0x10edfd390>"
      ]
     },
     "metadata": {},
     "output_type": "display_data"
    }
   ],
   "source": [
    "plt.scatter(X_train, y_train, color='r', marker='x', s=80, linewidth=2)\n",
    "plt.xlabel(\"change in water level (x)\")\n",
    "plt.ylabel(\"water flowing out of the damn (y))\")\n",
    "plt.axis([-50, 40, 0, 40])\n",
    "plt.grid()\n",
    "plt.show()"
   ]
  },
  {
   "cell_type": "markdown",
   "metadata": {},
   "source": [
    "## 1.2 Regularized linear regression cost function\n",
    "\n",
    "Recall that regularized linear regression has the following cost function:\n",
    "    \n",
    "\\begin{align}\n",
    "J(\\theta) = \\frac{1}{2m}\\left( \\sum_{i=1}^m \\left[ h_{\\theta}(x^{(i)} - y^{(i)}\\right]^2 \\right)\n",
    "- \\frac{\\lambda}{2m}\\left( \\sum_{j=1}^n \\theta_j^2 \\right)\n",
    "\\end{align}"
   ]
  },
  {
   "cell_type": "markdown",
   "metadata": {},
   "source": [
    "where $\\lambda$ is a regularization parameter which controls the degree of regularization (thus, help preventing overfitting). The regularization term puts a penalty on the overal cost J. As the magnitudes of the model parameters $\\theta_j$ increase, the penalty increases as well. Note that you should not regularize the $\\theta_0$ term.\n",
    "\n",
    "You should now complete the code in the file linearRegCostFunction.m. Your task is to write a function to calculate the regularized linear regression cost function. If possible, try to vectorize your code and avoid writing loops. When you are finished, the next part of ex5.m will run your cost function using theta initialized at [1; 1]. You should expect to see an output of 303.993."
   ]
  },
  {
   "cell_type": "code",
   "execution_count": 6,
   "metadata": {
    "collapsed": false
   },
   "outputs": [],
   "source": [
    "def prepend_ones(X):\n",
    "    X    = np.asmatrix(X)\n",
    "    m, n = X.shape\n",
    "    return np.concatenate((np.ones((m,1)), X), axis=1)\n"
   ]
  },
  {
   "cell_type": "code",
   "execution_count": 7,
   "metadata": {
    "collapsed": true
   },
   "outputs": [],
   "source": [
    "def h(theta, X):\n",
    "    theta = np.asmatrix(theta)\n",
    "    X     = np.asmatrix(X)\n",
    "    return X*theta.T"
   ]
  },
  {
   "cell_type": "code",
   "execution_count": 8,
   "metadata": {
    "collapsed": false
   },
   "outputs": [],
   "source": [
    "def cost(theta, X, y, lambda_param=0.0):\n",
    "    theta   = np.asmatrix(theta)\n",
    "    m       = len(X)\n",
    "    X       = prepend_ones(np.asmatrix(X))\n",
    "    y       = np.asmatrix(y)\n",
    "    h_value = h(theta,X)\n",
    "    \n",
    "    J  = (1.0/(2*m)) * np.sum(np.power(h_value - y,2))\n",
    "    J += (lambda_param/(2*m)) * np.sum(np.power(theta[...,1:],2))\n",
    "    return J"
   ]
  },
  {
   "cell_type": "code",
   "execution_count": 9,
   "metadata": {
    "collapsed": false
   },
   "outputs": [
    {
     "data": {
      "text/plain": [
       "303.99319222026429"
      ]
     },
     "execution_count": 9,
     "metadata": {},
     "output_type": "execute_result"
    }
   ],
   "source": [
    "cost(theta=np.array([1,1]), X=X_train, y=y_train, lambda_param=1.0)"
   ]
  },
  {
   "cell_type": "markdown",
   "metadata": {},
   "source": [
    "### 1.3 Regularized linear regression gradient\n",
    "\n",
    "Correspondingly, the partial derivative of regularized linear regression's cost for $\\theta_j# is defined as\n",
    "\n",
    "\\begin{align}\n",
    "\\frac{\\partial J(\\theta)}{\\partial \\theta_j} \n",
    "&= \\frac{1}{m} \\sum_{i=1}^m \\left( h_{\\theta}(x^{(i)} - y^{(i)}\\right)x_j^{(i)}\n",
    "& \\text{for} \\space j = 0 \\\\\n",
    "\\frac{\\partial J(\\theta)}{\\partial \\theta_j} \n",
    "&= \\left( \\frac{1}{m} \\sum_{i=1}^m \\left( h_{\\theta}(x^{(i)} - y^{(i)}\\right)x_j^{(i)} \\right) + \\frac{\\lambda}{m} \\theta_j\n",
    "& \\text{for} \\space j \\neq 0\n",
    "\\end{align}\n",
    "\n",
    "In `linearRegCostFunction.m`, add code to calculate the gradient, returning it in the variable grad. When you are finished, the next part of ex5.m will run your gradient function using theta initialized at [1; 1]. You should expect to see a gradient of [-15.30; 598.250]."
   ]
  },
  {
   "cell_type": "code",
   "execution_count": 10,
   "metadata": {
    "collapsed": true
   },
   "outputs": [],
   "source": [
    "def grad(theta, X, y, lambda_param=0.0):\n",
    "    theta   = np.asmatrix(theta)\n",
    "    X       = prepend_ones(np.asmatrix(X))\n",
    "    m, n    = X.shape\n",
    "    y       = np.asmatrix(y)\n",
    "    beta    = h(theta,X) - y\n",
    "    result  = (1.0/m)*beta.T*X\n",
    "    \n",
    "    # regularization\n",
    "    result[...,1:] += (lambda_param/m)*theta[...,1:]\n",
    "    \n",
    "    result = np.asarray(result).reshape(n)\n",
    "    return result"
   ]
  },
  {
   "cell_type": "code",
   "execution_count": 11,
   "metadata": {
    "collapsed": false
   },
   "outputs": [
    {
     "data": {
      "text/plain": [
       "array([ -15.303,  598.251])"
      ]
     },
     "execution_count": 11,
     "metadata": {},
     "output_type": "execute_result"
    }
   ],
   "source": [
    "grad(theta=np.array([1,1]), X=X_train, y=y_train, lambda_param=1.0)"
   ]
  },
  {
   "cell_type": "markdown",
   "metadata": {},
   "source": [
    "### 1.4 Fitting Linear Regression\n",
    "\n",
    "Once your cost function and gradient are working correctly, the next part of ex5.m will run the code in `trainLinearReg.m` to compute the optimal values of $\\theta#. This training function uses `fmincg` to optimize the cost function.\n",
    "\n",
    "In this part, we set regularization parameter #\\lambda# to zero. Because our current implementation of linear regression is trying to fit a 2-dimensional $\\theta$, regularization will not be incredibly helpful for a $\\theta# of such low dimension. In the later parts of the exercise, you will be using polynomial regression with regularization.\n",
    "\n",
    "Finally, the ex5.m script should also plot the best fot line, resulting in an image similar to Figure 2. The best fit line tells us that the model is not a good fit to the data because the data has a non-linear pattern. While visualizing the best fit as shown is one possible way to debug your learning algorithm, it is not always easy to visualize the data and model. In the next section, you will implement a function to generate learning curves that can help you debug your learning algorithm even if it is not easy to visualize the data.\n",
    "\n",
    "<img src=\"fig2.png\" width=500/>"
   ]
  },
  {
   "cell_type": "code",
   "execution_count": 12,
   "metadata": {
    "collapsed": false
   },
   "outputs": [
    {
     "data": {
      "text/plain": [
       "(array([0, 0]), 0.0)"
      ]
     },
     "execution_count": 12,
     "metadata": {},
     "output_type": "execute_result"
    }
   ],
   "source": [
    "theta0       = np.array([0,0])\n",
    "lambda_param = 0.0\n",
    "theta0, lambda_param"
   ]
  },
  {
   "cell_type": "code",
   "execution_count": 13,
   "metadata": {
    "collapsed": false
   },
   "outputs": [
    {
     "data": {
      "text/plain": [
       "(2,)"
      ]
     },
     "execution_count": 13,
     "metadata": {},
     "output_type": "execute_result"
    }
   ],
   "source": [
    "theta0.shape"
   ]
  },
  {
   "cell_type": "code",
   "execution_count": 14,
   "metadata": {
    "collapsed": false
   },
   "outputs": [
    {
     "name": "stdout",
     "output_type": "stream",
     "text": [
      "Optimization terminated successfully.\n",
      "         Current function value: 22.373906\n",
      "         Iterations: 2\n",
      "         Function evaluations: 5\n",
      "         Gradient evaluations: 5\n"
     ]
    }
   ],
   "source": [
    "op_result = op.minimize(\n",
    "    fun=cost, \n",
    "    jac=grad, \n",
    "    x0=theta0, \n",
    "    args=(X_train, y_train, lambda_param), \n",
    "    method='CG', \n",
    "    options={'maxiter': 200, 'disp':True}\n",
    ")"
   ]
  },
  {
   "cell_type": "code",
   "execution_count": 15,
   "metadata": {
    "collapsed": false
   },
   "outputs": [
    {
     "data": {
      "text/plain": [
       "  status: 0\n",
       " success: True\n",
       "    njev: 5\n",
       "    nfev: 5\n",
       "     fun: 22.373906495108905\n",
       "       x: array([ 13.088,   0.368])\n",
       " message: 'Optimization terminated successfully.'\n",
       "     jac: array([  6.055e-14,  -6.894e-12])\n",
       "     nit: 2"
      ]
     },
     "execution_count": 15,
     "metadata": {},
     "output_type": "execute_result"
    }
   ],
   "source": [
    "op_result"
   ]
  },
  {
   "cell_type": "code",
   "execution_count": 16,
   "metadata": {
    "collapsed": false
   },
   "outputs": [],
   "source": [
    "theta_fit = op_result.x"
   ]
  },
  {
   "cell_type": "code",
   "execution_count": 17,
   "metadata": {
    "collapsed": false
   },
   "outputs": [
    {
     "data": {
      "image/png": "[encoded data removed]",
      "text/plain": [
       "<matplotlib.figure.Figure at 0x113fcdcd0>"
      ]
     },
     "metadata": {},
     "output_type": "display_data"
    }
   ],
   "source": [
    "x   = np.linspace(-50,40,100)\n",
    "fit = theta_fit[0]+theta_fit[1]*x\n",
    "\n",
    "plt.scatter(X_train, y_train, color='r', marker='x', s=80, linewidth=2)\n",
    "plt.plot(x, fit, 'b')\n",
    "plt.xlabel(\"change in water level (x)\")\n",
    "plt.ylabel(\"water flowing out of the damn (y))\")\n",
    "plt.axis([-50, 40, -5, 40])\n",
    "plt.grid()\n",
    "plt.show()"
   ]
  },
  {
   "cell_type": "markdown",
   "metadata": {},
   "source": [
    "## 2. Bias-variance\n",
    "\n",
    "An important concept in machine learning is the bias-variance tradeoff. Mod- els with high bias are not complex enough for the data and tend to underfit, while models with high variance overfit to the training data.\n",
    "\n",
    "In this part of the exercise, you will plot training and test errors on a learning curve to diagnose bias-variance problems."
   ]
  },
  {
   "cell_type": "markdown",
   "metadata": {},
   "source": [
    "### 2.1 Learning Curves\n",
    "\n",
    "You will now implement code to generate the learning curves that will be useful in debugging learning algorithms. Recall that a learning curve plots training and cross validation error as a function of training set size. Your job is to fill in `learningCurve.m` so that it returns a vector of errors for the training set and cross validation set.\n",
    "\n",
    "To plot the learning curve, we need a training and cross validation set error for different training set sizes. To obtain different training set sizes, you should use different subsets of the original training set $X$. Specifically, for a training set size of $i$, you should use the first i examples (i.e., `X(1:i,:)` and `y(1:i))`.\n",
    "\n",
    "You can use the `trainLinearReg` function to find the $\\theta$ parameters. Note that the `lambda` is passed as a parameter to the `learningCurve` function. After learning the $\\theta$ parameters, you should compute the error on the training and cross validation sets. Recall that the training error for a dataset is defined as\n",
    "\n",
    "\\begin{align}\n",
    "J_{train}(\\theta) = \\frac{1}{2m}\\left[\\sum_{i=1}^{m}\\left(h_{\\theta}(x^{(i)}) - y^{(i)}\\right)^2\\right]\n",
    "\\end{align}\n",
    "\n",
    "In particular, note that the training error does not include the regularization term. One way to compute the training error is to use your existing cost function and set $\\lambda$ to 0 only when using it to compute the training error and cross validation error. When you are computing the training set error, make sure you compute it on the training subset (i.e., `X(1:n,:)` and `y(1:n)`) (instead of the entire training set). However, for the cross validation error, you should compute it over the entire cross validation set. You should store the computed errors in the vectors `error_train` and `error_val`.\n",
    "\n",
    "When you are finished, ex5.m wil print the learning curves and produce a plot similar to Figure 3.\n",
    "\n",
    "<img src=\"fig3.png\" width=500/>\n",
    "\n",
    "In Figure 3, you can observe that both the train error and cross validation error are high when the number of training examples is increased. This reflects a high bias problem in the model – the linear regression model is too simple and is unable to fit our dataset well. In the next section, you will implement polynomial regression to fit a better model for this dataset."
   ]
  },
  {
   "cell_type": "code",
   "execution_count": 18,
   "metadata": {
    "collapsed": false
   },
   "outputs": [],
   "source": [
    "def train_linreg(X, y, lambda_param=0.0, disp=False):\n",
    "   \n",
    "    theta0 = np.zeros((X_train.shape[1]+1,))\n",
    "\n",
    "    op_result = op.minimize(\n",
    "        fun=cost, \n",
    "        jac=grad, \n",
    "        x0=theta0, \n",
    "        args=(X, y, lambda_param), \n",
    "        method='CG', \n",
    "        options={'maxiter': 200, 'disp': disp}\n",
    "    )\n",
    "\n",
    "    theta = op_result.x\n",
    "    return theta"
   ]
  },
  {
   "cell_type": "code",
   "execution_count": 19,
   "metadata": {
    "collapsed": false
   },
   "outputs": [],
   "source": [
    "def learning_err(X_train, y_train, X_val, y_val, lambda_param=0.0):\n",
    "    m, n         = X_train.shape\n",
    "    lambda_param = 0.0\n",
    "    err_train    = np.zeros((m,))\n",
    "    err_val      = np.zeros((m,))\n",
    "\n",
    "    for i in np.arange(1,m):\n",
    "        X = X_train[:i]\n",
    "        y = y_train[:i]\n",
    "        \n",
    "        theta = train_linreg(X, y, lambda_param=0.0)\n",
    "\n",
    "        err_train[i] = cost(theta, X    , y    , lambda_param=0.0)\n",
    "        err_val[i]   = cost(theta, X_val, y_val, lambda_param=0.0)\n",
    "\n",
    "    return err_train, err_val"
   ]
  },
  {
   "cell_type": "code",
   "execution_count": 20,
   "metadata": {
    "collapsed": false
   },
   "outputs": [],
   "source": [
    "err_train, err_val = learning_err(X_train, y_train, X_val, y_val, lambda_param)"
   ]
  },
  {
   "cell_type": "code",
   "execution_count": 21,
   "metadata": {
    "collapsed": false
   },
   "outputs": [
    {
     "data": {
      "text/plain": [
       "((12,), (12,))"
      ]
     },
     "execution_count": 21,
     "metadata": {},
     "output_type": "execute_result"
    }
   ],
   "source": [
    "err_train.shape, err_val.shape"
   ]
  },
  {
   "cell_type": "code",
   "execution_count": 24,
   "metadata": {
    "collapsed": false
   },
   "outputs": [
    {
     "data": {
      "image/png": "[encoded data removed]",
      "text/plain": [
       "<matplotlib.figure.Figure at 0x113f9d910>"
      ]
     },
     "metadata": {},
     "output_type": "display_data"
    }
   ],
   "source": [
    "x = np.arange(1,err_train.size)\n",
    "plt.plot(x, err_train[1:], x, err_val[1:])\n",
    "plt.legend(['train', 'cross validation'])\n",
    "plt.title('learning curve for linear regression')\n",
    "plt.xlabel(\"number of training examples\")\n",
    "plt.ylabel(\"error\")\n",
    "plt.grid()"
   ]
  },
  {
   "cell_type": "markdown",
   "metadata": {},
   "source": [
    "## 3. Polynomial Regression\n",
    "\n",
    "The problem with our linear model was that it was too simple for the data and resulted in underfitting (high bias). In this part of the exercise, you will address this problem by adding more features.\n",
    "For use polynomial regression, our hypothesis has the form:\n",
    "\n",
    "\\begin{align}\n",
    "h_{\\theta}(x) &= \\theta_0 + \\theta_1*\\text{(water level)} + \\theta_2*\\text{(water level)}^2 + \\dots + + \\theta_p*\\text{(water level)}^p \\\\\n",
    "              &= \\theta_0 + \\theta_1*x_1 + \\theta_2*x_2 + \\dots + x_p\n",
    "\\end{align}\n",
    "\n",
    "Notice that by defining $x_1 =text{(water level)}$, $x_2 = text{(water level)^2}$, ... , $x_p = text{(water level)^p}$, we obtain a linear regression model where the features are the various powers of the original value (water level).\n",
    "\n",
    "Now, you will add more features using the higher powers of the existing feature $x$ in the dataset. Your task in this part is to complete the code in `polyFeatures.m` so that the function maps the original training set $X$ of size `m × 1` into its higher powers. Specifically, when a training set X of size `m × 1` is passed into the function, the function should return a `m×p` matrix $X$ poly, where column 1 holds the original values of `X`, column 2 holds the values of $X^2$, column 3 holds the values of $X^3$, and so on. Note that you don’t have to account for the zero-eth power in this function.\n",
    "\n",
    "Now you have a function that will map features to a higher dimension, and Part 6 of ex5.m will apply it to the training set, the test set, and the cross validation set (which you haven’t used yet)."
   ]
  },
  {
   "cell_type": "code",
   "execution_count": 49,
   "metadata": {
    "collapsed": false
   },
   "outputs": [],
   "source": [
    "def poly_features(X, p):\n",
    "    m, n = X.shape\n",
    "    assert(n==1)\n",
    "    X_poly = np.empty((m, p))\n",
    "    for n in np.arange(p):\n",
    "        X_poly[...,n] = np.array(X**(n+1)).reshape(m,)\n",
    "    return X_poly"
   ]
  },
  {
   "cell_type": "code",
   "execution_count": 56,
   "metadata": {
    "collapsed": false
   },
   "outputs": [
    {
     "data": {
      "text/plain": [
       "array([[   2.,    4.,    8.,   16.,   32.,   64.,  128.,  256.],\n",
       "       [   2.,    4.,    8.,   16.,   32.,   64.,  128.,  256.],\n",
       "       [   2.,    4.,    8.,   16.,   32.,   64.,  128.,  256.],\n",
       "       [   2.,    4.,    8.,   16.,   32.,   64.,  128.,  256.],\n",
       "       [   2.,    4.,    8.,   16.,   32.,   64.,  128.,  256.]])"
      ]
     },
     "execution_count": 56,
     "metadata": {},
     "output_type": "execute_result"
    }
   ],
   "source": [
    "poly_features(np.ones((5,1))*2, 8)"
   ]
  },
  {
   "cell_type": "code",
   "execution_count": 50,
   "metadata": {
    "collapsed": false
   },
   "outputs": [
    {
     "data": {
      "text/plain": [
       "array([[ -1.594e+01,   2.540e+02,  -4.048e+03],\n",
       "       [ -2.915e+01,   8.499e+02,  -2.478e+04],\n",
       "       [  3.619e+01,   1.310e+03,   4.740e+04],\n",
       "       [  3.749e+01,   1.406e+03,   5.270e+04],\n",
       "       [ -4.806e+01,   2.310e+03,  -1.110e+05],\n",
       "       [ -8.941e+00,   7.995e+01,  -7.149e+02],\n",
       "       [  1.531e+01,   2.343e+02,   3.587e+03],\n",
       "       [ -3.471e+01,   1.205e+03,  -4.180e+04],\n",
       "       [  1.389e+00,   1.930e+00,   2.681e+00],\n",
       "       [ -4.438e+01,   1.970e+03,  -8.743e+04],\n",
       "       [  7.014e+00,   4.919e+01,   3.450e+02],\n",
       "       [  2.276e+01,   5.181e+02,   1.179e+04]])"
      ]
     },
     "execution_count": 50,
     "metadata": {},
     "output_type": "execute_result"
    }
   ],
   "source": [
    "poly_features(X_train, 3)"
   ]
  },
  {
   "cell_type": "code",
   "execution_count": null,
   "metadata": {
    "collapsed": true
   },
   "outputs": [],
   "source": [
    "### 3.1 Learning Polynomial Regression\n",
    "\n"
   ]
  }
 ],
 "metadata": {
  "kernelspec": {
   "display_name": "Python 2",
   "language": "python",
   "name": "python2"
  },
  "language_info": {
   "codemirror_mode": {
    "name": "ipython",
    "version": 2
   },
   "file_extension": ".py",
   "mimetype": "text/x-python",
   "name": "python",
   "nbconvert_exporter": "python",
   "pygments_lexer": "ipython2",
   "version": "2.7.10"
  }
 },
 "nbformat": 4,
 "nbformat_minor": 0
}
