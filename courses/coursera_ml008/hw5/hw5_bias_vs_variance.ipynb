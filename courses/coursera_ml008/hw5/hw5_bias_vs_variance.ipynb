{
 "cells": [
  {
   "cell_type": "markdown",
   "metadata": {},
   "source": [
    "# HW5: Regularized Linear Regression and Bias v.s. Variance\n",
    "\n",
    "In this exercise, you will implement regularized linear regression and use it to study models with di\u000b",
    "erent bias-variance properties. Before starting on the programming exercise, we strongly recommend watching the video lectures and completing the review questions for the associated topics. \n",
    "\n",
    "To get started with the exercise, you will need to download the starter code and unzip its contents to the directory where you wish to complete the exercise. If needed, use the cd command in Octave/MATLAB to change to this directory before starting this exercise.\n",
    "\n",
    "You can also finnd instructions for installing Octave/MATLAB in the \"Environment Setup Instructions\" of the course website."
   ]
  },
  {
   "cell_type": "code",
   "execution_count": 1,
   "metadata": {
    "collapsed": false
   },
   "outputs": [
    {
     "name": "stdout",
     "output_type": "stream",
     "text": [
      "C:\\Users\\J28976\\Documents\\Development\\dst\\courses\\coursera_ml008\\hw5\n"
     ]
    }
   ],
   "source": [
    "import itertools as it\n",
    "import numpy as np\n",
    "import pandas as pd\n",
    "import matplotlib.pyplot as plt\n",
    "import scipy.stats as st\n",
    "import scipy.misc\n",
    "import scipy.optimize as op\n",
    "import scipy.io\n",
    "import random\n",
    "from IPython.display import display, Math, Latex\n",
    "\n",
    "# set path\n",
    "import os\n",
    "os.chdir('%s/courses/coursera_ml008/hw5' % os.getenv('DST'))\n",
    "print(os.getcwd())\n",
    "\n",
    "# printing options \n",
    "np.set_printoptions(linewidth=250)\n",
    "np.set_printoptions(precision=3)\n",
    "\n",
    "# plotting options\n",
    "%matplotlib inline\n",
    "plt.rc('font'  , size=18)\n",
    "plt.rc('figure', figsize=(10, 8))\n",
    "plt.rc('axes'  , labelsize=22)\n",
    "plt.rc('legend', fontsize=16)\n",
    "plt.rc('figure', figsize=(10, 8))"
   ]
  },
  {
   "cell_type": "markdown",
   "metadata": {},
   "source": [
    "## 1 Regularized Linear Regression\n",
    "\n",
    "In the first half of the exercise, you will implement regularized linear regression to predict the amount of water \n",
    "flowing out of a dam using the change of water level in a reservoir. In the next half, you will go through some diagnostics of debugging learning algorithms and examine the effects of bias v.s. variance."
   ]
  },
  {
   "cell_type": "markdown",
   "metadata": {},
   "source": [
    "### 1.1 Visualing the dataset\n",
    "\n",
    "We will begin by visualizing the dataset containing historical records on the change in the water level, $x$, and the amount of water flowing out of the dam, $y$.\n",
    "\n",
    "This dataset is divided into three parts:\n",
    " * A training set that your model will learn on: $X$, $y$\n",
    " * A cross validation set for determining the regularization parameter: `Xval`, `yval`\n",
    " * A test set for evaluating performance. These are \"unseen\" examples which your model did not see during training: `Xtest`, `ytest`\n",
    " \n",
    "The next step of ex5.m will plot the training data (Figure 1). In the following parts, you will implement linear regression and use that to fit a straight line to the data and plot learning curves. Following that, you will\n",
    "implement polynomial regression to find a better fit to the data.\n",
    "\n",
    "<img src=\"fig1.png\" width=500/>"
   ]
  },
  {
   "cell_type": "code",
   "execution_count": 2,
   "metadata": {
    "collapsed": true
   },
   "outputs": [],
   "source": [
    "ex5data1 = scipy.io.loadmat('ex5data1.mat')\n",
    "X_train = ex5data1['X'   ]\n",
    "X_val   = ex5data1['Xval']\n",
    "X_test  = ex5data1['Xtest']\n",
    "\n",
    "y_train = ex5data1['y'   ]\n",
    "y_val   = ex5data1['yval']\n",
    "y_test  = ex5data1['ytest']"
   ]
  },
  {
   "cell_type": "code",
   "execution_count": 3,
   "metadata": {
    "collapsed": false
   },
   "outputs": [
    {
     "data": {
      "text/plain": [
       "((12L, 1L), (21L, 1L), (21L, 1L))"
      ]
     },
     "execution_count": 3,
     "metadata": {},
     "output_type": "execute_result"
    }
   ],
   "source": [
    "X_train.shape, X_val.shape, X_test.shape"
   ]
  },
  {
   "cell_type": "code",
   "execution_count": 4,
   "metadata": {
    "collapsed": false
   },
   "outputs": [
    {
     "data": {
      "text/plain": [
       "((12L, 1L), (21L, 1L), (21L, 1L))"
      ]
     },
     "execution_count": 4,
     "metadata": {},
     "output_type": "execute_result"
    }
   ],
   "source": [
    "y_train.shape, y_val.shape, y_test.shape"
   ]
  },
  {
   "cell_type": "code",
   "execution_count": 5,
   "metadata": {
    "collapsed": false
   },
   "outputs": [
    {
     "data": {
      "image/png": "[encoded data removed]",
      "text/plain": [
       "<matplotlib.figure.Figure at 0xcb752b0>"
      ]
     },
     "metadata": {},
     "output_type": "display_data"
    }
   ],
   "source": [
    "plt.scatter(X_train, y_train, color='r', marker='x', s=80, linewidth=2)\n",
    "plt.xlabel(\"change in water level (x)\")\n",
    "plt.ylabel(\"water flowing out of the damn (y))\")\n",
    "plt.axis([-50, 40, 0, 40])\n",
    "plt.grid()\n",
    "plt.show()"
   ]
  },
  {
   "cell_type": "markdown",
   "metadata": {},
   "source": [
    "## 1.2 Regularized linear regression cost function\n",
    "\n",
    "Recall that regularized linear regression has the following cost function:\n",
    "    \n",
    "\\begin{align}\n",
    "J(\\theta) = \\frac{1}{2m}\\left( \\sum_{i=1}^m \\left[ h_{\\theta}(x^{(i)} - y^{(i)}\\right]^2 \\right)\n",
    "- \\frac{\\lambda}{2m}\\left( \\sum_{j=1}^n \\theta_j^2 \\right)\n",
    "\\end{align}"
   ]
  },
  {
   "cell_type": "markdown",
   "metadata": {},
   "source": [
    "where $\\lambda$ is a regularization parameter which controls the degree of regularization (thus, help preventing overfitting). The regularization term puts a penalty on the overal cost J. As the magnitudes of the model parameters $\\theta_j$ increase, the penalty increases as well. Note that you should not regularize the $\\theta_0$ term.\n",
    "\n",
    "You should now complete the code in the file linearRegCostFunction.m. Your task is to write a function to calculate the regularized linear regression cost function. If possible, try to vectorize your code and avoid writing loops. When you are finished, the next part of ex5.m will run your cost function using theta initialized at [1; 1]. You should expect to see an output of 303.993."
   ]
  },
  {
   "cell_type": "code",
   "execution_count": 6,
   "metadata": {
    "collapsed": false
   },
   "outputs": [],
   "source": [
    "def prepend_ones(X):\n",
    "    X    = np.asmatrix(X)\n",
    "    m, n = X.shape\n",
    "    return np.concatenate((np.ones((m,1)), X), axis=1)\n"
   ]
  },
  {
   "cell_type": "code",
   "execution_count": 7,
   "metadata": {
    "collapsed": true
   },
   "outputs": [],
   "source": [
    "def h(theta, X):\n",
    "    theta = np.asmatrix(theta)\n",
    "    X     = np.asmatrix(X)\n",
    "    return X*theta.T"
   ]
  },
  {
   "cell_type": "code",
   "execution_count": 8,
   "metadata": {
    "collapsed": false
   },
   "outputs": [],
   "source": [
    "def cost(theta, X, y, lambda_param=0.0):\n",
    "    theta   = np.asmatrix(theta)\n",
    "    m       = len(X)\n",
    "    X       = prepend_ones(np.asmatrix(X))\n",
    "    y       = np.asmatrix(y)\n",
    "    h_value = h(theta,X)\n",
    "    \n",
    "    J  = (1.0/(2*m)) * np.sum(np.power(h_value - y,2))\n",
    "    J += (lambda_param/(2*m)) * np.sum(np.power(theta[...,1:],2))\n",
    "    return J"
   ]
  },
  {
   "cell_type": "code",
   "execution_count": 9,
   "metadata": {
    "collapsed": false
   },
   "outputs": [
    {
     "data": {
      "text/plain": [
       "303.99319222026429"
      ]
     },
     "execution_count": 9,
     "metadata": {},
     "output_type": "execute_result"
    }
   ],
   "source": [
    "cost(theta=np.array([1,1]), X=X_train, y=y_train, lambda_param=1.0)"
   ]
  },
  {
   "cell_type": "markdown",
   "metadata": {},
   "source": [
    "### 1.3 Regularized linear regression gradient\n",
    "\n",
    "Correspondingly, the partial derivative of regularized linear regression's cost for $\\theta_j# is defined as\n",
    "\n",
    "\\begin{align}\n",
    "\\frac{\\partial J(\\theta)}{\\partial \\theta_j} \n",
    "&= \\frac{1}{m} \\sum_{i=1}^m \\left( h_{\\theta}(x^{(i)} - y^{(i)}\\right)x_j^{(i)}\n",
    "& \\text{for} \\space j = 0 \\\\\n",
    "\\frac{\\partial J(\\theta)}{\\partial \\theta_j} \n",
    "&= \\left( \\frac{1}{m} \\sum_{i=1}^m \\left( h_{\\theta}(x^{(i)} - y^{(i)}\\right)x_j^{(i)} \\right) + \\frac{\\lambda}{m} \\theta_j\n",
    "& \\text{for} \\space j \\neq 0\n",
    "\\end{align}\n",
    "\n",
    "In `linearRegCostFunction.m`, add code to calculate the gradient, returning it in the variable grad. When you are finished, the next part of ex5.m will run your gradient function using theta initialized at [1; 1]. You should expect to see a gradient of [-15.30; 598.250]."
   ]
  },
  {
   "cell_type": "code",
   "execution_count": 10,
   "metadata": {
    "collapsed": true
   },
   "outputs": [],
   "source": [
    "def grad(theta, X, y, lambda_param=0.0):\n",
    "    theta   = np.asmatrix(theta)\n",
    "    X       = prepend_ones(np.asmatrix(X))\n",
    "    m, n    = X.shape\n",
    "    y       = np.asmatrix(y)\n",
    "    beta    = h(theta,X) - y\n",
    "    result  = (1.0/m)*beta.T*X\n",
    "    \n",
    "    # regularization\n",
    "    result[...,1:] += (lambda_param/m)*theta[...,1:]\n",
    "    \n",
    "    result = np.asarray(result).reshape(n)\n",
    "    return result"
   ]
  },
  {
   "cell_type": "code",
   "execution_count": 11,
   "metadata": {
    "collapsed": false
   },
   "outputs": [
    {
     "data": {
      "text/plain": [
       "array([ -15.303,  598.251])"
      ]
     },
     "execution_count": 11,
     "metadata": {},
     "output_type": "execute_result"
    }
   ],
   "source": [
    "grad(theta=np.array([1,1]), X=X_train, y=y_train, lambda_param=1.0)"
   ]
  },
  {
   "cell_type": "markdown",
   "metadata": {},
   "source": [
    "### 1.4 Fitting Linear Regression\n",
    "\n",
    "Once your cost function and gradient are working correctly, the next part of ex5.m will run the code in `trainLinearReg.m` to compute the optimal values of $\\theta#. This training function uses `fmincg` to optimize the cost function.\n",
    "\n",
    "In this part, we set regularization parameter #\\lambda# to zero. Because our current implementation of linear regression is trying to fit a 2-dimensional $\\theta$, regularization will not be incredibly helpful for a $\\theta# of such low dimension. In the later parts of the exercise, you will be using polynomial regression with regularization.\n",
    "\n",
    "Finally, the ex5.m script should also plot the best fot line, resulting in an image similar to Figure 2. The best fit line tells us that the model is not a good fit to the data because the data has a non-linear pattern. While visualizing the best fit as shown is one possible way to debug your learning algorithm, it is not always easy to visualize the data and model. In the next section, you will implement a function to generate learning curves that can help you debug your learning algorithm even if it is not easy to visualize the data.\n",
    "\n",
    "<img src=\"fig2.png\" width=500/>"
   ]
  },
  {
   "cell_type": "code",
   "execution_count": 12,
   "metadata": {
    "collapsed": false
   },
   "outputs": [
    {
     "data": {
      "text/plain": [
       "(array([0, 0]), 1.0)"
      ]
     },
     "execution_count": 12,
     "metadata": {},
     "output_type": "execute_result"
    }
   ],
   "source": [
    "theta0       = np.array([0,0])\n",
    "lambda_param = 1.0\n",
    "theta0, lambda_param"
   ]
  },
  {
   "cell_type": "code",
   "execution_count": 13,
   "metadata": {
    "collapsed": false
   },
   "outputs": [
    {
     "name": "stdout",
     "output_type": "stream",
     "text": [
      "Optimization terminated successfully.\n",
      "         Current function value: 22.379542\n",
      "         Iterations: 2\n",
      "         Function evaluations: 5\n",
      "         Gradient evaluations: 5\n"
     ]
    }
   ],
   "source": [
    "op_result = op.minimize(\n",
    "    fun=cost, \n",
    "    jac=grad, \n",
    "    x0=theta0, \n",
    "    args=(X_train, y_train, lambda_param), \n",
    "    method='CG', \n",
    "    options={'maxiter': 200, 'disp':True}\n",
    ")"
   ]
  },
  {
   "cell_type": "code",
   "execution_count": 14,
   "metadata": {
    "collapsed": false
   },
   "outputs": [
    {
     "data": {
      "text/plain": [
       "  status: 0\n",
       " success: True\n",
       "    njev: 5\n",
       "    nfev: 5\n",
       "     fun: 22.379541822940265\n",
       "       x: array([ 13.088,   0.368])\n",
       " message: 'Optimization terminated successfully.'\n",
       "     jac: array([  1.431e-13,  -7.036e-12])"
      ]
     },
     "execution_count": 14,
     "metadata": {},
     "output_type": "execute_result"
    }
   ],
   "source": [
    "op_result"
   ]
  },
  {
   "cell_type": "code",
   "execution_count": 15,
   "metadata": {
    "collapsed": false
   },
   "outputs": [],
   "source": [
    "theta_fit = op_result.x"
   ]
  },
  {
   "cell_type": "code",
   "execution_count": 16,
   "metadata": {
    "collapsed": false
   },
   "outputs": [
    {
     "data": {
      "image/png": "[encoded data removed]",
      "text/plain": [
       "<matplotlib.figure.Figure at 0x17fcaa58>"
      ]
     },
     "metadata": {},
     "output_type": "display_data"
    }
   ],
   "source": [
    "x   = np.linspace(-50,40,100)\n",
    "fit = theta_fit[0]+theta_fit[1]*x\n",
    "\n",
    "plt.scatter(X_train, y_train, color='r', marker='x', s=80, linewidth=2)\n",
    "plt.plot(x, fit, 'b')\n",
    "plt.xlabel(\"change in water level (x)\")\n",
    "plt.ylabel(\"water flowing out of the damn (y))\")\n",
    "plt.axis([-50, 40, -5, 40])\n",
    "plt.grid()\n",
    "plt.show()"
   ]
  }
 ],
 "metadata": {
  "kernelspec": {
   "display_name": "Python 2",
   "language": "python",
   "name": "python2"
  },
  "language_info": {
   "codemirror_mode": {
    "name": "ipython",
    "version": 2
   },
   "file_extension": ".py",
   "mimetype": "text/x-python",
   "name": "python",
   "nbconvert_exporter": "python",
   "pygments_lexer": "ipython2",
   "version": "2.7.10"
  }
 },
 "nbformat": 4,
 "nbformat_minor": 0
}
