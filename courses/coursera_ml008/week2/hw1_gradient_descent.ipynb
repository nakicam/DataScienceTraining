{
 "metadata": {
  "name": "",
  "signature": "sha256:c61ecb72f9ed38a58bab852272d817d335df411e28522edb34025c2ff14f908c"
 },
 "nbformat": 3,
 "nbformat_minor": 0,
 "worksheets": [
  {
   "cells": [
    {
     "cell_type": "markdown",
     "metadata": {},
     "source": [
      "# Gradient Descent and Linear Regression"
     ]
    },
    {
     "cell_type": "markdown",
     "metadata": {},
     "source": [
      "First consider the 1-D case.  Assume that $x$ is our dependent variable (feature) and $y$ is the variable we wish to predict (predictor).  Given a set of $m$ observations of ($x$, $y$) training values, we wish to find a model that predicts the data.  The linear model uses parameters $\\theta_0$ and $\\theta_1$ to construct a linear hypothesis:\n",
      "\n",
      "\\begin{align}\n",
      "h_{\\theta}(x) &= \\theta_0 + \\theta_1 x_1 \\\\\n",
      "&= \\boldsymbol{\\theta} \\cdot {\\bf x}\n",
      "\\end{align}\n",
      "\n",
      "In order to find an optimum model, we minimize the \"cost function\", $J(\\theta)$, w.r.t. $\\theta$ where\n",
      "\n",
      "$$J(\\theta) = \\frac{1}{2m} \\sum_{i=1}^{m} \\left( h_{\\theta}(x^{(i)}) - y^{(i)} \\right)^2 $$.\n",
      "\n",
      "\n",
      "The goal of regression is to find an optimum fit for a dataset using a linear model.\n",
      "\n",
      "Gradient descent is a numerical method to find that minimum if $J(\\theta)$ by incrementally moving towards the the minimum of the $\\theta$ parameter space.  An assumpution of this method is that the model is convex in parameter space.  This is done by walking to the minimum by taking steps defined by:\n",
      "\n",
      "\\begin{align}\n",
      "{\\bf \\theta} &\\leftarrow {\\bf \\theta} - \\alpha \\nabla J(\\theta) \\\\\n",
      "\\end{align}\n",
      "In index notation, \n",
      "\\begin{align}\n",
      "\\theta_f &\\leftarrow \\theta_f - \\alpha \\sum_{f=1}^{N_f} \\frac{\\partial}{\\partial \\theta_f} J(\\theta)\n",
      "\\end{align}\n",
      "where\n",
      "\\begin{align}\n",
      "\\frac{\\partial}{\\partial \\theta_f} J(\\theta) &=\n",
      "\\frac{1}{m} \\sum_{i=1}^{m} \\left(  \\sum_f \\theta_f x_f^{(i)} - y^{(i)} \\right) \\sum_{f'} \\frac{\\partial \\theta_{f'}}{\\partial \\theta_f} x_{f'}^{(i)} \\\\\n",
      "&= \\frac{1}{m} \\sum_{i=1}^{m} \\left( \\sum_f \\theta_f x_f^{(i)} - y^{(i)} \\right) \\sum_{f'} \\delta_{ff'} x_{f'}^{(i)} \\\\\n",
      "&= \\frac{1}{m} \\sum_{i=1}^{m} \\left( \\sum_f \\theta_f x_f^{(i)} - y^{(i)} \\right) x_{f}^{(i)} \\\\\n",
      "&= \\frac{1}{m} \\sum_{i=1}^{m} \\left( \\boldsymbol{\\theta} \\cdot {\\bf x}^{(i)} - y^{(i)} \\right) x_{f}^{(i)} \\\\\n",
      "\\end{align}\n",
      "\n",
      "where ${\\bf x}^{(i)} = (x_0^{(i)}, x_1^{(i)})$ for the $i^{th}$ datum.  \n",
      "\n",
      "## Implementation details\n",
      "\n",
      "When computing gradient descent in a program such as MATLAB or python, it is customary to represent the data as a Matrix.  This gives a matrix of the form:\n",
      "\n",
      "\\begin{align}\n",
      "{\\bf X} = \n",
      "\\left( \n",
      "\\begin{array}{ccc}\n",
      "1 & x_1^{(1)}\\\\\n",
      "1 & x_1^{(2)}\\\\\n",
      "\\vdots & \\vdots \\\\\n",
      "1 & x_1^{(m)}\\\\\n",
      "\\end{array} \n",
      "\\right)\n",
      "\\end{align}\n",
      "\n",
      "For convenience, we denote by $x_0^{(i)} = 1$:\n",
      "\n",
      "\\begin{align}\n",
      "{\\bf X} = \n",
      "\\left( \n",
      "\\begin{array}{ccc}\n",
      "x_0^{(1)} & x_1^{(1)}\\\\\n",
      "x_0^{(2)} & x_1^{(2)}\\\\\n",
      "\\vdots & \\vdots \\\\\n",
      "x_0^{(m)} & x_1^{(m)}\\\\\n",
      "\\end{array} \n",
      "\\right)\n",
      "\\end{align}\n",
      "\n",
      "Or you can think of each row as vector representing the $i^{th}$ data point.\n",
      "\n",
      "\\begin{align}\n",
      "{\\bf X} = \n",
      "\\left( \n",
      "\\begin{array}{c}\n",
      "-\\ {{\\bf x}^{(1)} }^T - \\\\\n",
      "-\\ {{\\bf x}^{(2)} }^T - \\\\\n",
      "\\vdots  \\\\\n",
      "-\\ {{\\bf x}^{(m)} }^T - \\\\\n",
      "\\end{array} \n",
      "\\right)\n",
      "\\end{align}\n",
      "\n",
      "Then $h_{\\theta}(x)$ becomes:\n",
      "\n",
      "\\begin{align}\n",
      "h_{{\\bf \\theta}}({\\bf X}) &= {\\bf \\theta}^T {\\bf X} \\\\\n",
      "&= {\\bf \\theta} \\cdot {\\bf X}\n",
      "\\end{align}"
     ]
    },
    {
     "cell_type": "markdown",
     "metadata": {},
     "source": [
      "## 1-D example\n",
      "\n",
      "Implement a 1-D linear regression with one variable to predict profits for a food truck.  You want to predict profits based on the size of the population of a city.\n"
     ]
    },
    {
     "cell_type": "markdown",
     "metadata": {},
     "source": [
      "### Setup Notebook"
     ]
    },
    {
     "cell_type": "code",
     "collapsed": false,
     "input": [
      "# setup notebook\n",
      "import numpy as np\n",
      "import pandas as pd\n",
      "import matplotlib.pyplot as plt\n",
      "import scipy.stats as st\n",
      "from IPython.display import display, Math, Latex\n",
      "import os\n",
      "os.chdir('%s/courses/coursera_ml008/week2' % os.getenv('DST'))\n",
      "print(os.getcwd())\n",
      "\n",
      "np.set_printoptions(precision=4)\n",
      "plt.rc('figure', figsize=(10, 8))"
     ],
     "language": "python",
     "metadata": {},
     "outputs": [
      {
       "output_type": "stream",
       "stream": "stdout",
       "text": [
        "C:\\Users\\J28976\\Documents\\Development\\dst\\courses\\coursera_ml008\\week2\n"
       ]
      }
     ],
     "prompt_number": 6
    },
    {
     "cell_type": "markdown",
     "metadata": {},
     "source": [
      "### Load data"
     ]
    },
    {
     "cell_type": "code",
     "collapsed": false,
     "input": [
      "df = pd.read_csv('ex1data1.txt', names=['population', 'profit'])\n",
      "df.head()"
     ],
     "language": "python",
     "metadata": {},
     "outputs": [
      {
       "html": [
        "<div style=\"max-height:1000px;max-width:1500px;overflow:auto;\">\n",
        "<table border=\"1\" class=\"dataframe\">\n",
        "  <thead>\n",
        "    <tr style=\"text-align: right;\">\n",
        "      <th></th>\n",
        "      <th>population</th>\n",
        "      <th>profit</th>\n",
        "    </tr>\n",
        "  </thead>\n",
        "  <tbody>\n",
        "    <tr>\n",
        "      <th>0</th>\n",
        "      <td> 6.1101</td>\n",
        "      <td> 17.5920</td>\n",
        "    </tr>\n",
        "    <tr>\n",
        "      <th>1</th>\n",
        "      <td> 5.5277</td>\n",
        "      <td>  9.1302</td>\n",
        "    </tr>\n",
        "    <tr>\n",
        "      <th>2</th>\n",
        "      <td> 8.5186</td>\n",
        "      <td> 13.6620</td>\n",
        "    </tr>\n",
        "    <tr>\n",
        "      <th>3</th>\n",
        "      <td> 7.0032</td>\n",
        "      <td> 11.8540</td>\n",
        "    </tr>\n",
        "    <tr>\n",
        "      <th>4</th>\n",
        "      <td> 5.8598</td>\n",
        "      <td>  6.8233</td>\n",
        "    </tr>\n",
        "  </tbody>\n",
        "</table>\n",
        "</div>"
       ],
       "metadata": {},
       "output_type": "pyout",
       "prompt_number": 23,
       "text": [
        "   population   profit\n",
        "0      6.1101  17.5920\n",
        "1      5.5277   9.1302\n",
        "2      8.5186  13.6620\n",
        "3      7.0032  11.8540\n",
        "4      5.8598   6.8233"
       ]
      }
     ],
     "prompt_number": 23
    },
    {
     "cell_type": "markdown",
     "metadata": {},
     "source": [
      "construct the $\\bf{X}$ and $\\bf{y}$ matrices:"
     ]
    },
    {
     "cell_type": "code",
     "collapsed": false,
     "input": [
      "df.insert(loc=0, column='constant', value=np.ones(df.population.shape))\n",
      "df.head()"
     ],
     "language": "python",
     "metadata": {},
     "outputs": [
      {
       "html": [
        "<div style=\"max-height:1000px;max-width:1500px;overflow:auto;\">\n",
        "<table border=\"1\" class=\"dataframe\">\n",
        "  <thead>\n",
        "    <tr style=\"text-align: right;\">\n",
        "      <th></th>\n",
        "      <th>constant</th>\n",
        "      <th>population</th>\n",
        "      <th>profit</th>\n",
        "    </tr>\n",
        "  </thead>\n",
        "  <tbody>\n",
        "    <tr>\n",
        "      <th>0</th>\n",
        "      <td> 1</td>\n",
        "      <td> 6.1101</td>\n",
        "      <td> 17.5920</td>\n",
        "    </tr>\n",
        "    <tr>\n",
        "      <th>1</th>\n",
        "      <td> 1</td>\n",
        "      <td> 5.5277</td>\n",
        "      <td>  9.1302</td>\n",
        "    </tr>\n",
        "    <tr>\n",
        "      <th>2</th>\n",
        "      <td> 1</td>\n",
        "      <td> 8.5186</td>\n",
        "      <td> 13.6620</td>\n",
        "    </tr>\n",
        "    <tr>\n",
        "      <th>3</th>\n",
        "      <td> 1</td>\n",
        "      <td> 7.0032</td>\n",
        "      <td> 11.8540</td>\n",
        "    </tr>\n",
        "    <tr>\n",
        "      <th>4</th>\n",
        "      <td> 1</td>\n",
        "      <td> 5.8598</td>\n",
        "      <td>  6.8233</td>\n",
        "    </tr>\n",
        "  </tbody>\n",
        "</table>\n",
        "</div>"
       ],
       "metadata": {},
       "output_type": "pyout",
       "prompt_number": 24,
       "text": [
        "   constant  population   profit\n",
        "0         1      6.1101  17.5920\n",
        "1         1      5.5277   9.1302\n",
        "2         1      8.5186  13.6620\n",
        "3         1      7.0032  11.8540\n",
        "4         1      5.8598   6.8233"
       ]
      }
     ],
     "prompt_number": 24
    },
    {
     "cell_type": "code",
     "collapsed": false,
     "input": [
      "X = np.matrix(df.as_matrix(['constant', 'population']))\n",
      "X[0:5,:]"
     ],
     "language": "python",
     "metadata": {},
     "outputs": [
      {
       "metadata": {},
       "output_type": "pyout",
       "prompt_number": 35,
       "text": [
        "matrix([[ 1.    ,  6.1101],\n",
        "        [ 1.    ,  5.5277],\n",
        "        [ 1.    ,  8.5186],\n",
        "        [ 1.    ,  7.0032],\n",
        "        [ 1.    ,  5.8598]])"
       ]
      }
     ],
     "prompt_number": 35
    },
    {
     "cell_type": "code",
     "collapsed": false,
     "input": [
      "x = X[:,1]\n",
      "x[0:5]"
     ],
     "language": "python",
     "metadata": {},
     "outputs": [
      {
       "metadata": {},
       "output_type": "pyout",
       "prompt_number": 39,
       "text": [
        "matrix([[ 6.1101],\n",
        "        [ 5.5277],\n",
        "        [ 8.5186],\n",
        "        [ 7.0032],\n",
        "        [ 5.8598]])"
       ]
      }
     ],
     "prompt_number": 39
    },
    {
     "cell_type": "code",
     "collapsed": false,
     "input": [
      "y = np.matrix(df.as_matrix(['profit']))\n",
      "y[0:5,:]"
     ],
     "language": "python",
     "metadata": {},
     "outputs": [
      {
       "metadata": {},
       "output_type": "pyout",
       "prompt_number": 37,
       "text": [
        "matrix([[ 17.592 ],\n",
        "        [  9.1302],\n",
        "        [ 13.662 ],\n",
        "        [ 11.854 ],\n",
        "        [  6.8233]])"
       ]
      }
     ],
     "prompt_number": 37
    },
    {
     "cell_type": "markdown",
     "metadata": {},
     "source": [
      "plot it"
     ]
    },
    {
     "cell_type": "code",
     "collapsed": false,
     "input": [
      "plt.plot(x,y, 'rx')\n",
      "plt.ylabel('profit in $10k')\n",
      "plt.xlabel('population in 10k')"
     ],
     "language": "python",
     "metadata": {},
     "outputs": [
      {
       "metadata": {},
       "output_type": "pyout",
       "prompt_number": 43,
       "text": [
        "<matplotlib.text.Text at 0xa1e0278>"
       ]
      },
      {
       "metadata": {},
       "output_type": "display_data",
       "png": "[encoded data removed]",
       "text": [
        "<matplotlib.figure.Figure at 0xa1c8da0>"
       ]
      }
     ],
     "prompt_number": 43
    }
   ],
   "metadata": {}
  }
 ]
}