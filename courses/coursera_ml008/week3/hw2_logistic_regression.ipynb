{
 "metadata": {
  "name": "",
  "signature": "sha256:d8e21bee96d2af0b36bec1e18d6910691ec7fd9b5306de12f1b894964c9a4228"
 },
 "nbformat": 3,
 "nbformat_minor": 0,
 "worksheets": [
  {
   "cells": [
    {
     "cell_type": "markdown",
     "metadata": {},
     "source": [
      "# Logistic Regression"
     ]
    },
    {
     "cell_type": "markdown",
     "metadata": {},
     "source": [
      "In this exercise, we build a logistic regression model to predict whether a student gets admitted into a university.\n",
      "\n",
      "Assume that you are a admissions officer and you are building your model based on two exam scores.  You have historical data (training) data with the results of the two exams and whether the applicant was admitted.  The task is build a classifier to detemine whether an applicant should be admitted."
     ]
    },
    {
     "cell_type": "markdown",
     "metadata": {},
     "source": [
      "## Notebook Setup"
     ]
    },
    {
     "cell_type": "code",
     "collapsed": false,
     "input": [
      "import itertools as it\n",
      "import numpy as np\n",
      "import pandas as pd\n",
      "import matplotlib.pyplot as plt\n",
      "import scipy.stats as st\n",
      "from IPython.display import display, Math, Latex\n",
      "import os\n",
      "os.chdir('%s/courses/coursera_ml008/week3' % os.getenv('DST'))\n",
      "print(os.getcwd())\n",
      "\n",
      "# plotting options\n",
      "np.set_printoptions(precision=4)\n",
      "plt.rc('font'  , size=18)\n",
      "plt.rc('figure', figsize=(10, 8))\n",
      "plt.rc('axes'  , labelsize=22)\n",
      "plt.rc('legend', fontsize=16)\n",
      "\n",
      "np.set_printoptions(precision=4)\n",
      "plt.rc('figure', figsize=(10, 8))"
     ],
     "language": "python",
     "metadata": {},
     "outputs": [
      {
       "output_type": "stream",
       "stream": "stdout",
       "text": [
        "/Users/rwk7t/Development/dst/courses/coursera_ml008/week3\n"
       ]
      }
     ],
     "prompt_number": 3
    },
    {
     "cell_type": "markdown",
     "metadata": {},
     "source": [
      "## Visualize the data\n",
      "\n",
      "First let's visualze the training data so get a feel for what we're looking at."
     ]
    },
    {
     "cell_type": "markdown",
     "metadata": {},
     "source": [
      "### load input data"
     ]
    },
    {
     "cell_type": "code",
     "collapsed": false,
     "input": [
      "df = pd.read_csv('ex2data1.txt', names=['exam1', 'exam2', 'admit'])\n",
      "df.head()"
     ],
     "language": "python",
     "metadata": {},
     "outputs": [
      {
       "html": [
        "<div style=\"max-height:1000px;max-width:1500px;overflow:auto;\">\n",
        "<table border=\"1\" class=\"dataframe\">\n",
        "  <thead>\n",
        "    <tr style=\"text-align: right;\">\n",
        "      <th></th>\n",
        "      <th>exam1</th>\n",
        "      <th>exam2</th>\n",
        "      <th>admit</th>\n",
        "    </tr>\n",
        "  </thead>\n",
        "  <tbody>\n",
        "    <tr>\n",
        "      <th>0</th>\n",
        "      <td> 34.623660</td>\n",
        "      <td> 78.024693</td>\n",
        "      <td> 0</td>\n",
        "    </tr>\n",
        "    <tr>\n",
        "      <th>1</th>\n",
        "      <td> 30.286711</td>\n",
        "      <td> 43.894998</td>\n",
        "      <td> 0</td>\n",
        "    </tr>\n",
        "    <tr>\n",
        "      <th>2</th>\n",
        "      <td> 35.847409</td>\n",
        "      <td> 72.902198</td>\n",
        "      <td> 0</td>\n",
        "    </tr>\n",
        "    <tr>\n",
        "      <th>3</th>\n",
        "      <td> 60.182599</td>\n",
        "      <td> 86.308552</td>\n",
        "      <td> 1</td>\n",
        "    </tr>\n",
        "    <tr>\n",
        "      <th>4</th>\n",
        "      <td> 79.032736</td>\n",
        "      <td> 75.344376</td>\n",
        "      <td> 1</td>\n",
        "    </tr>\n",
        "  </tbody>\n",
        "</table>\n",
        "</div>"
       ],
       "metadata": {},
       "output_type": "pyout",
       "prompt_number": 4,
       "text": [
        "       exam1      exam2  admit\n",
        "0  34.623660  78.024693      0\n",
        "1  30.286711  43.894998      0\n",
        "2  35.847409  72.902198      0\n",
        "3  60.182599  86.308552      1\n",
        "4  79.032736  75.344376      1"
       ]
      }
     ],
     "prompt_number": 4
    },
    {
     "cell_type": "code",
     "collapsed": false,
     "input": [
      "colors  = np.where(df.admit==1, 'black', 'yellow')\n",
      "markers = np.where(df.admit==1, '+', 'O')\n",
      "df_pass = df[df.admit==1]\n",
      "df_fail = df[df.admit==0]\n",
      "plt.scatter(df_pass.exam1, df_pass.exam2, c='k', marker='+', s=50)\n",
      "plt.scatter(df_fail.exam1, df_fail.exam2, c='y', marker='o', s=50)\n",
      "plt.axis([30, 100, 30, 100])\n",
      "plt.xlabel('exam 1 score')\n",
      "plt.ylabel('exam 2 score')\n",
      "plt.legend(['admitted', 'not admitted'])\n",
      "plt.show()"
     ],
     "language": "python",
     "metadata": {},
     "outputs": [
      {
       "metadata": {},
       "output_type": "display_data",
       "png": "[encoded data removed]",
       "text": [
        "<matplotlib.figure.Figure at 0x10f2aca10>"
       ]
      }
     ],
     "prompt_number": 5
    },
    {
     "cell_type": "markdown",
     "metadata": {},
     "source": [
      "#### prepare inputs\n",
      "\n",
      "**recall:** \n",
      "* rows $\\rightarrow$ training dimension\n",
      "* cols $\\rightarrow$ feature dimension"
     ]
    },
    {
     "cell_type": "code",
     "collapsed": false,
     "input": [
      "y = np.asmatrix(df.admit.values).T\n",
      "m = y.shape[0]\n",
      "m, y[0:5,:]"
     ],
     "language": "python",
     "metadata": {},
     "outputs": [
      {
       "metadata": {},
       "output_type": "pyout",
       "prompt_number": 6,
       "text": [
        "(100, matrix([[0],\n",
        "         [0],\n",
        "         [0],\n",
        "         [1],\n",
        "         [1]]))"
       ]
      }
     ],
     "prompt_number": 6
    },
    {
     "cell_type": "code",
     "collapsed": false,
     "input": [
      "X = np.append(np.ones_like(y), np.asmatrix(df[['exam1', 'exam2']]), axis=1)\n",
      "n = X.shape[1]\n",
      "n, X[0:5, :]"
     ],
     "language": "python",
     "metadata": {},
     "outputs": [
      {
       "metadata": {},
       "output_type": "pyout",
       "prompt_number": 7,
       "text": [
        "(3, matrix([[  1.    ,  34.6237,  78.0247],\n",
        "         [  1.    ,  30.2867,  43.895 ],\n",
        "         [  1.    ,  35.8474,  72.9022],\n",
        "         [  1.    ,  60.1826,  86.3086],\n",
        "         [  1.    ,  79.0327,  75.3444]]))"
       ]
      }
     ],
     "prompt_number": 7
    },
    {
     "cell_type": "code",
     "collapsed": false,
     "input": [
      "theta = np.matrix(np.zeros((1,n)))\n",
      "theta"
     ],
     "language": "python",
     "metadata": {},
     "outputs": [
      {
       "metadata": {},
       "output_type": "pyout",
       "prompt_number": 8,
       "text": [
        "matrix([[ 0.,  0.,  0.]])"
       ]
      }
     ],
     "prompt_number": 8
    },
    {
     "cell_type": "markdown",
     "metadata": {},
     "source": [
      "## sigmoid function\n",
      "\n",
      "Recall that the hypothesis for logicstic regress is defined as\n",
      "\n",
      "\\begin{align}\n",
      "    h_{\\theta} = g\\left({\\bf \\theta}^T {\\bf x}\\right)\n",
      "\\end{align}\n",
      "\n",
      "where the function g is the sigmoid function:\n",
      "\n",
      "\\begin{align}\n",
      "    g(z) = \\frac{1}{1 + e^{-z}}\n",
      "\\end{align}"
     ]
    },
    {
     "cell_type": "code",
     "collapsed": false,
     "input": [
      "def g(z):\n",
      "    return 1.0/(1 + np.exp(-z))"
     ],
     "language": "python",
     "metadata": {},
     "outputs": [],
     "prompt_number": 9
    },
    {
     "cell_type": "code",
     "collapsed": false,
     "input": [
      "g(-100), g(0), g(100)"
     ],
     "language": "python",
     "metadata": {},
     "outputs": [
      {
       "metadata": {},
       "output_type": "pyout",
       "prompt_number": 10,
       "text": [
        "(3.7200759760208356e-44, 0.5, 1.0)"
       ]
      }
     ],
     "prompt_number": 10
    },
    {
     "cell_type": "code",
     "collapsed": false,
     "input": [
      "z = np.linspace(-50,50, 1000)\n",
      "plt.plot(z, g(z))\n",
      "plt.axis([-50, 50, -0.5, 1.5])\n",
      "plt.xlabel(\"z\")\n",
      "plt.ylabel(\"g(z)\")"
     ],
     "language": "python",
     "metadata": {},
     "outputs": [
      {
       "metadata": {},
       "output_type": "pyout",
       "prompt_number": 11,
       "text": [
        "<matplotlib.text.Text at 0x10f2c8610>"
       ]
      },
      {
       "metadata": {},
       "output_type": "display_data",
       "png": "[encoded data removed]",
       "text": [
        "<matplotlib.figure.Figure at 0x10f293a90>"
       ]
      }
     ],
     "prompt_number": 11
    },
    {
     "cell_type": "code",
     "collapsed": false,
     "input": [
      "    &= g^2(e^{-z}) \\\\\n",
      "    &= g^2(1 - 1 + e^{-z}) \\\\\n",
      "    &= g^2(\\frac{1}{g} - 1) \\\\\n",
      "    &= g(z)(1 - g(z)) \\\\"
     ],
     "language": "python",
     "metadata": {},
     "outputs": []
    },
    {
     "cell_type": "markdown",
     "metadata": {},
     "source": [
      "## cost function\n",
      "\n",
      "Recall the cost function for logistic regression is given by:\n",
      "\n",
      "\\begin{align}\n",
      "    J(\\theta) &= \\frac{1}{2m} \\sum_{i=1}^{m} \\left( h_{\\theta}(x^{(i)}) - y^{(i)} \\right)^2 \\\\\n",
      "              &= \\frac{1}{2m} \\sum_{i=1}^{m} \\left( \\frac{1}{1 + e^{{\\bf \\theta}^T{\\bf x}^{(i)}}} - y^{(i)} \\right)^2\n",
      "\\end{align}\n",
      "\n",
      "which can be rewritten as:\n",
      "\n",
      "\\begin{align}\n",
      "    J(\\theta) &= \\frac{1}{m} \\sum_{i=1}^{m} \\left[-y^{(i)}\\log\\left\\{h_{\\theta}(x^{(i)})\\right\\} - (1 - y^{(i)})\\log\\left\\{1 - h_{\\theta}(x^{(i)})\\right\\} \\right]\n",
      "\\end{align}\n",
      "\n",
      "When implementing the cost function, we also evaluate the gradient in oder to update theta for each iteration:\n",
      "\n",
      "\\begin{align}\n",
      "    {\\bf \\theta} &\\leftarrow {\\bf \\theta} - \\alpha \\nabla_{\\theta} J(\\theta) \\\\\n",
      "\\end{align}\n",
      "\n",
      "### $\\nabla_{\\theta} J(\\theta)$ \n",
      "\n",
      "To evaluate $\\nabla_{\\theta} J(\\theta)$ and simplify the calculation:\n",
      "\n",
      "let $z = {\\bf \\theta}^T {\\bf x}$\n",
      "\n",
      "Also, \n",
      "\n",
      "\\begin{align}\n",
      "    \\frac{d}{dz}g(z) \n",
      "    &= \\frac{d}{dz}\\left\\{\\frac{1}{1 + e^{-z}}\\right\\} \\\\\n",
      "    &= \\frac{e^{-z}}{(1 + e^{-z})^2} \\\\\n",
      "    &= g^2(e^{-z}) \\\\\n",
      "    &= g^2(1 - 1 + e^{-z}) \\\\\n",
      "    &= g^2(\\frac{1}{g} - 1) \\\\\n",
      "    &= g(z)(1 - g(z)) \\\\\n",
      "\\end{align}\n",
      "\n",
      "so,\n",
      "\n",
      "\\begin{align}\n",
      "    \\frac{\\partial}{\\partial \\theta_f} J(\\theta)\n",
      "    &= \\frac{\\partial}{\\partial \\theta_f} \\frac{1}{m} \\sum_{i=1}^{m} \\left[-y^{(i)}\\log\\left\\{g(z^{(i)})\\right\\} - (1 - y^{(i)})\\log\\left\\{1 - g(z^{(i)})\\right\\} \\right] \\\\\n",
      "    &= \\frac{1}{m} \\sum_{i=1}^{m} \\frac{\\partial}{\\partial \\theta_f} \\left[-y^{(i)}\\log\\left\\{g(z^{(i)})\\right\\} - (1 - y^{(i)})\\log\\left\\{1 - g(z^{(i)})\\right\\} \\right] \\\\\n",
      "\\end{align}\n",
      "\n",
      "suppressing the superscript $i$ for the moment, consider the argument of the summation over $i$:\n",
      "\n",
      "\\begin{align}\n",
      "    &= \\frac{\\partial}{\\partial \\theta_f} \\left[-y\\log\\left\\{g(z))\\right\\} - (1 - y)\\log\\left\\{1 - g(z)\\right\\} \\right] \\\\\n",
      "    &= -y \\frac{1}{g} \\frac{dg}{dz}\\frac{\\partial z}{\\partial \\theta_j} - (1 - y)\\left\\{\\frac{1}{1-g}\\right\\}(-1)\\frac{\\partial z}{\\partial \\theta_j}\\frac{\\partial z}{\\partial \\theta_j} \\\\\n",
      "    &= (-y (1 - g) + (1 - y)g) \\left\\{\\frac{1}{g(1-g)}\\right\\} \\frac{dg}{dz}\\frac{\\partial z}{\\partial \\theta_j} \\\\\n",
      "    &= (-y (1 - g) + (1 - y)g) \\left\\{\\frac{1}{g(1-g)}\\right\\} \\left\\{g(1-g)\\right\\}\\sum_{k}\\frac{\\partial}{\\partial \\theta_k}{\\theta_f x_f} \\\\ \n",
      "    &= (g - y)x_f\n",
      "\\end{align}\n",
      "\n",
      "Returning to full equation, we get:\n",
      "\n",
      "\\begin{align}\n",
      "    \\frac{\\partial}{\\partial \\theta_f} J(\\theta)\n",
      "    &= \\frac{1}{m} \\sum_{i=1}^{m} \\left( \\boldsymbol{\\theta} \\cdot {\\bf x}^{(i)} - y^{(i)} \\right) x_{f}^{(i)} \\\\\n",
      "\\end{align}"
     ]
    },
    {
     "cell_type": "code",
     "collapsed": false,
     "input": [
      "def h(X, theta):\n",
      "    return g(X*theta.T)"
     ],
     "language": "python",
     "metadata": {},
     "outputs": [],
     "prompt_number": 12
    },
    {
     "cell_type": "code",
     "collapsed": false,
     "input": [
      "def cost(X, y, theta):\n",
      "    m = len(y) # size of training set\n",
      "    \n",
      "    # cost function\n",
      "    J = (1.0/m) * np.sum(-y.T * np.log(h(X,theta)) - (1-y).T*np.log(1 - h(X,theta)))\n",
      "    \n",
      "    # gradient of cost function             \n",
      "    grad_J = (1.0/m)*(X*theta.T - y).T*X\n",
      "    \n",
      "    return (J, grad_J)"
     ],
     "language": "python",
     "metadata": {},
     "outputs": [],
     "prompt_number": 16
    },
    {
     "cell_type": "code",
     "collapsed": false,
     "input": [
      "cost(X, y, theta)"
     ],
     "language": "python",
     "metadata": {},
     "outputs": [
      {
       "metadata": {},
       "output_type": "pyout",
       "prompt_number": 17,
       "text": [
        "(0.69314718055994529, matrix([[ -0.6   , -44.8314, -44.3738]]))"
       ]
      }
     ],
     "prompt_number": 17
    },
    {
     "cell_type": "code",
     "collapsed": false,
     "input": [],
     "language": "python",
     "metadata": {},
     "outputs": []
    }
   ],
   "metadata": {}
  }
 ]
}