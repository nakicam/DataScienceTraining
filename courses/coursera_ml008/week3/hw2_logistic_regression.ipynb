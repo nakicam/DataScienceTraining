{
 "metadata": {
  "name": "",
  "signature": "sha256:39ca3cf52c6f2e1c2f2b2880efd93cc2301e48a12a55aacebd1c31985500f61d"
 },
 "nbformat": 3,
 "nbformat_minor": 0,
 "worksheets": [
  {
   "cells": [
    {
     "cell_type": "markdown",
     "metadata": {},
     "source": [
      "# Logistic Regression"
     ]
    },
    {
     "cell_type": "markdown",
     "metadata": {},
     "source": [
      "In this exercise, we build a logistic regression model to predict whether a student gets admitted into a university.\n",
      "\n",
      "Assume that you are a admissions officer and you are building your model based on two exam scores.  You have historical data (training) data with the results of the two exams and whether the applicant was admitted.  The task is build a classifier to detemine whether an applicant should be admitted."
     ]
    },
    {
     "cell_type": "markdown",
     "metadata": {},
     "source": [
      "### Notebook Setup"
     ]
    },
    {
     "cell_type": "code",
     "collapsed": false,
     "input": [
      "import itertools as it\n",
      "import numpy as np\n",
      "import pandas as pd\n",
      "import matplotlib.pyplot as plt\n",
      "import scipy.stats as st\n",
      "import scipy.misc\n",
      "import scipy.optimize as op\n",
      "from IPython.display import display, Math, Latex\n",
      "import os\n",
      "os.chdir('%s/courses/coursera_ml008/week3' % os.getenv('DST'))\n",
      "print(os.getcwd())\n",
      "\n",
      "# plotting options\n",
      "np.set_printoptions(precision=4)\n",
      "plt.rc('font'  , size=18)\n",
      "plt.rc('figure', figsize=(10, 8))\n",
      "plt.rc('axes'  , labelsize=22)\n",
      "plt.rc('legend', fontsize=16)\n",
      "\n",
      "np.set_printoptions(precision=4)\n",
      "plt.rc('figure', figsize=(10, 8))"
     ],
     "language": "python",
     "metadata": {},
     "outputs": [
      {
       "output_type": "stream",
       "stream": "stdout",
       "text": [
        "/Users/rwk7t/Development/dst/courses/coursera_ml008/week3\n"
       ]
      }
     ],
     "prompt_number": 308
    },
    {
     "cell_type": "markdown",
     "metadata": {},
     "source": [
      "### Visualize the data\n",
      "\n",
      "First let's visualze the training data so get a feel for what we're looking at."
     ]
    },
    {
     "cell_type": "markdown",
     "metadata": {},
     "source": [
      "#### load input data"
     ]
    },
    {
     "cell_type": "code",
     "collapsed": false,
     "input": [
      "df = pd.read_csv('ex2data1.txt', names=['exam1', 'exam2', 'admit'])\n",
      "df.head()"
     ],
     "language": "python",
     "metadata": {},
     "outputs": [
      {
       "html": [
        "<div style=\"max-height:1000px;max-width:1500px;overflow:auto;\">\n",
        "<table border=\"1\" class=\"dataframe\">\n",
        "  <thead>\n",
        "    <tr style=\"text-align: right;\">\n",
        "      <th></th>\n",
        "      <th>exam1</th>\n",
        "      <th>exam2</th>\n",
        "      <th>admit</th>\n",
        "    </tr>\n",
        "  </thead>\n",
        "  <tbody>\n",
        "    <tr>\n",
        "      <th>0</th>\n",
        "      <td> 34.623660</td>\n",
        "      <td> 78.024693</td>\n",
        "      <td> 0</td>\n",
        "    </tr>\n",
        "    <tr>\n",
        "      <th>1</th>\n",
        "      <td> 30.286711</td>\n",
        "      <td> 43.894998</td>\n",
        "      <td> 0</td>\n",
        "    </tr>\n",
        "    <tr>\n",
        "      <th>2</th>\n",
        "      <td> 35.847409</td>\n",
        "      <td> 72.902198</td>\n",
        "      <td> 0</td>\n",
        "    </tr>\n",
        "    <tr>\n",
        "      <th>3</th>\n",
        "      <td> 60.182599</td>\n",
        "      <td> 86.308552</td>\n",
        "      <td> 1</td>\n",
        "    </tr>\n",
        "    <tr>\n",
        "      <th>4</th>\n",
        "      <td> 79.032736</td>\n",
        "      <td> 75.344376</td>\n",
        "      <td> 1</td>\n",
        "    </tr>\n",
        "  </tbody>\n",
        "</table>\n",
        "</div>"
       ],
       "metadata": {},
       "output_type": "pyout",
       "prompt_number": 275,
       "text": [
        "       exam1      exam2  admit\n",
        "0  34.623660  78.024693      0\n",
        "1  30.286711  43.894998      0\n",
        "2  35.847409  72.902198      0\n",
        "3  60.182599  86.308552      1\n",
        "4  79.032736  75.344376      1"
       ]
      }
     ],
     "prompt_number": 275
    },
    {
     "cell_type": "code",
     "collapsed": false,
     "input": [
      "colors  = np.where(df.admit==1, 'black', 'yellow')\n",
      "markers = np.where(df.admit==1, '+', 'O')\n",
      "df_pass = df[df.admit==1]\n",
      "df_fail = df[df.admit==0]\n",
      "plt.scatter(df_pass.exam1, df_pass.exam2, c='k', marker='+', s=50)\n",
      "plt.scatter(df_fail.exam1, df_fail.exam2, c='y', marker='o', s=50)\n",
      "plt.axis([30, 100, 30, 100])\n",
      "plt.xlabel('exam 1 score')\n",
      "plt.ylabel('exam 2 score')\n",
      "plt.legend(['admitted', 'not admitted'])\n",
      "plt.show()"
     ],
     "language": "python",
     "metadata": {},
     "outputs": [
      {
       "metadata": {},
       "output_type": "display_data",
       "png": "[encoded data removed]",
       "text": [
        "<matplotlib.figure.Figure at 0x10fe98590>"
       ]
      }
     ],
     "prompt_number": 276
    },
    {
     "cell_type": "markdown",
     "metadata": {},
     "source": [
      "#### prepare inputs\n",
      "\n",
      "**recall:** \n",
      "* rows $\\rightarrow$ training dimension\n",
      "* cols $\\rightarrow$ feature dimension"
     ]
    },
    {
     "cell_type": "code",
     "collapsed": false,
     "input": [
      "y = np.asmatrix(df.admit.values).T\n",
      "m = y.shape[0]\n",
      "m, y[0:5,:]"
     ],
     "language": "python",
     "metadata": {},
     "outputs": [
      {
       "metadata": {},
       "output_type": "pyout",
       "prompt_number": 277,
       "text": [
        "(100, matrix([[0],\n",
        "         [0],\n",
        "         [0],\n",
        "         [1],\n",
        "         [1]]))"
       ]
      }
     ],
     "prompt_number": 277
    },
    {
     "cell_type": "code",
     "collapsed": false,
     "input": [
      "X = np.append(np.ones_like(y), np.asmatrix(df[['exam1', 'exam2']]), axis=1)\n",
      "n = X.shape[1]\n",
      "n, X[0:5, :]"
     ],
     "language": "python",
     "metadata": {},
     "outputs": [
      {
       "metadata": {},
       "output_type": "pyout",
       "prompt_number": 278,
       "text": [
        "(3, matrix([[  1.    ,  34.6237,  78.0247],\n",
        "         [  1.    ,  30.2867,  43.895 ],\n",
        "         [  1.    ,  35.8474,  72.9022],\n",
        "         [  1.    ,  60.1826,  86.3086],\n",
        "         [  1.    ,  79.0327,  75.3444]]))"
       ]
      }
     ],
     "prompt_number": 278
    },
    {
     "cell_type": "code",
     "collapsed": false,
     "input": [
      "theta0 = np.matrix(np.zeros((1,n)))\n",
      "theta0"
     ],
     "language": "python",
     "metadata": {},
     "outputs": [
      {
       "metadata": {},
       "output_type": "pyout",
       "prompt_number": 279,
       "text": [
        "matrix([[ 0.,  0.,  0.]])"
       ]
      }
     ],
     "prompt_number": 279
    },
    {
     "cell_type": "markdown",
     "metadata": {},
     "source": [
      "## sigmoid function\n",
      "\n",
      "Recall that the hypothesis for logicstic regress is defined as\n",
      "\n",
      "\\begin{align}\n",
      "    h_{\\theta} = g\\left({\\bf \\theta}^T {\\bf x}\\right)\n",
      "\\end{align}\n",
      "\n",
      "where the function g is the sigmoid function:\n",
      "\n",
      "\\begin{align}\n",
      "    g(z) = \\frac{1}{1 + e^{-z}}\n",
      "\\end{align}"
     ]
    },
    {
     "cell_type": "code",
     "collapsed": false,
     "input": [
      "def g(z):\n",
      "    return 1.0/(1 + np.exp(-z))"
     ],
     "language": "python",
     "metadata": {},
     "outputs": [],
     "prompt_number": 280
    },
    {
     "cell_type": "code",
     "collapsed": false,
     "input": [
      "g(-100), g(0), g(100)"
     ],
     "language": "python",
     "metadata": {},
     "outputs": [
      {
       "metadata": {},
       "output_type": "pyout",
       "prompt_number": 281,
       "text": [
        "(3.7200759760208356e-44, 0.5, 1.0)"
       ]
      }
     ],
     "prompt_number": 281
    },
    {
     "cell_type": "code",
     "collapsed": false,
     "input": [
      "z = np.linspace(-50,50, 1000)\n",
      "plt.plot(z, g(z))\n",
      "plt.axis([-50, 50, -0.5, 1.5])\n",
      "plt.xlabel(\"z\")\n",
      "plt.ylabel(\"g(z)\")"
     ],
     "language": "python",
     "metadata": {},
     "outputs": [
      {
       "metadata": {},
       "output_type": "pyout",
       "prompt_number": 282,
       "text": [
        "<matplotlib.text.Text at 0x10fe88c10>"
       ]
      },
      {
       "metadata": {},
       "output_type": "display_data",
       "png": "[encoded data removed]",
       "text": [
        "<matplotlib.figure.Figure at 0x1117b19d0>"
       ]
      }
     ],
     "prompt_number": 282
    },
    {
     "cell_type": "markdown",
     "metadata": {},
     "source": [
      "## cost function\n",
      "\n",
      "Recall the cost function for logistic regression is given by:\n",
      "\n",
      "\\begin{align}\n",
      "    J(\\theta) &= \\frac{1}{2m} \\sum_{i=1}^{m} \\left( h_{\\theta}(x^{(i)}) - y^{(i)} \\right)^2 \\\\\n",
      "              &= \\frac{1}{2m} \\sum_{i=1}^{m} \\left( \\frac{1}{1 + e^{{\\bf \\theta}^T{\\bf x}^{(i)}}} - y^{(i)} \\right)^2\n",
      "\\end{align}\n",
      "\n",
      "which can be rewritten as:\n",
      "\n",
      "\\begin{align}\n",
      "    J(\\theta) &= \\frac{1}{m} \\sum_{i=1}^{m} \\left[-y^{(i)}\\log\\left\\{h_{\\theta}(x^{(i)})\\right\\} - (1 - y^{(i)})\\log\\left\\{1 - h_{\\theta}(x^{(i)})\\right\\} \\right]\n",
      "\\end{align}\n",
      "\n",
      "When implementing the cost function, we also evaluate the gradient in oder to update theta for each iteration:\n",
      "\n",
      "\\begin{align}\n",
      "    {\\bf \\theta} &\\leftarrow {\\bf \\theta} - \\alpha \\nabla_{\\theta} J(\\theta) \\\\\n",
      "\\end{align}\n",
      "\n",
      "To evaluate $\\nabla_{\\theta} J(\\theta)$ and simplify the calculation:\n",
      "\n",
      "let $z = {\\bf \\theta}^T {\\bf x}$\n",
      "\n",
      "Also, \n",
      "\n",
      "\\begin{align}\n",
      "    \\frac{d}{dz}g(z) \n",
      "    &= \\frac{d}{dz}\\left\\{\\frac{1}{1 + e^{-z}}\\right\\} \\\\\n",
      "    &= \\frac{e^{-z}}{(1 + e^{-z})^2} \\\\\n",
      "    &= g^2(e^{-z}) \\\\\n",
      "    &= g^2(1 - 1 + e^{-z}) \\\\\n",
      "    &= g^2(\\frac{1}{g} - 1) \\\\\n",
      "    &= g(z)(1 - g(z)) \\\\\n",
      "\\end{align}\n",
      "\n",
      "so,\n",
      "\n",
      "\\begin{align}\n",
      "    \\frac{\\partial}{\\partial \\theta_f} J(\\theta)\n",
      "    &= \\frac{\\partial}{\\partial \\theta_f} \\frac{1}{m} \\sum_{i=1}^{m} \\left[-y^{(i)}\\log\\left\\{g(z^{(i)})\\right\\} - (1 - y^{(i)})\\log\\left\\{1 - g(z^{(i)})\\right\\} \\right] \\\\\n",
      "    &= \\frac{1}{m} \\sum_{i=1}^{m} \\frac{\\partial}{\\partial \\theta_f} \\left[-y^{(i)}\\log\\left\\{g(z^{(i)})\\right\\} - (1 - y^{(i)})\\log\\left\\{1 - g(z^{(i)})\\right\\} \\right] \\\\\n",
      "\\end{align}\n",
      "\n",
      "suppressing the superscript $i$ for the moment, consider the argument of the summation over $i$:\n",
      "\n",
      "\\begin{align}\n",
      "    &= \\frac{\\partial}{\\partial \\theta_f} \\left[-y\\log\\left\\{g(z))\\right\\} - (1 - y)\\log\\left\\{1 - g(z)\\right\\} \\right] \\\\\n",
      "    &= -y \\frac{1}{g} \\frac{dg}{dz}\\frac{\\partial z}{\\partial \\theta_j} - (1 - y)\\left\\{\\frac{1}{1-g}\\right\\}(-1)\\frac{\\partial z}{\\partial \\theta_j}\\frac{\\partial z}{\\partial \\theta_j} \\\\\n",
      "    &= (-y (1 - g) + (1 - y)g) \\left\\{\\frac{1}{g(1-g)}\\right\\} \\frac{dg}{dz}\\frac{\\partial z}{\\partial \\theta_j} \\\\\n",
      "    &= (-y (1 - g) + (1 - y)g) \\left\\{\\frac{1}{g(1-g)}\\right\\} \\left\\{g(1-g)\\right\\}\\sum_{k}\\frac{\\partial}{\\partial \\theta_k}{\\theta_f x_f} \\\\ \n",
      "    &= (g - y)x_f\n",
      "\\end{align}\n",
      "\n",
      "Returning to full equation, we get:\n",
      "\n",
      "\\begin{align}\n",
      "    \\frac{\\partial}{\\partial \\theta_f} J(\\theta)\n",
      "    &= \\frac{1}{m} \\sum_{i=1}^{m} \\left( h_{\\theta}({\\bf x}^{(i)}) - y^{(i)} \\right) x_{f}^{(i)} \\\\\n",
      "\\end{align}"
     ]
    },
    {
     "cell_type": "code",
     "collapsed": false,
     "input": [
      "def h(theta, X):\n",
      "    X = np.asmatrix(X)\n",
      "    theta = np.asmatrix(theta)\n",
      "    return g(X*theta.T)"
     ],
     "language": "python",
     "metadata": {},
     "outputs": [],
     "prompt_number": 283
    },
    {
     "cell_type": "code",
     "collapsed": false,
     "input": [
      "def cost(theta, X, y):\n",
      "    m = len(y) # size of training set\n",
      "    X = np.asmatrix(X)\n",
      "    y = np.asmatrix(y)\n",
      "    theta = np.asmatrix(theta)\n",
      "    return (1.0/m) * np.sum(-y.T * np.log(h(theta, X)) - (1-y).T*np.log(1 - h(theta,X)))"
     ],
     "language": "python",
     "metadata": {},
     "outputs": [],
     "prompt_number": 284
    },
    {
     "cell_type": "code",
     "collapsed": false,
     "input": [
      "def grad(theta, X, y):\n",
      "    m = len(y) # size of training set\n",
      "    X = np.asmatrix(X)\n",
      "    y = np.asmatrix(y)\n",
      "    theta = np.asmatrix(theta)    \n",
      "    return (1.0/m)*(h(theta, X) - y).T*X"
     ],
     "language": "python",
     "metadata": {},
     "outputs": [],
     "prompt_number": 310
    },
    {
     "cell_type": "code",
     "collapsed": false,
     "input": [
      "cost(theta0, X, y), grad(theta0, X, y)"
     ],
     "language": "python",
     "metadata": {},
     "outputs": [
      {
       "metadata": {},
       "output_type": "pyout",
       "prompt_number": 290,
       "text": [
        "(0.69314718055994529, matrix([[ -0.1   , -12.0092, -11.2628]]))"
       ]
      }
     ],
     "prompt_number": 290
    },
    {
     "cell_type": "code",
     "collapsed": false,
     "input": [
      "# grad_wrap = lambda theta : grad(theta, X, y)\n",
      "# cost_wrap = lambda theta : cost(theta, X, y)\n",
      "# op.check_grad(cost_wrap, grad_wrap, theta0)"
     ],
     "language": "python",
     "metadata": {},
     "outputs": [],
     "prompt_number": 321
    },
    {
     "cell_type": "markdown",
     "metadata": {},
     "source": [
      "## Learning the parameters using scipy.optimize\n",
      "\n",
      "The octave function to use is **fminunc**.  We'll use the scipy equivelant **scipy.optimize.fmin**."
     ]
    },
    {
     "cell_type": "code",
     "collapsed": false,
     "input": [
      "result = op.minimize(fun=cost, x0=theta0, args=(X,y), method='TNC', jac=grad)\n",
      "theta_fit = result.x\n",
      "theta_fit "
     ],
     "language": "python",
     "metadata": {},
     "outputs": [
      {
       "metadata": {},
       "output_type": "pyout",
       "prompt_number": 306,
       "text": [
        "array([-25.8737,   0.2119,   0.2072])"
       ]
      }
     ],
     "prompt_number": 306
    },
    {
     "cell_type": "code",
     "collapsed": false,
     "input": [
      "cost_fit = cost(theta_fit, X, y)\n",
      "cost_fit"
     ],
     "language": "python",
     "metadata": {},
     "outputs": [
      {
       "metadata": {},
       "output_type": "pyout",
       "prompt_number": 106,
       "text": [
        "0.20357137948197476"
       ]
      }
     ],
     "prompt_number": 106
    },
    {
     "cell_type": "markdown",
     "metadata": {},
     "source": [
      "The value of 0.203 is the correct answer"
     ]
    },
    {
     "cell_type": "markdown",
     "metadata": {},
     "source": [
      "## Evaluating the logistic regression"
     ]
    },
    {
     "cell_type": "code",
     "collapsed": false,
     "input": [
      "def predict(theta, X, threshold=0.5):\n",
      "    p = h(theta, X)\n",
      "    return np.where(p > threshold, 1, 0)    "
     ],
     "language": "python",
     "metadata": {},
     "outputs": [],
     "prompt_number": 114
    },
    {
     "cell_type": "code",
     "collapsed": false,
     "input": [
      "# test single point\n",
      "predict(theta_fit, np.matrix([1.0, 45, 85]))[0,0]"
     ],
     "language": "python",
     "metadata": {},
     "outputs": [
      {
       "metadata": {},
       "output_type": "pyout",
       "prompt_number": 115,
       "text": [
        "1"
       ]
      }
     ],
     "prompt_number": 115
    },
    {
     "cell_type": "code",
     "collapsed": false,
     "input": [
      "# plot fit\n",
      "plot_x = np.array([np.min(X[:,1]), np.max(X[:,1])])\n",
      "t0     = theta_fit[0]\n",
      "t1     = theta_fit[1]\n",
      "t2     = theta_fit[2]\n",
      "plot_y = (-1.0/t2)*(t1*plot_x + t0)\n",
      "plot_x, plot_y\n",
      "\n",
      "colors  = np.where(df.admit==1, 'black', 'yellow')\n",
      "markers = np.where(df.admit==1, '+', 'O')\n",
      "df_pass = df[df.admit==1]\n",
      "df_fail = df[df.admit==0]\n",
      "plt.scatter(df_pass.exam1, df_pass.exam2, c='k', marker='+', s=50)\n",
      "plt.scatter(df_fail.exam1, df_fail.exam2, c='y', marker='o', s=50)\n",
      "plt.plot(plot_x, plot_y, 'b')\n",
      "plt.axis([30, 100, 30, 100])\n",
      "plt.xlabel('exam 1 score')\n",
      "plt.ylabel('exam 2 score')\n",
      "plt.legend(['decision boundary', 'admitted', 'not admitted'], loc='lower left')\n",
      "plt.show()"
     ],
     "language": "python",
     "metadata": {},
     "outputs": [
      {
       "metadata": {},
       "output_type": "display_data",
       "png": "[encoded data removed]",
       "text": [
        "<matplotlib.figure.Figure at 0x10f234810>"
       ]
      }
     ],
     "prompt_number": 125
    },
    {
     "cell_type": "markdown",
     "metadata": {},
     "source": [
      "The accuracy of our prediction on the training set (the in sample error) is:"
     ]
    },
    {
     "cell_type": "code",
     "collapsed": false,
     "input": [
      "p   = predict(theta_fit, X)\n",
      "acc = np.mean(p==y)*100\n",
      "print('Training accuracy = %1.2f' % acc)"
     ],
     "language": "python",
     "metadata": {},
     "outputs": [
      {
       "output_type": "stream",
       "stream": "stdout",
       "text": [
        "Training accuracy = 89.00\n"
       ]
      }
     ],
     "prompt_number": 132
    },
    {
     "cell_type": "markdown",
     "metadata": {},
     "source": [
      "## Regularized Logistic Regression"
     ]
    },
    {
     "cell_type": "markdown",
     "metadata": {},
     "source": [
      "In this part of the exercise, you will implement regularized logistic regression to predict whether microchips from a fabrication plan passes quality assurance standards (QA).  During QA, each microchip goes through various tests to ensure it is functioning correcty.\n",
      "\n",
      "Suppose you are the product manager of the factory and you have the test results for some microchips on two different tests.  From those two tests, you would like to dtermine whether the microchips should be accepted or rejected."
     ]
    },
    {
     "cell_type": "markdown",
     "metadata": {},
     "source": [
      "### visualize the data"
     ]
    },
    {
     "cell_type": "markdown",
     "metadata": {},
     "source": [
      "#### load the data"
     ]
    },
    {
     "cell_type": "code",
     "collapsed": false,
     "input": [
      "df = pd.read_csv('ex2data2.txt', names=['test1', 'test2', 'accepted'])\n",
      "df.head()"
     ],
     "language": "python",
     "metadata": {},
     "outputs": [
      {
       "html": [
        "<div style=\"max-height:1000px;max-width:1500px;overflow:auto;\">\n",
        "<table border=\"1\" class=\"dataframe\">\n",
        "  <thead>\n",
        "    <tr style=\"text-align: right;\">\n",
        "      <th></th>\n",
        "      <th>test1</th>\n",
        "      <th>test2</th>\n",
        "      <th>accepted</th>\n",
        "    </tr>\n",
        "  </thead>\n",
        "  <tbody>\n",
        "    <tr>\n",
        "      <th>0</th>\n",
        "      <td> 0.051267</td>\n",
        "      <td> 0.69956</td>\n",
        "      <td> 1</td>\n",
        "    </tr>\n",
        "    <tr>\n",
        "      <th>1</th>\n",
        "      <td>-0.092742</td>\n",
        "      <td> 0.68494</td>\n",
        "      <td> 1</td>\n",
        "    </tr>\n",
        "    <tr>\n",
        "      <th>2</th>\n",
        "      <td>-0.213710</td>\n",
        "      <td> 0.69225</td>\n",
        "      <td> 1</td>\n",
        "    </tr>\n",
        "    <tr>\n",
        "      <th>3</th>\n",
        "      <td>-0.375000</td>\n",
        "      <td> 0.50219</td>\n",
        "      <td> 1</td>\n",
        "    </tr>\n",
        "    <tr>\n",
        "      <th>4</th>\n",
        "      <td>-0.513250</td>\n",
        "      <td> 0.46564</td>\n",
        "      <td> 1</td>\n",
        "    </tr>\n",
        "  </tbody>\n",
        "</table>\n",
        "</div>"
       ],
       "metadata": {},
       "output_type": "pyout",
       "prompt_number": 344,
       "text": [
        "      test1    test2  accepted\n",
        "0  0.051267  0.69956         1\n",
        "1 -0.092742  0.68494         1\n",
        "2 -0.213710  0.69225         1\n",
        "3 -0.375000  0.50219         1\n",
        "4 -0.513250  0.46564         1"
       ]
      }
     ],
     "prompt_number": 344
    },
    {
     "cell_type": "code",
     "collapsed": false,
     "input": [
      "colors  = np.where(df.accepted==1, 'black', 'yellow')\n",
      "markers = np.where(df.accepted==1, '+', 'O')\n",
      "df_pass = df[df.accepted==1]\n",
      "df_fail = df[df.accepted==0]\n",
      "plt.scatter(df_pass.test1, df_pass.test2, c='k', marker='+', s=50)\n",
      "plt.scatter(df_fail.test1, df_fail.test2, c='y', marker='o', s=50)\n",
      "plt.axis([-1, 1.5, -0.8, 1.2])\n",
      "plt.xlabel('test 1 score')\n",
      "plt.ylabel('test 2 score')\n",
      "plt.legend(['accepted', 'rejected'])\n",
      "plt.show()"
     ],
     "language": "python",
     "metadata": {},
     "outputs": [
      {
       "metadata": {},
       "output_type": "display_data",
       "png": "[encoded data removed]",
       "text": [
        "<matplotlib.figure.Figure at 0x10fe76410>"
       ]
      }
     ],
     "prompt_number": 345
    },
    {
     "cell_type": "markdown",
     "metadata": {},
     "source": [
      "### Feature mapping\n",
      "\n",
      "This dataset cannot be classified by a linear function (not linearly seperable).  Linear logistic regression will not work.  We will need to create more features form each data point.\n",
      "\n",
      "Let us construct a feature map of all polynomials of $x_1$ and $x_2$ up the sixth power:\n",
      "\n",
      "\\begin{align}\n",
      "{\\rm map}({\\bf x}) = \n",
      "\\left( \n",
      "\\begin{array}{c}\n",
      "1 \\\\\n",
      "x_1 \\\\\n",
      "x_2 \\\\\n",
      "x_1^2 \\\\\n",
      "x_1x_2 \\\\\n",
      "x_2^2 \\\\\n",
      "x_1^3 \\\\\n",
      "\\vdots \\\\\n",
      "x_1x_2^4 \\\\\n",
      "x_2^6 \\\\\n",
      "\\end{array} \n",
      "\\right)\n",
      "\\end{align}"
     ]
    },
    {
     "cell_type": "code",
     "collapsed": false,
     "input": [
      "def map_features(x1, x2, degree=6):\n",
      "    assert(x1.shape == x2.shape)\n",
      "    assert(x1.shape[1]==1)\n",
      "    \n",
      "    result = np.matrix(np.empty((x1.shape[0], np.sum(np.arange(degree+1)+1))))\n",
      "\n",
      "    col = 0\n",
      "    for order in np.arange(degree+1):\n",
      "        for i in np.arange(order+1):\n",
      "            j = order-i\n",
      "            result[:,col] = np.multiply(np.power(x1, i), np.power(x2, j))\n",
      "            col += 1\n",
      "    return result"
     ],
     "language": "python",
     "metadata": {},
     "outputs": [],
     "prompt_number": 346
    },
    {
     "cell_type": "code",
     "collapsed": false,
     "input": [
      "x1 = np.matrix([[2],[3]])\n",
      "x2 = np.matrix([[2],[4]])\n",
      "r = map_features(x1, x2)\n",
      "r"
     ],
     "language": "python",
     "metadata": {},
     "outputs": [
      {
       "metadata": {},
       "output_type": "pyout",
       "prompt_number": 347,
       "text": [
        "matrix([[  1.0000e+00,   2.0000e+00,   2.0000e+00,   4.0000e+00,\n",
        "           4.0000e+00,   4.0000e+00,   8.0000e+00,   8.0000e+00,\n",
        "           8.0000e+00,   8.0000e+00,   1.6000e+01,   1.6000e+01,\n",
        "           1.6000e+01,   1.6000e+01,   1.6000e+01,   3.2000e+01,\n",
        "           3.2000e+01,   3.2000e+01,   3.2000e+01,   3.2000e+01,\n",
        "           3.2000e+01,   6.4000e+01,   6.4000e+01,   6.4000e+01,\n",
        "           6.4000e+01,   6.4000e+01,   6.4000e+01,   6.4000e+01],\n",
        "        [  1.0000e+00,   4.0000e+00,   3.0000e+00,   1.6000e+01,\n",
        "           1.2000e+01,   9.0000e+00,   6.4000e+01,   4.8000e+01,\n",
        "           3.6000e+01,   2.7000e+01,   2.5600e+02,   1.9200e+02,\n",
        "           1.4400e+02,   1.0800e+02,   8.1000e+01,   1.0240e+03,\n",
        "           7.6800e+02,   5.7600e+02,   4.3200e+02,   3.2400e+02,\n",
        "           2.4300e+02,   4.0960e+03,   3.0720e+03,   2.3040e+03,\n",
        "           1.7280e+03,   1.2960e+03,   9.7200e+02,   7.2900e+02]])"
       ]
      }
     ],
     "prompt_number": 347
    },
    {
     "cell_type": "markdown",
     "metadata": {},
     "source": [
      "### cost function and gradient\n",
      "\n",
      "Now implment the cost function and gradient for the regularized logistic regression.  Recall that a quadratic term in $\\theta_j$ is used to \"penalize\" features -- almost like a damping term in the gradient descent.  The cost function becomes:\n",
      "\n",
      "\\begin{align}\n",
      "    J(\\theta) &= \\frac{1}{m} \\sum_{i=1}^{m} \\left[-y^{(i)}\\log\\left\\{h_{\\theta}(x^{(i)})\\right\\} - (1 - y^{(i)})\\log\\left\\{1 - h_{\\theta}(x^{(i)})\\right\\} \\right] + \\frac{\\lambda}{2m}\\sum_{f=1}^{n}\\theta_f\n",
      "\\end{align}\n",
      "\n",
      "and the gradient is now:\n",
      "\n",
      "\\begin{align}\n",
      "\\begin{array}{cc}\n",
      "    \\frac{\\partial}{\\partial \\theta_0} J(\\theta)\n",
      "    = \\frac{1}{m} \\sum_{i=1}^{m} \\left( h_{\\theta}({\\bf x}^{(i)}) - y^{(i)} \\right) x_{f}^{(i)} & {\\text,\\ for\\ }f = 0 \\\\\n",
      "    \\frac{\\partial}{\\partial \\theta_f} J(\\theta)\n",
      "    = \\frac{1}{m} \\sum_{i=1}^{m} \\left( h_{\\theta}({\\bf x}^{(i)}) - y^{(i)} \\right) x_{f}^{(i)} + \\frac{\\lambda}{m}\\theta_j & {\\text,\\ for\\ }f \\neq 0 \\\\\n",
      "\\end{array}\n",
      "\\end{align}"
     ]
    },
    {
     "cell_type": "code",
     "collapsed": false,
     "input": [
      "def cost(theta, X, y, lambda_param):\n",
      "    m = len(y) # size of training set\n",
      "    X = np.asmatrix(X)\n",
      "    y = np.asmatrix(y)\n",
      "    theta = np.asmatrix(theta)\n",
      "    return (1.0/m) * np.sum(-y.T * np.log(h(theta, X)) - (1-y).T*np.log(1 - h(theta,X))) + (lambda_param/(2*m))*np.sum(theta)"
     ],
     "language": "python",
     "metadata": {},
     "outputs": [],
     "prompt_number": 348
    },
    {
     "cell_type": "code",
     "collapsed": false,
     "input": [
      "def grad(theta, X, y, lambda_param):\n",
      "    m = len(y) # size of training set\n",
      "    X = np.asmatrix(X)\n",
      "    y = np.asmatrix(y)\n",
      "    theta = np.asmatrix(theta)    \n",
      "    return (1.0/m)*(h(theta, X) - y).T*X + (lambda_param/(m))*np.concatenate((np.zeros_like(theta[:,0]),theta[:,1:]), axis=1)"
     ],
     "language": "python",
     "metadata": {},
     "outputs": [],
     "prompt_number": 349
    },
    {
     "cell_type": "markdown",
     "metadata": {},
     "source": [
      "### prepare inputs"
     ]
    },
    {
     "cell_type": "code",
     "collapsed": false,
     "input": [
      "y = np.asmatrix(df.accepted.values).T\n",
      "m = y.shape[0]\n",
      "m, y[0:5,:]"
     ],
     "language": "python",
     "metadata": {},
     "outputs": [
      {
       "metadata": {},
       "output_type": "pyout",
       "prompt_number": 350,
       "text": [
        "(118, matrix([[1],\n",
        "         [1],\n",
        "         [1],\n",
        "         [1],\n",
        "         [1]]))"
       ]
      }
     ],
     "prompt_number": 350
    },
    {
     "cell_type": "code",
     "collapsed": false,
     "input": [
      "x1 = np.asmatrix(df.test1.values).T\n",
      "x2 = np.asmatrix(df.test2.values).T\n",
      "X = map_features(x1, x2)\n",
      "n = X.shape[1]\n",
      "n, X[0:2, :]"
     ],
     "language": "python",
     "metadata": {},
     "outputs": [
      {
       "metadata": {},
       "output_type": "pyout",
       "prompt_number": 357,
       "text": [
        "(28, matrix([[  1.0000e+00,   6.9956e-01,   5.1267e-02,   4.8938e-01,\n",
        "            3.5864e-02,   2.6283e-03,   3.4235e-01,   2.5089e-02,\n",
        "            1.8387e-03,   1.3475e-04,   2.3950e-01,   1.7551e-02,\n",
        "            1.2863e-03,   9.4262e-05,   6.9080e-06,   1.6754e-01,\n",
        "            1.2278e-02,   8.9981e-04,   6.5942e-05,   4.8326e-06,\n",
        "            3.5415e-07,   1.1721e-01,   8.5894e-03,   6.2947e-04,\n",
        "            4.6131e-05,   3.3807e-06,   2.4775e-07,   1.8156e-08],\n",
        "         [  1.0000e+00,   6.8494e-01,  -9.2742e-02,   4.6914e-01,\n",
        "           -6.3523e-02,   8.6011e-03,   3.2133e-01,  -4.3509e-02,\n",
        "            5.8912e-03,  -7.9768e-04,   2.2009e-01,  -2.9801e-02,\n",
        "            4.0351e-03,  -5.4636e-04,   7.3979e-05,   1.5075e-01,\n",
        "           -2.0412e-02,   2.7638e-03,  -3.7423e-04,   5.0671e-05,\n",
        "           -6.8609e-06,   1.0326e-01,  -1.3981e-02,   1.8931e-03,\n",
        "           -2.5632e-04,   3.4707e-05,  -4.6993e-06,   6.3630e-07]]))"
       ]
      }
     ],
     "prompt_number": 357
    },
    {
     "cell_type": "code",
     "collapsed": false,
     "input": [
      "theta0 = np.asmatrix(np.zeros((1,n)))\n",
      "theta0"
     ],
     "language": "python",
     "metadata": {},
     "outputs": [
      {
       "metadata": {},
       "output_type": "pyout",
       "prompt_number": 360,
       "text": [
        "matrix([[ 0.,  0.,  0.,  0.,  0.,  0.,  0.,  0.,  0.,  0.,  0.,  0.,  0.,\n",
        "          0.,  0.,  0.,  0.,  0.,  0.,  0.,  0.,  0.,  0.,  0.,  0.,  0.,\n",
        "          0.,  0.]])"
       ]
      }
     ],
     "prompt_number": 360
    },
    {
     "cell_type": "markdown",
     "metadata": {},
     "source": [
      "### optimize "
     ]
    },
    {
     "cell_type": "code",
     "collapsed": false,
     "input": [
      "l = 1.0\n",
      "result = op.minimize(fun=cost, x0=theta0, args=(X,y,l), method='TNC', jac=grad)\n",
      "theta_fit = result.x\n",
      "theta_fit "
     ],
     "language": "python",
     "metadata": {},
     "outputs": [
      {
       "metadata": {},
       "output_type": "pyout",
       "prompt_number": 359,
       "text": [
        "array([ 1.2742,  1.1859,  0.6248, -1.4132, -0.9171, -2.0217, -0.1807,\n",
        "       -0.3646, -0.3677,  0.1244, -1.2013, -0.2717, -0.62  , -0.0629,\n",
        "       -1.4651, -0.4679, -0.2928, -0.278 , -0.0549, -0.209 , -0.2366,\n",
        "       -0.9355, -0.138 , -0.3292,  0.0096, -0.2964,  0.0208, -1.044 ])"
       ]
      }
     ],
     "prompt_number": 359
    },
    {
     "cell_type": "code",
     "collapsed": false,
     "input": [
      "# contour of decision boundary\n",
      "u = np.linspace(-1, 1.5, 50)\n",
      "v = u.copy()\n",
      "z = np.zeros((len(u), len(v)))\n",
      "for i, u_value in enumerate(u):\n",
      "    for j, v_value in enumerate(v):\n",
      "        u_value = np.asmatrix(u_value).T\n",
      "        v_value = np.asmatrix(v_value).T\n",
      "        z[i, j] = theta_fit*map_features(u_value, v_value).T\n",
      "z = z.T\n",
      "u.shape, v.shape, z.shape"
     ],
     "language": "python",
     "metadata": {},
     "outputs": [
      {
       "metadata": {},
       "output_type": "pyout",
       "prompt_number": 385,
       "text": [
        "((50,), (50,), (50, 50))"
       ]
      }
     ],
     "prompt_number": 385
    },
    {
     "cell_type": "code",
     "collapsed": false,
     "input": [
      "colors  = np.where(df.accepted==1, 'black', 'yellow')\n",
      "markers = np.where(df.accepted==1, '+', 'O')\n",
      "df_pass = df[df.accepted==1]\n",
      "df_fail = df[df.accepted==0]\n",
      "plt.scatter(df_pass.test1, df_pass.test2, c='k', marker='+', s=50)\n",
      "plt.scatter(df_fail.test1, df_fail.test2, c='y', marker='o', s=50)\n",
      "plt.contour(u, v, z, levels=[0,0])\n",
      "plt.axis([-1, 1.5, -0.8, 1.2])\n",
      "plt.xlabel('test 1 score')\n",
      "plt.ylabel('test 2 score')\n",
      "plt.legend(['accepted', 'rejected', 'decision boundary'])\n",
      "plt.show()"
     ],
     "language": "python",
     "metadata": {},
     "outputs": [
      {
       "metadata": {},
       "output_type": "display_data",
       "png": "[encoded data removed]",
       "text": [
        "<matplotlib.figure.Figure at 0x111c71450>"
       ]
      }
     ],
     "prompt_number": 388
    },
    {
     "cell_type": "code",
     "collapsed": false,
     "input": [],
     "language": "python",
     "metadata": {},
     "outputs": []
    }
   ],
   "metadata": {}
  }
 ]
}