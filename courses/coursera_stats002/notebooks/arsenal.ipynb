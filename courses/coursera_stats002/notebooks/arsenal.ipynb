{
 "metadata": {
  "name": "arsenal.ipynb"
 },
 "nbformat": 3,
 "nbformat_minor": 0,
 "worksheets": [
  {
   "cells": [
    {
     "cell_type": "code",
     "collapsed": false,
     "input": [
      "# setup notebook\n",
      "import numpy as np\n",
      "import pandas as pd\n",
      "import matplotlib.pyplot as plt\n",
      "import scipy.stats as st\n",
      "from IPython.display import display, Math, Latex\n",
      "\n",
      "np.set_printoptions(precision=4)\n",
      "plt.rc('figure', figsize=(10, 8))"
     ],
     "language": "python",
     "metadata": {},
     "outputs": [],
     "prompt_number": 37
    },
    {
     "cell_type": "markdown",
     "metadata": {},
     "source": [
      "# Do Arsanel have too many injuries?\n",
      "\n",
      "Let's see if this article holds water:\n",
      "\n",
      "http://www.espnfc.us/club/arsenal/359/blog/post/2064613/arsenal-face-another-injury-crisis-in-champions-league-and-premier-league"
     ]
    },
    {
     "cell_type": "markdown",
     "metadata": {},
     "source": [
      "The number of injuries is reported over the last 10 seasons.  The article claims that Arsenals has 14% more injuries over this period.  Is this statistically significant?\n",
      "\n",
      "\n",
      "* H0: $p_{a} - \\langle p \\rangle = 0$\n",
      "* H1: $p_{a} - \\langle p \\rangle > 0$\n",
      "\n",
      "Where $p_{a}$ is the rate of injury at Arsenal and $\\langle p \\rangle$ is the averge rate of the premier league.\n"
     ]
    },
    {
     "cell_type": "markdown",
     "metadata": {},
     "source": [
      "### number of injuries"
     ]
    },
    {
     "cell_type": "code",
     "collapsed": false,
     "input": [
      "n_a = 745                        # number of injuries Arsenal\n",
      "n_p = np.floor(n_a*(1.0 - 0.14)) # number of injuries rest of premier league\n",
      "(n_a, n_p)"
     ],
     "language": "python",
     "metadata": {},
     "outputs": [
      {
       "metadata": {},
       "output_type": "pyout",
       "prompt_number": 38,
       "text": [
        "(745, 640.0)"
       ]
      }
     ],
     "prompt_number": 38
    },
    {
     "cell_type": "markdown",
     "metadata": {},
     "source": [
      "### number of \"trials\" where an injury can occur\n",
      "\n",
      "Let's assume that the a trial is one player playing in a fixture.  Let's make the following further assumptions:\n",
      "\n",
      "1. Ingore substitions\n",
      "1. A player plays 75% of the games\n",
      "1. Only consider premier league fixtures\n",
      "\n",
      "First find the number of fixtures"
     ]
    },
    {
     "cell_type": "code",
     "collapsed": false,
     "input": [
      "n_fixtures     = 38\n",
      "n_players      = 11\n",
      "selection_rate = 0.75\n",
      "n_seasons      = 10\n",
      "n_trials       = n_seasons*(n_fixtures * n_players)/selection_rate\n",
      "n_trials"
     ],
     "language": "python",
     "metadata": {},
     "outputs": [
      {
       "metadata": {},
       "output_type": "pyout",
       "prompt_number": 39,
       "text": [
        "5573.333333333333"
       ]
      }
     ],
     "prompt_number": 39
    },
    {
     "cell_type": "markdown",
     "metadata": {},
     "source": [
      "### point estimates of rate"
     ]
    },
    {
     "cell_type": "code",
     "collapsed": false,
     "input": [
      "p_a = n_a/n_trials\n",
      "p_p = n_p/n_trials\n",
      "(p_a, p_p)"
     ],
     "language": "python",
     "metadata": {},
     "outputs": [
      {
       "metadata": {},
       "output_type": "pyout",
       "prompt_number": 40,
       "text": [
        "(0.13367224880382775, 0.11483253588516747)"
       ]
      }
     ],
     "prompt_number": 40
    },
    {
     "cell_type": "markdown",
     "metadata": {},
     "source": [
      "### is this signifcant?\n",
      "\n",
      "Don't have an estimate of the standard error so we'll assume a binomial distribution."
     ]
    },
    {
     "cell_type": "code",
     "collapsed": false,
     "input": [
      "# null hypothesis\n",
      "d0 = 0.0"
     ],
     "language": "python",
     "metadata": {},
     "outputs": [],
     "prompt_number": 41
    },
    {
     "cell_type": "code",
     "collapsed": false,
     "input": [
      "# point estimate\n",
      "dhat = p_a - p_p\n",
      "dhat"
     ],
     "language": "python",
     "metadata": {},
     "outputs": [
      {
       "metadata": {},
       "output_type": "pyout",
       "prompt_number": 42,
       "text": [
        "0.018839712918660281"
       ]
      }
     ],
     "prompt_number": 42
    },
    {
     "cell_type": "markdown",
     "metadata": {},
     "source": [
      "the *standard error* becomes assuming a binomial distribution of injuries:\n",
      "\n",
      "\\begin{align}\n",
      "    SE_{\\hat{p}_1 - \\hat{p}_2} &= \\sqrt{SE_{\\hat{p}_1}^2 + SE_{\\hat{p}_2}^2} \\\\\n",
      "    &= \\sqrt{\\frac{p_1(1 - p_1)}{n_1} + \\frac{p_2(1 - p_2)}{n_2}}\n",
      "\\end{align}"
     ]
    },
    {
     "cell_type": "code",
     "collapsed": false,
     "input": [
      "se = sqrt(p_a*(1-p_a)/n_trials + p_p*(1-p_p)/n_trials)\n",
      "se"
     ],
     "language": "python",
     "metadata": {},
     "outputs": [
      {
       "metadata": {},
       "output_type": "pyout",
       "prompt_number": 43,
       "text": [
        "0.0062462908126208905"
       ]
      }
     ],
     "prompt_number": 43
    },
    {
     "cell_type": "code",
     "collapsed": false,
     "input": [
      "z = (dhat - d0)/se\n",
      "z"
     ],
     "language": "python",
     "metadata": {},
     "outputs": [
      {
       "metadata": {},
       "output_type": "pyout",
       "prompt_number": 44,
       "text": [
        "3.0161440579413719"
       ]
      }
     ],
     "prompt_number": 44
    },
    {
     "cell_type": "code",
     "collapsed": false,
     "input": [
      "def hyp_test(obs, alpha=0.05, two_sided=False, rv=st.norm):\n",
      "    obs = -1.0*abs(obs)\n",
      "    p = rv.cdf(obs)\n",
      "    if (two_sided):\n",
      "        p = 2*p\n",
      "    cl = 100*(1.0-alpha)\n",
      "    if (p < alpha):    \n",
      "        print(\"Reject H0 at %1.0f%% CL with p = %1.2e\" % (cl, p))\n",
      "    else:\n",
      "        print(\"Fail to reject H0 at %1.0f%% CL with p = %1.2e\" % (cl, p))"
     ],
     "language": "python",
     "metadata": {},
     "outputs": [],
     "prompt_number": 45
    },
    {
     "cell_type": "code",
     "collapsed": false,
     "input": [
      "hyp_test(z, alpha=0.05, two_sided=False)"
     ],
     "language": "python",
     "metadata": {},
     "outputs": [
      {
       "output_type": "stream",
       "stream": "stdout",
       "text": [
        "Reject H0 at 95% CL with p = 1.28e-03\n"
       ]
      }
     ],
     "prompt_number": 46
    },
    {
     "cell_type": "markdown",
     "metadata": {},
     "source": [
      "So it appears that there is something to Arsenal's bad luck..."
     ]
    }
   ],
   "metadata": {}
  }
 ]
}