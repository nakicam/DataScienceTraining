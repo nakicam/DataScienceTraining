{
 "metadata": {
  "name": ""
 },
 "nbformat": 3,
 "nbformat_minor": 0,
 "worksheets": [
  {
   "cells": [
    {
     "cell_type": "markdown",
     "metadata": {},
     "source": [
      "# Ch 6: Inference for Categorical Variables"
     ]
    },
    {
     "cell_type": "markdown",
     "metadata": {},
     "source": [
      "### Setup"
     ]
    },
    {
     "cell_type": "code",
     "collapsed": false,
     "input": [
      "# setup notebook\n",
      "import numpy as np\n",
      "import pandas as pd\n",
      "import matplotlib.pyplot as plt\n",
      "import scipy.stats as st\n",
      "from IPython.display import display, Math, Latex\n",
      "from matplotlib.patches import Polygon\n",
      "import os\n",
      "os.chdir('%s/courses/coursera_stats002' % os.getenv('DST'))\n",
      "print(os.getcwd())\n",
      "\n",
      "np.set_printoptions(precision=4)\n",
      "plt.rc('figure', figsize=(10, 8))"
     ],
     "language": "python",
     "metadata": {},
     "outputs": [
      {
       "output_type": "stream",
       "stream": "stdout",
       "text": [
        "/Users/rwk7t/Development/dst/courses/coursera_stats002\n"
       ]
      }
     ],
     "prompt_number": 1
    },
    {
     "cell_type": "markdown",
     "metadata": {},
     "source": [
      "#### helper functions"
     ]
    },
    {
     "cell_type": "code",
     "collapsed": false,
     "input": [
      "def hyp_test(obs, alpha=0.05, two_sided=False, rv=st.norm):\n",
      "    obs = abs(obs)\n",
      "    p = 1.0 - rv.cdf(obs)\n",
      "    if (two_sided):\n",
      "        p = 2*p\n",
      "    cl = 100*(1.0-alpha)\n",
      "    if (p < alpha):    \n",
      "        print(\"Reject H0 at %1.0f%% CL with p = %1.2e\" % (cl, p))\n",
      "    else:\n",
      "        print(\"Fail to reject H0 at %1.0f%% CL with p = %1.2e\" % (cl, p))"
     ],
     "language": "python",
     "metadata": {},
     "outputs": [],
     "prompt_number": 2
    },
    {
     "cell_type": "code",
     "collapsed": false,
     "input": [
      "def rv_star(cl, rv=st.norm):\n",
      "    return rv.ppf(0.5+cl/2.0)\n",
      "\n",
      "display(Latex(r\"$z^*_{95} = %1.2f$\" % rv_star(0.95)))\n",
      "display(Latex(r\"$z^*_{90} = %1.2f$\" % rv_star(0.90)))\n",
      "display(Latex(r\"$z^*_{99} = %1.2f$\" % rv_star(0.99)))"
     ],
     "language": "python",
     "metadata": {},
     "outputs": [
      {
       "latex": [
        "$z^*_{95} = 1.96$"
       ],
       "metadata": {},
       "output_type": "display_data",
       "text": [
        "<IPython.core.display.Latex at 0x11010b5d0>"
       ]
      },
      {
       "latex": [
        "$z^*_{90} = 1.64$"
       ],
       "metadata": {},
       "output_type": "display_data",
       "text": [
        "<IPython.core.display.Latex at 0x10dc6c190>"
       ]
      },
      {
       "latex": [
        "$z^*_{99} = 2.58$"
       ],
       "metadata": {},
       "output_type": "display_data",
       "text": [
        "<IPython.core.display.Latex at 0x11010b650>"
       ]
      }
     ],
     "prompt_number": 3
    },
    {
     "cell_type": "markdown",
     "metadata": {},
     "source": [
      "### 6.1 Inference for a single proportion"
     ]
    },
    {
     "cell_type": "markdown",
     "metadata": {},
     "source": [
      "*conditions for the sampling distribution of $\\hat{p}$ behing nearly normal*\n",
      "\n",
      "When sampleing distribution for $\\hat{p} = \\frac{\\# success}{n}$ for a sample of size *n* from a population with a true proportion of $p$, is nearly normal when:\n",
      "\n",
      "* the sample observations are independent\n",
      "* we expect to see $n_{success} \\geq 10$ and $n_{failure} \\geq 10$\n",
      "\n",
      "If the above is met, then $\\hat{p} \\sim N(p, SE_{\\hat{p}})$ s.t.\n",
      "\\begin{align}\n",
      "    SE_{\\hat{p}} = \\sqrt{\\frac{p(1-p)}{n}}\n",
      "\\end{align}"
     ]
    },
    {
     "cell_type": "markdown",
     "metadata": {},
     "source": [
      "### example 6.3\n",
      "\n",
      "Construct a 95% Confidence Limit for supreme court approval data"
     ]
    },
    {
     "cell_type": "code",
     "collapsed": false,
     "input": [
      "phat = 0.44\n",
      "n    = 976\n",
      "se   = sqrt(phat*(1-phat)/n)\n",
      "(n, phat, se)"
     ],
     "language": "python",
     "metadata": {},
     "outputs": [
      {
       "metadata": {},
       "output_type": "pyout",
       "prompt_number": 4,
       "text": [
        "(976, 0.44, 0.015888958946181548)"
       ]
      }
     ],
     "prompt_number": 4
    },
    {
     "cell_type": "code",
     "collapsed": false,
     "input": [
      "zstar = rv_star(0.95)\n",
      "zstar"
     ],
     "language": "python",
     "metadata": {},
     "outputs": [
      {
       "metadata": {},
       "output_type": "pyout",
       "prompt_number": 5,
       "text": [
        "1.959963984540054"
       ]
      }
     ],
     "prompt_number": 5
    },
    {
     "cell_type": "code",
     "collapsed": false,
     "input": [
      "print(\"(%1.3f, %1.3f)\" % (phat - zstar*se, phat + zstar*se))"
     ],
     "language": "python",
     "metadata": {},
     "outputs": [
      {
       "output_type": "stream",
       "stream": "stdout",
       "text": [
        "(0.409, 0.471)\n"
       ]
      }
     ],
     "prompt_number": 6
    },
    {
     "cell_type": "markdown",
     "metadata": {},
     "source": [
      "#### hyp test\n",
      "\n",
      "* H0: p = 0.5\n",
      "* H1: p > 0.5"
     ]
    },
    {
     "cell_type": "code",
     "collapsed": false,
     "input": [
      "n    = 500\n",
      "p    = 0.50\n",
      "phat = 0.52\n",
      "se   = sqrt(p*(1-p)/n)\n",
      "z    = (phat - p)/se\n",
      "(z, se)"
     ],
     "language": "python",
     "metadata": {},
     "outputs": [
      {
       "metadata": {},
       "output_type": "pyout",
       "prompt_number": 7,
       "text": [
        "(0.89442719099991663, 0.022360679774997897)"
       ]
      }
     ],
     "prompt_number": 7
    },
    {
     "cell_type": "code",
     "collapsed": false,
     "input": [
      "hyp_test(z, alpha=0.05, two_sided=False, rv=st.norm)"
     ],
     "language": "python",
     "metadata": {},
     "outputs": [
      {
       "output_type": "stream",
       "stream": "stdout",
       "text": [
        "Fail to reject H0 at 95% CL with p = 1.86e-01\n"
       ]
      }
     ],
     "prompt_number": 8
    },
    {
     "cell_type": "markdown",
     "metadata": {},
     "source": [
      "#### choosing a sample size to estimate a proportion\n",
      "\n",
      "How large must the sample size *n* be in order to get your point estimate within the margin of error *m*?  For example, the *m* for a CL = 95% = $1.96 \\times SE$.\n",
      "\n",
      "In general:\n",
      "\n",
      "\\begin{align}\n",
      "    ME = z^* \\times SE \\leq m\n",
      "\\end{align}\n",
      "\n",
      "so for estimating the mean of proportions, we have\n",
      "\n",
      "\\begin{align}\n",
      "    ME = z^* \\times \\sqrt{\\frac{p(1-p)}{n}} \\leq m\n",
      "\\end{align}\n",
      "\n",
      "sovling for n gives us\n",
      "\n",
      "\\begin{align}\n",
      "    n \\geq \\frac{z^{*2}p(1-p)}{m^2}\n",
      "\\end{align}\n"
     ]
    },
    {
     "cell_type": "markdown",
     "metadata": {},
     "source": [
      "#### example 6.6\n",
      "\n",
      "Find the smallest n st. m = 0.4 on the point estimate of p, $\\hat{p} = 0.5$."
     ]
    },
    {
     "cell_type": "code",
     "collapsed": false,
     "input": [
      "m     = 0.04\n",
      "zstar = rv_star(0.95)\n",
      "phat  = 0.5\n",
      "n     = zstar**2*phat*(1-phat)/m**2\n",
      "np.ceil(n)"
     ],
     "language": "python",
     "metadata": {},
     "outputs": [
      {
       "metadata": {},
       "output_type": "pyout",
       "prompt_number": 9,
       "text": [
        "601.0"
       ]
      }
     ],
     "prompt_number": 9
    },
    {
     "cell_type": "markdown",
     "metadata": {},
     "source": [
      "so $n \\geq 601$ is required"
     ]
    },
    {
     "cell_type": "markdown",
     "metadata": {},
     "source": [
      "#### exercise 6.8"
     ]
    },
    {
     "cell_type": "code",
     "collapsed": false,
     "input": [
      "m     = 0.04\n",
      "zstar = rv_star(0.95)\n",
      "phat  = 0.17\n",
      "n     = zstar**2*phat*(1-phat)/m**2\n",
      "np.ceil(n)"
     ],
     "language": "python",
     "metadata": {},
     "outputs": [
      {
       "metadata": {},
       "output_type": "pyout",
       "prompt_number": 10,
       "text": [
        "339.0"
       ]
      }
     ],
     "prompt_number": 10
    },
    {
     "cell_type": "markdown",
     "metadata": {},
     "source": [
      "### 6.2 Difference of Two Proportions\n",
      "\n",
      "Whan to estimate difference in two different population proportions, $p_1 - p_2$.\n",
      "\n",
      "Use the point estimate: $\\hat{p}_1 - \\hat{p}_2$ which tends to follow a normal model when\n",
      "\n",
      "* each proportion itself is normal\n",
      "* the two samples are independent of each other\n",
      "\n",
      "the *SE* becomes:\n",
      "\n",
      "\\begin{align}\n",
      "    SE_{\\hat{p}_1 - \\hat{p}_2} &= \\sqrt{SE_{\\hat{p}_1}^2 + SE_{\\hat{p}_2}^2} \\\\\n",
      "    &= \\sqrt{\\frac{p_1(1 - p_1)}{n_1} + \\frac{p_2(1 - p_2)}{n_2}}\n",
      "\\end{align}"
     ]
    },
    {
     "cell_type": "markdown",
     "metadata": {},
     "source": [
      "### example 6.10"
     ]
    },
    {
     "cell_type": "code",
     "collapsed": false,
     "input": [
      "# table 6.2\n",
      "df = pd.DataFrame(data=np.array([[771, 0.47, 0.49, 3],[732, 0.34, 0.63, 3]]),\n",
      "                  columns=[\"n\", \"approve\", \"disapprove\", \"other\"], \n",
      "                  index=[\"afford\", \"penalty\"])\n",
      "df"
     ],
     "language": "python",
     "metadata": {},
     "outputs": [
      {
       "html": [
        "<div style=\"max-height:1000px;max-width:1500px;overflow:auto;\">\n",
        "<table border=\"1\" class=\"dataframe\">\n",
        "  <thead>\n",
        "    <tr style=\"text-align: right;\">\n",
        "      <th></th>\n",
        "      <th>n</th>\n",
        "      <th>approve</th>\n",
        "      <th>disapprove</th>\n",
        "      <th>other</th>\n",
        "    </tr>\n",
        "  </thead>\n",
        "  <tbody>\n",
        "    <tr>\n",
        "      <th>afford</th>\n",
        "      <td> 771</td>\n",
        "      <td> 0.47</td>\n",
        "      <td> 0.49</td>\n",
        "      <td> 3</td>\n",
        "    </tr>\n",
        "    <tr>\n",
        "      <th>penalty</th>\n",
        "      <td> 732</td>\n",
        "      <td> 0.34</td>\n",
        "      <td> 0.63</td>\n",
        "      <td> 3</td>\n",
        "    </tr>\n",
        "  </tbody>\n",
        "</table>\n",
        "</div>"
       ],
       "metadata": {},
       "output_type": "pyout",
       "prompt_number": 11,
       "text": [
        "           n  approve  disapprove  other\n",
        "afford   771     0.47        0.49      3\n",
        "penalty  732     0.34        0.63      3"
       ]
      }
     ],
     "prompt_number": 11
    },
    {
     "cell_type": "code",
     "collapsed": false,
     "input": [
      "phat1 = df.ix['afford'].approve\n",
      "phat2 = df.ix['penalty'].approve\n",
      "phat  = phat1 - phat2\n",
      "n1    = df.ix['afford'].n\n",
      "n2    = df.ix['penalty'].n\n",
      "phat"
     ],
     "language": "python",
     "metadata": {},
     "outputs": [
      {
       "metadata": {},
       "output_type": "pyout",
       "prompt_number": 12,
       "text": [
        "0.12999999999999995"
       ]
      }
     ],
     "prompt_number": 12
    },
    {
     "cell_type": "code",
     "collapsed": false,
     "input": [
      "se = sqrt(phat1*(1-phat1)/n1 + phat2*(1-phat2)/n2)\n",
      "se"
     ],
     "language": "python",
     "metadata": {},
     "outputs": [
      {
       "metadata": {},
       "output_type": "pyout",
       "prompt_number": 13,
       "text": [
        "0.025092713627244106"
       ]
      }
     ],
     "prompt_number": 13
    },
    {
     "cell_type": "code",
     "collapsed": false,
     "input": [
      "zstar = rv_star(0.90)\n",
      "print(\"(%1.3f, %1.3f)\" % (phat - zstar*se, phat + zstar*se))"
     ],
     "language": "python",
     "metadata": {},
     "outputs": [
      {
       "output_type": "stream",
       "stream": "stdout",
       "text": [
        "(0.089, 0.171)\n"
       ]
      }
     ],
     "prompt_number": 14
    },
    {
     "cell_type": "markdown",
     "metadata": {},
     "source": [
      "### exercise 6.11-12\n",
      "\n",
      "If there is a 3% increase in the percentange in gears that pass inspection, then switch providers.\n",
      "\n",
      "* H0: $d = p_2 - p_1 = 0.03$\n",
      "* H1: $d = p_2 - p_1 > 0.03$\n",
      "\n"
     ]
    },
    {
     "cell_type": "code",
     "collapsed": false,
     "input": [
      "p0    = 0.03\n",
      "n1    = 1000\n",
      "phat1 = 0.899\n",
      "n2    = 1000\n",
      "phat2 = 0.958\n",
      "phat  = phat2 - phat1\n",
      "phat"
     ],
     "language": "python",
     "metadata": {},
     "outputs": [
      {
       "metadata": {},
       "output_type": "pyout",
       "prompt_number": 15,
       "text": [
        "0.05899999999999994"
       ]
      }
     ],
     "prompt_number": 15
    },
    {
     "cell_type": "code",
     "collapsed": false,
     "input": [
      "se = sqrt(phat1*(1-phat1)/n1 + phat2*(1-phat2)/n2)\n",
      "se"
     ],
     "language": "python",
     "metadata": {},
     "outputs": [
      {
       "metadata": {},
       "output_type": "pyout",
       "prompt_number": 16,
       "text": [
        "0.011447052022245729"
       ]
      }
     ],
     "prompt_number": 16
    },
    {
     "cell_type": "code",
     "collapsed": false,
     "input": [
      "zstar = rv_star(0.90)\n",
      "print(\"(%1.3f, %1.3f)\" % (phat - zstar*se, phat + zstar*se))"
     ],
     "language": "python",
     "metadata": {},
     "outputs": [
      {
       "output_type": "stream",
       "stream": "stdout",
       "text": [
        "(0.040, 0.078)\n"
       ]
      }
     ],
     "prompt_number": 17
    },
    {
     "cell_type": "code",
     "collapsed": false,
     "input": [
      "z = (phat - p0)/se\n",
      "z"
     ],
     "language": "python",
     "metadata": {},
     "outputs": [
      {
       "metadata": {},
       "output_type": "pyout",
       "prompt_number": 18,
       "text": [
        "2.5334033551732391"
       ]
      }
     ],
     "prompt_number": 18
    },
    {
     "cell_type": "code",
     "collapsed": false,
     "input": [
      "hyp_test(z, alpha=0.05, two_sided=False, rv=st.norm)"
     ],
     "language": "python",
     "metadata": {},
     "outputs": [
      {
       "output_type": "stream",
       "stream": "stdout",
       "text": [
        "Reject H0 at 95% CL with p = 5.65e-03\n"
       ]
      }
     ],
     "prompt_number": 19
    },
    {
     "cell_type": "markdown",
     "metadata": {},
     "source": [
      "#### exercise 6.13-15\n",
      "\n",
      "Is there an increased risk of cancer for dogs exposed to herbicide?\n",
      "\n",
      "* H0: $d = p_{hb} = p_{no}$\n",
      "* H1: $d = p_{hb} \\neq p_{no}$\n",
      "\n",
      "This is an \"experiment\" since we have a control and response group."
     ]
    },
    {
     "cell_type": "code",
     "collapsed": false,
     "input": [
      "# table 6.4\n",
      "# seems like there is an error in the table --> fixed to match answers\n",
      "df = pd.DataFrame(data=np.array([[191, 300],[304, 641]]),\n",
      "                  columns=[\"cancer\", \"no_cancer\"], \n",
      "                  index=[\"hb\", \"no\"])\n",
      "df"
     ],
     "language": "python",
     "metadata": {},
     "outputs": [
      {
       "html": [
        "<div style=\"max-height:1000px;max-width:1500px;overflow:auto;\">\n",
        "<table border=\"1\" class=\"dataframe\">\n",
        "  <thead>\n",
        "    <tr style=\"text-align: right;\">\n",
        "      <th></th>\n",
        "      <th>cancer</th>\n",
        "      <th>no_cancer</th>\n",
        "    </tr>\n",
        "  </thead>\n",
        "  <tbody>\n",
        "    <tr>\n",
        "      <th>hb</th>\n",
        "      <td> 191</td>\n",
        "      <td> 300</td>\n",
        "    </tr>\n",
        "    <tr>\n",
        "      <th>no</th>\n",
        "      <td> 304</td>\n",
        "      <td> 641</td>\n",
        "    </tr>\n",
        "  </tbody>\n",
        "</table>\n",
        "</div>"
       ],
       "metadata": {},
       "output_type": "pyout",
       "prompt_number": 20,
       "text": [
        "    cancer  no_cancer\n",
        "hb     191        300\n",
        "no     304        641"
       ]
      }
     ],
     "prompt_number": 20
    },
    {
     "cell_type": "code",
     "collapsed": false,
     "input": [
      "n1    = df.ix['hb'].sum().astype(float64)\n",
      "n2    = df.ix['no'].sum().astype(float64)\n",
      "n     = np.sum(df.sum())\n",
      "phat1 = df.cancer.ix['hb']/np.float64(n1)\n",
      "phat2 = df.cancer.ix['no']/np.float64(n2)\n",
      "phat  = phat1 - phat2\n",
      "ptotal = (n1*phat1 + n2*phat2)/(n1 + n2)\n",
      "p0     = 0\n",
      "(phat, ptotal, p0, phat1, phat2, n, n1, n2)"
     ],
     "language": "python",
     "metadata": {},
     "outputs": [
      {
       "metadata": {},
       "output_type": "pyout",
       "prompt_number": 21,
       "text": [
        "(0.067308914966756117,\n",
        " 0.34470752089136492,\n",
        " 0,\n",
        " 0.38900203665987781,\n",
        " 0.3216931216931217,\n",
        " 1436,\n",
        " 491.0,\n",
        " 945.0)"
       ]
      }
     ],
     "prompt_number": 21
    },
    {
     "cell_type": "code",
     "collapsed": false,
     "input": [
      "se = sqrt(phat1*(1-phat1)/n1 + phat2*(1-phat2)/n2)\n",
      "se"
     ],
     "language": "python",
     "metadata": {},
     "outputs": [
      {
       "metadata": {},
       "output_type": "pyout",
       "prompt_number": 22,
       "text": [
        "0.026739085987382109"
       ]
      }
     ],
     "prompt_number": 22
    },
    {
     "cell_type": "code",
     "collapsed": false,
     "input": [
      "# confidence interval\n",
      "zstar = rv_star(0.90)\n",
      "print(\"(%1.3f, %1.3f)\" % (phat - zstar*se, phat + zstar*se))"
     ],
     "language": "python",
     "metadata": {},
     "outputs": [
      {
       "output_type": "stream",
       "stream": "stdout",
       "text": [
        "(0.023, 0.111)\n"
       ]
      }
     ],
     "prompt_number": 23
    },
    {
     "cell_type": "markdown",
     "metadata": {},
     "source": [
      "In a hyp test, the test statistic is always examined as though the H0 were true.  In this case, $p_{hb} = p_{nb}$.  When computing SE,  you should use the full *p* to represent the common rate."
     ]
    },
    {
     "cell_type": "code",
     "collapsed": false,
     "input": [
      "se = sqrt(ptotal*(1-ptotal)/n1 + ptotal*(1-ptotal)/n2)\n",
      "se"
     ],
     "language": "python",
     "metadata": {},
     "outputs": [
      {
       "metadata": {},
       "output_type": "pyout",
       "prompt_number": 24,
       "text": [
        "0.026440127246176504"
       ]
      }
     ],
     "prompt_number": 24
    },
    {
     "cell_type": "code",
     "collapsed": false,
     "input": [
      "z = (phat - p0)/se\n",
      "z"
     ],
     "language": "python",
     "metadata": {},
     "outputs": [
      {
       "metadata": {},
       "output_type": "pyout",
       "prompt_number": 25,
       "text": [
        "2.5457107047958565"
       ]
      }
     ],
     "prompt_number": 25
    },
    {
     "cell_type": "code",
     "collapsed": false,
     "input": [
      "hyp_test(z, alpha=0.05, two_sided=False, rv=st.norm)"
     ],
     "language": "python",
     "metadata": {},
     "outputs": [
      {
       "output_type": "stream",
       "stream": "stdout",
       "text": [
        "Reject H0 at 95% CL with p = 5.45e-03\n"
       ]
      }
     ],
     "prompt_number": 26
    },
    {
     "cell_type": "markdown",
     "metadata": {},
     "source": [
      "### 6.3 Testing for goodness of fit using chi-square\n",
      "\n",
      "A $\\chi^2$ test is typically used when:\n",
      "\n",
      "* Given a sample of cases that can be classified into several groups, determine if the sample is representative of the general population.\n",
      "* Evaluate whether data resemble a particular distribution, such as a normal distribution or some other model.\n",
      "\n",
      "For each bin, use to the observed counts (O) and the estimated counts (E):\n",
      "\n",
      "\\begin{align}\n",
      "    Z_i = \\frac{O_i - E_i}{\\sqrt{E_i}}\n",
      "\\end{align}\n",
      "\n",
      "Then the test statistics, called $\\chi^2$ is defined as:\n",
      "\\begin{align}\n",
      "    \\chi^2 = \\sum_{i=1}^n Z_i^2\n",
      "\\end{align}\n",
      "\n",
      "Squaring the $Z_i$'s does two things:\n",
      "\n",
      "* All Z's will be positive\n",
      "* Larger differences will be exagerated"
     ]
    },
    {
     "cell_type": "markdown",
     "metadata": {},
     "source": [
      "#### figure 6.7"
     ]
    },
    {
     "cell_type": "code",
     "collapsed": false,
     "input": [
      "# compare pdf shapes\n",
      "x = np.linspace(0, 25, 100)\n",
      "plt.plot(x, st.chi2(2).pdf(x), 'b-' , label=\"2\")\n",
      "plt.plot(x, st.chi2(4).pdf(x), 'g--', label=\"4\")\n",
      "plt.plot(x, st.chi2(9).pdf(x), 'r.' , label=\"9\")\n",
      "plt.legend(loc='best', fontsize=20, title=\"Degree of Freedom\", frameon=False)"
     ],
     "language": "python",
     "metadata": {},
     "outputs": [
      {
       "metadata": {},
       "output_type": "pyout",
       "prompt_number": 27,
       "text": [
        "<matplotlib.legend.Legend at 0x10ff69310>"
       ]
      },
      {
       "metadata": {},
       "output_type": "display_data",
       "png": "[encoded data removed]",
       "text": [
        "<matplotlib.figure.Figure at 0x10ff496d0>"
       ]
      }
     ],
     "prompt_number": 27
    },
    {
     "cell_type": "markdown",
     "metadata": {},
     "source": [
      "#### figure 6.9 for exercies 6.21-26"
     ]
    },
    {
     "cell_type": "code",
     "collapsed": false,
     "input": [
      "# plot for figure 6.9\n",
      "def plot_chi2(df, obs, xlim, ax=plt):\n",
      "    rv = st.chi2(df=df)\n",
      "    x  = np.linspace(xlim[0], xlim[1], 100)\n",
      "\n",
      "    # plot chi2 pdf\n",
      "    ax.plot(x, rv.pdf(x), 'k-', lw=2, label=r\"$df = %d$\"%df)\n",
      "    \n",
      "    # Make the shaded region\n",
      "    a, b = obs, xlim[1]\n",
      "    ix = np.linspace(a, b, 100)\n",
      "    iy = rv.pdf(ix)\n",
      "    verts = [(a, 0)] + list(zip(ix, iy)) + [(b, 0)]\n",
      "    poly = Polygon(verts, facecolor='0.9', edgecolor='0.5', color='blue', alpha=0.5)\n",
      "    ax.add_patch(poly)\n",
      "    \n",
      "    # labels\n",
      "    ax.text(obs, rv.pdf(obs)+0.01, r\"$x = %1.2f$\" % obs, \n",
      "            horizontalalignment='left', fontsize=15)\n",
      "    ax.spines['right'].set_visible(False)\n",
      "    ax.spines['top'  ].set_visible(False)\n",
      "    ax.xaxis.set_ticks_position('bottom')\n",
      "    ax.legend(loc='best', fontsize=20, frameon=False)\n",
      "    ax.set_yticks([])\n",
      "\n",
      "# plot the figure\n",
      "fig, axes = plt.subplots(3, 2)\n",
      "plot_chi2(df=3, obs=6.25, xlim=[0,15], ax=axes[0,0])\n",
      "plot_chi2(df=2, obs=4.30, xlim=[0,15], ax=axes[0,1])\n",
      "plot_chi2(df=5, obs=5.10, xlim=[0,25], ax=axes[1,0])\n",
      "plot_chi2(df=7, obs=11.7, xlim=[0,25], ax=axes[1,1])\n",
      "plot_chi2(df=4, obs=10.0, xlim=[0,15], ax=axes[2,0])\n",
      "plot_chi2(df=3, obs=9.21, xlim=[0,15], ax=axes[2,1])\n",
      "plt.show()"
     ],
     "language": "python",
     "metadata": {},
     "outputs": [
      {
       "output_type": "stream",
       "stream": "stderr",
       "text": [
        "/Users/rwk7t/Library/Enthought/Canopy_64bit/User/lib/python2.7/site-packages/matplotlib/patches.py:102: UserWarning: Setting the 'color' property will overridethe edgecolor or facecolor properties. \n",
        "  warnings.warn(\"Setting the 'color' property will override\"\n"
       ]
      },
      {
       "metadata": {},
       "output_type": "display_data",
       "png": "[encoded data removed]",
       "text": [
        "<matplotlib.figure.Figure at 0x10ffa9750>"
       ]
      }
     ],
     "prompt_number": 28
    },
    {
     "cell_type": "markdown",
     "metadata": {},
     "source": [
      "#### example 6.21-26\n",
      "\n",
      "estimate the region for upper tail starting at obs in \u03c72 with df=df."
     ]
    },
    {
     "cell_type": "code",
     "collapsed": false,
     "input": [
      "def ex6p21to6p26(df, obs, ex_num=21):\n",
      "    display(Latex(r\"ex 6.%d: $\\int_{%1.2f}^{\\infty}dx P_{\\chi^2}(x | df = %d) = %1.2f$\" % \n",
      "                  (ex_num, obs, df, 1.0 - st.chi2(df).cdf(obs))))\n",
      "\n",
      "ex6p21to6p26(df=3, obs=6.25, ex_num=21)\n",
      "ex6p21to6p26(df=2, obs=4.30, ex_num=22)\n",
      "ex6p21to6p26(df=5, obs=5.10, ex_num=23)\n",
      "ex6p21to6p26(df=7, obs=11.7, ex_num=24)\n",
      "ex6p21to6p26(df=4, obs=10.0, ex_num=25)\n",
      "ex6p21to6p26(df=3, obs=9.21, ex_num=26)"
     ],
     "language": "python",
     "metadata": {},
     "outputs": [
      {
       "latex": [
        "ex 6.21: $\\int_{6.25}^{\\infty}dx P_{\\chi^2}(x | df = 3) = 0.10$"
       ],
       "metadata": {},
       "output_type": "display_data",
       "text": [
        "<IPython.core.display.Latex at 0x10ff452d0>"
       ]
      },
      {
       "latex": [
        "ex 6.22: $\\int_{4.30}^{\\infty}dx P_{\\chi^2}(x | df = 2) = 0.12$"
       ],
       "metadata": {},
       "output_type": "display_data",
       "text": [
        "<IPython.core.display.Latex at 0x10ff45290>"
       ]
      },
      {
       "latex": [
        "ex 6.23: $\\int_{5.10}^{\\infty}dx P_{\\chi^2}(x | df = 5) = 0.40$"
       ],
       "metadata": {},
       "output_type": "display_data",
       "text": [
        "<IPython.core.display.Latex at 0x10dbd19d0>"
       ]
      },
      {
       "latex": [
        "ex 6.24: $\\int_{11.70}^{\\infty}dx P_{\\chi^2}(x | df = 7) = 0.11$"
       ],
       "metadata": {},
       "output_type": "display_data",
       "text": [
        "<IPython.core.display.Latex at 0x10ff45290>"
       ]
      },
      {
       "latex": [
        "ex 6.25: $\\int_{10.00}^{\\infty}dx P_{\\chi^2}(x | df = 4) = 0.04$"
       ],
       "metadata": {},
       "output_type": "display_data",
       "text": [
        "<IPython.core.display.Latex at 0x10dbd19d0>"
       ]
      },
      {
       "latex": [
        "ex 6.26: $\\int_{9.21}^{\\infty}dx P_{\\chi^2}(x | df = 3) = 0.03$"
       ],
       "metadata": {},
       "output_type": "display_data",
       "text": [
        "<IPython.core.display.Latex at 0x10ff45290>"
       ]
      }
     ],
     "prompt_number": 29
    },
    {
     "cell_type": "markdown",
     "metadata": {},
     "source": [
      "#### jury selection example\n",
      "\n",
      "* H0: jury selection is unbiased racially\n",
      "* H1: jury selection is racially biased"
     ]
    },
    {
     "cell_type": "code",
     "collapsed": false,
     "input": [
      "# table 6.5\n",
      "df = pd.DataFrame(data=np.array([[205, 26, 25, 19, 275],[0.72, 0.07, 0.12, 0.09, 1.00]]),\n",
      "                  columns=[\"w\", \"b\", \"h\", \"o\", \"total\"], \n",
      "                  index=[\"jury\", \"perc\"])\n",
      "df"
     ],
     "language": "python",
     "metadata": {},
     "outputs": [
      {
       "html": [
        "<div style=\"max-height:1000px;max-width:1500px;overflow:auto;\">\n",
        "<table border=\"1\" class=\"dataframe\">\n",
        "  <thead>\n",
        "    <tr style=\"text-align: right;\">\n",
        "      <th></th>\n",
        "      <th>w</th>\n",
        "      <th>b</th>\n",
        "      <th>h</th>\n",
        "      <th>o</th>\n",
        "      <th>total</th>\n",
        "    </tr>\n",
        "  </thead>\n",
        "  <tbody>\n",
        "    <tr>\n",
        "      <th>jury</th>\n",
        "      <td> 205.00</td>\n",
        "      <td> 26.00</td>\n",
        "      <td> 25.00</td>\n",
        "      <td> 19.00</td>\n",
        "      <td> 275</td>\n",
        "    </tr>\n",
        "    <tr>\n",
        "      <th>perc</th>\n",
        "      <td>   0.72</td>\n",
        "      <td>  0.07</td>\n",
        "      <td>  0.12</td>\n",
        "      <td>  0.09</td>\n",
        "      <td>   1</td>\n",
        "    </tr>\n",
        "  </tbody>\n",
        "</table>\n",
        "</div>"
       ],
       "metadata": {},
       "output_type": "pyout",
       "prompt_number": 30,
       "text": [
        "           w      b      h      o  total\n",
        "jury  205.00  26.00  25.00  19.00    275\n",
        "perc    0.72   0.07   0.12   0.09      1"
       ]
      }
     ],
     "prompt_number": 30
    },
    {
     "cell_type": "code",
     "collapsed": false,
     "input": [
      "# calculate z values\n",
      "dof  = len(df.columns)-1\n",
      "N    = df.ix['jury']['total']\n",
      "null = df.ix['perc']*N\n",
      "z    = (df.ix['jury'] - null)/sqrt(null)\n",
      "z"
     ],
     "language": "python",
     "metadata": {},
     "outputs": [
      {
       "metadata": {},
       "output_type": "pyout",
       "prompt_number": 31,
       "text": [
        "w        0.497468\n",
        "b        1.538468\n",
        "h       -1.392621\n",
        "o       -1.155793\n",
        "total    0.000000\n",
        "dtype: float64"
       ]
      }
     ],
     "prompt_number": 31
    },
    {
     "cell_type": "code",
     "collapsed": false,
     "input": [
      "# chi2 value\n",
      "chi2 = np.sum(z**2)\n",
      "chi2"
     ],
     "language": "python",
     "metadata": {},
     "outputs": [
      {
       "metadata": {},
       "output_type": "pyout",
       "prompt_number": 32,
       "text": [
        "5.8896103896103877"
       ]
      }
     ],
     "prompt_number": 32
    },
    {
     "cell_type": "code",
     "collapsed": false,
     "input": [
      "pvalue = 1.0 - st.chi2(df=dof).cdf(chi2)\n",
      "pvalue"
     ],
     "language": "python",
     "metadata": {},
     "outputs": [
      {
       "metadata": {},
       "output_type": "pyout",
       "prompt_number": 33,
       "text": [
        "0.20754530578659602"
       ]
      }
     ],
     "prompt_number": 33
    },
    {
     "cell_type": "code",
     "collapsed": false,
     "input": [
      "hyp_test(chi2, alpha=0.05, two_sided=False, rv=st.chi2(df=dof))"
     ],
     "language": "python",
     "metadata": {},
     "outputs": [
      {
       "output_type": "stream",
       "stream": "stdout",
       "text": [
        "Fail to reject H0 at 95% CL with p = 2.08e-01\n"
       ]
      }
     ],
     "prompt_number": 34
    },
    {
     "cell_type": "markdown",
     "metadata": {},
     "source": [
      "### Conditions for $\\chi^2$ test validity\n",
      "\n",
      "* **independenc:** each bin count must be independent of each other\n",
      "* **sample size:** $n_{bin} \\geq 5$\n",
      "* **degrees of freedom:** $n_{dof} \\geq 2$"
     ]
    },
    {
     "cell_type": "markdown",
     "metadata": {},
     "source": [
      "### Evaluating goodness of fit for a distribution\n",
      "\n",
      "Want to use $\\chi^2$ test to determine whether an observation fits a particular model."
     ]
    },
    {
     "cell_type": "markdown",
     "metadata": {},
     "source": [
      "#### Stock Market example\n",
      "\n",
      "* H0: stock market up/down is independent of previous days' results\n",
      "* H1: stock markget is **not** independent of previous days' results\n",
      "\n",
      "Following table represents the # of days before a positive trading day.  The expected count is from assuming the result follows a geomtric distribution:\n",
      "\n",
      "\\begin{align}\n",
      "    P(d) = (1-p)^{d-1} \\times p\n",
      "\\end{align}\n",
      "\n",
      "Here p was modeled as 0.532."
     ]
    },
    {
     "cell_type": "code",
     "collapsed": false,
     "input": [
      "# table 6.12\n",
      "days = pd.Series([1, 3, 3, 4, 5, 6, 7], name=\"days\")\n",
      "obs  = pd.Series([1532, 760, 338, 194, 74, 33, 17], name=\"obs\", index=days)\n",
      "exp  = pd.Series([1569, 734, 343, 161, 75, 35, 31], name=\"exp\", index=days)\n",
      "df   = pd.concat([obs, exp], axis=1)\n",
      "df"
     ],
     "language": "python",
     "metadata": {},
     "outputs": [
      {
       "html": [
        "<div style=\"max-height:1000px;max-width:1500px;overflow:auto;\">\n",
        "<table border=\"1\" class=\"dataframe\">\n",
        "  <thead>\n",
        "    <tr style=\"text-align: right;\">\n",
        "      <th></th>\n",
        "      <th>obs</th>\n",
        "      <th>exp</th>\n",
        "    </tr>\n",
        "    <tr>\n",
        "      <th>days</th>\n",
        "      <th></th>\n",
        "      <th></th>\n",
        "    </tr>\n",
        "  </thead>\n",
        "  <tbody>\n",
        "    <tr>\n",
        "      <th>1</th>\n",
        "      <td> 1532</td>\n",
        "      <td> 1569</td>\n",
        "    </tr>\n",
        "    <tr>\n",
        "      <th>3</th>\n",
        "      <td>  760</td>\n",
        "      <td>  734</td>\n",
        "    </tr>\n",
        "    <tr>\n",
        "      <th>3</th>\n",
        "      <td>  338</td>\n",
        "      <td>  343</td>\n",
        "    </tr>\n",
        "    <tr>\n",
        "      <th>4</th>\n",
        "      <td>  194</td>\n",
        "      <td>  161</td>\n",
        "    </tr>\n",
        "    <tr>\n",
        "      <th>5</th>\n",
        "      <td>   74</td>\n",
        "      <td>   75</td>\n",
        "    </tr>\n",
        "    <tr>\n",
        "      <th>6</th>\n",
        "      <td>   33</td>\n",
        "      <td>   35</td>\n",
        "    </tr>\n",
        "    <tr>\n",
        "      <th>7</th>\n",
        "      <td>   17</td>\n",
        "      <td>   31</td>\n",
        "    </tr>\n",
        "  </tbody>\n",
        "</table>\n",
        "</div>"
       ],
       "metadata": {},
       "output_type": "pyout",
       "prompt_number": 35,
       "text": [
        "       obs   exp\n",
        "days            \n",
        "1     1532  1569\n",
        "3      760   734\n",
        "3      338   343\n",
        "4      194   161\n",
        "5       74    75\n",
        "6       33    35\n",
        "7       17    31"
       ]
      }
     ],
     "prompt_number": 35
    },
    {
     "cell_type": "code",
     "collapsed": false,
     "input": [
      "# figure 6.13\n",
      "df.plot(kind='bar')\n",
      "plt.ylabel(\"Frequency\")\n",
      "plt.xlabel(\"wait until positive day\")\n",
      "plt.show()"
     ],
     "language": "python",
     "metadata": {},
     "outputs": [
      {
       "metadata": {},
       "output_type": "display_data",
       "png": "[encoded data removed]",
       "text": [
        "<matplotlib.figure.Figure at 0x10ff4b390>"
       ]
      }
     ],
     "prompt_number": 36
    },
    {
     "cell_type": "code",
     "collapsed": false,
     "input": [
      "# computer chi2\n",
      "chi2 = np.sum((df.obs - df.exp)**2/df.exp)\n",
      "chi2"
     ],
     "language": "python",
     "metadata": {},
     "outputs": [
      {
       "metadata": {},
       "output_type": "pyout",
       "prompt_number": 37,
       "text": [
        "15.080572345926363"
       ]
      }
     ],
     "prompt_number": 37
    },
    {
     "cell_type": "code",
     "collapsed": false,
     "input": [
      "# degrees of freedom\n",
      "k = len(days) # of bins\n",
      "dof = k - 1\n",
      "dof"
     ],
     "language": "python",
     "metadata": {},
     "outputs": [
      {
       "metadata": {},
       "output_type": "pyout",
       "prompt_number": 38,
       "text": [
        "6"
       ]
      }
     ],
     "prompt_number": 38
    },
    {
     "cell_type": "code",
     "collapsed": false,
     "input": [
      "pvalue = 1.0 - st.chi2(df=dof).cdf(chi2)\n",
      "pvalue"
     ],
     "language": "python",
     "metadata": {},
     "outputs": [
      {
       "metadata": {},
       "output_type": "pyout",
       "prompt_number": 39,
       "text": [
        "0.019639215904503904"
       ]
      }
     ],
     "prompt_number": 39
    },
    {
     "cell_type": "code",
     "collapsed": false,
     "input": [
      "hyp_test(chi2, alpha=0.05, two_sided=False, rv=st.chi2(df=dof))"
     ],
     "language": "python",
     "metadata": {},
     "outputs": [
      {
       "output_type": "stream",
       "stream": "stdout",
       "text": [
        "Reject H0 at 95% CL with p = 1.96e-02\n"
       ]
      }
     ],
     "prompt_number": 40
    },
    {
     "cell_type": "markdown",
     "metadata": {},
     "source": [
      "### Testing for the independence in two-way tables\n",
      "\n",
      "See if there is a performance difference between the two algorithms:\n",
      "\n",
      "* H0: aglos all perform equally\n",
      "* H1: algos do **not** perform equally"
     ]
    },
    {
     "cell_type": "code",
     "collapsed": false,
     "input": [
      "# table 6.16\n",
      "algo  = pd.Series([\"curr\", \"test1\", \"test2\", \"total\"], name=\"aglo\")\n",
      "old   = pd.Series([3511, 1749, 1818, 7078], name=\"old\", index=algo)\n",
      "new   = pd.Series([1489, 751, 682, 2922  ], name=\"new\", index=algo)\n",
      "total = new + old; total.name=\"total\"\n",
      "df    = pd.concat([old, new, total], axis=1)\n",
      "df"
     ],
     "language": "python",
     "metadata": {},
     "outputs": [
      {
       "html": [
        "<div style=\"max-height:1000px;max-width:1500px;overflow:auto;\">\n",
        "<table border=\"1\" class=\"dataframe\">\n",
        "  <thead>\n",
        "    <tr style=\"text-align: right;\">\n",
        "      <th></th>\n",
        "      <th>old</th>\n",
        "      <th>new</th>\n",
        "      <th>total</th>\n",
        "    </tr>\n",
        "    <tr>\n",
        "      <th>aglo</th>\n",
        "      <th></th>\n",
        "      <th></th>\n",
        "      <th></th>\n",
        "    </tr>\n",
        "  </thead>\n",
        "  <tbody>\n",
        "    <tr>\n",
        "      <th>curr</th>\n",
        "      <td> 3511</td>\n",
        "      <td> 1489</td>\n",
        "      <td>  5000</td>\n",
        "    </tr>\n",
        "    <tr>\n",
        "      <th>test1</th>\n",
        "      <td> 1749</td>\n",
        "      <td>  751</td>\n",
        "      <td>  2500</td>\n",
        "    </tr>\n",
        "    <tr>\n",
        "      <th>test2</th>\n",
        "      <td> 1818</td>\n",
        "      <td>  682</td>\n",
        "      <td>  2500</td>\n",
        "    </tr>\n",
        "    <tr>\n",
        "      <th>total</th>\n",
        "      <td> 7078</td>\n",
        "      <td> 2922</td>\n",
        "      <td> 10000</td>\n",
        "    </tr>\n",
        "  </tbody>\n",
        "</table>\n",
        "</div>"
       ],
       "metadata": {},
       "output_type": "pyout",
       "prompt_number": 41,
       "text": [
        "        old   new  total\n",
        "aglo                    \n",
        "curr   3511  1489   5000\n",
        "test1  1749   751   2500\n",
        "test2  1818   682   2500\n",
        "total  7078  2922  10000"
       ]
      }
     ],
     "prompt_number": 41
    },
    {
     "cell_type": "code",
     "collapsed": false,
     "input": [
      "# estimated porportion\n",
      "p = df.ix['total'].old/float(df.ix['total'].total)\n",
      "p"
     ],
     "language": "python",
     "metadata": {},
     "outputs": [
      {
       "metadata": {},
       "output_type": "pyout",
       "prompt_number": 42,
       "text": [
        "0.70779999999999998"
       ]
      }
     ],
     "prompt_number": 42
    },
    {
     "cell_type": "code",
     "collapsed": false,
     "input": [
      "df.ix['curr'].total * p"
     ],
     "language": "python",
     "metadata": {},
     "outputs": [
      {
       "metadata": {},
       "output_type": "pyout",
       "prompt_number": 43,
       "text": [
        "3539.0"
       ]
      }
     ],
     "prompt_number": 43
    },
    {
     "cell_type": "code",
     "collapsed": false,
     "input": [
      "df.ix['test1'].total * p"
     ],
     "language": "python",
     "metadata": {},
     "outputs": [
      {
       "metadata": {},
       "output_type": "pyout",
       "prompt_number": 44,
       "text": [
        "1769.5"
       ]
      }
     ],
     "prompt_number": 44
    },
    {
     "cell_type": "code",
     "collapsed": false,
     "input": [
      "old_exp = df.total * p\n",
      "old_exp.name = \"old_exp\""
     ],
     "language": "python",
     "metadata": {},
     "outputs": [],
     "prompt_number": 45
    },
    {
     "cell_type": "code",
     "collapsed": false,
     "input": [
      "new_exp = df.total * (1-p)\n",
      "new_exp.name = \"new_exp\""
     ],
     "language": "python",
     "metadata": {},
     "outputs": [],
     "prompt_number": 46
    },
    {
     "cell_type": "code",
     "collapsed": false,
     "input": [
      "df = pd.concat([df, old_exp, new_exp], axis=1)\n",
      "df"
     ],
     "language": "python",
     "metadata": {},
     "outputs": [
      {
       "html": [
        "<div style=\"max-height:1000px;max-width:1500px;overflow:auto;\">\n",
        "<table border=\"1\" class=\"dataframe\">\n",
        "  <thead>\n",
        "    <tr style=\"text-align: right;\">\n",
        "      <th></th>\n",
        "      <th>old</th>\n",
        "      <th>new</th>\n",
        "      <th>total</th>\n",
        "      <th>old_exp</th>\n",
        "      <th>new_exp</th>\n",
        "    </tr>\n",
        "    <tr>\n",
        "      <th>aglo</th>\n",
        "      <th></th>\n",
        "      <th></th>\n",
        "      <th></th>\n",
        "      <th></th>\n",
        "      <th></th>\n",
        "    </tr>\n",
        "  </thead>\n",
        "  <tbody>\n",
        "    <tr>\n",
        "      <th>curr</th>\n",
        "      <td> 3511</td>\n",
        "      <td> 1489</td>\n",
        "      <td>  5000</td>\n",
        "      <td> 3539.0</td>\n",
        "      <td> 1461.0</td>\n",
        "    </tr>\n",
        "    <tr>\n",
        "      <th>test1</th>\n",
        "      <td> 1749</td>\n",
        "      <td>  751</td>\n",
        "      <td>  2500</td>\n",
        "      <td> 1769.5</td>\n",
        "      <td>  730.5</td>\n",
        "    </tr>\n",
        "    <tr>\n",
        "      <th>test2</th>\n",
        "      <td> 1818</td>\n",
        "      <td>  682</td>\n",
        "      <td>  2500</td>\n",
        "      <td> 1769.5</td>\n",
        "      <td>  730.5</td>\n",
        "    </tr>\n",
        "    <tr>\n",
        "      <th>total</th>\n",
        "      <td> 7078</td>\n",
        "      <td> 2922</td>\n",
        "      <td> 10000</td>\n",
        "      <td> 7078.0</td>\n",
        "      <td> 2922.0</td>\n",
        "    </tr>\n",
        "  </tbody>\n",
        "</table>\n",
        "</div>"
       ],
       "metadata": {},
       "output_type": "pyout",
       "prompt_number": 47,
       "text": [
        "        old   new  total  old_exp  new_exp\n",
        "aglo                                      \n",
        "curr   3511  1489   5000   3539.0   1461.0\n",
        "test1  1749   751   2500   1769.5    730.5\n",
        "test2  1818   682   2500   1769.5    730.5\n",
        "total  7078  2922  10000   7078.0   2922.0"
       ]
      }
     ],
     "prompt_number": 47
    },
    {
     "cell_type": "code",
     "collapsed": false,
     "input": [
      "# chi2\n",
      "old_z2 = (df.old - df.old_exp)**2/df.old_exp\n",
      "new_z2 = (df.new - df.new_exp)**2/df.new_exp\n",
      "chi2   = old_z2.sum() + new_z2.sum()\n",
      "chi2"
     ],
     "language": "python",
     "metadata": {},
     "outputs": [
      {
       "metadata": {},
       "output_type": "pyout",
       "prompt_number": 48,
       "text": [
        "6.1203227012429604"
       ]
      }
     ],
     "prompt_number": 48
    },
    {
     "cell_type": "code",
     "collapsed": false,
     "input": [
      "# dof\n",
      "dof = (2 - 1)*(3 - 1)\n",
      "dof"
     ],
     "language": "python",
     "metadata": {},
     "outputs": [
      {
       "metadata": {},
       "output_type": "pyout",
       "prompt_number": 49,
       "text": [
        "2"
       ]
      }
     ],
     "prompt_number": 49
    },
    {
     "cell_type": "code",
     "collapsed": false,
     "input": [
      "pvalue = 1.0 - st.chi2(df=dof).cdf(chi2)\n",
      "pvalue"
     ],
     "language": "python",
     "metadata": {},
     "outputs": [
      {
       "metadata": {},
       "output_type": "pyout",
       "prompt_number": 50,
       "text": [
        "0.046880130471529835"
       ]
      }
     ],
     "prompt_number": 50
    },
    {
     "cell_type": "code",
     "collapsed": false,
     "input": [
      "hyp_test(chi2, alpha=0.05, two_sided=False, rv=st.chi2(df=dof))"
     ],
     "language": "python",
     "metadata": {},
     "outputs": [
      {
       "output_type": "stream",
       "stream": "stdout",
       "text": [
        "Reject H0 at 95% CL with p = 4.69e-02\n"
       ]
      }
     ],
     "prompt_number": 51
    },
    {
     "cell_type": "markdown",
     "metadata": {},
     "source": [
      "### Small sample hypothesis testing for a proportion\n",
      "\n",
      "Need to developmen methods for a single proportion when the sample size is too small to model \\hat{p}.  \n",
      "\n",
      "Consider that the complication rate for liver transplants is about 10%.  A Cosultant claims she's only had 3 complications in 62 surguries.  She claims this is strong evidence that she helps -- does she?"
     ]
    },
    {
     "cell_type": "markdown",
     "metadata": {},
     "source": [
      "#### exercies 6.42-43"
     ]
    },
    {
     "cell_type": "code",
     "collapsed": false,
     "input": [
      "phat = 3.0/62.0\n",
      "phat"
     ],
     "language": "python",
     "metadata": {},
     "outputs": [
      {
       "metadata": {},
       "output_type": "pyout",
       "prompt_number": 52,
       "text": [
        "0.04838709677419355"
       ]
      }
     ],
     "prompt_number": 52
    },
    {
     "cell_type": "markdown",
     "metadata": {},
     "source": [
      "Cannot use $\\hat{p}$ to assess the consultant's claim $\\to$ data is observational only so cannot be causal.  Can still do an observation:\n",
      "\n",
      "* H0: p = 0.1\n",
      "* H1: p < 0.1\n",
      "\n",
      "Cannot use the normal distribution for the sampling distribution -- $n*p = 62 \\times 0.1 \\ngeq 10$ sucesses too low so we cannot invoke the CTL for the SE.\n",
      "\n",
      "Need to estimate the SE using **simulation**"
     ]
    },
    {
     "cell_type": "markdown",
     "metadata": {},
     "source": [
      "#### generating the null distribution and p-value by simulation"
     ]
    },
    {
     "cell_type": "code",
     "collapsed": false,
     "input": [
      "# null hypothesis\n",
      "p0 = 0.1\n",
      "n  = 62"
     ],
     "language": "python",
     "metadata": {},
     "outputs": [],
     "prompt_number": 53
    },
    {
     "cell_type": "markdown",
     "metadata": {},
     "source": [
      "Assume sampling distribution is binomial: k sucesses in n trials.  We draw a binomial distribution and build a sampling distribution of $\\hat{p}_{sim}$."
     ]
    },
    {
     "cell_type": "code",
     "collapsed": false,
     "input": [
      "phat_sim = st.binom(n=n, p=p0).rvs(size=100000)/float(n)\n",
      "plt.hist(phat_sim, np.linspace(-0.005, 0.255, 62), histtype='step');"
     ],
     "language": "python",
     "metadata": {},
     "outputs": [
      {
       "metadata": {},
       "output_type": "display_data",
       "png": "[encoded data removed]",
       "text": [
        "<matplotlib.figure.Figure at 0x1109c3410>"
       ]
      }
     ],
     "prompt_number": 54
    },
    {
     "cell_type": "code",
     "collapsed": false,
     "input": [
      "alpha  = 0.05\n",
      "cl     = 100*(1.0 - alpha)\n",
      "pvalue = np.sum(phat_sim <= phat, dtype=float64)/len(phat_sim)\n",
      "if pvalue > alpha:\n",
      "    display(Latex(r\"$p-value = %1.3f \\gt %1.3f$ so fail to reject H0 at %1.0f%% CL\" % (pvalue, alpha, cl)))\n",
      "else:\n",
      "    display(Latex(r\"$p-value = %1.3f \\lt %1.3f$ so to reject H0 at %1.0f%% CL\" % (pvalue, alpha, cl)))"
     ],
     "language": "python",
     "metadata": {},
     "outputs": [
      {
       "latex": [
        "$p-value = 0.120 \\gt 0.050$ so fail to reject H0 at 95% CL"
       ],
       "metadata": {},
       "output_type": "display_data",
       "text": [
        "<IPython.core.display.Latex at 0x1109cb790>"
       ]
      }
     ],
     "prompt_number": 55
    },
    {
     "cell_type": "markdown",
     "metadata": {},
     "source": [
      "#### Generating the exact null distribution and p-value\n",
      "\n",
      "The previous p-value was only an estimate (although a pretty good one) since we build up a binomial distrubtion from throwing toys from a binomial RV.  This is is really useful when the RV is move complicated and the pdf is not known or untractable analytically.\n",
      "\n",
      "Here though, we know its a binomial distribution so we can get an exact value for the sampling distribution."
     ]
    },
    {
     "cell_type": "code",
     "collapsed": false,
     "input": [
      "# hyp test using pdf directly --> left sided\n",
      "pvalue = st.binom(n=n, p=p0).cdf(3)\n",
      "pvalue"
     ],
     "language": "python",
     "metadata": {},
     "outputs": [
      {
       "metadata": {},
       "output_type": "pyout",
       "prompt_number": 56,
       "text": [
        "0.12097872674646168"
       ]
      }
     ],
     "prompt_number": 56
    },
    {
     "cell_type": "code",
     "collapsed": false,
     "input": [
      "if pvalue > alpha:\n",
      "    display(Latex(r\"$p-value = %1.3f \\gt %1.3f$ so fail to reject H0 at %1.0f%% CL\" % (pvalue, alpha, cl)))\n",
      "else:\n",
      "    display(Latex(r\"$p-value = %1.3f \\lt %1.3f$ so to reject H0 at %1.0f%% CL\" % (pvalue, alpha, cl)))"
     ],
     "language": "python",
     "metadata": {},
     "outputs": [
      {
       "latex": [
        "$p-value = 0.121 \\gt 0.050$ so fail to reject H0 at 95% CL"
       ],
       "metadata": {},
       "output_type": "display_data",
       "text": [
        "<IPython.core.display.Latex at 0x11094f7d0>"
       ]
      }
     ],
     "prompt_number": 57
    },
    {
     "cell_type": "markdown",
     "metadata": {},
     "source": [
      "### 6.6 Hypothesis Testing for Two Proportions\n",
      "\n",
      "CPR experiment:  Split the patients who use blood thinners after CPR and those that don't into a control and response group.  Test the rate that they survive 24 hours after heart attack.\n",
      "\n",
      "* H0: $p_{c} = p_{r}$\n",
      "* H1: $p_{c} \\neq p_{r}$"
     ]
    },
    {
     "cell_type": "code",
     "collapsed": false,
     "input": [
      "# inport data\n",
      "df = pd.read_table('data/cpr.txt')\n",
      "df.head()"
     ],
     "language": "python",
     "metadata": {},
     "outputs": [
      {
       "html": [
        "<div style=\"max-height:1000px;max-width:1500px;overflow:auto;\">\n",
        "<table border=\"1\" class=\"dataframe\">\n",
        "  <thead>\n",
        "    <tr style=\"text-align: right;\">\n",
        "      <th></th>\n",
        "      <th>group</th>\n",
        "      <th>outcome</th>\n",
        "    </tr>\n",
        "  </thead>\n",
        "  <tbody>\n",
        "    <tr>\n",
        "      <th>0</th>\n",
        "      <td> control</td>\n",
        "      <td> survived</td>\n",
        "    </tr>\n",
        "    <tr>\n",
        "      <th>1</th>\n",
        "      <td> control</td>\n",
        "      <td> survived</td>\n",
        "    </tr>\n",
        "    <tr>\n",
        "      <th>2</th>\n",
        "      <td> control</td>\n",
        "      <td> survived</td>\n",
        "    </tr>\n",
        "    <tr>\n",
        "      <th>3</th>\n",
        "      <td> control</td>\n",
        "      <td> survived</td>\n",
        "    </tr>\n",
        "    <tr>\n",
        "      <th>4</th>\n",
        "      <td> control</td>\n",
        "      <td> survived</td>\n",
        "    </tr>\n",
        "  </tbody>\n",
        "</table>\n",
        "</div>"
       ],
       "metadata": {},
       "output_type": "pyout",
       "prompt_number": 58,
       "text": [
        "     group   outcome\n",
        "0  control  survived\n",
        "1  control  survived\n",
        "2  control  survived\n",
        "3  control  survived\n",
        "4  control  survived"
       ]
      }
     ],
     "prompt_number": 58
    },
    {
     "cell_type": "markdown",
     "metadata": {},
     "source": [
      "#### table 6.22"
     ]
    },
    {
     "cell_type": "code",
     "collapsed": false,
     "input": [
      "df = pd.crosstab(index=df.group, columns=df.outcome, margins=True)\n",
      "df"
     ],
     "language": "python",
     "metadata": {},
     "outputs": [
      {
       "html": [
        "<div style=\"max-height:1000px;max-width:1500px;overflow:auto;\">\n",
        "<table border=\"1\" class=\"dataframe\">\n",
        "  <thead>\n",
        "    <tr style=\"text-align: right;\">\n",
        "      <th>outcome</th>\n",
        "      <th>died</th>\n",
        "      <th>survived</th>\n",
        "      <th>All</th>\n",
        "    </tr>\n",
        "    <tr>\n",
        "      <th>group</th>\n",
        "      <th></th>\n",
        "      <th></th>\n",
        "      <th></th>\n",
        "    </tr>\n",
        "  </thead>\n",
        "  <tbody>\n",
        "    <tr>\n",
        "      <th>control</th>\n",
        "      <td> 39</td>\n",
        "      <td> 11</td>\n",
        "      <td> 50</td>\n",
        "    </tr>\n",
        "    <tr>\n",
        "      <th>treatment</th>\n",
        "      <td> 26</td>\n",
        "      <td> 14</td>\n",
        "      <td> 40</td>\n",
        "    </tr>\n",
        "    <tr>\n",
        "      <th>All</th>\n",
        "      <td> 65</td>\n",
        "      <td> 25</td>\n",
        "      <td> 90</td>\n",
        "    </tr>\n",
        "  </tbody>\n",
        "</table>\n",
        "</div>"
       ],
       "metadata": {},
       "output_type": "pyout",
       "prompt_number": 59,
       "text": [
        "outcome    died  survived  All\n",
        "group                         \n",
        "control      39        11   50\n",
        "treatment    26        14   40\n",
        "All          65        25   90"
       ]
      }
     ],
     "prompt_number": 59
    },
    {
     "cell_type": "markdown",
     "metadata": {},
     "source": [
      "#### exercieses 6.54-6.56\n",
      "\n",
      "Test hypothesis using technology from section 6.2"
     ]
    },
    {
     "cell_type": "code",
     "collapsed": false,
     "input": [
      "phat_c = df.ix['control'  ].survived / float(df.ix['control'  ].All)\n",
      "phat_r = df.ix['treatment'].survived / float(df.ix['treatment'].All)\n",
      "phat   = df.ix['All'      ].survived / float(df.ix['All'      ].All)\n",
      "(phat_c, phat_r, phat)"
     ],
     "language": "python",
     "metadata": {},
     "outputs": [
      {
       "metadata": {},
       "output_type": "pyout",
       "prompt_number": 60,
       "text": [
        "(0.22, 0.34999999999999998, 0.27777777777777779)"
       ]
      }
     ],
     "prompt_number": 60
    },
    {
     "cell_type": "code",
     "collapsed": false,
     "input": [
      "dhat = phat_r - phat_c\n",
      "dhat"
     ],
     "language": "python",
     "metadata": {},
     "outputs": [
      {
       "metadata": {},
       "output_type": "pyout",
       "prompt_number": 61,
       "text": [
        "0.12999999999999998"
       ]
      }
     ],
     "prompt_number": 61
    },
    {
     "cell_type": "code",
     "collapsed": false,
     "input": [
      "d0 = 0.0"
     ],
     "language": "python",
     "metadata": {},
     "outputs": [],
     "prompt_number": 62
    },
    {
     "cell_type": "code",
     "collapsed": false,
     "input": [
      "# test normal condtion\n",
      "n_c = df.ix['control'  ].All\n",
      "n_r = df.ix['treatment'].All\n",
      "print (n_c*phat, n_r*phat)\n",
      "print (n_c*phat > 10, n_r*phat > 10)"
     ],
     "language": "python",
     "metadata": {},
     "outputs": [
      {
       "output_type": "stream",
       "stream": "stdout",
       "text": [
        "(13.888888888888889, 11.111111111111111)\n",
        "(True, True)\n"
       ]
      }
     ],
     "prompt_number": 63
    },
    {
     "cell_type": "code",
     "collapsed": false,
     "input": [
      "# standard error\n",
      "x = phat*(1.0 - phat)\n",
      "se = sqrt(x/n_c + x/n_r)\n",
      "se"
     ],
     "language": "python",
     "metadata": {},
     "outputs": [
      {
       "metadata": {},
       "output_type": "pyout",
       "prompt_number": 64,
       "text": [
        "0.09501461875826149"
       ]
      }
     ],
     "prompt_number": 64
    },
    {
     "cell_type": "code",
     "collapsed": false,
     "input": [
      "z = (dhat - d0)/se\n",
      "z"
     ],
     "language": "python",
     "metadata": {},
     "outputs": [
      {
       "metadata": {},
       "output_type": "pyout",
       "prompt_number": 65,
       "text": [
        "1.3682105101189654"
       ]
      }
     ],
     "prompt_number": 65
    },
    {
     "cell_type": "code",
     "collapsed": false,
     "input": [
      "hyp_test(z, alpha=0.05, two_sided=True, rv=st.norm)"
     ],
     "language": "python",
     "metadata": {},
     "outputs": [
      {
       "output_type": "stream",
       "stream": "stdout",
       "text": [
        "Fail to reject H0 at 95% CL with p = 1.71e-01\n"
       ]
      }
     ],
     "prompt_number": 66
    },
    {
     "cell_type": "markdown",
     "metadata": {},
     "source": [
      "#### Using Simulation\n",
      "\n",
      "Redo the previous exercise using a simulation to perform the hypothesis test.\n",
      "\n",
      "Build up sampling distribtuon by repeating \"experiment\" many times"
     ]
    },
    {
     "cell_type": "code",
     "collapsed": false,
     "input": [
      "np.random.seed(1)\n",
      "N_sim  = 1000000\n",
      "psim_c = st.binom(n=n_c, p=phat).rvs(size=N_sim)/float(n_c)\n",
      "psim_r = st.binom(n=n_r, p=phat).rvs(size=N_sim)/float(n_r)\n",
      "dsim   = psim_r - psim_c\n",
      "dsim"
     ],
     "language": "python",
     "metadata": {},
     "outputs": [
      {
       "metadata": {},
       "output_type": "pyout",
       "prompt_number": 67,
       "text": [
        "array([-0.06 , -0.02 ,  0.195, ..., -0.055,  0.175, -0.01 ])"
       ]
      }
     ],
     "prompt_number": 67
    },
    {
     "cell_type": "code",
     "collapsed": false,
     "input": [
      "# figure 6.25\n",
      "plt.hist(dsim, np.linspace(-0.4, 0.4, 31), histtype='step');"
     ],
     "language": "python",
     "metadata": {},
     "outputs": [
      {
       "metadata": {},
       "output_type": "display_data",
       "png": "[encoded data removed]",
       "text": [
        "<matplotlib.figure.Figure at 0x110946290>"
       ]
      }
     ],
     "prompt_number": 68
    },
    {
     "cell_type": "code",
     "collapsed": false,
     "input": [
      "alpha  = 0.05\n",
      "cl     = 100*(1.0 - alpha)\n",
      "pvalue = 2*np.sum(dsim >= dhat, dtype=float64)/len(dsim)\n",
      "if pvalue > alpha:\n",
      "    display(Latex(r\"$pvalue = %1.3f \\gt %1.3f$ so fail to reject H0 at %1.0f%% CL\" % (pvalue, alpha, cl)))\n",
      "else:\n",
      "    display(Latex(r\"$pvalue = %1.3f \\lt %1.3f$ so to reject H0 at %1.0f%% CL\" % (pvalue, alpha, cl)))"
     ],
     "language": "python",
     "metadata": {},
     "outputs": [
      {
       "latex": [
        "$pvalue = 0.181 \\gt 0.050$ so fail to reject H0 at 95% CL"
       ],
       "metadata": {},
       "output_type": "display_data",
       "text": [
        "<IPython.core.display.Latex at 0x10ff52fd0>"
       ]
      }
     ],
     "prompt_number": 69
    },
    {
     "cell_type": "code",
     "collapsed": false,
     "input": [],
     "language": "python",
     "metadata": {},
     "outputs": [],
     "prompt_number": 69
    }
   ],
   "metadata": {}
  }
 ]
}