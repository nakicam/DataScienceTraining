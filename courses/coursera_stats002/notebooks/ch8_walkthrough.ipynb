{
 "metadata": {
  "name": "ch8_walkthrough.ipynb"
 },
 "nbformat": 3,
 "nbformat_minor": 0,
 "worksheets": [
  {
   "cells": [
    {
     "cell_type": "markdown",
     "metadata": {},
     "source": [
      "# ch8: Multiple and Logistic Regression"
     ]
    },
    {
     "cell_type": "markdown",
     "metadata": {},
     "source": [
      "### setup"
     ]
    },
    {
     "cell_type": "code",
     "collapsed": false,
     "input": [
      "# setup notebook\n",
      "import numpy as np\n",
      "import pandas as pd\n",
      "import matplotlib.pyplot as plt\n",
      "import scipy.stats as st\n",
      "import statsmodels.formula.api as smf\n",
      "from IPython.display import display, Math, Latex\n",
      "from matplotlib.patches import Polygon\n",
      "import os\n",
      "os.chdir('%s/courses/coursera_stats002' % os.getenv('DST'))\n",
      "print(os.getcwd())\n",
      "\n",
      "np.set_printoptions(precision=4)\n",
      "plt.rc('figure', figsize=(10, 8))"
     ],
     "language": "python",
     "metadata": {},
     "outputs": [
      {
       "output_type": "stream",
       "stream": "stdout",
       "text": [
        "C:\\Users\\J28976\\Documents\\Development\\dst\\courses\\coursera_stats002\n"
       ]
      }
     ],
     "prompt_number": 3
    },
    {
     "cell_type": "markdown",
     "metadata": {},
     "source": [
      "### 8.1 Introduction to multiple regression\n",
      "\n",
      "You can extend the linear model to multiple dimensions.\n",
      "\n",
      "\\begin{align}\n",
      "    \\hat{y} = \\beta_0 + \\beta_1 x_1 + ... + \\beta_k x_k\n",
      "\\end{align}"
     ]
    },
    {
     "cell_type": "markdown",
     "metadata": {},
     "source": [
      "#### revisit Mario Kart example\n",
      "\n",
      "First we tried using the condition as a *predictor*."
     ]
    },
    {
     "cell_type": "code",
     "collapsed": false,
     "input": [
      "df = pd.read_table('data/marioKart.txt')\n",
      "df = df[df.totalPr < 76.0] # remove outlier to be consistent with book (don't know why)\n",
      "df.head()"
     ],
     "language": "python",
     "metadata": {},
     "outputs": [
      {
       "html": [
        "<div style=\"max-height:1000px;max-width:1500px;overflow:auto;\">\n",
        "<table border=\"1\" class=\"dataframe\">\n",
        "  <thead>\n",
        "    <tr style=\"text-align: right;\">\n",
        "      <th></th>\n",
        "      <th>ID</th>\n",
        "      <th>duration</th>\n",
        "      <th>nBids</th>\n",
        "      <th>cond</th>\n",
        "      <th>startPr</th>\n",
        "      <th>shipPr</th>\n",
        "      <th>totalPr</th>\n",
        "      <th>shipSp</th>\n",
        "      <th>sellerRate</th>\n",
        "      <th>stockPhoto</th>\n",
        "      <th>wheels</th>\n",
        "      <th>title</th>\n",
        "    </tr>\n",
        "  </thead>\n",
        "  <tbody>\n",
        "    <tr>\n",
        "      <th>0</th>\n",
        "      <td> 150377422259</td>\n",
        "      <td> 3</td>\n",
        "      <td> 20</td>\n",
        "      <td>  new</td>\n",
        "      <td> 0.99</td>\n",
        "      <td> 4.00</td>\n",
        "      <td> 51.55</td>\n",
        "      <td>   standard</td>\n",
        "      <td> 1580</td>\n",
        "      <td> yes</td>\n",
        "      <td> 1</td>\n",
        "      <td> ~~ Wii MARIO KART &amp;amp; WHEEL ~ NINTENDO Wii ~...</td>\n",
        "    </tr>\n",
        "    <tr>\n",
        "      <th>1</th>\n",
        "      <td> 260483376854</td>\n",
        "      <td> 7</td>\n",
        "      <td> 13</td>\n",
        "      <td> used</td>\n",
        "      <td> 0.99</td>\n",
        "      <td> 3.99</td>\n",
        "      <td> 37.04</td>\n",
        "      <td> firstClass</td>\n",
        "      <td>  365</td>\n",
        "      <td> yes</td>\n",
        "      <td> 1</td>\n",
        "      <td> Mariokart Wii Nintendo with wheel - Mario Kart...</td>\n",
        "    </tr>\n",
        "    <tr>\n",
        "      <th>2</th>\n",
        "      <td> 320432342985</td>\n",
        "      <td> 3</td>\n",
        "      <td> 16</td>\n",
        "      <td>  new</td>\n",
        "      <td> 0.99</td>\n",
        "      <td> 3.50</td>\n",
        "      <td> 45.50</td>\n",
        "      <td> firstClass</td>\n",
        "      <td>  998</td>\n",
        "      <td>  no</td>\n",
        "      <td> 1</td>\n",
        "      <td>                              Mario Kart Wii (Wii)</td>\n",
        "    </tr>\n",
        "    <tr>\n",
        "      <th>3</th>\n",
        "      <td> 280405224677</td>\n",
        "      <td> 3</td>\n",
        "      <td> 18</td>\n",
        "      <td>  new</td>\n",
        "      <td> 0.99</td>\n",
        "      <td> 0.00</td>\n",
        "      <td> 44.00</td>\n",
        "      <td>   standard</td>\n",
        "      <td>    7</td>\n",
        "      <td> yes</td>\n",
        "      <td> 1</td>\n",
        "      <td> Brand New Mario Kart Wii Comes with Wheel. Fre...</td>\n",
        "    </tr>\n",
        "    <tr>\n",
        "      <th>4</th>\n",
        "      <td> 170392227765</td>\n",
        "      <td> 1</td>\n",
        "      <td> 20</td>\n",
        "      <td>  new</td>\n",
        "      <td> 0.01</td>\n",
        "      <td> 0.00</td>\n",
        "      <td> 71.00</td>\n",
        "      <td>      media</td>\n",
        "      <td>  820</td>\n",
        "      <td> yes</td>\n",
        "      <td> 2</td>\n",
        "      <td> BRAND NEW NINTENDO 1 WII MARIO KART WITH 2 WHE...</td>\n",
        "    </tr>\n",
        "  </tbody>\n",
        "</table>\n",
        "</div>"
       ],
       "metadata": {},
       "output_type": "pyout",
       "prompt_number": 4,
       "text": [
        "             ID  duration  nBids  cond  startPr  shipPr  totalPr      shipSp  \\\n",
        "0  150377422259         3     20   new     0.99    4.00    51.55    standard   \n",
        "1  260483376854         7     13  used     0.99    3.99    37.04  firstClass   \n",
        "2  320432342985         3     16   new     0.99    3.50    45.50  firstClass   \n",
        "3  280405224677         3     18   new     0.99    0.00    44.00    standard   \n",
        "4  170392227765         1     20   new     0.01    0.00    71.00       media   \n",
        "\n",
        "   sellerRate stockPhoto  wheels  \\\n",
        "0        1580        yes       1   \n",
        "1         365        yes       1   \n",
        "2         998         no       1   \n",
        "3           7        yes       1   \n",
        "4         820        yes       2   \n",
        "\n",
        "                                               title  \n",
        "0  ~~ Wii MARIO KART &amp; WHEEL ~ NINTENDO Wii ~...  \n",
        "1  Mariokart Wii Nintendo with wheel - Mario Kart...  \n",
        "2                               Mario Kart Wii (Wii)  \n",
        "3  Brand New Mario Kart Wii Comes with Wheel. Fre...  \n",
        "4  BRAND NEW NINTENDO 1 WII MARIO KART WITH 2 WHE...  "
       ]
      }
     ],
     "prompt_number": 4
    },
    {
     "cell_type": "code",
     "collapsed": false,
     "input": [
      "cond_int = pd.Series(df.cond == 'new', name='cond_int', index=df.index, dtype=np.int)\n",
      "cond_int.head()"
     ],
     "language": "python",
     "metadata": {},
     "outputs": [
      {
       "metadata": {},
       "output_type": "pyout",
       "prompt_number": 5,
       "text": [
        "0    1\n",
        "1    0\n",
        "2    1\n",
        "3    1\n",
        "4    1\n",
        "Name: cond_int, dtype: int32"
       ]
      }
     ],
     "prompt_number": 5
    },
    {
     "cell_type": "code",
     "collapsed": false,
     "input": [
      "df['cond_int'] = cond_int\n",
      "df.cond_int.head()"
     ],
     "language": "python",
     "metadata": {},
     "outputs": [
      {
       "metadata": {},
       "output_type": "pyout",
       "prompt_number": 6,
       "text": [
        "0    1\n",
        "1    0\n",
        "2    1\n",
        "3    1\n",
        "4    1\n",
        "Name: cond_int, dtype: int32"
       ]
      }
     ],
     "prompt_number": 6
    },
    {
     "cell_type": "code",
     "collapsed": false,
     "input": [
      "mod = smf.ols(formula='totalPr ~ cond_int', data=df)\n",
      "res = mod.fit()\n",
      "print(res.summary())"
     ],
     "language": "python",
     "metadata": {},
     "outputs": [
      {
       "output_type": "stream",
       "stream": "stdout",
       "text": [
        "                            OLS Regression Results                            \n",
        "==============================================================================\n",
        "Dep. Variable:                totalPr   R-squared:                       0.351\n",
        "Model:                            OLS   Adj. R-squared:                  0.346\n",
        "Method:                 Least Squares   F-statistic:                     75.03\n",
        "Date:                Mon, 06 Oct 2014   Prob (F-statistic):           1.06e-14\n",
        "Time:                        13:24:41   Log-Likelihood:                -480.72\n",
        "No. Observations:                 141   AIC:                             965.4\n",
        "Df Residuals:                     139   BIC:                             971.3\n",
        "Df Model:                           1                                         \n",
        "==============================================================================\n",
        "                 coef    std err          t      P>|t|      [95.0% Conf. Int.]\n",
        "------------------------------------------------------------------------------\n",
        "Intercept     42.8711      0.814     52.668      0.000        41.262    44.480\n",
        "cond_int      10.8996      1.258      8.662      0.000         8.412    13.388\n",
        "==============================================================================\n",
        "Omnibus:                       10.043   Durbin-Watson:                   2.163\n",
        "Prob(Omnibus):                  0.007   Jarque-Bera (JB):               10.067\n",
        "Skew:                           0.609   Prob(JB):                      0.00652\n",
        "Kurtosis:                       3.482   Cond. No.                         2.47\n",
        "==============================================================================\n"
       ]
      }
     ],
     "prompt_number": 7
    },
    {
     "cell_type": "code",
     "collapsed": false,
     "input": [
      "# fit\n",
      "b    = res.params\n",
      "xi   = np.linspace(-0.5, 1.5, 100)\n",
      "yhat = xi*b[1] + b[0]\n",
      "\n",
      "# plot\n",
      "x = df.cond_int\n",
      "y = df.totalPr\n",
      "plt.scatter(x=x, y=y)\n",
      "plt.ylim([25,75])\n",
      "plt.xlim([-0.1,1.1])\n",
      "plt.xticks([0, 1], [\"used\", \"new\"], fontsize=20)\n",
      "plt.plot(xi, yhat, 'r--')\n",
      "plt.show()\n",
      "b"
     ],
     "language": "python",
     "metadata": {},
     "outputs": [
      {
       "metadata": {},
       "output_type": "display_data",
       "png": "[encoded data removed]",
       "text": [
        "<matplotlib.figure.Figure at 0xbe75128>"
       ]
      },
      {
       "metadata": {},
       "output_type": "pyout",
       "prompt_number": 8,
       "text": [
        "Intercept    42.871098\n",
        "cond_int     10.899580\n",
        "dtype: float64"
       ]
      }
     ],
     "prompt_number": 8
    },
    {
     "cell_type": "markdown",
     "metadata": {},
     "source": [
      "#### using multiple predictors\n",
      "\n",
      "let's try using more variables:\n",
      "\n",
      "\\begin{align}\n",
      "    \\hat{price} &= \\beta_0 \n",
      "    + \\beta_1 \\times \\text{cond} \n",
      "    + \\beta_2 \\times \\text{stock_photo} \n",
      "    + \\beta_3 \\times \\text{duration}\n",
      "    + \\beta_4 \\times \\text{wheels} \\\\\n",
      "     \\hat{y} &= \\beta_0 + \\beta_1 x_1 + \\beta_2 x_2 + \\beta_3 x_3 + \\beta_4 x_4\n",
      "\\end{align}\n",
      "\n",
      "The prediction is found my minimizing the *sum of squared residuals* (SSE)\n",
      "\n",
      "\\begin{align}\n",
      "    SSE = \\sum_{i=1}^{141} (y_i - \\hat{y}_i)^2\n",
      "\\end{align}"
     ]
    },
    {
     "cell_type": "code",
     "collapsed": false,
     "input": [
      "# prepare variables\n",
      "stock_int = pd.Series(df.stockPhoto == 'yes', name='stock_int', index=df.index, dtype=np.int)\n",
      "stock_int.head()"
     ],
     "language": "python",
     "metadata": {},
     "outputs": [
      {
       "metadata": {},
       "output_type": "pyout",
       "prompt_number": 9,
       "text": [
        "0    1\n",
        "1    1\n",
        "2    0\n",
        "3    1\n",
        "4    1\n",
        "Name: stock_int, dtype: int32"
       ]
      }
     ],
     "prompt_number": 9
    },
    {
     "cell_type": "code",
     "collapsed": false,
     "input": [
      "mod = smf.ols(formula='totalPr ~ cond_int + stock_int + duration + wheels', data=df)\n",
      "res = mod.fit()\n",
      "print(res.summary())"
     ],
     "language": "python",
     "metadata": {},
     "outputs": [
      {
       "output_type": "stream",
       "stream": "stdout",
       "text": [
        "                            OLS Regression Results                            \n",
        "==============================================================================\n",
        "Dep. Variable:                totalPr   R-squared:                       0.719\n",
        "Model:                            OLS   Adj. R-squared:                  0.711\n",
        "Method:                 Least Squares   F-statistic:                     87.01\n",
        "Date:                Mon, 06 Oct 2014   Prob (F-statistic):           1.61e-36\n",
        "Time:                        13:24:41   Log-Likelihood:                -421.65\n",
        "No. Observations:                 141   AIC:                             853.3\n",
        "Df Residuals:                     136   BIC:                             868.0\n",
        "Df Model:                           4                                         \n",
        "==============================================================================\n",
        "                 coef    std err          t      P>|t|      [95.0% Conf. Int.]\n",
        "------------------------------------------------------------------------------\n",
        "Intercept     36.2110      1.514     23.917      0.000        33.217    39.205\n",
        "cond_int       5.1306      1.051      4.881      0.000         3.052     7.209\n",
        "stock_int      1.0803      1.057      1.022      0.308        -1.010     3.170\n",
        "duration      -0.0268      0.190     -0.141      0.888        -0.403     0.350\n",
        "wheels         7.2852      0.555     13.134      0.000         6.188     8.382\n",
        "==============================================================================\n",
        "Omnibus:                        4.602   Durbin-Watson:                   1.940\n",
        "Prob(Omnibus):                  0.100   Jarque-Bera (JB):                4.630\n",
        "Skew:                           0.438   Prob(JB):                       0.0988\n",
        "Kurtosis:                       2.859   Cond. No.                         19.7\n",
        "==============================================================================\n"
       ]
      }
     ],
     "prompt_number": 10
    },
    {
     "cell_type": "markdown",
     "metadata": {},
     "source": [
      "#### correlation\n",
      "\n",
      "To assess the variability of the response, we use the $R^2$ again\n",
      "\n",
      "\\begin{align}\n",
      "    R^2 &= 1 - \\frac{\\text{variability in residuals}}{\\text{variability in the outcome}} \\\\\n",
      "        &= 1 - \\frac{Var(e_i)}{Var(y_i)}\n",
      "\\end{align}"
     ]
    },
    {
     "cell_type": "code",
     "collapsed": false,
     "input": [
      "# by hand\n",
      "e = res.resid\n",
      "y = df.totalPr\n",
      "R2 = 1 - e.var()/y.var()\n",
      "R2"
     ],
     "language": "python",
     "metadata": {},
     "outputs": [
      {
       "metadata": {},
       "output_type": "pyout",
       "prompt_number": 11,
       "text": [
        "0.71902610488580887"
       ]
      }
     ],
     "prompt_number": 11
    },
    {
     "cell_type": "code",
     "collapsed": false,
     "input": [
      "# also from object\n",
      "res.rsquared"
     ],
     "language": "python",
     "metadata": {},
     "outputs": [
      {
       "metadata": {},
       "output_type": "pyout",
       "prompt_number": 12,
       "text": [
        "0.71902610488581375"
       ]
      }
     ],
     "prompt_number": 12
    },
    {
     "cell_type": "markdown",
     "metadata": {},
     "source": [
      "$R^2$ is a biased estimate for the variability for more than one predictor variable.  Adjust the using $n$, the number of trials, and $k$, then number of predictors.\n",
      "\n",
      "\\begin{align}\n",
      "    \\bar{R}^2 &= 1 - \\frac{Var(e_i)}{Var(y_i)} \\times \\frac{n-1}{n-k-1}\n",
      "\\end{align}"
     ]
    },
    {
     "cell_type": "code",
     "collapsed": false,
     "input": [
      "# by hand\n",
      "n = len(df)\n",
      "k = 4\n",
      "R2_adj = 1 - (e.var()*(n-1))/(y.var()*(n-k-1))\n",
      "R2_adj"
     ],
     "language": "python",
     "metadata": {},
     "outputs": [
      {
       "metadata": {},
       "output_type": "pyout",
       "prompt_number": 13,
       "text": [
        "0.71076216679421511"
       ]
      }
     ],
     "prompt_number": 13
    },
    {
     "cell_type": "code",
     "collapsed": false,
     "input": [
      "res.rsquared_adj"
     ],
     "language": "python",
     "metadata": {},
     "outputs": [
      {
       "metadata": {},
       "output_type": "pyout",
       "prompt_number": 14,
       "text": [
        "0.71076216679422011"
       ]
      }
     ],
     "prompt_number": 14
    },
    {
     "cell_type": "markdown",
     "metadata": {},
     "source": [
      "### 8.2 Model Selection\n",
      "\n",
      "We may not need to use all *predictors* to fit the data.  Some of the variables actually hurt the fit.\n",
      "\n",
      "Use a hypothesis test to assess whether a variable is is *explanatory*.\n",
      "\n",
      "* H0: $\\beta_i = 0$ when the other predictors are included\n",
      "* H1: $\\beta_i \\neq 0$ when the the other predictors are included"
     ]
    },
    {
     "cell_type": "markdown",
     "metadata": {},
     "source": [
      "#### example 8.13\n",
      "\n",
      "**cond** has a T = 4.88 and a p-value $\\approx$ 0.  A low p-value shoes that there is little chance this is a fluxtuation and the high $\\beta$ value is legit."
     ]
    },
    {
     "cell_type": "markdown",
     "metadata": {},
     "source": [
      "#### example 8.14\n",
      "\n",
      "**stock_photo** is a weak variable since its confidence interval overlaps 0 and thus has a high p-value.  It could be zero and thus not *explanatory*."
     ]
    },
    {
     "cell_type": "markdown",
     "metadata": {},
     "source": [
      "It appears that **duration** and **stock_photo** are not explanatory."
     ]
    },
    {
     "cell_type": "markdown",
     "metadata": {},
     "source": [
      "#### Selection strategies\n",
      "\n",
      "There are two common strategies for removing variables.  \n",
      "\n",
      "1. **Backward selection:** start with all variables and remove one at a time based on higher p-value or $R^2$.\n",
      "1. **Forward selection:** start with no variables and add one at a time."
     ]
    },
    {
     "cell_type": "markdown",
     "metadata": {},
     "source": [
      "#### example 8.16\n",
      "\n",
      "Try using the backwards"
     ]
    },
    {
     "cell_type": "code",
     "collapsed": false,
     "input": [
      "mod = smf.ols(formula='totalPr ~ cond_int + stock_int + duration + wheels', data=df)\n",
      "res = mod.fit()\n",
      "print(res.summary())"
     ],
     "language": "python",
     "metadata": {},
     "outputs": [
      {
       "output_type": "stream",
       "stream": "stdout",
       "text": [
        "                            OLS Regression Results                            \n",
        "==============================================================================\n",
        "Dep. Variable:                totalPr   R-squared:                       0.719\n",
        "Model:                            OLS   Adj. R-squared:                  0.711\n",
        "Method:                 Least Squares   F-statistic:                     87.01\n",
        "Date:                Mon, 06 Oct 2014   Prob (F-statistic):           1.61e-36\n",
        "Time:                        13:24:42   Log-Likelihood:                -421.65\n",
        "No. Observations:                 141   AIC:                             853.3\n",
        "Df Residuals:                     136   BIC:                             868.0\n",
        "Df Model:                           4                                         \n",
        "==============================================================================\n",
        "                 coef    std err          t      P>|t|      [95.0% Conf. Int.]\n",
        "------------------------------------------------------------------------------\n",
        "Intercept     36.2110      1.514     23.917      0.000        33.217    39.205\n",
        "cond_int       5.1306      1.051      4.881      0.000         3.052     7.209\n",
        "stock_int      1.0803      1.057      1.022      0.308        -1.010     3.170\n",
        "duration      -0.0268      0.190     -0.141      0.888        -0.403     0.350\n",
        "wheels         7.2852      0.555     13.134      0.000         6.188     8.382\n",
        "==============================================================================\n",
        "Omnibus:                        4.602   Durbin-Watson:                   1.940\n",
        "Prob(Omnibus):                  0.100   Jarque-Bera (JB):                4.630\n",
        "Skew:                           0.438   Prob(JB):                       0.0988\n",
        "Kurtosis:                       2.859   Cond. No.                         19.7\n",
        "==============================================================================\n"
       ]
      }
     ],
     "prompt_number": 15
    },
    {
     "cell_type": "markdown",
     "metadata": {},
     "source": [
      "Remove **duration**"
     ]
    },
    {
     "cell_type": "code",
     "collapsed": false,
     "input": [
      "mod = smf.ols(formula='totalPr ~ cond_int + stock_int + wheels', data=df)\n",
      "res = mod.fit()\n",
      "print(res.summary())"
     ],
     "language": "python",
     "metadata": {},
     "outputs": [
      {
       "output_type": "stream",
       "stream": "stdout",
       "text": [
        "                            OLS Regression Results                            \n",
        "==============================================================================\n",
        "Dep. Variable:                totalPr   R-squared:                       0.719\n",
        "Model:                            OLS   Adj. R-squared:                  0.713\n",
        "Method:                 Least Squares   F-statistic:                     116.8\n",
        "Date:                Mon, 06 Oct 2014   Prob (F-statistic):           1.38e-37\n",
        "Time:                        13:24:42   Log-Likelihood:                -421.66\n",
        "No. Observations:                 141   AIC:                             851.3\n",
        "Df Residuals:                     137   BIC:                             863.1\n",
        "Df Model:                           3                                         \n",
        "==============================================================================\n",
        "                 coef    std err          t      P>|t|      [95.0% Conf. Int.]\n",
        "------------------------------------------------------------------------------\n",
        "Intercept     36.0483      0.975     36.990      0.000        34.121    37.975\n",
        "cond_int       5.1763      0.996      5.196      0.000         3.207     7.146\n",
        "stock_int      1.1177      1.019      1.097      0.275        -0.898     3.133\n",
        "wheels         7.2984      0.545     13.397      0.000         6.221     8.376\n",
        "==============================================================================\n",
        "Omnibus:                        4.631   Durbin-Watson:                   1.946\n",
        "Prob(Omnibus):                  0.099   Jarque-Bera (JB):                4.652\n",
        "Skew:                           0.440   Prob(JB):                       0.0977\n",
        "Kurtosis:                       2.868   Cond. No.                         6.31\n",
        "==============================================================================\n"
       ]
      }
     ],
     "prompt_number": 16
    },
    {
     "cell_type": "markdown",
     "metadata": {},
     "source": [
      "Remove **stock_photo**"
     ]
    },
    {
     "cell_type": "code",
     "collapsed": false,
     "input": [
      "mod = smf.ols(formula='totalPr ~ cond_int + wheels', data=df)\n",
      "res = mod.fit()\n",
      "print(res.summary())"
     ],
     "language": "python",
     "metadata": {},
     "outputs": [
      {
       "output_type": "stream",
       "stream": "stdout",
       "text": [
        "                            OLS Regression Results                            \n",
        "==============================================================================\n",
        "Dep. Variable:                totalPr   R-squared:                       0.717\n",
        "Model:                            OLS   Adj. R-squared:                  0.712\n",
        "Method:                 Least Squares   F-statistic:                     174.4\n",
        "Date:                Mon, 06 Oct 2014   Prob (F-statistic):           1.68e-38\n",
        "Time:                        13:24:42   Log-Likelihood:                -422.27\n",
        "No. Observations:                 141   AIC:                             850.5\n",
        "Df Residuals:                     138   BIC:                             859.4\n",
        "Df Model:                           2                                         \n",
        "==============================================================================\n",
        "                 coef    std err          t      P>|t|      [95.0% Conf. Int.]\n",
        "------------------------------------------------------------------------------\n",
        "Intercept     36.7849      0.707     52.062      0.000        35.388    38.182\n",
        "cond_int       5.5848      0.925      6.041      0.000         3.757     7.413\n",
        "wheels         7.2328      0.542     13.347      0.000         6.161     8.304\n",
        "==============================================================================\n",
        "Omnibus:                        5.138   Durbin-Watson:                   1.930\n",
        "Prob(Omnibus):                  0.077   Jarque-Bera (JB):                5.207\n",
        "Skew:                           0.465   Prob(JB):                       0.0740\n",
        "Kurtosis:                       2.853   Cond. No.                         4.06\n",
        "==============================================================================\n"
       ]
      }
     ],
     "prompt_number": 17
    },
    {
     "cell_type": "markdown",
     "metadata": {},
     "source": [
      "p-value is minimal for **cond** and **wheels**, leave them.\n",
      "\n",
      "\\begin{align}\n",
      "    \\hat{y} = 36.8 + 5.6 x_1 + 7.2 x_2\n",
      "\\end{align}"
     ]
    },
    {
     "cell_type": "markdown",
     "metadata": {},
     "source": [
      "#### example 8.17\n",
      "\n",
      "Try forward selection.  Start with one variable at a time.  Keep the one with the lowest p-value."
     ]
    },
    {
     "cell_type": "code",
     "collapsed": false,
     "input": [
      "mod = smf.ols(formula='totalPr ~ cond_int', data=df)\n",
      "res = mod.fit()\n",
      "print(res.summary())\n",
      "res.pvalues"
     ],
     "language": "python",
     "metadata": {},
     "outputs": [
      {
       "output_type": "stream",
       "stream": "stdout",
       "text": [
        "                            OLS Regression Results                            \n",
        "==============================================================================\n",
        "Dep. Variable:                totalPr   R-squared:                       0.351\n",
        "Model:                            OLS   Adj. R-squared:                  0.346\n",
        "Method:                 Least Squares   F-statistic:                     75.03\n",
        "Date:                Mon, 06 Oct 2014   Prob (F-statistic):           1.06e-14\n",
        "Time:                        13:24:42   Log-Likelihood:                -480.72\n",
        "No. Observations:                 141   AIC:                             965.4\n",
        "Df Residuals:                     139   BIC:                             971.3\n",
        "Df Model:                           1                                         \n",
        "==============================================================================\n",
        "                 coef    std err          t      P>|t|      [95.0% Conf. Int.]\n",
        "------------------------------------------------------------------------------\n",
        "Intercept     42.8711      0.814     52.668      0.000        41.262    44.480\n",
        "cond_int      10.8996      1.258      8.662      0.000         8.412    13.388\n",
        "==============================================================================\n",
        "Omnibus:                       10.043   Durbin-Watson:                   2.163\n",
        "Prob(Omnibus):                  0.007   Jarque-Bera (JB):               10.067\n",
        "Skew:                           0.609   Prob(JB):                      0.00652\n",
        "Kurtosis:                       3.482   Cond. No.                         2.47\n",
        "==============================================================================\n"
       ]
      },
      {
       "metadata": {},
       "output_type": "pyout",
       "prompt_number": 18,
       "text": [
        "Intercept    1.019368e-93\n",
        "cond_int     1.055698e-14\n",
        "dtype: float64"
       ]
      }
     ],
     "prompt_number": 18
    },
    {
     "cell_type": "code",
     "collapsed": false,
     "input": [
      "mod = smf.ols(formula='totalPr ~ stock_int', data=df)\n",
      "res = mod.fit()\n",
      "print(res.summary())\n",
      "res.pvalues"
     ],
     "language": "python",
     "metadata": {},
     "outputs": [
      {
       "output_type": "stream",
       "stream": "stdout",
       "text": [
        "                            OLS Regression Results                            \n",
        "==============================================================================\n",
        "Dep. Variable:                totalPr   R-squared:                       0.040\n",
        "Model:                            OLS   Adj. R-squared:                  0.033\n",
        "Method:                 Least Squares   F-statistic:                     5.803\n",
        "Date:                Mon, 06 Oct 2014   Prob (F-statistic):             0.0173\n",
        "Time:                        13:24:42   Log-Likelihood:                -508.26\n",
        "No. Observations:                 141   AIC:                             1021.\n",
        "Df Residuals:                     139   BIC:                             1026.\n",
        "Df Model:                           1                                         \n",
        "==============================================================================\n",
        "                 coef    std err          t      P>|t|      [95.0% Conf. Int.]\n",
        "------------------------------------------------------------------------------\n",
        "Intercept     44.3272      1.494     29.679      0.000        41.374    47.280\n",
        "stock_int      4.1692      1.731      2.409      0.017         0.747     7.591\n",
        "==============================================================================\n",
        "Omnibus:                        2.715   Durbin-Watson:                   2.115\n",
        "Prob(Omnibus):                  0.257   Jarque-Bera (JB):                2.339\n",
        "Skew:                           0.309   Prob(JB):                        0.310\n",
        "Kurtosis:                       3.128   Cond. No.                         3.73\n",
        "==============================================================================\n"
       ]
      },
      {
       "metadata": {},
       "output_type": "pyout",
       "prompt_number": 19,
       "text": [
        "Intercept    5.092241e-62\n",
        "stock_int    1.731116e-02\n",
        "dtype: float64"
       ]
      }
     ],
     "prompt_number": 19
    },
    {
     "cell_type": "code",
     "collapsed": false,
     "input": [
      "mod = smf.ols(formula='totalPr ~ duration', data=df)\n",
      "res = mod.fit()\n",
      "print(res.summary())\n",
      "res.pvalues"
     ],
     "language": "python",
     "metadata": {},
     "outputs": [
      {
       "output_type": "stream",
       "stream": "stdout",
       "text": [
        "                            OLS Regression Results                            \n",
        "==============================================================================\n",
        "Dep. Variable:                totalPr   R-squared:                       0.140\n",
        "Model:                            OLS   Adj. R-squared:                  0.134\n",
        "Method:                 Least Squares   F-statistic:                     22.63\n",
        "Date:                Mon, 06 Oct 2014   Prob (F-statistic):           4.87e-06\n",
        "Time:                        13:24:42   Log-Likelihood:                -500.51\n",
        "No. Observations:                 141   AIC:                             1005.\n",
        "Df Residuals:                     139   BIC:                             1011.\n",
        "Df Model:                           1                                         \n",
        "==============================================================================\n",
        "                 coef    std err          t      P>|t|      [95.0% Conf. Int.]\n",
        "------------------------------------------------------------------------------\n",
        "Intercept     52.3736      1.261     41.541      0.000        49.881    54.866\n",
        "duration      -1.3172      0.277     -4.757      0.000        -1.865    -0.770\n",
        "==============================================================================\n",
        "Omnibus:                        2.869   Durbin-Watson:                   2.061\n",
        "Prob(Omnibus):                  0.238   Jarque-Bera (JB):                2.729\n",
        "Skew:                           0.128   Prob(JB):                        0.255\n",
        "Kurtosis:                       3.632   Cond. No.                         8.30\n",
        "==============================================================================\n"
       ]
      },
      {
       "metadata": {},
       "output_type": "pyout",
       "prompt_number": 20,
       "text": [
        "Intercept    3.010309e-80\n",
        "duration     4.866701e-06\n",
        "dtype: float64"
       ]
      }
     ],
     "prompt_number": 20
    },
    {
     "cell_type": "code",
     "collapsed": false,
     "input": [
      "mod = smf.ols(formula='totalPr ~ wheels', data=df)\n",
      "res = mod.fit()\n",
      "print(res.summary())\n",
      "res.pvalues"
     ],
     "language": "python",
     "metadata": {},
     "outputs": [
      {
       "output_type": "stream",
       "stream": "stdout",
       "text": [
        "                            OLS Regression Results                            \n",
        "==============================================================================\n",
        "Dep. Variable:                totalPr   R-squared:                       0.642\n",
        "Model:                            OLS   Adj. R-squared:                  0.639\n",
        "Method:                 Least Squares   F-statistic:                     248.8\n",
        "Date:                Mon, 06 Oct 2014   Prob (F-statistic):           9.05e-33\n",
        "Time:                        13:24:42   Log-Likelihood:                -438.81\n",
        "No. Observations:                 141   AIC:                             881.6\n",
        "Df Residuals:                     139   BIC:                             887.5\n",
        "Df Model:                           1                                         \n",
        "==============================================================================\n",
        "                 coef    std err          t      P>|t|      [95.0% Conf. Int.]\n",
        "------------------------------------------------------------------------------\n",
        "Intercept     37.5020      0.780     48.056      0.000        35.959    39.045\n",
        "wheels         8.6427      0.548     15.773      0.000         7.559     9.726\n",
        "==============================================================================\n",
        "Omnibus:                        5.214   Durbin-Watson:                   1.863\n",
        "Prob(Omnibus):                  0.074   Jarque-Bera (JB):                4.791\n",
        "Skew:                           0.438   Prob(JB):                       0.0911\n",
        "Kurtosis:                       3.216   Cond. No.                         3.29\n",
        "==============================================================================\n"
       ]
      },
      {
       "metadata": {},
       "output_type": "pyout",
       "prompt_number": 21,
       "text": [
        "Intercept    1.799615e-88\n",
        "wheels       9.049749e-33\n",
        "dtype: float64"
       ]
      }
     ],
     "prompt_number": 21
    },
    {
     "cell_type": "markdown",
     "metadata": {},
     "source": [
      "**wheels** has the smallest p-value, add it to model and add remaining variables one at a time."
     ]
    },
    {
     "cell_type": "code",
     "collapsed": false,
     "input": [
      "mod = smf.ols(formula='totalPr ~ cond_int + wheels', data=df)\n",
      "res = mod.fit()\n",
      "print(res.summary())\n",
      "res.pvalues"
     ],
     "language": "python",
     "metadata": {},
     "outputs": [
      {
       "output_type": "stream",
       "stream": "stdout",
       "text": [
        "                            OLS Regression Results                            \n",
        "==============================================================================\n",
        "Dep. Variable:                totalPr   R-squared:                       0.717\n",
        "Model:                            OLS   Adj. R-squared:                  0.712\n",
        "Method:                 Least Squares   F-statistic:                     174.4\n",
        "Date:                Mon, 06 Oct 2014   Prob (F-statistic):           1.68e-38\n",
        "Time:                        13:24:42   Log-Likelihood:                -422.27\n",
        "No. Observations:                 141   AIC:                             850.5\n",
        "Df Residuals:                     138   BIC:                             859.4\n",
        "Df Model:                           2                                         \n",
        "==============================================================================\n",
        "                 coef    std err          t      P>|t|      [95.0% Conf. Int.]\n",
        "------------------------------------------------------------------------------\n",
        "Intercept     36.7849      0.707     52.062      0.000        35.388    38.182\n",
        "cond_int       5.5848      0.925      6.041      0.000         3.757     7.413\n",
        "wheels         7.2328      0.542     13.347      0.000         6.161     8.304\n",
        "==============================================================================\n",
        "Omnibus:                        5.138   Durbin-Watson:                   1.930\n",
        "Prob(Omnibus):                  0.077   Jarque-Bera (JB):                5.207\n",
        "Skew:                           0.465   Prob(JB):                       0.0740\n",
        "Kurtosis:                       2.853   Cond. No.                         4.06\n",
        "==============================================================================\n"
       ]
      },
      {
       "metadata": {},
       "output_type": "pyout",
       "prompt_number": 22,
       "text": [
        "Intercept    1.334141e-92\n",
        "cond_int     1.346182e-08\n",
        "wheels       1.294506e-26\n",
        "dtype: float64"
       ]
      }
     ],
     "prompt_number": 22
    },
    {
     "cell_type": "code",
     "collapsed": false,
     "input": [
      "mod = smf.ols(formula='totalPr ~ stock_int + wheels', data=df)\n",
      "res = mod.fit()\n",
      "print(res.summary())\n",
      "res.pvalues"
     ],
     "language": "python",
     "metadata": {},
     "outputs": [
      {
       "output_type": "stream",
       "stream": "stdout",
       "text": [
        "                            OLS Regression Results                            \n",
        "==============================================================================\n",
        "Dep. Variable:                totalPr   R-squared:                       0.664\n",
        "Model:                            OLS   Adj. R-squared:                  0.659\n",
        "Method:                 Least Squares   F-statistic:                     136.1\n",
        "Date:                Mon, 06 Oct 2014   Prob (F-statistic):           2.26e-33\n",
        "Time:                        13:24:43   Log-Likelihood:                -434.34\n",
        "No. Observations:                 141   AIC:                             874.7\n",
        "Df Residuals:                     138   BIC:                             883.5\n",
        "Df Model:                           2                                         \n",
        "==============================================================================\n",
        "                 coef    std err          t      P>|t|      [95.0% Conf. Int.]\n",
        "------------------------------------------------------------------------------\n",
        "Intercept     35.3144      1.051     33.595      0.000        33.236    37.393\n",
        "stock_int      3.0985      1.030      3.007      0.003         1.061     5.136\n",
        "wheels         8.5384      0.534     15.993      0.000         7.483     9.594\n",
        "==============================================================================\n",
        "Omnibus:                        3.618   Durbin-Watson:                   1.901\n",
        "Prob(Omnibus):                  0.164   Jarque-Bera (JB):                3.157\n",
        "Skew:                           0.352   Prob(JB):                        0.206\n",
        "Kurtosis:                       3.204   Cond. No.                         5.51\n",
        "==============================================================================\n"
       ]
      },
      {
       "metadata": {},
       "output_type": "pyout",
       "prompt_number": 23,
       "text": [
        "Intercept    2.658324e-68\n",
        "stock_int    3.137017e-03\n",
        "wheels       3.178711e-33\n",
        "dtype: float64"
       ]
      }
     ],
     "prompt_number": 23
    },
    {
     "cell_type": "code",
     "collapsed": false,
     "input": [
      "mod = smf.ols(formula='totalPr ~ duration + wheels', data=df)\n",
      "res = mod.fit()\n",
      "print(res.summary())\n",
      "res.pvalues"
     ],
     "language": "python",
     "metadata": {},
     "outputs": [
      {
       "output_type": "stream",
       "stream": "stdout",
       "text": [
        "                            OLS Regression Results                            \n",
        "==============================================================================\n",
        "Dep. Variable:                totalPr   R-squared:                       0.658\n",
        "Model:                            OLS   Adj. R-squared:                  0.653\n",
        "Method:                 Least Squares   F-statistic:                     132.6\n",
        "Date:                Mon, 06 Oct 2014   Prob (F-statistic):           7.33e-33\n",
        "Time:                        13:24:43   Log-Likelihood:                -435.55\n",
        "No. Observations:                 141   AIC:                             877.1\n",
        "Df Residuals:                     138   BIC:                             885.9\n",
        "Df Model:                           2                                         \n",
        "==============================================================================\n",
        "                 coef    std err          t      P>|t|      [95.0% Conf. Int.]\n",
        "------------------------------------------------------------------------------\n",
        "Intercept     39.8029      1.181     33.714      0.000        37.468    42.137\n",
        "duration      -0.4729      0.185     -2.559      0.012        -0.838    -0.108\n",
        "wheels         8.1844      0.566     14.450      0.000         7.065     9.304\n",
        "==============================================================================\n",
        "Omnibus:                        4.033   Durbin-Watson:                   1.808\n",
        "Prob(Omnibus):                  0.133   Jarque-Bera (JB):                3.671\n",
        "Skew:                           0.390   Prob(JB):                        0.160\n",
        "Kurtosis:                       3.123   Cond. No.                         13.2\n",
        "==============================================================================\n"
       ]
      },
      {
       "metadata": {},
       "output_type": "pyout",
       "prompt_number": 24,
       "text": [
        "Intercept    1.719597e-68\n",
        "duration     1.156138e-02\n",
        "wheels       2.109119e-29\n",
        "dtype: float64"
       ]
      }
     ],
     "prompt_number": 24
    },
    {
     "cell_type": "markdown",
     "metadata": {},
     "source": [
      "**cond** had the lowest p-value.  One more time with the other two variables."
     ]
    },
    {
     "cell_type": "code",
     "collapsed": false,
     "input": [
      "mod = smf.ols(formula='totalPr ~ cond_int + stock_int +wheels', data=df)\n",
      "res = mod.fit()\n",
      "print(res.summary())\n",
      "res.pvalues"
     ],
     "language": "python",
     "metadata": {},
     "outputs": [
      {
       "output_type": "stream",
       "stream": "stdout",
       "text": [
        "                            OLS Regression Results                            \n",
        "==============================================================================\n",
        "Dep. Variable:                totalPr   R-squared:                       0.719\n",
        "Model:                            OLS   Adj. R-squared:                  0.713\n",
        "Method:                 Least Squares   F-statistic:                     116.8\n",
        "Date:                Mon, 06 Oct 2014   Prob (F-statistic):           1.38e-37\n",
        "Time:                        13:24:43   Log-Likelihood:                -421.66\n",
        "No. Observations:                 141   AIC:                             851.3\n",
        "Df Residuals:                     137   BIC:                             863.1\n",
        "Df Model:                           3                                         \n",
        "==============================================================================\n",
        "                 coef    std err          t      P>|t|      [95.0% Conf. Int.]\n",
        "------------------------------------------------------------------------------\n",
        "Intercept     36.0483      0.975     36.990      0.000        34.121    37.975\n",
        "cond_int       5.1763      0.996      5.196      0.000         3.207     7.146\n",
        "stock_int      1.1177      1.019      1.097      0.275        -0.898     3.133\n",
        "wheels         7.2984      0.545     13.397      0.000         6.221     8.376\n",
        "==============================================================================\n",
        "Omnibus:                        4.631   Durbin-Watson:                   1.946\n",
        "Prob(Omnibus):                  0.099   Jarque-Bera (JB):                4.652\n",
        "Skew:                           0.440   Prob(JB):                       0.0977\n",
        "Kurtosis:                       2.868   Cond. No.                         6.31\n",
        "==============================================================================\n"
       ]
      },
      {
       "metadata": {},
       "output_type": "pyout",
       "prompt_number": 25,
       "text": [
        "Intercept    3.562927e-73\n",
        "cond_int     7.208337e-07\n",
        "stock_int    2.747118e-01\n",
        "wheels       1.110443e-26\n",
        "dtype: float64"
       ]
      }
     ],
     "prompt_number": 25
    },
    {
     "cell_type": "code",
     "collapsed": false,
     "input": [
      "mod = smf.ols(formula='totalPr ~ cond_int + duration + wheels', data=df)\n",
      "res = mod.fit()\n",
      "print(res.summary())\n",
      "res.pvalues"
     ],
     "language": "python",
     "metadata": {},
     "outputs": [
      {
       "output_type": "stream",
       "stream": "stdout",
       "text": [
        "                            OLS Regression Results                            \n",
        "==============================================================================\n",
        "Dep. Variable:                totalPr   R-squared:                       0.717\n",
        "Model:                            OLS   Adj. R-squared:                  0.711\n",
        "Method:                 Least Squares   F-statistic:                     115.6\n",
        "Date:                Mon, 06 Oct 2014   Prob (F-statistic):           2.31e-37\n",
        "Time:                        13:24:43   Log-Likelihood:                -422.19\n",
        "No. Observations:                 141   AIC:                             852.4\n",
        "Df Residuals:                     137   BIC:                             864.2\n",
        "Df Model:                           3                                         \n",
        "==============================================================================\n",
        "                 coef    std err          t      P>|t|      [95.0% Conf. Int.]\n",
        "------------------------------------------------------------------------------\n",
        "Intercept     37.1750      1.185     31.382      0.000        34.833    39.517\n",
        "cond_int       5.4170      1.013      5.346      0.000         3.413     7.421\n",
        "duration      -0.0758      0.184     -0.411      0.682        -0.440     0.289\n",
        "wheels         7.2018      0.549     13.124      0.000         6.117     8.287\n",
        "==============================================================================\n",
        "Omnibus:                        5.028   Durbin-Watson:                   1.915\n",
        "Prob(Omnibus):                  0.081   Jarque-Bera (JB):                5.107\n",
        "Skew:                           0.459   Prob(JB):                       0.0778\n",
        "Kurtosis:                       2.833   Cond. No.                         15.2\n",
        "==============================================================================\n"
       ]
      },
      {
       "metadata": {},
       "output_type": "pyout",
       "prompt_number": 26,
       "text": [
        "Intercept    2.021475e-64\n",
        "cond_int     3.659962e-07\n",
        "duration     6.817398e-01\n",
        "wheels       5.466960e-26\n",
        "dtype: float64"
       ]
      }
     ],
     "prompt_number": 26
    },
    {
     "cell_type": "markdown",
     "metadata": {},
     "source": [
      "Since the p-values associated with the new variables are high (i.e. $\\gt 0.05), we do not include them in the model and the final model uses **wheels** and **cond**."
     ]
    },
    {
     "cell_type": "code",
     "collapsed": false,
     "input": [
      "mod = smf.ols(formula='totalPr ~ cond_int + wheels', data=df)\n",
      "res = mod.fit()\n",
      "print(res.summary())\n",
      "res.pvalues"
     ],
     "language": "python",
     "metadata": {},
     "outputs": [
      {
       "output_type": "stream",
       "stream": "stdout",
       "text": [
        "                            OLS Regression Results                            \n",
        "==============================================================================\n",
        "Dep. Variable:                totalPr   R-squared:                       0.717\n",
        "Model:                            OLS   Adj. R-squared:                  0.712\n",
        "Method:                 Least Squares   F-statistic:                     174.4\n",
        "Date:                Mon, 06 Oct 2014   Prob (F-statistic):           1.68e-38\n",
        "Time:                        13:24:43   Log-Likelihood:                -422.27\n",
        "No. Observations:                 141   AIC:                             850.5\n",
        "Df Residuals:                     138   BIC:                             859.4\n",
        "Df Model:                           2                                         \n",
        "==============================================================================\n",
        "                 coef    std err          t      P>|t|      [95.0% Conf. Int.]\n",
        "------------------------------------------------------------------------------\n",
        "Intercept     36.7849      0.707     52.062      0.000        35.388    38.182\n",
        "cond_int       5.5848      0.925      6.041      0.000         3.757     7.413\n",
        "wheels         7.2328      0.542     13.347      0.000         6.161     8.304\n",
        "==============================================================================\n",
        "Omnibus:                        5.138   Durbin-Watson:                   1.930\n",
        "Prob(Omnibus):                  0.077   Jarque-Bera (JB):                5.207\n",
        "Skew:                           0.465   Prob(JB):                       0.0740\n",
        "Kurtosis:                       2.853   Cond. No.                         4.06\n",
        "==============================================================================\n"
       ]
      },
      {
       "metadata": {},
       "output_type": "pyout",
       "prompt_number": 27,
       "text": [
        "Intercept    1.334141e-92\n",
        "cond_int     1.346182e-08\n",
        "wheels       1.294506e-26\n",
        "dtype: float64"
       ]
      }
     ],
     "prompt_number": 27
    },
    {
     "cell_type": "markdown",
     "metadata": {},
     "source": [
      "### 8.3 Checking model assuptions using graphs\n",
      "\n",
      "Multiple Regression using the model\n",
      "\n",
      "\n",
      "generally depends on the following four assumptions:\n",
      "\n",
      "1.  residuals $\\sim$ normal\n",
      "1.  the variability of the residuals is nearly constant\n",
      "1.  the residuals are independent\n",
      "1.  each variable is linearly related to the outcome\n",
      "\n",
      "We can test these assumptions by looking at plots.\n"
     ]
    },
    {
     "cell_type": "markdown",
     "metadata": {},
     "source": [
      "#### figure 8.9\n",
      "\n",
      "Test for normality"
     ]
    },
    {
     "cell_type": "code",
     "collapsed": false,
     "input": [
      "model = smf.ols(formula='totalPr ~ cond_int + wheels', data=df)\n",
      "fit   = model.fit()"
     ],
     "language": "python",
     "metadata": {},
     "outputs": [],
     "prompt_number": 28
    },
    {
     "cell_type": "code",
     "collapsed": false,
     "input": [
      "res = fit.resid\n",
      "res.head()"
     ],
     "language": "python",
     "metadata": {},
     "outputs": [
      {
       "metadata": {},
       "output_type": "pyout",
       "prompt_number": 29,
       "text": [
        "0     1.947400\n",
        "1    -6.977767\n",
        "2    -4.102600\n",
        "3    -5.602600\n",
        "4    14.164559\n",
        "dtype: float64"
       ]
      }
     ],
     "prompt_number": 29
    },
    {
     "cell_type": "code",
     "collapsed": false,
     "input": [
      "st.probplot(res, plot=plt);\n",
      "plt.ylabel('residuals', fontsize=20)\n",
      "plt.xlabel('theoretical quantiles', fontsize=20)\n",
      "plt.show()"
     ],
     "language": "python",
     "metadata": {},
     "outputs": [
      {
       "metadata": {},
       "output_type": "display_data",
       "png": "[encoded data removed]",
       "text": [
        "<matplotlib.figure.Figure at 0xc0686d8>"
       ]
      }
     ],
     "prompt_number": 30
    },
    {
     "cell_type": "markdown",
     "metadata": {},
     "source": [
      "#### figure 8.10\n",
      "\n",
      "Absolute values of residuals against fitted values."
     ]
    },
    {
     "cell_type": "code",
     "collapsed": false,
     "input": [
      "e_abs = np.abs(fit.resid)\n",
      "yhat  = fit.fittedvalues\n",
      "plt.scatter(yhat, e_abs)\n",
      "plt.xlabel('fitted values ($\\hat{y}_i$)', fontsize=20)\n",
      "plt.ylabel('|residuals| ($|e_i|$)', fontsize=20)\n",
      "plt.show()"
     ],
     "language": "python",
     "metadata": {},
     "outputs": [
      {
       "metadata": {},
       "output_type": "display_data",
       "png": "[encoded data removed]",
       "text": [
        "<matplotlib.figure.Figure at 0xc1432e8>"
       ]
      }
     ],
     "prompt_number": 31
    },
    {
     "cell_type": "markdown",
     "metadata": {},
     "source": [
      "#### figure 8.11\n",
      "\n",
      "Residuals in the order of their data collection."
     ]
    },
    {
     "cell_type": "code",
     "collapsed": false,
     "input": [
      "plt.scatter(res.index, res)\n",
      "plt.xlabel('order of data collection', fontsize=20)\n",
      "plt.ylabel('residuals', fontsize=20)\n",
      "plt.show()"
     ],
     "language": "python",
     "metadata": {},
     "outputs": [
      {
       "metadata": {},
       "output_type": "display_data",
       "png": "[encoded data removed]",
       "text": [
        "<matplotlib.figure.Figure at 0xc4a8438>"
       ]
      }
     ],
     "prompt_number": 32
    },
    {
     "cell_type": "markdown",
     "metadata": {},
     "source": [
      "#### figure 8.12\n",
      "\n",
      "Residuals against each predictor variable."
     ]
    },
    {
     "cell_type": "code",
     "collapsed": false,
     "input": [
      "fig, axes = plt.subplots(2,1, figsize=(10,12))\n",
      "axes[0].scatter(df.cond_int, res)\n",
      "axes[0].set_ylabel('residuals')\n",
      "axes[0].set_xlabel('condition')\n",
      "\n",
      "axes[1].scatter(df.wheels, res)\n",
      "axes[1].set_ylabel('residuals')\n",
      "axes[1].set_xlabel('number of wheels')"
     ],
     "language": "python",
     "metadata": {},
     "outputs": [
      {
       "metadata": {},
       "output_type": "pyout",
       "prompt_number": 33,
       "text": [
        "<matplotlib.text.Text at 0xc145b38>"
       ]
      },
      {
       "metadata": {},
       "output_type": "display_data",
       "png": "[encoded data removed]",
       "text": [
        "<matplotlib.figure.Figure at 0xc47fef0>"
       ]
      }
     ],
     "prompt_number": 33
    },
    {
     "cell_type": "markdown",
     "metadata": {},
     "source": [
      "### 8.4 Logistic Regression\n",
      "\n",
      "**Logistic regression** is a type of *generalized linear model* (GLM) for resposne variables where regular multiple regression does not perform well.  In particular, the reesponse variable in these settins often takes a form where residuals are not normal.\n",
      "\n",
      "Logistic Regression is a generalized linear model where the outcome is a **two-level** categorical variable.\n",
      "\n",
      "* $y_i$ is a binary decision: 0 or 1\n",
      "* $x_{k,i}$ is the predictor variable k for the ith trial.\n",
      "\n",
      "The logistic regression model relates the probablity of the outcome ($p_i$) to the predictors: $x_{1,i},x_{2,i}, ..., x_{k,i}$ through a frame work similar to multiple regression\n",
      "\n",
      "\\begin{align}\n",
      "    f(p_i) = \\beta_0 + \\beta_1 x_{1,i} + \\beta_2 x_{2,i} + ... \\beta_k x_{k,i}\n",
      "\\end{align}\n",
      "\n",
      "where $f(x)$ is some sort of transformation that ensures the range of possibilities on the LHS equal the range of possibilities on the RHS.  A commen transformation is the **logit transformation**:\n",
      "\n",
      "\\begin{align}\n",
      "    logit(x) = log \\left(\\frac{x}{1-x}\\right)\n",
      "\\end{align}\n",
      "\n",
      "this if we assign $x_{0,i}=1$, we re-write the above equation as\n",
      "\n",
      "\\begin{align}\n",
      "    log \\left(\\frac{x}{1-x}\\right) = \\sum_{k=0}^{n} \\beta_k x_{k,i}\n",
      "\\end{align}"
     ]
    },
    {
     "cell_type": "markdown",
     "metadata": {},
     "source": [
      "#### ex 8.20\n",
      "\n",
      "Consider a simple spam filter.  This is a supervised learning problem since we have the spam information."
     ]
    },
    {
     "cell_type": "code",
     "collapsed": false,
     "input": [
      "df = pd.read_table('data\\email.txt')\n",
      "df.head()"
     ],
     "language": "python",
     "metadata": {},
     "outputs": [
      {
       "html": [
        "<div style=\"max-height:1000px;max-width:1500px;overflow:auto;\">\n",
        "<table border=\"1\" class=\"dataframe\">\n",
        "  <thead>\n",
        "    <tr style=\"text-align: right;\">\n",
        "      <th></th>\n",
        "      <th>spam</th>\n",
        "      <th>to_multiple</th>\n",
        "      <th>from</th>\n",
        "      <th>cc</th>\n",
        "      <th>sent_email</th>\n",
        "      <th>time</th>\n",
        "      <th>image</th>\n",
        "      <th>attach</th>\n",
        "      <th>dollar</th>\n",
        "      <th>winner</th>\n",
        "      <th>...</th>\n",
        "      <th>viagra</th>\n",
        "      <th>password</th>\n",
        "      <th>num_char</th>\n",
        "      <th>line_breaks</th>\n",
        "      <th>format</th>\n",
        "      <th>re_subj</th>\n",
        "      <th>exclaim_subj</th>\n",
        "      <th>urgent_subj</th>\n",
        "      <th>exclaim_mess</th>\n",
        "      <th>number</th>\n",
        "    </tr>\n",
        "  </thead>\n",
        "  <tbody>\n",
        "    <tr>\n",
        "      <th>0</th>\n",
        "      <td> 0</td>\n",
        "      <td> 0</td>\n",
        "      <td> 1</td>\n",
        "      <td> 0</td>\n",
        "      <td> 0</td>\n",
        "      <td> 2011-12-31 22:16:41</td>\n",
        "      <td> 0</td>\n",
        "      <td> 0</td>\n",
        "      <td> 0</td>\n",
        "      <td> no</td>\n",
        "      <td>...</td>\n",
        "      <td> 0</td>\n",
        "      <td> 0</td>\n",
        "      <td> 11.370</td>\n",
        "      <td> 202</td>\n",
        "      <td> 1</td>\n",
        "      <td> 0</td>\n",
        "      <td> 0</td>\n",
        "      <td> 0</td>\n",
        "      <td>  0</td>\n",
        "      <td>   big</td>\n",
        "    </tr>\n",
        "    <tr>\n",
        "      <th>1</th>\n",
        "      <td> 0</td>\n",
        "      <td> 0</td>\n",
        "      <td> 1</td>\n",
        "      <td> 0</td>\n",
        "      <td> 0</td>\n",
        "      <td> 2011-12-31 23:03:59</td>\n",
        "      <td> 0</td>\n",
        "      <td> 0</td>\n",
        "      <td> 0</td>\n",
        "      <td> no</td>\n",
        "      <td>...</td>\n",
        "      <td> 0</td>\n",
        "      <td> 0</td>\n",
        "      <td> 10.504</td>\n",
        "      <td> 202</td>\n",
        "      <td> 1</td>\n",
        "      <td> 0</td>\n",
        "      <td> 0</td>\n",
        "      <td> 0</td>\n",
        "      <td>  1</td>\n",
        "      <td> small</td>\n",
        "    </tr>\n",
        "    <tr>\n",
        "      <th>2</th>\n",
        "      <td> 0</td>\n",
        "      <td> 0</td>\n",
        "      <td> 1</td>\n",
        "      <td> 0</td>\n",
        "      <td> 0</td>\n",
        "      <td> 2012-01-01 08:00:32</td>\n",
        "      <td> 0</td>\n",
        "      <td> 0</td>\n",
        "      <td> 4</td>\n",
        "      <td> no</td>\n",
        "      <td>...</td>\n",
        "      <td> 0</td>\n",
        "      <td> 0</td>\n",
        "      <td>  7.773</td>\n",
        "      <td> 192</td>\n",
        "      <td> 1</td>\n",
        "      <td> 0</td>\n",
        "      <td> 0</td>\n",
        "      <td> 0</td>\n",
        "      <td>  6</td>\n",
        "      <td> small</td>\n",
        "    </tr>\n",
        "    <tr>\n",
        "      <th>3</th>\n",
        "      <td> 0</td>\n",
        "      <td> 0</td>\n",
        "      <td> 1</td>\n",
        "      <td> 0</td>\n",
        "      <td> 0</td>\n",
        "      <td> 2012-01-01 01:09:49</td>\n",
        "      <td> 0</td>\n",
        "      <td> 0</td>\n",
        "      <td> 0</td>\n",
        "      <td> no</td>\n",
        "      <td>...</td>\n",
        "      <td> 0</td>\n",
        "      <td> 0</td>\n",
        "      <td> 13.256</td>\n",
        "      <td> 255</td>\n",
        "      <td> 1</td>\n",
        "      <td> 0</td>\n",
        "      <td> 0</td>\n",
        "      <td> 0</td>\n",
        "      <td> 48</td>\n",
        "      <td> small</td>\n",
        "    </tr>\n",
        "    <tr>\n",
        "      <th>4</th>\n",
        "      <td> 0</td>\n",
        "      <td> 0</td>\n",
        "      <td> 1</td>\n",
        "      <td> 0</td>\n",
        "      <td> 0</td>\n",
        "      <td> 2012-01-01 02:00:01</td>\n",
        "      <td> 0</td>\n",
        "      <td> 0</td>\n",
        "      <td> 0</td>\n",
        "      <td> no</td>\n",
        "      <td>...</td>\n",
        "      <td> 0</td>\n",
        "      <td> 2</td>\n",
        "      <td>  1.231</td>\n",
        "      <td>  29</td>\n",
        "      <td> 0</td>\n",
        "      <td> 0</td>\n",
        "      <td> 0</td>\n",
        "      <td> 0</td>\n",
        "      <td>  1</td>\n",
        "      <td>  none</td>\n",
        "    </tr>\n",
        "  </tbody>\n",
        "</table>\n",
        "<p>5 rows \u00d7 21 columns</p>\n",
        "</div>"
       ],
       "metadata": {},
       "output_type": "pyout",
       "prompt_number": 34,
       "text": [
        "   spam  to_multiple  from  cc  sent_email                 time  image  \\\n",
        "0     0            0     1   0           0  2011-12-31 22:16:41      0   \n",
        "1     0            0     1   0           0  2011-12-31 23:03:59      0   \n",
        "2     0            0     1   0           0  2012-01-01 08:00:32      0   \n",
        "3     0            0     1   0           0  2012-01-01 01:09:49      0   \n",
        "4     0            0     1   0           0  2012-01-01 02:00:01      0   \n",
        "\n",
        "   attach  dollar winner  ...    viagra  password  num_char  line_breaks  \\\n",
        "0       0       0     no  ...         0         0    11.370          202   \n",
        "1       0       0     no  ...         0         0    10.504          202   \n",
        "2       0       4     no  ...         0         0     7.773          192   \n",
        "3       0       0     no  ...         0         0    13.256          255   \n",
        "4       0       0     no  ...         0         2     1.231           29   \n",
        "\n",
        "   format  re_subj  exclaim_subj  urgent_subj  exclaim_mess  number  \n",
        "0       1        0             0            0             0     big  \n",
        "1       1        0             0            0             1   small  \n",
        "2       1        0             0            0             6   small  \n",
        "3       1        0             0            0            48   small  \n",
        "4       0        0             0            0             1    none  \n",
        "\n",
        "[5 rows x 21 columns]"
       ]
      }
     ],
     "prompt_number": 34
    },
    {
     "cell_type": "markdown",
     "metadata": {},
     "source": [
      "only condier binary predictors:"
     ]
    },
    {
     "cell_type": "code",
     "collapsed": false,
     "input": [
      "df.columns"
     ],
     "language": "python",
     "metadata": {},
     "outputs": [
      {
       "metadata": {},
       "output_type": "pyout",
       "prompt_number": 35,
       "text": [
        "Index([u'spam', u'to_multiple', u'from', u'cc', u'sent_email', u'time', u'image', u'attach', u'dollar', u'winner', u'inherit', u'viagra', u'password', u'num_char', u'line_breaks', u'format', u're_subj', u'exclaim_subj', u'urgent_subj', u'exclaim_mess', u'number'], dtype='object')"
       ]
      }
     ],
     "prompt_number": 35
    },
    {
     "cell_type": "code",
     "collapsed": false,
     "input": [
      "df = df[['spam', 'to_multiple', 'cc', 'attach', 'dollar', 'winner', 'inherit', \n",
      "         'password', 'format', 're_subj', 'exclaim_subj']]\n",
      "df.winner = (w == 'yes').astype(np.int)\n",
      "df['intercept'] = 1.0\n",
      "df.head()"
     ],
     "language": "python",
     "metadata": {},
     "outputs": [
      {
       "html": [
        "<div style=\"max-height:1000px;max-width:1500px;overflow:auto;\">\n",
        "<table border=\"1\" class=\"dataframe\">\n",
        "  <thead>\n",
        "    <tr style=\"text-align: right;\">\n",
        "      <th></th>\n",
        "      <th>spam</th>\n",
        "      <th>to_multiple</th>\n",
        "      <th>cc</th>\n",
        "      <th>attach</th>\n",
        "      <th>dollar</th>\n",
        "      <th>winner</th>\n",
        "      <th>inherit</th>\n",
        "      <th>password</th>\n",
        "      <th>format</th>\n",
        "      <th>re_subj</th>\n",
        "      <th>exclaim_subj</th>\n",
        "      <th>intercept</th>\n",
        "    </tr>\n",
        "  </thead>\n",
        "  <tbody>\n",
        "    <tr>\n",
        "      <th>0</th>\n",
        "      <td> 0</td>\n",
        "      <td> 0</td>\n",
        "      <td> 0</td>\n",
        "      <td> 0</td>\n",
        "      <td> 0</td>\n",
        "      <td> 0</td>\n",
        "      <td> 0</td>\n",
        "      <td> 0</td>\n",
        "      <td> 1</td>\n",
        "      <td> 0</td>\n",
        "      <td> 0</td>\n",
        "      <td> 1</td>\n",
        "    </tr>\n",
        "    <tr>\n",
        "      <th>1</th>\n",
        "      <td> 0</td>\n",
        "      <td> 0</td>\n",
        "      <td> 0</td>\n",
        "      <td> 0</td>\n",
        "      <td> 0</td>\n",
        "      <td> 0</td>\n",
        "      <td> 0</td>\n",
        "      <td> 0</td>\n",
        "      <td> 1</td>\n",
        "      <td> 0</td>\n",
        "      <td> 0</td>\n",
        "      <td> 1</td>\n",
        "    </tr>\n",
        "    <tr>\n",
        "      <th>2</th>\n",
        "      <td> 0</td>\n",
        "      <td> 0</td>\n",
        "      <td> 0</td>\n",
        "      <td> 0</td>\n",
        "      <td> 4</td>\n",
        "      <td> 0</td>\n",
        "      <td> 1</td>\n",
        "      <td> 0</td>\n",
        "      <td> 1</td>\n",
        "      <td> 0</td>\n",
        "      <td> 0</td>\n",
        "      <td> 1</td>\n",
        "    </tr>\n",
        "    <tr>\n",
        "      <th>3</th>\n",
        "      <td> 0</td>\n",
        "      <td> 0</td>\n",
        "      <td> 0</td>\n",
        "      <td> 0</td>\n",
        "      <td> 0</td>\n",
        "      <td> 0</td>\n",
        "      <td> 0</td>\n",
        "      <td> 0</td>\n",
        "      <td> 1</td>\n",
        "      <td> 0</td>\n",
        "      <td> 0</td>\n",
        "      <td> 1</td>\n",
        "    </tr>\n",
        "    <tr>\n",
        "      <th>4</th>\n",
        "      <td> 0</td>\n",
        "      <td> 0</td>\n",
        "      <td> 0</td>\n",
        "      <td> 0</td>\n",
        "      <td> 0</td>\n",
        "      <td> 0</td>\n",
        "      <td> 0</td>\n",
        "      <td> 2</td>\n",
        "      <td> 0</td>\n",
        "      <td> 0</td>\n",
        "      <td> 0</td>\n",
        "      <td> 1</td>\n",
        "    </tr>\n",
        "  </tbody>\n",
        "</table>\n",
        "</div>"
       ],
       "metadata": {},
       "output_type": "pyout",
       "prompt_number": 101,
       "text": [
        "   spam  to_multiple  cc  attach  dollar  winner  inherit  password  format  \\\n",
        "0     0            0   0       0       0       0        0         0       1   \n",
        "1     0            0   0       0       0       0        0         0       1   \n",
        "2     0            0   0       0       4       0        1         0       1   \n",
        "3     0            0   0       0       0       0        0         0       1   \n",
        "4     0            0   0       0       0       0        0         2       0   \n",
        "\n",
        "   re_subj  exclaim_subj  intercept  \n",
        "0        0             0          1  \n",
        "1        0             0          1  \n",
        "2        0             0          1  \n",
        "3        0             0          1  \n",
        "4        0             0          1  "
       ]
      }
     ],
     "prompt_number": 101
    },
    {
     "cell_type": "markdown",
     "metadata": {},
     "source": [
      "only use one predictor for this example: *to_multiple*.  This indicates the email was sent to more than one recipient."
     ]
    },
    {
     "cell_type": "code",
     "collapsed": false,
     "input": [
      "import statsmodels.api as sm\n",
      "\n",
      "# manually add the intercept\n",
      "df['intercept'] = 1.0\n",
      "logit = sm.Logit(df.spam, df[['to_multiple','intercept']])\n",
      "result = logit.fit()\n",
      "print(result.summary())"
     ],
     "language": "python",
     "metadata": {},
     "outputs": [
      {
       "output_type": "stream",
       "stream": "stdout",
       "text": [
        "Optimization terminated successfully.\n",
        "         Current function value: 0.302476\n",
        "         Iterations 8\n",
        "                           Logit Regression Results                           \n",
        "==============================================================================\n",
        "Dep. Variable:                   spam   No. Observations:                 3921\n",
        "Model:                          Logit   Df Residuals:                     3919\n",
        "Method:                           MLE   Df Model:                            1\n",
        "Date:                Mon, 06 Oct 2014   Pseudo R-squ.:                 0.02674\n",
        "Time:                        13:54:59   Log-Likelihood:                -1186.0\n",
        "converged:                       True   LL-Null:                       -1218.6\n",
        "                                        LLR p-value:                 6.904e-16\n",
        "===============================================================================\n",
        "                  coef    std err          z      P>|z|      [95.0% Conf. Int.]\n",
        "-------------------------------------------------------------------------------\n",
        "to_multiple    -1.8092      0.297     -6.094      0.000        -2.391    -1.227\n",
        "intercept      -2.1161      0.056    -37.665      0.000        -2.226    -2.006\n",
        "===============================================================================\n"
       ]
      }
     ],
     "prompt_number": 102
    },
    {
     "cell_type": "markdown",
     "metadata": {},
     "source": [
      "**FIXME**\n",
      "\n",
      "Try to do by hand..."
     ]
    },
    {
     "cell_type": "code",
     "collapsed": false,
     "input": [
      "mod = smf.ols(formula='spam ~ to_multiple', data=df)\n",
      "res = mod.fit()\n",
      "print(res.summary())"
     ],
     "language": "python",
     "metadata": {},
     "outputs": [
      {
       "output_type": "stream",
       "stream": "stdout",
       "text": [
        "                            OLS Regression Results                            \n",
        "==============================================================================\n",
        "Dep. Variable:                   spam   R-squared:                       0.012\n",
        "Model:                            OLS   Adj. R-squared:                  0.012\n",
        "Method:                 Least Squares   F-statistic:                     48.42\n",
        "Date:                Mon, 06 Oct 2014   Prob (F-statistic):           4.02e-12\n",
        "Time:                        13:54:59   Log-Likelihood:                -703.01\n",
        "No. Observations:                3921   AIC:                             1410.\n",
        "Df Residuals:                    3919   BIC:                             1423.\n",
        "Df Model:                           1                                         \n",
        "===============================================================================\n",
        "                  coef    std err          t      P>|t|      [95.0% Conf. Int.]\n",
        "-------------------------------------------------------------------------------\n",
        "Intercept       0.1075      0.005     21.339      0.000         0.098     0.117\n",
        "to_multiple    -0.0882      0.013     -6.958      0.000        -0.113    -0.063\n",
        "==============================================================================\n",
        "Omnibus:                     2097.570   Durbin-Watson:                   0.126\n",
        "Prob(Omnibus):                  0.000   Jarque-Bera (JB):             9997.482\n",
        "Skew:                           2.733   Prob(JB):                         0.00\n",
        "Kurtosis:                       8.596   Cond. No.                         2.82\n",
        "==============================================================================\n"
       ]
      }
     ],
     "prompt_number": 103
    },
    {
     "cell_type": "markdown",
     "metadata": {},
     "source": [
      "so the logistic regression model for one variable will look like:\n",
      "\n",
      "\\begin{align}\n",
      "    log \\left(\\frac{p_i}{1-p_i}\\right) = -2.12 - 1.81 \\times \\text{to_multiple}\n",
      "\\end{align}\n",
      "\n",
      "sovling for $p_i$ we get:\n",
      "\n",
      "\\begin{align}\n",
      "   p_i = \\frac{e^{\\sum_{k=0}^{n} \\beta_k x_{k,i}}}{1 + e^{\\sum_{k=0}^{n} \\beta_k x_{k,i}}}\n",
      "\\end{align}\n",
      "\n",
      "which in this case becomes:\n",
      "\n",
      "\\begin{align}\n",
      "   p(x=0) &= \\frac{e^{-2.12}}{1 + e^{-2.12}} = 0.11 \\\\\n",
      "   p(x=1) &= \\frac{e^{-3.93}}{1 + e^{-3.93}} = 0.02\n",
      "\\end{align}"
     ]
    },
    {
     "cell_type": "code",
     "collapsed": false,
     "input": [
      "b0 = result.params[1]\n",
      "b1 = result.params[0]\n",
      "\n",
      "def p(x, b0=b0, b1=b1):\n",
      "    y = x*b1 + b0\n",
      "    return exp(y)/(1 + exp(y))\n",
      "\n",
      "display(Latex(r\"$\\hat{p}(x = 0) = %1.2f$\" % p(0)))\n",
      "display(Latex(r\"$\\hat{p}(x = 1) = %1.2f$\" % p(1)))"
     ],
     "language": "python",
     "metadata": {},
     "outputs": [
      {
       "latex": [
        "$\\hat{p}(x = 0) = 0.11$"
       ],
       "metadata": {},
       "output_type": "display_data",
       "text": [
        "<IPython.core.display.Latex at 0xcb7ecf8>"
       ]
      },
      {
       "latex": [
        "$\\hat{p}(x = 1) = 0.02$"
       ],
       "metadata": {},
       "output_type": "display_data",
       "text": [
        "<IPython.core.display.Latex at 0xcb7e320>"
       ]
      }
     ],
     "prompt_number": 104
    },
    {
     "cell_type": "markdown",
     "metadata": {},
     "source": [
      "Try with sklearn...don't quite have it"
     ]
    },
    {
     "cell_type": "code",
     "collapsed": false,
     "input": [
      "from sklearn import linear_model, datasets\n",
      "X = df[['to_multiple']]\n",
      "y = df.spam\n",
      "model = linear_model.LogisticRegression()\n",
      "model.fit(X, y)"
     ],
     "language": "python",
     "metadata": {},
     "outputs": [
      {
       "metadata": {},
       "output_type": "pyout",
       "prompt_number": 105,
       "text": [
        "LogisticRegression(C=1.0, class_weight=None, dual=False, fit_intercept=True,\n",
        "          intercept_scaling=1, penalty='l2', random_state=None, tol=0.0001)"
       ]
      }
     ],
     "prompt_number": 105
    },
    {
     "cell_type": "code",
     "collapsed": false,
     "input": [
      "model.get_params()"
     ],
     "language": "python",
     "metadata": {},
     "outputs": [
      {
       "metadata": {},
       "output_type": "pyout",
       "prompt_number": 106,
       "text": [
        "{'C': 1.0,\n",
        " 'class_weight': None,\n",
        " 'dual': False,\n",
        " 'fit_intercept': True,\n",
        " 'intercept_scaling': 1,\n",
        " 'penalty': 'l2',\n",
        " 'random_state': None,\n",
        " 'tol': 0.0001}"
       ]
      }
     ],
     "prompt_number": 106
    },
    {
     "cell_type": "code",
     "collapsed": false,
     "input": [
      "model.predict_proba(np.array([[0],[1]]))"
     ],
     "language": "python",
     "metadata": {},
     "outputs": [
      {
       "metadata": {},
       "output_type": "pyout",
       "prompt_number": 107,
       "text": [
        "array([[ 0.8923,  0.1077],\n",
        "       [ 0.9779,  0.0221]])"
       ]
      }
     ],
     "prompt_number": 107
    },
    {
     "cell_type": "code",
     "collapsed": false,
     "input": [
      "model.sparsify()"
     ],
     "language": "python",
     "metadata": {},
     "outputs": [
      {
       "metadata": {},
       "output_type": "pyout",
       "prompt_number": 108,
       "text": [
        "LogisticRegression(C=1.0, class_weight=None, dual=False, fit_intercept=True,\n",
        "          intercept_scaling=1, penalty='l2', random_state=None, tol=0.0001)"
       ]
      }
     ],
     "prompt_number": 108
    },
    {
     "cell_type": "markdown",
     "metadata": {},
     "source": [
      "#### table 8.15 - 8.16\n",
      "\n",
      "Use all predictors:"
     ]
    },
    {
     "cell_type": "code",
     "collapsed": false,
     "input": [
      "# manually add the intercept\n",
      "train_data   = df[df.columns[1:]]\n",
      "train_target = df.spam\n",
      "logit = sm.Logit(train_target, train_data)\n",
      "result = logit.fit()\n",
      "print(result.summary())"
     ],
     "language": "python",
     "metadata": {},
     "outputs": [
      {
       "output_type": "stream",
       "stream": "stdout",
       "text": [
        "Optimization terminated successfully.\n",
        "         Current function value: 0.246898\n",
        "         Iterations 9\n",
        "                           Logit Regression Results                           \n",
        "==============================================================================\n",
        "Dep. Variable:                   spam   No. Observations:                 3921\n",
        "Model:                          Logit   Df Residuals:                     3910\n",
        "Method:                           MLE   Df Model:                           10\n",
        "Date:                Mon, 06 Oct 2014   Pseudo R-squ.:                  0.2056\n",
        "Time:                        13:58:26   Log-Likelihood:                -968.09\n",
        "converged:                       True   LL-Null:                       -1218.6\n",
        "                                        LLR p-value:                2.693e-101\n",
        "================================================================================\n",
        "                   coef    std err          z      P>|z|      [95.0% Conf. Int.]\n",
        "--------------------------------------------------------------------------------\n",
        "to_multiple     -2.8410      0.312     -9.118      0.000        -3.452    -2.230\n",
        "cc               0.0313      0.019      1.654      0.098        -0.006     0.068\n",
        "attach           0.2035      0.059      3.478      0.001         0.089     0.318\n",
        "dollar          -0.0730      0.023     -3.168      0.002        -0.118    -0.028\n",
        "winner           1.8310      0.336      5.443      0.000         1.172     2.490\n",
        "inherit          0.3300      0.152      2.168      0.030         0.032     0.628\n",
        "password        -0.7595      0.296     -2.565      0.010        -1.340    -0.179\n",
        "format          -1.5228      0.123    -12.411      0.000        -1.763    -1.282\n",
        "re_subj         -3.1186      0.365     -8.538      0.000        -3.834    -2.403\n",
        "exclaim_subj     0.2440      0.225      1.084      0.278        -0.197     0.685\n",
        "intercept       -0.7998      0.089     -8.950      0.000        -0.975    -0.625\n",
        "================================================================================\n"
       ]
      }
     ],
     "prompt_number": 117
    },
    {
     "cell_type": "code",
     "collapsed": false,
     "input": [
      "result.pvalues"
     ],
     "language": "python",
     "metadata": {},
     "outputs": [
      {
       "metadata": {},
       "output_type": "pyout",
       "prompt_number": 113,
       "text": [
        "to_multiple     7.660493e-20\n",
        "cc              9.805914e-02\n",
        "attach          5.046220e-04\n",
        "dollar          1.535232e-03\n",
        "winner          5.246029e-08\n",
        "inherit         3.018417e-02\n",
        "password        1.031770e-02\n",
        "format          2.275027e-35\n",
        "re_subj         1.370426e-17\n",
        "exclaim_subj    2.782240e-01\n",
        "intercept       3.541032e-19\n",
        "dtype: float64"
       ]
      }
     ],
     "prompt_number": 113
    },
    {
     "cell_type": "code",
     "collapsed": false,
     "input": [
      "# only keep the predictors with p-value < 0.05\n",
      "train_data = df[result.pvalues[result.pvalues < 0.05].index]\n",
      "train_data.head()"
     ],
     "language": "python",
     "metadata": {},
     "outputs": [
      {
       "html": [
        "<div style=\"max-height:1000px;max-width:1500px;overflow:auto;\">\n",
        "<table border=\"1\" class=\"dataframe\">\n",
        "  <thead>\n",
        "    <tr style=\"text-align: right;\">\n",
        "      <th></th>\n",
        "      <th>to_multiple</th>\n",
        "      <th>attach</th>\n",
        "      <th>dollar</th>\n",
        "      <th>winner</th>\n",
        "      <th>inherit</th>\n",
        "      <th>password</th>\n",
        "      <th>format</th>\n",
        "      <th>re_subj</th>\n",
        "      <th>intercept</th>\n",
        "    </tr>\n",
        "  </thead>\n",
        "  <tbody>\n",
        "    <tr>\n",
        "      <th>0</th>\n",
        "      <td> 0</td>\n",
        "      <td> 0</td>\n",
        "      <td> 0</td>\n",
        "      <td> 0</td>\n",
        "      <td> 0</td>\n",
        "      <td> 0</td>\n",
        "      <td> 1</td>\n",
        "      <td> 0</td>\n",
        "      <td> 1</td>\n",
        "    </tr>\n",
        "    <tr>\n",
        "      <th>1</th>\n",
        "      <td> 0</td>\n",
        "      <td> 0</td>\n",
        "      <td> 0</td>\n",
        "      <td> 0</td>\n",
        "      <td> 0</td>\n",
        "      <td> 0</td>\n",
        "      <td> 1</td>\n",
        "      <td> 0</td>\n",
        "      <td> 1</td>\n",
        "    </tr>\n",
        "    <tr>\n",
        "      <th>2</th>\n",
        "      <td> 0</td>\n",
        "      <td> 0</td>\n",
        "      <td> 4</td>\n",
        "      <td> 0</td>\n",
        "      <td> 1</td>\n",
        "      <td> 0</td>\n",
        "      <td> 1</td>\n",
        "      <td> 0</td>\n",
        "      <td> 1</td>\n",
        "    </tr>\n",
        "    <tr>\n",
        "      <th>3</th>\n",
        "      <td> 0</td>\n",
        "      <td> 0</td>\n",
        "      <td> 0</td>\n",
        "      <td> 0</td>\n",
        "      <td> 0</td>\n",
        "      <td> 0</td>\n",
        "      <td> 1</td>\n",
        "      <td> 0</td>\n",
        "      <td> 1</td>\n",
        "    </tr>\n",
        "    <tr>\n",
        "      <th>4</th>\n",
        "      <td> 0</td>\n",
        "      <td> 0</td>\n",
        "      <td> 0</td>\n",
        "      <td> 0</td>\n",
        "      <td> 0</td>\n",
        "      <td> 2</td>\n",
        "      <td> 0</td>\n",
        "      <td> 0</td>\n",
        "      <td> 1</td>\n",
        "    </tr>\n",
        "  </tbody>\n",
        "</table>\n",
        "</div>"
       ],
       "metadata": {},
       "output_type": "pyout",
       "prompt_number": 121,
       "text": [
        "   to_multiple  attach  dollar  winner  inherit  password  format  re_subj  \\\n",
        "0            0       0       0       0        0         0       1        0   \n",
        "1            0       0       0       0        0         0       1        0   \n",
        "2            0       0       4       0        1         0       1        0   \n",
        "3            0       0       0       0        0         0       1        0   \n",
        "4            0       0       0       0        0         2       0        0   \n",
        "\n",
        "   intercept  \n",
        "0          1  \n",
        "1          1  \n",
        "2          1  \n",
        "3          1  \n",
        "4          1  "
       ]
      }
     ],
     "prompt_number": 121
    },
    {
     "cell_type": "code",
     "collapsed": false,
     "input": [
      "logit = sm.Logit(train_target, train_data)\n",
      "result = logit.fit()\n",
      "print(result.summary())"
     ],
     "language": "python",
     "metadata": {},
     "outputs": [
      {
       "output_type": "stream",
       "stream": "stdout",
       "text": [
        "Optimization terminated successfully.\n",
        "         Current function value: 0.247330\n",
        "         Iterations 9\n",
        "                           Logit Regression Results                           \n",
        "==============================================================================\n",
        "Dep. Variable:                   spam   No. Observations:                 3921\n",
        "Model:                          Logit   Df Residuals:                     3912\n",
        "Method:                           MLE   Df Model:                            8\n",
        "Date:                Mon, 06 Oct 2014   Pseudo R-squ.:                  0.2042\n",
        "Time:                        14:00:55   Log-Likelihood:                -969.78\n",
        "converged:                       True   LL-Null:                       -1218.6\n",
        "                                        LLR p-value:                2.279e-102\n",
        "===============================================================================\n",
        "                  coef    std err          z      P>|z|      [95.0% Conf. Int.]\n",
        "-------------------------------------------------------------------------------\n",
        "to_multiple    -2.7768      0.308     -9.030      0.000        -3.380    -2.174\n",
        "attach          0.2042      0.058      3.527      0.000         0.091     0.318\n",
        "dollar         -0.0697      0.022     -3.113      0.002        -0.114    -0.026\n",
        "winner          1.8668      0.337      5.547      0.000         1.207     2.526\n",
        "inherit         0.3361      0.151      2.230      0.026         0.041     0.632\n",
        "password       -0.7604      0.297     -2.561      0.010        -1.342    -0.178\n",
        "format         -1.5177      0.122    -12.413      0.000        -1.757    -1.278\n",
        "re_subj        -3.1133      0.365     -8.524      0.000        -3.829    -2.397\n",
        "intercept      -0.7814      0.089     -8.820      0.000        -0.955    -0.608\n",
        "==============================================================================="
       ]
      },
      {
       "output_type": "stream",
       "stream": "stdout",
       "text": [
        "\n"
       ]
      }
     ],
     "prompt_number": 122
    },
    {
     "cell_type": "markdown",
     "metadata": {},
     "source": [
      "**FIXME:** not quite lined up with the book..."
     ]
    },
    {
     "cell_type": "markdown",
     "metadata": {},
     "source": [
      "There are two **key** conditions for fitting a logistic regression model:\n",
      "\n",
      "1. Each predictor $x_i$ is linearly related to the $\\text{logit}(p_i)$ if all other predictors are held constant.\n",
      "1. Each outcome $y_i$ is indedpendent of the other outcomes."
     ]
    },
    {
     "cell_type": "markdown",
     "metadata": {},
     "source": [
      "#### figure 8.17"
     ]
    },
    {
     "cell_type": "code",
     "collapsed": false,
     "input": [
      "y_visual = df.spam + st.norm(0, 0.1).rvs(len(df))\n",
      "fig, ax = plt.subplots()\n",
      "ax.scatter(result.predict(), y_visual)\n",
      "ax.set_yticks([0, 1])\n",
      "ax.set_yticklabels(['1 (spam)', '0 (not spam)'])\n",
      "ax.set_xlabel('predicted probability')\n",
      "ax.set_xlim([0, 1])\n",
      "ax.spines['right'].set_visible(False)\n",
      "ax.spines['top'].set_visible(False)\n",
      "ax.spines['left'].set_bounds(-0.2, 1.2)\n",
      "ax.yaxis.set_ticks_position('left')\n",
      "ax.xaxis.set_ticks_position('bottom')\n",
      "plt.show()"
     ],
     "language": "python",
     "metadata": {},
     "outputs": [
      {
       "metadata": {},
       "output_type": "display_data",
       "png": "[encoded data removed]",
       "text": [
        "<matplotlib.figure.Figure at 0x11d94470>"
       ]
      }
     ],
     "prompt_number": 147
    }
   ],
   "metadata": {}
  }
 ]
}