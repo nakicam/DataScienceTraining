{
 "metadata": {
  "name": "q3.ipynb"
 },
 "nbformat": 3,
 "nbformat_minor": 0,
 "worksheets": [
  {
   "cells": [
    {
     "cell_type": "code",
     "collapsed": false,
     "input": [
      "# setup notebook\n",
      "import numpy as np\n",
      "import pandas as pd\n",
      "import matplotlib.pyplot as plt\n",
      "import scipy.stats\n",
      "np.set_printoptions(precision=4)\n",
      "plt.rc('figure', figsize=(10, 8))"
     ],
     "language": "python",
     "metadata": {},
     "outputs": [],
     "prompt_number": 5
    },
    {
     "cell_type": "code",
     "collapsed": false,
     "input": [
      "def hyp_test2(z, alpha=0.05, two_sided=False):\n",
      "    z = abs(z)\n",
      "    p = 1 - scipy.stats.norm.cdf(z)\n",
      "    if (two_sided):\n",
      "        p = 2*p\n",
      "    reject = (p < alpha)\n",
      "    \n",
      "    if reject:    \n",
      "        print(\"Reject H0 at %1.0f%% CL with p = %1.2e\" % (100*(1.0-alpha), p))\n",
      "    else:\n",
      "        print(\"Fail to reject H0 at %1.0f%% CL with p = %1.2e\" % (100*(1.0-alpha), p))"
     ],
     "language": "python",
     "metadata": {},
     "outputs": [],
     "prompt_number": 8
    },
    {
     "cell_type": "code",
     "collapsed": false,
     "input": [
      "# ex 4.36 (page 182)\n",
      " \n",
      "# H0: mu = 7\n",
      "# H1: Mu != 7\n",
      "# two sided test\n",
      " \n",
      "alpha      = 0.05\n",
      "mu         = 7\n",
      "n          = 72\n",
      "xbar       = 6.83\n",
      "sigma_xbar = 1.8\n",
      "se_xbar    = sigma_xbar/sqrt(n)\n",
      "z_xbar     = (xbar - mu)/se_xbar\n",
      " \n",
      "hyp_test2(z_xbar, alpha, two_sided=True)"
     ],
     "language": "python",
     "metadata": {},
     "outputs": [
      {
       "output_type": "stream",
       "stream": "stdout",
       "text": [
        "Fail to reject H0 at 95% CL with p = 4.23e-01\n"
       ]
      }
     ],
     "prompt_number": 9
    },
    {
     "cell_type": "code",
     "collapsed": false,
     "input": [],
     "language": "python",
     "metadata": {},
     "outputs": []
    }
   ],
   "metadata": {}
  }
 ]
}