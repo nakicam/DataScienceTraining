{
 "metadata": {
  "name": "hdf5_basics.ipynb"
 },
 "nbformat": 3,
 "nbformat_minor": 0,
 "worksheets": [
  {
   "cells": [
    {
     "cell_type": "markdown",
     "metadata": {},
     "source": [
      "# HDF5 Basics\n",
      "\n",
      "from the [HDF5 Tutorial](http://www.hdfgroup.org/HDF5/Tutor/introductory.html)"
     ]
    },
    {
     "cell_type": "markdown",
     "metadata": {},
     "source": [
      "## setup notebook"
     ]
    },
    {
     "cell_type": "code",
     "collapsed": false,
     "input": [
      "# setup notebook\n",
      "import numpy as np\n",
      "import pandas as pd\n",
      "import matplotlib.pyplot as plt\n",
      "import scipy.stats as st\n",
      "import statsmodels.formula.api as smf\n",
      "from IPython.display import display, Math, Latex\n",
      "from matplotlib.patches import Polygon\n",
      "import os\n",
      "os.chdir('%s/Documents/Development/hdf5_tutorials' % os.getenv('HOME'))\n",
      "print(os.getcwd())\n",
      "\n",
      "np.set_printoptions(precision=4)\n",
      "plt.rc('figure', figsize=(10, 8))"
     ],
     "language": "python",
     "metadata": {},
     "outputs": [
      {
       "output_type": "stream",
       "stream": "stdout",
       "text": [
        "C:\\Users\\J28976\\Documents\\Development\\hdf5_tutorials\n"
       ]
      }
     ],
     "prompt_number": 1
    },
    {
     "cell_type": "markdown",
     "metadata": {},
     "source": [
      "## file organization\n",
      "\n",
      "HDF5 files are for storing hiearchical scientific data.  They are composed of two primary types of objects:\n",
      "\n",
      "* **HDF5 group:** a grouping of zero or more HDF5 objects (with supporting metadata)\n",
      "* **HDF5 dataset:** a multidimensional array of data elements (with supporting metadata)\n",
      "\n",
      "Any group or dataset will have an associated attibute list.  **HDF5 attributes** is a user-defined HDF5 structure that provides extra information about an HDF5 object.\n",
      "\n",
      "Think of a group as similar to a *directory* as in a POSIX directory.  Example:\n",
      "\n",
      "* / $\\to$ root group\n",
      "* /foo $\\to$ root group member called *foo*\n",
      "* /foo/zoo $\\to$ zoo is a member of the group foo which is turn a member of group root"
     ]
    },
    {
     "cell_type": "markdown",
     "metadata": {},
     "source": [
      "## HDF5 API\n",
      "\n",
      "The library itself is written in C; however, wrappers have been developed in \n",
      "\n",
      "1. C\n",
      "1. C++\n",
      "1. FORTRAN\n",
      "1. IDL\n",
      "1. MATLAB\n",
      "1. python\n",
      "1. Java\n",
      "\n",
      "Naming convention for functions: H5<?> where <?> is a single upercase letter that indicates the type of object the function operates on.\n",
      "\n",
      "<table>\n",
      "<tr>\n",
      "<th> API</th>\n",
      "<th> Description</th>\n",
      "</tr>\n",
      "<tr>\n",
      "<td> H5 </td>\n",
      "<td> Library Functions: general-purpose H5 functions </td>\n",
      "</tr>\n",
      "<tr>\n",
      "<td> H5A </td>\n",
      "<td> Annotation Interface: attribute access and manipulation routines </td>\n",
      "</tr>\n",
      "<tr>\n",
      "<td> H5D </td>\n",
      "<td> Dataset Interface: dataset access and manipulation routines </td>\n",
      "</tr>\n",
      "<tr>\n",
      "<td> H5E </td>\n",
      "<td> Error Interface: error handling routines </td>\n",
      "</tr>\n",
      "<tr>\n",
      "<td> H5F </td>\n",
      "<td> File Interface: file access routines </td>\n",
      "</tr>\n",
      "<tr>\n",
      "<td> H5G </td>\n",
      "<td> Group Interface: group creation and operation routines </td>\n",
      "</tr>\n",
      "<tr>\n",
      "<td> H5I </td>\n",
      "<td> Identifier Interface: identifier routines </td>\n",
      "</tr>\n",
      "<tr>\n",
      "<td> H5L </td>\n",
      "<td> Link Interface: link routines </td>\n",
      "</tr>\n",
      "<tr>\n",
      "<td> H5O </td>\n",
      "<td> Object Interface: object routines </td>\n",
      "</tr>\n",
      "<tr>\n",
      "<td> H5P </td>\n",
      "<td> Property List Interface: object property list manipulation routines </td>\n",
      "</tr>\n",
      "<tr>\n",
      "<td> H5R </td>\n",
      "<td> Reference Interface: reference routines </td>\n",
      "</tr>\n",
      "<tr>\n",
      "<td> H5S </td>\n",
      "<td> Dataspace Interface: dataspace definition and access routines </td>\n",
      "</tr>\n",
      "<tr>\n",
      "<td> H5T </td>\n",
      "<td> Datatype Interface: datatype creation and manipulation routines </td>\n",
      "</tr>\n",
      "<tr>\n",
      "<td> H5Z </td>\n",
      "<td> Compression Interface: compression routine(s) </td>\n",
      "</tr>\n",
      "</table>"
     ]
    },
    {
     "cell_type": "markdown",
     "metadata": {},
     "source": [
      "### Create an HDF file\n",
      "\n",
      "To create a file:\n",
      "\n",
      "1. Specify the file creation and access property lists, if necessary\n",
      "1. create the file\n",
      "1. close the file, and if necessary, close the property lists.\n",
      "\n",
      "Example in python:"
     ]
    },
    {
     "cell_type": "code",
     "collapsed": false,
     "input": [
      "import h5py\n",
      "\n",
      "# create a new file using the default properties\n",
      "file = h5py.File('data/dset.h5', 'w')\n",
      "\n",
      "# create a dataset under the 'root' group\n",
      "# 4 x 6 32 bit int array\n",
      "dataset = file.create_dataset('dset', (4, 6), h5py.h5t.STD_I32BE)\n",
      "\n",
      "print(\"Dataset dataspace is \", dataset.shape)\n",
      "print(\"Dataset Numpy datatype is \", dataset.dtype)\n",
      "print(\"Dataset name is \", dataset.name)\n",
      "print(\"Dataset is a member of the group \", dataset.parent)\n",
      "print(\"Dataset was created in the file \", dataset.file)\n",
      "\n",
      "# close the file before exiting\n",
      "file.close()"
     ],
     "language": "python",
     "metadata": {},
     "outputs": [
      {
       "output_type": "stream",
       "stream": "stdout",
       "text": [
        "('Dataset dataspace is ', (4, 6))\n",
        "('Dataset Numpy datatype is ', dtype('>i4'))\n",
        "('Dataset name is ', u'/dset')\n",
        "('Dataset is a member of the group ', <HDF5 group \"/\" (1 members)>)\n",
        "('Dataset was created in the file ', <HDF5 file \"dset.h5\" (mode r+)>)\n"
       ]
      }
     ],
     "prompt_number": 2
    },
    {
     "cell_type": "code",
     "collapsed": false,
     "input": [
      "!h5dump.exe data/dset.h5"
     ],
     "language": "python",
     "metadata": {},
     "outputs": [
      {
       "output_type": "stream",
       "stream": "stdout",
       "text": [
        "HDF5 \"data/dset.h5\" {\n",
        "GROUP \"/\" {\n",
        "   DATASET \"dset\" {\n",
        "      DATATYPE  H5T_STD_I32BE\n",
        "      DATASPACE  SIMPLE { ( 4, 6 ) / ( 4, 6 ) }\n",
        "      DATA {\n",
        "      (0,0): 0, 1, 2, 3, 4, 5,\n",
        "      (1,0): 6, 7, 8, 9, 10, 11,\n",
        "      (2,0): 12, 13, 14, 15, 16, 17,\n",
        "      (3,0): 18, 19, 20, 21, 22, 23\n",
        "      }\n",
        "      ATTRIBUTE \"Speed\" {\n",
        "         DATATYPE  H5T_STD_I32BE\n",
        "         DATASPACE  SIMPLE { ( 2 ) / ( 2 ) }\n",
        "         DATA {\n",
        "         (0): 100, 200\n",
        "         }\n",
        "      }\n",
        "      ATTRIBUTE \"Units\" {\n",
        "         DATATYPE  H5T_STRING {\n",
        "            STRSIZE H5T_VARIABLE;\n",
        "            STRPAD H5T_STR_NULLTERM;\n",
        "            CSET H5T_CSET_ASCII;\n",
        "            CTYPE H5T_C_S1;\n",
        "         }\n",
        "         DATASPACE  SCALAR\n",
        "         DATA {\n",
        "         (0): \"Meter per second\"\n",
        "         }\n",
        "      }\n",
        "   }\n",
        "   GROUP \"rwk\" {\n",
        "   }\n",
        "}\n",
        "}\n"
       ]
      }
     ],
     "prompt_number": 39
    },
    {
     "cell_type": "markdown",
     "metadata": {},
     "source": [
      "Options for creating a file:\n",
      "\n",
      "    r   Readonly, file must exist\n",
      "    r+  Read/write, file must exist\n",
      "    w   Create file, truncate if exists\n",
      "    w-  Create file, fail if exists\n",
      "    a   Read/write if exists, create otherwise (default)"
     ]
    },
    {
     "cell_type": "markdown",
     "metadata": {},
     "source": [
      "## Reading and Writing Datasets\n",
      "\n",
      "To perform IO operations, the application must specify:\n",
      "\n",
      "* the dataset\n",
      "* dataset's datatype in memory\n",
      "* dataset's dataspace in memory\n",
      "* dataset's dataspace in the file\n",
      "* dataset's transfer property list\n",
      "* dataset buffer\n",
      "\n",
      "The steps to read from or write to a dataset are as follows:\n",
      "\n",
      "1. obtain the dataset identifier\n",
      "1. specify the memory datatype\n",
      "1. specify the memory dataspace\n",
      "1. specify the the file dataspace\n",
      "1. specify the transfer properties\n",
      "1. perform the desired operation on the dataset\n",
      "1. close the dataset\n",
      "1. close the dataspace, datatype, and property list if necessary\n",
      "\n",
      "Example:"
     ]
    },
    {
     "cell_type": "code",
     "collapsed": false,
     "input": [],
     "language": "python",
     "metadata": {},
     "outputs": [],
     "prompt_number": 3
    },
    {
     "cell_type": "code",
     "collapsed": false,
     "input": [
      "import h5py\n",
      "import numpy as np\n",
      "\n",
      "# open the file for reading\n",
      "file = h5py.File('data/dset.h5','r+')\n",
      "file.items()"
     ],
     "language": "python",
     "metadata": {},
     "outputs": [
      {
       "metadata": {},
       "output_type": "pyout",
       "prompt_number": 4,
       "text": [
        "[(u'dset', <HDF5 dataset \"dset\": shape (4, 6), type \">i4\">)]"
       ]
      }
     ],
     "prompt_number": 4
    },
    {
     "cell_type": "code",
     "collapsed": false,
     "input": [
      "# open the \"dset\" dataset\n",
      "dataset = file['/dset']\n",
      "dataset.value"
     ],
     "language": "python",
     "metadata": {},
     "outputs": [
      {
       "metadata": {},
       "output_type": "pyout",
       "prompt_number": 5,
       "text": [
        "array([[0, 0, 0, 0, 0, 0],\n",
        "       [0, 0, 0, 0, 0, 0],\n",
        "       [0, 0, 0, 0, 0, 0],\n",
        "       [0, 0, 0, 0, 0, 0]])"
       ]
      }
     ],
     "prompt_number": 5
    },
    {
     "cell_type": "code",
     "collapsed": false,
     "input": [
      "# create object to fill\n",
      "data = np.empty((4,6))\n",
      "for i in np.arange(4):\n",
      "    for j in np.arange(6):\n",
      "        data[i,j] = i*6+j\n",
      "data"
     ],
     "language": "python",
     "metadata": {},
     "outputs": [
      {
       "metadata": {},
       "output_type": "pyout",
       "prompt_number": 6,
       "text": [
        "array([[  0.,   1.,   2.,   3.,   4.,   5.],\n",
        "       [  6.,   7.,   8.,   9.,  10.,  11.],\n",
        "       [ 12.,  13.,  14.,  15.,  16.,  17.],\n",
        "       [ 18.,  19.,  20.,  21.,  22.,  23.]])"
       ]
      }
     ],
     "prompt_number": 6
    },
    {
     "cell_type": "code",
     "collapsed": false,
     "input": [
      "# write the data\n",
      "print(\"writing data...\")\n",
      "dataset[...] = data"
     ],
     "language": "python",
     "metadata": {},
     "outputs": [
      {
       "output_type": "stream",
       "stream": "stdout",
       "text": [
        "writing data...\n"
       ]
      }
     ],
     "prompt_number": 7
    },
    {
     "cell_type": "code",
     "collapsed": false,
     "input": [
      "# read it back and print it\n",
      "print(\"reading back data...\")\n",
      "data_read = dataset[...]\n",
      "data_read"
     ],
     "language": "python",
     "metadata": {},
     "outputs": [
      {
       "output_type": "stream",
       "stream": "stdout",
       "text": [
        "reading back data...\n"
       ]
      },
      {
       "metadata": {},
       "output_type": "pyout",
       "prompt_number": 8,
       "text": [
        "array([[ 0,  1,  2,  3,  4,  5],\n",
        "       [ 6,  7,  8,  9, 10, 11],\n",
        "       [12, 13, 14, 15, 16, 17],\n",
        "       [18, 19, 20, 21, 22, 23]])"
       ]
      }
     ],
     "prompt_number": 8
    },
    {
     "cell_type": "code",
     "collapsed": false,
     "input": [
      "# close the file\n",
      "file.close()"
     ],
     "language": "python",
     "metadata": {},
     "outputs": [],
     "prompt_number": 9
    },
    {
     "cell_type": "code",
     "collapsed": false,
     "input": [
      "!h5dump.exe data/dset.h5"
     ],
     "language": "python",
     "metadata": {},
     "outputs": [
      {
       "output_type": "stream",
       "stream": "stdout",
       "text": [
        "HDF5 \"data/dset.h5\" {\n",
        "GROUP \"/\" {\n",
        "   DATASET \"dset\" {\n",
        "      DATATYPE  H5T_STD_I32BE\n",
        "      DATASPACE  SIMPLE { ( 4, 6 ) / ( 4, 6 ) }\n",
        "      DATA {\n",
        "      (0,0): 0, 1, 2, 3, 4, 5,\n",
        "      (1,0): 6, 7, 8, 9, 10, 11,\n",
        "      (2,0): 12, 13, 14, 15, 16, 17,\n",
        "      (3,0): 18, 19, 20, 21, 22, 23\n",
        "      }\n",
        "      ATTRIBUTE \"Speed\" {\n",
        "         DATATYPE  H5T_STD_I32BE\n",
        "         DATASPACE  SIMPLE { ( 2 ) / ( 2 ) }\n",
        "         DATA {\n",
        "         (0): 100, 200\n",
        "         }\n",
        "      }\n",
        "      ATTRIBUTE \"Units\" {\n",
        "         DATATYPE  H5T_STRING {\n",
        "            STRSIZE H5T_VARIABLE;\n",
        "            STRPAD H5T_STR_NULLTERM;\n",
        "            CSET H5T_CSET_ASCII;\n",
        "            CTYPE H5T_C_S1;\n",
        "         }\n",
        "         DATASPACE  SCALAR\n",
        "         DATA {\n",
        "         (0): \"Meter per second\"\n",
        "         }\n",
        "      }\n",
        "   }\n",
        "   GROUP \"rwk\" {\n",
        "   }\n",
        "}\n",
        "}\n"
       ]
      }
     ],
     "prompt_number": 40
    },
    {
     "cell_type": "markdown",
     "metadata": {},
     "source": [
      "## Creating an attribute\n",
      "\n",
      "An attribute is metadata.  It is a small dataset that can be used to describe the nature and/or the intended usage of the object they are attached to.\n",
      "\n",
      " Creating an attribute is similar to creating a dataset. To create an attribute, the application must specify the object which the attribute is attached to, the datatype and dataspace of the attribute data, and the attribute creation property list.\n",
      "\n",
      "The steps to create an attribute are as follows:\n",
      "\n",
      "1. Obtain the object identifier that the attribute is to be attached to.\n",
      "2. Define the characteristics of the attribute and specify the attribute creation property list.\n",
      "    - Define the datatype.\n",
      "    - Define the dataspace.\n",
      "    - Specify the attribute creation property list.\n",
      "3. Create the attribute.\n",
      "4. Close the attribute and datatype, dataspace, and attribute creation property list, if necessary.\n"
     ]
    },
    {
     "cell_type": "code",
     "collapsed": false,
     "input": [
      "import h5py\n",
      "import numpy as np\n",
      "\n",
      "# Open an existing file using defaut properties.\n",
      "file = h5py.File('data/dset.h5','r+')\n",
      "file.items()"
     ],
     "language": "python",
     "metadata": {},
     "outputs": [
      {
       "metadata": {},
       "output_type": "pyout",
       "prompt_number": 11,
       "text": [
        "[(u'dset', <HDF5 dataset \"dset\": shape (4, 6), type \">i4\">)]"
       ]
      }
     ],
     "prompt_number": 11
    },
    {
     "cell_type": "code",
     "collapsed": false,
     "input": [
      "# Open \"dset\" dataset.\n",
      "dataset = file['/dset']\n",
      "dataset.value"
     ],
     "language": "python",
     "metadata": {},
     "outputs": [
      {
       "metadata": {},
       "output_type": "pyout",
       "prompt_number": 12,
       "text": [
        "array([[ 0,  1,  2,  3,  4,  5],\n",
        "       [ 6,  7,  8,  9, 10, 11],\n",
        "       [12, 13, 14, 15, 16, 17],\n",
        "       [18, 19, 20, 21, 22, 23]])"
       ]
      }
     ],
     "prompt_number": 12
    },
    {
     "cell_type": "code",
     "collapsed": false,
     "input": [
      "# Create string attribute.\n",
      "attr_string = \"Meter per second\"\n",
      "dataset.attrs[\"Units\"] = attr_string"
     ],
     "language": "python",
     "metadata": {},
     "outputs": [],
     "prompt_number": 13
    },
    {
     "cell_type": "code",
     "collapsed": false,
     "input": [
      "# Create integer array attribute.\n",
      "attr_data = np.zeros((2))\n",
      "attr_data[0] = 100\n",
      "attr_data[1] = 200\n",
      "dataset.attrs.create(\"Speed\", attr_data, (2,), h5py.h5t.STD_I32BE)"
     ],
     "language": "python",
     "metadata": {},
     "outputs": [],
     "prompt_number": 14
    },
    {
     "cell_type": "code",
     "collapsed": false,
     "input": [
      "print(dataset)"
     ],
     "language": "python",
     "metadata": {},
     "outputs": [
      {
       "output_type": "stream",
       "stream": "stdout",
       "text": [
        "<HDF5 dataset \"dset\": shape (4, 6), type \">i4\">\n"
       ]
      }
     ],
     "prompt_number": 15
    },
    {
     "cell_type": "code",
     "collapsed": false,
     "input": [
      "# Close the file before exiting\n",
      "file.close()"
     ],
     "language": "python",
     "metadata": {},
     "outputs": [],
     "prompt_number": 16
    },
    {
     "cell_type": "code",
     "collapsed": false,
     "input": [
      "!h5dump.exe data/dset.h5"
     ],
     "language": "python",
     "metadata": {},
     "outputs": [
      {
       "output_type": "stream",
       "stream": "stdout",
       "text": [
        "HDF5 \"data/dset.h5\" {\n",
        "GROUP \"/\" {\n",
        "   DATASET \"dset\" {\n",
        "      DATATYPE  H5T_STD_I32BE\n",
        "      DATASPACE  SIMPLE { ( 4, 6 ) / ( 4, 6 ) }\n",
        "      DATA {\n",
        "      (0,0): 0, 1, 2, 3, 4, 5,\n",
        "      (1,0): 6, 7, 8, 9, 10, 11,\n",
        "      (2,0): 12, 13, 14, 15, 16, 17,\n",
        "      (3,0): 18, 19, 20, 21, 22, 23\n",
        "      }\n",
        "      ATTRIBUTE \"Speed\" {\n",
        "         DATATYPE  H5T_STD_I32BE\n",
        "         DATASPACE  SIMPLE { ( 2 ) / ( 2 ) }\n",
        "         DATA {\n",
        "         (0): 100, 200\n",
        "         }\n",
        "      }\n",
        "      ATTRIBUTE \"Units\" {\n",
        "         DATATYPE  H5T_STRING {\n",
        "            STRSIZE H5T_VARIABLE;\n",
        "            STRPAD H5T_STR_NULLTERM;\n",
        "            CSET H5T_CSET_ASCII;\n",
        "            CTYPE H5T_C_S1;\n",
        "         }\n",
        "         DATASPACE  SCALAR\n",
        "         DATA {\n",
        "         (0): \"Meter per second\"\n",
        "         }\n",
        "      }\n",
        "   }\n",
        "   GROUP \"rwk\" {\n",
        "   }\n",
        "}\n",
        "}\n"
       ]
      }
     ],
     "prompt_number": 41
    },
    {
     "cell_type": "markdown",
     "metadata": {},
     "source": [
      "## Creating a group\n",
      "\n",
      " An HDF5 group is a structure containing zero or more HDF5 objects. The two primary HDF5 objects are groups and datasets. To create a group, the calling program must:\n",
      "\n",
      "1. Obtain the location identifier where the group is to be created.\n",
      "1. Create the group.\n",
      "1. Close the group.\n",
      "\n",
      "Example"
     ]
    },
    {
     "cell_type": "code",
     "collapsed": false,
     "input": [
      "import sys\n",
      "import h5py\n",
      "\n",
      "# Open an existing file using defaut properties.\n",
      "file = h5py.File('data/dset.h5','a')\n",
      "list(file)"
     ],
     "language": "python",
     "metadata": {},
     "outputs": [
      {
       "metadata": {},
       "output_type": "pyout",
       "prompt_number": 18,
       "text": [
        "[u'dset']"
       ]
      }
     ],
     "prompt_number": 18
    },
    {
     "cell_type": "code",
     "collapsed": false,
     "input": [
      "# Show the Root group which is created when the file is created.\n",
      "file.name"
     ],
     "language": "python",
     "metadata": {},
     "outputs": [
      {
       "metadata": {},
       "output_type": "pyout",
       "prompt_number": 19,
       "text": [
        "u'/'"
       ]
      }
     ],
     "prompt_number": 19
    },
    {
     "cell_type": "code",
     "collapsed": false,
     "input": [
      "print \"Creating a group rwk in the file...\"\n",
      "group = file.create_group(\"rwk\")"
     ],
     "language": "python",
     "metadata": {},
     "outputs": [
      {
       "output_type": "stream",
       "stream": "stdout",
       "text": [
        "Creating a group rwk in the file...\n"
       ]
      }
     ],
     "prompt_number": 20
    },
    {
     "cell_type": "code",
     "collapsed": false,
     "input": [
      "list(file)"
     ],
     "language": "python",
     "metadata": {},
     "outputs": [
      {
       "metadata": {},
       "output_type": "pyout",
       "prompt_number": 21,
       "text": [
        "[u'dset', u'rwk']"
       ]
      }
     ],
     "prompt_number": 21
    },
    {
     "cell_type": "code",
     "collapsed": false,
     "input": [
      "file.items()"
     ],
     "language": "python",
     "metadata": {},
     "outputs": [
      {
       "metadata": {},
       "output_type": "pyout",
       "prompt_number": 22,
       "text": [
        "[(u'dset', <HDF5 dataset \"dset\": shape (4, 6), type \">i4\">),\n",
        " (u'rwk', <HDF5 group \"/rwk\" (0 members)>)]"
       ]
      }
     ],
     "prompt_number": 22
    },
    {
     "cell_type": "code",
     "collapsed": false,
     "input": [
      "file.keys()"
     ],
     "language": "python",
     "metadata": {},
     "outputs": [
      {
       "metadata": {},
       "output_type": "pyout",
       "prompt_number": 23,
       "text": [
        "[u'dset', u'rwk']"
       ]
      }
     ],
     "prompt_number": 23
    },
    {
     "cell_type": "code",
     "collapsed": false,
     "input": [
      "file.close()"
     ],
     "language": "python",
     "metadata": {},
     "outputs": [],
     "prompt_number": 24
    },
    {
     "cell_type": "code",
     "collapsed": false,
     "input": [
      "!h5dump.exe data/dset.h5"
     ],
     "language": "python",
     "metadata": {},
     "outputs": [
      {
       "output_type": "stream",
       "stream": "stdout",
       "text": [
        "HDF5 \"data/dset.h5\" {\n",
        "GROUP \"/\" {\n",
        "   DATASET \"dset\" {\n",
        "      DATATYPE  H5T_STD_I32BE\n",
        "      DATASPACE  SIMPLE { ( 4, 6 ) / ( 4, 6 ) }\n",
        "      DATA {\n",
        "      (0,0): 0, 1, 2, 3, 4, 5,\n",
        "      (1,0): 6, 7, 8, 9, 10, 11,\n",
        "      (2,0): 12, 13, 14, 15, 16, 17,\n",
        "      (3,0): 18, 19, 20, 21, 22, 23\n",
        "      }\n",
        "      ATTRIBUTE \"Speed\" {\n",
        "         DATATYPE  H5T_STD_I32BE\n",
        "         DATASPACE  SIMPLE { ( 2 ) / ( 2 ) }\n",
        "         DATA {\n",
        "         (0): 100, 200\n",
        "         }\n",
        "      }\n",
        "      ATTRIBUTE \"Units\" {\n",
        "         DATATYPE  H5T_STRING {\n",
        "            STRSIZE H5T_VARIABLE;\n",
        "            STRPAD H5T_STR_NULLTERM;\n",
        "            CSET H5T_CSET_ASCII;\n",
        "            CTYPE H5T_C_S1;\n",
        "         }\n",
        "         DATASPACE  SCALAR\n",
        "         DATA {\n",
        "         (0): \"Meter per second\"\n",
        "         }\n",
        "      }\n",
        "   }\n",
        "   GROUP \"rwk\" {\n",
        "   }\n",
        "}\n",
        "}\n"
       ]
      }
     ],
     "prompt_number": 42
    },
    {
     "cell_type": "markdown",
     "metadata": {},
     "source": [
      "## Absolute vs. Relative Names\n",
      "\n",
      "In this section, we discuss HDF5 names and show how to use absolute and relative names.\n",
      "\n",
      "**Names**\n",
      "\n",
      "HDF5 object names are a slash-separated list of components. There are few restrictions on names: component names may be any length except zero and may contain any character except slash (/) and the null terminator. A full name may be composed of any number of component names separated by slashes, with any of the component names being the special name . (a dot or period). A name which begins with a slash is an absolute name which is accessed beginning with the root group of the file; all other names are relative names and and the named object is accessed beginning with the specified group. A special case is the name / (or equivalent) which refers to the root group.\n",
      "\n",
      "Functions which operate on names generally take a location identifier, which can be either a file identifier or a group identifier, and perform the lookup with respect to that location. Several possibilities are described in the following table: \n",
      "\n",
      "<center>\n",
      "<table border=\"1\" width=80% bordercolor=\"#000000\" cellpadding=\"4\">\n",
      "<tr bgcolor=\"#ccdff\" bordercolor=\"#FFFFFF\"> \n",
      "<td><b> Location Type </b></td>\n",
      "<td><b>Object Name</b></td>\n",
      "<td><b>Description</b></td>\n",
      "</tr>\n",
      "<tr bordercolor=\"#FFFFFF\"> \n",
      "<td bgcolor=\"#ccddcc\" height=\"22\">File identifier</td>\n",
      "<td height=\"22\" bgcolor=\"#CCCCCC\"> \n",
      "<div align=\"center\"><code>/foo/bar</code></div>\n",
      "</td>\n",
      "<td height=\"22\">The object <code>bar</code> in group <code>foo</code> \n",
      "in the root group. </td>\n",
      "</tr>\n",
      "<tr bordercolor=\"#FFFFFF\"> \n",
      "<td bgcolor=\"#ccddcc\">Group identifier </td>\n",
      "<td bgcolor=\"#CCCCCC\"> \n",
      "<div align=\"center\"><code>/foo/bar</code></div>\n",
      "</td>\n",
      "<td>The object <code>bar</code> in group <code>foo</code> in the \n",
      "root group of the file containing the specified group. \n",
      "In other words, the group identifier's only purpose is to \n",
      "specify a file. </td>\n",
      "</tr>\n",
      "<tr bordercolor=\"#FFFFFF\"> \n",
      "<td bgcolor=\"#ccddcc\">File identifier</td>\n",
      "<td bgcolor=\"#CCCCCC\"> \n",
      "<div align=\"center\">/</div>\n",
      "</td>\n",
      "<td>The root group of the specified file.</td>\n",
      "</tr>\n",
      "<tr bordercolor=\"#FFFFFF\"> \n",
      "<td bgcolor=\"#ccddcc\">Group identifier</td>\n",
      "<td bgcolor=\"#CCCCCC\"> \n",
      "<div align=\"center\">/</div>\n",
      "</td>\n",
      "<td>The root group of the file containing the specified group.</td>\n",
      "</tr>\n",
      "<tr bordercolor=\"#FFFFFF\"> \n",
      "<td bgcolor=\"#ccddcc\">Group identifier</td>\n",
      "<td bgcolor=\"#CCCCCC\"> \n",
      "<div align=\"center\"><code>foo/bar</code></div>\n",
      "</td>\n",
      "<td>The object <code>bar</code> in group <code>foo</code> in \n",
      "the specified group.</td>\n",
      "</tr>\n",
      "<tr bordercolor=\"#FFFFFF\"> \n",
      "<td bgcolor=\"#ccddcc\">File identifier</td>\n",
      "<td bgcolor=\"#CCCCCC\"> \n",
      "<div align=\"center\"><b>.</b></div>\n",
      "</td>\n",
      "<td>The root group of the file.</td>\n",
      "</tr>\n",
      "<tr bordercolor=\"#FFFFFF\"> \n",
      "<td bgcolor=\"#ccddcc\">Group identifier</td>\n",
      "<td bgcolor=\"#CCCCCC\"> \n",
      "<div align=\"center\"><b>.</b></div>\n",
      "</td>\n",
      "<td>The specified group.</td>\n",
      "</tr>\n",
      "<tr bordercolor=\"#FFFFFF\"> \n",
      "<td bgcolor=\"#ccddcc\">Other identifier</td>\n",
      "<td bgcolor=\"#CCCCcc\"> \n",
      "<div align=\"center\"><b>.</b></div>\n",
      "</td>\n",
      "<td>The specified object.</td>\n",
      "</tr>\n",
      "</table>\n",
      "</center>"
     ]
    },
    {
     "cell_type": "code",
     "collapsed": false,
     "input": [
      "import sys\n",
      "import h5py\n",
      "\n",
      "# Open an existing file using defaut properties.\n",
      "file = h5py.File('data/group.h5','w')\n",
      "list(file)"
     ],
     "language": "python",
     "metadata": {},
     "outputs": [
      {
       "metadata": {},
       "output_type": "pyout",
       "prompt_number": 26,
       "text": [
        "[]"
       ]
      }
     ],
     "prompt_number": 26
    },
    {
     "cell_type": "code",
     "collapsed": false,
     "input": [
      "print \"Creating a group rwk in the file...\"\n",
      "group = file.create_group(\"rwk\")"
     ],
     "language": "python",
     "metadata": {},
     "outputs": [
      {
       "output_type": "stream",
       "stream": "stdout",
       "text": [
        "Creating a group rwk in the file...\n"
       ]
      }
     ],
     "prompt_number": 27
    },
    {
     "cell_type": "code",
     "collapsed": false,
     "input": [
      "file.items()"
     ],
     "language": "python",
     "metadata": {},
     "outputs": [
      {
       "metadata": {},
       "output_type": "pyout",
       "prompt_number": 28,
       "text": [
        "[(u'rwk', <HDF5 group \"/rwk\" (0 members)>)]"
       ]
      }
     ],
     "prompt_number": 28
    },
    {
     "cell_type": "code",
     "collapsed": false,
     "input": [
      "# absolute path\n",
      "print \"Creating group g1 in rwk using absolute path...\"\n",
      "group_a = file.create_group(\"/rwk/g1\")\n",
      "\n",
      "# relative path\n",
      "print \"Creating group g2 in rwk using relative path...\"\n",
      "group_b = group.create_group(\"g2\")"
     ],
     "language": "python",
     "metadata": {},
     "outputs": [
      {
       "output_type": "stream",
       "stream": "stdout",
       "text": [
        "Creating group g1 in rwk using absolute path...\n",
        "Creating group g2 in rwk using relative path...\n"
       ]
      }
     ],
     "prompt_number": 29
    },
    {
     "cell_type": "code",
     "collapsed": false,
     "input": [
      "file.items()"
     ],
     "language": "python",
     "metadata": {},
     "outputs": [
      {
       "metadata": {},
       "output_type": "pyout",
       "prompt_number": 30,
       "text": [
        "[(u'rwk', <HDF5 group \"/rwk\" (2 members)>)]"
       ]
      }
     ],
     "prompt_number": 30
    },
    {
     "cell_type": "code",
     "collapsed": false,
     "input": [
      "group.items()"
     ],
     "language": "python",
     "metadata": {},
     "outputs": [
      {
       "metadata": {},
       "output_type": "pyout",
       "prompt_number": 31,
       "text": [
        "[(u'g1', <HDF5 group \"/rwk/g1\" (0 members)>),\n",
        " (u'g2', <HDF5 group \"/rwk/g2\" (0 members)>)]"
       ]
      }
     ],
     "prompt_number": 31
    },
    {
     "cell_type": "code",
     "collapsed": false,
     "input": [
      "file.close()"
     ],
     "language": "python",
     "metadata": {},
     "outputs": [],
     "prompt_number": 32
    },
    {
     "cell_type": "code",
     "collapsed": false,
     "input": [
      "!h5dump.exe data/group.h5"
     ],
     "language": "python",
     "metadata": {},
     "outputs": [
      {
       "output_type": "stream",
       "stream": "stdout",
       "text": [
        "HDF5 \"data/group.h5\" {\n",
        "GROUP \"/\" {\n",
        "   DATASET \"dset2\" {\n",
        "      DATATYPE  H5T_STD_I16LE\n",
        "      DATASPACE  SIMPLE { ( 2, 10 ) / ( 2, 10 ) }\n",
        "      DATA {\n",
        "      (0,0): 0, 1, 2, 3, 4, 5, 6, 7, 8, 9,\n",
        "      (1,0): 3, 4, 5, 6, 7, 8, 9, 10, 11, 12\n",
        "      }\n",
        "   }\n",
        "   GROUP \"rwk\" {\n",
        "      DATASET \"dset1\" {\n",
        "         DATATYPE  H5T_STD_I32BE\n",
        "         DATASPACE  SIMPLE { ( 3, 3 ) / ( 3, 3 ) }\n",
        "         DATA {\n",
        "         (0,0): 0, 1, 2,\n",
        "         (1,0): 3, 4, 5,\n",
        "         (2,0): 6, 7, 8\n",
        "         }\n",
        "      }\n",
        "      GROUP \"g1\" {\n",
        "      }\n",
        "      GROUP \"g2\" {\n",
        "      }\n",
        "   }\n",
        "}\n",
        "}\n"
       ]
      }
     ],
     "prompt_number": 43
    },
    {
     "cell_type": "markdown",
     "metadata": {},
     "source": [
      "## Creating Datasets in groups\n",
      "\n",
      "to create a dataset within a group, you pass the location identifer and the name."
     ]
    },
    {
     "cell_type": "code",
     "collapsed": false,
     "input": [
      "file = h5py.File('data/group.h5','r+')\n",
      "file.items()"
     ],
     "language": "python",
     "metadata": {},
     "outputs": [
      {
       "metadata": {},
       "output_type": "pyout",
       "prompt_number": 34,
       "text": [
        "[(u'rwk', <HDF5 group \"/rwk\" (2 members)>)]"
       ]
      }
     ],
     "prompt_number": 34
    },
    {
     "cell_type": "code",
     "collapsed": false,
     "input": [
      "print \"Creating dataset dset1 in rwk group...\"\n",
      "dataset1 = file.create_dataset(\"/rwk/dset1\", (3,3), dtype=h5py.h5t.STD_I32BE)\n",
      "data = np.empty((3,3))\n",
      "for i in np.arange(3):\n",
      "    for j in np.arange(3):\n",
      "        data[i, j] = 3*i + j\n",
      "dataset1[...] = data\n",
      "dataset1.value"
     ],
     "language": "python",
     "metadata": {},
     "outputs": [
      {
       "output_type": "stream",
       "stream": "stdout",
       "text": [
        "Creating dataset dset1 in rwk group...\n"
       ]
      },
      {
       "metadata": {},
       "output_type": "pyout",
       "prompt_number": 35,
       "text": [
        "array([[0, 1, 2],\n",
        "       [3, 4, 5],\n",
        "       [6, 7, 8]])"
       ]
      }
     ],
     "prompt_number": 35
    },
    {
     "cell_type": "code",
     "collapsed": false,
     "input": [
      "print \"Creating dataset dset2 in /rwk/g1 group...\"\n",
      "group = file['/rwk/g1']\n",
      "dataset2 = file.create_dataset(\"dset2\", (2,10), dtype=h5py.h5t.STD_I16LE)\n",
      "data = np.empty((2,10))\n",
      "for i in np.arange(2):\n",
      "    for j in np.arange(10):\n",
      "        data[i, j] = 3*i + j\n",
      "dataset2[...] = data\n",
      "dataset2.value"
     ],
     "language": "python",
     "metadata": {},
     "outputs": [
      {
       "output_type": "stream",
       "stream": "stdout",
       "text": [
        "Creating dataset dset2 in /rwk/g1 group...\n"
       ]
      },
      {
       "metadata": {},
       "output_type": "pyout",
       "prompt_number": 36,
       "text": [
        "array([[ 0,  1,  2,  3,  4,  5,  6,  7,  8,  9],\n",
        "       [ 3,  4,  5,  6,  7,  8,  9, 10, 11, 12]], dtype=int16)"
       ]
      }
     ],
     "prompt_number": 36
    },
    {
     "cell_type": "code",
     "collapsed": false,
     "input": [
      "file.close()"
     ],
     "language": "python",
     "metadata": {},
     "outputs": [],
     "prompt_number": 37
    },
    {
     "cell_type": "code",
     "collapsed": false,
     "input": [
      "!h5dump.exe data/group.h5"
     ],
     "language": "python",
     "metadata": {},
     "outputs": [
      {
       "output_type": "stream",
       "stream": "stdout",
       "text": [
        "HDF5 \"data/group.h5\" {\n",
        "GROUP \"/\" {\n",
        "   DATASET \"dset2\" {\n",
        "      DATATYPE  H5T_STD_I16LE\n",
        "      DATASPACE  SIMPLE { ( 2, 10 ) / ( 2, 10 ) }\n",
        "      DATA {\n",
        "      (0,0): 0, 1, 2, 3, 4, 5, 6, 7, 8, 9,\n",
        "      (1,0): 3, 4, 5, 6, 7, 8, 9, 10, 11, 12\n",
        "      }\n",
        "   }\n",
        "   GROUP \"rwk\" {\n",
        "      DATASET \"dset1\" {\n",
        "         DATATYPE  H5T_STD_I32BE\n",
        "         DATASPACE  SIMPLE { ( 3, 3 ) / ( 3, 3 ) }\n",
        "         DATA {\n",
        "         (0,0): 0, 1, 2,\n",
        "         (1,0): 3, 4, 5,\n",
        "         (2,0): 6, 7, 8\n",
        "         }\n",
        "      }\n",
        "      GROUP \"g1\" {\n",
        "      }\n",
        "      GROUP \"g2\" {\n",
        "      }\n",
        "   }\n",
        "}\n",
        "}\n"
       ]
      }
     ],
     "prompt_number": 44
    },
    {
     "cell_type": "code",
     "collapsed": false,
     "input": [],
     "language": "python",
     "metadata": {},
     "outputs": [],
     "prompt_number": 38
    }
   ],
   "metadata": {}
  }
 ]
}