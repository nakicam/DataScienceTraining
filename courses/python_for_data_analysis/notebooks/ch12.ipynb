{
 "metadata": {
  "name": "ch12.ipynb"
 },
 "nbformat": 3,
 "nbformat_minor": 0,
 "worksheets": [
  {
   "cells": [
    {
     "cell_type": "markdown",
     "metadata": {},
     "source": [
      "# Chapter 12 Andvanced Numpy"
     ]
    },
    {
     "cell_type": "markdown",
     "metadata": {},
     "source": [
      "## setup notebook"
     ]
    },
    {
     "cell_type": "code",
     "collapsed": false,
     "input": [
      "# setup notebook\n",
      "import numpy as np\n",
      "import pandas as pd\n",
      "import matplotlib.pyplot as plt\n",
      "import scipy.stats as st\n",
      "import statsmodels.formula.api as smf\n",
      "from IPython.display import display, Math, Latex\n",
      "from matplotlib.patches import Polygon\n",
      "import os\n",
      "os.chdir('%s/courses/python_for_data_analysis' % os.getenv('DST'))\n",
      "print(os.getcwd())\n",
      "\n",
      "np.set_printoptions(precision=4)\n",
      "plt.rc('figure', figsize=(10, 8))"
     ],
     "language": "python",
     "metadata": {},
     "outputs": [
      {
       "output_type": "stream",
       "stream": "stdout",
       "text": [
        "C:\\Users\\J28976\\Documents\\Development\\dst\\courses\\python_for_data_analysis\n"
       ]
      }
     ],
     "prompt_number": 1
    },
    {
     "cell_type": "markdown",
     "metadata": {},
     "source": [
      "## Broadcasting\n",
      "\n",
      "*Broadcasting* described how the arithmetic works between array of different shapes."
     ]
    },
    {
     "cell_type": "markdown",
     "metadata": {},
     "source": [
      "#### example"
     ]
    },
    {
     "cell_type": "code",
     "collapsed": false,
     "input": [
      "a = np.arange(5)\n",
      "a"
     ],
     "language": "python",
     "metadata": {},
     "outputs": [
      {
       "metadata": {},
       "output_type": "pyout",
       "prompt_number": 2,
       "text": [
        "array([0, 1, 2, 3, 4])"
       ]
      }
     ],
     "prompt_number": 2
    },
    {
     "cell_type": "code",
     "collapsed": false,
     "input": [
      "a * 4"
     ],
     "language": "python",
     "metadata": {},
     "outputs": [
      {
       "metadata": {},
       "output_type": "pyout",
       "prompt_number": 3,
       "text": [
        "array([ 0,  4,  8, 12, 16])"
       ]
      }
     ],
     "prompt_number": 3
    },
    {
     "cell_type": "markdown",
     "metadata": {},
     "source": [
      "Simplest case of broadcasting.  Each element of the array is multiplied by the scalar.\n",
      "\n",
      "Next example, we could subract out the mean for each element but keep the same shape."
     ]
    },
    {
     "cell_type": "code",
     "collapsed": false,
     "input": [
      "np.random.seed(1)\n",
      "a = np.random.randn(4,3)\n",
      "a"
     ],
     "language": "python",
     "metadata": {},
     "outputs": [
      {
       "metadata": {},
       "output_type": "pyout",
       "prompt_number": 6,
       "text": [
        "array([[ 1.6243, -0.6118, -0.5282],\n",
        "       [-1.073 ,  0.8654, -2.3015],\n",
        "       [ 1.7448, -0.7612,  0.319 ],\n",
        "       [-0.2494,  1.4621, -2.0601]])"
       ]
      }
     ],
     "prompt_number": 6
    },
    {
     "cell_type": "code",
     "collapsed": false,
     "input": [
      "# find mean across columns\n",
      "col_means = a.mean(axis=0)\n",
      "col_means"
     ],
     "language": "python",
     "metadata": {},
     "outputs": [
      {
       "metadata": {},
       "output_type": "pyout",
       "prompt_number": 19,
       "text": [
        "array([ 0.5117,  0.2386, -1.1427])"
       ]
      }
     ],
     "prompt_number": 19
    },
    {
     "cell_type": "code",
     "collapsed": false,
     "input": [
      "a[:,0].mean() == col_means[0]"
     ],
     "language": "python",
     "metadata": {},
     "outputs": [
      {
       "metadata": {},
       "output_type": "pyout",
       "prompt_number": 20,
       "text": [
        "True"
       ]
      }
     ],
     "prompt_number": 20
    },
    {
     "cell_type": "code",
     "collapsed": false,
     "input": [
      "da = a - col_means\n",
      "da"
     ],
     "language": "python",
     "metadata": {},
     "outputs": [
      {
       "metadata": {},
       "output_type": "pyout",
       "prompt_number": 21,
       "text": [
        "array([[ 1.1126, -0.8504,  0.6145],\n",
        "       [-1.5847,  0.6268, -1.1588],\n",
        "       [ 1.2331, -0.9998,  1.4617],\n",
        "       [-0.7611,  1.2235, -0.9174]])"
       ]
      }
     ],
     "prompt_number": 21
    },
    {
     "cell_type": "code",
     "collapsed": false,
     "input": [
      "da.mean(axis=0)"
     ],
     "language": "python",
     "metadata": {},
     "outputs": [
      {
       "metadata": {},
       "output_type": "pyout",
       "prompt_number": 22,
       "text": [
        "array([  0.0000e+00,   0.0000e+00,   1.1102e-16])"
       ]
      }
     ],
     "prompt_number": 22
    },
    {
     "cell_type": "code",
     "collapsed": false,
     "input": [
      "a.shape, col_means.shape, da.shape"
     ],
     "language": "python",
     "metadata": {},
     "outputs": [
      {
       "metadata": {},
       "output_type": "pyout",
       "prompt_number": 23,
       "text": [
        "((4L, 3L), (3L,), (4L, 3L))"
       ]
      }
     ],
     "prompt_number": 23
    },
    {
     "cell_type": "markdown",
     "metadata": {},
     "source": [
      "This is first calculating the means accross the columns to produce 3 numbers.  Then when we subtract them, the mu array is *broadcast* such that forms a 4x3 where each row is a copy of the 1x3 mu array.  This broadcasted array is then subtracted from the original array a.\n",
      "\n",
      "**broadcasting rule:** Two arrays are compatible for broadcasting if for each *trailing dimension* (that is starting from the end), the axis lengths match or either is one.  Broadcasting is performed on the missing and/or length one dimensions.\n",
      "\n",
      "* a  has shape 4x3\n",
      "* col_means has shape 3 (1D array)\n",
      "* both have trailing dimension 3 $\\to$ allowed"
     ]
    },
    {
     "cell_type": "code",
     "collapsed": false,
     "input": [
      "# find means accross rows\n",
      "row_means = a.mean(axis=1)\n",
      "row_means"
     ],
     "language": "python",
     "metadata": {},
     "outputs": [
      {
       "metadata": {},
       "output_type": "pyout",
       "prompt_number": 25,
       "text": [
        "array([ 0.1615, -0.8364,  0.4342, -0.2825])"
       ]
      }
     ],
     "prompt_number": 25
    },
    {
     "cell_type": "code",
     "collapsed": false,
     "input": [
      "row_means.reshape((4,1))"
     ],
     "language": "python",
     "metadata": {},
     "outputs": [
      {
       "metadata": {},
       "output_type": "pyout",
       "prompt_number": 26,
       "text": [
        "array([[ 0.1615],\n",
        "       [-0.8364],\n",
        "       [ 0.4342],\n",
        "       [-0.2825]])"
       ]
      }
     ],
     "prompt_number": 26
    },
    {
     "cell_type": "code",
     "collapsed": false,
     "input": [
      "# does the same thing without needing the dimensions explicitly\n",
      "row_means[:,np.newaxis]"
     ],
     "language": "python",
     "metadata": {},
     "outputs": [
      {
       "metadata": {},
       "output_type": "pyout",
       "prompt_number": 41,
       "text": [
        "array([[ 0.1615],\n",
        "       [-0.8364],\n",
        "       [ 0.4342],\n",
        "       [-0.2825]])"
       ]
      }
     ],
     "prompt_number": 41
    },
    {
     "cell_type": "code",
     "collapsed": false,
     "input": [
      "# not allowed\n",
      "try:\n",
      "    da2 = a - row_means\n",
      "except ValueError as e:\n",
      "    print(e)"
     ],
     "language": "python",
     "metadata": {},
     "outputs": [
      {
       "output_type": "stream",
       "stream": "stdout",
       "text": [
        "operands could not be broadcast together with shapes (4,3) (4,) \n"
       ]
      }
     ],
     "prompt_number": 42
    },
    {
     "cell_type": "code",
     "collapsed": false,
     "input": [
      "da2 = a - row_means.reshape((4,1))\n",
      "da2"
     ],
     "language": "python",
     "metadata": {},
     "outputs": [
      {
       "metadata": {},
       "output_type": "pyout",
       "prompt_number": 43,
       "text": [
        "array([[ 1.4629, -0.7732, -0.6896],\n",
        "       [-0.2366,  1.7018, -1.4652],\n",
        "       [ 1.3106, -1.1954, -0.1152],\n",
        "       [ 0.0331,  1.7446, -1.7777]])"
       ]
      }
     ],
     "prompt_number": 43
    },
    {
     "cell_type": "code",
     "collapsed": false,
     "input": [
      "da2.mean(axis=1)"
     ],
     "language": "python",
     "metadata": {},
     "outputs": [
      {
       "metadata": {},
       "output_type": "pyout",
       "prompt_number": 44,
       "text": [
        "array([ -3.7007e-17,   0.0000e+00,   0.0000e+00,   0.0000e+00])"
       ]
      }
     ],
     "prompt_number": 44
    },
    {
     "cell_type": "code",
     "collapsed": false,
     "input": [
      "a.shape, row_means.shape, row_means.reshape((4,1)).shape, da.shape"
     ],
     "language": "python",
     "metadata": {},
     "outputs": [
      {
       "metadata": {},
       "output_type": "pyout",
       "prompt_number": 45,
       "text": [
        "((4L, 3L), (4L,), (4L, 1L), (4L, 3L))"
       ]
      }
     ],
     "prompt_number": 45
    },
    {
     "cell_type": "markdown",
     "metadata": {},
     "source": [
      "* a has shape 4x3\n",
      "* row_means has shape 4 (1D array) $\\to$ not compatable\n",
      "* row_means needs to be 2D $\\to$ use reshape((4,1))\n",
      "* now trailing dim on row_means is one and we can now broadcast"
     ]
    }
   ],
   "metadata": {}
  }
 ]
}