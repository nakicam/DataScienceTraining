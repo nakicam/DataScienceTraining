{
 "metadata": {
  "name": "ch3.ipynb"
 },
 "nbformat": 3,
 "nbformat_minor": 0,
 "worksheets": [
  {
   "cells": [
    {
     "cell_type": "markdown",
     "metadata": {},
     "source": [
      "# Chapter 3 - Discrete-Time Fourier Transform"
     ]
    },
    {
     "cell_type": "markdown",
     "metadata": {},
     "source": [
      "## setup"
     ]
    },
    {
     "cell_type": "code",
     "collapsed": false,
     "input": [
      "# setup notebook\n",
      "import numpy as np\n",
      "import pandas as pd\n",
      "import matplotlib.pyplot as plt\n",
      "import scipy.stats as st\n",
      "import statsmodels.formula.api as smf\n",
      "from IPython.display import display, Math, Latex\n",
      "from matplotlib.patches import Polygon\n",
      "import os\n",
      "os.chdir('%s/courses/python_for_signal_processing' % os.getenv('DST'))\n",
      "print(os.getcwd())\n",
      "\n",
      "np.set_printoptions(precision=4)\n",
      "plt.rc('figure', figsize=(10, 8))"
     ],
     "language": "python",
     "metadata": {},
     "outputs": [
      {
       "output_type": "stream",
       "stream": "stdout",
       "text": [
        "/Users/rwk7t/Development/dst/courses/python_for_signal_processing\n"
       ]
      }
     ],
     "prompt_number": 1
    },
    {
     "cell_type": "markdown",
     "metadata": {},
     "source": [
      "## 3.1 Fourier Transfrom Matrix\n",
      "\n",
      "Let us start with the following Discrete Fourier Transfrom matrix (DFT):\n",
      "\n",
      "\\begin{align}\n",
      "    U = \\frac{1}{\\sqrt{N}}\\left[ \\exp\\left( j \\frac{2 \\pi}{N} n k \\right)\\right]_{n \\in \\{0, N_s -1\\},k \\in \\{0,N-1\\}}\n",
      "\\end{align}\n",
      "\n",
      "* $N_s$ the number of samples\n",
      "* $N$ is the number of descrete frequencies (recall DFT only have a finite number of discrete frequencies)"
     ]
    },
    {
     "cell_type": "markdown",
     "metadata": {},
     "source": [
      "### figure 3.1\n",
      "\n",
      "The columns of the DFT matrix and there corresponding positions on the unit circle."
     ]
    },
    {
     "cell_type": "code",
     "collapsed": false,
     "input": [],
     "language": "python",
     "metadata": {},
     "outputs": []
    }
   ],
   "metadata": {}
  }
 ]
}