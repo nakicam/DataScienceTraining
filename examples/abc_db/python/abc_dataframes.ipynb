{
 "cells": [
  {
   "cell_type": "code",
   "execution_count": 4,
   "metadata": {
    "collapsed": false
   },
   "outputs": [],
   "source": [
    "import os\n",
    "import numpy as np\n",
    "import platform\n",
    "import pandas as pd\n",
    "import cx_Oracle as odb\n",
    "import matplotlib.pyplot as plt\n",
    "import pandas.io.sql as psql\n",
    "import array"
   ]
  },
  {
   "cell_type": "code",
   "execution_count": 5,
   "metadata": {
    "collapsed": false
   },
   "outputs": [
    {
     "name": "stdout",
     "output_type": "stream",
     "text": [
      "/Users/rwk7t/Development/dst/examples/abc_db\n"
     ]
    }
   ],
   "source": [
    "# working dir\n",
    "if platform.system() == 'Windows':\n",
    "    os.chdir(os.path.join(os.getenv('HOME'),'Documents', 'Development', 'dst', 'examples', 'abc_db'))\n",
    "else:\n",
    "    os.chdir(os.path.join(os.getenv('DST'),'examples', 'abc_db'))\n",
    "print(os.getcwd())\n",
    "\n",
    "# plots \n",
    "%matplotlib inline\n",
    "np.set_printoptions(precision=4)\n",
    "plt.rc('figure', figsize=(10, 8))"
   ]
  },
  {
   "cell_type": "code",
   "execution_count": 12,
   "metadata": {
    "collapsed": false
   },
   "outputs": [
    {
     "name": "stdout",
     "output_type": "stream",
     "text": [
      "Connection successful\n",
      "12.1.0.2.0\n"
     ]
    }
   ],
   "source": [
    "# Build connection string\n",
    "user     = \"abc\"\n",
    "sid      = \"XE\" if platform.system()=='Windows' else \"ORCL\"\n",
    "pswd     = \"abc\"\n",
    "conn_str =\" %s/%s@%s\" % (user, pswd, sid)\n",
    "\n",
    "# Connect to Oracle and test\n",
    "conn = odb.connect(user, pswd, sid)\n",
    "if (conn):\n",
    "    print(\"Connection successful\")\n",
    "    print(conn.version)\n",
    "else:\n",
    "    print(\"Connection not successful\")\n",
    "\n",
    "#conn.close()"
   ]
  },
  {
   "cell_type": "code",
   "execution_count": 16,
   "metadata": {
    "collapsed": false
   },
   "outputs": [],
   "source": [
    "sql = \"\"\"\\\n",
    "select p.*, t.name team \n",
    "from players p, teams t \n",
    "where p.teams_id=t.id\\\n",
    "\"\"\"\n",
    "\n",
    "players_df = psql.read_sql(sql, conn)\n",
    "players_df.columns = [c.lower() for c in players_df.columns]"
   ]
  },
  {
   "cell_type": "code",
   "execution_count": 17,
   "metadata": {
    "collapsed": false
   },
   "outputs": [
    {
     "data": {
      "text/html": [
       "<div>\n",
       "<table border=\"1\" class=\"dataframe\">\n",
       "  <thead>\n",
       "    <tr style=\"text-align: right;\">\n",
       "      <th></th>\n",
       "      <th>id</th>\n",
       "      <th>name</th>\n",
       "      <th>starts</th>\n",
       "      <th>goals</th>\n",
       "      <th>image1</th>\n",
       "      <th>image2</th>\n",
       "      <th>image3</th>\n",
       "      <th>teams_id</th>\n",
       "      <th>team</th>\n",
       "    </tr>\n",
       "  </thead>\n",
       "  <tbody>\n",
       "    <tr>\n",
       "      <th>0</th>\n",
       "      <td>1</td>\n",
       "      <td>t1p1</td>\n",
       "      <td>12</td>\n",
       "      <td>7</td>\n",
       "      <td>&lt;cx_Oracle.OBJECT object at 0x10b482c00&gt;</td>\n",
       "      <td>&lt;cx_Oracle.OBJECT object at 0x112739030&gt;</td>\n",
       "      <td>&lt;cx_Oracle.OBJECT object at 0x112739068&gt;</td>\n",
       "      <td>1</td>\n",
       "      <td>team1</td>\n",
       "    </tr>\n",
       "    <tr>\n",
       "      <th>1</th>\n",
       "      <td>2</td>\n",
       "      <td>t1p2</td>\n",
       "      <td>2</td>\n",
       "      <td>0</td>\n",
       "      <td>&lt;cx_Oracle.OBJECT object at 0x1127390a0&gt;</td>\n",
       "      <td>&lt;cx_Oracle.OBJECT object at 0x1127390d8&gt;</td>\n",
       "      <td>&lt;cx_Oracle.OBJECT object at 0x112739110&gt;</td>\n",
       "      <td>1</td>\n",
       "      <td>team1</td>\n",
       "    </tr>\n",
       "    <tr>\n",
       "      <th>2</th>\n",
       "      <td>3</td>\n",
       "      <td>t1p3</td>\n",
       "      <td>5</td>\n",
       "      <td>11</td>\n",
       "      <td>&lt;cx_Oracle.OBJECT object at 0x112739148&gt;</td>\n",
       "      <td>&lt;cx_Oracle.OBJECT object at 0x112739180&gt;</td>\n",
       "      <td>&lt;cx_Oracle.OBJECT object at 0x1127391b8&gt;</td>\n",
       "      <td>1</td>\n",
       "      <td>team1</td>\n",
       "    </tr>\n",
       "    <tr>\n",
       "      <th>3</th>\n",
       "      <td>4</td>\n",
       "      <td>t2p1</td>\n",
       "      <td>5</td>\n",
       "      <td>8</td>\n",
       "      <td>&lt;cx_Oracle.OBJECT object at 0x1127391f0&gt;</td>\n",
       "      <td>&lt;cx_Oracle.OBJECT object at 0x112739228&gt;</td>\n",
       "      <td>&lt;cx_Oracle.OBJECT object at 0x112739260&gt;</td>\n",
       "      <td>2</td>\n",
       "      <td>team2</td>\n",
       "    </tr>\n",
       "    <tr>\n",
       "      <th>4</th>\n",
       "      <td>5</td>\n",
       "      <td>t2p2</td>\n",
       "      <td>0</td>\n",
       "      <td>0</td>\n",
       "      <td>&lt;cx_Oracle.OBJECT object at 0x112739298&gt;</td>\n",
       "      <td>&lt;cx_Oracle.OBJECT object at 0x1127392d0&gt;</td>\n",
       "      <td>&lt;cx_Oracle.OBJECT object at 0x112739308&gt;</td>\n",
       "      <td>2</td>\n",
       "      <td>team2</td>\n",
       "    </tr>\n",
       "    <tr>\n",
       "      <th>5</th>\n",
       "      <td>6</td>\n",
       "      <td>t2p3</td>\n",
       "      <td>1</td>\n",
       "      <td>0</td>\n",
       "      <td>&lt;cx_Oracle.OBJECT object at 0x112739340&gt;</td>\n",
       "      <td>&lt;cx_Oracle.OBJECT object at 0x112739378&gt;</td>\n",
       "      <td>&lt;cx_Oracle.OBJECT object at 0x1127393b0&gt;</td>\n",
       "      <td>2</td>\n",
       "      <td>team2</td>\n",
       "    </tr>\n",
       "  </tbody>\n",
       "</table>\n",
       "</div>"
      ],
      "text/plain": [
       "   id  name  starts  goals                                    image1  \\\n",
       "0   1  t1p1      12      7  <cx_Oracle.OBJECT object at 0x10b482c00>   \n",
       "1   2  t1p2       2      0  <cx_Oracle.OBJECT object at 0x1127390a0>   \n",
       "2   3  t1p3       5     11  <cx_Oracle.OBJECT object at 0x112739148>   \n",
       "3   4  t2p1       5      8  <cx_Oracle.OBJECT object at 0x1127391f0>   \n",
       "4   5  t2p2       0      0  <cx_Oracle.OBJECT object at 0x112739298>   \n",
       "5   6  t2p3       1      0  <cx_Oracle.OBJECT object at 0x112739340>   \n",
       "\n",
       "                                     image2  \\\n",
       "0  <cx_Oracle.OBJECT object at 0x112739030>   \n",
       "1  <cx_Oracle.OBJECT object at 0x1127390d8>   \n",
       "2  <cx_Oracle.OBJECT object at 0x112739180>   \n",
       "3  <cx_Oracle.OBJECT object at 0x112739228>   \n",
       "4  <cx_Oracle.OBJECT object at 0x1127392d0>   \n",
       "5  <cx_Oracle.OBJECT object at 0x112739378>   \n",
       "\n",
       "                                     image3  teams_id   team  \n",
       "0  <cx_Oracle.OBJECT object at 0x112739068>         1  team1  \n",
       "1  <cx_Oracle.OBJECT object at 0x112739110>         1  team1  \n",
       "2  <cx_Oracle.OBJECT object at 0x1127391b8>         1  team1  \n",
       "3  <cx_Oracle.OBJECT object at 0x112739260>         2  team2  \n",
       "4  <cx_Oracle.OBJECT object at 0x112739308>         2  team2  \n",
       "5  <cx_Oracle.OBJECT object at 0x1127393b0>         2  team2  "
      ]
     },
     "execution_count": 17,
     "metadata": {},
     "output_type": "execute_result"
    }
   ],
   "source": [
    "players_df"
   ]
  },
  {
   "cell_type": "code",
   "execution_count": 20,
   "metadata": {
    "collapsed": false
   },
   "outputs": [
    {
     "data": {
      "text/plain": [
       "<cx_Oracle.OBJECT at 0x10b482c00>"
      ]
     },
     "execution_count": 20,
     "metadata": {},
     "output_type": "execute_result"
    }
   ],
   "source": [
    "obj = players_df.iloc[0].image1\n",
    "obj"
   ]
  },
  {
   "cell_type": "code",
   "execution_count": 21,
   "metadata": {
    "collapsed": false
   },
   "outputs": [
    {
     "data": {
      "text/plain": [
       "['__class__',\n",
       " '__delattr__',\n",
       " '__doc__',\n",
       " '__format__',\n",
       " '__getattribute__',\n",
       " '__hash__',\n",
       " '__init__',\n",
       " '__new__',\n",
       " '__reduce__',\n",
       " '__reduce_ex__',\n",
       " '__repr__',\n",
       " '__setattr__',\n",
       " '__sizeof__',\n",
       " '__str__',\n",
       " '__subclasshook__',\n",
       " 'type']"
      ]
     },
     "execution_count": 21,
     "metadata": {},
     "output_type": "execute_result"
    }
   ],
   "source": [
    "dir(obj)"
   ]
  },
  {
   "cell_type": "code",
   "execution_count": 22,
   "metadata": {
    "collapsed": false
   },
   "outputs": [
    {
     "data": {
      "text/plain": [
       "(<cx_Oracle.ObjectType ABC.ARRAYINFO>,\n",
       " 'uint8',\n",
       " 3.0,\n",
       " 743.0,\n",
       " 508.0,\n",
       " 3.0,\n",
       " 108.590448737649,\n",
       " 43.8245216500585)"
      ]
     },
     "execution_count": 22,
     "metadata": {},
     "output_type": "execute_result"
    }
   ],
   "source": [
    "obj.type, obj.DTYPE, obj.NDIM, obj.DIM1, obj.DIM2, obj.DIM3, obj.AVG, obj.STD"
   ]
  },
  {
   "cell_type": "code",
   "execution_count": 44,
   "metadata": {
    "collapsed": false
   },
   "outputs": [
    {
     "data": {
      "text/html": [
       "<div>\n",
       "<table border=\"1\" class=\"dataframe\">\n",
       "  <thead>\n",
       "    <tr style=\"text-align: right;\">\n",
       "      <th></th>\n",
       "      <th>player_id</th>\n",
       "      <th>name</th>\n",
       "      <th>starts</th>\n",
       "      <th>goals</th>\n",
       "      <th>teams_id</th>\n",
       "      <th>image1.avg</th>\n",
       "      <th>image1.std</th>\n",
       "      <th>image1.ndim</th>\n",
       "      <th>image1.dim1</th>\n",
       "      <th>image1.dim2</th>\n",
       "      <th>image1.dim3</th>\n",
       "      <th>image1.dim4</th>\n",
       "      <th>image1.dtype</th>\n",
       "      <th>image1.value</th>\n",
       "    </tr>\n",
       "  </thead>\n",
       "  <tbody>\n",
       "    <tr>\n",
       "      <th>0</th>\n",
       "      <td>1</td>\n",
       "      <td>t1p1</td>\n",
       "      <td>12</td>\n",
       "      <td>7</td>\n",
       "      <td>1</td>\n",
       "      <td>108.590449</td>\n",
       "      <td>43.824522</td>\n",
       "      <td>3</td>\n",
       "      <td>743</td>\n",
       "      <td>508</td>\n",
       "      <td>3</td>\n",
       "      <td>-9999</td>\n",
       "      <td>uint8</td>\n",
       "      <td>(* (* (* (*!)+!)+!)+!)+#+-#+-#+-#+-#+-#+-#+-#...</td>\n",
       "    </tr>\n",
       "    <tr>\n",
       "      <th>1</th>\n",
       "      <td>2</td>\n",
       "      <td>t1p2</td>\n",
       "      <td>2</td>\n",
       "      <td>0</td>\n",
       "      <td>1</td>\n",
       "      <td>108.424215</td>\n",
       "      <td>43.737101</td>\n",
       "      <td>3</td>\n",
       "      <td>743</td>\n",
       "      <td>508</td>\n",
       "      <td>3</td>\n",
       "      <td>-9999</td>\n",
       "      <td>uint8</td>\n",
       "      <td>(* (* (* (*!)+!)+!)+!)+#+-#+-#+-#+-#+-#+-#+-#...</td>\n",
       "    </tr>\n",
       "    <tr>\n",
       "      <th>2</th>\n",
       "      <td>3</td>\n",
       "      <td>t1p3</td>\n",
       "      <td>5</td>\n",
       "      <td>11</td>\n",
       "      <td>1</td>\n",
       "      <td>108.423759</td>\n",
       "      <td>43.741233</td>\n",
       "      <td>3</td>\n",
       "      <td>743</td>\n",
       "      <td>508</td>\n",
       "      <td>3</td>\n",
       "      <td>-9999</td>\n",
       "      <td>uint8</td>\n",
       "      <td>(* (* (* (*!)+!)+!)+!)+#+-#+-#+-#+-#+-#+-#+-#...</td>\n",
       "    </tr>\n",
       "    <tr>\n",
       "      <th>3</th>\n",
       "      <td>4</td>\n",
       "      <td>t2p1</td>\n",
       "      <td>5</td>\n",
       "      <td>8</td>\n",
       "      <td>2</td>\n",
       "      <td>108.472490</td>\n",
       "      <td>43.796886</td>\n",
       "      <td>3</td>\n",
       "      <td>743</td>\n",
       "      <td>508</td>\n",
       "      <td>3</td>\n",
       "      <td>-9999</td>\n",
       "      <td>uint8</td>\n",
       "      <td>(* (* (* (*!)+!)+!)+!)+#+-#+-#+-#+-#+-#+-#+-#...</td>\n",
       "    </tr>\n",
       "    <tr>\n",
       "      <th>4</th>\n",
       "      <td>5</td>\n",
       "      <td>t2p2</td>\n",
       "      <td>0</td>\n",
       "      <td>0</td>\n",
       "      <td>2</td>\n",
       "      <td>108.498431</td>\n",
       "      <td>43.829951</td>\n",
       "      <td>3</td>\n",
       "      <td>743</td>\n",
       "      <td>508</td>\n",
       "      <td>3</td>\n",
       "      <td>-9999</td>\n",
       "      <td>uint8</td>\n",
       "      <td>(* (* (* (*!)+!)+!)+!)+#+-#+-#+-#+-#+-#+-#+-#...</td>\n",
       "    </tr>\n",
       "    <tr>\n",
       "      <th>5</th>\n",
       "      <td>6</td>\n",
       "      <td>t2p3</td>\n",
       "      <td>1</td>\n",
       "      <td>0</td>\n",
       "      <td>2</td>\n",
       "      <td>108.453264</td>\n",
       "      <td>43.802637</td>\n",
       "      <td>3</td>\n",
       "      <td>743</td>\n",
       "      <td>508</td>\n",
       "      <td>3</td>\n",
       "      <td>-9999</td>\n",
       "      <td>uint8</td>\n",
       "      <td>(* (* (* (*!)+!)+!)+!)+#+-#+-#+-#+-#+-#+-#+-#...</td>\n",
       "    </tr>\n",
       "  </tbody>\n",
       "</table>\n",
       "</div>"
      ],
      "text/plain": [
       "   player_id  name  starts  goals  teams_id  image1.avg  image1.std  \\\n",
       "0          1  t1p1      12      7         1  108.590449   43.824522   \n",
       "1          2  t1p2       2      0         1  108.424215   43.737101   \n",
       "2          3  t1p3       5     11         1  108.423759   43.741233   \n",
       "3          4  t2p1       5      8         2  108.472490   43.796886   \n",
       "4          5  t2p2       0      0         2  108.498431   43.829951   \n",
       "5          6  t2p3       1      0         2  108.453264   43.802637   \n",
       "\n",
       "   image1.ndim  image1.dim1  image1.dim2  image1.dim3  image1.dim4  \\\n",
       "0            3          743          508            3        -9999   \n",
       "1            3          743          508            3        -9999   \n",
       "2            3          743          508            3        -9999   \n",
       "3            3          743          508            3        -9999   \n",
       "4            3          743          508            3        -9999   \n",
       "5            3          743          508            3        -9999   \n",
       "\n",
       "  image1.dtype                                       image1.value  \n",
       "0        uint8   (* (* (* (*!)+!)+!)+!)+#+-#+-#+-#+-#+-#+-#+-#...  \n",
       "1        uint8   (* (* (* (*!)+!)+!)+!)+#+-#+-#+-#+-#+-#+-#+-#...  \n",
       "2        uint8   (* (* (* (*!)+!)+!)+!)+#+-#+-#+-#+-#+-#+-#+-#...  \n",
       "3        uint8   (* (* (* (*!)+!)+!)+!)+#+-#+-#+-#+-#+-#+-#+-#...  \n",
       "4        uint8   (* (* (* (*!)+!)+!)+!)+#+-#+-#+-#+-#+-#+-#+-#...  \n",
       "5        uint8   (* (* (* (*!)+!)+!)+!)+#+-#+-#+-#+-#+-#+-#+-#...  "
      ]
     },
     "execution_count": 44,
     "metadata": {},
     "output_type": "execute_result"
    }
   ],
   "source": [
    "sql = \"\"\"\n",
    "SELECT player.id AS player_id,\n",
    "  player.name,\n",
    "  player.starts,\n",
    "  player.goals,\n",
    "  player.teams_id,\n",
    "  player.image1.avg,\n",
    "  player.image1.std,\n",
    "  player.image1.ndim,\n",
    "  player.image1.dim1,\n",
    "  player.image1.dim2,\n",
    "  player.image1.dim3,\n",
    "  player.image1.dim4,\n",
    "  player.image1.dtype,\n",
    "  player.image1.value\n",
    "FROM players player\n",
    "\"\"\"\n",
    "df  = psql.read_sql(sql, conn)\n",
    "df.columns = [c.lower() for c in df.columns]\n",
    "df"
   ]
  },
  {
   "cell_type": "code",
   "execution_count": 47,
   "metadata": {
    "collapsed": false
   },
   "outputs": [
    {
     "ename": "AttributeError",
     "evalue": "'numpy.ndarray' object has no attribute 'array'",
     "output_type": "error",
     "traceback": [
      "\u001b[0;31m---------------------------------------------------------------------------\u001b[0m",
      "\u001b[0;31mAttributeError\u001b[0m                            Traceback (most recent call last)",
      "\u001b[0;32m<ipython-input-47-27cef7d5d3eb>\u001b[0m in \u001b[0;36m<module>\u001b[0;34m()\u001b[0m\n\u001b[1;32m      6\u001b[0m     \u001b[0mdtype\u001b[0m \u001b[0;34m=\u001b[0m \u001b[0mdf\u001b[0m\u001b[0;34m.\u001b[0m\u001b[0miloc\u001b[0m\u001b[0;34m[\u001b[0m\u001b[0mi\u001b[0m\u001b[0;34m]\u001b[0m\u001b[0;34m[\u001b[0m\u001b[0;34m'image1.dtype'\u001b[0m\u001b[0;34m]\u001b[0m\u001b[0;34m\u001b[0m\u001b[0m\n\u001b[1;32m      7\u001b[0m     \u001b[0mblob\u001b[0m  \u001b[0;34m=\u001b[0m \u001b[0mdf\u001b[0m\u001b[0;34m.\u001b[0m\u001b[0miloc\u001b[0m\u001b[0;34m[\u001b[0m\u001b[0mi\u001b[0m\u001b[0;34m]\u001b[0m\u001b[0;34m[\u001b[0m\u001b[0;34m'image1.value'\u001b[0m\u001b[0;34m]\u001b[0m\u001b[0;34m\u001b[0m\u001b[0m\n\u001b[0;32m----> 8\u001b[0;31m     \u001b[0ma\u001b[0m     \u001b[0;34m=\u001b[0m \u001b[0mnp\u001b[0m\u001b[0;34m.\u001b[0m\u001b[0marray\u001b[0m\u001b[0;34m(\u001b[0m\u001b[0marray\u001b[0m\u001b[0;34m.\u001b[0m\u001b[0marray\u001b[0m\u001b[0;34m(\u001b[0m\u001b[0;34m'B'\u001b[0m\u001b[0;34m,\u001b[0m \u001b[0mblob\u001b[0m\u001b[0;34m.\u001b[0m\u001b[0mread\u001b[0m\u001b[0;34m(\u001b[0m\u001b[0;34m)\u001b[0m\u001b[0;34m)\u001b[0m\u001b[0;34m,\u001b[0m \u001b[0mdtype\u001b[0m\u001b[0;34m=\u001b[0m\u001b[0mnp\u001b[0m\u001b[0;34m.\u001b[0m\u001b[0muint8\u001b[0m\u001b[0;34m)\u001b[0m\u001b[0;34m.\u001b[0m\u001b[0mreshape\u001b[0m\u001b[0;34m(\u001b[0m\u001b[0;34m(\u001b[0m\u001b[0mdim1\u001b[0m\u001b[0;34m,\u001b[0m \u001b[0mdim2\u001b[0m\u001b[0;34m,\u001b[0m \u001b[0mdim3\u001b[0m\u001b[0;34m)\u001b[0m\u001b[0;34m)\u001b[0m\u001b[0;34m\u001b[0m\u001b[0m\n\u001b[0m\u001b[1;32m      9\u001b[0m     \u001b[0mdf\u001b[0m\u001b[0;34m.\u001b[0m\u001b[0mix\u001b[0m\u001b[0;34m[\u001b[0m\u001b[0mi\u001b[0m\u001b[0;34m]\u001b[0m\u001b[0;34m[\u001b[0m\u001b[0;34m'image1'\u001b[0m\u001b[0;34m]\u001b[0m \u001b[0;34m=\u001b[0m \u001b[0ma\u001b[0m\u001b[0;34m\u001b[0m\u001b[0m\n\u001b[1;32m     10\u001b[0m \u001b[0;34m\u001b[0m\u001b[0m\n",
      "\u001b[0;31mAttributeError\u001b[0m: 'numpy.ndarray' object has no attribute 'array'"
     ]
    }
   ],
   "source": [
    "for i, idx in enumerate(df.index):\n",
    "    ndim  = df.iloc[i]['image1.ndim' ]\n",
    "    dim1  = df.iloc[i]['image1.dim1' ]\n",
    "    dim2  = df.iloc[i]['image1.dim2' ]\n",
    "    dim3  = df.iloc[i]['image1.dim3' ] \n",
    "    dtype = df.iloc[i]['image1.dtype']\n",
    "    blob  = df.iloc[i]['image1.value']\n",
    "    a     = np.array(array.array('B', blob.read()), dtype=np.uint8).reshape((dim1, dim2, dim3))\n",
    "    df.ix[i]['image1'] = a\n",
    "    \n",
    "del(df['image1.ndim', 'image1.dim1'])\n",
    "df"
   ]
  },
  {
   "cell_type": "code",
   "execution_count": 40,
   "metadata": {
    "collapsed": false
   },
   "outputs": [
    {
     "name": "stdout",
     "output_type": "stream",
     "text": [
      "player_id\n",
      "name\n",
      "starts\n",
      "goals\n",
      "teams_id\n",
      "image1.avg\n",
      "image1.std\n",
      "image1.ndim\n",
      "image1.dim1\n",
      "image1.dim2\n",
      "image1.dim3\n",
      "image1.dim4\n",
      "image1.dtype\n",
      "image2.avg\n",
      "image2.std\n",
      "image2.ndim\n",
      "image2.dim1\n",
      "image2.dim2\n",
      "image2.dim3\n",
      "image2.dim4\n",
      "image2.dtype\n",
      "image3.avg\n",
      "image3.std\n",
      "image3.ndim\n",
      "image3.dim1\n",
      "image3.dim2\n",
      "image3.dim3\n",
      "image3.dim4\n",
      "image3.dtype\n"
     ]
    }
   ],
   "source": [
    "for r in df:\n",
    "    print(r)"
   ]
  },
  {
   "cell_type": "code",
   "execution_count": null,
   "metadata": {
    "collapsed": true
   },
   "outputs": [],
   "source": []
  }
 ],
 "metadata": {
  "kernelspec": {
   "display_name": "Python 2",
   "language": "python",
   "name": "python2"
  },
  "language_info": {
   "codemirror_mode": {
    "name": "ipython",
    "version": 2
   },
   "file_extension": ".py",
   "mimetype": "text/x-python",
   "name": "python",
   "nbconvert_exporter": "python",
   "pygments_lexer": "ipython2",
   "version": "2.7.10"
  }
 },
 "nbformat": 4,
 "nbformat_minor": 0
}
