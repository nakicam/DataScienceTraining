{
 "metadata": {
  "name": "",
  "signature": "sha256:6efc0d7da5826b64c396b576fd2f9c18139799f2def3431a72a5986c322ec50d"
 },
 "nbformat": 3,
 "nbformat_minor": 0,
 "worksheets": [
  {
   "cells": [
    {
     "cell_type": "markdown",
     "metadata": {},
     "source": [
      "# Reconstruction test for ABC object\n",
      "\n",
      "various methods to reconstruct the data into python objects.  "
     ]
    },
    {
     "cell_type": "markdown",
     "metadata": {},
     "source": [
      "## Setup"
     ]
    },
    {
     "cell_type": "code",
     "collapsed": false,
     "input": [
      "import os\n",
      "import numpy as np\n",
      "import platform\n",
      "import pandas as pd\n",
      "import cx_Oracle as odb\n",
      "import matplotlib.pyplot as plt\n",
      "import pandas.io.sql as psql\n",
      "import array"
     ],
     "language": "python",
     "metadata": {},
     "outputs": [],
     "prompt_number": 1
    },
    {
     "cell_type": "code",
     "collapsed": false,
     "input": [
      "# working dir\n",
      "if platform.system() == 'Windows':\n",
      "    os.chdir(os.path.join(os.getenv('HOME'),'Documents', 'Development', 'dst', 'examples', 'abc_db'))\n",
      "else:\n",
      "    os.chdir(os.path.join(os.getenv('DST'),'examples', 'abc_db'))\n",
      "print(os.getcwd())\n",
      "\n",
      "# plots \n",
      "%matplotlib inline\n",
      "np.set_printoptions(precision=4)\n",
      "plt.rc('figure', figsize=(10, 8))"
     ],
     "language": "python",
     "metadata": {},
     "outputs": []
    }
   ],
   "metadata": {}
  }
 ]
}