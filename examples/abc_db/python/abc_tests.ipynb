{
 "metadata": {
  "name": "",
  "signature": "sha256:c506d5358d48166830ba24efc50055251cb66b106b7201dd79e0bc2b95030d44"
 },
 "nbformat": 3,
 "nbformat_minor": 0,
 "worksheets": [
  {
   "cells": [
    {
     "cell_type": "markdown",
     "metadata": {},
     "source": [
      "# Oracle ABC tests"
     ]
    },
    {
     "cell_type": "markdown",
     "metadata": {},
     "source": [
      "setup:"
     ]
    },
    {
     "cell_type": "code",
     "collapsed": false,
     "input": [
      "import numpy as np\n",
      "import pandas as pd\n",
      "import cx_Oracle as odb"
     ],
     "language": "python",
     "metadata": {},
     "outputs": [],
     "prompt_number": 8
    },
    {
     "cell_type": "markdown",
     "metadata": {},
     "source": [
      "test connection to oracle"
     ]
    },
    {
     "cell_type": "code",
     "collapsed": false,
     "input": [
      "import cx_Oracle\n",
      "\n",
      "# Build connection string\n",
      "user = \"abc\"\n",
      "sid  = \"ORCL\"\n",
      "pswd = \"abc\"\n",
      "\n",
      "# Connect to Oracle and test\n",
      "con = cx_Oracle.connect(user, pswd, sid)\n",
      "if (con):\n",
      "    print \"Connection successful\"\n",
      "    print con.version\n",
      "else:\n",
      "    print \"Connection not successful\"\n",
      "\n",
      "con.close()"
     ],
     "language": "python",
     "metadata": {},
     "outputs": [
      {
       "output_type": "stream",
       "stream": "stdout",
       "text": [
        "Connection successful\n",
        "12.1.0.2.0\n"
       ]
      }
     ],
     "prompt_number": 7
    },
    {
     "cell_type": "markdown",
     "metadata": {},
     "source": [
      "## Load fake data into ABC"
     ]
    },
    {
     "cell_type": "code",
     "collapsed": false,
     "input": [],
     "language": "python",
     "metadata": {},
     "outputs": []
    }
   ],
   "metadata": {}
  }
 ]
}