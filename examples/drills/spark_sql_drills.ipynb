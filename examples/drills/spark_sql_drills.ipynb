{
 "cells": [
  {
   "cell_type": "code",
   "execution_count": 1,
   "metadata": {
    "collapsed": true
   },
   "outputs": [],
   "source": [
    "import itertools as it\n",
    "import numpy as np\n",
    "import pandas as pd\n",
    "import matplotlib.pyplot as plt\n",
    "import os\n",
    "\n",
    "# plotting options\n",
    "%matplotlib inline\n",
    "np.set_printoptions(linewidth=250)\n",
    "plt.rc('font'  , size=18)\n",
    "plt.rc('figure', figsize=(10, 8))\n",
    "plt.rc('axes'  , labelsize=22)\n",
    "plt.rc('legend', fontsize=16)\n",
    "\n",
    "np.set_printoptions(precision=3)\n",
    "plt.rc('figure', figsize=(10, 8))"
   ]
  },
  {
   "cell_type": "code",
   "execution_count": 2,
   "metadata": {
    "collapsed": false
   },
   "outputs": [
    {
     "name": "stdout",
     "output_type": "stream",
     "text": [
      "/Users/rwk7t/Development/dst/examples/drills\n"
     ]
    }
   ],
   "source": [
    "os.chdir('%s/examples/drills' % os.getenv('DST'))\n",
    "pwd = os.getcwd()\n",
    "print(pwd)"
   ]
  },
  {
   "cell_type": "code",
   "execution_count": 3,
   "metadata": {
    "collapsed": false
   },
   "outputs": [
    {
     "data": {
      "text/plain": [
       "'/usr/local/Cellar/apache-spark/1.5.2/libexec'"
      ]
     },
     "execution_count": 3,
     "metadata": {},
     "output_type": "execute_result"
    }
   ],
   "source": [
    "import os\n",
    "spark_home = os.environ.get('SPARK_HOME', None)\n",
    "spark_home"
   ]
  },
  {
   "cell_type": "code",
   "execution_count": 5,
   "metadata": {
    "collapsed": true
   },
   "outputs": [],
   "source": [
    "from pyspark import SparkContext, SparkConf, SQLContext\n",
    "\n",
    "from pyspark import SparkContext, SparkConf, SQLContext, HiveContext\n",
    "\n",
    "myConf = SparkConf().setAppName('TestApp')\\\n",
    "                    .set('spark.executor.memory', '2G')\\\n",
    "                    .set('spark.hadoop.validateOutputSpecs', 'false')\n",
    "\n",
    "sc      = SparkContext(conf=myConf)\n",
    "sql_ctx = HiveContext(sc)"
   ]
  },
  {
   "cell_type": "code",
   "execution_count": null,
   "metadata": {
    "collapsed": false
   },
   "outputs": [],
   "source": [
    "customers_df = sql_ctx.load(\n",
    "    source      = 'com.databricks.spark.csv',\n",
    "    header      = 'true',\n",
    "    inferSchema = 'true',\n",
    "    path        = 'file:%s/cusotmers.txt'%pwd\n",
    ")"
   ]
  },
  {
   "cell_type": "code",
   "execution_count": null,
   "metadata": {
    "collapsed": true
   },
   "outputs": [],
   "source": []
  }
 ],
 "metadata": {
  "kernelspec": {
   "display_name": "Python 2",
   "language": "python",
   "name": "python2"
  },
  "language_info": {
   "codemirror_mode": {
    "name": "ipython",
    "version": 2
   },
   "file_extension": ".py",
   "mimetype": "text/x-python",
   "name": "python",
   "nbconvert_exporter": "python",
   "pygments_lexer": "ipython2",
   "version": "2.7.11"
  }
 },
 "nbformat": 4,
 "nbformat_minor": 0
}
