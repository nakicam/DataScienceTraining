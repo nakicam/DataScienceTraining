{
 "metadata": {
  "name": "pytables_tutorial.ipynb"
 },
 "nbformat": 3,
 "nbformat_minor": 0,
 "worksheets": [
  {
   "cells": [
    {
     "cell_type": "markdown",
     "metadata": {},
     "source": [
      "# PyTables Tutorial\n",
      "\n",
      "Series of simple tutorials that will demonstrate PyTable's main features.  \n",
      "\n",
      "* [API reference](http://pytables.github.io/usersguide/libref.html#library-reference)"
     ]
    },
    {
     "cell_type": "markdown",
     "metadata": {},
     "source": [
      "## notebook setup"
     ]
    },
    {
     "cell_type": "code",
     "collapsed": false,
     "input": [
      "import tables\n",
      "import numpy as np\n",
      "import os"
     ],
     "language": "python",
     "metadata": {},
     "outputs": [],
     "prompt_number": 1
    },
    {
     "cell_type": "code",
     "collapsed": false,
     "input": [
      "os.chdir('%s/examples/hdf5_tutorials' % os.getenv('DST'))\n",
      "os.getcwd()"
     ],
     "language": "python",
     "metadata": {},
     "outputs": [
      {
       "metadata": {},
       "output_type": "pyout",
       "prompt_number": 2,
       "text": [
        "'C:\\\\Users\\\\J28976\\\\Documents\\\\Development\\\\dst\\\\examples\\\\hdf5_tutorials'"
       ]
      }
     ],
     "prompt_number": 2
    },
    {
     "cell_type": "markdown",
     "metadata": {},
     "source": [
      "## Declaring a column descriptor\n",
      "\n",
      "Image we have a particle detector and we create a table object to save the data from it.\n",
      "\n",
      "To define the table, the number of columns, and so on...\n",
      "\n",
      "Image our detector has a TDC (time to digital converter) with a dynamic range of 8 bits and an ADC (analog to digital converter) with 16bits.  Define the fields:\n",
      "\n",
      "* tcd_count\n",
      "* adc_count\n",
      "\n",
      "Also, we want to save the grid position of each particle:\n",
      "\n",
      "* grid_i\n",
      "* grid_j\n",
      "\n",
      "Also, we have presure and energy per particle\n",
      "\n",
      "* pressure\n",
      "* energy\n",
      "\n",
      "Finally, we want to store the type of particle and a unique id:\n",
      "\n",
      "* name\n",
      "* id\n",
      "\n",
      "We can write a simple class to store the data:"
     ]
    },
    {
     "cell_type": "code",
     "collapsed": false,
     "input": [
      "class Particle(tables.IsDescription):\n",
      "    name      = tables.StringCol(16)   # 16-character String\n",
      "    idnumber  = tables.Int64Col()      # Signed 64-bit integer\n",
      "    adc_count = tables.UInt16Col()     # Unsigned short integer\n",
      "    tdc_count = tables.UInt8Col()      # unsigned byte\n",
      "    grid_i    = tables.Int32Col()      # 32-bit integer\n",
      "    grid_j    = tables.Int32Col()      # 32-bit integer\n",
      "    pressure  = tables.Float32Col()    # float  (single-precision)\n",
      "    energy    = tables.Float64Col()    # double (double-precision)"
     ],
     "language": "python",
     "metadata": {},
     "outputs": [],
     "prompt_number": 3
    },
    {
     "cell_type": "markdown",
     "metadata": {},
     "source": [
      "* Each column is implemented using the [*Col* class](http://pytables.github.io/usersguide/libref/declarative_classes.html#colclassdescr)\n",
      "* The subclasses for the Col class for each numpy type has already been done for us [data type Col classes](http://pytables.github.io/usersguide/datatypes.html#datatypes)"
     ]
    },
    {
     "cell_type": "markdown",
     "metadata": {},
     "source": [
      "## Creating a PyTables file from scratch"
     ]
    },
    {
     "cell_type": "code",
     "collapsed": false,
     "input": [
      "os.getcwd()"
     ],
     "language": "python",
     "metadata": {},
     "outputs": [
      {
       "metadata": {},
       "output_type": "pyout",
       "prompt_number": 4,
       "text": [
        "'C:\\\\Users\\\\J28976\\\\Documents\\\\Development\\\\dst\\\\examples\\\\hdf5_tutorials'"
       ]
      }
     ],
     "prompt_number": 4
    },
    {
     "cell_type": "code",
     "collapsed": false,
     "input": [
      "h5file = tables.open_file('data/tutorials.h5', mode='w', title='Test File')"
     ],
     "language": "python",
     "metadata": {},
     "outputs": [],
     "prompt_number": 5
    },
    {
     "cell_type": "code",
     "collapsed": false,
     "input": [
      "print(h5file)"
     ],
     "language": "python",
     "metadata": {},
     "outputs": [
      {
       "output_type": "stream",
       "stream": "stdout",
       "text": [
        "data/tutorials.h5 (File) 'Test File'\n",
        "Last modif.: 'Fri Oct 10 12:57:33 2014'\n",
        "Object Tree: \n",
        "/ (RootGroup) 'Test File'\n",
        "\n"
       ]
      }
     ],
     "prompt_number": 6
    },
    {
     "cell_type": "markdown",
     "metadata": {},
     "source": [
      "### create a new group"
     ]
    },
    {
     "cell_type": "code",
     "collapsed": false,
     "input": [
      "group = h5file.create_group('/', 'detector', 'Dectector information')"
     ],
     "language": "python",
     "metadata": {},
     "outputs": [],
     "prompt_number": 7
    },
    {
     "cell_type": "code",
     "collapsed": false,
     "input": [
      "print(group)"
     ],
     "language": "python",
     "metadata": {},
     "outputs": [
      {
       "output_type": "stream",
       "stream": "stdout",
       "text": [
        "/detector (Group) 'Dectector information'\n"
       ]
      }
     ],
     "prompt_number": 8
    },
    {
     "cell_type": "markdown",
     "metadata": {},
     "source": [
      "### create a new table"
     ]
    },
    {
     "cell_type": "code",
     "collapsed": false,
     "input": [
      "table = h5file.create_table(group, 'readout', Particle, 'readout example')"
     ],
     "language": "python",
     "metadata": {},
     "outputs": [],
     "prompt_number": 9
    },
    {
     "cell_type": "code",
     "collapsed": false,
     "input": [
      "print(table)"
     ],
     "language": "python",
     "metadata": {},
     "outputs": [
      {
       "output_type": "stream",
       "stream": "stdout",
       "text": [
        "/detector/readout (Table(0,)) 'readout example'\n"
       ]
      }
     ],
     "prompt_number": 10
    },
    {
     "cell_type": "code",
     "collapsed": false,
     "input": [
      "print(h5file)"
     ],
     "language": "python",
     "metadata": {},
     "outputs": [
      {
       "output_type": "stream",
       "stream": "stdout",
       "text": [
        "data/tutorials.h5 (File) 'Test File'\n",
        "Last modif.: 'Fri Oct 10 12:57:33 2014'\n",
        "Object Tree: \n",
        "/ (RootGroup) 'Test File'\n",
        "/detector (Group) 'Dectector information'\n",
        "/detector/readout (Table(0,)) 'readout example'\n",
        "\n"
       ]
      }
     ],
     "prompt_number": 11
    },
    {
     "cell_type": "code",
     "collapsed": false,
     "input": [
      "h5file"
     ],
     "language": "python",
     "metadata": {},
     "outputs": [
      {
       "metadata": {},
       "output_type": "pyout",
       "prompt_number": 12,
       "text": [
        "File(filename=data/tutorials.h5, title='Test File', mode='w', root_uep='/', filters=Filters(complevel=0, shuffle=False, fletcher32=False, least_significant_digit=None))\n",
        "/ (RootGroup) 'Test File'\n",
        "/detector (Group) 'Dectector information'\n",
        "/detector/readout (Table(0,)) 'readout example'\n",
        "  description := {\n",
        "  \"adc_count\": UInt16Col(shape=(), dflt=0, pos=0),\n",
        "  \"energy\": Float64Col(shape=(), dflt=0.0, pos=1),\n",
        "  \"grid_i\": Int32Col(shape=(), dflt=0, pos=2),\n",
        "  \"grid_j\": Int32Col(shape=(), dflt=0, pos=3),\n",
        "  \"idnumber\": Int64Col(shape=(), dflt=0, pos=4),\n",
        "  \"name\": StringCol(itemsize=16, shape=(), dflt='', pos=5),\n",
        "  \"pressure\": Float32Col(shape=(), dflt=0.0, pos=6),\n",
        "  \"tdc_count\": UInt8Col(shape=(), dflt=0, pos=7)}\n",
        "  byteorder := 'little'\n",
        "  chunkshape := (1394,)\n"
       ]
      }
     ],
     "prompt_number": 12
    },
    {
     "cell_type": "markdown",
     "metadata": {},
     "source": [
      "Now we wish to fill the table with some values.  First get a pointer to the row"
     ]
    },
    {
     "cell_type": "code",
     "collapsed": false,
     "input": [
      "particle = table.row"
     ],
     "language": "python",
     "metadata": {},
     "outputs": [],
     "prompt_number": 13
    },
    {
     "cell_type": "code",
     "collapsed": false,
     "input": [
      "particle"
     ],
     "language": "python",
     "metadata": {},
     "outputs": [
      {
       "metadata": {},
       "output_type": "pyout",
       "prompt_number": 14,
       "text": [
        "/detector/readout.row (Row), pointing to row #0"
       ]
      }
     ],
     "prompt_number": 14
    },
    {
     "cell_type": "markdown",
     "metadata": {},
     "source": [
      "Fill the class with data using *dictionary* style syntax:"
     ]
    },
    {
     "cell_type": "code",
     "collapsed": false,
     "input": [
      "num_particles = 10\n",
      "for i in np.arange(num_particles):\n",
      "    particle['name'     ] = 'Particle: %6d' % (i)\n",
      "    particle['tdc_count'] = i % 256\n",
      "    particle['adc_count'] = (i * 256) % (1 << 16)\n",
      "    particle['grid_i'   ] = i\n",
      "    particle['grid_j'   ] = 10 - i\n",
      "    particle['pressure' ] = float(i*i)\n",
      "    particle['energy'   ] = float(particle['pressure' ] ** 4)\n",
      "    particle['idnumber' ] = i * (2 ** 34)\n",
      "    # Insert a new particle record\n",
      "    particle.append()"
     ],
     "language": "python",
     "metadata": {},
     "outputs": [],
     "prompt_number": 15
    },
    {
     "cell_type": "markdown",
     "metadata": {},
     "source": [
      "### Save to disk\n",
      "\n",
      "Flush the table's buffer to writ the data to disk."
     ]
    },
    {
     "cell_type": "code",
     "collapsed": false,
     "input": [
      "table.flush()"
     ],
     "language": "python",
     "metadata": {},
     "outputs": [],
     "prompt_number": 16
    },
    {
     "cell_type": "code",
     "collapsed": false,
     "input": [
      "h5file.close()"
     ],
     "language": "python",
     "metadata": {},
     "outputs": [],
     "prompt_number": 17
    },
    {
     "cell_type": "markdown",
     "metadata": {},
     "source": [
      "#### dump output"
     ]
    },
    {
     "cell_type": "code",
     "collapsed": false,
     "input": [
      "!h5dump.exe data\\tutorials.h5"
     ],
     "language": "python",
     "metadata": {},
     "outputs": [
      {
       "output_type": "stream",
       "stream": "stdout",
       "text": [
        "HDF5 \"data\\tutorials.h5\" {\n",
        "GROUP \"/\" {\n",
        "   ATTRIBUTE \"CLASS\" {\n",
        "      DATATYPE  H5T_STRING {\n",
        "         STRSIZE 5;\n",
        "         STRPAD H5T_STR_NULLTERM;\n",
        "         CSET H5T_CSET_ASCII;\n",
        "         CTYPE H5T_C_S1;\n",
        "      }\n",
        "      DATASPACE  SCALAR\n",
        "      DATA {\n",
        "      (0): \"GROUP\"\n",
        "      }\n",
        "   }\n",
        "   ATTRIBUTE \"PYTABLES_FORMAT_VERSION\" {\n",
        "      DATATYPE  H5T_STRING {\n",
        "         STRSIZE 3;\n",
        "         STRPAD H5T_STR_NULLTERM;\n",
        "         CSET H5T_CSET_ASCII;\n",
        "         CTYPE H5T_C_S1;\n",
        "      }\n",
        "      DATASPACE  SCALAR\n",
        "      DATA {\n",
        "      (0): \"2.1\"\n",
        "      }\n",
        "   }\n",
        "   ATTRIBUTE \"TITLE\" {\n",
        "      DATATYPE  H5T_STRING {\n",
        "         STRSIZE 9;\n",
        "         STRPAD H5T_STR_NULLTERM;\n",
        "         CSET H5T_CSET_ASCII;\n",
        "         CTYPE H5T_C_S1;\n",
        "      }\n",
        "      DATASPACE  SCALAR\n",
        "      DATA {\n",
        "      (0): \"Test File\"\n",
        "      }\n",
        "   }\n",
        "   ATTRIBUTE \"VERSION\" {\n",
        "      DATATYPE  H5T_STRING {\n",
        "         STRSIZE 3;\n",
        "         STRPAD H5T_STR_NULLTERM;\n",
        "         CSET H5T_CSET_ASCII;\n",
        "         CTYPE H5T_C_S1;\n",
        "      }\n",
        "      DATASPACE  SCALAR\n",
        "      DATA {\n",
        "      (0): \"1.0\"\n",
        "      }\n",
        "   }\n",
        "   GROUP \"detector\" {\n",
        "      ATTRIBUTE \"CLASS\" {\n",
        "         DATATYPE  H5T_STRING {\n",
        "            STRSIZE 5;\n",
        "            STRPAD H5T_STR_NULLTERM;\n",
        "            CSET H5T_CSET_ASCII;\n",
        "            CTYPE H5T_C_S1;\n",
        "         }\n",
        "         DATASPACE  SCALAR\n",
        "         DATA {\n",
        "         (0): \"GROUP\"\n",
        "         }\n",
        "      }\n",
        "      ATTRIBUTE \"TITLE\" {\n",
        "         DATATYPE  H5T_STRING {\n",
        "            STRSIZE 21;\n",
        "            STRPAD H5T_STR_NULLTERM;\n",
        "            CSET H5T_CSET_ASCII;\n",
        "            CTYPE H5T_C_S1;\n",
        "         }\n",
        "         DATASPACE  SCALAR\n",
        "         DATA {\n",
        "         (0): \"Dectector information\"\n",
        "         }\n",
        "      }\n",
        "      ATTRIBUTE \"VERSION\" {\n",
        "         DATATYPE  H5T_STRING {\n",
        "            STRSIZE 3;\n",
        "            STRPAD H5T_STR_NULLTERM;\n",
        "            CSET H5T_CSET_ASCII;\n",
        "            CTYPE H5T_C_S1;\n",
        "         }\n",
        "         DATASPACE  SCALAR\n",
        "         DATA {\n",
        "         (0): \"1.0\"\n",
        "         }\n",
        "      }\n",
        "      DATASET \"readout\" {\n",
        "         DATATYPE  H5T_COMPOUND {\n",
        "            H5T_STD_U16LE \"adc_count\";\n",
        "            H5T_IEEE_F64LE \"energy\";\n",
        "            H5T_STD_I32LE \"grid_i\";\n",
        "            H5T_STD_I32LE \"grid_j\";\n",
        "            H5T_STD_I64LE \"idnumber\";\n",
        "            H5T_STRING {\n",
        "               STRSIZE 16;\n",
        "               STRPAD H5T_STR_NULLTERM;\n",
        "               CSET H5T_CSET_ASCII;\n",
        "               CTYPE H5T_C_S1;\n",
        "            } \"name\";\n",
        "            H5T_IEEE_F32LE \"pressure\";\n",
        "            H5T_STD_U8LE \"tdc_count\";\n",
        "         }\n",
        "         DATASPACE  SIMPLE { ( 10 ) / ( H5S_UNLIMITED ) }\n",
        "         DATA {\n",
        "         (0): {\n",
        "               0,\n",
        "               0,\n",
        "               0,\n",
        "               10,\n",
        "               0,\n",
        "               \"Particle:      0\",\n",
        "               0,\n",
        "               0\n",
        "            },\n",
        "         (1): {\n",
        "               256,\n",
        "               1,\n",
        "               1,\n",
        "               9,\n",
        "               17179869184,\n",
        "               \"Particle:      1\",\n",
        "               1,\n",
        "               1\n",
        "            },\n",
        "         (2): {\n",
        "               512,\n",
        "               256,\n",
        "               2,\n",
        "               8,\n",
        "               34359738368,\n",
        "               \"Particle:      2\",\n",
        "               4,\n",
        "               2\n",
        "            },\n",
        "         (3): {\n",
        "               768,\n",
        "               6561,\n",
        "               3,\n",
        "               7,\n",
        "               51539607552,\n",
        "               \"Particle:      3\",\n",
        "               9,\n",
        "               3\n",
        "            },\n",
        "         (4): {\n",
        "               1024,\n",
        "               65536,\n",
        "               4,\n",
        "               6,\n",
        "               68719476736,\n",
        "               \"Particle:      4\",\n",
        "               16,\n",
        "               4\n",
        "            },\n",
        "         (5): {\n",
        "               1280,\n",
        "               390625,\n",
        "               5,\n",
        "               5,\n",
        "               85899345920,\n",
        "               \"Particle:      5\",\n",
        "               25,\n",
        "               5\n",
        "            },\n",
        "         (6): {\n",
        "               1536,\n",
        "               1.67962e+006,\n",
        "               6,\n",
        "               4,\n",
        "               103079215104,\n",
        "               \"Particle:      6\",\n",
        "               36,\n",
        "               6\n",
        "            },\n",
        "         (7): {\n",
        "               1792,\n",
        "               5.7648e+006,\n",
        "               7,\n",
        "               3,\n",
        "               120259084288,\n",
        "               \"Particle:      7\",\n",
        "               49,\n",
        "               7\n",
        "            },\n",
        "         (8): {\n",
        "               2048,\n",
        "               1.67772e+007,\n",
        "               8,\n",
        "               2,\n",
        "               137438953472,\n",
        "               \"Particle:      8\",\n",
        "               64,\n",
        "               8\n",
        "            },\n",
        "         (9): {\n",
        "               2304,\n",
        "               4.30467e+007,\n",
        "               9,\n",
        "               1,\n",
        "               154618822656,\n",
        "               \"Particle:      9\",\n",
        "               81,\n",
        "               9\n",
        "            }\n",
        "         }\n",
        "         ATTRIBUTE \"CLASS\" {\n",
        "            DATATYPE  H5T_STRING {\n",
        "               STRSIZE 6;\n",
        "               STRPAD H5T_STR_NULLTERM;\n",
        "               CSET H5T_CSET_ASCII;\n",
        "               CTYPE H5T_C_S1;\n",
        "            }\n",
        "            DATASPACE  SCALAR\n",
        "            DATA {\n",
        "            (0): \"TABLE\"\n",
        "            }\n",
        "         }\n",
        "         ATTRIBUTE \"FIELD_0_FILL\" {\n",
        "            DATATYPE  H5T_STD_U16LE\n",
        "            DATASPACE  SCALAR\n",
        "            DATA {\n",
        "            (0): 0\n",
        "            }\n",
        "         }\n",
        "         ATTRIBUTE \"FIELD_0_NAME\" {\n",
        "            DATATYPE  H5T_STRING {\n",
        "               STRSIZE 10;\n",
        "               STRPAD H5T_STR_NULLTERM;\n",
        "               CSET H5T_CSET_ASCII;\n",
        "               CTYPE H5T_C_S1;\n",
        "            }\n",
        "            DATASPACE  SCALAR\n",
        "            DATA {\n",
        "            (0): \"adc_count\"\n",
        "            }\n",
        "         }\n",
        "         ATTRIBUTE \"FIELD_1_FILL\" {\n",
        "            DATATYPE  H5T_IEEE_F64LE\n",
        "            DATASPACE  SCALAR\n",
        "            DATA {\n",
        "            (0): 0\n",
        "            }\n",
        "         }\n",
        "         ATTRIBUTE \"FIELD_1_NAME\" {\n",
        "            DATATYPE  H5T_STRING {\n",
        "               STRSIZE 7;\n",
        "               STRPAD H5T_STR_NULLTERM;\n",
        "               CSET H5T_CSET_ASCII;\n",
        "               CTYPE H5T_C_S1;\n",
        "            }\n",
        "            DATASPACE  SCALAR\n",
        "            DATA {\n",
        "            (0): \"energy\"\n",
        "            }\n",
        "         }\n",
        "         ATTRIBUTE \"FIELD_2_FILL\" {\n",
        "            DATATYPE  H5T_STD_I32LE\n",
        "            DATASPACE  SCALAR\n",
        "            DATA {\n",
        "            (0): 0\n",
        "            }\n",
        "         }\n",
        "         ATTRIBUTE \"FIELD_2_NAME\" {\n",
        "            DATATYPE  H5T_STRING {\n",
        "               STRSIZE 7;\n",
        "               STRPAD H5T_STR_NULLTERM;\n",
        "               CSET H5T_CSET_ASCII;\n",
        "               CTYPE H5T_C_S1;\n",
        "            }\n",
        "            DATASPACE  SCALAR\n",
        "            DATA {\n",
        "            (0): \"grid_i\"\n",
        "            }\n",
        "         }\n",
        "         ATTRIBUTE \"FIELD_3_FILL\" {\n",
        "            DATATYPE  H5T_STD_I32LE\n",
        "            DATASPACE  SCALAR\n",
        "            DATA {\n",
        "            (0): 0\n",
        "            }\n",
        "         }\n",
        "         ATTRIBUTE \"FIELD_3_NAME\" {\n",
        "            DATATYPE  H5T_STRING {\n",
        "               STRSIZE 7;\n",
        "               STRPAD H5T_STR_NULLTERM;\n",
        "               CSET H5T_CSET_ASCII;\n",
        "               CTYPE H5T_C_S1;\n",
        "            }\n",
        "            DATASPACE  SCALAR\n",
        "            DATA {\n",
        "            (0): \"grid_j\"\n",
        "            }\n",
        "         }\n",
        "         ATTRIBUTE \"FIELD_4_FILL\" {\n",
        "            DATATYPE  H5T_STD_I64LE\n",
        "            DATASPACE  SCALAR\n",
        "            DATA {\n",
        "            (0): 0\n",
        "            }\n",
        "         }\n",
        "         ATTRIBUTE \"FIELD_4_NAME\" {\n",
        "            DATATYPE  H5T_STRING {\n",
        "               STRSIZE 9;\n",
        "               STRPAD H5T_STR_NULLTERM;\n",
        "               CSET H5T_CSET_ASCII;\n",
        "               CTYPE H5T_C_S1;\n",
        "            }\n",
        "            DATASPACE  SCALAR\n",
        "            DATA {\n",
        "            (0): \"idnumber\"\n",
        "            }\n",
        "         }\n",
        "         ATTRIBUTE \"FIELD_5_FILL\" {\n",
        "            DATATYPE  H5T_STRING {\n",
        "               STRSIZE 1;\n",
        "               STRPAD H5T_STR_NULLTERM;\n",
        "               CSET H5T_CSET_ASCII;\n",
        "               CTYPE H5T_C_S1;\n",
        "            }\n",
        "            DATASPACE  SCALAR\n",
        "            DATA {\n",
        "            (0): \"\"\n",
        "            }\n",
        "         }\n",
        "         ATTRIBUTE \"FIELD_5_NAME\" {\n",
        "            DATATYPE  H5T_STRING {\n",
        "               STRSIZE 5;\n",
        "               STRPAD H5T_STR_NULLTERM;\n",
        "               CSET H5T_CSET_ASCII;\n",
        "               CTYPE H5T_C_S1;\n",
        "            }\n",
        "            DATASPACE  SCALAR\n",
        "            DATA {\n",
        "            (0): \"name\"\n",
        "            }\n",
        "         }\n",
        "         ATTRIBUTE \"FIELD_6_FILL\" {\n",
        "            DATATYPE  H5T_IEEE_F32LE\n",
        "            DATASPACE  SCALAR\n",
        "            DATA {\n",
        "            (0): 0\n",
        "            }\n",
        "         }\n",
        "         ATTRIBUTE \"FIELD_6_NAME\" {\n",
        "            DATATYPE  H5T_STRING {\n",
        "               STRSIZE 9;\n",
        "               STRPAD H5T_STR_NULLTERM;\n",
        "               CSET H5T_CSET_ASCII;\n",
        "               CTYPE H5T_C_S1;\n",
        "            }\n",
        "            DATASPACE  SCALAR\n",
        "            DATA {\n",
        "            (0): \"pressure\"\n",
        "            }\n",
        "         }\n",
        "         ATTRIBUTE \"FIELD_7_FILL\" {\n",
        "            DATATYPE  H5T_STD_U8LE\n",
        "            DATASPACE  SCALAR\n",
        "            DATA {\n",
        "            (0): 0\n",
        "            }\n",
        "         }\n",
        "         ATTRIBUTE \"FIELD_7_NAME\" {\n",
        "            DATATYPE  H5T_STRING {\n",
        "               STRSIZE 10;\n",
        "               STRPAD H5T_STR_NULLTERM;\n",
        "               CSET H5T_CSET_ASCII;\n",
        "               CTYPE H5T_C_S1;\n",
        "            }\n",
        "            DATASPACE  SCALAR\n",
        "            DATA {\n",
        "            (0): \"tdc_count\"\n",
        "            }\n",
        "         }\n",
        "         ATTRIBUTE \"NROWS\" {\n",
        "            DATATYPE  H5T_STD_I64LE\n",
        "            DATASPACE  SCALAR\n",
        "            DATA {\n",
        "            (0): 10\n",
        "            }\n",
        "         }\n",
        "         ATTRIBUTE \"TITLE\" {\n",
        "            DATATYPE  H5T_STRING {\n",
        "               STRSIZE 16;\n",
        "               STRPAD H5T_STR_NULLTERM;\n",
        "               CSET H5T_CSET_ASCII;\n",
        "               CTYPE H5T_C_S1;\n",
        "            }\n",
        "            DATASPACE  SCALAR\n",
        "            DATA {\n",
        "            (0): \"readout example\"\n",
        "            }\n",
        "         }\n",
        "         ATTRIBUTE \"VERSION\" {\n",
        "            DATATYPE  H5T_STRING {\n",
        "               STRSIZE 4;\n",
        "               STRPAD H5T_STR_NULLTERM;\n",
        "               CSET H5T_CSET_ASCII;\n",
        "               CTYPE H5T_C_S1;\n",
        "            }\n",
        "            DATASPACE  SCALAR\n",
        "            DATA {\n",
        "            (0): \"2.7\"\n",
        "            }\n",
        "         }\n",
        "      }\n",
        "   }\n",
        "}\n",
        "}\n"
       ]
      }
     ],
     "prompt_number": 18
    },
    {
     "cell_type": "markdown",
     "metadata": {},
     "source": [
      "## Reading and Selecting data in a table"
     ]
    },
    {
     "cell_type": "code",
     "collapsed": false,
     "input": [
      "# reopen the file\n",
      "h5file = tables.open_file('data/tutorials.h5', mode='r')\n",
      "h5file"
     ],
     "language": "python",
     "metadata": {},
     "outputs": [
      {
       "metadata": {},
       "output_type": "pyout",
       "prompt_number": 19,
       "text": [
        "File(filename=data/tutorials.h5, title='Test File', mode='r', root_uep='/', filters=Filters(complevel=0, shuffle=False, fletcher32=False, least_significant_digit=None))\n",
        "/ (RootGroup) 'Test File'\n",
        "/detector (Group) 'Dectector information'\n",
        "/detector/readout (Table(10,)) 'readout example'\n",
        "  description := {\n",
        "  \"adc_count\": UInt16Col(shape=(), dflt=0, pos=0),\n",
        "  \"energy\": Float64Col(shape=(), dflt=0.0, pos=1),\n",
        "  \"grid_i\": Int32Col(shape=(), dflt=0, pos=2),\n",
        "  \"grid_j\": Int32Col(shape=(), dflt=0, pos=3),\n",
        "  \"idnumber\": Int64Col(shape=(), dflt=0, pos=4),\n",
        "  \"name\": StringCol(itemsize=16, shape=(), dflt='', pos=5),\n",
        "  \"pressure\": Float32Col(shape=(), dflt=0.0, pos=6),\n",
        "  \"tdc_count\": UInt8Col(shape=(), dflt=0, pos=7)}\n",
        "  byteorder := 'little'\n",
        "  chunkshape := (1394,)\n"
       ]
      }
     ],
     "prompt_number": 19
    },
    {
     "cell_type": "markdown",
     "metadata": {},
     "source": [
      "Now we want to acess the data and select specific columsn we are interest in:"
     ]
    },
    {
     "cell_type": "code",
     "collapsed": false,
     "input": [
      "table = h5file.root.detector.readout\n",
      "table"
     ],
     "language": "python",
     "metadata": {},
     "outputs": [
      {
       "metadata": {},
       "output_type": "pyout",
       "prompt_number": 20,
       "text": [
        "/detector/readout (Table(10,)) 'readout example'\n",
        "  description := {\n",
        "  \"adc_count\": UInt16Col(shape=(), dflt=0, pos=0),\n",
        "  \"energy\": Float64Col(shape=(), dflt=0.0, pos=1),\n",
        "  \"grid_i\": Int32Col(shape=(), dflt=0, pos=2),\n",
        "  \"grid_j\": Int32Col(shape=(), dflt=0, pos=3),\n",
        "  \"idnumber\": Int64Col(shape=(), dflt=0, pos=4),\n",
        "  \"name\": StringCol(itemsize=16, shape=(), dflt='', pos=5),\n",
        "  \"pressure\": Float32Col(shape=(), dflt=0.0, pos=6),\n",
        "  \"tdc_count\": UInt8Col(shape=(), dflt=0, pos=7)}\n",
        "  byteorder := 'little'\n",
        "  chunkshape := (1394,)"
       ]
      }
     ],
     "prompt_number": 20
    },
    {
     "cell_type": "code",
     "collapsed": false,
     "input": [
      "pressure = [x['pressure'] for x in table.iterrows() \n",
      "            if x['tdc_count'] > 3 and 20 <=x['pressure'] < 50]\n",
      "pressure"
     ],
     "language": "python",
     "metadata": {},
     "outputs": [
      {
       "metadata": {},
       "output_type": "pyout",
       "prompt_number": 21,
       "text": [
        "[25.0, 36.0, 49.0]"
       ]
      }
     ],
     "prompt_number": 21
    },
    {
     "cell_type": "markdown",
     "metadata": {},
     "source": [
      "pytable uses a more powerful way to extract the information:"
     ]
    },
    {
     "cell_type": "code",
     "collapsed": false,
     "input": [
      "names = [x['name'] for x in table.where(\"(tdc_count > 3) & (20 <= pressure) & (pressure < 50)\")]\n",
      "names"
     ],
     "language": "python",
     "metadata": {},
     "outputs": [
      {
       "metadata": {},
       "output_type": "pyout",
       "prompt_number": 22,
       "text": [
        "['Particle:      5', 'Particle:      6', 'Particle:      7']"
       ]
      }
     ],
     "prompt_number": 22
    },
    {
     "cell_type": "code",
     "collapsed": false,
     "input": [
      "# use a string\n",
      "selection = '(name == b\"Particle:      5\") | (name == b\"Particle:      7\")'\n",
      "[record['name'] for record in table.where(selection)]"
     ],
     "language": "python",
     "metadata": {},
     "outputs": [
      {
       "metadata": {},
       "output_type": "pyout",
       "prompt_number": 23,
       "text": [
        "['Particle:      5', 'Particle:      7']"
       ]
      }
     ],
     "prompt_number": 23
    },
    {
     "cell_type": "code",
     "collapsed": false,
     "input": [
      "h5file.close()"
     ],
     "language": "python",
     "metadata": {},
     "outputs": [],
     "prompt_number": 24
    },
    {
     "cell_type": "markdown",
     "metadata": {},
     "source": [
      "## Creating new array objects\n",
      "\n",
      "We which to seperate the selected data from the mass of detector data:\n",
      "\n",
      "* create a new group columns branching off the root group\n",
      "* then create two arrays that will contain selected data\n",
      "\n",
      "First, we creat the group:"
     ]
    },
    {
     "cell_type": "code",
     "collapsed": false,
     "input": [
      "h5file = tables.open_file('data/tutorials.h5', mode='a')\n",
      "h5file"
     ],
     "language": "python",
     "metadata": {},
     "outputs": [
      {
       "metadata": {},
       "output_type": "pyout",
       "prompt_number": 25,
       "text": [
        "File(filename=data/tutorials.h5, title='Test File', mode='a', root_uep='/', filters=Filters(complevel=0, shuffle=False, fletcher32=False, least_significant_digit=None))\n",
        "/ (RootGroup) 'Test File'\n",
        "/detector (Group) 'Dectector information'\n",
        "/detector/readout (Table(10,)) 'readout example'\n",
        "  description := {\n",
        "  \"adc_count\": UInt16Col(shape=(), dflt=0, pos=0),\n",
        "  \"energy\": Float64Col(shape=(), dflt=0.0, pos=1),\n",
        "  \"grid_i\": Int32Col(shape=(), dflt=0, pos=2),\n",
        "  \"grid_j\": Int32Col(shape=(), dflt=0, pos=3),\n",
        "  \"idnumber\": Int64Col(shape=(), dflt=0, pos=4),\n",
        "  \"name\": StringCol(itemsize=16, shape=(), dflt='', pos=5),\n",
        "  \"pressure\": Float32Col(shape=(), dflt=0.0, pos=6),\n",
        "  \"tdc_count\": UInt8Col(shape=(), dflt=0, pos=7)}\n",
        "  byteorder := 'little'\n",
        "  chunkshape := (1394,)\n"
       ]
      }
     ],
     "prompt_number": 25
    },
    {
     "cell_type": "code",
     "collapsed": false,
     "input": [
      "gcolumns = h5file.create_group(h5file.root, \"columns\", \"pressure and name\")\n",
      "gcolumns"
     ],
     "language": "python",
     "metadata": {},
     "outputs": [
      {
       "metadata": {},
       "output_type": "pyout",
       "prompt_number": 26,
       "text": [
        "/columns (Group) 'pressure and name'\n",
        "  children := []"
       ]
      }
     ],
     "prompt_number": 26
    },
    {
     "cell_type": "code",
     "collapsed": false,
     "input": [
      "# an array of floats\n",
      "h5file.create_array(gcolumns, 'pressure', np.array(pressure), 'pressure column selection')\n",
      "h5file"
     ],
     "language": "python",
     "metadata": {},
     "outputs": [
      {
       "metadata": {},
       "output_type": "pyout",
       "prompt_number": 27,
       "text": [
        "File(filename=data/tutorials.h5, title='Test File', mode='a', root_uep='/', filters=Filters(complevel=0, shuffle=False, fletcher32=False, least_significant_digit=None))\n",
        "/ (RootGroup) 'Test File'\n",
        "/columns (Group) 'pressure and name'\n",
        "/columns/pressure (Array(3L,)) 'pressure column selection'\n",
        "  atom := Float64Atom(shape=(), dflt=0.0)\n",
        "  maindim := 0\n",
        "  flavor := 'numpy'\n",
        "  byteorder := 'little'\n",
        "  chunkshape := None\n",
        "/detector (Group) 'Dectector information'\n",
        "/detector/readout (Table(10,)) 'readout example'\n",
        "  description := {\n",
        "  \"adc_count\": UInt16Col(shape=(), dflt=0, pos=0),\n",
        "  \"energy\": Float64Col(shape=(), dflt=0.0, pos=1),\n",
        "  \"grid_i\": Int32Col(shape=(), dflt=0, pos=2),\n",
        "  \"grid_j\": Int32Col(shape=(), dflt=0, pos=3),\n",
        "  \"idnumber\": Int64Col(shape=(), dflt=0, pos=4),\n",
        "  \"name\": StringCol(itemsize=16, shape=(), dflt='', pos=5),\n",
        "  \"pressure\": Float32Col(shape=(), dflt=0.0, pos=6),\n",
        "  \"tdc_count\": UInt8Col(shape=(), dflt=0, pos=7)}\n",
        "  byteorder := 'little'\n",
        "  chunkshape := (1394,)\n"
       ]
      }
     ],
     "prompt_number": 27
    },
    {
     "cell_type": "code",
     "collapsed": false,
     "input": [
      "# array of strings\n",
      "h5file.create_array(gcolumns, 'name', names, 'name column selection')"
     ],
     "language": "python",
     "metadata": {},
     "outputs": [
      {
       "metadata": {},
       "output_type": "pyout",
       "prompt_number": 28,
       "text": [
        "/columns/name (Array(3L,)) 'name column selection'\n",
        "  atom := StringAtom(itemsize=16, shape=(), dflt='')\n",
        "  maindim := 0\n",
        "  flavor := 'python'\n",
        "  byteorder := 'irrelevant'\n",
        "  chunkshape := None"
       ]
      }
     ],
     "prompt_number": 28
    },
    {
     "cell_type": "code",
     "collapsed": false,
     "input": [
      "h5file"
     ],
     "language": "python",
     "metadata": {},
     "outputs": [
      {
       "metadata": {},
       "output_type": "pyout",
       "prompt_number": 29,
       "text": [
        "File(filename=data/tutorials.h5, title='Test File', mode='a', root_uep='/', filters=Filters(complevel=0, shuffle=False, fletcher32=False, least_significant_digit=None))\n",
        "/ (RootGroup) 'Test File'\n",
        "/columns (Group) 'pressure and name'\n",
        "/columns/name (Array(3L,)) 'name column selection'\n",
        "  atom := StringAtom(itemsize=16, shape=(), dflt='')\n",
        "  maindim := 0\n",
        "  flavor := 'python'\n",
        "  byteorder := 'irrelevant'\n",
        "  chunkshape := None\n",
        "/columns/pressure (Array(3L,)) 'pressure column selection'\n",
        "  atom := Float64Atom(shape=(), dflt=0.0)\n",
        "  maindim := 0\n",
        "  flavor := 'numpy'\n",
        "  byteorder := 'little'\n",
        "  chunkshape := None\n",
        "/detector (Group) 'Dectector information'\n",
        "/detector/readout (Table(10,)) 'readout example'\n",
        "  description := {\n",
        "  \"adc_count\": UInt16Col(shape=(), dflt=0, pos=0),\n",
        "  \"energy\": Float64Col(shape=(), dflt=0.0, pos=1),\n",
        "  \"grid_i\": Int32Col(shape=(), dflt=0, pos=2),\n",
        "  \"grid_j\": Int32Col(shape=(), dflt=0, pos=3),\n",
        "  \"idnumber\": Int64Col(shape=(), dflt=0, pos=4),\n",
        "  \"name\": StringCol(itemsize=16, shape=(), dflt='', pos=5),\n",
        "  \"pressure\": Float32Col(shape=(), dflt=0.0, pos=6),\n",
        "  \"tdc_count\": UInt8Col(shape=(), dflt=0, pos=7)}\n",
        "  byteorder := 'little'\n",
        "  chunkshape := (1394,)\n"
       ]
      }
     ],
     "prompt_number": 29
    },
    {
     "cell_type": "markdown",
     "metadata": {},
     "source": [
      "## closing the file and looking at its content"
     ]
    },
    {
     "cell_type": "code",
     "collapsed": false,
     "input": [
      "h5file.close()"
     ],
     "language": "python",
     "metadata": {},
     "outputs": [],
     "prompt_number": 30
    },
    {
     "cell_type": "code",
     "collapsed": false,
     "input": [
      "!h5dump.exe data\\tutorials.h5"
     ],
     "language": "python",
     "metadata": {},
     "outputs": [
      {
       "output_type": "stream",
       "stream": "stdout",
       "text": [
        "HDF5 \"data\\tutorials.h5\" {\n",
        "GROUP \"/\" {\n",
        "   ATTRIBUTE \"CLASS\" {\n",
        "      DATATYPE  H5T_STRING {\n",
        "         STRSIZE 5;\n",
        "         STRPAD H5T_STR_NULLTERM;\n",
        "         CSET H5T_CSET_ASCII;\n",
        "         CTYPE H5T_C_S1;\n",
        "      }\n",
        "      DATASPACE  SCALAR\n",
        "      DATA {\n",
        "      (0): \"GROUP\"\n",
        "      }\n",
        "   }\n",
        "   ATTRIBUTE \"PYTABLES_FORMAT_VERSION\" {\n",
        "      DATATYPE  H5T_STRING {\n",
        "         STRSIZE 3;\n",
        "         STRPAD H5T_STR_NULLTERM;\n",
        "         CSET H5T_CSET_ASCII;\n",
        "         CTYPE H5T_C_S1;\n",
        "      }\n",
        "      DATASPACE  SCALAR\n",
        "      DATA {\n",
        "      (0): \"2.1\"\n",
        "      }\n",
        "   }\n",
        "   ATTRIBUTE \"TITLE\" {\n",
        "      DATATYPE  H5T_STRING {\n",
        "         STRSIZE 9;\n",
        "         STRPAD H5T_STR_NULLTERM;\n",
        "         CSET H5T_CSET_ASCII;\n",
        "         CTYPE H5T_C_S1;\n",
        "      }\n",
        "      DATASPACE  SCALAR\n",
        "      DATA {\n",
        "      (0): \"Test File\"\n",
        "      }\n",
        "   }\n",
        "   ATTRIBUTE \"VERSION\" {\n",
        "      DATATYPE  H5T_STRING {\n",
        "         STRSIZE 3;\n",
        "         STRPAD H5T_STR_NULLTERM;\n",
        "         CSET H5T_CSET_ASCII;\n",
        "         CTYPE H5T_C_S1;\n",
        "      }\n",
        "      DATASPACE  SCALAR\n",
        "      DATA {\n",
        "      (0): \"1.0\"\n",
        "      }\n",
        "   }\n",
        "   GROUP \"columns\" {\n",
        "      ATTRIBUTE \"CLASS\" {\n",
        "         DATATYPE  H5T_STRING {\n",
        "            STRSIZE 5;\n",
        "            STRPAD H5T_STR_NULLTERM;\n",
        "            CSET H5T_CSET_ASCII;\n",
        "            CTYPE H5T_C_S1;\n",
        "         }\n",
        "         DATASPACE  SCALAR\n",
        "         DATA {\n",
        "         (0): \"GROUP\"\n",
        "         }\n",
        "      }\n",
        "      ATTRIBUTE \"TITLE\" {\n",
        "         DATATYPE  H5T_STRING {\n",
        "            STRSIZE 17;\n",
        "            STRPAD H5T_STR_NULLTERM;\n",
        "            CSET H5T_CSET_ASCII;\n",
        "            CTYPE H5T_C_S1;\n",
        "         }\n",
        "         DATASPACE  SCALAR\n",
        "         DATA {\n",
        "         (0): \"pressure and name\"\n",
        "         }\n",
        "      }\n",
        "      ATTRIBUTE \"VERSION\" {\n",
        "         DATATYPE  H5T_STRING {\n",
        "            STRSIZE 3;\n",
        "            STRPAD H5T_STR_NULLTERM;\n",
        "            CSET H5T_CSET_ASCII;\n",
        "            CTYPE H5T_C_S1;\n",
        "         }\n",
        "         DATASPACE  SCALAR\n",
        "         DATA {\n",
        "         (0): \"1.0\"\n",
        "         }\n",
        "      }\n",
        "      DATASET \"name\" {\n",
        "         DATATYPE  H5T_STRING {\n",
        "            STRSIZE 16;\n",
        "            STRPAD H5T_STR_NULLTERM;\n",
        "            CSET H5T_CSET_ASCII;\n",
        "            CTYPE H5T_C_S1;\n",
        "         }\n",
        "         DATASPACE  SIMPLE { ( 3 ) / ( 3 ) }\n",
        "         DATA {\n",
        "         (0): \"Particle:      5\", \"Particle:      6\", \"Particle:      7\"\n",
        "         }\n",
        "         ATTRIBUTE \"CLASS\" {\n",
        "            DATATYPE  H5T_STRING {\n",
        "               STRSIZE 6;\n",
        "               STRPAD H5T_STR_NULLTERM;\n",
        "               CSET H5T_CSET_ASCII;\n",
        "               CTYPE H5T_C_S1;\n",
        "            }\n",
        "            DATASPACE  SCALAR\n",
        "            DATA {\n",
        "            (0): \"ARRAY\"\n",
        "            }\n",
        "         }\n",
        "         ATTRIBUTE \"FLAVOR\" {\n",
        "            DATATYPE  H5T_STRING {\n",
        "               STRSIZE 6;\n",
        "               STRPAD H5T_STR_NULLTERM;\n",
        "               CSET H5T_CSET_ASCII;\n",
        "               CTYPE H5T_C_S1;\n",
        "            }\n",
        "            DATASPACE  SCALAR\n",
        "            DATA {\n",
        "            (0): \"python\"\n",
        "            }\n",
        "         }\n",
        "         ATTRIBUTE \"TITLE\" {\n",
        "            DATATYPE  H5T_STRING {\n",
        "               STRSIZE 22;\n",
        "               STRPAD H5T_STR_NULLTERM;\n",
        "               CSET H5T_CSET_ASCII;\n",
        "               CTYPE H5T_C_S1;\n",
        "            }\n",
        "            DATASPACE  SCALAR\n",
        "            DATA {\n",
        "            (0): \"name column selection\"\n",
        "            }\n",
        "         }\n",
        "         ATTRIBUTE \"VERSION\" {\n",
        "            DATATYPE  H5T_STRING {\n",
        "               STRSIZE 4;\n",
        "               STRPAD H5T_STR_NULLTERM;\n",
        "               CSET H5T_CSET_ASCII;\n",
        "               CTYPE H5T_C_S1;\n",
        "            }\n",
        "            DATASPACE  SCALAR\n",
        "            DATA {\n",
        "            (0): \"2.4\"\n",
        "            }\n",
        "         }\n",
        "      }\n",
        "      DATASET \"pressure\" {\n",
        "         DATATYPE  H5T_IEEE_F64LE\n",
        "         DATASPACE  SIMPLE { ( 3 ) / ( 3 ) }\n",
        "         DATA {\n",
        "         (0): 25, 36, 49\n",
        "         }\n",
        "         ATTRIBUTE \"CLASS\" {\n",
        "            DATATYPE  H5T_STRING {\n",
        "               STRSIZE 6;\n",
        "               STRPAD H5T_STR_NULLTERM;\n",
        "               CSET H5T_CSET_ASCII;\n",
        "               CTYPE H5T_C_S1;\n",
        "            }\n",
        "            DATASPACE  SCALAR\n",
        "            DATA {\n",
        "            (0): \"ARRAY\"\n",
        "            }\n",
        "         }\n",
        "         ATTRIBUTE \"FLAVOR\" {\n",
        "            DATATYPE  H5T_STRING {\n",
        "               STRSIZE 5;\n",
        "               STRPAD H5T_STR_NULLTERM;\n",
        "               CSET H5T_CSET_ASCII;\n",
        "               CTYPE H5T_C_S1;\n",
        "            }\n",
        "            DATASPACE  SCALAR\n",
        "            DATA {\n",
        "            (0): \"numpy\"\n",
        "            }\n",
        "         }\n",
        "         ATTRIBUTE \"TITLE\" {\n",
        "            DATATYPE  H5T_STRING {\n",
        "               STRSIZE 26;\n",
        "               STRPAD H5T_STR_NULLTERM;\n",
        "               CSET H5T_CSET_ASCII;\n",
        "               CTYPE H5T_C_S1;\n",
        "            }\n",
        "            DATASPACE  SCALAR\n",
        "            DATA {\n",
        "            (0): \"pressure column selection\"\n",
        "            }\n",
        "         }\n",
        "         ATTRIBUTE \"VERSION\" {\n",
        "            DATATYPE  H5T_STRING {\n",
        "               STRSIZE 4;\n",
        "               STRPAD H5T_STR_NULLTERM;\n",
        "               CSET H5T_CSET_ASCII;\n",
        "               CTYPE H5T_C_S1;\n",
        "            }\n",
        "            DATASPACE  SCALAR\n",
        "            DATA {\n",
        "            (0): \"2.4\"\n",
        "            }\n",
        "         }\n",
        "      }\n",
        "   }\n",
        "   GROUP \"detector\" {\n",
        "      ATTRIBUTE \"CLASS\" {\n",
        "         DATATYPE  H5T_STRING {\n",
        "            STRSIZE 5;\n",
        "            STRPAD H5T_STR_NULLTERM;\n",
        "            CSET H5T_CSET_ASCII;\n",
        "            CTYPE H5T_C_S1;\n",
        "         }\n",
        "         DATASPACE  SCALAR\n",
        "         DATA {\n",
        "         (0): \"GROUP\"\n",
        "         }\n",
        "      }\n",
        "      ATTRIBUTE \"TITLE\" {\n",
        "         DATATYPE  H5T_STRING {\n",
        "            STRSIZE 21;\n",
        "            STRPAD H5T_STR_NULLTERM;\n",
        "            CSET H5T_CSET_ASCII;\n",
        "            CTYPE H5T_C_S1;\n",
        "         }\n",
        "         DATASPACE  SCALAR\n",
        "         DATA {\n",
        "         (0): \"Dectector information\"\n",
        "         }\n",
        "      }\n",
        "      ATTRIBUTE \"VERSION\" {\n",
        "         DATATYPE  H5T_STRING {\n",
        "            STRSIZE 3;\n",
        "            STRPAD H5T_STR_NULLTERM;\n",
        "            CSET H5T_CSET_ASCII;\n",
        "            CTYPE H5T_C_S1;\n",
        "         }\n",
        "         DATASPACE  SCALAR\n",
        "         DATA {\n",
        "         (0): \"1.0\"\n",
        "         }\n",
        "      }\n",
        "      DATASET \"readout\" {\n",
        "         DATATYPE  H5T_COMPOUND {\n",
        "            H5T_STD_U16LE \"adc_count\";\n",
        "            H5T_IEEE_F64LE \"energy\";\n",
        "            H5T_STD_I32LE \"grid_i\";\n",
        "            H5T_STD_I32LE \"grid_j\";\n",
        "            H5T_STD_I64LE \"idnumber\";\n",
        "            H5T_STRING {\n",
        "               STRSIZE 16;\n",
        "               STRPAD H5T_STR_NULLTERM;\n",
        "               CSET H5T_CSET_ASCII;\n",
        "               CTYPE H5T_C_S1;\n",
        "            } \"name\";\n",
        "            H5T_IEEE_F32LE \"pressure\";\n",
        "            H5T_STD_U8LE \"tdc_count\";\n",
        "         }\n",
        "         DATASPACE  SIMPLE { ( 10 ) / ( H5S_UNLIMITED ) }\n",
        "         DATA {\n",
        "         (0): {\n",
        "               0,\n",
        "               0,\n",
        "               0,\n",
        "               10,\n",
        "               0,\n",
        "               \"Particle:      0\",\n",
        "               0,\n",
        "               0\n",
        "            },\n",
        "         (1): {\n",
        "               256,\n",
        "               1,\n",
        "               1,\n",
        "               9,\n",
        "               17179869184,\n",
        "               \"Particle:      1\",\n",
        "               1,\n",
        "               1\n",
        "            },\n",
        "         (2): {\n",
        "               512,\n",
        "               256,\n",
        "               2,\n",
        "               8,\n",
        "               34359738368,\n",
        "               \"Particle:      2\",\n",
        "               4,\n",
        "               2\n",
        "            },\n",
        "         (3): {\n",
        "               768,\n",
        "               6561,\n",
        "               3,\n",
        "               7,\n",
        "               51539607552,\n",
        "               \"Particle:      3\",\n",
        "               9,\n",
        "               3\n",
        "            },\n",
        "         (4): {\n",
        "               1024,\n",
        "               65536,\n",
        "               4,\n",
        "               6,\n",
        "               68719476736,\n",
        "               \"Particle:      4\",\n",
        "               16,\n",
        "               4\n",
        "            },\n",
        "         (5): {\n",
        "               1280,\n",
        "               390625,\n",
        "               5,\n",
        "               5,\n",
        "               85899345920,\n",
        "               \"Particle:      5\",\n",
        "               25,\n",
        "               5\n",
        "            },\n",
        "         (6): {\n",
        "               1536,\n",
        "               1.67962e+006,\n",
        "               6,\n",
        "               4,\n",
        "               103079215104,\n",
        "               \"Particle:      6\",\n",
        "               36,\n",
        "               6\n",
        "            },\n",
        "         (7): {\n",
        "               1792,\n",
        "               5.7648e+006,\n",
        "               7,\n",
        "               3,\n",
        "               120259084288,\n",
        "               \"Particle:      7\",\n",
        "               49,\n",
        "               7\n",
        "            },\n",
        "         (8): {\n",
        "               2048,\n",
        "               1.67772e+007,\n",
        "               8,\n",
        "               2,\n",
        "               137438953472,\n",
        "               \"Particle:      8\",\n",
        "               64,\n",
        "               8\n",
        "            },\n",
        "         (9): {\n",
        "               2304,\n",
        "               4.30467e+007,\n",
        "               9,\n",
        "               1,\n",
        "               154618822656,\n",
        "               \"Particle:      9\",\n",
        "               81,\n",
        "               9\n",
        "            }\n",
        "         }\n",
        "         ATTRIBUTE \"CLASS\" {\n",
        "            DATATYPE  H5T_STRING {\n",
        "               STRSIZE 6;\n",
        "               STRPAD H5T_STR_NULLTERM;\n",
        "               CSET H5T_CSET_ASCII;\n",
        "               CTYPE H5T_C_S1;\n",
        "            }\n",
        "            DATASPACE  SCALAR\n",
        "            DATA {\n",
        "            (0): \"TABLE\"\n",
        "            }\n",
        "         }\n",
        "         ATTRIBUTE \"FIELD_0_FILL\" {\n",
        "            DATATYPE  H5T_STD_U16LE\n",
        "            DATASPACE  SCALAR\n",
        "            DATA {\n",
        "            (0): 0\n",
        "            }\n",
        "         }\n",
        "         ATTRIBUTE \"FIELD_0_NAME\" {\n",
        "            DATATYPE  H5T_STRING {\n",
        "               STRSIZE 10;\n",
        "               STRPAD H5T_STR_NULLTERM;\n",
        "               CSET H5T_CSET_ASCII;\n",
        "               CTYPE H5T_C_S1;\n",
        "            }\n",
        "            DATASPACE  SCALAR\n",
        "            DATA {\n",
        "            (0): \"adc_count\"\n",
        "            }\n",
        "         }\n",
        "         ATTRIBUTE \"FIELD_1_FILL\" {\n",
        "            DATATYPE  H5T_IEEE_F64LE\n",
        "            DATASPACE  SCALAR\n",
        "            DATA {\n",
        "            (0): 0\n",
        "            }\n",
        "         }\n",
        "         ATTRIBUTE \"FIELD_1_NAME\" {\n",
        "            DATATYPE  H5T_STRING {\n",
        "               STRSIZE 7;\n",
        "               STRPAD H5T_STR_NULLTERM;\n",
        "               CSET H5T_CSET_ASCII;\n",
        "               CTYPE H5T_C_S1;\n",
        "            }\n",
        "            DATASPACE  SCALAR\n",
        "            DATA {\n",
        "            (0): \"energy\"\n",
        "            }\n",
        "         }\n",
        "         ATTRIBUTE \"FIELD_2_FILL\" {\n",
        "            DATATYPE  H5T_STD_I32LE\n",
        "            DATASPACE  SCALAR\n",
        "            DATA {\n",
        "            (0): 0\n",
        "            }\n",
        "         }\n",
        "         ATTRIBUTE \"FIELD_2_NAME\" {\n",
        "            DATATYPE  H5T_STRING {\n",
        "               STRSIZE 7;\n",
        "               STRPAD H5T_STR_NULLTERM;\n",
        "               CSET H5T_CSET_ASCII;\n",
        "               CTYPE H5T_C_S1;\n",
        "            }\n",
        "            DATASPACE  SCALAR\n",
        "            DATA {\n",
        "            (0): \"grid_i\"\n",
        "            }\n",
        "         }\n",
        "         ATTRIBUTE \"FIELD_3_FILL\" {\n",
        "            DATATYPE  H5T_STD_I32LE\n",
        "            DATASPACE  SCALAR\n",
        "            DATA {\n",
        "            (0): 0\n",
        "            }\n",
        "         }\n",
        "         ATTRIBUTE \"FIELD_3_NAME\" {\n",
        "            DATATYPE  H5T_STRING {\n",
        "               STRSIZE 7;\n",
        "               STRPAD H5T_STR_NULLTERM;\n",
        "               CSET H5T_CSET_ASCII;\n",
        "               CTYPE H5T_C_S1;\n",
        "            }\n",
        "            DATASPACE  SCALAR\n",
        "            DATA {\n",
        "            (0): \"grid_j\"\n",
        "            }\n",
        "         }\n",
        "         ATTRIBUTE \"FIELD_4_FILL\" {\n",
        "            DATATYPE  H5T_STD_I64LE\n",
        "            DATASPACE  SCALAR\n",
        "            DATA {\n",
        "            (0): 0\n",
        "            }\n",
        "         }\n",
        "         ATTRIBUTE \"FIELD_4_NAME\" {\n",
        "            DATATYPE  H5T_STRING {\n",
        "               STRSIZE 9;\n",
        "               STRPAD H5T_STR_NULLTERM;\n",
        "               CSET H5T_CSET_ASCII;\n",
        "               CTYPE H5T_C_S1;\n",
        "            }\n",
        "            DATASPACE  SCALAR\n",
        "            DATA {\n",
        "            (0): \"idnumber\"\n",
        "            }\n",
        "         }\n",
        "         ATTRIBUTE \"FIELD_5_FILL\" {\n",
        "            DATATYPE  H5T_STRING {\n",
        "               STRSIZE 1;\n",
        "               STRPAD H5T_STR_NULLTERM;\n",
        "               CSET H5T_CSET_ASCII;\n",
        "               CTYPE H5T_C_S1;\n",
        "            }\n",
        "            DATASPACE  SCALAR\n",
        "            DATA {\n",
        "            (0): \"\"\n",
        "            }\n",
        "         }\n",
        "         ATTRIBUTE \"FIELD_5_NAME\" {\n",
        "            DATATYPE  H5T_STRING {\n",
        "               STRSIZE 5;\n",
        "               STRPAD H5T_STR_NULLTERM;\n",
        "               CSET H5T_CSET_ASCII;\n",
        "               CTYPE H5T_C_S1;\n",
        "            }\n",
        "            DATASPACE  SCALAR\n",
        "            DATA {\n",
        "            (0): \"name\"\n",
        "            }\n",
        "         }\n",
        "         ATTRIBUTE \"FIELD_6_FILL\" {\n",
        "            DATATYPE  H5T_IEEE_F32LE\n",
        "            DATASPACE  SCALAR\n",
        "            DATA {\n",
        "            (0): 0\n",
        "            }\n",
        "         }\n",
        "         ATTRIBUTE \"FIELD_6_NAME\" {\n",
        "            DATATYPE  H5T_STRING {\n",
        "               STRSIZE 9;\n",
        "               STRPAD H5T_STR_NULLTERM;\n",
        "               CSET H5T_CSET_ASCII;\n",
        "               CTYPE H5T_C_S1;\n",
        "            }\n",
        "            DATASPACE  SCALAR\n",
        "            DATA {\n",
        "            (0): \"pressure\"\n",
        "            }\n",
        "         }\n",
        "         ATTRIBUTE \"FIELD_7_FILL\" {\n",
        "            DATATYPE  H5T_STD_U8LE\n",
        "            DATASPACE  SCALAR\n",
        "            DATA {\n",
        "            (0): 0\n",
        "            }\n",
        "         }\n",
        "         ATTRIBUTE \"FIELD_7_NAME\" {\n",
        "            DATATYPE  H5T_STRING {\n",
        "               STRSIZE 10;\n",
        "               STRPAD H5T_STR_NULLTERM;\n",
        "               CSET H5T_CSET_ASCII;\n",
        "               CTYPE H5T_C_S1;\n",
        "            }\n",
        "            DATASPACE  SCALAR\n",
        "            DATA {\n",
        "            (0): \"tdc_count\"\n",
        "            }\n",
        "         }\n",
        "         ATTRIBUTE \"NROWS\" {\n",
        "            DATATYPE  H5T_STD_I64LE\n",
        "            DATASPACE  SCALAR\n",
        "            DATA {\n",
        "            (0): 10\n",
        "            }\n",
        "         }\n",
        "         ATTRIBUTE \"TITLE\" {\n",
        "            DATATYPE  H5T_STRING {\n",
        "               STRSIZE 16;\n",
        "               STRPAD H5T_STR_NULLTERM;\n",
        "               CSET H5T_CSET_ASCII;\n",
        "               CTYPE H5T_C_S1;\n",
        "            }\n",
        "            DATASPACE  SCALAR\n",
        "            DATA {\n",
        "            (0): \"readout example\"\n",
        "            }\n",
        "         }\n",
        "         ATTRIBUTE \"VERSION\" {\n",
        "            DATATYPE  H5T_STRING {\n",
        "               STRSIZE 4;\n",
        "               STRPAD H5T_STR_NULLTERM;\n",
        "               CSET H5T_CSET_ASCII;\n",
        "               CTYPE H5T_C_S1;\n",
        "            }\n",
        "            DATASPACE  SCALAR\n",
        "            DATA {\n",
        "            (0): \"2.7\"\n",
        "            }\n",
        "         }\n",
        "      }\n",
        "   }\n",
        "}\n",
        "}\n"
       ]
      }
     ],
     "prompt_number": 31
    },
    {
     "cell_type": "code",
     "collapsed": false,
     "input": [
      "!h5ls.exe -r data\\tutorials.h5"
     ],
     "language": "python",
     "metadata": {},
     "outputs": [
      {
       "output_type": "stream",
       "stream": "stdout",
       "text": [
        "/                        Group\n",
        "/columns                 Group\n",
        "/columns/name            Dataset {3}\n",
        "/columns/pressure        Dataset {3}\n",
        "/detector                Group\n",
        "/detector/readout        Dataset {10/Inf}\n"
       ]
      }
     ],
     "prompt_number": 32
    },
    {
     "cell_type": "code",
     "collapsed": false,
     "input": [
      "!h5ls.exe -rd data\\tutorials.h5"
     ],
     "language": "python",
     "metadata": {},
     "outputs": [
      {
       "output_type": "stream",
       "stream": "stdout",
       "text": [
        "/                        Group\n",
        "/columns                 Group\n",
        "/columns/name            Dataset {3}\n",
        "    Data:\n",
        "        (0) \"Particle:      5\", \"Particle:      6\", \"Particle:      7\"\n",
        "/columns/pressure        Dataset {3}\n",
        "    Data:\n",
        "        (0) 25, 36, 49\n",
        "/detector                Group\n",
        "/detector/readout        Dataset {10/Inf}\n",
        "    Data:\n",
        "        (0) {0, 0, 0, 10, 0, \"Particle:      0\", 0, 0}, {256, 1, 1, 9, 17179869184, \"Particle:      1\", 1, 1}, {512, 256, 2, 8, 34359738368, \"Particle:      2\", 4, 2}, {768, 6561, 3, 7, 51539607552, \"Particle:      3\", 9, 3}, {1024, 65536, 4, 6, 68719476736, \"Particle:      4\", 16, 4}, {1280, 390625, 5, 5, 85899345920, \"Particle:      5\", 25, 5}, {1536, 1679616, 6, 4, 103079215104, \"Particle:      6\", 36, 6}, {1792, 5764801, 7, 3, 120259084288, \"Particle:      7\", 49, 7}, {2048, 16777216, 8, 2, 137438953472, \"Particle:      8\", 64, 8}, {2304, 43046721, 9, 1, 154618822656, \"Particle:      9\", 81, 9}\n"
       ]
      }
     ],
     "prompt_number": 33
    },
    {
     "cell_type": "code",
     "collapsed": false,
     "input": [
      "%run C:\\Users\\J28976\\AppData\\Local\\Enthought\\Canopy\\User\\Scripts\\ptdump data\\tutorials.h5"
     ],
     "language": "python",
     "metadata": {},
     "outputs": [
      {
       "output_type": "stream",
       "stream": "stdout",
       "text": [
        "/ (RootGroup) 'Test File'\n",
        "/columns (Group) 'pressure and name'\n",
        "/columns/name (Array(3,)) 'name column selection'\n",
        "/columns/pressure (Array(3,)) 'pressure column selection'\n",
        "/detector (Group) 'Dectector information'\n",
        "/detector/readout (Table(10,)) 'readout example'\n"
       ]
      }
     ],
     "prompt_number": 49
    },
    {
     "cell_type": "markdown",
     "metadata": {},
     "source": [
      "## Traversing the object tree"
     ]
    },
    {
     "cell_type": "code",
     "collapsed": false,
     "input": [
      "h5file = tables.open_file('data/tutorials.h5', mode='a')"
     ],
     "language": "python",
     "metadata": {},
     "outputs": [],
     "prompt_number": 50
    },
    {
     "cell_type": "code",
     "collapsed": false,
     "input": [
      "print(h5file)"
     ],
     "language": "python",
     "metadata": {},
     "outputs": [
      {
       "output_type": "stream",
       "stream": "stdout",
       "text": [
        "data/tutorials.h5 (File) 'Test File'\n",
        "Last modif.: 'Fri Oct 10 12:57:37 2014'\n",
        "Object Tree: \n",
        "/ (RootGroup) 'Test File'\n",
        "/columns (Group) 'pressure and name'\n",
        "/columns/name (Array(3,)) 'name column selection'\n",
        "/columns/pressure (Array(3,)) 'pressure column selection'\n",
        "/detector (Group) 'Dectector information'\n",
        "/detector/readout (Table(10,)) 'readout example'\n",
        "\n"
       ]
      }
     ],
     "prompt_number": 51
    },
    {
     "cell_type": "code",
     "collapsed": false,
     "input": [
      "for node in h5file:\n",
      "    print(node)"
     ],
     "language": "python",
     "metadata": {},
     "outputs": [
      {
       "output_type": "stream",
       "stream": "stdout",
       "text": [
        "/ (RootGroup) 'Test File'\n",
        "/columns (Group) 'pressure and name'\n",
        "/detector (Group) 'Dectector information'\n",
        "/columns/name (Array(3,)) 'name column selection'\n",
        "/columns/pressure (Array(3,)) 'pressure column selection'\n",
        "/detector/readout (Table(10,)) 'readout example'\n"
       ]
      }
     ],
     "prompt_number": 52
    },
    {
     "cell_type": "code",
     "collapsed": false,
     "input": [
      "# walk the group\n",
      "for group in h5file.walk_groups():\n",
      "    print(group)"
     ],
     "language": "python",
     "metadata": {},
     "outputs": [
      {
       "output_type": "stream",
       "stream": "stdout",
       "text": [
        "/ (RootGroup) 'Test File'\n",
        "/columns (Group) 'pressure and name'\n",
        "/detector (Group) 'Dectector information'\n"
       ]
      }
     ],
     "prompt_number": 53
    },
    {
     "cell_type": "code",
     "collapsed": false,
     "input": [
      "# list all arrays in the group\n",
      "for group in h5file.walk_groups(\"/\"):\n",
      "    for array in h5file.list_nodes(group, classname='Array'):\n",
      "        print(array)"
     ],
     "language": "python",
     "metadata": {},
     "outputs": [
      {
       "output_type": "stream",
       "stream": "stdout",
       "text": [
        "/columns/name (Array(3,)) 'name column selection'\n",
        "/columns/pressure (Array(3,)) 'pressure column selection'\n"
       ]
      }
     ],
     "prompt_number": 54
    },
    {
     "cell_type": "code",
     "collapsed": false,
     "input": [
      "# combine the above two methods:\n",
      "for array in h5file.walk_nodes(\"/\", \"Array\"):\n",
      "    print(array)"
     ],
     "language": "python",
     "metadata": {},
     "outputs": [
      {
       "output_type": "stream",
       "stream": "stdout",
       "text": [
        "/columns/name (Array(3,)) 'name column selection'\n",
        "/columns/pressure (Array(3,)) 'pressure column selection'\n"
       ]
      }
     ],
     "prompt_number": 56
    },
    {
     "cell_type": "code",
     "collapsed": false,
     "input": [
      "# using the leave class\n",
      "for leaf in h5file.root.detector._f_walknodes('Leaf'):\n",
      "    print(leaf)"
     ],
     "language": "python",
     "metadata": {},
     "outputs": [
      {
       "output_type": "stream",
       "stream": "stdout",
       "text": [
        "/detector/readout (Table(10,)) 'readout example'\n"
       ]
      }
     ],
     "prompt_number": 58
    },
    {
     "cell_type": "markdown",
     "metadata": {},
     "source": [
      "## Getting and Setting user attributes"
     ]
    },
    {
     "cell_type": "code",
     "collapsed": false,
     "input": [
      "table = h5file.root.detector.readout\n",
      "table"
     ],
     "language": "python",
     "metadata": {},
     "outputs": [
      {
       "metadata": {},
       "output_type": "pyout",
       "prompt_number": 60,
       "text": [
        "/detector/readout (Table(10,)) 'readout example'\n",
        "  description := {\n",
        "  \"adc_count\": UInt16Col(shape=(), dflt=0, pos=0),\n",
        "  \"energy\": Float64Col(shape=(), dflt=0.0, pos=1),\n",
        "  \"grid_i\": Int32Col(shape=(), dflt=0, pos=2),\n",
        "  \"grid_j\": Int32Col(shape=(), dflt=0, pos=3),\n",
        "  \"idnumber\": Int64Col(shape=(), dflt=0, pos=4),\n",
        "  \"name\": StringCol(itemsize=16, shape=(), dflt='', pos=5),\n",
        "  \"pressure\": Float32Col(shape=(), dflt=0.0, pos=6),\n",
        "  \"tdc_count\": UInt8Col(shape=(), dflt=0, pos=7)}\n",
        "  byteorder := 'little'\n",
        "  chunkshape := (1394,)"
       ]
      }
     ],
     "prompt_number": 60
    },
    {
     "cell_type": "code",
     "collapsed": false,
     "input": [
      "table.attrs.gath_date  = \"Wed, 06/12/2003 18:33\"\n",
      "table.attrs.temp       = 18.4\n",
      "table.attrs.temp_scale = \"Celcius\""
     ],
     "language": "python",
     "metadata": {},
     "outputs": [],
     "prompt_number": 61
    },
    {
     "cell_type": "code",
     "collapsed": false,
     "input": [
      "table.attrs"
     ],
     "language": "python",
     "metadata": {},
     "outputs": [
      {
       "metadata": {},
       "output_type": "pyout",
       "prompt_number": 63,
       "text": [
        "/detector/readout._v_attrs (AttributeSet), 23 attributes:\n",
        "   [CLASS := 'TABLE',\n",
        "    FIELD_0_FILL := 0,\n",
        "    FIELD_0_NAME := 'adc_count',\n",
        "    FIELD_1_FILL := 0.0,\n",
        "    FIELD_1_NAME := 'energy',\n",
        "    FIELD_2_FILL := 0,\n",
        "    FIELD_2_NAME := 'grid_i',\n",
        "    FIELD_3_FILL := 0,\n",
        "    FIELD_3_NAME := 'grid_j',\n",
        "    FIELD_4_FILL := 0,\n",
        "    FIELD_4_NAME := 'idnumber',\n",
        "    FIELD_5_FILL := '',\n",
        "    FIELD_5_NAME := 'name',\n",
        "    FIELD_6_FILL := 0.0,\n",
        "    FIELD_6_NAME := 'pressure',\n",
        "    FIELD_7_FILL := 0,\n",
        "    FIELD_7_NAME := 'tdc_count',\n",
        "    NROWS := 10,\n",
        "    TITLE := 'readout example',\n",
        "    VERSION := '2.7',\n",
        "    gath_date := 'Wed, 06/12/2003 18:33',\n",
        "    temp := 18.399999999999999,\n",
        "    temp_scale := 'Celcius']"
       ]
      }
     ],
     "prompt_number": 63
    },
    {
     "cell_type": "code",
     "collapsed": false,
     "input": [
      "table.attrs.gath_date"
     ],
     "language": "python",
     "metadata": {},
     "outputs": [
      {
       "metadata": {},
       "output_type": "pyout",
       "prompt_number": 64,
       "text": [
        "'Wed, 06/12/2003 18:33'"
       ]
      }
     ],
     "prompt_number": 64
    },
    {
     "cell_type": "code",
     "collapsed": false,
     "input": [
      "table.attrs.temp"
     ],
     "language": "python",
     "metadata": {},
     "outputs": [
      {
       "metadata": {},
       "output_type": "pyout",
       "prompt_number": 65,
       "text": [
        "18.399999999999999"
       ]
      }
     ],
     "prompt_number": 65
    },
    {
     "cell_type": "code",
     "collapsed": false,
     "input": [
      "detector = h5file.root.detector\n",
      "detector"
     ],
     "language": "python",
     "metadata": {},
     "outputs": [
      {
       "metadata": {},
       "output_type": "pyout",
       "prompt_number": 66,
       "text": [
        "/detector (Group) 'Dectector information'\n",
        "  children := ['readout' (Table)]"
       ]
      }
     ],
     "prompt_number": 66
    },
    {
     "cell_type": "code",
     "collapsed": false,
     "input": [
      "detector._v_attrs.stuff = [5, (2.3, 4.5), \"Integer and tuple\"]"
     ],
     "language": "python",
     "metadata": {},
     "outputs": [],
     "prompt_number": 68
    },
    {
     "cell_type": "code",
     "collapsed": false,
     "input": [
      "detector"
     ],
     "language": "python",
     "metadata": {},
     "outputs": [
      {
       "metadata": {},
       "output_type": "pyout",
       "prompt_number": 69,
       "text": [
        "/detector (Group) 'Dectector information'\n",
        "  children := ['readout' (Table)]"
       ]
      }
     ],
     "prompt_number": 69
    },
    {
     "cell_type": "code",
     "collapsed": false,
     "input": [
      "detector._v_attrs"
     ],
     "language": "python",
     "metadata": {},
     "outputs": [
      {
       "metadata": {},
       "output_type": "pyout",
       "prompt_number": 71,
       "text": [
        "/detector._v_attrs (AttributeSet), 4 attributes:\n",
        "   [CLASS := 'GROUP',\n",
        "    TITLE := 'Dectector information',\n",
        "    VERSION := '1.0',\n",
        "    stuff := [5, (2.3, 4.5), 'Integer and tuple']]"
       ]
      }
     ],
     "prompt_number": 71
    },
    {
     "cell_type": "code",
     "collapsed": false,
     "input": [
      "# remove attribute\n",
      "del table.attrs.gath_date"
     ],
     "language": "python",
     "metadata": {},
     "outputs": [],
     "prompt_number": 72
    },
    {
     "cell_type": "code",
     "collapsed": false,
     "input": [
      "table.attrs"
     ],
     "language": "python",
     "metadata": {},
     "outputs": [
      {
       "metadata": {},
       "output_type": "pyout",
       "prompt_number": 73,
       "text": [
        "/detector/readout._v_attrs (AttributeSet), 22 attributes:\n",
        "   [CLASS := 'TABLE',\n",
        "    FIELD_0_FILL := 0,\n",
        "    FIELD_0_NAME := 'adc_count',\n",
        "    FIELD_1_FILL := 0.0,\n",
        "    FIELD_1_NAME := 'energy',\n",
        "    FIELD_2_FILL := 0,\n",
        "    FIELD_2_NAME := 'grid_i',\n",
        "    FIELD_3_FILL := 0,\n",
        "    FIELD_3_NAME := 'grid_j',\n",
        "    FIELD_4_FILL := 0,\n",
        "    FIELD_4_NAME := 'idnumber',\n",
        "    FIELD_5_FILL := '',\n",
        "    FIELD_5_NAME := 'name',\n",
        "    FIELD_6_FILL := 0.0,\n",
        "    FIELD_6_NAME := 'pressure',\n",
        "    FIELD_7_FILL := 0,\n",
        "    FIELD_7_NAME := 'tdc_count',\n",
        "    NROWS := 10,\n",
        "    TITLE := 'readout example',\n",
        "    VERSION := '2.7',\n",
        "    temp := 18.399999999999999,\n",
        "    temp_scale := 'Celcius']"
       ]
      }
     ],
     "prompt_number": 73
    },
    {
     "cell_type": "code",
     "collapsed": false,
     "input": [
      "# list all attributes\n",
      "print(table.attrs._f_list(\"all\"))"
     ],
     "language": "python",
     "metadata": {},
     "outputs": [
      {
       "output_type": "stream",
       "stream": "stdout",
       "text": [
        "['CLASS', 'FIELD_0_FILL', 'FIELD_0_NAME', 'FIELD_1_FILL', 'FIELD_1_NAME', 'FIELD_2_FILL', 'FIELD_2_NAME', 'FIELD_3_FILL', 'FIELD_3_NAME', 'FIELD_4_FILL', 'FIELD_4_NAME', 'FIELD_5_FILL', 'FIELD_5_NAME', 'FIELD_6_FILL', 'FIELD_6_NAME', 'FIELD_7_FILL', 'FIELD_7_NAME', 'NROWS', 'TITLE', 'VERSION', 'temp', 'temp_scale']\n"
       ]
      }
     ],
     "prompt_number": 74
    },
    {
     "cell_type": "code",
     "collapsed": false,
     "input": [
      "print(table.attrs._f_list(\"user\"))"
     ],
     "language": "python",
     "metadata": {},
     "outputs": [
      {
       "output_type": "stream",
       "stream": "stdout",
       "text": [
        "['temp', 'temp_scale']\n"
       ]
      }
     ],
     "prompt_number": 75
    },
    {
     "cell_type": "code",
     "collapsed": false,
     "input": [
      "print(table.attrs._f_list(\"sys\"))"
     ],
     "language": "python",
     "metadata": {},
     "outputs": [
      {
       "output_type": "stream",
       "stream": "stdout",
       "text": [
        "['CLASS', 'FIELD_0_FILL', 'FIELD_0_NAME', 'FIELD_1_FILL', 'FIELD_1_NAME', 'FIELD_2_FILL', 'FIELD_2_NAME', 'FIELD_3_FILL', 'FIELD_3_NAME', 'FIELD_4_FILL', 'FIELD_4_NAME', 'FIELD_5_FILL', 'FIELD_5_NAME', 'FIELD_6_FILL', 'FIELD_6_NAME', 'FIELD_7_FILL', 'FIELD_7_NAME', 'NROWS', 'TITLE', 'VERSION']\n"
       ]
      }
     ],
     "prompt_number": 76
    },
    {
     "cell_type": "code",
     "collapsed": false,
     "input": [
      "h5file.close()"
     ],
     "language": "python",
     "metadata": {},
     "outputs": [],
     "prompt_number": 77
    },
    {
     "cell_type": "code",
     "collapsed": false,
     "input": [
      "!h5ls.exe -vr data\\tutorials.h5/detector/readout"
     ],
     "language": "python",
     "metadata": {},
     "outputs": [
      {
       "output_type": "stream",
       "stream": "stdout",
       "text": [
        "Opened \"data\\tutorials.h5\" with sec2 driver.\n",
        "detector/readout         Dataset {10/Inf}\n",
        "    Attribute: CLASS scalar\n",
        "        Type:      6-byte null-terminated ASCII string\n",
        "        Data:  \"TABLE\"\n",
        "    Attribute: FIELD_0_FILL scalar\n",
        "        Type:      native unsigned short\n",
        "        Data:  0\n",
        "    Attribute: FIELD_0_NAME scalar\n",
        "        Type:      10-byte null-terminated ASCII string\n",
        "        Data:  \"adc_count\"\n",
        "    Attribute: FIELD_1_FILL scalar\n",
        "        Type:      native double\n",
        "        Data:  0\n",
        "    Attribute: FIELD_1_NAME scalar\n",
        "        Type:      7-byte null-terminated ASCII string\n",
        "        Data:  \"energy\"\n",
        "    Attribute: FIELD_2_FILL scalar\n",
        "        Type:      native int\n",
        "        Data:  0\n",
        "    Attribute: FIELD_2_NAME scalar\n",
        "        Type:      7-byte null-terminated ASCII string\n",
        "        Data:  \"grid_i\"\n",
        "    Attribute: FIELD_3_FILL scalar\n",
        "        Type:      native int\n",
        "        Data:  0\n",
        "    Attribute: FIELD_3_NAME scalar\n",
        "        Type:      7-byte null-terminated ASCII string\n",
        "        Data:  \"grid_j\"\n",
        "    Attribute: FIELD_4_FILL scalar\n",
        "        Type:      native long long\n",
        "        Data:  0\n",
        "    Attribute: FIELD_4_NAME scalar\n",
        "        Type:      9-byte null-terminated ASCII string\n",
        "        Data:  \"idnumber\"\n",
        "    Attribute: FIELD_5_FILL scalar\n",
        "        Type:      1-byte null-terminated ASCII string\n",
        "        Data:  \"\"\n",
        "    Attribute: FIELD_5_NAME scalar\n",
        "        Type:      5-byte null-terminated ASCII string\n",
        "        Data:  \"name\"\n",
        "    Attribute: FIELD_6_FILL scalar\n",
        "        Type:      native float\n",
        "        Data:  0\n",
        "    Attribute: FIELD_6_NAME scalar\n",
        "        Type:      9-byte null-terminated ASCII string\n",
        "        Data:  \"pressure\"\n",
        "    Attribute: FIELD_7_FILL scalar\n",
        "        Type:      native unsigned char\n",
        "        Data:  0\n",
        "    Attribute: FIELD_7_NAME scalar\n",
        "        Type:      10-byte null-terminated ASCII string\n",
        "        Data:  \"tdc_count\"\n",
        "    Attribute: NROWS scalar\n",
        "        Type:      native long long\n",
        "        Data:  10\n",
        "    Attribute: TITLE scalar\n",
        "        Type:      16-byte null-terminated ASCII string\n",
        "        Data:  \"readout example\"\n",
        "    Attribute: VERSION scalar\n",
        "        Type:      4-byte null-terminated ASCII string\n",
        "        Data:  \"2.7\"\n",
        "    Attribute: temp scalar\n",
        "        Type:      native double\n",
        "        Data:  18.4\n",
        "    Attribute: temp_scale scalar\n",
        "        Type:      7-byte null-terminated ASCII string\n",
        "        Data:  \"Celcius\"\n",
        "    Location:  1:2256\n",
        "    Links:     1\n",
        "    Chunks:    {1394} 65518 bytes\n",
        "    Storage:   470 logical bytes, 65518 allocated bytes, 0.72% utilization\n",
        "    Type:      struct {\n",
        "                   \"adc_count\"        +0    native unsigned short\n",
        "                   \"energy\"           +2    native double\n",
        "                   \"grid_i\"           +10   native int\n",
        "                   \"grid_j\"           +14   native int\n",
        "                   \"idnumber\"         +18   native long long\n",
        "                   \"name\"             +26   16-byte null-terminated ASCII string\n",
        "                   \"pressure\"         +42   native float\n",
        "                   \"tdc_count\"        +46   native unsigned char\n",
        "               } 47 bytes\n"
       ]
      }
     ],
     "prompt_number": 81
    },
    {
     "cell_type": "markdown",
     "metadata": {},
     "source": [
      "## Getting object metadata"
     ]
    },
    {
     "cell_type": "code",
     "collapsed": false,
     "input": [],
     "language": "python",
     "metadata": {},
     "outputs": []
    }
   ],
   "metadata": {}
  }
 ]
}