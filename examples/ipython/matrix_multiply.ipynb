{
 "metadata": {
  "name": "matrix_multiply.ipynb"
 },
 "nbformat": 3,
 "nbformat_minor": 0,
 "worksheets": [
  {
   "cells": [
    {
     "cell_type": "markdown",
     "metadata": {},
     "source": [
      "## setup notebook"
     ]
    },
    {
     "cell_type": "code",
     "collapsed": false,
     "input": [
      "# setup notebook\n",
      "import numpy as np\n",
      "import pandas as pd\n",
      "import h5py\n",
      "import array\n",
      "import matplotlib.pyplot as plt\n",
      "import MySQLdb\n",
      "from IPython.display import display, Math, Latex\n",
      "from decimal import *\n",
      "np.set_printoptions(precision=4)\n",
      "plt.rc('figure', figsize=(10, 8))"
     ],
     "language": "python",
     "metadata": {},
     "outputs": [],
     "prompt_number": 59
    },
    {
     "cell_type": "code",
     "collapsed": false,
     "input": [
      "#import os\n",
      "#os.chdir('%s/Documents/Development/misc/' % os.getenv('HOME'))\n",
      "#print(os.getcwd())"
     ],
     "language": "python",
     "metadata": {},
     "outputs": [],
     "prompt_number": 60
    },
    {
     "cell_type": "markdown",
     "metadata": {},
     "source": [
      "### standard method"
     ]
    },
    {
     "cell_type": "code",
     "collapsed": false,
     "input": [
      "A = np.matrix([[0, 2,-1], [1, 0, 0], [0, 0,-3], [0, 0, 0]])\n",
      "A"
     ],
     "language": "python",
     "metadata": {},
     "outputs": [
      {
       "metadata": {},
       "output_type": "pyout",
       "prompt_number": 61,
       "text": [
        "matrix([[ 0,  2, -1],\n",
        "        [ 1,  0,  0],\n",
        "        [ 0,  0, -3],\n",
        "        [ 0,  0,  0]])"
       ]
      }
     ],
     "prompt_number": 61
    },
    {
     "cell_type": "code",
     "collapsed": false,
     "input": [
      "B = A.T.copy()\n",
      "B"
     ],
     "language": "python",
     "metadata": {},
     "outputs": [
      {
       "metadata": {},
       "output_type": "pyout",
       "prompt_number": 129,
       "text": [
        "matrix([[ 0,  1,  0,  0],\n",
        "        [ 2,  0,  0,  0],\n",
        "        [-1,  0, -3,  0]])"
       ]
      }
     ],
     "prompt_number": 129
    },
    {
     "cell_type": "code",
     "collapsed": false,
     "input": [
      "C = A*B\n",
      "C"
     ],
     "language": "python",
     "metadata": {},
     "outputs": [
      {
       "metadata": {},
       "output_type": "pyout",
       "prompt_number": 130,
       "text": [
        "matrix([[5, 0, 3, 0],\n",
        "        [0, 1, 0, 0],\n",
        "        [3, 0, 9, 0],\n",
        "        [0, 0, 0, 0]])"
       ]
      }
     ],
     "prompt_number": 130
    },
    {
     "cell_type": "markdown",
     "metadata": {},
     "source": [
      "## sparse representation"
     ]
    },
    {
     "cell_type": "code",
     "collapsed": false,
     "input": [
      "import itertools\n",
      "\n",
      "def sparse_matrix(M):\n",
      "    row_idx = np.arange(M.shape[0])\n",
      "    col_idx = np.arange(M.shape[1])\n",
      "    index   = np.arange(M[M!=0].size)\n",
      "    df      = pd.DataFrame(index=index, columns=[\"i\", \"j\", \"value\"])\n",
      "    \n",
      "    idx = index[0]\n",
      "    for (i,j) in itertools.product(row_idx,col_idx):\n",
      "        if M[i,j] == 0: \n",
      "            continue \n",
      "        df.ix[idx]['i'] = i\n",
      "        df.ix[idx]['j'] = j\n",
      "        df.ix[idx]['value'] = M[i,j]\n",
      "        idx += 1\n",
      "    \n",
      "    return df"
     ],
     "language": "python",
     "metadata": {},
     "outputs": [],
     "prompt_number": 135
    },
    {
     "cell_type": "code",
     "collapsed": false,
     "input": [
      "a = sparse_matrix(A)\n",
      "a"
     ],
     "language": "python",
     "metadata": {},
     "outputs": [
      {
       "html": [
        "<div style=\"max-height:1000px;max-width:1500px;overflow:auto;\">\n",
        "<table border=\"1\" class=\"dataframe\">\n",
        "  <thead>\n",
        "    <tr style=\"text-align: right;\">\n",
        "      <th></th>\n",
        "      <th>i</th>\n",
        "      <th>j</th>\n",
        "      <th>value</th>\n",
        "    </tr>\n",
        "  </thead>\n",
        "  <tbody>\n",
        "    <tr>\n",
        "      <th>0</th>\n",
        "      <td> 0</td>\n",
        "      <td> 1</td>\n",
        "      <td>  2</td>\n",
        "    </tr>\n",
        "    <tr>\n",
        "      <th>1</th>\n",
        "      <td> 0</td>\n",
        "      <td> 2</td>\n",
        "      <td> -1</td>\n",
        "    </tr>\n",
        "    <tr>\n",
        "      <th>2</th>\n",
        "      <td> 1</td>\n",
        "      <td> 0</td>\n",
        "      <td>  1</td>\n",
        "    </tr>\n",
        "    <tr>\n",
        "      <th>3</th>\n",
        "      <td> 2</td>\n",
        "      <td> 2</td>\n",
        "      <td> -3</td>\n",
        "    </tr>\n",
        "  </tbody>\n",
        "</table>\n",
        "</div>"
       ],
       "metadata": {},
       "output_type": "pyout",
       "prompt_number": 136,
       "text": [
        "   i  j value\n",
        "0  0  1     2\n",
        "1  0  2    -1\n",
        "2  1  0     1\n",
        "3  2  2    -3"
       ]
      }
     ],
     "prompt_number": 136
    },
    {
     "cell_type": "code",
     "collapsed": false,
     "input": [
      "b = sparse_matrix(B)\n",
      "b"
     ],
     "language": "python",
     "metadata": {},
     "outputs": [
      {
       "html": [
        "<div style=\"max-height:1000px;max-width:1500px;overflow:auto;\">\n",
        "<table border=\"1\" class=\"dataframe\">\n",
        "  <thead>\n",
        "    <tr style=\"text-align: right;\">\n",
        "      <th></th>\n",
        "      <th>i</th>\n",
        "      <th>j</th>\n",
        "      <th>value</th>\n",
        "    </tr>\n",
        "  </thead>\n",
        "  <tbody>\n",
        "    <tr>\n",
        "      <th>0</th>\n",
        "      <td> 0</td>\n",
        "      <td> 1</td>\n",
        "      <td>  1</td>\n",
        "    </tr>\n",
        "    <tr>\n",
        "      <th>1</th>\n",
        "      <td> 1</td>\n",
        "      <td> 0</td>\n",
        "      <td>  2</td>\n",
        "    </tr>\n",
        "    <tr>\n",
        "      <th>2</th>\n",
        "      <td> 2</td>\n",
        "      <td> 0</td>\n",
        "      <td> -1</td>\n",
        "    </tr>\n",
        "    <tr>\n",
        "      <th>3</th>\n",
        "      <td> 2</td>\n",
        "      <td> 2</td>\n",
        "      <td> -3</td>\n",
        "    </tr>\n",
        "  </tbody>\n",
        "</table>\n",
        "</div>"
       ],
       "metadata": {},
       "output_type": "pyout",
       "prompt_number": 137,
       "text": [
        "   i  j value\n",
        "0  0  1     1\n",
        "1  1  0     2\n",
        "2  2  0    -1\n",
        "3  2  2    -3"
       ]
      }
     ],
     "prompt_number": 137
    },
    {
     "cell_type": "code",
     "collapsed": false,
     "input": [
      "c = sparse_matrix(C)\n",
      "c"
     ],
     "language": "python",
     "metadata": {},
     "outputs": [
      {
       "html": [
        "<div style=\"max-height:1000px;max-width:1500px;overflow:auto;\">\n",
        "<table border=\"1\" class=\"dataframe\">\n",
        "  <thead>\n",
        "    <tr style=\"text-align: right;\">\n",
        "      <th></th>\n",
        "      <th>i</th>\n",
        "      <th>j</th>\n",
        "      <th>value</th>\n",
        "    </tr>\n",
        "  </thead>\n",
        "  <tbody>\n",
        "    <tr>\n",
        "      <th>0</th>\n",
        "      <td> 0</td>\n",
        "      <td> 0</td>\n",
        "      <td> 5</td>\n",
        "    </tr>\n",
        "    <tr>\n",
        "      <th>1</th>\n",
        "      <td> 0</td>\n",
        "      <td> 2</td>\n",
        "      <td> 3</td>\n",
        "    </tr>\n",
        "    <tr>\n",
        "      <th>2</th>\n",
        "      <td> 1</td>\n",
        "      <td> 1</td>\n",
        "      <td> 1</td>\n",
        "    </tr>\n",
        "    <tr>\n",
        "      <th>3</th>\n",
        "      <td> 2</td>\n",
        "      <td> 0</td>\n",
        "      <td> 3</td>\n",
        "    </tr>\n",
        "    <tr>\n",
        "      <th>4</th>\n",
        "      <td> 2</td>\n",
        "      <td> 2</td>\n",
        "      <td> 9</td>\n",
        "    </tr>\n",
        "  </tbody>\n",
        "</table>\n",
        "</div>"
       ],
       "metadata": {},
       "output_type": "pyout",
       "prompt_number": 138,
       "text": [
        "   i  j value\n",
        "0  0  0     5\n",
        "1  0  2     3\n",
        "2  1  1     1\n",
        "3  2  0     3\n",
        "4  2  2     9"
       ]
      }
     ],
     "prompt_number": 138
    },
    {
     "cell_type": "markdown",
     "metadata": {},
     "source": [
      "## input matrices in DB"
     ]
    },
    {
     "cell_type": "code",
     "collapsed": false,
     "input": [
      "# database name\n",
      "db_name = 'matrix_multiply'\n",
      "\n",
      "# dictionary of \"tables\"\n",
      "tables = {}\n",
      "\n",
      "tables['A'] = \"\"\"\n",
      "create table `A` (\n",
      "    `id` int not null auto_increment,\n",
      "    `i` int not null,\n",
      "    `j` int not null,\n",
      "    `value` int not null default 0,\n",
      "    PRIMARY KEY (`id`)\n",
      ") engine=InnoDB;\n",
      "\"\"\"\n",
      "\n",
      "tables['B'] = \"\"\"\n",
      "create table `B` (\n",
      "    `id` int not null auto_increment,\n",
      "    `i` int not null,\n",
      "    `j` int not null,\n",
      "    `value` int not null default 0,\n",
      "    PRIMARY KEY (`id`)\n",
      ") engine=InnoDB;\n",
      "\"\"\""
     ],
     "language": "python",
     "metadata": {},
     "outputs": [],
     "prompt_number": 155
    },
    {
     "cell_type": "code",
     "collapsed": false,
     "input": [
      "print(tables['A'])\n",
      "print(tables['B'])"
     ],
     "language": "python",
     "metadata": {},
     "outputs": [
      {
       "output_type": "stream",
       "stream": "stdout",
       "text": [
        "\n",
        "create table `A` (\n",
        "    `id` int not null auto_increment,\n",
        "    `i` int not null,\n",
        "    `j` int not null,\n",
        "    `value` int not null default 0,\n",
        "    PRIMARY KEY (`id`)\n",
        ") engine=InnoDB;\n",
        "\n",
        "\n",
        "create table `B` (\n",
        "    `id` int not null auto_increment,\n",
        "    `i` int not null,\n",
        "    `j` int not null,\n",
        "    `value` int not null default 0,\n",
        "    PRIMARY KEY (`id`)\n",
        ") engine=InnoDB;\n",
        "\n"
       ]
      }
     ],
     "prompt_number": 156
    },
    {
     "cell_type": "code",
     "collapsed": false,
     "input": [
      "# establish connection\n",
      "connection = MySQLdb.connect(user=\"rwk\", passwd=\"rwkrwk\")\n",
      "cursor     = connection.cursor()\n",
      "cursor.execute(\"DROP DATABASE IF EXISTS %s\" % db_name)\n",
      "cursor.execute(\"CREATE DATABASE %s DEFAULT CHARACTER SET 'utf8'\" % db_name)\n",
      "connection.select_db(db_name)"
     ],
     "language": "python",
     "metadata": {},
     "outputs": [],
     "prompt_number": 157
    },
    {
     "cell_type": "code",
     "collapsed": false,
     "input": [
      "for name, ddl in tables.iteritems():\n",
      "    try:\n",
      "        print(\"Creating table %s: \" % name)\n",
      "        cursor.execute(ddl)\n",
      "    except Exception as e:\n",
      "        print(\"%s\\n\" % e[1])\n",
      "    else:\n",
      "         print(\"OK\")"
     ],
     "language": "python",
     "metadata": {},
     "outputs": [
      {
       "output_type": "stream",
       "stream": "stdout",
       "text": [
        "Creating table A: \n",
        "OK"
       ]
      },
      {
       "output_type": "stream",
       "stream": "stdout",
       "text": [
        "\n",
        "Creating table B: \n",
        "OK"
       ]
      },
      {
       "output_type": "stream",
       "stream": "stdout",
       "text": [
        "\n"
       ]
      }
     ],
     "prompt_number": 158
    },
    {
     "cell_type": "code",
     "collapsed": false,
     "input": [
      "cursor.execute(\"show tables from %s;\" % db_name)\n",
      "cursor.fetchall()"
     ],
     "language": "python",
     "metadata": {},
     "outputs": [
      {
       "metadata": {},
       "output_type": "pyout",
       "prompt_number": 159,
       "text": [
        "(('a',), ('b',))"
       ]
      }
     ],
     "prompt_number": 159
    },
    {
     "cell_type": "code",
     "collapsed": false,
     "input": [
      "cursor.close()\n",
      "connection.close()"
     ],
     "language": "python",
     "metadata": {},
     "outputs": [],
     "prompt_number": 160
    },
    {
     "cell_type": "markdown",
     "metadata": {},
     "source": [
      "add values"
     ]
    },
    {
     "cell_type": "code",
     "collapsed": false,
     "input": [
      "def get_db():\n",
      "    try:\n",
      "        connection = MySQLdb.connect(user=\"rwk\", passwd=\"rwkrwk\", db=db_name)\n",
      "        return connection\n",
      "    except:\n",
      "        raise"
     ],
     "language": "python",
     "metadata": {},
     "outputs": [],
     "prompt_number": 161
    },
    {
     "cell_type": "code",
     "collapsed": false,
     "input": [
      "def build_table(insert_query_template, records, use_many=True):\n",
      "    try:\n",
      "        connection = get_db()\n",
      "        cursor = connection.cursor()\n",
      "        if use_many:\n",
      "            nrows = cursor.executemany(insert_query_template, records)\n",
      "        else:\n",
      "            nrows = 0\n",
      "            for record in records:\n",
      "                cursor.execute(insert_query_template, record)\n",
      "                nrows += 1\n",
      "        connection.commit()\n",
      "        connection.close()\n",
      "    except Exception as e:\n",
      "        print(e)\n",
      "    else:\n",
      "        print(\"table built successfully with %d rows\" % nrows)\n",
      "    return"
     ],
     "language": "python",
     "metadata": {},
     "outputs": [],
     "prompt_number": 162
    },
    {
     "cell_type": "code",
     "collapsed": false,
     "input": [
      "add_a = \"\"\"\n",
      "INSERT INTO A\n",
      "(\n",
      "    id,\n",
      "    i,\n",
      "    j,\n",
      "    value\n",
      ")\n",
      "VALUES \n",
      "(\n",
      "    %(id)s,\n",
      "    %(i)s,\n",
      "    %(j)s,\n",
      "    %(value)s\n",
      ")\n",
      "\"\"\""
     ],
     "language": "python",
     "metadata": {},
     "outputs": [],
     "prompt_number": 163
    },
    {
     "cell_type": "code",
     "collapsed": false,
     "input": [
      "print(add_a)"
     ],
     "language": "python",
     "metadata": {},
     "outputs": [
      {
       "output_type": "stream",
       "stream": "stdout",
       "text": [
        "\n",
        "INSERT INTO A\n",
        "(\n",
        "    id,\n",
        "    i,\n",
        "    j,\n",
        "    value\n",
        ")\n",
        "VALUES \n",
        "(\n",
        "    %(id)s,\n",
        "    %(i)s,\n",
        "    %(j)s,\n",
        "    %(value)s\n",
        ")\n",
        "\n"
       ]
      }
     ],
     "prompt_number": 164
    },
    {
     "cell_type": "code",
     "collapsed": false,
     "input": [
      "add_b = \"\"\"\n",
      "INSERT INTO B\n",
      "(\n",
      "    id,\n",
      "    i,\n",
      "    j,\n",
      "    value\n",
      ")\n",
      "VALUES \n",
      "(\n",
      "    %(id)s,\n",
      "    %(i)s,\n",
      "    %(j)s,\n",
      "    %(value)s\n",
      ")\n",
      "\"\"\""
     ],
     "language": "python",
     "metadata": {},
     "outputs": [],
     "prompt_number": 165
    },
    {
     "cell_type": "code",
     "collapsed": false,
     "input": [
      "print(add_b)"
     ],
     "language": "python",
     "metadata": {},
     "outputs": [
      {
       "output_type": "stream",
       "stream": "stdout",
       "text": [
        "\n",
        "INSERT INTO B\n",
        "(\n",
        "    id,\n",
        "    i,\n",
        "    j,\n",
        "    value\n",
        ")\n",
        "VALUES \n",
        "(\n",
        "    %(id)s,\n",
        "    %(i)s,\n",
        "    %(j)s,\n",
        "    %(value)s\n",
        ")\n",
        "\n"
       ]
      }
     ],
     "prompt_number": 166
    },
    {
     "cell_type": "code",
     "collapsed": false,
     "input": [
      "a_records = [{\"id\"    : idx+1, \n",
      "              \"i\"     : a.ix[idx].i, \n",
      "              \"j\"     : a.ix[idx].j, \n",
      "              \"value\" : a.ix[idx].value} for idx in a.index]\n",
      "a_records"
     ],
     "language": "python",
     "metadata": {},
     "outputs": [
      {
       "metadata": {},
       "output_type": "pyout",
       "prompt_number": 167,
       "text": [
        "[{'i': 0, 'id': 1, 'j': 1, 'value': 2},\n",
        " {'i': 0, 'id': 2, 'j': 2, 'value': -1},\n",
        " {'i': 1, 'id': 3, 'j': 0, 'value': 1},\n",
        " {'i': 2, 'id': 4, 'j': 2, 'value': -3}]"
       ]
      }
     ],
     "prompt_number": 167
    },
    {
     "cell_type": "code",
     "collapsed": false,
     "input": [
      "b_records = [{\"id\"    : idx+1, \n",
      "              \"i\"     : b.ix[idx].i, \n",
      "              \"j\"     : b.ix[idx].j, \n",
      "              \"value\" : b.ix[idx].value} for idx in b.index]\n",
      "b_records"
     ],
     "language": "python",
     "metadata": {},
     "outputs": [
      {
       "metadata": {},
       "output_type": "pyout",
       "prompt_number": 168,
       "text": [
        "[{'i': 0, 'id': 1, 'j': 1, 'value': 1},\n",
        " {'i': 1, 'id': 2, 'j': 0, 'value': 2},\n",
        " {'i': 2, 'id': 3, 'j': 0, 'value': -1},\n",
        " {'i': 2, 'id': 4, 'j': 2, 'value': -3}]"
       ]
      }
     ],
     "prompt_number": 168
    },
    {
     "cell_type": "code",
     "collapsed": false,
     "input": [
      "build_table(add_a, a_records)"
     ],
     "language": "python",
     "metadata": {},
     "outputs": [
      {
       "output_type": "stream",
       "stream": "stdout",
       "text": [
        "table built successfully with 4 rows\n"
       ]
      }
     ],
     "prompt_number": 169
    },
    {
     "cell_type": "code",
     "collapsed": false,
     "input": [
      "build_table(add_b, b_records)"
     ],
     "language": "python",
     "metadata": {},
     "outputs": [
      {
       "output_type": "stream",
       "stream": "stdout",
       "text": [
        "table built successfully with 4 rows\n"
       ]
      }
     ],
     "prompt_number": 170
    },
    {
     "cell_type": "markdown",
     "metadata": {},
     "source": [
      "## multiply with SQL"
     ]
    },
    {
     "cell_type": "raw",
     "metadata": {},
     "source": [
      "mysql> select * from a;\n",
      "+----+---+---+-------+\n",
      "| id | i | j | value |\n",
      "+----+---+---+-------+\n",
      "|  1 | 0 | 1 |     2 |\n",
      "|  2 | 0 | 2 |    -1 |\n",
      "|  3 | 1 | 0 |     1 |\n",
      "|  4 | 2 | 2 |    -3 |\n",
      "+----+---+---+-------+\n",
      "4 rows in set (0.00 sec)\n",
      "\n",
      "mysql> select * from b;\n",
      "+----+---+---+-------+\n",
      "| id | i | j | value |\n",
      "+----+---+---+-------+\n",
      "|  1 | 0 | 1 |     1 |\n",
      "|  2 | 1 | 0 |     2 |\n",
      "|  3 | 2 | 0 |    -1 |\n",
      "|  4 | 2 | 2 |    -3 |\n",
      "+----+---+---+-------+\n",
      "4 rows in set (0.00 sec)\n",
      "\n",
      "mysql> select a.i as i, b.j as j, sum(a.value*b.value) as c from a inner join b on a.j=b.i group by a.i, b.j;\n",
      "+---+---+------+\n",
      "| i | j | c    |\n",
      "+---+---+------+\n",
      "| 0 | 0 |    5 |\n",
      "| 0 | 2 |    3 |\n",
      "| 1 | 1 |    1 |\n",
      "| 2 | 0 |    3 |\n",
      "| 2 | 2 |    9 |\n",
      "+---+---+------+\n",
      "5 rows in set (0.00 sec)"
     ]
    }
   ],
   "metadata": {}
  }
 ]
}