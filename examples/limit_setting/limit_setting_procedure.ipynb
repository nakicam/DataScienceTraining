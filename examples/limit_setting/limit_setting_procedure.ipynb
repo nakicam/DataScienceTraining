{
 "cells": [
  {
   "cell_type": "markdown",
   "metadata": {},
   "source": [
    "# Limit Setting Procedure for my Thesis\n",
    "\n",
    "Here is brief summary of how the limit setting procedure is done."
   ]
  },
  {
   "cell_type": "markdown",
   "metadata": {},
   "source": [
    "#### tex setup\n",
    "$ \\newcommand{\\prob}{\\mathbb{P}} $\n",
    "$ \\newcommand{\\like}{\\mathcal{L}} $\n",
    "$ \\newcommand{\\data}{\\text{data}} $\n",
    "$ \\newcommand{\\CL}{\\text{CL}} $\n",
    "$ \\newcommand{\\CLs}{\\text{CLs}} $\n",
    "\n",
    "\\begin{array}{lcl}\n",
    "\\text{\\prob    } & \\rightarrow & \\prob    \\\\\n",
    "\\text{\\like    } & \\rightarrow & \\like    \\\\\n",
    "\\text{\\data    } & \\rightarrow & \\data \\\\\n",
    "\\text{\\CL      } & \\rightarrow & \\CL \\\\\n",
    "\\text{\\CLs     } & \\rightarrow & \\CL_s \\\\\n",
    "\\end{array}"
   ]
  },
  {
   "cell_type": "markdown",
   "metadata": {},
   "source": [
    "## Upper Limits with Poisson Statistics\n",
    "\n",
    "Frequently the following situation arises in particle physics: An experiment looks for a possible signal arising from a hypothetical 'new' process.  We assume that counting events yeilds a small number N, statistically compatible with the average number of background events $B$ expectef from the known processes.  Thus, there is no hint for anything new.  To quantify this, the experimental result needs to be translated into an upper limit on the *cross-section* $\\sigma$ (or flux or cross-section $\\times$ braching ratio or $\\dots$) for the hypothetical new process (neglecting interference effets).  The expected average number of new events $S$ is related to $\\sigma$ through the 'effieciency' (or acceptance or effiencey \\times luminosity or $\\dots).\n",
    "\n",
    "$$S = \\epsilon \\cdot \\sigma$$\n",
    "\n",
    "Thus the total number of expected events is on average\n",
    "\n",
    "$$T = \\epsilon \\cdot \\sigma + B = S + B.$$\n",
    "\n",
    "There is no universal accepted method to calcualte the upper limit on $\\sigma$ for a given confidence level, denoted $\\sigma^{CL}$ (e.g. \\sigma^{95\\%}).\n",
    "\n",
    "Here I refer to the Bayesian approach assuming a flat prior distribution.  The limit $\\sigma^{CL}$ can be calculated from \n",
    "\n",
    "$$\\CL = \\frac{\\int_0^{\\sigma^{\\CL}} p(N, \\epsilon \\cdot \\sigma + B)\\ d\\sigma}{\\int_0^\\infty p(N, \\epsilon \\cdot \\sigma + B)\\ d\\sigma}$$\n",
    "\n",
    "If one assume Poisson"
   ]
  },
  {
   "cell_type": "markdown",
   "metadata": {},
   "source": [
    "## Limits\n",
    "\n",
    "In the following subsections, the expected *signal* event yields will be generically denoted as $s$, backgrounds as $b$.  *Signal* can refer to the interesting physics that is not part of the Standard Model (SM) and *background* means vanilla flavored SM physics.  These will stand for event counts in one or multiple bins or for unbinned probability density functions, whichever approach is used in an analysis. Predictions for both signal and background yields, prior to the scrutiny of the data entering the statistical analysis, are subject to multiple uncertainties that are handled by introducing nuisance parameters $\\theta$, so that signal and background expectations become functions of the nuisances: $s(\\theta)$ and $b(\\theta)$. The actual observed events will be denoted as data or observation.\n",
    "\n",
    "In addition, in an analysis targeting a specific signal production mechanism and a particular decay mode, one can also set approximately model-independent limits on signal cross section times branching ratio ($\\sigma \\times BR$) or somewhat better defined limits on cross section times branching ratio times experimental acceptance ($\\sigma \\times BR \\times A$). The latter are less useful for testing various theories unless a model of the experimental acceptance $A$ is also provided.\n",
    "\n",
    "In a combination of multiple analyses sensitive to different signal production mechanisms and different decay modes, presenting results in a form of limits on $\\sigma × BR$ or $\\sigma \\times BR \\times A$ is impossible. The customary alternative for SM Higgs searches is to set limits on a common signal strength modifier $\\mu$ that is taken to change the cross sections of all production mechanisms by exactly the same scale. Decay branching ratios are assumed to be those given by the Standard Model. The Standard Model Higgs is said to be excluded at, say, $95\\%$ C.L., when the 95% C.L. limit on $\\mu$ drops to one, i.e. $\\mu_{95\\%CL} = 1$. In the next sub-sections, we will follow this convention and discuss limits on the common signal strength modifier $\\mu$."
   ]
  },
  {
   "cell_type": "markdown",
   "metadata": {},
   "source": [
    "## $\\CL_s$ method"
   ]
  },
  {
   "cell_type": "markdown",
   "metadata": {},
   "source": [
    "* Let $H_0$ be the null hypothesis $\\rightarrow$ SM background only\n",
    "* Let $H_1$ be the althernative hypothesis $\\rightarrow$ Higgs Boson of mass $m$ or Susy Model with certain parameters\n",
    "\n",
    "A consequence of the [Neyman-Pearson](https://en.wikipedia.org/wiki/Neyman%E2%80%93Pearson_lemma) lemma is that if $H_0$ is the null hypothesis (background only) and $H_1$ is the alternate hypothesis (say, a Higgs Boson with a mass m) then the most powerful test statistic one can construct (in absence of systematics) is the Likelihood ratio\n",
    "\n",
    "$$Q(m) = \\frac{\\like(H_1)}{\\like(H_0)} = \\frac{\\like(s(m) + b)}{\\like(b)}$$\n",
    "\n",
    "or a number of reasons, the actual quantity used is a logarithm of the ratio, or more accurately, $−2\\ln Q$:\n",
    "\n",
    "$$ q_{\\mu} = -2 \\ln \\frac{\\like(\\data |\\ \\mu s + b)}{\\like(\\data |\\ b)},$$\n",
    "\n",
    "where $\\like(\\data | \\text{rate})$ is is simply a product of Poisson probabilities for number of either observed or simulated events in each sub-channel, given the expected signal and back-ground rates. One can see that events with $q_{\\mu} > 0$ are more likely to appear under the *background-only* hypothesis than the *background + signal* assumption.\n",
    "\n",
    "It is to be noted that this test statistic was used by LEP and the Tevatron, but not at the LHC, where the profile-likelihood test statistic $\\tilde{q}_{\\mu}$ is used  due to its known asymptotic properties. At the time of LEP, the so-called modified frequentist approach was introduced with the same goal to “protect” our judgement on a very weak signal strength when downward fluctuations occur. In this method, in addition to $\\CL_{s+b} = \\prob(q_{\\mu} \\geq q_{\\mu}^{\\data} | \\mu s + b)$, one also calculates $\\CL_{b} = \\prob(q_{\\mu} \\geq q_{\\mu}^{\\data} | b)$, by “tossing” pseudo-data for *background-only* event rate, and, then calculates the quantity $\\CLs$ as the ratio of these two probabilities:\n",
    "\n",
    "$$\\CLs = \\frac{\\CL_{s+b}}{\\CL_b}$$\n",
    "\n",
    "In the modified frequentist approach, it is this value, $\\CLs$, that is required to be less than or equal to 0.05 in order to declare the 95% C.L. exclusion. By construction, the $\\CLs$-based limits are one-sided. The price of the protection from background downward fluctuations is a gradual increase in the over-coverage as one observes fewer and fewer events. For an observation right on the top of the background-only expectation ($CL_b$ ∼ 0.5), $CL_s$ is about twice as large as $CL_{s+b}$. The modified frequentist approach is among the three methods described in the PDG.\n",
    "\n",
    "\n",
    "### For this problem\n",
    "\n",
    "Formally we construct a likelihood function, i.e.,\n",
    "\n",
    "$$\\like(\\data | \\mu, \\theta) = \\prob\\left(\\data | \\mu \\cdot s(\\theta) + b(\\theta)\\right)\\cdot p(\\hat{\\theta}|\\theta),$$\n",
    "\n",
    "Where \"data\" represents the observed yields, and $\\prob(\\data| \\mu, \\theta)$ represents the product of probabilities to observe $n_i$ events in the $i$th signal region (recall, we broke our results into signal regions to maximize sensitivity), i.e.,\n",
    "\n",
    "$$\\prob\\left(\\data | \\mu \\cdot s(\\theta) + b(\\theta)\\right) = \\prod_i \\frac{\\left(\\mu s_i + b_i\\right)^{n_i}}{n_i!}e^{-\\mu s_i - b_i}.$$\n",
    "\n",
    "Here, the parameter $\\mu$ represents our signal strength modifier and corresponds to $\\sigma \\times BR$ in the context of the CMS Simplified Model interpretations. The parameter θ denotes the collection of nuisance parameters that can influence the values of $b$ and $s$. Log-normal pdf’s are assumed for the signal and background nuisance parameters. These are taken to be either 0% or 100% correlated where appropriate. The profile likelihood ratio is used to test the compatibility of the observed data with the background-only and signal+background hypotheses."
   ]
  },
  {
   "cell_type": "markdown",
   "metadata": {},
   "source": [
    "### example from my thesis\n",
    "\n",
    "Practice $\\CL_s$ for one point in T6ttWW model with\n",
    "\n",
    "* $m_{\\tilde{b}}$ = 600 GeV\n",
    "* $m_{\\tilde{\\chi}^{\\pm}}$ = 150 GeV\n",
    "* $m_{\\tilde{\\chi}^0}$ = 50 GeV\n",
    "\n",
    "Here, \n",
    "* $s = \\mathcal{L} \\times A \\times \\epsilon$ estimated from MC simulation\n",
    "* $B = $ estimated SM background events from MC and data-driven simulation\n",
    "* $N_{obs} = 2$ observed number of events from the LHC\n",
    "\n",
    "So $S = \\mu \\times s$ is the number of signal events so $\\mu$ is interpreted as the cross-section."
   ]
  },
  {
   "cell_type": "code",
   "execution_count": 51,
   "metadata": {
    "collapsed": false
   },
   "outputs": [],
   "source": [
    "import numpy as np\n",
    "import matplotlib.pyplot as plt\n",
    "\n",
    "# plotting options\n",
    "%matplotlib inline\n",
    "np.set_printoptions(precision=4, linewidth=120)\n",
    "plt.rc('font'  , size=18)\n",
    "plt.rc('figure', figsize=(10, 8))\n",
    "plt.rc('axes'  , labelsize=22)\n",
    "plt.rc('legend', fontsize=16)"
   ]
  },
  {
   "cell_type": "code",
   "execution_count": 13,
   "metadata": {
    "collapsed": true
   },
   "outputs": [],
   "source": [
    "def LogLikelihoodRatio(n, s, b):\n",
    "    lambda_sb = s + b\n",
    "    lambda_b  = b\n",
    "    \n",
    "    # evaluate PDFs\n",
    "    from scipy.stats import poisson\n",
    "    L_sb = poisson.pmf(n, lambda_sb)\n",
    "    L_b  = poisson.pmf(n, lambda_b )\n",
    "    \n",
    "    return - 2.0 * np.log(L_sb/L_b)"
   ]
  },
  {
   "cell_type": "code",
   "execution_count": 127,
   "metadata": {
    "collapsed": true
   },
   "outputs": [],
   "source": [
    "## bootstrap to find the PDF for the test statistics\n",
    "def fill_qsb(mu, s, B, M):\n",
    "    from scipy.stats import poisson\n",
    "    S      = mu*s\n",
    "    n_toys = poisson.rvs(S+B, size=M)\n",
    "    q_mus  = LogLikelihoodRatio(n_toys, S, B)\n",
    "    return q_mus\n",
    "\n",
    "def fill_qb(mu, s, B, M):\n",
    "    from scipy.stats import poisson\n",
    "    S      = mu*s\n",
    "    n_toys = poisson.rvs(B, size=M)\n",
    "    q_mus  = LogLikelihoodRatio(n_toys, S, B)\n",
    "    return q_mus"
   ]
  },
  {
   "cell_type": "code",
   "execution_count": 128,
   "metadata": {
    "collapsed": false
   },
   "outputs": [],
   "source": [
    "def integrate_q(q_obs, q_sb):\n",
    "    h, bins  = np.histogram(q_sb, range=(-25, 25), bins=500, density=True)\n",
    "    mask     = (bins > q_obs)[0:-1]\n",
    "    return np.sum(h[mask])"
   ]
  },
  {
   "cell_type": "code",
   "execution_count": 170,
   "metadata": {
    "collapsed": false
   },
   "outputs": [],
   "source": [
    "# script parameters\n",
    "mu_min = 0.0\n",
    "mu_max = 60\n",
    "dmu    = 0.1\n",
    "mus    = np.arange(mu_min, mu_max+dmu, dmu)\n",
    "n_mus  = len(mus)\n",
    "mus.shape\n",
    "\n",
    "M = 1e4 # number of toys to run"
   ]
  },
  {
   "cell_type": "code",
   "execution_count": 171,
   "metadata": {
    "collapsed": true
   },
   "outputs": [],
   "source": [
    "# inputs\n",
    "s     = 0.10279\n",
    "B     = 2.14\n",
    "N_obs = 2"
   ]
  },
  {
   "cell_type": "code",
   "execution_count": 172,
   "metadata": {
    "collapsed": false
   },
   "outputs": [],
   "source": [
    "S     = mus*s\n",
    "q_obs = LogLikelihoodRatio(N_obs, S, B)"
   ]
  },
  {
   "cell_type": "code",
   "execution_count": 173,
   "metadata": {
    "collapsed": false
   },
   "outputs": [],
   "source": [
    "q_sb = np.array([fill_qsb(mu, s, B, M) for mu in mus])\n",
    "q_b  = np.array([fill_qb (mu, s, B, M) for mu in mus])"
   ]
  },
  {
   "cell_type": "code",
   "execution_count": 174,
   "metadata": {
    "collapsed": false
   },
   "outputs": [
    {
     "name": "stderr",
     "output_type": "stream",
     "text": [
      "/usr/local/lib/python2.7/site-packages/ipykernel/__main__.py:3: RuntimeWarning: invalid value encountered in divide\n",
      "  app.launch_new_instance()\n"
     ]
    }
   ],
   "source": [
    "cl_sb = np.array([integrate_q(q_obs[i], q_sb[i]) for i in range(n_mus)])\n",
    "cl_b  = np.array([integrate_q(q_obs[i], q_b[i] ) for i in range(n_mus)])\n",
    "cl_s  = np.nan_to_num(cl_sb/cl_b)"
   ]
  },
  {
   "cell_type": "code",
   "execution_count": 177,
   "metadata": {
    "collapsed": false
   },
   "outputs": [
    {
     "data": {
      "text/plain": [
       "<matplotlib.text.Text at 0x113b6f410>"
      ]
     },
     "execution_count": 177,
     "metadata": {},
     "output_type": "execute_result"
    },
    {
     "data": {
      "image/png": "[encoded data removed]",
      "text/plain": [
       "<matplotlib.figure.Figure at 0x113b8ea10>"
      ]
     },
     "metadata": {},
     "output_type": "display_data"
    }
   ],
   "source": [
    "import fit\n",
    "(xf, yf), p, e, chi = fit.fit(fit.expo, mus[5:], cl_s[5:])\n",
    "plt.plot(mus, cl_s, 'b-')\n",
    "plt.plot(xf, yf, 'r--', lw=2)\n",
    "plt.plot(mus, 0.05*np.ones_like(mus), 'g--')\n",
    "plt.grid()\n",
    "plt.ylim(0, 1)\n",
    "plt.xlim(mu_min, mu_max)\n",
    "plt.xlabel(r'$\\mu$')\n",
    "plt.ylabel(r'${\\rm CL}_s$')"
   ]
  },
  {
   "cell_type": "code",
   "execution_count": 178,
   "metadata": {
    "collapsed": false
   },
   "outputs": [
    {
     "data": {
      "text/plain": [
       "38.322789058566869"
      ]
     },
     "execution_count": 178,
     "metadata": {},
     "output_type": "execute_result"
    }
   ],
   "source": [
    "# total kludge\n",
    "mu_95 = xf[yf < 0.05][0]\n",
    "mu_95"
   ]
  },
  {
   "cell_type": "code",
   "execution_count": null,
   "metadata": {
    "collapsed": true
   },
   "outputs": [],
   "source": []
  }
 ],
 "metadata": {
  "kernelspec": {
   "display_name": "Python 2",
   "language": "python",
   "name": "python2"
  },
  "language_info": {
   "codemirror_mode": {
    "name": "ipython",
    "version": 2
   },
   "file_extension": ".py",
   "mimetype": "text/x-python",
   "name": "python",
   "nbconvert_exporter": "python",
   "pygments_lexer": "ipython2",
   "version": "2.7.11"
  }
 },
 "nbformat": 4,
 "nbformat_minor": 0
}
