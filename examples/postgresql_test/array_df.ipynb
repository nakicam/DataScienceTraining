{
 "metadata": {
  "name": "",
  "signature": "sha256:f9e6bdd429eb3eed51980fdb252a17c49681a7f199fe8a3d358bd35c85599c0e"
 },
 "nbformat": 3,
 "nbformat_minor": 0,
 "worksheets": [
  {
   "cells": [
    {
     "cell_type": "code",
     "collapsed": false,
     "input": [
      "import psycopg2\n",
      "import psycopg2.extras\n",
      "import sys\n",
      "\n",
      "\n",
      "con = None\n",
      "\n",
      "try:\n",
      "     \n",
      "    conn = psycopg2.connect(\"dbname='postgres' user='rwk7t'\")   \n",
      "    cursor = conn.cursor(cursor_factory=psycopg2.extras.DictCursor)\n",
      "    cursor.execute(\"SELECT * FROM weather\")    \n",
      "    rows = cursor.fetchall()\n",
      "\n",
      "    for row in rows:\n",
      "        print row   \n",
      "\n",
      "except psycopg2.DatabaseError, e:\n",
      "    print 'Error %s' % e    \n",
      "    sys.exit(1)\n",
      "    \n",
      "    \n",
      "finally:\n",
      "    \n",
      "    if conn:\n",
      "        conn.close()"
     ],
     "language": "python",
     "metadata": {},
     "outputs": [
      {
       "output_type": "stream",
       "stream": "stdout",
       "text": [
        "['San Francisco', [[1, 2, 3], [3, 4, 5], [7, 8, 9]]]\n",
        "['San Diego', [[1, 2, 3], [3, 4, 5]]]\n"
       ]
      }
     ],
     "prompt_number": 35
    },
    {
     "cell_type": "code",
     "collapsed": false,
     "input": [
      "import pandas.io.sql as psql\n",
      "conn = psycopg2.connect(\"dbname='postgres' user='rwk7t'\") \n",
      "df = psql.read_sql(\"SELECT * FROM weather\", con=conn)\n",
      "conn.close()\n",
      "df"
     ],
     "language": "python",
     "metadata": {},
     "outputs": [
      {
       "html": [
        "<div style=\"max-height:1000px;max-width:1500px;overflow:auto;\">\n",
        "<table border=\"1\" class=\"dataframe\">\n",
        "  <thead>\n",
        "    <tr style=\"text-align: right;\">\n",
        "      <th></th>\n",
        "      <th>city</th>\n",
        "      <th>test</th>\n",
        "    </tr>\n",
        "  </thead>\n",
        "  <tbody>\n",
        "    <tr>\n",
        "      <th>0</th>\n",
        "      <td>San Francisco</td>\n",
        "      <td>[[1, 2, 3], [3, 4, 5], [7, 8, 9]]</td>\n",
        "    </tr>\n",
        "    <tr>\n",
        "      <th>1</th>\n",
        "      <td>San Diego</td>\n",
        "      <td>[[1, 2, 3], [3, 4, 5]]</td>\n",
        "    </tr>\n",
        "  </tbody>\n",
        "</table>\n",
        "</div>"
       ],
       "metadata": {},
       "output_type": "pyout",
       "prompt_number": 23,
       "text": [
        "            city                               test\n",
        "0  San Francisco  [[1, 2, 3], [3, 4, 5], [7, 8, 9]]\n",
        "1      San Diego             [[1, 2, 3], [3, 4, 5]]"
       ]
      }
     ],
     "prompt_number": 23
    },
    {
     "cell_type": "code",
     "collapsed": false,
     "input": [
      "df.test"
     ],
     "language": "python",
     "metadata": {},
     "outputs": [
      {
       "metadata": {},
       "output_type": "pyout",
       "prompt_number": 33,
       "text": [
        "0    [[1, 2, 3], [3, 4, 5], [7, 8, 9]]\n",
        "1               [[1, 2, 3], [3, 4, 5]]\n",
        "Name: test, dtype: object"
       ]
      }
     ],
     "prompt_number": 33
    },
    {
     "cell_type": "code",
     "collapsed": false,
     "input": [
      "type(df.test[0])"
     ],
     "language": "python",
     "metadata": {},
     "outputs": [
      {
       "metadata": {},
       "output_type": "pyout",
       "prompt_number": 29,
       "text": [
        "list"
       ]
      }
     ],
     "prompt_number": 29
    },
    {
     "cell_type": "code",
     "collapsed": false,
     "input": [
      "df.test = df.test.apply(lambda x : np.array(x))\n",
      "df.test"
     ],
     "language": "python",
     "metadata": {},
     "outputs": [
      {
       "metadata": {},
       "output_type": "pyout",
       "prompt_number": 34,
       "text": [
        "0    [[1, 2, 3], [3, 4, 5], [7, 8, 9]]\n",
        "1               [[1, 2, 3], [3, 4, 5]]\n",
        "Name: test, dtype: object"
       ]
      }
     ],
     "prompt_number": 34
    }
   ],
   "metadata": {}
  }
 ]
}