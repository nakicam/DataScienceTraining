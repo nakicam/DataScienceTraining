{
 "metadata": {
  "name": "",
  "signature": "sha256:b20b80b54b89e03f2df6f7959a9330ce07387e29182e1882d02870ba6be02d3c"
 },
 "nbformat": 3,
 "nbformat_minor": 0,
 "worksheets": [
  {
   "cells": [
    {
     "cell_type": "markdown",
     "metadata": {},
     "source": [
      "# Lathi Chapter 4: Fourier Transforms\n",
      "\n",
      "This is not a complete treatment but a cherry pick of important topics from Fourier Transforms from Lathi's *Linear Signals and Systems, 1st Edition*."
     ]
    },
    {
     "cell_type": "markdown",
     "metadata": {},
     "source": [
      "#### notebook setup"
     ]
    },
    {
     "cell_type": "code",
     "collapsed": false,
     "input": [
      "import itertools as it\n",
      "import numpy as np\n",
      "import pandas as pd\n",
      "import matplotlib.pyplot as plt\n",
      "import scipy.stats as st\n",
      "import scipy.misc\n",
      "import scipy.optimize as op\n",
      "import random\n",
      "from IPython.display import display, Math, Latex\n",
      "import os\n",
      "os.chdir('%s/examples/sigsys_studies' % os.getenv('DST'))\n",
      "print(os.getcwd())\n",
      "\n",
      "# plotting options\n",
      "np.set_printoptions(precision=4, linewidth=120)\n",
      "plt.rc('font'  , size=18)\n",
      "plt.rc('figure', figsize=(10, 8))\n",
      "plt.rc('axes'  , labelsize=22)\n",
      "plt.rc('legend', fontsize=16)\n",
      "\n",
      "np.set_printoptions(precision=4)\n",
      "plt.rc('figure', figsize=(10, 8))"
     ],
     "language": "python",
     "metadata": {},
     "outputs": [
      {
       "output_type": "stream",
       "stream": "stdout",
       "text": [
        "/Users/rwk7t/Development/dst/examples/sigsys_studies\n"
       ]
      }
     ],
     "prompt_number": 1
    },
    {
     "cell_type": "markdown",
     "metadata": {},
     "source": [
      "#### tex setup\n",
      "$ \\newcommand{\\sinc}{\\operatorname{sinc}} $\n",
      "$ \\newcommand{\\rect}{\\operatorname{rect}} $\n",
      "$ \\newcommand{\\jwt}{j \\omega t} $\n",
      "$ \\newcommand{\\jwot}{j \\omega_0 t} $\n",
      "$ \\newcommand{\\epjwt}{e^{+\\jwt}} $\n",
      "$ \\newcommand{\\emjwt}{e^{-\\jwt}} $\n",
      "$ \\newcommand{\\epjwot}{e^{+\\jwot}} $\n",
      "$ \\newcommand{\\emjwot}{e^{-\\jwot}} $\n",
      "$ \\newcommand{\\intinf}{\\int_{-\\infty}^{+\\infty}} $\n",
      "$ \\newcommand{\\half}{\\frac{1}{2}} $\n",
      "$ \\newcommand{\\twopi}{2 \\pi} $\n",
      "$ \\newcommand{\\ootwopi}{\\frac{1}{\\twopi}} $"
     ]
    },
    {
     "cell_type": "markdown",
     "metadata": {},
     "source": [
      "## Fourier Transform Definition"
     ]
    },
    {
     "cell_type": "markdown",
     "metadata": {},
     "source": [
      "It is known that one can represent a periodic signal with a Fourier Series (FS) under qualifiying assumptions; however, what do you do in the case where the function is aperiodic?  Consider the function $f(t)$ below:"
     ]
    },
    {
     "cell_type": "code",
     "collapsed": false,
     "input": [
      "def f(t):\n",
      "    result = -5*t**2 + 5.0\n",
      "    result[result < 0] = 0.0\n",
      "    return result\n",
      "\n",
      "t = np.linspace(-5, 5, 100)\n",
      "plt.plot(t, f(t))\n",
      "plt.xlabel(\"$t$\")\n",
      "plt.ylabel(\"$f(t)$\")\n",
      "plt.axis([-5, 5, -10, 10])\n",
      "plt.show()"
     ],
     "language": "python",
     "metadata": {},
     "outputs": [
      {
       "metadata": {},
       "output_type": "display_data",
       "png": "[encoded data removed]",
       "text": [
        "<matplotlib.figure.Figure at 0x10d46a490>"
       ]
      }
     ],
     "prompt_number": 2
    },
    {
     "cell_type": "markdown",
     "metadata": {},
     "source": [
      "You can represent this signal with a FS if you construct a periodic extension of $f(t)$"
     ]
    },
    {
     "cell_type": "code",
     "collapsed": false,
     "input": [
      "T0 = 3.0    \n",
      "t  = np.linspace(-5, 5, 100)\n",
      "plt.plot(t, f(t) + f(t-T0) + f(t+T0))\n",
      "plt.xlabel(\"$t$\")\n",
      "plt.ylabel(\"$f_{T_0}(t)$\")\n",
      "plt.axis([-5, 5, -10, 10])\n",
      "plt.show()"
     ],
     "language": "python",
     "metadata": {},
     "outputs": [
      {
       "metadata": {},
       "output_type": "display_data",
       "png": "[encoded data removed]",
       "text": [
        "<matplotlib.figure.Figure at 0x10d46a4d0>"
       ]
      }
     ],
     "prompt_number": 3
    },
    {
     "cell_type": "markdown",
     "metadata": {},
     "source": [
      "In the limit that $T_0 \\rightarrow \\infty$, the FS of $f_{T_0}$ becomes the Fourier Integral or **Fourier Transform** (FT) of $f(t)$.  \n",
      "\n",
      "\\begin{align}\n",
      "F(\\omega) = \\int_{-\\infty}^{\\infty} dt\\ f(t) e^{-j \\omega t}\n",
      "\\end{align}\n",
      "\n",
      "and $f(t)$ is recovered with the *inverse Fourier Transform* \n",
      "\n",
      "\\begin{align}\n",
      "f(t) = \\frac{1}{2\\pi} \\int_{-\\infty}^{\\infty} d\\omega\\ F(\\omega) e^{+j \\omega t}\n",
      "\\end{align}\n",
      "\n",
      "It is said that $f(t)$ and $F(\\omega)$ form a transform pair and can be symbolically expressed as \n",
      "\n",
      "$$F(\\omega) = \\mathcal{F}\\left[f(t)\\right]$$\n",
      "\n",
      "and \n",
      "\n",
      "$$f(t) = \\mathcal{F}^{-1}\\left[F(\\omega)\\right]$$\n",
      "\n",
      "or, more compactly\n",
      "\n",
      "$$f(t) \\Longleftrightarrow F(\\omega)$$"
     ]
    },
    {
     "cell_type": "markdown",
     "metadata": {},
     "source": [
      "#### example 4.1\n",
      "\n",
      "Find the FT of $e^{-at}u(t)$.\n",
      "\n",
      "\\begin{align}\n",
      "F(\\omega) &= \\int_{-\\infty}^{+\\infty} dt\\ f(t) e^{\\jwt} \\\\\n",
      "          &= \\int_{-\\infty}^{+\\infty} dt\\ e^{-at}u(t) e^{-j\\omega t} \\\\\n",
      "          &= \\int_{0}^{+\\infty} dt\\ e^{-(a+j\\omega)t} \\\\\n",
      "          &= \\left.\\frac{e^{-(a+j\\omega)t}}{-(a+j\\omega)}\\right|_{0}^{\\infty} \\\\\n",
      "          &= \\frac{1}{a+j\\omega}\\ \\text{ , assuming } a > 0 \\\\\n",
      "\\end{align}\n",
      "\n",
      "Note that this does not converge with $a < 0$.  The result is visualized below."
     ]
    },
    {
     "cell_type": "code",
     "collapsed": false,
     "input": [
      "fig = plt.figure()\n",
      "fig.subplots_adjust(hspace=0.5)\n",
      "\n",
      "t = np.linspace(0,10, 100)\n",
      "a = 0.3\n",
      "f = np.exp(-a*t)\n",
      "\n",
      "ax1 = fig.add_subplot(2, 1, 1)\n",
      "ax1.plot(t, f)\n",
      "ax1.axis([0, 10, 0, 1.5])\n",
      "ax1.spines['right'].set_visible(False)\n",
      "ax1.spines['top'  ].set_visible(False)\n",
      "ax1.xaxis.set_ticks_position('bottom')\n",
      "ax1.yaxis.set_ticks_position('left')\n",
      "ax1.yaxis.set_ticks([0, 1])\n",
      "ax1.set_xlabel(\"$t \\\\rightarrow$\")\n",
      "ax1.set_ylabel(\"$f(t)$\")\n",
      "ax1.text(8, 0.2, r'$e^{-at}u(t)$')\n",
      "\n",
      "w = np.linspace(-3, 3, 100)\n",
      "F = 1.0/(a + 1j*w)\n",
      "F_mag = np.absolute(F)\n",
      "F_arg = np.angle(F)\n",
      "\n",
      "ax2 = fig.add_subplot(2, 1, 2)\n",
      "ax2.plot(w, F_mag)\n",
      "ax2.plot(w, F_arg, 'k--')\n",
      "ax2.axis([-3, 3, -0.5*np.pi, 1.5/a])\n",
      "ax2.spines['right' ].set_visible(False)\n",
      "ax2.spines['top'   ].set_visible(False)\n",
      "ax2.spines['left'  ].set_position('center')\n",
      "ax2.spines['bottom'].set_position('zero')\n",
      "ax2.xaxis.set_ticks_position('bottom')\n",
      "ax2.set_xlabel(r\"$\\omega \\rightarrow$\")\n",
      "ax2.xaxis.set_ticks([-3, 3])\n",
      "ax2.xaxis.set_label_coords(0.7, 0.2)\n",
      "ax2.yaxis.set_ticks([-0.5*np.pi, 0, +0.5*np.pi, 1.0/a])\n",
      "ax2.yaxis.set_ticks_position('left')\n",
      "ax2.yaxis.set_ticklabels(['$-\\\\frac{\\\\pi}{2}$', '0', '$\\\\frac{\\\\pi}{2}$', '$\\\\frac{1}{a}$'])\n",
      "ax2.set_title(\"$F(\\\\omega)$\")\n",
      "ax2.text(2, 0.65, r'$|F(\\omega)|$')\n",
      "ax2.text(2, -1  , r'$\\angle F(\\omega)$')\n",
      "\n",
      "plt.show()"
     ],
     "language": "python",
     "metadata": {},
     "outputs": [
      {
       "metadata": {},
       "output_type": "display_data",
       "png": "[encoded data removed]",
       "text": [
        "<matplotlib.figure.Figure at 0x1103aad50>"
       ]
      }
     ],
     "prompt_number": 4
    },
    {
     "cell_type": "markdown",
     "metadata": {},
     "source": [
      "## Properties of the FT"
     ]
    },
    {
     "cell_type": "markdown",
     "metadata": {},
     "source": [
      "### Conjugate Symmetry: \n",
      "\n",
      "if $f(t) \\in \\mathbb{R}$, then $F(-\\omega) = F(\\omega)^*$\n",
      "\n",
      "**proof**:\n",
      "\n",
      "\\begin{align}\n",
      "F(-\\omega)&= \\int_{-\\infty}^{+\\infty} dt\\ f(t) e^{+j\\omega t} \\\\\n",
      "&= \\left\\{\\int_{-\\infty}^{+\\infty} dt\\ f(t) e^{+j\\omega t}\\right\\}^* \\\\\n",
      "&= F(\\omega)^*\n",
      "\\end{align}\n",
      "\n",
      "Thus, for real $f(t)$, the amplitude spectrum $|F(\\omega)|$ is an even function and the phase $\\angle F(\\omega)$ is an odd function (as seen in the example above)."
     ]
    },
    {
     "cell_type": "markdown",
     "metadata": {},
     "source": [
      "### Linearity\n",
      "\n",
      "The FT is a linear operation.\n",
      "\n",
      "\\begin{align}\n",
      "a_1 f_1(t) + a_2 f_2(t) \\Longleftrightarrow a_1 F(\\omega) + a_2 F(\\omega)\n",
      "\\end{align}\n",
      "\n",
      "**proof**: trivial..."
     ]
    },
    {
     "cell_type": "markdown",
     "metadata": {},
     "source": [
      "## FT of useful functions"
     ]
    },
    {
     "cell_type": "markdown",
     "metadata": {},
     "source": [
      "### Unit gate function\n",
      "\n",
      "A unit gate function is a \"rectangle\" centered at origin:\n",
      "\n",
      "\\begin{align}\n",
      "\\operatorname{rect}(x) = \n",
      "  \\left\\{\n",
      "  \\begin{aligned}\n",
      "  0           \\qquad |x| > \\frac{1}{2} \\\\\n",
      "  \\frac{1}{2} \\qquad |x| = \\frac{1}{2} \\\\\n",
      "  1           \\qquad |x| < \\frac{1}{2} \\\\\n",
      "  \\end{aligned}\n",
      "  \\right.\n",
      "\\end{align}\n",
      "\n",
      "Taking the FT:\n",
      "\n",
      "\\begin{align}\n",
      "F(\\omega) &= \\int_{-\\infty}^{+\\infty} dt\\ f(t) e^{-j\\omega t} \\\\\n",
      "          &= \\int_{-\\infty}^{+\\infty} dt\\ \\operatorname{rect}(t) e^{-j \\omega t} \\\\\n",
      "          &= \\int_{-\\frac{1}{2}}^{-\\frac{1}{2}} dt\\ e^{-j \\omega t} \\\\\n",
      "          &= \\left.\\frac{e^{-j \\omega t}}{-j \\omega} \\right|_{-\\frac{1}{2}}^{-\\frac{1}{2}} \\\\\n",
      "          &= \\frac{1}{-j 2 \\frac{\\omega}{2}} \\left(e^{-j \\frac{\\omega}{2}} - e^{+j \\frac{\\omega}{2}}\\right) \\\\\n",
      "          &= \\frac{\\sin\\left({\\frac{\\omega}{2}}\\right)}{\\left(\\frac{\\omega}{2}\\right)} \\\\\n",
      "          &= \\sinc\\left({\\frac{\\omega}{2}}\\right)\n",
      "\\end{align}\n",
      "\n",
      "where \n",
      "\n",
      "$$\\operatorname{sinc}(x) = \\frac{\\sin x}{x}$$\n",
      "\n",
      "Some properties on $\\sinc$ are\n",
      "\n",
      "1. $\\sinc(x)$ is even\n",
      "1. $\\sinc(x) = 0$ when $\\sin x = 0$ except at x = 0 where it is one\n",
      "1. $\\sinc(x)$ is the product of an oscillator and an monotonically decreasing function $\\frac{1}{x}$.  Therefor, $\\sinc(x)$ exhibits oscillations with an decreasing amplitude."
     ]
    },
    {
     "cell_type": "markdown",
     "metadata": {},
     "source": [
      "### Dirac Delta function\n",
      "\n",
      "\\begin{align}\n",
      "F(\\omega) &= \\intinf dt\\ \\delta(t) e^{-\\jwt} \\\\\n",
      "          &= e^{- j \\omega 0} \\\\\n",
      "          &= 1 \\\\\n",
      "\\end{align}\n",
      "\n",
      "This is a bit of a kludgy argument but this is the correct result.  The inverse is similar but picks up a $2\\pi$:\n",
      "\n",
      "\\begin{align}\n",
      "\\mathcal{F}^{-1}[\\delta(\\omega)] &= \\ootwopi \\intinf d\\omega\\ \\delta(\\omega) e^{+\\jwt} \\\\\n",
      "          &= \\ootwopi e^{- j \\cdot 0 \\cdot t} \\\\\n",
      "          &= \\ootwopi \\\\\n",
      "\\end{align}\n",
      "\n",
      "Now consider $\\delta(\\omega - \\omega_0)$:\n",
      "\n",
      "\\begin{align}\n",
      "\\mathcal{F}^{-1}[\\delta(\\omega - \\omega_0)] &= \\ootwopi \\intinf d\\omega\\ \\delta(\\omega - \\omega_0) e^{+\\jwt} \\\\\n",
      "          &= \\ootwopi e^{- j \\omega_0 t}\n",
      "\\end{align}"
     ]
    },
    {
     "cell_type": "markdown",
     "metadata": {},
     "source": [
      "### Sinusoid\n",
      "\n",
      "Consider $\\cos \\omega_0 t$:\n",
      "\n",
      "First rewrite consign as it's constituent exponentials. \n",
      "\n",
      "\\begin{align}\n",
      "\\cos \\omega_0 t = \\half \\left( e^{-\\jwot} + e^{+\\jwot} \\right)\n",
      "\\end{align}\n",
      "\n",
      "Nose use the fact that \n",
      "\n",
      "$$e^{-\\jwot} \\Longleftrightarrow \\twopi \\delta(\\omega - \\omega_0)$$\n",
      "\n",
      "This gives \n",
      "\n",
      "$$\\cos \\omega_0 t \\Longleftrightarrow \\pi \\left[ \\delta(\\omega - \\omega_0) + \\delta(\\omega + \\omega_0)\\right]$$"
     ]
    },
    {
     "cell_type": "markdown",
     "metadata": {},
     "source": [
      "### Unit Step function $u(t)$\n",
      "\n",
      "\\begin{align}\n",
      "U(\\omega) = \\intinf dt\\ u(t) \\emjwt\n",
      "          = \\int_{0}^{\\infty} \\emjwt\n",
      "          = \\frac{-1}{j\\omega} \\emjwt \\Biggr|_0^{\\infty}\n",
      "\\end{align}\n",
      "\n",
      "Formally, the limit above for $t \\rightarrow \\infty$ cannot be evaluated.  To get around this we consider $u(t)$ as a limiting case of a decaying exponential (shown above):\n",
      "\n",
      "$$u(t) = \\lim_{a \\rightarrow 0} e^{-at}u(t)$$\n",
      "\n",
      "so\n",
      "\n",
      "\\begin{align}\n",
      "U(\\omega) = \\lim_{a \\rightarrow 0} \\mathcal{F}\\left\\{e^{-at}u(t)\\right\\} \n",
      "          = \\lim_{a \\rightarrow 0} \\frac{1}{a + j\\omega}\n",
      "\\end{align}\n",
      "\n",
      "Now express $U(\\omega)$ in its real and imaginary parts\n",
      "\n",
      "\\begin{align}\n",
      "U(\\omega) &= \\lim_{a \\rightarrow 0} \\left\\{\\frac{a}{a^2 + \\omega^2} - j \\frac{\\omega}{a^2 + \\omega^2} \\right\\} \\\\\n",
      "          &= \\lim_{a \\rightarrow 0} \\left\\{\\frac{a}{a^2 + \\omega^2} \\right\\} + \\frac{1}{j\\omega}\n",
      "\\end{align}\n",
      "\n",
      "Notice the real part, whose shape was shown above, can be squeezed into a $\\delta$ function as you crank down $a$.  To see this recall that\n",
      "\n",
      "$$\\intinf dx\\ \\frac{a}{a^2 + x^2} = \\tan^{-1} \\frac{x}{a}\\Biggr|_{-\\infty}^{\\infty} = \\pi$$\n",
      "\n",
      "When $a \\rightarrow 0$, the real part approaches zero and the area of the integral is always $\\pi$ regardless of $a$.  This is the properties of a $\\delta$ function.  Thus\n",
      "\n",
      "\\begin{align}\n",
      "U(\\omega) &= \\pi \\delta(\\omega) + \\frac{1}{j\\omega}\n",
      "\\end{align}"
     ]
    },
    {
     "cell_type": "code",
     "collapsed": false,
     "input": [],
     "language": "python",
     "metadata": {},
     "outputs": [],
     "prompt_number": 4
    }
   ],
   "metadata": {}
  }
 ]
}